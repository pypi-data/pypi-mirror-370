{
 "cells": [
  {
   "cell_type": "markdown",
   "metadata": {},
   "source": [
    "# How to Add Your Jupyter Notebook Example\n",
    "\n",
    "Please ensure that your notebook is well-formatted for documentation and reproducible by others.\n",
    "\n",
    "## Finalizing your notebook\n",
    "\n",
    "Follow these steps to keep your notebook clean, structured, and functional:\n",
    "\n",
    "1. Ensure you are using relative file paths.\n",
    "\n",
    "- Example: `ds_nazare = xr.open_dataset('/data/s2_nazare.nc')`\n",
    "- Avoid something like `ds_nazare = xr.open_dataset('C:/Users/your_name/ray_tracing/notebooks/your_folder/data/s2_nazare.nc')`\n",
    "\n",
    "2. Include required data.\n",
    "\n",
    "- If your example requires generated data, include the code that creates it.\n",
    "- Include actual data files in a `data/` folder within your example directory.\n",
    "- Do not include synthetic data files.\n",
    "\n",
    "3. Refactor helper functions.\n",
    "\n",
    "- Move non-essential functions to a `support.py` file in your subfolder.\n",
    "- Keep function definitions in the notebook if their implementation is meaningful to the example.\n",
    "\n",
    "4. Remove unnecessary code and output.\n",
    "\n",
    "- Remove print statements used for debugging unless they add value.\n",
    "- Delete commented-out code unless it serves as a meaningful explanation.\n",
    "- Delete any unused cells.\n",
    "\n",
    "5. Present output in a clear and readable format.\n",
    "\n",
    "- Use tables, formatted strings, or labeled figures.\n",
    "- Output should be clear and understandable to the reader.\n",
    "\n",
    "6. Ensure clear markdown organization.\n",
    "\n",
    "- Use headers for organization (# Title, ## Section, ### Subsection).\n",
    "- Include a sentence or two explanation after each header.\n",
    "- Verify that markdown renders correctly, especially for math formatting.\n",
    "\n",
    "> Important note: use the `#` header only once for the title of your file. If you include it multiple times, the documentation will not render properly.\n",
    "\n",
    "7. Ensure code executes properly.\n",
    "\n",
    "- (Re)Run `pixi run -e docs develop`\n",
    "- Restart the kernel and run all cells.\n",
    "- Ensure all cells execute successfully in the `docs` environment.\n",
    "\n",
    "8. Proper style.\n",
    "\n",
    "- Use Ruff for formatting and linting:\n",
    "```\n",
    "pixi run ruff format path/to/file\n",
    "pixi run ruff check path/to/file\n",
    "```\n",
    "- Use meaningful variable names.\n",
    "- Write clear but non-redundant comments.\n",
    "- Include docstrings for functions (\"\"\"Description\"\"\").\n",
    "- Check spelling and grammar in markdown, comments, and code.\n",
    "\n",
    "## Adding your example to the documentation\n",
    "\n",
    "Now that your notebook is polished, follow these steps to include it in the notebooks gallery:\n",
    "\n",
    "9. Save your notebook in the right location.\n",
    "\n",
    "- Create a subfolder inside the `notebooks/` directory to contain your example.\n",
    "- Example: this file is located at `notebooks/tutorial/tutorial.ipynb`.\n",
    "\n",
    "10. Add notebook to the gallery.\n",
    "\n",
    "- Append your notebook filename (without `.ipynb`) to `docs/gallery_header.rst`.\n",
    "- Example: this notebook is `tutorial.ipynb`, so `tutorial` is appended to `docs/gallery_header.rst`.\n",
    "\n",
    "> Important note: If a name conflict exists, rename your notebook.\n",
    "\n",
    "11. Make sure the docs build with no error.\n",
    "\n",
    "- Run:\n",
    "```\n",
    "SPHINXOPTS=\"-W --keep-going -n\" pixi run -e docs python-docs\n",
    "```\n",
    "- Ensure there are no errors.\n",
    "- Open `docs/_build/html/index.html` in a browser and confirm your notebook appears in the gallery.\n",
    "\n",
    "12. Submit your notebook.\n",
    "\n",
    "- If everything works, open a Pull Request (PR) to add your example! 🎉\n",
    "\n",
    "13. Getting help.\n",
    "\n",
    "- If you have any questions or following these instructions does not work, please ask!"
   ]
  },
  {
   "cell_type": "markdown",
   "metadata": {},
   "source": [
    "## Example Notebook\n",
    "\n",
    "Below is an example notebook. This section of the notebook was adapted from the shear current example, formatted using the steps above."
   ]
  },
  {
   "cell_type": "code",
   "execution_count": null,
   "metadata": {},
   "outputs": [],
   "source": [
    "# include imports first, in one cell\n",
    "from mantaray.core import single_ray\n",
    "import numpy as np\n",
    "import xarray as xr\n",
    "import matplotlib.pyplot as plt"
   ]
  },
  {
   "cell_type": "markdown",
   "metadata": {},
   "source": [
    "Create and display bathymetry dataset based on a step function."
   ]
  },
  {
   "cell_type": "code",
   "execution_count": null,
   "metadata": {},
   "outputs": [
    {
     "data": {
      "image/png": "[encoded data removed]",
      "text/plain": [
       "<Figure size 640x480 with 2 Axes>"
      ]
     },
     "metadata": {},
     "output_type": "display_data"
    }
   ],
   "source": [
    "# Create Bathymetry\n",
    "NX = 300\n",
    "NY = 100\n",
    "dl = 50\n",
    "xs = np.arange(0, NX) * dl\n",
    "ys = np.arange(0, NY) * dl\n",
    "xss, yss = np.meshgrid(xs, ys)\n",
    "coords = xss * yss\n",
    "depth_max = 140\n",
    "d_depth = 20\n",
    "n_shelfs = 6\n",
    "depth = depth_max - np.floor(np.linspace(0, n_shelfs, NX, endpoint=False)) * d_depth\n",
    "bathymetry = depth * np.ones((len(ys), len(xs)))\n",
    "fig, ax = plt.subplots()\n",
    "depth = ax.contourf(xss, yss, bathymetry)\n",
    "cbar = fig.colorbar(depth)\n",
    "cbar.ax.set_ylabel(\"Depth [m]\")\n",
    "plt.show()"
   ]
  },
  {
   "cell_type": "markdown",
   "metadata": {},
   "source": [
    "Save bathymetry data as netcdf3 file."
   ]
  },
  {
   "cell_type": "code",
   "execution_count": null,
   "metadata": {},
   "outputs": [],
   "source": [
    "bathymetry_array = xr.Dataset(\n",
    "    data_vars={\"depth\": ((\"y\", \"x\"), bathymetry)},\n",
    "    coords={\"x\": (\"x\", np.float64(xs)), \"y\": (\"y\", np.float64(ys))},\n",
    ")\n",
    "bathymetry_array.to_netcdf(path=\"bathymetry.nc\", format=\"NETCDF3_CLASSIC\")"
   ]
  },
  {
   "cell_type": "markdown",
   "metadata": {},
   "source": [
    "Create null current and save it as netcdf3 file."
   ]
  },
  {
   "cell_type": "code",
   "execution_count": null,
   "metadata": {},
   "outputs": [],
   "source": [
    "null_current = xr.Dataset(\n",
    "    data_vars={\n",
    "        \"u\": ((\"x\", \"y\"), np.zeros_like(coords).T),\n",
    "        \"v\": ((\"x\", \"y\"), np.zeros_like(coords).T),\n",
    "    },\n",
    "    coords={\"y\": ys, \"x\": xs},\n",
    ")\n",
    "null_current.to_netcdf(path=\"null_current.nc\", format=\"NETCDF3_CLASSIC\")"
   ]
  },
  {
   "cell_type": "markdown",
   "metadata": {},
   "source": [
    "Define the initial ray tracing parameters for this example."
   ]
  },
  {
   "cell_type": "code",
   "execution_count": null,
   "metadata": {},
   "outputs": [],
   "source": [
    "# Define wave number\n",
    "k = 2 * np.pi / 20000  # lambda = 100m\n",
    "phi0 = 20 * np.pi / 180  # phi0 = 25 degrees from x axis\n",
    "kx = k * np.cos(phi0)\n",
    "ky = k * np.sin(phi0)\n",
    "omega = np.sqrt(depth_max * 9.81) * k\n",
    "\n",
    "# Define ray initial positon\n",
    "x0 = 50  # Offset from 0 by 1 step\n",
    "y0 = 500"
   ]
  },
  {
   "cell_type": "markdown",
   "metadata": {},
   "source": [
    "Run `single_ray` to simulate your initial ray."
   ]
  },
  {
   "cell_type": "code",
   "execution_count": null,
   "metadata": {},
   "outputs": [],
   "source": [
    "ray_evolution_raw = single_ray(\n",
    "    x0, y0, kx, ky, 1000, 0.5, bathymetry=\"bathymetry.nc\", current=\"null_current.nc\"\n",
    ")"
   ]
  },
  {
   "cell_type": "markdown",
   "metadata": {},
   "source": [
    "and so on for the rest of your notebook ..."
   ]
  }
 ],
 "metadata": {
  "kernelspec": {
   "display_name": "docs",
   "language": "python",
   "name": "python3"
  },
  "language_info": {
   "codemirror_mode": {
    "name": "ipython",
    "version": 3
   },
   "file_extension": ".py",
   "mimetype": "text/x-python",
   "name": "python",
   "nbconvert_exporter": "python",
   "pygments_lexer": "ipython3",
   "version": "3.12.8"
  }
 },
 "nbformat": 4,
 "nbformat_minor": 2
}
