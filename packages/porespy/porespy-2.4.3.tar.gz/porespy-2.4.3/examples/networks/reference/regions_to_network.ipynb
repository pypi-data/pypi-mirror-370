{
 "cells": [
  {
   "cell_type": "markdown",
   "id": "99a00c78",
   "metadata": {},
   "source": [
    "# `regions_to_network`\n",
    "\n",
    "The `regions_to_network` function is part of the `snow2` network extraction process.  This function analyzes an image of labeled regions, such as that produced by a watershed segmentation, and extracts topological connections and geometric properties.  The inner workings of this function are described by [Gostick](https://doi.org/10.1103/PhysRevE.96.023307).  To summarize, the function analyzes one region at a time, dilates that regions to see what other regions it is neighbors with to establish topology, then analyzes the distance transform within that region to determine geometric properties. "
   ]
  },
  {
   "cell_type": "code",
   "execution_count": 1,
   "id": "4a5d75cc",
   "metadata": {},
   "outputs": [],
   "source": [
    "import porespy as ps\n",
    "import matplotlib.pyplot as plt\n",
    "import numpy as np\n",
    "from edt import edt"
   ]
  },
  {
   "cell_type": "code",
   "execution_count": 5,
   "id": "3d3d5d2d",
   "metadata": {},
   "outputs": [
    {
     "data": {
      "image/png": "[encoded data removed]",
      "text/plain": [
       "<Figure size 640x480 with 1 Axes>"
      ]
     },
     "metadata": {},
     "output_type": "display_data"
    }
   ],
   "source": [
    "np.random.seed(13)\n",
    "im = ps.generators.overlapping_spheres([100, 100], r=7, porosity=0.7)\n",
    "plt.imshow(im, origin='lower', interpolation='none');"
   ]
  },
  {
   "cell_type": "code",
   "execution_count": 7,
   "id": "fb936571",
   "metadata": {},
   "outputs": [
    {
     "name": "stdout",
     "output_type": "stream",
     "text": [
      "\n",
      "    Analyzes an image that has been partitioned into pore regions and extracts\n",
      "    the pore and throat geometry as well as network connectivity.\n",
      "\n",
      "    Parameters\n",
      "    ----------\n",
      "    regions : ndarray\n",
      "        An image of the material partitioned into individual regions.\n",
      "        Zeros in this image are ignored.\n",
      "    phases : ndarray, optional\n",
      "        An image indicating to which phase each voxel belongs. The returned\n",
      "        network contains a 'pore.phase' array with the corresponding value.\n",
      "        If not given a value of 1 is assigned to every pore.\n",
      "    voxel_size : scalar (default = 1)\n",
      "        The resolution of the image, expressed as the length of one side of a\n",
      "        voxel, so the volume of a voxel would be **voxel_size**-cubed.\n",
      "    accuracy : string\n",
      "        Controls how accurately certain properties are calculated. Options are:\n",
      "\n",
      "        'standard' (default)\n",
      "            Computes the surface areas and perimeters by simply counting\n",
      "            voxels.  This is *much* faster but does not properly account\n",
      "            for the rough, voxelated nature of the surfaces.\n",
      "        'high'\n",
      "            Computes surface areas using the marching cube method, and\n",
      "            perimeters using the fast marching method.  These are substantially\n",
      "            slower but better account for the voxelated nature of the images.\n",
      "\n",
      "    Returns\n",
      "    -------\n",
      "    net : dict\n",
      "        A dictionary containing all the pore and throat size data, as well as\n",
      "        the network topological information.  The dictionary names use the\n",
      "        OpenPNM convention (i.e. 'pore.coords', 'throat.conns').\n",
      "\n",
      "    Notes\n",
      "    -----\n",
      "    The meaning of each of the values returned in ``net`` are outlined below:\n",
      "\n",
      "    'pore.region_label'\n",
      "        The region labels corresponding to the watershed extraction. The\n",
      "        pore indices and regions labels will be offset by 1, so pore 0\n",
      "        will be region 1.\n",
      "    'throat.conns'\n",
      "        An *Nt-by-2* array indicating which pores are connected to each other\n",
      "    'pore.region_label'\n",
      "        Mapping of regions in the watershed segmentation to pores in the\n",
      "        network\n",
      "    'pore.local_peak'\n",
      "        The coordinates of the location of the maxima of the distance transform\n",
      "        performed on the pore region in isolation\n",
      "    'pore.global_peak'\n",
      "        The coordinates of the location of the maxima of the distance transform\n",
      "        performed on the full image\n",
      "    'pore.geometric_centroid'\n",
      "        The center of mass of the pore region as calculated by\n",
      "        ``skimage.measure.center_of_mass``\n",
      "    'throat.global_peak'\n",
      "        The coordinates of the location of the maxima of the distance transform\n",
      "        performed on the full image\n",
      "    'pore.region_volume'\n",
      "        The volume of the pore region computed by summing the voxels\n",
      "    'pore.volume'\n",
      "        The volume of the pore found by as volume of a mesh obtained from the\n",
      "        marching cubes algorithm\n",
      "    'pore.surface_area'\n",
      "        The surface area of the pore region as calculated by either counting\n",
      "        voxels or using the fast marching method to generate a tetramesh (if\n",
      "        ``accuracy`` is set to ``'high'``.)\n",
      "    'throat.cross_sectional_area'\n",
      "        The cross-sectional area of the throat found by either counting\n",
      "        voxels or using the fast marching method to generate a tetramesh (if\n",
      "        ``accuracy`` is set to ``'high'``.)\n",
      "    'throat.perimeter'\n",
      "        The perimeter of the throat found by counting voxels on the edge of\n",
      "        the region defined by the intersection of two regions.\n",
      "    'pore.inscribed_diameter'\n",
      "        The diameter of the largest sphere inscribed in the pore region. This\n",
      "        is found as the maximum of the distance transform on the region in\n",
      "        isolation.\n",
      "    'pore.extended_diameter'\n",
      "        The diamter of the largest sphere inscribed in overal image, which\n",
      "        can extend outside the pore region. This is found as the local maximum\n",
      "        of the distance transform on the full image.\n",
      "    'throat.inscribed_diameter'\n",
      "        The diameter of the largest sphere inscribed in the throat.  This\n",
      "        is found as the local maximum of the distance transform in the area\n",
      "        where to regions meet.\n",
      "    'throat.total_length'\n",
      "        The length between pore centered via the throat center\n",
      "    'throat.direct_length'\n",
      "        The length between two pore centers on a straight line between them\n",
      "        that does not pass through the throat centroid.\n",
      "\n",
      "    Examples\n",
      "    --------\n",
      "    `Click here\n",
      "    <https://porespy.org/examples/networks/reference/regions_to_network.html>`_\n",
      "    to view online example.\n",
      "\n",
      "    \n"
     ]
    }
   ],
   "source": [
    "print(ps.networks.regions_to_network.__doc__)"
   ]
  },
  {
   "cell_type": "markdown",
   "id": "6bf46d35",
   "metadata": {},
   "source": [
    "## `regions`\n",
    "\n",
    "This is the watershed segmentation of the image, presumably computed by `ps.filters.snow_partitioning` but could actually be any watershed image."
   ]
  },
  {
   "cell_type": "code",
   "execution_count": 11,
   "id": "d687c0dc",
   "metadata": {},
   "outputs": [
    {
     "data": {
      "application/vnd.jupyter.widget-view+json": {
       "model_id": "",
       "version_major": 2,
       "version_minor": 0
      },
      "text/plain": [
       "0it [00:00, ?it/s]"
      ]
     },
     "metadata": {},
     "output_type": "display_data"
    },
    {
     "data": {
      "image/png": "[encoded data removed]",
      "text/plain": [
       "<Figure size 640x480 with 1 Axes>"
      ]
     },
     "metadata": {},
     "output_type": "display_data"
    }
   ],
   "source": [
    "snow = ps.filters.snow_partitioning(im)\n",
    "plt.imshow(snow.regions/im, origin='lower', interpolation='none');"
   ]
  },
  {
   "cell_type": "code",
   "execution_count": 23,
   "id": "df958809",
   "metadata": {},
   "outputs": [
    {
     "data": {
      "application/vnd.jupyter.widget-view+json": {
       "model_id": "",
       "version_major": 2,
       "version_minor": 0
      },
      "text/plain": [
       "Extracting pore and throat properties:   0%|          | 0/16 [00:00<?, ?it/s]"
      ]
     },
     "metadata": {},
     "output_type": "display_data"
    }
   ],
   "source": [
    "net1 = ps.networks.regions_to_network(regions=snow.regions)"
   ]
  },
  {
   "cell_type": "markdown",
   "id": "3a250120",
   "metadata": {},
   "source": [
    "The `regions_to_network` functions returns `dict` containing all the network information in OpenPNM format:"
   ]
  },
  {
   "cell_type": "code",
   "execution_count": 24,
   "id": "8a231f65",
   "metadata": {},
   "outputs": [
    {
     "name": "stdout",
     "output_type": "stream",
     "text": [
      "throat.conns\n",
      "pore.coords\n",
      "pore.all\n",
      "throat.all\n",
      "pore.region_label\n",
      "pore.phase\n",
      "throat.phases\n",
      "pore.region_volume\n",
      "pore.equivalent_diameter\n",
      "pore.local_peak\n",
      "pore.global_peak\n",
      "pore.geometric_centroid\n",
      "throat.global_peak\n",
      "pore.inscribed_diameter\n",
      "pore.extended_diameter\n",
      "throat.inscribed_diameter\n",
      "throat.total_length\n",
      "throat.direct_length\n",
      "throat.perimeter\n",
      "pore.volume\n",
      "pore.surface_area\n",
      "throat.cross_sectional_area\n",
      "throat.equivalent_diameter\n"
     ]
    }
   ],
   "source": [
    "for item in net1.keys():\n",
    "    print(item)"
   ]
  },
  {
   "cell_type": "markdown",
   "id": "6d83f1ed",
   "metadata": {},
   "source": [
    "## `phases`\n",
    "\n",
    "Optionally it is possible to perform a multiphase extraction, by passing an image with each phase labelled as follows:"
   ]
  },
  {
   "cell_type": "code",
   "execution_count": 25,
   "id": "3d4b706e",
   "metadata": {},
   "outputs": [
    {
     "data": {
      "application/vnd.jupyter.widget-view+json": {
       "model_id": "",
       "version_major": 2,
       "version_minor": 0
      },
      "text/plain": [
       "0it [00:00, ?it/s]"
      ]
     },
     "metadata": {},
     "output_type": "display_data"
    },
    {
     "data": {
      "image/png": "[encoded data removed]",
      "text/plain": [
       "<Figure size 640x480 with 1 Axes>"
      ]
     },
     "metadata": {},
     "output_type": "display_data"
    }
   ],
   "source": [
    "snow2 = ps.filters.snow_partitioning(~im)\n",
    "plt.imshow(snow2.regions, origin='lower', interpolation='none');"
   ]
  },
  {
   "cell_type": "markdown",
   "id": "bde0af13",
   "metadata": {},
   "source": [
    "We can manually combine these two watersheds:"
   ]
  },
  {
   "cell_type": "code",
   "execution_count": 26,
   "id": "a0a083f9",
   "metadata": {},
   "outputs": [
    {
     "data": {
      "image/png": "[encoded data removed]",
      "text/plain": [
       "<Figure size 640x480 with 1 Axes>"
      ]
     },
     "metadata": {},
     "output_type": "display_data"
    }
   ],
   "source": [
    "ws = snow.regions + (snow2.regions + snow.regions.max())*~im\n",
    "plt.imshow(ws, origin='lower', interpolation='none');"
   ]
  },
  {
   "cell_type": "markdown",
   "id": "94e7d432",
   "metadata": {},
   "source": [
    "Now we can send this combined watershed image, along with an image with each phase labelled as 1 and 2 to `regions_to_network`:"
   ]
  },
  {
   "cell_type": "code",
   "execution_count": 28,
   "id": "ba4b1d96",
   "metadata": {},
   "outputs": [
    {
     "data": {
      "application/vnd.jupyter.widget-view+json": {
       "model_id": "",
       "version_major": 2,
       "version_minor": 0
      },
      "text/plain": [
       "Extracting pore and throat properties:   0%|          | 0/37 [00:00<?, ?it/s]"
      ]
     },
     "metadata": {},
     "output_type": "display_data"
    }
   ],
   "source": [
    "net2 = ps.networks.regions_to_network(regions=ws, phases=im.astype(int)+1)"
   ]
  },
  {
   "cell_type": "code",
   "execution_count": 29,
   "id": "db79b5a5",
   "metadata": {},
   "outputs": [
    {
     "name": "stdout",
     "output_type": "stream",
     "text": [
      "throat.conns\n",
      "pore.coords\n",
      "pore.all\n",
      "throat.all\n",
      "pore.region_label\n",
      "pore.phase\n",
      "throat.phases\n",
      "pore.region_volume\n",
      "pore.equivalent_diameter\n",
      "pore.local_peak\n",
      "pore.global_peak\n",
      "pore.geometric_centroid\n",
      "throat.global_peak\n",
      "pore.inscribed_diameter\n",
      "pore.extended_diameter\n",
      "throat.inscribed_diameter\n",
      "throat.total_length\n",
      "throat.direct_length\n",
      "throat.perimeter\n",
      "pore.volume\n",
      "pore.surface_area\n",
      "throat.cross_sectional_area\n",
      "throat.equivalent_diameter\n"
     ]
    }
   ],
   "source": [
    "for item in net2.keys():\n",
    "    print(item)"
   ]
  },
  {
   "cell_type": "markdown",
   "id": "67f33ac9",
   "metadata": {},
   "source": [
    "Both `net1` and `net2` have `'pore.phase'` and `'throat.phases'`, but the difference is that in `net1` the values are all 1 since only a single phase was presents, while in `net2` these arrays contain boths 1's and 2's:"
   ]
  },
  {
   "cell_type": "code",
   "execution_count": 30,
   "id": "1b37cdbf",
   "metadata": {},
   "outputs": [
    {
     "data": {
      "text/plain": [
       "array([1, 1, 1, 1, 1, 1, 1, 1, 1, 1, 1, 1, 1, 1, 1, 1])"
      ]
     },
     "execution_count": 30,
     "metadata": {},
     "output_type": "execute_result"
    }
   ],
   "source": [
    "net1['pore.phase']"
   ]
  },
  {
   "cell_type": "code",
   "execution_count": 31,
   "id": "98046632",
   "metadata": {},
   "outputs": [
    {
     "data": {
      "text/plain": [
       "array([2, 2, 2, 2, 2, 2, 2, 2, 2, 2, 2, 2, 2, 2, 2, 2, 1, 1, 1, 1, 1, 1,\n",
       "       1, 1, 1, 1, 1, 1, 1, 1, 1, 1, 1, 1, 1, 1, 1])"
      ]
     },
     "execution_count": 31,
     "metadata": {},
     "output_type": "execute_result"
    }
   ],
   "source": [
    "net2['pore.phase']"
   ]
  },
  {
   "cell_type": "markdown",
   "id": "3bf021d4",
   "metadata": {},
   "source": [
    "These two arrays are used by the `label_phases` function, which takes that information and creates actual labels that can be used in OpenPNM."
   ]
  },
  {
   "cell_type": "markdown",
   "id": "4e7c8e9e",
   "metadata": {},
   "source": [
    "## `voxel_size`\n",
    "This is the voxel size of the image, as in the length of one side of a voxel.  Typical microtomography images are in the range of 1-5 um per voxel.  NanoCT can be as low as 16 nm per voxel.  FIB-SEM might be 4 nm per voxel.  Note that all properties returned from the ``snow2`` function, like 'pore.volume' will be in the same units are this value. It is *strongly* recommended to use SI, which is assumed in OpenPNM for most of the fluid property calculations. "
   ]
  },
  {
   "cell_type": "markdown",
   "id": "bc493050",
   "metadata": {},
   "source": [
    "## `accuracy`\n",
    "\n",
    "This argument can either take the value of `'high'` or `'standard'`, with standard being the default.  It is not recommended to use `'high'` since this uses some rather slow functions to measure the surface areas and perimeters.  The increase in accuracy is basically futile since (a) the image has already been reduced to a coarse voxelization and (b) the pore network abstraction discards information about the actual microstructure in exchange for speed, so spending ages on the extraction step would undermine this purpose. "
   ]
  }
 ],
 "metadata": {
  "kernelspec": {
   "display_name": "Python 3 (ipykernel)",
   "language": "python",
   "name": "python3"
  },
  "language_info": {
   "codemirror_mode": {
    "name": "ipython",
    "version": 3
   },
   "file_extension": ".py",
   "mimetype": "text/x-python",
   "name": "python",
   "nbconvert_exporter": "python",
   "pygments_lexer": "ipython3",
   "version": "3.9.15"
  }
 },
 "nbformat": 4,
 "nbformat_minor": 5
}
