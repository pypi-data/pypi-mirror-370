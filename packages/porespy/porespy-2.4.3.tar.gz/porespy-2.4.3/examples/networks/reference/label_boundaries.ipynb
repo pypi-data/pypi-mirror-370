{
 "cells": [
  {
   "cell_type": "markdown",
   "id": "ad9b9f17",
   "metadata": {},
   "source": [
    "# `label_boundaries`\n",
    "This function add boundary pore labels to the netwrok based on proximity to axis extrema.  This function should probably be part of OpenPNM since only operates on network objects, it is included here so that complete networks can be created in PoreSpy then used anywhere."
   ]
  },
  {
   "cell_type": "code",
   "execution_count": 2,
   "id": "a9512d93",
   "metadata": {
    "execution": {
     "iopub.execute_input": "2022-04-25T01:53:56.906632Z",
     "iopub.status.busy": "2022-04-25T01:53:56.906288Z",
     "iopub.status.idle": "2022-04-25T01:53:59.090242Z",
     "shell.execute_reply": "2022-04-25T01:53:59.089767Z"
    }
   },
   "outputs": [],
   "source": [
    "import numpy as np\n",
    "import porespy as ps\n",
    "import openpnm as op\n",
    "import matplotlib.pyplot as plt\n",
    "\n",
    "ws = op.Workspace()\n",
    "ws.settings['loglevel'] = 50\n",
    "np.random.seed(10)\n",
    "ps.visualization.set_mpl_style()"
   ]
  },
  {
   "cell_type": "markdown",
   "id": "5ae1156e",
   "metadata": {},
   "source": [
    "## `network`\n",
    "Any network `dict` in OpenPNM format will work, but presumably this will come from an extracted network:"
   ]
  },
  {
   "cell_type": "code",
   "execution_count": 4,
   "id": "40c9902f",
   "metadata": {},
   "outputs": [
    {
     "data": {
      "application/vnd.jupyter.widget-view+json": {
       "model_id": "",
       "version_major": 2,
       "version_minor": 0
      },
      "text/plain": [
       "0it [00:00, ?it/s]"
      ]
     },
     "metadata": {},
     "output_type": "display_data"
    },
    {
     "data": {
      "application/vnd.jupyter.widget-view+json": {
       "model_id": "",
       "version_major": 2,
       "version_minor": 0
      },
      "text/plain": [
       "Extracting pore and throat properties:   0%|          | 0/12 [00:00<?, ?it/s]"
      ]
     },
     "metadata": {},
     "output_type": "display_data"
    }
   ],
   "source": [
    "im = ps.generators.overlapping_spheres([100, 100], r=7, porosity=0.7)\n",
    "snow = ps.filters.snow_partitioning(im)\n",
    "net = ps.networks.regions_to_network(snow.regions)"
   ]
  },
  {
   "cell_type": "code",
   "execution_count": 7,
   "id": "260280af",
   "metadata": {
    "execution": {
     "iopub.execute_input": "2022-04-25T01:53:59.093534Z",
     "iopub.status.busy": "2022-04-25T01:53:59.093338Z",
     "iopub.status.idle": "2022-04-25T01:53:59.118208Z",
     "shell.execute_reply": "2022-04-25T01:53:59.117607Z"
    }
   },
   "outputs": [
    {
     "name": "stdout",
     "output_type": "stream",
     "text": [
      "throat.conns\n",
      "pore.coords\n",
      "pore.all\n",
      "throat.all\n",
      "pore.region_label\n",
      "pore.phase\n",
      "throat.phases\n",
      "pore.region_volume\n",
      "pore.equivalent_diameter\n",
      "pore.local_peak\n",
      "pore.global_peak\n",
      "pore.geometric_centroid\n",
      "throat.global_peak\n",
      "pore.inscribed_diameter\n",
      "pore.extended_diameter\n",
      "throat.inscribed_diameter\n",
      "throat.total_length\n",
      "throat.direct_length\n",
      "throat.perimeter\n",
      "pore.volume\n",
      "pore.surface_area\n",
      "throat.cross_sectional_area\n",
      "throat.equivalent_diameter\n",
      "pore.boundary\n",
      "pore.left\n",
      "pore.right\n",
      "pore.front\n",
      "pore.back\n",
      "pore.top\n",
      "pore.bottom\n"
     ]
    }
   ],
   "source": [
    "net = ps.networks.label_boundaries(network=net)\n",
    "for item in net.keys():\n",
    "    print(item)"
   ]
  },
  {
   "cell_type": "markdown",
   "id": "3cbca2d4",
   "metadata": {},
   "source": [
    "As can be seen, labels for `'pore.top'` and `'pore.bottom'`, etc have been added."
   ]
  },
  {
   "cell_type": "markdown",
   "id": "d93d7d20",
   "metadata": {},
   "source": [
    "## `labels`\n",
    "It is possible to specify custom labels if desried.  This should be specified as a list-of-lists, with the first list containing the labels to apply to the beginning and end of the first axis, and the second for the second axis, and so on:"
   ]
  },
  {
   "cell_type": "code",
   "execution_count": 9,
   "id": "a47600a1",
   "metadata": {},
   "outputs": [
    {
     "data": {
      "application/vnd.jupyter.widget-view+json": {
       "model_id": "",
       "version_major": 2,
       "version_minor": 0
      },
      "text/plain": [
       "Extracting pore and throat properties:   0%|          | 0/12 [00:00<?, ?it/s]"
      ]
     },
     "metadata": {},
     "output_type": "display_data"
    },
    {
     "name": "stdout",
     "output_type": "stream",
     "text": [
      "throat.conns\n",
      "pore.coords\n",
      "pore.all\n",
      "throat.all\n",
      "pore.region_label\n",
      "pore.phase\n",
      "throat.phases\n",
      "pore.region_volume\n",
      "pore.equivalent_diameter\n",
      "pore.local_peak\n",
      "pore.global_peak\n",
      "pore.geometric_centroid\n",
      "throat.global_peak\n",
      "pore.inscribed_diameter\n",
      "pore.extended_diameter\n",
      "throat.inscribed_diameter\n",
      "throat.total_length\n",
      "throat.direct_length\n",
      "throat.perimeter\n",
      "pore.volume\n",
      "pore.surface_area\n",
      "throat.cross_sectional_area\n",
      "throat.equivalent_diameter\n",
      "pore.boundary\n",
      "pore.north\n",
      "pore.south\n",
      "pore.east\n",
      "pore.west\n"
     ]
    }
   ],
   "source": [
    "net = ps.networks.regions_to_network(snow.regions)\n",
    "net = ps.networks.label_boundaries(network=net, labels=[['north', 'south'], ['east', 'west']])\n",
    "for item in net.keys():\n",
    "    print(item)"
   ]
  },
  {
   "cell_type": "markdown",
   "id": "fae56507",
   "metadata": {},
   "source": [
    "We can see that `'pore.left'` and `'pore.right'` have been replaced with `'pore.north'` and `'pore.south'`.  Of course the default labels are probably better than that.  However, the `snow2` function uses `'xmin'` and `'xmax'` which is more generic and universal than `'left'` and `'right'`."
   ]
  }
 ],
 "metadata": {
  "kernelspec": {
   "display_name": "Python 3 (ipykernel)",
   "language": "python",
   "name": "python3"
  },
  "language_info": {
   "codemirror_mode": {
    "name": "ipython",
    "version": 3
   },
   "file_extension": ".py",
   "mimetype": "text/x-python",
   "name": "python",
   "nbconvert_exporter": "python",
   "pygments_lexer": "ipython3",
   "version": "3.9.15"
  }
 },
 "nbformat": 4,
 "nbformat_minor": 5
}
