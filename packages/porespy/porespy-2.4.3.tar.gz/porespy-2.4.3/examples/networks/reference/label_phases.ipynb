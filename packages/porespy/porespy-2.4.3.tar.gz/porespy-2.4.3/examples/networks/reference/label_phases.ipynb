{
 "cells": [
  {
   "cell_type": "markdown",
   "id": "1aa4ee76",
   "metadata": {},
   "source": [
    "# `label_phases`\n",
    "\n",
    "Version 2 of PoreSpy included the ability to perform network extractions on images that contain multiple phases, as outlined by [Khan et al](https://doi.org/10.1016/j.compchemeng.2018.12.025).  The `regions_to_network` function includes the ability to label each pore with the phase to which it belongs, but does nothing else.  The `label_phases` function then analyzes the network output by `regions_to_network` to create the labels that can be used within OpenPNM."
   ]
  },
  {
   "cell_type": "code",
   "execution_count": 1,
   "id": "e74b9342",
   "metadata": {},
   "outputs": [],
   "source": [
    "import porespy as ps\n",
    "import openpnm as op\n",
    "import matplotlib.pyplot as plt\n",
    "import numpy as np\n",
    "from edt import edt\n",
    "import scipy.ndimage as spim"
   ]
  },
  {
   "cell_type": "code",
   "execution_count": 3,
   "id": "0b684097",
   "metadata": {},
   "outputs": [
    {
     "data": {
      "application/vnd.jupyter.widget-view+json": {
       "model_id": "",
       "version_major": 2,
       "version_minor": 0
      },
      "text/plain": [
       "0it [00:00, ?it/s]"
      ]
     },
     "metadata": {},
     "output_type": "display_data"
    },
    {
     "data": {
      "application/vnd.jupyter.widget-view+json": {
       "model_id": "",
       "version_major": 2,
       "version_minor": 0
      },
      "text/plain": [
       "0it [00:00, ?it/s]"
      ]
     },
     "metadata": {},
     "output_type": "display_data"
    },
    {
     "data": {
      "image/png": "[encoded data removed]",
      "text/plain": [
       "<Figure size 640x480 with 1 Axes>"
      ]
     },
     "metadata": {},
     "output_type": "display_data"
    }
   ],
   "source": [
    "np.random.seed(13)\n",
    "im = ps.generators.overlapping_spheres([100, 100], r=7, porosity=0.7)\n",
    "snow = ps.filters.snow_partitioning_n(im=im.astype(int) + 1)\n",
    "ps.imshow(snow.regions, origin='lower', interpolation='none');"
   ]
  },
  {
   "cell_type": "markdown",
   "id": "602617d5",
   "metadata": {},
   "source": [
    "## `network`\n",
    "The dictionary returned from the `regions_to_network` function must be supplied:"
   ]
  },
  {
   "cell_type": "code",
   "execution_count": 6,
   "id": "db0f2f63",
   "metadata": {},
   "outputs": [
    {
     "data": {
      "application/vnd.jupyter.widget-view+json": {
       "model_id": "",
       "version_major": 2,
       "version_minor": 0
      },
      "text/plain": [
       "Extracting pore and throat properties:   0%|          | 0/37 [00:00<?, ?it/s]"
      ]
     },
     "metadata": {},
     "output_type": "display_data"
    }
   ],
   "source": [
    "net = ps.networks.regions_to_network(regions=snow.regions, phases=snow.im)"
   ]
  },
  {
   "cell_type": "code",
   "execution_count": 8,
   "id": "3dd47ae4",
   "metadata": {},
   "outputs": [],
   "source": [
    "net = ps.networks.label_phases(network=net)"
   ]
  },
  {
   "cell_type": "code",
   "execution_count": 9,
   "id": "814d2388",
   "metadata": {},
   "outputs": [
    {
     "name": "stdout",
     "output_type": "stream",
     "text": [
      "throat.conns\n",
      "pore.coords\n",
      "pore.all\n",
      "throat.all\n",
      "pore.region_label\n",
      "pore.phase\n",
      "throat.phases\n",
      "pore.region_volume\n",
      "pore.equivalent_diameter\n",
      "pore.local_peak\n",
      "pore.global_peak\n",
      "pore.geometric_centroid\n",
      "throat.global_peak\n",
      "pore.inscribed_diameter\n",
      "pore.extended_diameter\n",
      "throat.inscribed_diameter\n",
      "throat.total_length\n",
      "throat.direct_length\n",
      "throat.perimeter\n",
      "pore.volume\n",
      "pore.surface_area\n",
      "throat.cross_sectional_area\n",
      "throat.equivalent_diameter\n",
      "pore.void\n",
      "throat.void_void\n",
      "throat.void_solid\n",
      "pore.solid\n",
      "throat.solid_void\n",
      "throat.solid_solid\n"
     ]
    }
   ],
   "source": [
    "for item in net.keys():\n",
    "    print(item)"
   ]
  },
  {
   "cell_type": "markdown",
   "id": "aa8693de",
   "metadata": {},
   "source": [
    "In the above print-out we can see that several labels have been added to the list, such as `'throat.void_void'` which is ``True`` for all throats which connect a void pore to another void pore, and so forth."
   ]
  },
  {
   "cell_type": "markdown",
   "id": "e0a0b07d",
   "metadata": {},
   "source": [
    "## `alias`\n",
    "We can override the default names of `'solid'` and `'void'` by providing a `dict` which maps the phase number to our desired name as follows:"
   ]
  },
  {
   "cell_type": "code",
   "execution_count": 12,
   "id": "3c840527",
   "metadata": {},
   "outputs": [
    {
     "data": {
      "application/vnd.jupyter.widget-view+json": {
       "model_id": "",
       "version_major": 2,
       "version_minor": 0
      },
      "text/plain": [
       "Extracting pore and throat properties:   0%|          | 0/37 [00:00<?, ?it/s]"
      ]
     },
     "metadata": {},
     "output_type": "display_data"
    },
    {
     "name": "stdout",
     "output_type": "stream",
     "text": [
      "throat.conns\n",
      "pore.coords\n",
      "pore.all\n",
      "throat.all\n",
      "pore.region_label\n",
      "pore.phase\n",
      "throat.phases\n",
      "pore.region_volume\n",
      "pore.equivalent_diameter\n",
      "pore.local_peak\n",
      "pore.global_peak\n",
      "pore.geometric_centroid\n",
      "throat.global_peak\n",
      "pore.inscribed_diameter\n",
      "pore.extended_diameter\n",
      "throat.inscribed_diameter\n",
      "throat.total_length\n",
      "throat.direct_length\n",
      "throat.perimeter\n",
      "pore.volume\n",
      "pore.surface_area\n",
      "throat.cross_sectional_area\n",
      "throat.equivalent_diameter\n",
      "pore.void\n",
      "throat.void_void\n",
      "throat.void_grain\n",
      "pore.grain\n",
      "throat.grain_void\n",
      "throat.grain_grain\n"
     ]
    }
   ],
   "source": [
    "net = ps.networks.regions_to_network(regions=snow.regions, phases=snow.im)\n",
    "net = ps.networks.label_phases(network=net, alias={1: 'void', 2: 'grain'})\n",
    "for item in net.keys():\n",
    "    print(item)"
   ]
  },
  {
   "cell_type": "markdown",
   "id": "162f5169",
   "metadata": {},
   "source": [
    "Now we can see that `'solid'` and `'void'` have been replaced by `'void'` and `'grain'`."
   ]
  }
 ],
 "metadata": {
  "kernelspec": {
   "display_name": "Python 3 (ipykernel)",
   "language": "python",
   "name": "python3"
  },
  "language_info": {
   "codemirror_mode": {
    "name": "ipython",
    "version": 3
   },
   "file_extension": ".py",
   "mimetype": "text/x-python",
   "name": "python",
   "nbconvert_exporter": "python",
   "pygments_lexer": "ipython3",
   "version": "3.9.15"
  }
 },
 "nbformat": 4,
 "nbformat_minor": 5
}
