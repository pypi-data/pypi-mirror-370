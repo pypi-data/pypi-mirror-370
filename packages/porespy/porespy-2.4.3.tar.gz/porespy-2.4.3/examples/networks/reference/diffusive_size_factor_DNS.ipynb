{
 "cells": [
  {
   "cell_type": "markdown",
   "metadata": {},
   "source": [
    "# `diffusive_size_factor_DNS`"
   ]
  },
  {
   "cell_type": "markdown",
   "metadata": {},
   "source": [
    "PoreSpy's `diffusive_size_factor_DNS` includes the steps for predicting the diffusive size factors of the conduit images decribed [here](https://doi.org/10.1016/j.cageo.2022.105086). Note that the diffusive conductance of the conduits can be then calculated by multiplying the size factor by diffusivity of the phase. The function takes in the images of segmented porous medium and returns an array of diffusive size factors for all conduits in the image. Therefore, the framework can be applied to both one conduit image as well as a segmented image of porous medium."
   ]
  },
  {
   "cell_type": "code",
   "execution_count": 1,
   "metadata": {},
   "outputs": [
    {
     "data": {
      "text/plain": [
       "<Signature (regions, throat_conns, voxel_size=1)>"
      ]
     },
     "execution_count": 1,
     "metadata": {},
     "output_type": "execute_result"
    }
   ],
   "source": [
    "import inspect\n",
    "import warnings\n",
    "import numpy as np\n",
    "import porespy as ps\n",
    "import scipy as sp\n",
    "from matplotlib import pyplot as plt\n",
    "\n",
    "ps.visualization.set_mpl_style()\n",
    "warnings.filterwarnings(\"ignore\")\n",
    "inspect.signature(ps.networks.diffusive_size_factor_DNS)"
   ]
  },
  {
   "cell_type": "markdown",
   "metadata": {},
   "source": [
    "## `regions`"
   ]
  },
  {
   "cell_type": "markdown",
   "metadata": {},
   "source": [
    "We can create a 3D image using PoreSpy's `poly_disperese_spheres` generator and segment the image using `snow_partitioning` method or `snow2` network extraction method."
   ]
  },
  {
   "cell_type": "code",
   "execution_count": 2,
   "metadata": {},
   "outputs": [
    {
     "data": {
      "application/json": {
       "ascii": false,
       "bar_format": null,
       "colour": null,
       "elapsed": 0.020148754119873047,
       "initial": 0,
       "n": 0,
       "ncols": null,
       "nrows": 29,
       "postfix": null,
       "prefix": "",
       "rate": null,
       "total": null,
       "unit": "it",
       "unit_divisor": 1000,
       "unit_scale": false
      },
      "application/vnd.jupyter.widget-view+json": {
       "model_id": "",
       "version_major": 2,
       "version_minor": 0
      },
      "text/plain": [
       "0it [00:00, ?it/s]"
      ]
     },
     "metadata": {},
     "output_type": "display_data"
    },
    {
     "data": {
      "image/png": "[encoded data removed]",
      "text/plain": [
       "<Figure size 288x288 with 1 Axes>"
      ]
     },
     "metadata": {
      "image/png": {
       "height": 276,
       "width": 276
      },
      "needs_background": "light"
     },
     "output_type": "display_data"
    }
   ],
   "source": [
    "np.random.seed(10)\n",
    "shape = [40, 40, 40]\n",
    "dist = sp.stats.norm(loc=7, scale=5)\n",
    "im = ps.generators.polydisperse_spheres(shape=shape,\n",
    "                                        porosity=0.7,\n",
    "                                        dist=dist,\n",
    "                                        r_min=3)\n",
    "\n",
    "results = ps.filters.snow_partitioning(im=im.astype(bool))\n",
    "regions = results['regions']\n",
    "fig, ax = plt.subplots(1, 1, figsize=[4, 4])\n",
    "ax.imshow(regions[:, :, 5], origin='lower', interpolation='none')\n",
    "ax.axis(False);"
   ]
  },
  {
   "cell_type": "markdown",
   "metadata": {},
   "source": [
    "## `throat_conns`"
   ]
  },
  {
   "cell_type": "markdown",
   "metadata": {},
   "source": [
    "PoreSpy's `diffusive_size_factor_DNS` method takes in the segmented image and the conncetions of regions in the segmented image (throat conns). In this example we have created an image with voxel_size=1. For a different voxel size, the voxel_size argument needs to be passed to the method."
   ]
  },
  {
   "cell_type": "markdown",
   "metadata": {},
   "source": [
    "Note that `find_conns` method returns the connections in the segmented region. The order of values in conns is similar to the network extraction conns. Therefore, the region with label=1 in the segmented image is mapped to indice 0 in conns."
   ]
  },
  {
   "cell_type": "code",
   "execution_count": 3,
   "metadata": {},
   "outputs": [
    {
     "data": {
      "application/json": {
       "ascii": false,
       "bar_format": null,
       "colour": null,
       "elapsed": 0.017826318740844727,
       "initial": 0,
       "n": 0,
       "ncols": null,
       "nrows": 29,
       "postfix": null,
       "prefix": "Preparing images and DNS calculations",
       "rate": null,
       "total": 93,
       "unit": "it",
       "unit_divisor": 1000,
       "unit_scale": false
      },
      "application/vnd.jupyter.widget-view+json": {
       "model_id": "",
       "version_major": 2,
       "version_minor": 0
      },
      "text/plain": [
       "Preparing images and DNS calculations:   0%|          | 0/93 [00:00<?, ?it/s]"
      ]
     },
     "metadata": {},
     "output_type": "display_data"
    }
   ],
   "source": [
    "conns = ps.networks.find_conns(regions)\n",
    "size_factors = ps.networks.diffusive_size_factor_DNS(regions,\n",
    "                                                    throat_conns=conns)"
   ]
  },
  {
   "cell_type": "markdown",
   "metadata": {},
   "source": [
    "## `voxel_size`"
   ]
  },
  {
   "cell_type": "markdown",
   "metadata": {},
   "source": [
    "By default, the `diffusive_size_factor_DNS` uses voxel_size=1. For an image with a different resolution, the voxel size needs to be passed as an argument. Let's assume that voxel size for the generated image is 1e-6 [m]:"
   ]
  },
  {
   "cell_type": "code",
   "execution_count": 4,
   "metadata": {},
   "outputs": [
    {
     "data": {
      "application/json": {
       "ascii": false,
       "bar_format": null,
       "colour": null,
       "elapsed": 0.0328059196472168,
       "initial": 0,
       "n": 0,
       "ncols": null,
       "nrows": 29,
       "postfix": null,
       "prefix": "Preparing images and DNS calculations",
       "rate": null,
       "total": 93,
       "unit": "it",
       "unit_divisor": 1000,
       "unit_scale": false
      },
      "application/vnd.jupyter.widget-view+json": {
       "model_id": "",
       "version_major": 2,
       "version_minor": 0
      },
      "text/plain": [
       "Preparing images and DNS calculations:   0%|          | 0/93 [00:00<?, ?it/s]"
      ]
     },
     "metadata": {},
     "output_type": "display_data"
    }
   ],
   "source": [
    "voxel_size = 1e-6\n",
    "size_factors = ps.networks.diffusive_size_factor_DNS(regions,\n",
    "                                                    throat_conns=conns,\n",
    "                                                    voxel_size=1e-6)"
   ]
  }
 ],
 "metadata": {
  "kernelspec": {
   "display_name": "Python 3",
   "language": "python",
   "name": "python3"
  },
  "language_info": {
   "codemirror_mode": {
    "name": "ipython",
    "version": 3
   },
   "file_extension": ".py",
   "mimetype": "text/x-python",
   "name": "python",
   "nbconvert_exporter": "python",
   "pygments_lexer": "ipython3",
   "version": "3.8.3"
  },
  "nbsphinx": {
   "execute": "auto"
  },
  "vscode": {
   "interpreter": {
    "hash": "b58bd5559424689280ce24ff6229e536533c877108d283a6d2846312dfd182d7"
   }
  }
 },
 "nbformat": 4,
 "nbformat_minor": 4
}
