{
 "cells": [
  {
   "cell_type": "markdown",
   "metadata": {},
   "source": [
    "# `trim_disconnected_blobs`\n",
    "``trim_disconnected_blobs`` is a function which removes blobs that are not connected to specified inlets.  Blobs are any clusters of ``True`` voxels, so this can be used to analyze both solid or void phase by inverting the image as needed."
   ]
  },
  {
   "cell_type": "code",
   "execution_count": 1,
   "metadata": {
    "execution": {
     "iopub.execute_input": "2022-04-25T01:56:15.335570Z",
     "iopub.status.busy": "2022-04-25T01:56:15.335229Z",
     "iopub.status.idle": "2022-04-25T01:56:17.695171Z",
     "shell.execute_reply": "2022-04-25T01:56:17.694553Z"
    }
   },
   "outputs": [],
   "source": [
    "import numpy as np\n",
    "import porespy as ps\n",
    "import scipy.ndimage as spim\n",
    "import scipy\n",
    "import matplotlib.pyplot as plt\n",
    "ps.visualization.set_mpl_style()"
   ]
  },
  {
   "cell_type": "code",
   "execution_count": 2,
   "metadata": {
    "execution": {
     "iopub.execute_input": "2022-04-25T01:56:17.698506Z",
     "iopub.status.busy": "2022-04-25T01:56:17.698289Z",
     "iopub.status.idle": "2022-04-25T01:56:17.701987Z",
     "shell.execute_reply": "2022-04-25T01:56:17.701464Z"
    }
   },
   "outputs": [
    {
     "name": "stdout",
     "output_type": "stream",
     "text": [
      "(im, inlets, strel=None)\n"
     ]
    }
   ],
   "source": [
    "import inspect\n",
    "print(inspect.signature(ps.filters.trim_disconnected_blobs))"
   ]
  },
  {
   "cell_type": "markdown",
   "metadata": {},
   "source": [
    "##  `im` and `inlets`\n",
    "The image contains ``True`` values indicating the phase of interest.  `inlets` can be custom created to indicate which blobs to trim."
   ]
  },
  {
   "cell_type": "code",
   "execution_count": 3,
   "metadata": {
    "execution": {
     "iopub.execute_input": "2022-04-25T01:56:17.708310Z",
     "iopub.status.busy": "2022-04-25T01:56:17.708068Z",
     "iopub.status.idle": "2022-04-25T01:56:17.833158Z",
     "shell.execute_reply": "2022-04-25T01:56:17.832625Z"
    }
   },
   "outputs": [
    {
     "data": {
      "image/svg+xml": [
       "<?xml version=\"1.0\" encoding=\"utf-8\" standalone=\"no\"?>\n",
       "<!DOCTYPE svg PUBLIC \"-//W3C//DTD SVG 1.1//EN\"\n",
       "  \"http://www.w3.org/Graphics/SVG/1.1/DTD/svg11.dtd\">\n",
       "<svg xmlns:xlink=\"http://www.w3.org/1999/xlink\" width=\"1059.84pt\" height=\"348.48pt\" viewBox=\"0 0 1059.84 348.48\" xmlns=\"http://www.w3.org/2000/svg\" version=\"1.1\">\n",
       " <metadata>\n",
       "  <rdf:RDF xmlns:dc=\"http://purl.org/dc/elements/1.1/\" xmlns:cc=\"http://creativecommons.org/ns#\" xmlns:rdf=\"http://www.w3.org/1999/02/22-rdf-syntax-ns#\">\n",
       "   <cc:Work>\n",
       "    <dc:type rdf:resource=\"http://purl.org/dc/dcmitype/StillImage\"/>\n",
       "    <dc:date>2022-04-24T21:56:17.820599</dc:date>\n",
       "    <dc:format>image/svg+xml</dc:format>\n",
       "    <dc:creator>\n",
       "     <cc:Agent>\n",
       "      <dc:title>Matplotlib v3.5.1, https://matplotlib.org/</dc:title>\n",
       "     </cc:Agent>\n",
       "    </dc:creator>\n",
       "   </cc:Work>\n",
       "  </rdf:RDF>\n",
       " </metadata>\n",
       " <defs>\n",
       "  <style type=\"text/css\">*{stroke-linejoin: round; stroke-linecap: butt}</style>\n",
       " </defs>\n",
       " <g id=\"figure_1\">\n",
       "  <g id=\"patch_1\">\n",
       "   <path d=\"M 0 348.48 \n",
       "L 1059.84 348.48 \n",
       "L 1059.84 0 \n",
       "L 0 0 \n",
       "L 0 348.48 \n",
       "z\n",
       "\" style=\"fill: none\"/>\n",
       "  </g>\n",
       "  <g id=\"axes_1\">\n",
       "   <g clip-path=\"url(#p1ddbccecbf)\">\n",
       "    <image xlink:href=\"data:image/png;base64,\n",
       "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\" id=\"imagea44c01cf56\" transform=\"matrix(3.35 0 0 -3.35 7.2 341.28)\" style=\"image-rendering:crisp-edges;image-rendering:pixelated\" width=\"100\" height=\"100\"/>\n",
       "   </g>\n",
       "  </g>\n",
       "  <g id=\"axes_2\">\n",
       "   <g clip-path=\"url(#p2879d9aabb)\">\n",
       "    <image xlink:href=\"data:image/png;base64,\n",
       "iVBORw0KGgoAAAANSUhEUgAAAGQAAABkCAYAAABw4pVUAAABHUlEQVR4nO3RQQ3CABAAwStBBe8KwAWacYEKqqIpzwYF3ceMgk122bf1GDLuMzOvx/PiDGZm3t/P3K6O4J8hMYbEGBJjSIwhMYbEGBJjSIwhMYbEGBJjSIwhMYbEGBJjSIwhMYbEGBJjSIwhMYbEGBJjSIwhMYbEGBJjSIwhMYbEGBJjSIwhMYbEGBJjSIwhMYbEGBJjSIwhMYbEGBJjSIwhMYbEGBJjSIwhMYbEGBJjSIwhMYbEGBJjSIwhMYbEGBJjSIwhMYbEGBJjSIwhMYbEGBJjSIwhMYbEGBJjSIwhMYbEGBJjSIwhMYbEGBJjSIwhMYbEGBJjSIwhMYbEGBJjSIwhMYbEGBJjSIwhMYbEGBJjSMyyb+txdQSnH40jCdclyOVyAAAAAElFTkSuQmCC\" id=\"image3ff0f61ad6\" transform=\"matrix(3.35 0 0 -3.35 362.88 341.28)\" style=\"image-rendering:crisp-edges;image-rendering:pixelated\" width=\"100\" height=\"100\"/>\n",
       "   </g>\n",
       "  </g>\n",
       "  <g id=\"axes_3\">\n",
       "   <g clip-path=\"url(#p33961cbd2b)\">\n",
       "    <image xlink:href=\"data:image/png;base64,\n",
       "iVBORw0KGgoAAAANSUhEUgAAAGQAAABkCAYAAABw4pVUAAAFdElEQVR4nO1d2VHkMBD1TBHFfG8ABEEVCZAsWRAFG8UWfHlKo9HRx2vpyd73BYUttfpWq2Uub5ePn02Jz++v+8/vt1fTezVoxps5V2380pgSWnZcUYRIgGI2AzRr0Tz7kv5SYvY+mEcQjEAoRwRv7hZSG/Tz+6s5IVpQIwQfaakaV1bCtcfwGYii5/32GiKMfEyPUNQxpIQIBnoUhU3BUvSU4vLv7x91llWbSAorw6RzeN3GSOS0QixkFI6Y4eUW81J/9DhgFUaKncalLGTb9FaygjBS3C3Es8NkWzQbPRpcW1F/5YWtiq7LYhMKGz1oTIkhLaZGbd5WgUggoxiUzlOa8wyCEqe977fX4TvgMwggx3Jp79EB2RjmlmPV7M/vr1NaRQqxhWjcVe9Z5uLfbIS5rP9Mt2FKLauWILQSh7O4sjCB9BioZfBZ4ovYZZ2BGQxQxRCpUDzCO3tdTR3Uz8KYWYBnWSOaCGZhREMI5U6dRQApUkFECgXauXhE66hZRZRQVGkvkoh9LGQQt/YcS8ar/R2tMCILQfrOfCzkuK3fo4COK0N36kcup6Csc1hQjxRGqy95BjzzQgXCaAGzmuus84qPcD1tnJ5y/Ojuewm8La0tXLQ3qCIZ0Osit/aOeTOhWnyIaNqjEsgOSRl+dBNfnqYj+FCijbK3F+GiZlzKsY6T0lq9jtBaEGPw3rGCIEroNlszM72G2WUWD/bkpZlltfz4you3YJSCim5Q9ZgfTazUfUYpyUhvARHItsVcpJ9thTPctviOoSXIexIDa7U3+ksQ0hu3rXda77kb5djadhBajVyT9nhBVcvKy+asmVjvIwhIuntXK7QwnRhGuJvSPKj3SzSjKsRoD6G6jtAjAg3vYlE9xlrmepKgy9vl48ei8Qgr8Qp2hJJExMIWrffiolYbNQxYtQyzbXiB9NZrPqBCfUqDedcfLYx97SkPrqUHZ4BNKNH01MbvBvXWZgt97zDqY2mWzVwEJK77ZX9w5Emg5XkrfcjN3Ag8nBhauhJH7El6qF3+Qb8ThZSWB5fVspSS6xrdVho1F1P8eoohUqazCMOKXflm05rzUd3kUBqkhNkLXQElPlI2OeyQtAEhxp+hPDWlDhOIxB1oGVJ63ppU5MXHkUJp0TzNQiQM6aXjEtdpESIKlnkob1BJoS3ftI4OGKoV22Y4oEKUrD2xIX/2aMlDyLdONBhdCa4VM1kEW/0YP+tZgycAp++NEIClJHWv9iJ9K0LrWXy6F70z9/zvsE+NSwiRxg4mi0RCkuYPS3uPovEeSBSiGdRRp3nsqSYTqgLxBkDGWLGCAqjuh0SloSUwHZiNRNFCtO2PLbTcHrrrTwpmSylaCGqzFhl/ou/6eWE9kXyyEDZzLpVKIsrwSKvxjEV9HrID0aggrQyj+s2s4z9ZCEpTZjU3zJ7bi6KF1CQ5OxiOODrWHKxFoOqyZjM/x8z9SlQDXwmmGDK6E3C2cqADfngtK7rz0Qtpy1LkzSrp2Et8JtaT+cxQlN4BWPN+iLb8Lil1RAstMhNEXiIqoVeCb/6XNlasRq8Gd5e1mmBW7eft8bna26upxTAH9BQz9xdSNHt7pXGBfcesEQSidOJZN+Tf5jFbTqRVtNZtHRf2nz4ZhTLbRVkE0/2AGYJoxtM/pqPjtM0VWn6vJQTRsURTKWC5aFSjoxjUme7fadEK0FHC0CYWop269IXac7MuvfSYLrEeFO09vkkE91A68RTaRgskshAYAXdxcRUX5QXbOh9KJ1awLUqKkXRL57pqHj4SWNd8ZSWsB2szH3sR1X3HkGVxKaNZaMoB6X5nxi4E5itqOXp00TTKofc0DIXNGlrrcxUXo7SQmZnR+AX9CbZH+sWqqQAAAABJRU5ErkJggg==\" id=\"image7a69285a87\" transform=\"matrix(3.35 0 0 -3.35 718.56 341.28)\" style=\"image-rendering:crisp-edges;image-rendering:pixelated\" width=\"100\" height=\"100\"/>\n",
       "   </g>\n",
       "  </g>\n",
       " </g>\n",
       " <defs>\n",
       "  <clipPath id=\"p1ddbccecbf\">\n",
       "   <rect x=\"7.2\" y=\"7.2\" width=\"334.08\" height=\"334.08\"/>\n",
       "  </clipPath>\n",
       "  <clipPath id=\"p2879d9aabb\">\n",
       "   <rect x=\"362.88\" y=\"7.2\" width=\"334.08\" height=\"334.08\"/>\n",
       "  </clipPath>\n",
       "  <clipPath id=\"p33961cbd2b\">\n",
       "   <rect x=\"718.56\" y=\"7.2\" width=\"334.08\" height=\"334.08\"/>\n",
       "  </clipPath>\n",
       " </defs>\n",
       "</svg>\n"
      ],
      "text/plain": [
       "<Figure size 1080x360 with 3 Axes>"
      ]
     },
     "metadata": {
      "needs_background": "light"
     },
     "output_type": "display_data"
    }
   ],
   "source": [
    "np.random.seed(0)\n",
    "im = ps.generators.blobs(shape=[100, 100], porosity=0.4)\n",
    "inlets = ps.tools.get_border(shape=im.shape, mode='faces')\n",
    "im2 = ps.filters.trim_disconnected_blobs(im, inlets)\n",
    "\n",
    "fig, ax = plt.subplots(1, 3, figsize=[15, 5])\n",
    "ax[0].imshow(im, origin='lower', interpolation='none')\n",
    "ax[0].axis(False)\n",
    "ax[1].imshow(inlets, origin='lower', interpolation='none')\n",
    "ax[1].axis(False)\n",
    "ax[2].imshow(im2, origin='lower', interpolation='none')\n",
    "ax[2].axis(False);"
   ]
  },
  {
   "cell_type": "markdown",
   "metadata": {},
   "source": [
    "## `strel`\n",
    "A structuring element can be provided to indicate how to determine whether clusters of voxels are connected or not."
   ]
  },
  {
   "cell_type": "code",
   "execution_count": 4,
   "metadata": {
    "execution": {
     "iopub.execute_input": "2022-04-25T01:56:17.836171Z",
     "iopub.status.busy": "2022-04-25T01:56:17.835995Z",
     "iopub.status.idle": "2022-04-25T01:56:17.995261Z",
     "shell.execute_reply": "2022-04-25T01:56:17.994742Z"
    }
   },
   "outputs": [
    {
     "data": {
      "image/svg+xml": [
       "<?xml version=\"1.0\" encoding=\"utf-8\" standalone=\"no\"?>\n",
       "<!DOCTYPE svg PUBLIC \"-//W3C//DTD SVG 1.1//EN\"\n",
       "  \"http://www.w3.org/Graphics/SVG/1.1/DTD/svg11.dtd\">\n",
       "<svg xmlns:xlink=\"http://www.w3.org/1999/xlink\" width=\"846pt\" height=\"420.48pt\" viewBox=\"0 0 846 420.48\" xmlns=\"http://www.w3.org/2000/svg\" version=\"1.1\">\n",
       " <metadata>\n",
       "  <rdf:RDF xmlns:dc=\"http://purl.org/dc/elements/1.1/\" xmlns:cc=\"http://creativecommons.org/ns#\" xmlns:rdf=\"http://www.w3.org/1999/02/22-rdf-syntax-ns#\">\n",
       "   <cc:Work>\n",
       "    <dc:type rdf:resource=\"http://purl.org/dc/dcmitype/StillImage\"/>\n",
       "    <dc:date>2022-04-24T21:56:17.986992</dc:date>\n",
       "    <dc:format>image/svg+xml</dc:format>\n",
       "    <dc:creator>\n",
       "     <cc:Agent>\n",
       "      <dc:title>Matplotlib v3.5.1, https://matplotlib.org/</dc:title>\n",
       "     </cc:Agent>\n",
       "    </dc:creator>\n",
       "   </cc:Work>\n",
       "  </rdf:RDF>\n",
       " </metadata>\n",
       " <defs>\n",
       "  <style type=\"text/css\">*{stroke-linejoin: round; stroke-linecap: butt}</style>\n",
       " </defs>\n",
       " <g id=\"figure_1\">\n",
       "  <g id=\"patch_1\">\n",
       "   <path d=\"M 0 420.48 \n",
       "L 846 420.48 \n",
       "L 846 0 \n",
       "L 0 0 \n",
       "L 0 420.48 \n",
       "z\n",
       "\" style=\"fill: none\"/>\n",
       "  </g>\n",
       "  <g id=\"axes_1\">\n",
       "   <g clip-path=\"url(#p58e99ea0b3)\">\n",
       "    <image xlink:href=\"data:image/png;base64,\n",
       "iVBORw0KGgoAAAANSUhEUgAAAGQAAABkCAYAAABw4pVUAAAFX0lEQVR4nO1dyXEjMQwcqRSF3xuAg3CVE3CyysJReKPY8r6oGlE8cDTI5kj92i3PkCBOEgRGp4/T1++mxPXn+/bvz7d303s1aMabOVdt/NKYEloSzihCJEAxmwGatWievez/U2J2GswjCEYglCOCNzcLqQ16/fluTogW1AjBR1qqxpWVcO4xfAai6Pl8ew8RRj6mRyjqGFJCBAM9isKmYHv0lOL07+8f9S6rNpEUVoZJ5/C6jZHIaYVYyCgccYeXW8yl/uhxwCqMPRKNS1nItumtZAVh7HGzEM8Jk23RbPRocG5F/ZUXtiq6LotNKGz0oDElhrSYGnV4WwUigYxi0H6e0pzPICjxtvfz7X34CfgZBJBjuW3v0QE5GOaWY9Xs68/3U1rFHmIL0bir3rPMyb/ZCHNZL6bbQLXtfXZ3tW2BycUec1/ML0NsIS8GjoHKZUmF8hKeHeoY8mJ2LOBB/cgCG1EQ8jqpC7EXRKRQoJWLR7SOmlVECUUlECQREeafxkSNOyPjIBIIepER5p+PMypTgFasoVUnR06nWDsCcgwL6pHCaNUlz4BnXqhAGC1gVnGddV7xFa6njNMTHEdX30vgLWlt4aTtoIpkQK+K3Fo75t2O1+JDRNEelUASWvf32iYZdIscskmnRBtlbS/CRc1oyrGOs6e12o7QWhBj8E5YQRAldIutmZlew8qpm7R5ae6yWn585cVbMEpBRR1UPeZHEyt1n1FKMtJbQASybTGN9LOtcIbbFvcYWoK8Z2NgEQay0E66Jus5qPaeu1COrcESodXINWlLnsz3IYz97Qm9jyAg6e61VmhhujGMcDeleVDvl2hGZYjRHkLVjtAjAg3vYlE3flrmejZBp4/T169F4xFW4hXsCCWJiIUtWm/JRa02ahiwahpm2/AC6a3XfEGF+pQG86k/Whhp7XsenEsPzgCbUKLpqY3fDeqtwxa67zDqY2mWw1wEJK77kh4ceRNoed5KH/IwNwJ3N4aWqsQRZ5IeSjRYEqIM2YU7l9WylJLrYikr9c7FFL8eYoiU6SzCsCIp32xacz6qixxKg5Qwe6EroMRHyiKHBEkZEGL8GcpTU+owgUjcgZYhpeetm4o8+ThSKC2ap1mIhCG97bjEdVqEiIJlnqU7qLTpm9bVAUO2YtsMF1SIlLUnNuTPHm3zEPKtEw1GZ4JryUwWwVY/xs961+AJwL0PpKFhSUndsr1I34rQehaf7kXvzj3/O+xT4xJCpLGDySKRkGzzh217j6LxHkgUohnUUbd57FtNJlQF4g2AjLFiBQVQ9YdEbUNLYLowG4mihWjLH1touT101Z8UzJZStBDUYS0y/kT3+nlhvZF8sBA2cy6lSiLS8Eir8YxFfR+SgChUkGaGUfVm1vEfLASlKbOKG2bP7UXRQmqSnB0MR1wday7WIlB1WbOZn2PmeSWqgK8EUwwZXQk4WznQAT88lxVd+eiFtGQpsrNKOvYSn4n17HxmKErvAqzZH6JNv0tSHdFCi9wJIpuISuil4Ju/0saK1ejV4OayVhPMqvW8PT5Xa3s1uRjmgL7HzPOFFM3aXmlcYD8xawSBSJ141g352Txmy4m0ita6rePCfumTUSizXZRFMN0PmCGIZrz9Y7o63pe5QtPvtQ1BdCzRZApYGo1qdBSDOlP/nRatAB0lDO3GQnRSl75Qe25W00uP6RLrQdHe45tEcHepE0+ibbRAIhOBEXAnF1dxUV6wrfMudWIF26KkGEm3dK6z5uEjgXXNZ1bCerAW87EnUd09hiyL2zOahaYckOp3ZiQhMLeo5ejRRVMohz7TMCQ2a2itz5VcjNJCZmZG4z9aprAIfGZW+wAAAABJRU5ErkJggg==\" id=\"image502fdfb9b5\" transform=\"matrix(4.07 0 0 -4.07 7.2 413.28)\" style=\"image-rendering:crisp-edges;image-rendering:pixelated\" width=\"100\" height=\"100\"/>\n",
       "   </g>\n",
       "  </g>\n",
       "  <g id=\"axes_2\">\n",
       "   <g clip-path=\"url(#pbe6555b9c0)\">\n",
       "    <image xlink:href=\"data:image/png;base64,\n",
       "iVBORw0KGgoAAAANSUhEUgAAAGQAAABkCAYAAABw4pVUAAAFdElEQVR4nO1d2VHkMBD1TBHFfG8ABEEVCZAsWRAFG8UWfHlKo9HRx2vpyd73BYUttfpWq2Uub5ePn02Jz++v+8/vt1fTezVoxps5V2380pgSWnZcUYRIgGI2AzRr0Tz7kv5SYvY+mEcQjEAoRwRv7hZSG/Tz+6s5IVpQIwQfaakaV1bCtcfwGYii5/32GiKMfEyPUNQxpIQIBnoUhU3BUvSU4vLv7x91llWbSAorw6RzeN3GSOS0QixkFI6Y4eUW81J/9DhgFUaKncalLGTb9FaygjBS3C3Es8NkWzQbPRpcW1F/5YWtiq7LYhMKGz1oTIkhLaZGbd5WgUggoxiUzlOa8wyCEqe977fX4TvgMwggx3Jp79EB2RjmlmPV7M/vr1NaRQqxhWjcVe9Z5uLfbIS5rP9Mt2FKLauWILQSh7O4sjCB9BioZfBZ4ovYZZ2BGQxQxRCpUDzCO3tdTR3Uz8KYWYBnWSOaCGZhREMI5U6dRQApUkFECgXauXhE66hZRZRQVGkvkoh9LGQQt/YcS8ar/R2tMCILQfrOfCzkuK3fo4COK0N36kcup6Csc1hQjxRGqy95BjzzQgXCaAGzmuus84qPcD1tnJ5y/Ojuewm8La0tXLQ3qCIZ0Osit/aOeTOhWnyIaNqjEsgOSRl+dBNfnqYj+FCijbK3F+GiZlzKsY6T0lq9jtBaEGPw3rGCIEroNlszM72G2WUWD/bkpZlltfz4you3YJSCim5Q9ZgfTazUfUYpyUhvARHItsVcpJ9thTPctviOoSXIexIDa7U3+ksQ0hu3rXda77kb5djadhBajVyT9nhBVcvKy+asmVjvIwhIuntXK7QwnRhGuJvSPKj3SzSjKsRoD6G6jtAjAg3vYlE9xlrmepKgy9vl48ei8Qgr8Qp2hJJExMIWrffiolYbNQxYtQyzbXiB9NZrPqBCfUqDedcfLYx97SkPrqUHZ4BNKNH01MbvBvXWZgt97zDqY2mWzVwEJK77ZX9w5Emg5XkrfcjN3Ag8nBhauhJH7El6qF3+Qb8ThZSWB5fVspSS6xrdVho1F1P8eoohUqazCMOKXflm05rzUd3kUBqkhNkLXQElPlI2OeyQtAEhxp+hPDWlDhOIxB1oGVJ63ppU5MXHkUJp0TzNQiQM6aXjEtdpESIKlnkob1BJoS3ftI4OGKoV22Y4oEKUrD2xIX/2aMlDyLdONBhdCa4VM1kEW/0YP+tZgycAp++NEIClJHWv9iJ9K0LrWXy6F70z9/zvsE+NSwiRxg4mi0RCkuYPS3uPovEeSBSiGdRRp3nsqSYTqgLxBkDGWLGCAqjuh0SloSUwHZiNRNFCtO2PLbTcHrrrTwpmSylaCGqzFhl/ou/6eWE9kXyyEDZzLpVKIsrwSKvxjEV9HrID0aggrQyj+s2s4z9ZCEpTZjU3zJ7bi6KF1CQ5OxiOODrWHKxFoOqyZjM/x8z9SlQDXwmmGDK6E3C2cqADfngtK7rz0Qtpy1LkzSrp2Et8JtaT+cxQlN4BWPN+iLb8Lil1RAstMhNEXiIqoVeCb/6XNlasRq8Gd5e1mmBW7eft8bna26upxTAH9BQz9xdSNHt7pXGBfcesEQSidOJZN+Tf5jFbTqRVtNZtHRf2nz4ZhTLbRVkE0/2AGYJoxtM/pqPjtM0VWn6vJQTRsURTKWC5aFSjoxjUme7fadEK0FHC0CYWop269IXac7MuvfSYLrEeFO09vkkE91A68RTaRgskshAYAXdxcRUX5QXbOh9KJ1awLUqKkXRL57pqHj4SWNd8ZSWsB2szH3sR1X3HkGVxKaNZaMoB6X5nxi4E5itqOXp00TTKofc0DIXNGlrrcxUXo7SQmZnR+AX9CbZH+sWqqQAAAABJRU5ErkJggg==\" id=\"image6ab5338f0e\" transform=\"matrix(4.07 0 0 -4.07 432.72 413.28)\" style=\"image-rendering:crisp-edges;image-rendering:pixelated\" width=\"100\" height=\"100\"/>\n",
       "   </g>\n",
       "  </g>\n",
       " </g>\n",
       " <defs>\n",
       "  <clipPath id=\"p58e99ea0b3\">\n",
       "   <rect x=\"7.2\" y=\"7.2\" width=\"406.08\" height=\"406.08\"/>\n",
       "  </clipPath>\n",
       "  <clipPath id=\"pbe6555b9c0\">\n",
       "   <rect x=\"432.72\" y=\"7.2\" width=\"406.08\" height=\"406.08\"/>\n",
       "  </clipPath>\n",
       " </defs>\n",
       "</svg>\n"
      ],
      "text/plain": [
       "<Figure size 864x432 with 2 Axes>"
      ]
     },
     "metadata": {
      "needs_background": "light"
     },
     "output_type": "display_data"
    }
   ],
   "source": [
    "strel = ps.tools.ps_round(r=1, ndim=2, smooth=False)\n",
    "im1 = ps.filters.trim_disconnected_blobs(im, inlets, strel)\n",
    "strel = ps.tools.ps_rect(w=3, ndim=2)\n",
    "im2 = ps.filters.trim_disconnected_blobs(im, inlets, strel)\n",
    "\n",
    "fig, ax = plt.subplots(1, 2, figsize=[12, 6])\n",
    "ax[0].imshow(im1, origin='lower', interpolation='none')\n",
    "ax[0].axis(False)\n",
    "ax[1].imshow(im2, origin='lower', interpolation='none')\n",
    "ax[1].axis(False);"
   ]
  }
 ],
 "metadata": {
  "kernelspec": {
   "display_name": "Python 3 (ipykernel)",
   "language": "python",
   "name": "python3"
  },
  "language_info": {
   "codemirror_mode": {
    "name": "ipython",
    "version": 3
   },
   "file_extension": ".py",
   "mimetype": "text/x-python",
   "name": "python",
   "nbconvert_exporter": "python",
   "pygments_lexer": "ipython3",
   "version": "3.9.12"
  }
 },
 "nbformat": 4,
 "nbformat_minor": 4
}
