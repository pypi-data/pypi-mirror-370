{
 "cells": [
  {
   "cell_type": "markdown",
   "id": "fb5732b2",
   "metadata": {},
   "source": [
    "# `sierpinski_foam2`\n",
    "\n",
    "The sierpinski gasket is a classic example of a fractal image with self-similar properties across all length scales.  It has also been extensively analyzed so these properties are well know.  The ``sierpinski_foam2`` is a 3D version of the gasket."
   ]
  },
  {
   "cell_type": "code",
   "execution_count": 1,
   "id": "cf928313",
   "metadata": {
    "execution": {
     "iopub.execute_input": "2022-04-25T01:54:04.952668Z",
     "iopub.status.busy": "2022-04-25T01:54:04.952394Z",
     "iopub.status.idle": "2022-04-25T01:54:07.148586Z",
     "shell.execute_reply": "2022-04-25T01:54:07.147995Z"
    }
   },
   "outputs": [
    {
     "data": {
      "text/plain": [
       "<Signature (shape, n=5)>"
      ]
     },
     "execution_count": 1,
     "metadata": {},
     "output_type": "execute_result"
    }
   ],
   "source": [
    "import porespy as ps\n",
    "import matplotlib.pyplot as plt\n",
    "import numpy as np\n",
    "import inspect\n",
    "inspect.signature(ps.generators.sierpinski_foam2)"
   ]
  },
  {
   "cell_type": "markdown",
   "id": "3742857d",
   "metadata": {},
   "source": [
    "## `shape`\n",
    "\n",
    "The original version of this generator did not accept shape, and instead its size was dictated by the number of divisions requested.  The new version does except shape and instead it truncates the pattern if the requested number of divisions exceeds the shape. \n",
    "\n",
    "In the images below, the image of size 100 by 100 is not symmetrical.  If the full pattern is desired, then the shape must be set to `3**n` in all directions, as shown on the right (`n=5` is the default value)."
   ]
  },
  {
   "cell_type": "code",
   "execution_count": 4,
   "id": "9c3feb12",
   "metadata": {
    "execution": {
     "iopub.execute_input": "2022-04-25T01:54:07.151840Z",
     "iopub.status.busy": "2022-04-25T01:54:07.151675Z",
     "iopub.status.idle": "2022-04-25T01:54:07.275590Z",
     "shell.execute_reply": "2022-04-25T01:54:07.274868Z"
    }
   },
   "outputs": [
    {
     "data": {
      "application/vnd.jupyter.widget-view+json": {
       "model_id": "758fc922ef214076a8abe578ffde4f3f",
       "version_major": 2,
       "version_minor": 0
      },
      "text/plain": [
       "0it [00:00, ?it/s]"
      ]
     },
     "metadata": {},
     "output_type": "display_data"
    },
    {
     "data": {
      "application/vnd.jupyter.widget-view+json": {
       "model_id": "92c47888c84a40dca01da259f9a777dc",
       "version_major": 2,
       "version_minor": 0
      },
      "text/plain": [
       "0it [00:00, ?it/s]"
      ]
     },
     "metadata": {},
     "output_type": "display_data"
    },
    {
     "data": {
      "image/png": "[encoded data removed]",
      "text/plain": [
       "<Figure size 1200x600 with 2 Axes>"
      ]
     },
     "metadata": {},
     "output_type": "display_data"
    }
   ],
   "source": [
    "fig, ax = plt.subplots(1, 2, figsize=[12, 6])\n",
    "\n",
    "im = ps.generators.sierpinski_foam2(shape=[100, 100])\n",
    "ax[0].imshow(im, interpolation='none')\n",
    "ax[0].axis(False)\n",
    "\n",
    "im = ps.generators.sierpinski_foam2(shape=[3**5, 3**5])\n",
    "ax[1].imshow(im, interpolation='none')\n",
    "ax[1].axis(False);"
   ]
  },
  {
   "cell_type": "markdown",
   "id": "4f84e25c",
   "metadata": {},
   "source": [
    "## `n`\n",
    "\n",
    "The number of times the patter is divided is controlled by the `n` parameter:"
   ]
  },
  {
   "cell_type": "code",
   "execution_count": 5,
   "id": "16761007",
   "metadata": {},
   "outputs": [
    {
     "data": {
      "application/vnd.jupyter.widget-view+json": {
       "model_id": "34e6e1bdcbea47778ab926fb2c6889ef",
       "version_major": 2,
       "version_minor": 0
      },
      "text/plain": [
       "0it [00:00, ?it/s]"
      ]
     },
     "metadata": {},
     "output_type": "display_data"
    },
    {
     "data": {
      "application/vnd.jupyter.widget-view+json": {
       "model_id": "5424206f5b484a178d46efccbb576417",
       "version_major": 2,
       "version_minor": 0
      },
      "text/plain": [
       "0it [00:00, ?it/s]"
      ]
     },
     "metadata": {},
     "output_type": "display_data"
    },
    {
     "data": {
      "image/png": "[encoded data removed]",
      "text/plain": [
       "<Figure size 1200x600 with 2 Axes>"
      ]
     },
     "metadata": {},
     "output_type": "display_data"
    }
   ],
   "source": [
    "fig, ax = plt.subplots(1, 2, figsize=[12, 6])\n",
    "\n",
    "n = 3\n",
    "im = ps.generators.sierpinski_foam2(shape=[3**n, 3**n])\n",
    "ax[0].imshow(im, interpolation='none')\n",
    "ax[0].axis(False)\n",
    "\n",
    "n = 4\n",
    "im = ps.generators.sierpinski_foam2(shape=[3**n, 3**n])\n",
    "ax[1].imshow(im, interpolation='none')\n",
    "ax[1].axis(False);"
   ]
  }
 ],
 "metadata": {
  "kernelspec": {
   "display_name": "Python 3 (ipykernel)",
   "language": "python",
   "name": "python3"
  },
  "language_info": {
   "codemirror_mode": {
    "name": "ipython",
    "version": 3
   },
   "file_extension": ".py",
   "mimetype": "text/x-python",
   "name": "python",
   "nbconvert_exporter": "python",
   "pygments_lexer": "ipython3",
   "version": "3.9.15"
  }
 },
 "nbformat": 4,
 "nbformat_minor": 5
}
