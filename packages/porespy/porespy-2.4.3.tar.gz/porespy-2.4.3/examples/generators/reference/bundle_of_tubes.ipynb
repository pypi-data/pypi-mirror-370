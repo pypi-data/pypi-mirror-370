{
 "cells": [
  {
   "cell_type": "markdown",
   "metadata": {},
   "source": [
    "# `bundle_of_tubes`"
   ]
  },
  {
   "cell_type": "markdown",
   "metadata": {},
   "source": [
    "Create a 3D image of a bundle of tubes, in the form of a rectangular plate with randomly sized holes through it."
   ]
  },
  {
   "cell_type": "code",
   "execution_count": 1,
   "metadata": {
    "execution": {
     "iopub.execute_input": "2022-04-25T01:54:26.958834Z",
     "iopub.status.busy": "2022-04-25T01:54:26.958312Z",
     "iopub.status.idle": "2022-04-25T01:54:29.315883Z",
     "shell.execute_reply": "2022-04-25T01:54:29.314950Z"
    }
   },
   "outputs": [
    {
     "data": {
      "text/plain": [
       "<Signature (shape: List[int], spacing: int, distribution=None, smooth=True)>"
      ]
     },
     "execution_count": 1,
     "metadata": {},
     "output_type": "execute_result"
    }
   ],
   "source": [
    "import matplotlib.pyplot as plt\n",
    "import numpy as np\n",
    "import porespy as ps\n",
    "import inspect\n",
    "inspect.signature(ps.generators.bundle_of_tubes)"
   ]
  },
  {
   "cell_type": "markdown",
   "metadata": {},
   "source": [
    "## `spacing`\n",
    "Controls how far apart each pore is.  Note that this limits the maximum size of each pore since they are prevented from overlapping."
   ]
  },
  {
   "cell_type": "code",
   "execution_count": 2,
   "metadata": {
    "execution": {
     "iopub.execute_input": "2022-04-25T01:54:29.321351Z",
     "iopub.status.busy": "2022-04-25T01:54:29.321002Z",
     "iopub.status.idle": "2022-04-25T01:54:29.746618Z",
     "shell.execute_reply": "2022-04-25T01:54:29.745989Z"
    }
   },
   "outputs": [
    {
     "data": {
      "image/png": "[encoded data removed]",
      "text/plain": [
       "<Figure size 576x288 with 2 Axes>"
      ]
     },
     "metadata": {
      "needs_background": "light"
     },
     "output_type": "display_data"
    }
   ],
   "source": [
    "fig, ax = plt.subplots(1, 2, figsize=[8, 4])\n",
    "np.random.seed(10)\n",
    "\n",
    "shape = [300, 300]\n",
    "spacing = 10\n",
    "im = ps.generators.bundle_of_tubes(shape=shape, spacing=spacing)\n",
    "ax[0].imshow(im, origin='lower', interpolation='none')\n",
    "ax[0].axis(False)\n",
    "\n",
    "spacing = 15\n",
    "im = ps.generators.bundle_of_tubes(shape=shape, spacing=spacing)\n",
    "ax[1].imshow(im, origin='lower', interpolation='none')\n",
    "ax[1].axis(False);"
   ]
  },
  {
   "cell_type": "markdown",
   "metadata": {},
   "source": [
    "## `distribution`\n",
    "The default size distribution is uniform (i.e. random) with sizes ranging between 3 and ``spacing - 1``.  To use a different distribution it can specify using a predefined ``scipy.stats`` object. If care is not taken to ensure the distribution only returns values between 3 and ``spacing - 1`` then the value are clipped accordingly.  "
   ]
  },
  {
   "cell_type": "code",
   "execution_count": 3,
   "metadata": {
    "execution": {
     "iopub.execute_input": "2022-04-25T01:54:29.748971Z",
     "iopub.status.busy": "2022-04-25T01:54:29.748775Z",
     "iopub.status.idle": "2022-04-25T01:54:30.123453Z",
     "shell.execute_reply": "2022-04-25T01:54:30.122913Z"
    }
   },
   "outputs": [
    {
     "data": {
      "image/png": "[encoded data removed]",
      "text/plain": [
       "<Figure size 576x288 with 2 Axes>"
      ]
     },
     "metadata": {
      "needs_background": "light"
     },
     "output_type": "display_data"
    }
   ],
   "source": [
    "import scipy.stats as spst\n",
    "fig, ax = plt.subplots(1, 2, figsize=[8, 4])\n",
    "\n",
    "dst = spst.norm(loc=8, scale=1)\n",
    "im = ps.generators.bundle_of_tubes(shape=shape, spacing=spacing, distribution=dst)\n",
    "ax[0].imshow(im, origin='lower', interpolation='none')\n",
    "ax[0].axis(False)\n",
    "\n",
    "dst = spst.norm(loc=10, scale=4)\n",
    "im = ps.generators.bundle_of_tubes(shape=shape, spacing=spacing, distribution=dst)\n",
    "ax[1].imshow(im, origin='lower', interpolation='none')\n",
    "ax[1].axis(False);"
   ]
  }
 ],
 "metadata": {
  "kernelspec": {
   "display_name": "Python 3.9.12 ('sci')",
   "language": "python",
   "name": "python3"
  },
  "language_info": {
   "codemirror_mode": {
    "name": "ipython",
    "version": 3
   },
   "file_extension": ".py",
   "mimetype": "text/x-python",
   "name": "python",
   "nbconvert_exporter": "python",
   "pygments_lexer": "ipython3",
   "version": "3.9.12"
  },
  "vscode": {
   "interpreter": {
    "hash": "b58bd5559424689280ce24ff6229e536533c877108d283a6d2846312dfd182d7"
   }
  }
 },
 "nbformat": 4,
 "nbformat_minor": 4
}
