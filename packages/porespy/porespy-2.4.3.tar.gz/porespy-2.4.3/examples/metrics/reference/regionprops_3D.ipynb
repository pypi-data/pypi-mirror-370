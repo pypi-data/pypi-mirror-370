{
 "cells": [
  {
   "cell_type": "markdown",
   "id": "b439283a",
   "metadata": {},
   "source": [
    "# ``regionprops_3D``\n",
    "This is similar to the ``regionprops`` in ``scikit-image`` but has some extra features that are relevant to 3D images.  Note that the ``scikit-image`` version has been adding 3D capabilities, make the PoreSpy version less useful."
   ]
  },
  {
   "cell_type": "code",
   "execution_count": 1,
   "id": "42296990",
   "metadata": {
    "execution": {
     "iopub.execute_input": "2022-04-25T01:54:51.545899Z",
     "iopub.status.busy": "2022-04-25T01:54:51.545698Z",
     "iopub.status.idle": "2022-04-25T01:54:53.738693Z",
     "shell.execute_reply": "2022-04-25T01:54:53.738089Z"
    }
   },
   "outputs": [],
   "source": [
    "import porespy as ps\n",
    "import numpy as np\n",
    "import matplotlib.pyplot as plt\n",
    "import scipy.ndimage as spim"
   ]
  },
  {
   "cell_type": "code",
   "execution_count": 2,
   "id": "ab7582c0",
   "metadata": {
    "execution": {
     "iopub.execute_input": "2022-04-25T01:54:53.741836Z",
     "iopub.status.busy": "2022-04-25T01:54:53.741552Z",
     "iopub.status.idle": "2022-04-25T01:54:54.336305Z",
     "shell.execute_reply": "2022-04-25T01:54:54.335806Z"
    }
   },
   "outputs": [
    {
     "data": {
      "image/png": "[encoded data removed]",
      "text/plain": [
       "<Figure size 432x288 with 1 Axes>"
      ]
     },
     "metadata": {
      "needs_background": "light"
     },
     "output_type": "display_data"
    }
   ],
   "source": [
    "im = ps.generators.rsa([80, 80, 80], r=10, clearance=3)\n",
    "plt.imshow(im[20, ...], origin='lower', interpolation='none');"
   ]
  },
  {
   "cell_type": "markdown",
   "id": "9cc48e89",
   "metadata": {},
   "source": [
    "We need to label each sphere so they are recognized as individual regions:"
   ]
  },
  {
   "cell_type": "code",
   "execution_count": 3,
   "id": "a75c5b4c",
   "metadata": {
    "execution": {
     "iopub.execute_input": "2022-04-25T01:54:54.339629Z",
     "iopub.status.busy": "2022-04-25T01:54:54.339355Z",
     "iopub.status.idle": "2022-04-25T01:54:54.453127Z",
     "shell.execute_reply": "2022-04-25T01:54:54.452568Z"
    }
   },
   "outputs": [
    {
     "data": {
      "image/png": "[encoded data removed]",
      "text/plain": [
       "<Figure size 432x288 with 1 Axes>"
      ]
     },
     "metadata": {
      "needs_background": "light"
     },
     "output_type": "display_data"
    }
   ],
   "source": [
    "regions = spim.label(im)[0]\n",
    "plt.imshow(regions[20, ...], origin='lower', interpolation='none');"
   ]
  },
  {
   "cell_type": "code",
   "execution_count": 4,
   "id": "d573de10",
   "metadata": {
    "execution": {
     "iopub.execute_input": "2022-04-25T01:54:54.455280Z",
     "iopub.status.busy": "2022-04-25T01:54:54.455091Z",
     "iopub.status.idle": "2022-04-25T01:54:54.460486Z",
     "shell.execute_reply": "2022-04-25T01:54:54.460117Z"
    }
   },
   "outputs": [],
   "source": [
    "props = ps.metrics.regionprops_3D(regions)"
   ]
  },
  {
   "cell_type": "markdown",
   "id": "e1349c01",
   "metadata": {},
   "source": [
    "``props`` is a list of ``RegionProperties`` objects, subclassed from ``scikit-image``.  Each ``RegionProperties`` object possess the properties as attributes.  Note that these are calculated on demand, so the ``regionsprops_3D`` function appears very quick, but the work has not yet been done."
   ]
  },
  {
   "cell_type": "code",
   "execution_count": 5,
   "id": "7ad84e89",
   "metadata": {
    "execution": {
     "iopub.execute_input": "2022-04-25T01:54:54.462602Z",
     "iopub.status.busy": "2022-04-25T01:54:54.462423Z",
     "iopub.status.idle": "2022-04-25T01:54:54.466748Z",
     "shell.execute_reply": "2022-04-25T01:54:54.466246Z"
    }
   },
   "outputs": [
    {
     "data": {
      "text/plain": [
       "[<porespy.metrics._regionprops.RegionPropertiesPS at 0x7fb70227e880>,\n",
       " <porespy.metrics._regionprops.RegionPropertiesPS at 0x7fb702267eb0>,\n",
       " <porespy.metrics._regionprops.RegionPropertiesPS at 0x7fb702346ac0>,\n",
       " <porespy.metrics._regionprops.RegionPropertiesPS at 0x7fb74c4eb4f0>,\n",
       " <porespy.metrics._regionprops.RegionPropertiesPS at 0x7fb7022bf8b0>,\n",
       " <porespy.metrics._regionprops.RegionPropertiesPS at 0x7fb7022bf8e0>,\n",
       " <porespy.metrics._regionprops.RegionPropertiesPS at 0x7fb7022bf9d0>,\n",
       " <porespy.metrics._regionprops.RegionPropertiesPS at 0x7fb70158df70>,\n",
       " <porespy.metrics._regionprops.RegionPropertiesPS at 0x7fb70158df40>,\n",
       " <porespy.metrics._regionprops.RegionPropertiesPS at 0x7fb70158d070>,\n",
       " <porespy.metrics._regionprops.RegionPropertiesPS at 0x7fb74c4fd280>,\n",
       " <porespy.metrics._regionprops.RegionPropertiesPS at 0x7fb74c4fd400>,\n",
       " <porespy.metrics._regionprops.RegionPropertiesPS at 0x7fb74c4fddc0>,\n",
       " <porespy.metrics._regionprops.RegionPropertiesPS at 0x7fb74c4fd3a0>,\n",
       " <porespy.metrics._regionprops.RegionPropertiesPS at 0x7fb74c4fd8e0>,\n",
       " <porespy.metrics._regionprops.RegionPropertiesPS at 0x7fb74c4fd4f0>,\n",
       " <porespy.metrics._regionprops.RegionPropertiesPS at 0x7fb70226f280>,\n",
       " <porespy.metrics._regionprops.RegionPropertiesPS at 0x7fb70226f1c0>,\n",
       " <porespy.metrics._regionprops.RegionPropertiesPS at 0x7fb70226f250>,\n",
       " <porespy.metrics._regionprops.RegionPropertiesPS at 0x7fb70227ed30>,\n",
       " <porespy.metrics._regionprops.RegionPropertiesPS at 0x7fb70227efd0>]"
      ]
     },
     "execution_count": 5,
     "metadata": {},
     "output_type": "execute_result"
    }
   ],
   "source": [
    "props"
   ]
  },
  {
   "cell_type": "markdown",
   "id": "cb24af0f",
   "metadata": {},
   "source": [
    "The properties of regions 1 are on the ``RegionsProperties`` object located at position 0 in the ``props`` list:"
   ]
  },
  {
   "cell_type": "code",
   "execution_count": 6,
   "id": "e0556e3b",
   "metadata": {
    "execution": {
     "iopub.execute_input": "2022-04-25T01:54:54.469697Z",
     "iopub.status.busy": "2022-04-25T01:54:54.469436Z",
     "iopub.status.idle": "2022-04-25T01:54:54.474156Z",
     "shell.execute_reply": "2022-04-25T01:54:54.473517Z"
    }
   },
   "outputs": [
    {
     "name": "stdout",
     "output_type": "stream",
     "text": [
      "area\n",
      "area_bbox\n",
      "area_convex\n",
      "area_filled\n",
      "axis_major_length\n",
      "axis_minor_length\n",
      "bbox\n",
      "bbox_volume\n",
      "border\n",
      "centroid\n",
      "centroid_local\n",
      "centroid_weighted\n",
      "centroid_weighted_local\n",
      "convex_volume\n",
      "coords\n",
      "dt\n",
      "eccentricity\n",
      "equivalent_diameter_area\n",
      "euler_number\n",
      "extent\n",
      "feret_diameter_max\n",
      "image\n",
      "image_convex\n",
      "image_filled\n",
      "image_intensity\n",
      "inertia_tensor\n",
      "inertia_tensor_eigvals\n",
      "inscribed_sphere\n",
      "intensity_max\n",
      "intensity_mean\n",
      "intensity_min\n",
      "label\n",
      "mask\n",
      "moments\n",
      "moments_central\n",
      "moments_hu\n",
      "moments_normalized\n",
      "moments_weighted\n",
      "moments_weighted_central\n",
      "moments_weighted_hu\n",
      "moments_weighted_normalized\n",
      "orientation\n",
      "perimeter\n",
      "perimeter_crofton\n",
      "skeleton\n",
      "slice\n",
      "slices\n",
      "solidity\n",
      "sphericity\n",
      "surface_area\n",
      "surface_mesh_simplices\n",
      "surface_mesh_vertices\n",
      "volume\n"
     ]
    }
   ],
   "source": [
    "for d in dir(props[0]):\n",
    "    if not d.startswith('_'):\n",
    "        print(d)"
   ]
  },
  {
   "cell_type": "markdown",
   "id": "d15fd00b",
   "metadata": {},
   "source": [
    "Let's check a few of the properties:"
   ]
  },
  {
   "cell_type": "code",
   "execution_count": 7,
   "id": "2a2be644",
   "metadata": {
    "execution": {
     "iopub.execute_input": "2022-04-25T01:54:54.476664Z",
     "iopub.status.busy": "2022-04-25T01:54:54.476333Z",
     "iopub.status.idle": "2022-04-25T01:54:54.480244Z",
     "shell.execute_reply": "2022-04-25T01:54:54.479707Z"
    }
   },
   "outputs": [
    {
     "name": "stdout",
     "output_type": "stream",
     "text": [
      "4139\n"
     ]
    }
   ],
   "source": [
    "print(props[0].volume)"
   ]
  },
  {
   "cell_type": "markdown",
   "id": "79b33b79",
   "metadata": {},
   "source": [
    "Because the present function is meant for 3D images, we have added specific terminology, like volume, instead of allowing area to mean volume like the ``scikit-image`` version\""
   ]
  },
  {
   "cell_type": "code",
   "execution_count": 8,
   "id": "b8fd821f",
   "metadata": {
    "execution": {
     "iopub.execute_input": "2022-04-25T01:54:54.482537Z",
     "iopub.status.busy": "2022-04-25T01:54:54.482318Z",
     "iopub.status.idle": "2022-04-25T01:54:54.486051Z",
     "shell.execute_reply": "2022-04-25T01:54:54.485432Z"
    }
   },
   "outputs": [
    {
     "name": "stdout",
     "output_type": "stream",
     "text": [
      "4139\n"
     ]
    }
   ],
   "source": [
    "print(props[0].area)"
   ]
  },
  {
   "cell_type": "markdown",
   "id": "de1880f1",
   "metadata": {},
   "source": [
    "We do have a ``surface_area``, which is also specific to 3D objects:"
   ]
  },
  {
   "cell_type": "code",
   "execution_count": 9,
   "id": "3f861819",
   "metadata": {
    "execution": {
     "iopub.execute_input": "2022-04-25T01:54:54.488476Z",
     "iopub.status.busy": "2022-04-25T01:54:54.488210Z",
     "iopub.status.idle": "2022-04-25T01:54:54.495564Z",
     "shell.execute_reply": "2022-04-25T01:54:54.495164Z"
    }
   },
   "outputs": [
    {
     "name": "stdout",
     "output_type": "stream",
     "text": [
      "1165.306396484375\n"
     ]
    }
   ],
   "source": [
    "print(props[0].surface_area)"
   ]
  },
  {
   "cell_type": "markdown",
   "id": "7d3d6434",
   "metadata": {},
   "source": [
    "In addition to scalar metrics, we also provide access to useful images of the region:"
   ]
  },
  {
   "cell_type": "code",
   "execution_count": 10,
   "id": "8e8335c3",
   "metadata": {
    "execution": {
     "iopub.execute_input": "2022-04-25T01:54:54.498086Z",
     "iopub.status.busy": "2022-04-25T01:54:54.497907Z",
     "iopub.status.idle": "2022-04-25T01:54:54.592421Z",
     "shell.execute_reply": "2022-04-25T01:54:54.591829Z"
    }
   },
   "outputs": [
    {
     "data": {
      "image/png": "[encoded data removed]",
      "text/plain": [
       "<Figure size 432x288 with 1 Axes>"
      ]
     },
     "metadata": {
      "needs_background": "light"
     },
     "output_type": "display_data"
    }
   ],
   "source": [
    "plt.imshow(props[0].dt[5, ...]);"
   ]
  }
 ],
 "metadata": {
  "kernelspec": {
   "display_name": "Python 3 (ipykernel)",
   "language": "python",
   "name": "python3"
  },
  "language_info": {
   "codemirror_mode": {
    "name": "ipython",
    "version": 3
   },
   "file_extension": ".py",
   "mimetype": "text/x-python",
   "name": "python",
   "nbconvert_exporter": "python",
   "pygments_lexer": "ipython3",
   "version": "3.9.12"
  }
 },
 "nbformat": 4,
 "nbformat_minor": 5
}
