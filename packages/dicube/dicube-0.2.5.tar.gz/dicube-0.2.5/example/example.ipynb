{
 "cells": [
  {
   "cell_type": "raw",
   "metadata": {
    "vscode": {
     "languageId": "raw"
    }
   },
   "source": [
    "# DiCube Performance Comparison\n",
    "\n",
    "Simple comparison of medical image formats:\n",
    "- **DICOM vs DCB**: Traditional DICOM format vs DiCube compressed format\n",
    "- **NIfTI vs DCB**: Neuroimaging format vs DiCube compressed format\n"
   ]
  },
  {
   "cell_type": "code",
   "execution_count": 1,
   "metadata": {},
   "outputs": [
    {
     "name": "stdout",
     "output_type": "stream",
     "text": [
      "✅ All libraries imported successfully\n"
     ]
    }
   ],
   "source": [
    "import numpy as np\n",
    "import pandas as pd\n",
    "import time\n",
    "import tempfile\n",
    "import os\n",
    "from pathlib import Path\n",
    "\n",
    "# DICOM libraries\n",
    "import pydicom\n",
    "import dicube\n",
    "\n",
    "# NIfTI libraries  \n",
    "import nibabel as nib\n",
    "\n",
    "os.chdir(\"../\")\n",
    "\n",
    "print(\"✅ All libraries imported successfully\")\n",
    "\n"
   ]
  },
  {
   "cell_type": "code",
   "execution_count": 2,
   "metadata": {},
   "outputs": [
    {
     "name": "stdout",
     "output_type": "stream",
     "text": [
      "✅ PyDICOM helper functions defined\n"
     ]
    }
   ],
   "source": [
    "def load_dicom_with_pydicom(dicom_folder):\n",
    "    \"\"\"Load DICOM files using pydicom and return pixel arrays\"\"\"\n",
    "    dicom_files = sorted([f for f in Path(dicom_folder).glob(\"*.dcm\")])\n",
    "    datasets = []\n",
    "    pixel_arrays = []\n",
    "    \n",
    "    for dcm_file in dicom_files:\n",
    "        ds = pydicom.dcmread(dcm_file)\n",
    "        datasets.append(ds)\n",
    "        pixel_arrays.append(ds.pixel_array)\n",
    "    \n",
    "    return datasets, np.array(pixel_arrays)\n",
    "\n",
    "def save_dicom_with_pydicom(datasets, pixel_arrays, output_folder):\n",
    "    \"\"\"Save DICOM files using pydicom\"\"\"\n",
    "    os.makedirs(output_folder, exist_ok=True)\n",
    "    \n",
    "    for i, (ds, pixel_array) in enumerate(zip(datasets, pixel_arrays)):\n",
    "        # Update pixel data\n",
    "        ds.PixelData = pixel_array.tobytes()\n",
    "        \n",
    "        # Save to new location\n",
    "        output_path = Path(output_folder) / f\"slice_{i:04d}.dcm\"\n",
    "        ds.save_as(output_path)\n",
    "\n",
    "print(\"✅ PyDICOM helper functions defined\")\n"
   ]
  },
  {
   "cell_type": "raw",
   "metadata": {
    "vscode": {
     "languageId": "raw"
    }
   },
   "source": [
    "## DICOM Format Comparison\n"
   ]
  },
  {
   "cell_type": "code",
   "execution_count": 3,
   "metadata": {},
   "outputs": [
    {
     "name": "stdout",
     "output_type": "stream",
     "text": [
      "✅ DICOM folder found: testdata/dicom/sample_150\n",
      "\n",
      "🔄 Testing PyDICOM...\n",
      "  Loaded 150 DICOM files\n",
      "  Shape: (150, 512, 512), dtype: uint16\n",
      "  Load time: 0.385s\n",
      "  Save time: 0.268s\n",
      "  Folder size: 75.22 MB\n",
      "\n",
      "🔄 Testing DicomCubeImage...\n",
      "  Shape: (150, 512, 512), dtype: uint16\n",
      "  Load time: 0.763s\n",
      "  DCB save time: 0.187s\n",
      "  DCB load time: 0.141s\n",
      "  DCB file size: 36.27 MB\n",
      "  Data consistent: True\n",
      "\n",
      "📊 DICOM Comparison Results:\n",
      "    Method  Load Time (s)  Save Time (s)  File Size (MB)  Compression Ratio\n",
      "   PyDICOM          0.385          0.268          75.223              0.997\n",
      "DCB (OJPH)          0.141          0.187          36.265              2.068\n"
     ]
    }
   ],
   "source": [
    "# Test data path\n",
    "dicom_folder = \"testdata/dicom/sample_150\"\n",
    "\n",
    "if not os.path.exists(dicom_folder):\n",
    "    print(f\"❌ DICOM folder not found: {dicom_folder}\")\n",
    "else:\n",
    "    print(f\"✅ DICOM folder found: {dicom_folder}\")\n",
    "    \n",
    "    results = []\n",
    "    \n",
    "    with tempfile.TemporaryDirectory() as tmpdir:\n",
    "        tmpdir = Path(tmpdir)\n",
    "        \n",
    "        # ======= PyDICOM Method =======\n",
    "        print(\"\\n🔄 Testing PyDICOM...\")\n",
    "        \n",
    "        # Load with pydicom\n",
    "        start_time = time.time()\n",
    "        datasets, pixel_arrays = load_dicom_with_pydicom(dicom_folder)\n",
    "        pydicom_load_time = time.time() - start_time\n",
    "        \n",
    "        print(f\"  Loaded {len(datasets)} DICOM files\")\n",
    "        print(f\"  Shape: {pixel_arrays.shape}, dtype: {pixel_arrays.dtype}\")\n",
    "        print(f\"  Load time: {pydicom_load_time:.3f}s\")\n",
    "        \n",
    "        # Save with pydicom\n",
    "        pydicom_output = tmpdir / \"pydicom_output\"\n",
    "        start_time = time.time()\n",
    "        save_dicom_with_pydicom(datasets, pixel_arrays, pydicom_output)\n",
    "        pydicom_save_time = time.time() - start_time\n",
    "        \n",
    "        # Calculate folder size\n",
    "        pydicom_size = sum(f.stat().st_size for f in pydicom_output.glob(\"*.dcm\"))\n",
    "        \n",
    "        print(f\"  Save time: {pydicom_save_time:.3f}s\")\n",
    "        print(f\"  Folder size: {pydicom_size / 1024 / 1024:.2f} MB\")\n",
    "        \n",
    "        results.append({\n",
    "            'Method': 'PyDICOM',\n",
    "            'Load Time (s)': pydicom_load_time,\n",
    "            'Save Time (s)': pydicom_save_time,\n",
    "            'File Size (MB)': pydicom_size / 1024 / 1024,\n",
    "            'Compression Ratio': pixel_arrays.nbytes / pydicom_size\n",
    "        })\n",
    "        \n",
    "        # ======= DicomCubeImage Method =======\n",
    "        print(\"\\n🔄 Testing DicomCubeImage...\")\n",
    "        \n",
    "        # Load with DicomCubeImage\n",
    "        start_time = time.time()\n",
    "        dicube_image = dicube.load_from_dicom_folder(dicom_folder)\n",
    "        dicube_load_time = time.time() - start_time\n",
    "        \n",
    "        print(f\"  Shape: {dicube_image.shape}, dtype: {dicube_image.raw_image.dtype}\")\n",
    "        print(f\"  Load time: {dicube_load_time:.3f}s\")\n",
    "        \n",
    "        # Save as DCB file\n",
    "        dcb_file = tmpdir / \"test.dcbs\"\n",
    "        start_time = time.time()\n",
    "        dicube.save(dicube_image, str(dcb_file), file_type=\"s\")  # \"s\" for speed (OJPH)\n",
    "        dicube_save_time = time.time() - start_time\n",
    "        \n",
    "        # Load DCB file\n",
    "        start_time = time.time()\n",
    "        loaded_image = dicube.load(str(dcb_file))\n",
    "        dcb_load_time = time.time() - start_time\n",
    "        \n",
    "        dcb_size = dcb_file.stat().st_size\n",
    "        \n",
    "        print(f\"  DCB save time: {dicube_save_time:.3f}s\")\n",
    "        print(f\"  DCB load time: {dcb_load_time:.3f}s\")\n",
    "        print(f\"  DCB file size: {dcb_size / 1024 / 1024:.2f} MB\")\n",
    "        \n",
    "        # Verify data consistency\n",
    "        data_consistent = np.array_equal(dicube_image.raw_image, loaded_image.raw_image)\n",
    "        print(f\"  Data consistent: {data_consistent}\")\n",
    "        \n",
    "        results.append({\n",
    "            'Method': 'DCB (OJPH)',\n",
    "            'Load Time (s)': dcb_load_time,\n",
    "            'Save Time (s)': dicube_save_time,\n",
    "            'File Size (MB)': dcb_size / 1024 / 1024,\n",
    "            'Compression Ratio': pixel_arrays.nbytes / dcb_size\n",
    "        })\n",
    "    \n",
    "    # Display comparison table\n",
    "    df = pd.DataFrame(results)\n",
    "    df = df.round(3)\n",
    "    print(\"\\n📊 DICOM Comparison Results:\")\n",
    "    print(df.to_string(index=False))\n"
   ]
  },
  {
   "cell_type": "code",
   "execution_count": 4,
   "metadata": {},
   "outputs": [
    {
     "name": "stdout",
     "output_type": "stream",
     "text": [
      "✅ NiBabel helper functions defined\n"
     ]
    }
   ],
   "source": [
    "def load_nifti_with_nibabel(nifti_file):\n",
    "    \"\"\"Load NIfTI file using nibabel\"\"\"\n",
    "    nii = nib.load(nifti_file)\n",
    "    data = np.asarray(nii.dataobj, dtype=nii.dataobj.dtype)\n",
    "    return nii, data\n",
    "\n",
    "def save_nifti_with_nibabel(data, affine, output_file):\n",
    "    \"\"\"Save NIfTI file using nibabel\"\"\"\n",
    "    nii = nib.Nifti1Image(data, affine)\n",
    "    nib.save(nii, output_file)\n",
    "\n",
    "print(\"✅ NiBabel helper functions defined\")\n"
   ]
  },
  {
   "cell_type": "raw",
   "metadata": {
    "vscode": {
     "languageId": "raw"
    }
   },
   "source": [
    "## NIfTI Format Comparison\n"
   ]
  },
  {
   "cell_type": "code",
   "execution_count": 5,
   "metadata": {},
   "outputs": [
    {
     "name": "stdout",
     "output_type": "stream",
     "text": [
      "✅ NIfTI file found: testdata/nifti/s0000.nii.gz\n",
      "  Original file size: 10.99 MB\n",
      "\n",
      "🔄 Testing NiBabel...\n",
      "  Shape: (294, 192, 179), dtype: int16\n",
      "  Load time: 0.145s\n",
      "  Save time: 0.316s\n",
      "  File size: 10.99 MB\n",
      "\n",
      "🔄 Testing DicomCubeImage...\n",
      "  Shape: (294, 192, 179), dtype: uint16\n",
      "  Load time: 0.142s\n",
      "  DCB save time: 0.072s\n",
      "  DCB load time: 0.050s\n",
      "  DCB file size: 5.98 MB\n",
      "  Data consistent: True\n",
      "\n",
      "📊 NIfTI Comparison Results:\n",
      "    Method  Load Time (s)  Save Time (s)  File Size (MB)  Compression Ratio\n",
      "   NiBabel          0.145          0.316          10.993              1.753\n",
      "DCB (OJPH)          0.050          0.072           5.979              3.223\n"
     ]
    }
   ],
   "source": [
    "# Test data path\n",
    "nifti_file = \"testdata/nifti/s0000.nii.gz\"\n",
    "\n",
    "if not os.path.exists(nifti_file):\n",
    "    print(f\"❌ NIfTI file not found: {nifti_file}\")\n",
    "else:\n",
    "    print(f\"✅ NIfTI file found: {nifti_file}\")\n",
    "    \n",
    "    results = []\n",
    "    original_size = os.path.getsize(nifti_file)\n",
    "    print(f\"  Original file size: {original_size / 1024 / 1024:.2f} MB\")\n",
    "    \n",
    "    with tempfile.TemporaryDirectory() as tmpdir:\n",
    "        tmpdir = Path(tmpdir)\n",
    "        \n",
    "        # ======= NiBabel Method =======\n",
    "        print(\"\\n🔄 Testing NiBabel...\")\n",
    "        \n",
    "        # Load with nibabel\n",
    "        start_time = time.time()\n",
    "        nii, nifti_data = load_nifti_with_nibabel(nifti_file)\n",
    "        nibabel_load_time = time.time() - start_time\n",
    "        \n",
    "        print(f\"  Shape: {nifti_data.shape}, dtype: {nifti_data.dtype}\")\n",
    "        print(f\"  Load time: {nibabel_load_time:.3f}s\")\n",
    "        \n",
    "        # Save with nibabel\n",
    "        nibabel_output = tmpdir / \"nibabel_output.nii.gz\"\n",
    "        start_time = time.time()\n",
    "        save_nifti_with_nibabel(nifti_data, nii.affine, nibabel_output)\n",
    "        nibabel_save_time = time.time() - start_time\n",
    "        \n",
    "        nibabel_size = nibabel_output.stat().st_size\n",
    "        \n",
    "        print(f\"  Save time: {nibabel_save_time:.3f}s\")\n",
    "        print(f\"  File size: {nibabel_size / 1024 / 1024:.2f} MB\")\n",
    "        \n",
    "        results.append({\n",
    "            'Method': 'NiBabel',\n",
    "            'Load Time (s)': nibabel_load_time,\n",
    "            'Save Time (s)': nibabel_save_time,\n",
    "            'File Size (MB)': nibabel_size / 1024 / 1024,\n",
    "            'Compression Ratio': nifti_data.nbytes / nibabel_size\n",
    "        })\n",
    "        \n",
    "        # ======= DicomCubeImage Method =======\n",
    "        print(\"\\n🔄 Testing DicomCubeImage...\")\n",
    "        \n",
    "        # Load with DicomCubeImage\n",
    "        start_time = time.time()\n",
    "        dicube_image = dicube.load_from_nifti(nifti_file)\n",
    "        dicube_load_time = time.time() - start_time\n",
    "        \n",
    "        print(f\"  Shape: {dicube_image.shape}, dtype: {dicube_image.raw_image.dtype}\")\n",
    "        print(f\"  Load time: {dicube_load_time:.3f}s\")\n",
    "        \n",
    "        # Save as DCB file\n",
    "        dcb_file = tmpdir / \"test_nifti.dcbs\"\n",
    "        start_time = time.time()\n",
    "        dicube.save(dicube_image, str(dcb_file), file_type=\"s\")  # \"s\" for speed (OJPH)\n",
    "        dicube_save_time = time.time() - start_time\n",
    "        \n",
    "        # Load DCB file\n",
    "        start_time = time.time()\n",
    "        loaded_image = dicube.load(str(dcb_file))\n",
    "        dcb_load_time = time.time() - start_time\n",
    "        \n",
    "        dcb_size = dcb_file.stat().st_size\n",
    "        \n",
    "        print(f\"  DCB save time: {dicube_save_time:.3f}s\")\n",
    "        print(f\"  DCB load time: {dcb_load_time:.3f}s\")\n",
    "        print(f\"  DCB file size: {dcb_size / 1024 / 1024:.2f} MB\")\n",
    "        \n",
    "        # Verify data consistency\n",
    "        data_consistent = np.array_equal(dicube_image.raw_image, loaded_image.raw_image)\n",
    "        print(f\"  Data consistent: {data_consistent}\")\n",
    "        \n",
    "        results.append({\n",
    "            'Method': 'DCB (OJPH)',\n",
    "            'Load Time (s)': dcb_load_time,\n",
    "            'Save Time (s)': dicube_save_time,\n",
    "            'File Size (MB)': dcb_size / 1024 / 1024,\n",
    "            'Compression Ratio': nifti_data.nbytes / dcb_size\n",
    "        })\n",
    "        \n",
    "    \n",
    "    # Display comparison table\n",
    "    df = pd.DataFrame(results)\n",
    "    df = df.round(3)\n",
    "    print(\"\\n📊 NIfTI Comparison Results:\")\n",
    "    print(df.to_string(index=False))\n"
   ]
  },
  {
   "cell_type": "raw",
   "metadata": {
    "vscode": {
     "languageId": "raw"
    }
   },
   "source": [
    "## Summary\n",
    "\n",
    "This notebook demonstrates the performance comparison between traditional medical image formats and DiCube's compressed format:\n",
    "\n",
    "**Key Findings:**\n",
    "- **DCB files** typically offer significantly better compression ratios\n",
    "- **DCB files** maintain data integrity (lossless compression)\n",
    "- **DCB files** often have faster read/write times due to optimized compression\n",
    "- **Single file storage** makes DCB files easier to manage and transfer\n",
    "\n",
    "**Use Cases:**\n",
    "- **Storage optimization**: Use DCB for long-term archival with space savings\n",
    "- **Fast I/O**: DCB files are optimized for quick access\n",
    "- **Compatibility**: DCB files can be converted back to DICOM/NIfTI when needed\n"
   ]
  }
 ],
 "metadata": {
  "kernelspec": {
   "display_name": "Python 3",
   "language": "python",
   "name": "python3"
  },
  "language_info": {
   "codemirror_mode": {
    "name": "ipython",
    "version": 3
   },
   "file_extension": ".py",
   "mimetype": "text/x-python",
   "name": "python",
   "nbconvert_exporter": "python",
   "pygments_lexer": "ipython3",
   "version": "3.10.13"
  }
 },
 "nbformat": 4,
 "nbformat_minor": 2
}
