{
 "cells": [
  {
   "cell_type": "markdown",
   "metadata": {},
   "source": [
    "# Xarray Example of Graph Execution"
   ]
  },
  {
   "cell_type": "markdown",
   "metadata": {},
   "source": [
    "## Graph Execution"
   ]
  },
  {
   "cell_type": "markdown",
   "metadata": {},
   "source": [
    "To use a different backend for the execution, pass the required backend to the `Fluent` constructor. Currently supported backends include `array_api_compat`, which is the default, `xarray` and `jax`."
   ]
  },
  {
   "cell_type": "code",
   "execution_count": null,
   "metadata": {},
   "outputs": [],
   "source": [
    "import xarray as xr\n",
    "\n",
    "ds = xr.load_dataset('rasm.nc')\n",
    "print(ds)"
   ]
  },
  {
   "cell_type": "code",
   "execution_count": null,
   "metadata": {
    "tags": []
   },
   "outputs": [],
   "source": [
    "import functools\n",
    "from cascade.fluent import from_source\n",
    "\n",
    "graph = (\n",
    "    from_source(functools.partial(xr.load_dataset, \"rasm.nc\"))\n",
    "    .map(lambda x: x.groupby(\"time.season\"))\n",
    "    .map(lambda x: x.sum(dim=\"time\"))\n",
    "    .expand(\"season\", internal_dim=1, dim_size=4, axis=0)\n",
    "    .min(\"season\")\n",
    "    .graph()\n",
    ")"
   ]
  },
  {
   "cell_type": "code",
   "execution_count": null,
   "metadata": {},
   "outputs": [],
   "source": [
    "from cascade.cascade import Cascade\n",
    "\n",
    "cas = Cascade(graph)\n",
    "cas.visualise(\"tmp.html\")"
   ]
  },
  {
   "cell_type": "code",
   "execution_count": null,
   "metadata": {
    "tags": []
   },
   "outputs": [],
   "source": [
    "cas.execute()"
   ]
  }
 ],
 "metadata": {
  "kernelspec": {
   "display_name": "ppcascade",
   "language": "python",
   "name": "ppcascade"
  },
  "language_info": {
   "codemirror_mode": {
    "name": "ipython",
    "version": 3
   },
   "file_extension": ".py",
   "mimetype": "text/x-python",
   "name": "python",
   "nbconvert_exporter": "python",
   "pygments_lexer": "ipython3",
   "version": "3.10.10"
  }
 },
 "nbformat": 4,
 "nbformat_minor": 4
}
