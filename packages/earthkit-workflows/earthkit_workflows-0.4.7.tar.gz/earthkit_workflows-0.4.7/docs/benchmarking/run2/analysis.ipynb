{
 "cells": [
  {
   "cell_type": "markdown",
   "id": "bbc5ab0e-abb3-4ab9-bf13-11b53330f8e3",
   "metadata": {},
   "source": [
    "### Novel observations\n",
    "* Controller reports available as well, showing that a lot of time is spent in the `act` phase of sending (sequentially!) the commands to the hosts. I realize now that the `act` is blocking, so the transmit are effectively serialized at the controller!\n",
    "* Redundant local transports mostly vanished -- there are times when the planner decides in a single step that a dataset is needed at two workers on a host so issues two transmit commands. We could thus replace the redundant sent by idle time, to save network etc. It happens only 3 times out of 55 in the 2,2 scenario\n",
    "\n",
    "The `lA` logs here represent the code/measurements _before_ transmits were reworked to happen async, the `lB` the _after_.\n",
    "The `act` phase duration has shortened considerably, but the overall duration has increased -- possibly due to increased contention, due to introduction of locks, etc. But the overall amount of transmits has stayed roughly the same (even dripped a tiny bit). In particular, duration of the longest transmit has increased 4 times in the 2-host 2-worker scenario, **from 1 second to 4 seconds**. During that time, both sides of the transmit were doing other things as well (transmitting other datasets, computing tasks, etc).\n",
    "\n",
    "### Next steps\n",
    "* Rework the client to send asynchronously\n",
    "* Fuse the multi-transmit\n",
    "* When picking transmit, prefer local ones\n",
    "* Create a tooling for worker's timeline visualisation/exploration, to understand the contention\n",
    "  * Possibly parametrize the contention: how many concurrent transmits to allow, whether to allow transmits concurrent to task, pick least busy worker for transmits...\n"
   ]
  },
  {
   "cell_type": "code",
   "execution_count": 1,
   "id": "6066bc1c-9509-48cf-9b8c-9389660d8687",
   "metadata": {},
   "outputs": [],
   "source": [
    "import pandas as pd\n",
    "import numpy as np"
   ]
  },
  {
   "cell_type": "code",
   "execution_count": 2,
   "id": "06c75513-93ab-4249-8921-ed67f79d38a3",
   "metadata": {},
   "outputs": [],
   "source": [
    "def fixWorker(df):\n",
    "    rows = df['host'] != 'controller'\n",
    "    df.loc[rows, 'worker'] = df.loc[rows, 'host'] + ':' + df.loc[rows, 'worker'] \n",
    "\n",
    "def readAll(base):\n",
    "    c = pd.read_json(f\"{base}.controller.jsonl\", lines=True)\n",
    "    t = pd.read_json(f\"{base}.tasks.jsonl\", lines=True)\n",
    "    d = pd.read_json(f\"{base}.datasets.jsonl\", lines=True)\n",
    "    if 'M' in base:\n",
    "        fixWorker(t)\n",
    "        if d.shape[0] > 0:\n",
    "            fixWorker(d)\n",
    "    return c, t, d"
   ]
  },
  {
   "cell_type": "code",
   "execution_count": 3,
   "id": "06923dc6-5291-45ba-9aeb-7b71aa102681",
   "metadata": {},
   "outputs": [],
   "source": [
    "f1c, f1t, f1d = readAll('lA_F_1')\n",
    "f4c, f4t, f4d = readAll('lA_F_4')\n",
    "m14c, m14t, m14d = readAll('lA_M_1_4')\n",
    "m41c, m41t, m41d = readAll('lA_M_4_1')\n",
    "m22c, m22t, m22d = readAll('lA_M_2_2')\n",
    "# after making the transmit non-blocking\n",
    "n14c, n14t, n14d = readAll('lB_M_1_4')\n",
    "n41c, n41t, n41d = readAll('lB_M_4_1')\n",
    "n22c, n22t, n22d = readAll('lB_M_2_2')"
   ]
  },
  {
   "cell_type": "code",
   "execution_count": 4,
   "id": "f678b8d2-0516-47c5-9f20-6f451945d277",
   "metadata": {
    "jupyter": {
     "source_hidden": true
    }
   },
   "outputs": [],
   "source": [
    "def fixMode(df):\n",
    "    rows = ~df.dataset.isna()\n",
    "    proj = df[rows & ~df['mode'].isna()].set_index(['dataset', 'worker'])['mode']\n",
    "    lookup = proj[~proj.index.duplicated(keep='last')]\n",
    "    return df.set_index(['dataset', 'worker']).drop(columns='mode').join(lookup).reset_index()\n",
    "\n",
    "def fmn(n): # TODO set some central\n",
    "    return f\"{n:.3e}\"\n",
    "\n",
    "def ensureColumns(df, columns):\n",
    "    for column in columns:\n",
    "        if not column in df.columns:\n",
    "            df = df.assign(**{column: np.nan})\n",
    "    return df\n",
    "\n",
    "def analyzeController(df):\n",
    "    print(f\"phases: {df.shape[0]}\")\n",
    "    print(f\"total waits duration: {fmn(df.waitDuration.sum())}\")\n",
    "    print(f\"total act duration: {fmn(df.actDuration.sum())}\")\n",
    "    print(f\"transmits issued: {df.actionsTransmit.sum()}, transmits received: {df.eventsTransmited.sum()}\")\n",
    "    print(f\"busy-during-wait: {fmn((df.busyWorkers * df.waitDuration).sum())}\")\n",
    "    \n",
    "def transmitDurations(df):\n",
    "    datasets = fixMode(df)\n",
    "    durations = datasets.pivot(index=['dataset', 'worker', 'mode'], columns=['action'], values=['at'])\n",
    "    durations.columns = [name[1][len('transmit'):] for name in durations.columns]\n",
    "    durations = durations.reset_index()\n",
    "    localFix = durations['mode'] == 'local'\n",
    "    durations.loc[localFix, 'Started'] = durations.loc[localFix, 'Finished']\n",
    "    durations.loc[localFix, 'Loaded'] = durations.loc[localFix, 'Finished']\n",
    "    durations = durations.assign(total=durations.Finished - durations.Planned)\n",
    "    durations = durations.assign(commDelay=durations.Started-durations.Planned)\n",
    "    durations = durations.assign(loadDelay=durations.Loaded-durations.Started)\n",
    "    durations = durations.assign(transmitDelay=durations.Finished-durations.Loaded)\n",
    "    return durations\n",
    "\n",
    "def taskDurations(df):\n",
    "    tasks = df[~df.task.isna()]\n",
    "    durations = tasks.pivot(index=['task', 'worker'], columns=['action'], values=['at'])\n",
    "    durations.columns = [name[1][len('task'):] for name in durations.columns]\n",
    "    durations = durations.reset_index()\n",
    "    durations = durations.assign(total=durations.Finished - durations.Planned)\n",
    "    durations = durations.assign(commDelay = durations.Enqueued - durations.Planned)\n",
    "    durations = durations.assign(queueDelay = durations.Started - durations.Enqueued)\n",
    "    durations = durations.assign(loadDelay = durations.Loaded - durations.Started)\n",
    "    durations = durations.assign(runtimes = durations.Finished - durations.Loaded)\n",
    "    durations = durations.assign(onWorker = durations.Finished - durations.Enqueued)\n",
    "    return durations\n",
    "\n",
    "def analyzeTransmits(df):\n",
    "    durations = transmitDurations(df)\n",
    "    print(f\"total transmit duration: {fmn(durations.total.sum())}\")\n",
    "    print(\" *** \")\n",
    "    print(f\"mode counts: {durations['mode'].value_counts()}\")\n",
    "    print(f\"per-mode transmit duration: {durations[['mode', 'total']].groupby('mode').sum()}\")\n",
    "    print(\" *** \")\n",
    "    print(f\"total comm delay: {fmn(durations.commDelay.sum())}\")\n",
    "    print(f\"mean comm delay: {fmn(durations.commDelay.mean())}\")\n",
    "    print(f\"max comm delay: {fmn(durations.commDelay.max())}\")\n",
    "    print(\" *** \")\n",
    "    remotes = durations.query(\"mode == 'remote'\")\n",
    "    print(f\"total load delay: {fmn(remotes.loadDelay.sum())}\")\n",
    "    print(f\"mean load delay: {fmn(remotes.loadDelay.mean())}\")\n",
    "    print(f\"max load delay: {fmn(remotes.loadDelay.max())}\")\n",
    "    print(\" *** \")\n",
    "    print(f\"total transmit delay: {fmn(remotes.transmitDelay.sum())}\")\n",
    "    print(f\"mean transmit delay: {fmn(remotes.transmitDelay.mean())}\")\n",
    "    print(f\"max transmit delay: {fmn(remotes.transmitDelay.max())}\")\n",
    "    print(\" *** \")\n",
    "    \n",
    "def analyzeTasks(df):\n",
    "    durations = taskDurations(df)\n",
    "    print(f\"total task duration: {fmn(durations.total.sum())}\")\n",
    "    print(\" *** \")\n",
    "    print(f\"total task duration per worker: {durations.groupby('worker').onWorker.agg(['mean', 'sum'])}\")\n",
    "    print(\" *** \")\n",
    "    print(f\"total comm delay: {fmn(durations.commDelay.sum())}\")\n",
    "    print(f\"mean comm delay: {fmn(durations.commDelay.mean())}\")\n",
    "    print(f\"max comm delay: {fmn(durations.commDelay.max())}\")\n",
    "    print(\" *** \")\n",
    "    print(f\"total queue delay: {fmn(durations.queueDelay.sum())}\")\n",
    "    print(f\"mean queue delay: {fmn(durations.queueDelay.mean())}\")\n",
    "    print(f\"max queue delay: {fmn(durations.queueDelay.max())}\")\n",
    "    print(\" *** \")\n",
    "    print(f\"total runtime delay: {fmn(durations.runtimes.sum())}\")"
   ]
  },
  {
   "cell_type": "code",
   "execution_count": 5,
   "id": "e3687622-a09d-4ac0-ace2-29c5287de8f6",
   "metadata": {},
   "outputs": [
    {
     "name": "stdout",
     "output_type": "stream",
     "text": [
      "phases: 135\n",
      "total waits duration: 1.794e+10\n",
      "total act duration: 1.003e+09\n",
      "transmits issued: 0, transmits received: 0\n",
      "busy-during-wait: 1.794e+10\n"
     ]
    }
   ],
   "source": [
    "analyzeController(f1c)"
   ]
  },
  {
   "cell_type": "code",
   "execution_count": 6,
   "id": "9aa98f43-142e-49d6-8bed-baadb98ba4de",
   "metadata": {},
   "outputs": [
    {
     "name": "stdout",
     "output_type": "stream",
     "text": [
      "phases: 133\n",
      "total waits duration: 6.106e+09\n",
      "total act duration: 1.430e+09\n",
      "transmits issued: 0, transmits received: 0\n",
      "busy-during-wait: 2.183e+10\n"
     ]
    }
   ],
   "source": [
    "analyzeController(f4c)"
   ]
  },
  {
   "cell_type": "code",
   "execution_count": 7,
   "id": "cc9d4182-a5ab-46ec-9045-4105b92cfd46",
   "metadata": {},
   "outputs": [
    {
     "name": "stdout",
     "output_type": "stream",
     "text": [
      "phases: 70\n",
      "total waits duration: 2.782e+08\n",
      "total act duration: 1.060e+10\n",
      "transmits issued: 0, transmits received: 0\n",
      "busy-during-wait: 9.496e+08\n"
     ]
    }
   ],
   "source": [
    "analyzeController(m14c)"
   ]
  },
  {
   "cell_type": "code",
   "execution_count": 8,
   "id": "03306881-6a39-45ac-bb7e-fca5db902ebf",
   "metadata": {},
   "outputs": [
    {
     "name": "stdout",
     "output_type": "stream",
     "text": [
      "phases: 133\n",
      "total waits duration: 6.953e+08\n",
      "total act duration: 9.345e+09\n",
      "transmits issued: 0, transmits received: 0\n",
      "busy-during-wait: 1.516e+09\n"
     ]
    }
   ],
   "source": [
    "analyzeController(n14c)"
   ]
  },
  {
   "cell_type": "code",
   "execution_count": 9,
   "id": "fa7b387f-40b0-4184-b5c1-04ec8aca382c",
   "metadata": {},
   "outputs": [
    {
     "name": "stdout",
     "output_type": "stream",
     "text": [
      "phases: 66\n",
      "total waits duration: 5.873e+09\n",
      "total act duration: 1.335e+10\n",
      "transmits issued: 55, transmits received: 55\n",
      "busy-during-wait: 2.015e+10\n"
     ]
    }
   ],
   "source": [
    "analyzeController(m22c)"
   ]
  },
  {
   "cell_type": "code",
   "execution_count": 10,
   "id": "ede76cf7-4ae4-4d8b-a247-a950b7b0c756",
   "metadata": {},
   "outputs": [
    {
     "name": "stdout",
     "output_type": "stream",
     "text": [
      "phases: 105\n",
      "total waits duration: 9.587e+09\n",
      "total act duration: 1.091e+10\n",
      "transmits issued: 48, transmits received: 48\n",
      "busy-during-wait: 3.682e+10\n"
     ]
    }
   ],
   "source": [
    "analyzeController(n22c)"
   ]
  },
  {
   "cell_type": "code",
   "execution_count": 11,
   "id": "9ab74bb9-f2ce-4e75-9173-9db3e9905497",
   "metadata": {},
   "outputs": [
    {
     "name": "stdout",
     "output_type": "stream",
     "text": [
      "phases: 67\n",
      "total waits duration: 3.930e+09\n",
      "total act duration: 1.822e+10\n",
      "transmits issued: 110, transmits received: 110\n",
      "busy-during-wait: 1.551e+10\n"
     ]
    }
   ],
   "source": [
    "analyzeController(m41c)"
   ]
  },
  {
   "cell_type": "code",
   "execution_count": 12,
   "id": "9c16316d-d047-4178-ab75-a0a5eb1bc9f9",
   "metadata": {},
   "outputs": [
    {
     "name": "stdout",
     "output_type": "stream",
     "text": [
      "phases: 169\n",
      "total waits duration: 2.160e+10\n",
      "total act duration: 1.054e+10\n",
      "transmits issued: 98, transmits received: 98\n",
      "busy-during-wait: 8.135e+10\n"
     ]
    }
   ],
   "source": [
    "analyzeController(n41c)"
   ]
  },
  {
   "cell_type": "code",
   "execution_count": 13,
   "id": "3a2cb8f6-a8df-4cd4-8b81-cc5370f5fe54",
   "metadata": {},
   "outputs": [
    {
     "name": "stdout",
     "output_type": "stream",
     "text": [
      "total transmit duration: 4.251e+09\n",
      " *** \n",
      "mode counts: mode\n",
      "remote       52\n",
      "redundant     3\n",
      "Name: count, dtype: int64\n",
      "per-mode transmit duration:                 total\n",
      "mode                 \n",
      "redundant   881508877\n",
      "remote     3369545192\n",
      " *** \n",
      "total comm delay: 2.846e+08\n",
      "mean comm delay: 5.175e+06\n",
      "max comm delay: 6.485e+07\n",
      " *** \n",
      "total load delay: 2.938e+07\n",
      "mean load delay: 5.650e+05\n",
      "max load delay: 1.443e+06\n",
      " *** \n",
      "total transmit delay: 3.059e+09\n",
      "mean transmit delay: 5.883e+07\n",
      "max transmit delay: 1.076e+09\n",
      " *** \n"
     ]
    }
   ],
   "source": [
    "analyzeTransmits(m22d)"
   ]
  },
  {
   "cell_type": "code",
   "execution_count": 14,
   "id": "b8ad7ae7-3e60-4616-afac-e057724d0f31",
   "metadata": {},
   "outputs": [
    {
     "name": "stdout",
     "output_type": "stream",
     "text": [
      "total transmit duration: 1.387e+10\n",
      " *** \n",
      "mode counts: mode\n",
      "remote    48\n",
      "Name: count, dtype: int64\n",
      "per-mode transmit duration:               total\n",
      "mode               \n",
      "remote  13865203703\n",
      " *** \n",
      "total comm delay: 4.271e+08\n",
      "mean comm delay: 8.898e+06\n",
      "max comm delay: 6.223e+07\n",
      " *** \n",
      "total load delay: 3.556e+07\n",
      "mean load delay: 7.408e+05\n",
      "max load delay: 3.964e+06\n",
      " *** \n",
      "total transmit delay: 1.340e+10\n",
      "mean transmit delay: 2.792e+08\n",
      "max transmit delay: 4.635e+09\n",
      " *** \n"
     ]
    }
   ],
   "source": [
    "analyzeTransmits(n22d)"
   ]
  },
  {
   "cell_type": "code",
   "execution_count": 15,
   "id": "2462f09e-89eb-4028-9b69-38016104dc03",
   "metadata": {},
   "outputs": [
    {
     "name": "stdout",
     "output_type": "stream",
     "text": [
      "total transmit duration: 9.800e+09\n",
      " *** \n",
      "mode counts: mode\n",
      "remote    110\n",
      "Name: count, dtype: int64\n",
      "per-mode transmit duration:              total\n",
      "mode              \n",
      "remote  9800394444\n",
      " *** \n",
      "total comm delay: 1.011e+09\n",
      "mean comm delay: 9.195e+06\n",
      "max comm delay: 6.566e+08\n",
      " *** \n",
      "total load delay: 5.603e+07\n",
      "mean load delay: 5.094e+05\n",
      "max load delay: 1.274e+06\n",
      " *** \n",
      "total transmit delay: 8.733e+09\n",
      "mean transmit delay: 7.939e+07\n",
      "max transmit delay: 1.274e+09\n",
      " *** \n"
     ]
    }
   ],
   "source": [
    "analyzeTransmits(m41d)"
   ]
  },
  {
   "cell_type": "code",
   "execution_count": 16,
   "id": "ad38233e-308b-48f5-8f60-2095e5828845",
   "metadata": {},
   "outputs": [
    {
     "name": "stdout",
     "output_type": "stream",
     "text": [
      "total transmit duration: 5.664e+10\n",
      " *** \n",
      "mode counts: mode\n",
      "remote    98\n",
      "Name: count, dtype: int64\n",
      "per-mode transmit duration:               total\n",
      "mode               \n",
      "remote  56640390536\n",
      " *** \n",
      "total comm delay: 8.381e+09\n",
      "mean comm delay: 8.552e+07\n",
      "max comm delay: 3.718e+09\n",
      " *** \n",
      "total load delay: 7.004e+07\n",
      "mean load delay: 7.147e+05\n",
      "max load delay: 5.043e+06\n",
      " *** \n",
      "total transmit delay: 4.819e+10\n",
      "mean transmit delay: 4.917e+08\n",
      "max transmit delay: 1.105e+10\n",
      " *** \n"
     ]
    }
   ],
   "source": [
    "analyzeTransmits(n41d)"
   ]
  },
  {
   "cell_type": "code",
   "execution_count": 20,
   "id": "aac46439-8166-4c02-9a67-975077a4c335",
   "metadata": {},
   "outputs": [],
   "source": [
    "Dn22d = transmitDurations(n22d)\n",
    "Dm22d = transmitDurations(m22d)"
   ]
  },
  {
   "cell_type": "code",
   "execution_count": 24,
   "id": "b904eba0-ca4d-43d9-ac93-8f7b19c3367a",
   "metadata": {},
   "outputs": [
    {
     "data": {
      "text/html": [
       "<div>\n",
       "<style scoped>\n",
       "    .dataframe tbody tr th:only-of-type {\n",
       "        vertical-align: middle;\n",
       "    }\n",
       "\n",
       "    .dataframe tbody tr th {\n",
       "        vertical-align: top;\n",
       "    }\n",
       "\n",
       "    .dataframe thead th {\n",
       "        text-align: right;\n",
       "    }\n",
       "</style>\n",
       "<table border=\"1\" class=\"dataframe\">\n",
       "  <thead>\n",
       "    <tr style=\"text-align: right;\">\n",
       "      <th></th>\n",
       "      <th>dataset</th>\n",
       "      <th>worker</th>\n",
       "      <th>mode</th>\n",
       "      <th>Finished</th>\n",
       "      <th>Loaded</th>\n",
       "      <th>Planned</th>\n",
       "      <th>Started</th>\n",
       "      <th>total</th>\n",
       "      <th>commDelay</th>\n",
       "      <th>loadDelay</th>\n",
       "      <th>transmitDelay</th>\n",
       "    </tr>\n",
       "  </thead>\n",
       "  <tbody>\n",
       "    <tr>\n",
       "      <th>37</th>\n",
       "      <td>retrieve(1,):84fbe9f7d17f79669173bbfa74fae8183...</td>\n",
       "      <td>h1:worker1</td>\n",
       "      <td>remote</td>\n",
       "      <td>16848567183789</td>\n",
       "      <td>16843932338035</td>\n",
       "      <td>16843930704797</td>\n",
       "      <td>16843931825121</td>\n",
       "      <td>4636478992</td>\n",
       "      <td>1120324</td>\n",
       "      <td>512914</td>\n",
       "      <td>4634845754</td>\n",
       "    </tr>\n",
       "    <tr>\n",
       "      <th>39</th>\n",
       "      <td>retrieve:228aecd8e8e69130f9f6fe68973639b52a6e3...</td>\n",
       "      <td>h0:worker1</td>\n",
       "      <td>remote</td>\n",
       "      <td>16843866592089</td>\n",
       "      <td>16839263215223</td>\n",
       "      <td>16839261719502</td>\n",
       "      <td>16839262669693</td>\n",
       "      <td>4604872587</td>\n",
       "      <td>950191</td>\n",
       "      <td>545530</td>\n",
       "      <td>4603376866</td>\n",
       "    </tr>\n",
       "    <tr>\n",
       "      <th>1</th>\n",
       "      <td>concat:f26f97554dd3e073b8d9fe163f390f9f880154e...</td>\n",
       "      <td>h0:worker1</td>\n",
       "      <td>remote</td>\n",
       "      <td>16845863610503</td>\n",
       "      <td>16844567894151</td>\n",
       "      <td>16844564661826</td>\n",
       "      <td>16844566434189</td>\n",
       "      <td>1298948677</td>\n",
       "      <td>1772363</td>\n",
       "      <td>1459962</td>\n",
       "      <td>1295716352</td>\n",
       "    </tr>\n",
       "    <tr>\n",
       "      <th>0</th>\n",
       "      <td>concat:29989362f37d65adb916f9c7dde48777a53a1a3...</td>\n",
       "      <td>h1:worker0</td>\n",
       "      <td>remote</td>\n",
       "      <td>16840278704073</td>\n",
       "      <td>16839260368282</td>\n",
       "      <td>16839258046338</td>\n",
       "      <td>16839259490726</td>\n",
       "      <td>1020657735</td>\n",
       "      <td>1444388</td>\n",
       "      <td>877556</td>\n",
       "      <td>1018335791</td>\n",
       "    </tr>\n",
       "    <tr>\n",
       "      <th>8</th>\n",
       "      <td>retrieve(0, 10):af27ba6b04ec0b75b39afeeae1c202...</td>\n",
       "      <td>h1:worker0</td>\n",
       "      <td>remote</td>\n",
       "      <td>16836338136031</td>\n",
       "      <td>16836248731209</td>\n",
       "      <td>16836234352423</td>\n",
       "      <td>16836244767646</td>\n",
       "      <td>103783608</td>\n",
       "      <td>10415223</td>\n",
       "      <td>3963563</td>\n",
       "      <td>89404822</td>\n",
       "    </tr>\n",
       "  </tbody>\n",
       "</table>\n",
       "</div>"
      ],
      "text/plain": [
       "                                              dataset      worker    mode  \\\n",
       "37  retrieve(1,):84fbe9f7d17f79669173bbfa74fae8183...  h1:worker1  remote   \n",
       "39  retrieve:228aecd8e8e69130f9f6fe68973639b52a6e3...  h0:worker1  remote   \n",
       "1   concat:f26f97554dd3e073b8d9fe163f390f9f880154e...  h0:worker1  remote   \n",
       "0   concat:29989362f37d65adb916f9c7dde48777a53a1a3...  h1:worker0  remote   \n",
       "8   retrieve(0, 10):af27ba6b04ec0b75b39afeeae1c202...  h1:worker0  remote   \n",
       "\n",
       "          Finished          Loaded         Planned         Started  \\\n",
       "37  16848567183789  16843932338035  16843930704797  16843931825121   \n",
       "39  16843866592089  16839263215223  16839261719502  16839262669693   \n",
       "1   16845863610503  16844567894151  16844564661826  16844566434189   \n",
       "0   16840278704073  16839260368282  16839258046338  16839259490726   \n",
       "8   16836338136031  16836248731209  16836234352423  16836244767646   \n",
       "\n",
       "         total  commDelay  loadDelay  transmitDelay  \n",
       "37  4636478992    1120324     512914     4634845754  \n",
       "39  4604872587     950191     545530     4603376866  \n",
       "1   1298948677    1772363    1459962     1295716352  \n",
       "0   1020657735    1444388     877556     1018335791  \n",
       "8    103783608   10415223    3963563       89404822  "
      ]
     },
     "execution_count": 24,
     "metadata": {},
     "output_type": "execute_result"
    }
   ],
   "source": [
    "Dn22d.sort_values(by=\"transmitDelay\", ascending=False)[:5]"
   ]
  },
  {
   "cell_type": "code",
   "execution_count": 25,
   "id": "72e78995-4d8d-475e-8d42-7ab9e5d30bfe",
   "metadata": {},
   "outputs": [
    {
     "data": {
      "text/html": [
       "<div>\n",
       "<style scoped>\n",
       "    .dataframe tbody tr th:only-of-type {\n",
       "        vertical-align: middle;\n",
       "    }\n",
       "\n",
       "    .dataframe tbody tr th {\n",
       "        vertical-align: top;\n",
       "    }\n",
       "\n",
       "    .dataframe thead th {\n",
       "        text-align: right;\n",
       "    }\n",
       "</style>\n",
       "<table border=\"1\" class=\"dataframe\">\n",
       "  <thead>\n",
       "    <tr style=\"text-align: right;\">\n",
       "      <th></th>\n",
       "      <th>dataset</th>\n",
       "      <th>worker</th>\n",
       "      <th>mode</th>\n",
       "      <th>Finished</th>\n",
       "      <th>Loaded</th>\n",
       "      <th>Planned</th>\n",
       "      <th>Started</th>\n",
       "      <th>total</th>\n",
       "      <th>commDelay</th>\n",
       "      <th>loadDelay</th>\n",
       "      <th>transmitDelay</th>\n",
       "    </tr>\n",
       "  </thead>\n",
       "  <tbody>\n",
       "    <tr>\n",
       "      <th>41</th>\n",
       "      <td>retrieve(1,):84fbe9f7d17f79669173bbfa74fae8183...</td>\n",
       "      <td>h0:worker0</td>\n",
       "      <td>remote</td>\n",
       "      <td>16283523838005</td>\n",
       "      <td>16282447563740</td>\n",
       "      <td>16282445865752</td>\n",
       "      <td>16282446872239</td>\n",
       "      <td>1077972253</td>\n",
       "      <td>1006487</td>\n",
       "      <td>691501</td>\n",
       "      <td>1076274265</td>\n",
       "    </tr>\n",
       "    <tr>\n",
       "      <th>44</th>\n",
       "      <td>retrieve:228aecd8e8e69130f9f6fe68973639b52a6e3...</td>\n",
       "      <td>h1:worker1</td>\n",
       "      <td>remote</td>\n",
       "      <td>16282397954780</td>\n",
       "      <td>16281352527444</td>\n",
       "      <td>16281351635008</td>\n",
       "      <td>16281352233132</td>\n",
       "      <td>1046319772</td>\n",
       "      <td>598124</td>\n",
       "      <td>294312</td>\n",
       "      <td>1045427336</td>\n",
       "    </tr>\n",
       "    <tr>\n",
       "      <th>42</th>\n",
       "      <td>retrieve(1,):84fbe9f7d17f79669173bbfa74fae8183...</td>\n",
       "      <td>h0:worker1</td>\n",
       "      <td>redundant</td>\n",
       "      <td>16284441236583</td>\n",
       "      <td>16283594831758</td>\n",
       "      <td>16283593587321</td>\n",
       "      <td>16283594337489</td>\n",
       "      <td>847649262</td>\n",
       "      <td>750168</td>\n",
       "      <td>494269</td>\n",
       "      <td>846404825</td>\n",
       "    </tr>\n",
       "    <tr>\n",
       "      <th>26</th>\n",
       "      <td>retrieve(1, 11):b14562177f37fe6d669d26a982313f...</td>\n",
       "      <td>h0:worker0</td>\n",
       "      <td>remote</td>\n",
       "      <td>16278335131026</td>\n",
       "      <td>16278260551467</td>\n",
       "      <td>16278258561750</td>\n",
       "      <td>16278259936861</td>\n",
       "      <td>76569276</td>\n",
       "      <td>1375111</td>\n",
       "      <td>614606</td>\n",
       "      <td>74579559</td>\n",
       "    </tr>\n",
       "    <tr>\n",
       "      <th>18</th>\n",
       "      <td>retrieve(0, 5):3f288e6a71aba29f67ed9d96fd04774...</td>\n",
       "      <td>h0:worker0</td>\n",
       "      <td>remote</td>\n",
       "      <td>16277935936481</td>\n",
       "      <td>16277863909422</td>\n",
       "      <td>16277861800695</td>\n",
       "      <td>16277863250956</td>\n",
       "      <td>74135786</td>\n",
       "      <td>1450261</td>\n",
       "      <td>658466</td>\n",
       "      <td>72027059</td>\n",
       "    </tr>\n",
       "  </tbody>\n",
       "</table>\n",
       "</div>"
      ],
      "text/plain": [
       "                                              dataset      worker       mode  \\\n",
       "41  retrieve(1,):84fbe9f7d17f79669173bbfa74fae8183...  h0:worker0     remote   \n",
       "44  retrieve:228aecd8e8e69130f9f6fe68973639b52a6e3...  h1:worker1     remote   \n",
       "42  retrieve(1,):84fbe9f7d17f79669173bbfa74fae8183...  h0:worker1  redundant   \n",
       "26  retrieve(1, 11):b14562177f37fe6d669d26a982313f...  h0:worker0     remote   \n",
       "18  retrieve(0, 5):3f288e6a71aba29f67ed9d96fd04774...  h0:worker0     remote   \n",
       "\n",
       "          Finished          Loaded         Planned         Started  \\\n",
       "41  16283523838005  16282447563740  16282445865752  16282446872239   \n",
       "44  16282397954780  16281352527444  16281351635008  16281352233132   \n",
       "42  16284441236583  16283594831758  16283593587321  16283594337489   \n",
       "26  16278335131026  16278260551467  16278258561750  16278259936861   \n",
       "18  16277935936481  16277863909422  16277861800695  16277863250956   \n",
       "\n",
       "         total  commDelay  loadDelay  transmitDelay  \n",
       "41  1077972253    1006487     691501     1076274265  \n",
       "44  1046319772     598124     294312     1045427336  \n",
       "42   847649262     750168     494269      846404825  \n",
       "26    76569276    1375111     614606       74579559  \n",
       "18    74135786    1450261     658466       72027059  "
      ]
     },
     "execution_count": 25,
     "metadata": {},
     "output_type": "execute_result"
    }
   ],
   "source": [
    "Dm22d.sort_values(by=\"transmitDelay\", ascending=False)[:5]"
   ]
  }
 ],
 "metadata": {
  "kernelspec": {
   "display_name": "Python 3 (ipykernel)",
   "language": "python",
   "name": "python3"
  },
  "language_info": {
   "codemirror_mode": {
    "name": "ipython",
    "version": 3
   },
   "file_extension": ".py",
   "mimetype": "text/x-python",
   "name": "python",
   "nbconvert_exporter": "python",
   "pygments_lexer": "ipython3",
   "version": "3.11.8"
  }
 },
 "nbformat": 4,
 "nbformat_minor": 5
}
