{
 "cells": [
  {
   "cell_type": "markdown",
   "id": "bbc5ab0e-abb3-4ab9-bf13-11b53330f8e3",
   "metadata": {},
   "source": [
    "### Major mysteries\n",
    "* Why is the wall time inside the tasks so much higher for m1_4 and f4, but less so for m2_2/m4_1? What sort of cpu contention we have?\n",
    "* What to measure so that we have a clear indicator for m2_2/m4_1 taking much longer than m1_4/f4? How to separate m1_4 and f4 cleanly?\n",
    "\n",
    "### Other data (extracted manually from logs)\n",
    " - number of controller iterations (plan-act-await), number of events\n",
    "   - f4 -> 198; 223\n",
    "   - f1 -> 135; 135 (no transmits -> event count == iteration count == graph size)\n",
    "   - m_4_1 -> 66; 135\n",
    "   - m_2_2 -> 65; 165\n",
    "   - m_1_4 -> 103; 232\n",
    "   - there is much more event queuing in the multihost scenario, presumably because of the comm delay. Meaning the controller decides with less granularity\n",
    "   - the event counts are underreported here because of a *bug* (remote transfer doesnt succ mark the input as present)\n",
    "   - there is about the same number of data transmits in f4 and m1_4, meaning the final schedules are not that much different\n",
    "\n",
    "### Next steps\n",
    " - (feature) replace remote transfers with local ones when it is possible\n",
    " - (bugfix) report remote transfer events correctly\n",
    " - (feature) extend tracing for controller phase, event batch size, phase duration, total runtime"
   ]
  },
  {
   "cell_type": "code",
   "execution_count": 1,
   "id": "6066bc1c-9509-48cf-9b8c-9389660d8687",
   "metadata": {},
   "outputs": [],
   "source": [
    "import pandas as pd\n",
    "import numpy as np"
   ]
  },
  {
   "cell_type": "code",
   "execution_count": 19,
   "id": "06c75513-93ab-4249-8921-ed67f79d38a3",
   "metadata": {},
   "outputs": [],
   "source": [
    "def fixWorker(df):\n",
    "    rows = df['host'] != 'controller'\n",
    "    df.loc[rows, 'worker'] = df.loc[rows, 'host'] + ':' + df.loc[rows, 'worker'] "
   ]
  },
  {
   "cell_type": "code",
   "execution_count": 152,
   "id": "06923dc6-5291-45ba-9aeb-7b71aa102681",
   "metadata": {},
   "outputs": [],
   "source": [
    "f1 = pd.read_json('lA_F_1.jsonl', lines=True)\n",
    "f4 = pd.read_json('lA_F_4.jsonl', lines=True)\n",
    "m1_4 = pd.read_json('lA_M_1_4.jsonl', lines=True)\n",
    "fixWorker(m1_4)\n",
    "m4_1 = pd.read_json('lA_M_4_1.jsonl', lines=True)\n",
    "fixWorker(m4_1)\n",
    "m2_2 = pd.read_json('lA_M_2_2.jsonl', lines=True)\n",
    "fixWorker(m2_2)"
   ]
  },
  {
   "cell_type": "code",
   "execution_count": 283,
   "id": "f678b8d2-0516-47c5-9f20-6f451945d277",
   "metadata": {},
   "outputs": [],
   "source": [
    "def fixMode(df):\n",
    "    rows = ~df.dataset.isna()\n",
    "    proj = df[rows & ~df['mode'].isna()].set_index(['dataset', 'worker'])['mode']\n",
    "    lookup = proj[~proj.index.duplicated(keep='last')]\n",
    "    return df.set_index(['dataset', 'worker']).drop(columns='mode').join(lookup).reset_index()\n",
    "\n",
    "def ensureColumns(df, columns):\n",
    "    for column in columns:\n",
    "        if not column in df.columns:\n",
    "            df = df.assign(**{column: np.nan})\n",
    "    return df\n",
    "    \n",
    "    \n",
    "def transmitDurations(df):\n",
    "    df = fixMode(df)\n",
    "    datasets = df[~df.dataset.isna()].drop(columns='task')\n",
    "    durations = datasets.pivot(index=['dataset', 'worker', 'mode'], columns=['action'], values=['at'])\n",
    "    durations.columns = [name[1][len('transmit'):] for name in durations.columns]\n",
    "    durations = durations.reset_index()\n",
    "    localFix = durations['mode'] == 'local'\n",
    "    durations.loc[localFix, 'Started'] = durations.loc[localFix, 'Finished']\n",
    "    durations.loc[localFix, 'Loaded'] = durations.loc[localFix, 'Finished']\n",
    "    durations = durations.assign(total=durations.Finished - durations.Planned)\n",
    "    durations = durations.assign(commDelay=durations.Started-durations.Planned)\n",
    "    durations = durations.assign(loadDelay=durations.Loaded-durations.Started)\n",
    "    durations = durations.assign(transmitDelay=durations.Finished-durations.Loaded)\n",
    "    return durations\n",
    "\n",
    "def taskDurations(df):\n",
    "    tasks = df[~df.task.isna()]\n",
    "    durations = tasks.pivot(index=['task', 'worker'], columns=['action'], values=['at'])\n",
    "    durations.columns = [name[1][len('task'):] for name in durations.columns]\n",
    "    durations = durations.reset_index()\n",
    "    durations = durations.assign(total=durations.Finished - durations.Planned)\n",
    "    durations = durations.assign(commDelay = durations.Enqueued - durations.Planned)\n",
    "    durations = durations.assign(queueDelay = durations.Started - durations.Enqueued)\n",
    "    durations = durations.assign(runtimes = durations.Finished - durations.Started)\n",
    "    durations = durations.assign(onWorker = durations.Finished - durations.Enqueued)\n",
    "    return durations\n",
    "\n",
    "def fmn(n):\n",
    "    return f\"{n:.3e}\"\n",
    "\n",
    "def analyzeTransmits(df):\n",
    "    durations = transmitDurations(df)\n",
    "    print(f\"total transmit duration: {fmn(durations.total.sum())}\")\n",
    "    print(\" *** \")\n",
    "    print(f\"mode counts: {durations['mode'].value_counts()}\")\n",
    "    print(f\"per-mode transmit duration: {durations[['mode', 'total']].groupby('mode').sum()}\")\n",
    "    print(\" *** \")\n",
    "    print(f\"total comm delay: {fmn(durations.commDelay.sum())}\")\n",
    "    print(f\"mean comm delay: {fmn(durations.commDelay.mean())}\")\n",
    "    print(f\"max comm delay: {fmn(durations.commDelay.max())}\")\n",
    "    print(\" *** \")\n",
    "    remotes = durations.query(\"mode == 'remote'\")\n",
    "    print(f\"total load delay: {fmn(remotes.loadDelay.sum())}\")\n",
    "    print(f\"mean load delay: {fmn(remotes.loadDelay.mean())}\")\n",
    "    print(f\"max load delay: {fmn(remotes.loadDelay.max())}\")\n",
    "    print(\" *** \")\n",
    "    print(f\"total transmit delay: {fmn(remotes.transmitDelay.sum())}\")\n",
    "    print(f\"mean transmit delay: {fmn(remotes.transmitDelay.mean())}\")\n",
    "    print(f\"max transmit delay: {fmn(remotes.transmitDelay.max())}\")\n",
    "    print(\" *** \")\n",
    "    \n",
    "def analyzeTasks(df):\n",
    "    durations = taskDurations(df)\n",
    "    print(f\"total task duration: {fmn(durations.total.sum())}\")\n",
    "    print(\" *** \")\n",
    "    print(f\"total task duration per worker: {durations.groupby('worker').onWorker.agg(['mean', 'sum'])}\")\n",
    "    print(\" *** \")\n",
    "    print(f\"total comm delay: {fmn(durations.commDelay.sum())}\")\n",
    "    print(f\"mean comm delay: {fmn(durations.commDelay.mean())}\")\n",
    "    print(f\"max comm delay: {fmn(durations.commDelay.max())}\")\n",
    "    print(\" *** \")\n",
    "    print(f\"total queue delay: {fmn(durations.queueDelay.sum())}\")\n",
    "    print(f\"mean queue delay: {fmn(durations.queueDelay.mean())}\")\n",
    "    print(f\"max queue delay: {fmn(durations.queueDelay.max())}\")\n",
    "    print(\" *** \")\n",
    "    print(f\"total runtime delay: {fmn(durations.runtimes.sum())}\")"
   ]
  },
  {
   "cell_type": "code",
   "execution_count": 261,
   "id": "aa8ccd69-17c4-41f9-87d2-44d25d0ce4c2",
   "metadata": {},
   "outputs": [
    {
     "name": "stdout",
     "output_type": "stream",
     "text": [
      "total task duration: 2.280e+10\n",
      " *** \n",
      "total task duration per worker:                     mean         sum\n",
      "worker                              \n",
      "h0:worker0  1.656845e+08  6130325490\n",
      "h0:worker1  1.729176e+08  5533363920\n",
      "h1:worker0  1.221324e+08  3663971949\n",
      "h1:worker1  1.551724e+08  5586206020\n",
      " *** \n",
      "total comm delay: 1.890e+09\n",
      "mean comm delay: 1.400e+07\n",
      "max comm delay: 1.120e+09\n",
      " *** \n",
      "total queue delay: 1.674e+09\n",
      "mean queue delay: 1.240e+07\n",
      "max queue delay: 2.643e+07\n",
      " *** \n",
      "total runtime delay: 1.924e+10\n"
     ]
    }
   ],
   "source": [
    "analyzeTasks(m2_2)"
   ]
  },
  {
   "cell_type": "code",
   "execution_count": 262,
   "id": "d433781a-42f7-4d16-9c26-ca490628cdec",
   "metadata": {},
   "outputs": [
    {
     "name": "stdout",
     "output_type": "stream",
     "text": [
      "total task duration: 2.848e+10\n",
      " *** \n",
      "total task duration per worker:                     mean         sum\n",
      "worker                              \n",
      "h0:worker0  1.930189e+08  6369623137\n",
      "h0:worker1  1.880251e+08  5828778981\n",
      "h0:worker2  1.549318e+08  5577544782\n",
      "h0:worker3  2.129352e+08  7452732450\n",
      " *** \n",
      "total comm delay: 3.256e+09\n",
      "mean comm delay: 2.412e+07\n",
      "max comm delay: 1.030e+09\n",
      " *** \n",
      "total queue delay: 1.713e+09\n",
      "mean queue delay: 1.269e+07\n",
      "max queue delay: 3.221e+07\n",
      " *** \n",
      "total runtime delay: 2.352e+10\n"
     ]
    }
   ],
   "source": [
    "analyzeTasks(m1_4)"
   ]
  },
  {
   "cell_type": "code",
   "execution_count": 263,
   "id": "7ddf5302-6278-4ab9-b3ed-956e49a5f6b5",
   "metadata": {},
   "outputs": [
    {
     "name": "stdout",
     "output_type": "stream",
     "text": [
      "total task duration: 2.223e+10\n",
      " *** \n",
      "total task duration per worker:                     mean         sum\n",
      "worker                              \n",
      "h0:worker0  1.840998e+08  6627594351\n",
      "h1:worker0  1.365749e+08  4506972624\n",
      "h2:worker0  1.557204e+08  5138774422\n",
      "h3:worker0  1.768042e+08  5834538220\n",
      " *** \n",
      "total comm delay: 1.208e+08\n",
      "mean comm delay: 8.948e+05\n",
      "max comm delay: 3.115e+06\n",
      " *** \n",
      "total queue delay: 1.741e+09\n",
      "mean queue delay: 1.289e+07\n",
      "max queue delay: 2.654e+07\n",
      " *** \n",
      "total runtime delay: 2.037e+10\n"
     ]
    }
   ],
   "source": [
    "analyzeTasks(m4_1)"
   ]
  },
  {
   "cell_type": "code",
   "execution_count": 264,
   "id": "5aa18cb3-7f61-42bb-8d42-e77e2c3bbc1b",
   "metadata": {},
   "outputs": [
    {
     "name": "stdout",
     "output_type": "stream",
     "text": [
      "total task duration: 1.783e+10\n",
      " *** \n",
      "total task duration per worker:                  mean          sum\n",
      "worker                            \n",
      "worker0  1.319854e+08  17818026891\n",
      " *** \n",
      "total comm delay: 1.052e+07\n",
      "mean comm delay: 7.793e+04\n",
      "max comm delay: 1.339e+05\n",
      " *** \n",
      "total queue delay: 1.369e+09\n",
      "mean queue delay: 1.014e+07\n",
      "max queue delay: 1.300e+07\n",
      " *** \n",
      "total runtime delay: 1.645e+10\n"
     ]
    }
   ],
   "source": [
    "task_f1 = taskDurations(f1)\n",
    "analyzeTasks(f1)"
   ]
  },
  {
   "cell_type": "code",
   "execution_count": 265,
   "id": "d1b30523-b716-4083-9c61-73ad1a86792d",
   "metadata": {},
   "outputs": [
    {
     "name": "stdout",
     "output_type": "stream",
     "text": [
      "total task duration: 2.809e+10\n",
      " *** \n",
      "total task duration per worker:                  mean         sum\n",
      "worker                           \n",
      "worker0  1.707579e+08  7001074310\n",
      "worker1  2.555861e+08  6645239360\n",
      "worker2  1.788079e+08  7331123557\n",
      "worker3  2.630479e+08  7102292209\n",
      " *** \n",
      "total comm delay: 1.525e+07\n",
      "mean comm delay: 1.130e+05\n",
      "max comm delay: 3.712e+05\n",
      " *** \n",
      "total queue delay: 1.906e+09\n",
      "mean queue delay: 1.412e+07\n",
      "max queue delay: 2.605e+07\n",
      " *** \n",
      "total runtime delay: 2.617e+10\n"
     ]
    }
   ],
   "source": [
    "task_f4 = taskDurations(f4)\n",
    "analyzeTasks(f4)"
   ]
  },
  {
   "cell_type": "code",
   "execution_count": 248,
   "id": "f83cd78c-45a9-45b8-becf-a0368a57cb82",
   "metadata": {},
   "outputs": [
    {
     "data": {
      "text/html": [
       "<div>\n",
       "<style scoped>\n",
       "    .dataframe tbody tr th:only-of-type {\n",
       "        vertical-align: middle;\n",
       "    }\n",
       "\n",
       "    .dataframe tbody tr th {\n",
       "        vertical-align: top;\n",
       "    }\n",
       "\n",
       "    .dataframe thead th {\n",
       "        text-align: right;\n",
       "    }\n",
       "</style>\n",
       "<table border=\"1\" class=\"dataframe\">\n",
       "  <thead>\n",
       "    <tr style=\"text-align: right;\">\n",
       "      <th></th>\n",
       "      <th>total1</th>\n",
       "      <th>total4</th>\n",
       "      <th>dif</th>\n",
       "      <th>rel</th>\n",
       "    </tr>\n",
       "    <tr>\n",
       "      <th>task</th>\n",
       "      <th></th>\n",
       "      <th></th>\n",
       "      <th></th>\n",
       "      <th></th>\n",
       "    </tr>\n",
       "  </thead>\n",
       "  <tbody>\n",
       "    <tr>\n",
       "      <th>concat:29989362f37d65adb916f9c7dde48777a53a1a352764051bd973beda2a63fb06</th>\n",
       "      <td>68975208</td>\n",
       "      <td>71734927</td>\n",
       "      <td>2759719</td>\n",
       "      <td>0.038471</td>\n",
       "    </tr>\n",
       "    <tr>\n",
       "      <th>concat:f26f97554dd3e073b8d9fe163f390f9f880154e2b75b9d7fb63a80b4690b6178</th>\n",
       "      <td>67527044</td>\n",
       "      <td>71302608</td>\n",
       "      <td>3775564</td>\n",
       "      <td>0.052951</td>\n",
       "    </tr>\n",
       "    <tr>\n",
       "      <th>retrieve(0, 11):66952b78ebd28d018329479c6c5275924b0dc376168b2eb77226f5a3a1f9024c</th>\n",
       "      <td>70759868</td>\n",
       "      <td>76455586</td>\n",
       "      <td>5695718</td>\n",
       "      <td>0.074497</td>\n",
       "    </tr>\n",
       "    <tr>\n",
       "      <th>retrieve(0, 20):8c8546823833230cde8b56a2e33825853ff3b2e06f49c666bbf44a3b4f7cc7b4</th>\n",
       "      <td>70741710</td>\n",
       "      <td>77079759</td>\n",
       "      <td>6338049</td>\n",
       "      <td>0.082227</td>\n",
       "    </tr>\n",
       "    <tr>\n",
       "      <th>retrieve(0, 14):9094898c14e4cd09eeb51c92ffb36b4341530a0fdec4851c8c080ba668ba176a</th>\n",
       "      <td>73879619</td>\n",
       "      <td>80653899</td>\n",
       "      <td>6774280</td>\n",
       "      <td>0.083992</td>\n",
       "    </tr>\n",
       "    <tr>\n",
       "      <th>...</th>\n",
       "      <td>...</td>\n",
       "      <td>...</td>\n",
       "      <td>...</td>\n",
       "      <td>...</td>\n",
       "    </tr>\n",
       "    <tr>\n",
       "      <th>efi:3ca7e41b43cfc6dc0a5174c97a9da8ed0306a2046db7b34965a1728cbc107795</th>\n",
       "      <td>1046689611</td>\n",
       "      <td>2278063642</td>\n",
       "      <td>1231374031</td>\n",
       "      <td>0.540535</td>\n",
       "    </tr>\n",
       "    <tr>\n",
       "      <th>sot:7625257a28365dc17f52ac5bea8f6a86a99ce98b8c9f64c00c281ce5b1387a58</th>\n",
       "      <td>476056859</td>\n",
       "      <td>1062649327</td>\n",
       "      <td>586592468</td>\n",
       "      <td>0.552009</td>\n",
       "    </tr>\n",
       "    <tr>\n",
       "      <th>sot:904294dc9ee2f3ebabd25b17b13501b4c0e3261c488cae0cb266af2168bf33cd</th>\n",
       "      <td>471259792</td>\n",
       "      <td>1058127577</td>\n",
       "      <td>586867785</td>\n",
       "      <td>0.554629</td>\n",
       "    </tr>\n",
       "    <tr>\n",
       "      <th>sot:8539458b812cacddc034b87113b2bb1014940ed0bfa652200571042c31e3ba92</th>\n",
       "      <td>470316374</td>\n",
       "      <td>1084441626</td>\n",
       "      <td>614125252</td>\n",
       "      <td>0.566305</td>\n",
       "    </tr>\n",
       "    <tr>\n",
       "      <th>sot:4ad92507a7167648b7fd517129af1b0f197056cd427f866c4eb0628d072d4f9a</th>\n",
       "      <td>478183254</td>\n",
       "      <td>1115544990</td>\n",
       "      <td>637361736</td>\n",
       "      <td>0.571346</td>\n",
       "    </tr>\n",
       "  </tbody>\n",
       "</table>\n",
       "<p>135 rows × 4 columns</p>\n",
       "</div>"
      ],
      "text/plain": [
       "                                                        total1      total4  \\\n",
       "task                                                                         \n",
       "concat:29989362f37d65adb916f9c7dde48777a53a1a35...    68975208    71734927   \n",
       "concat:f26f97554dd3e073b8d9fe163f390f9f880154e2...    67527044    71302608   \n",
       "retrieve(0, 11):66952b78ebd28d018329479c6c52759...    70759868    76455586   \n",
       "retrieve(0, 20):8c8546823833230cde8b56a2e338258...    70741710    77079759   \n",
       "retrieve(0, 14):9094898c14e4cd09eeb51c92ffb36b4...    73879619    80653899   \n",
       "...                                                        ...         ...   \n",
       "efi:3ca7e41b43cfc6dc0a5174c97a9da8ed0306a2046db...  1046689611  2278063642   \n",
       "sot:7625257a28365dc17f52ac5bea8f6a86a99ce98b8c9...   476056859  1062649327   \n",
       "sot:904294dc9ee2f3ebabd25b17b13501b4c0e3261c488...   471259792  1058127577   \n",
       "sot:8539458b812cacddc034b87113b2bb1014940ed0bfa...   470316374  1084441626   \n",
       "sot:4ad92507a7167648b7fd517129af1b0f197056cd427...   478183254  1115544990   \n",
       "\n",
       "                                                           dif       rel  \n",
       "task                                                                      \n",
       "concat:29989362f37d65adb916f9c7dde48777a53a1a35...     2759719  0.038471  \n",
       "concat:f26f97554dd3e073b8d9fe163f390f9f880154e2...     3775564  0.052951  \n",
       "retrieve(0, 11):66952b78ebd28d018329479c6c52759...     5695718  0.074497  \n",
       "retrieve(0, 20):8c8546823833230cde8b56a2e338258...     6338049  0.082227  \n",
       "retrieve(0, 14):9094898c14e4cd09eeb51c92ffb36b4...     6774280  0.083992  \n",
       "...                                                        ...       ...  \n",
       "efi:3ca7e41b43cfc6dc0a5174c97a9da8ed0306a2046db...  1231374031  0.540535  \n",
       "sot:7625257a28365dc17f52ac5bea8f6a86a99ce98b8c9...   586592468  0.552009  \n",
       "sot:904294dc9ee2f3ebabd25b17b13501b4c0e3261c488...   586867785  0.554629  \n",
       "sot:8539458b812cacddc034b87113b2bb1014940ed0bfa...   614125252  0.566305  \n",
       "sot:4ad92507a7167648b7fd517129af1b0f197056cd427...   637361736  0.571346  \n",
       "\n",
       "[135 rows x 4 columns]"
      ]
     },
     "execution_count": 248,
     "metadata": {},
     "output_type": "execute_result"
    }
   ],
   "source": [
    "taskCompareF1F4 = task_f1.set_index(['task'])[['total']].rename(columns={'total': 'total1'}).join(task_f4.set_index(['task'])[['total']].rename(columns={'total': 'total4'}))\n",
    "taskCompareF1F4 = taskCompareF1F4.assign(dif = taskCompareF1F4.total4 - taskCompareF1F4.total1)\n",
    "taskCompareF1F4 = taskCompareF1F4.assign(rel = taskCompareF1F4.dif / taskCompareF1F4.total4)\n",
    "taskCompareF1F4.sort_values(by=\"rel\")"
   ]
  },
  {
   "cell_type": "code",
   "execution_count": 251,
   "id": "fd613c55-9fea-417d-a713-5ffe001cc6be",
   "metadata": {},
   "outputs": [
    {
     "data": {
      "text/html": [
       "<div>\n",
       "<style scoped>\n",
       "    .dataframe tbody tr th:only-of-type {\n",
       "        vertical-align: middle;\n",
       "    }\n",
       "\n",
       "    .dataframe tbody tr th {\n",
       "        vertical-align: top;\n",
       "    }\n",
       "\n",
       "    .dataframe thead th {\n",
       "        text-align: right;\n",
       "    }\n",
       "</style>\n",
       "<table border=\"1\" class=\"dataframe\">\n",
       "  <thead>\n",
       "    <tr style=\"text-align: right;\">\n",
       "      <th></th>\n",
       "      <th>total1</th>\n",
       "      <th>total4</th>\n",
       "      <th>dif</th>\n",
       "      <th>rel</th>\n",
       "    </tr>\n",
       "    <tr>\n",
       "      <th>task</th>\n",
       "      <th></th>\n",
       "      <th></th>\n",
       "      <th></th>\n",
       "      <th></th>\n",
       "    </tr>\n",
       "  </thead>\n",
       "  <tbody>\n",
       "    <tr>\n",
       "      <th>sot:87653e162e8d18cb86a8315791a60d4be2c884c28f93e65f597f77abd2e2e784</th>\n",
       "      <td>479118432</td>\n",
       "      <td>767614286</td>\n",
       "      <td>288495854</td>\n",
       "      <td>0.375834</td>\n",
       "    </tr>\n",
       "    <tr>\n",
       "      <th>sot:7183f05d8d693859986f8bbca7a14051459d4a6dcdc28078bf27d8f33cd1dc16</th>\n",
       "      <td>477998173</td>\n",
       "      <td>788788071</td>\n",
       "      <td>310789898</td>\n",
       "      <td>0.394009</td>\n",
       "    </tr>\n",
       "    <tr>\n",
       "      <th>sot:7625257a28365dc17f52ac5bea8f6a86a99ce98b8c9f64c00c281ce5b1387a58</th>\n",
       "      <td>476056859</td>\n",
       "      <td>1062649327</td>\n",
       "      <td>586592468</td>\n",
       "      <td>0.552009</td>\n",
       "    </tr>\n",
       "    <tr>\n",
       "      <th>sot:904294dc9ee2f3ebabd25b17b13501b4c0e3261c488cae0cb266af2168bf33cd</th>\n",
       "      <td>471259792</td>\n",
       "      <td>1058127577</td>\n",
       "      <td>586867785</td>\n",
       "      <td>0.554629</td>\n",
       "    </tr>\n",
       "    <tr>\n",
       "      <th>sot:8539458b812cacddc034b87113b2bb1014940ed0bfa652200571042c31e3ba92</th>\n",
       "      <td>470316374</td>\n",
       "      <td>1084441626</td>\n",
       "      <td>614125252</td>\n",
       "      <td>0.566305</td>\n",
       "    </tr>\n",
       "    <tr>\n",
       "      <th>sot:4ad92507a7167648b7fd517129af1b0f197056cd427f866c4eb0628d072d4f9a</th>\n",
       "      <td>478183254</td>\n",
       "      <td>1115544990</td>\n",
       "      <td>637361736</td>\n",
       "      <td>0.571346</td>\n",
       "    </tr>\n",
       "    <tr>\n",
       "      <th>efi:7da309b028ff75fc0ec9a12f75963566aa0d153c45ed6935c47c0e75563eee18</th>\n",
       "      <td>1045567051</td>\n",
       "      <td>2233195212</td>\n",
       "      <td>1187628161</td>\n",
       "      <td>0.531807</td>\n",
       "    </tr>\n",
       "    <tr>\n",
       "      <th>efi:ff11bcd117adc0690eacbc69dc108d176707b3617c984261d0e4c2d5327c00cb</th>\n",
       "      <td>1034777442</td>\n",
       "      <td>2231372911</td>\n",
       "      <td>1196595469</td>\n",
       "      <td>0.536260</td>\n",
       "    </tr>\n",
       "    <tr>\n",
       "      <th>efi:e7f579c85aef0f9112c4d5c7c42f0ff5ecaccf9d51f34661404a755714547cae</th>\n",
       "      <td>1050762145</td>\n",
       "      <td>2276816345</td>\n",
       "      <td>1226054200</td>\n",
       "      <td>0.538495</td>\n",
       "    </tr>\n",
       "    <tr>\n",
       "      <th>efi:3ca7e41b43cfc6dc0a5174c97a9da8ed0306a2046db7b34965a1728cbc107795</th>\n",
       "      <td>1046689611</td>\n",
       "      <td>2278063642</td>\n",
       "      <td>1231374031</td>\n",
       "      <td>0.540535</td>\n",
       "    </tr>\n",
       "  </tbody>\n",
       "</table>\n",
       "</div>"
      ],
      "text/plain": [
       "                                                        total1      total4  \\\n",
       "task                                                                         \n",
       "sot:87653e162e8d18cb86a8315791a60d4be2c884c28f9...   479118432   767614286   \n",
       "sot:7183f05d8d693859986f8bbca7a14051459d4a6dcdc...   477998173   788788071   \n",
       "sot:7625257a28365dc17f52ac5bea8f6a86a99ce98b8c9...   476056859  1062649327   \n",
       "sot:904294dc9ee2f3ebabd25b17b13501b4c0e3261c488...   471259792  1058127577   \n",
       "sot:8539458b812cacddc034b87113b2bb1014940ed0bfa...   470316374  1084441626   \n",
       "sot:4ad92507a7167648b7fd517129af1b0f197056cd427...   478183254  1115544990   \n",
       "efi:7da309b028ff75fc0ec9a12f75963566aa0d153c45e...  1045567051  2233195212   \n",
       "efi:ff11bcd117adc0690eacbc69dc108d176707b3617c9...  1034777442  2231372911   \n",
       "efi:e7f579c85aef0f9112c4d5c7c42f0ff5ecaccf9d51f...  1050762145  2276816345   \n",
       "efi:3ca7e41b43cfc6dc0a5174c97a9da8ed0306a2046db...  1046689611  2278063642   \n",
       "\n",
       "                                                           dif       rel  \n",
       "task                                                                      \n",
       "sot:87653e162e8d18cb86a8315791a60d4be2c884c28f9...   288495854  0.375834  \n",
       "sot:7183f05d8d693859986f8bbca7a14051459d4a6dcdc...   310789898  0.394009  \n",
       "sot:7625257a28365dc17f52ac5bea8f6a86a99ce98b8c9...   586592468  0.552009  \n",
       "sot:904294dc9ee2f3ebabd25b17b13501b4c0e3261c488...   586867785  0.554629  \n",
       "sot:8539458b812cacddc034b87113b2bb1014940ed0bfa...   614125252  0.566305  \n",
       "sot:4ad92507a7167648b7fd517129af1b0f197056cd427...   637361736  0.571346  \n",
       "efi:7da309b028ff75fc0ec9a12f75963566aa0d153c45e...  1187628161  0.531807  \n",
       "efi:ff11bcd117adc0690eacbc69dc108d176707b3617c9...  1196595469  0.536260  \n",
       "efi:e7f579c85aef0f9112c4d5c7c42f0ff5ecaccf9d51f...  1226054200  0.538495  \n",
       "efi:3ca7e41b43cfc6dc0a5174c97a9da8ed0306a2046db...  1231374031  0.540535  "
      ]
     },
     "execution_count": 251,
     "metadata": {},
     "output_type": "execute_result"
    }
   ],
   "source": [
    "taskCompareF1F4.sort_values(by=\"dif\")[-10:]"
   ]
  },
  {
   "cell_type": "markdown",
   "id": "2b5794fe-07d4-41b7-aa15-4c7fde9d7615",
   "metadata": {},
   "source": [
    "## Task Takeaways:\n",
    "* There is a big difference between f1 and f4 in pure runtimes of tasks, 17e9 vs 28e9, suggesting some contention happening\n",
    "  * Comparing individual tasks, we see only small relative/abs differences in concats and disk-accessing retrieves, but big in compute intensive sot or efi, suggesting there is some CPU contention\n",
    "  * The difference is also visible for m scenarios -- m1_4 is expectedly like f4, but m2_2 and m4_1 are 20e9 being thus closer to f1. It could be that there is less overlap in those scenarios, as the scheduling is more gappy due to interleaved http comms?\n",
    "* Queue delay exhibits no real difference over f/m scenarios\n",
    "* Comm delays are 1e7 for f scenarios, 1e8 for m4_1, and 1e9 for m2_2 and m1_4 -- m4_1 being midway looks more like a glitch\n",
    "* m2_2 is showing a slight disbalance of one worker being less utilised than the others, all others look balanced"
   ]
  },
  {
   "cell_type": "code",
   "execution_count": 284,
   "id": "6f4c674e-8f8d-4b73-a867-6849528d170c",
   "metadata": {},
   "outputs": [
    {
     "name": "stdout",
     "output_type": "stream",
     "text": [
      "total transmit duration: 8.337e+06\n",
      " *** \n",
      "mode counts: mode\n",
      "local    88\n",
      "Name: count, dtype: int64\n",
      "per-mode transmit duration:          total\n",
      "mode          \n",
      "local  8336637\n",
      " *** \n",
      "total comm delay: 8.337e+06\n",
      "mean comm delay: 9.473e+04\n",
      "max comm delay: 2.603e+05\n",
      " *** \n",
      "total load delay: 0.000e+00\n",
      "mean load delay: nan\n",
      "max load delay: nan\n",
      " *** \n",
      "total transmit delay: 0.000e+00\n",
      "mean transmit delay: nan\n",
      "max transmit delay: nan\n",
      " *** \n"
     ]
    }
   ],
   "source": [
    "analyzeTransmits(f4)"
   ]
  },
  {
   "cell_type": "code",
   "execution_count": 285,
   "id": "e805d215-c7e6-46fd-9d93-7b8e73d61721",
   "metadata": {},
   "outputs": [
    {
     "name": "stdout",
     "output_type": "stream",
     "text": [
      "total transmit duration: 6.179e+09\n",
      " *** \n",
      "mode counts: mode\n",
      "remote       50\n",
      "local        27\n",
      "redundant     8\n",
      "Name: count, dtype: int64\n",
      "per-mode transmit duration:                   total\n",
      "mode                   \n",
      "local      2.513151e+08\n",
      "redundant  1.774257e+09\n",
      "remote     4.153092e+09\n",
      " *** \n",
      "total comm delay: 1.853e+09\n",
      "mean comm delay: 2.180e+07\n",
      "max comm delay: 6.395e+08\n",
      " *** \n",
      "total load delay: 2.685e+07\n",
      "mean load delay: 5.370e+05\n",
      "max load delay: 1.393e+06\n",
      " *** \n",
      "total transmit delay: 3.289e+09\n",
      "mean transmit delay: 6.577e+07\n",
      "max transmit delay: 1.321e+09\n",
      " *** \n"
     ]
    }
   ],
   "source": [
    "trans_m2_2 = transmitDurations(m2_2)\n",
    "analyzeTransmits(m2_2)"
   ]
  },
  {
   "cell_type": "code",
   "execution_count": 289,
   "id": "c92b60cc-b3aa-4e0c-ae78-a377811584ef",
   "metadata": {},
   "outputs": [
    {
     "data": {
      "text/plain": [
       "'1.774e+09'"
      ]
     },
     "execution_count": 289,
     "metadata": {},
     "output_type": "execute_result"
    }
   ],
   "source": [
    "fmn(trans_m2_2.query(\"mode == 'redundant'\").total.sum())"
   ]
  },
  {
   "cell_type": "code",
   "execution_count": 287,
   "id": "42b777ff-482e-49f6-b618-2fc243966b15",
   "metadata": {},
   "outputs": [
    {
     "name": "stdout",
     "output_type": "stream",
     "text": [
      "total transmit duration: 8.200e+09\n",
      " *** \n",
      "mode counts: mode\n",
      "remote    99\n",
      "Name: count, dtype: int64\n",
      "per-mode transmit duration:              total\n",
      "mode              \n",
      "remote  8200233417\n",
      " *** \n",
      "total comm delay: 1.800e+09\n",
      "mean comm delay: 1.818e+07\n",
      "max comm delay: 6.994e+08\n",
      " *** \n",
      "total load delay: 4.834e+07\n",
      "mean load delay: 4.882e+05\n",
      "max load delay: 1.260e+06\n",
      " *** \n",
      "total transmit delay: 6.352e+09\n",
      "mean transmit delay: 6.416e+07\n",
      "max transmit delay: 1.532e+09\n",
      " *** \n"
     ]
    }
   ],
   "source": [
    "analyzeTransmits(m4_1)"
   ]
  },
  {
   "cell_type": "code",
   "execution_count": 288,
   "id": "a4ed2b12-3197-4d7f-9c17-8d975ea981ec",
   "metadata": {},
   "outputs": [
    {
     "name": "stdout",
     "output_type": "stream",
     "text": [
      "total transmit duration: 8.925e+08\n",
      " *** \n",
      "mode counts: mode\n",
      "local    97\n",
      "Name: count, dtype: int64\n",
      "per-mode transmit duration:            total\n",
      "mode            \n",
      "local  892488342\n",
      " *** \n",
      "total comm delay: 8.925e+08\n",
      "mean comm delay: 9.201e+06\n",
      "max comm delay: 4.570e+08\n",
      " *** \n",
      "total load delay: 0.000e+00\n",
      "mean load delay: nan\n",
      "max load delay: nan\n",
      " *** \n",
      "total transmit delay: 0.000e+00\n",
      "mean transmit delay: nan\n",
      "max transmit delay: nan\n",
      " *** \n"
     ]
    }
   ],
   "source": [
    "trans_m1_4 = transmitDurations(m1_4)\n",
    "analyzeTransmits(m1_4)"
   ]
  },
  {
   "cell_type": "markdown",
   "id": "0c87aa35-16b7-412e-acee-bd95f80ae6f2",
   "metadata": {},
   "source": [
    "## Transmit Takeaways\n",
    "* The number of redundant transfers is low, just 8, in the 2-2 scenario. However, they still contributed 1e9 to the total runtime!\n",
    "* Much more remote than local transfers in the 2-2 scenario -- 166 vs 27\n",
    "* Mean comm delay for m1_4 is 9e6 whereas for m4_1 its 1e7 -- suggesting number of hosts is not that important on this front"
   ]
  },
  {
   "cell_type": "code",
   "execution_count": 274,
   "id": "b2c5936a-ea24-4ad0-8c53-28e9d790a4de",
   "metadata": {},
   "outputs": [
    {
     "name": "stdout",
     "output_type": "stream",
     "text": [
      "85\n"
     ]
    },
    {
     "data": {
      "text/plain": [
       "dataset                                                                         \n",
       "concat:29989362f37d65adb916f9c7dde48777a53a1a352764051bd973beda2a63fb06             3\n",
       "retrieve(1, 6):3e415bf5fc9cbf182572a5f1a02bd3020172b2f6bf4dd6bf7c04b6384fa620d5     3\n",
       "retrieve(0, 16):b0f29339bf6aab0a4f71dbd2b43be96d1583726c2f7606cebc4263aaa3b406ae    3\n",
       "retrieve(1, 2):c2e4cafac05f7f16f023ed076d7f004e03b111f725e2447d654aa1f1c94685d1     3\n",
       "retrieve(0, 18):79caabb3af47c5c5d9f1d340b1577ea2d1450aab543213fb2db99b1df980f88b    2\n",
       "                                                                                   ..\n",
       "retrieve(1, 12):419cab96aa86998d59dfff78a4d9acaf053fbb3dc7b4007fc550ff6a6d83bd22    1\n",
       "retrieve(1, 15):95098679dce6c80d62d074a9bb161d1e2d4b0acb16ae2bf717e093d6cdd39236    1\n",
       "retrieve(1, 16):a3ae8851be39a9dce16d214b1be60f2c1d9b3adde75674001763570a6ddd1cb7    1\n",
       "retrieve(1, 17):58eb1753fa0fec3ea14f09bfc2f9ee15b03b32ebe652798cd2f4844adf11e9db    1\n",
       "threshold:df78e83f1ba4dd978d013474193ef558ddfe940e84572973f8677abf494b63dc          1\n",
       "Name: count, Length: 63, dtype: int64"
      ]
     },
     "execution_count": 274,
     "metadata": {},
     "output_type": "execute_result"
    }
   ],
   "source": [
    "print(trans_m2_2[[\"dataset\"]].value_counts().sum())\n",
    "trans_m2_2[[\"dataset\"]].value_counts()"
   ]
  },
  {
   "cell_type": "code",
   "execution_count": 275,
   "id": "0065fe52-77aa-4dc0-8f04-1fb6915507f5",
   "metadata": {},
   "outputs": [
    {
     "name": "stdout",
     "output_type": "stream",
     "text": [
      "97\n"
     ]
    },
    {
     "data": {
      "text/plain": [
       "dataset                                                                         \n",
       "concat:29989362f37d65adb916f9c7dde48777a53a1a352764051bd973beda2a63fb06             3\n",
       "concat:f26f97554dd3e073b8d9fe163f390f9f880154e2b75b9d7fb63a80b4690b6178             3\n",
       "retrieve:228aecd8e8e69130f9f6fe68973639b52a6e378ce14e7372989762a0d4ca9118           3\n",
       "retrieve(0, 16):b0f29339bf6aab0a4f71dbd2b43be96d1583726c2f7606cebc4263aaa3b406ae    3\n",
       "retrieve(0, 6):06ff000f29b3ec409ecbf4826ef59f88e20ae984da898cf200a756c9fa448e1f     2\n",
       "                                                                                   ..\n",
       "retrieve(1, 20):ddb2a10425126ae3147cc5d38d478a6b97daa2b3d426e21e7d1ec1785505bb18    1\n",
       "retrieve(1, 3):b4bf80f8cbd0d9bd0c8b8bd183835151ccdbac05ab2bd03b7260531c7cfe3211     1\n",
       "retrieve(0, 1):b544ed58bf8a08a4b5c630cfe77040f0d79f00ec1b9c1e9655b737d1bf842791     1\n",
       "retrieve(1, 6):3e415bf5fc9cbf182572a5f1a02bd3020172b2f6bf4dd6bf7c04b6384fa620d5     1\n",
       "threshold:df78e83f1ba4dd978d013474193ef558ddfe940e84572973f8677abf494b63dc          1\n",
       "Name: count, Length: 67, dtype: int64"
      ]
     },
     "execution_count": 275,
     "metadata": {},
     "output_type": "execute_result"
    }
   ],
   "source": [
    "print(trans_m1_4[[\"dataset\"]].value_counts().sum())\n",
    "trans_m1_4[[\"dataset\"]].value_counts()"
   ]
  }
 ],
 "metadata": {
  "kernelspec": {
   "display_name": "Python 3 (ipykernel)",
   "language": "python",
   "name": "python3"
  },
  "language_info": {
   "codemirror_mode": {
    "name": "ipython",
    "version": 3
   },
   "file_extension": ".py",
   "mimetype": "text/x-python",
   "name": "python",
   "nbconvert_exporter": "python",
   "pygments_lexer": "ipython3",
   "version": "3.11.8"
  }
 },
 "nbformat": 4,
 "nbformat_minor": 5
}
