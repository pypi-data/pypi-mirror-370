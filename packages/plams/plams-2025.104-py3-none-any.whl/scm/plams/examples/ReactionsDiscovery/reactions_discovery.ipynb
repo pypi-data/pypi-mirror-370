{
 "cells": [
  {
   "cell_type": "markdown",
   "id": "54c81d8b-b0bc-463a-a89a-eace54106f2d",
   "metadata": {},
   "source": [
    "## Initial imports"
   ]
  },
  {
   "cell_type": "code",
   "execution_count": 1,
   "id": "646ac933-1033-4a21-be93-145e6b8218b3",
   "metadata": {},
   "outputs": [
    {
     "name": "stdout",
     "output_type": "stream",
     "text": [
      "PLAMS working folder: /path/plams/examples/ReactionsDiscovery/plams_workdir.002\n"
     ]
    }
   ],
   "source": [
    "from typing import List\n",
    "import scm.plams as plams\n",
    "from scm.input_classes import engines\n",
    "from scm.reactions_discovery import ReactionsDiscoveryJob\n",
    "from rdkit import Chem\n",
    "from rdkit.Chem import Draw\n",
    "\n",
    "# Settings for displaying molecules in the notebook\n",
    "from rdkit.Chem.Draw import IPythonConsole\n",
    "\n",
    "IPythonConsole.ipython_useSVG = True\n",
    "IPythonConsole.molSize = 250, 250\n",
    "\n",
    "# this line is not required in AMS2025+\n",
    "plams.init()"
   ]
  },
  {
   "cell_type": "markdown",
   "id": "dccfa8cf-d714-4794-8cee-16f2a2c7a56e",
   "metadata": {},
   "source": [
    "## Helpers for showing molecules"
   ]
  },
  {
   "cell_type": "code",
   "execution_count": 2,
   "id": "75b4eb3a-7df4-4d07-849d-b26b0648c565",
   "metadata": {},
   "outputs": [],
   "source": [
    "def draw_molecules(molecules: List[plams.Molecule]):\n",
    "    smiles = [molecule.properties.smiles for molecule in molecules]\n",
    "    return draw_smiles(smiles)\n",
    "\n",
    "\n",
    "def draw_smiles(smiles: List[str]):\n",
    "    rd_mols = [Chem.MolFromSmiles(s) for s in smiles]\n",
    "    return Draw.MolsToGridImage(rd_mols)"
   ]
  },
  {
   "cell_type": "markdown",
   "id": "c20519db-4075-4ed7-b9f4-8c71efd95ea0",
   "metadata": {},
   "source": [
    "## The ReactionsDiscoveryJob class"
   ]
  },
  {
   "cell_type": "code",
   "execution_count": 3,
   "id": "4eb04a9f-76f2-4f50-9474-afeff147d9be",
   "metadata": {},
   "outputs": [],
   "source": [
    "job = ReactionsDiscoveryJob(name=\"MyDiscovery\")\n",
    "driver = job.input\n",
    "md = driver.MolecularDynamics"
   ]
  },
  {
   "cell_type": "markdown",
   "id": "7428aa3d-cffe-405d-acee-05b338eaf425",
   "metadata": {},
   "source": [
    "## Setting up the reactants for molecular dynamics"
   ]
  },
  {
   "cell_type": "code",
   "execution_count": 4,
   "id": "cfd00f27-0f8b-4739-a359-8d6871159da7",
   "metadata": {},
   "outputs": [
    {
     "data": {
      "image/svg+xml": [
       "<svg xmlns:svg=\"http://www.w3.org/2000/svg\" xmlns:rdkit=\"http://www.rdkit.org/xml\" xmlns:xlink=\"http://www.w3.org/1999/xlink\" version=\"1.1\" baseProfile=\"full\" xml:space=\"preserve\" width=\"600px\" height=\"200px\">\n",
       "<rect style=\"opacity:1.0;fill:#FFFFFF;stroke:none\" width=\"600\" height=\"200\" x=\"0\" y=\"0\"> </rect>\n",
       "<text x=\"83.9916\" y=\"108.25\" style=\"font-size:15px;font-style:normal;font-weight:normal;fill-opacity:1;stroke:none;font-family:sans-serif;text-anchor:start;fill:#FF0000\"><tspan>H</tspan><tspan style=\"baseline-shift:sub;font-size:11.25px;\">2</tspan><tspan>O</tspan></text>\n",
       "<path d=\"M 375.405,99.671 351.465,89.4839\" style=\"fill:none;fill-rule:evenodd;stroke:#0000FF;stroke-width:2px;stroke-linecap:butt;stroke-linejoin:miter;stroke-opacity:1\"/>\n",
       "<path d=\"M 351.465,89.4839 327.525,79.2968\" style=\"fill:none;fill-rule:evenodd;stroke:#000000;stroke-width:2px;stroke-linecap:butt;stroke-linejoin:miter;stroke-opacity:1\"/>\n",
       "<path d=\"M 327.525,79.2968 272.475,120.703\" style=\"fill:none;fill-rule:evenodd;stroke:#000000;stroke-width:2px;stroke-linecap:butt;stroke-linejoin:miter;stroke-opacity:1\"/>\n",
       "<path d=\"M 272.475,120.703 247.536,110.091\" style=\"fill:none;fill-rule:evenodd;stroke:#000000;stroke-width:2px;stroke-linecap:butt;stroke-linejoin:miter;stroke-opacity:1\"/>\n",
       "<path d=\"M 247.536,110.091 222.596,99.4785\" style=\"fill:none;fill-rule:evenodd;stroke:#FF0000;stroke-width:2px;stroke-linecap:butt;stroke-linejoin:miter;stroke-opacity:1\"/>\n",
       "<text x=\"375.405\" y=\"114.518\" style=\"font-size:15px;font-style:normal;font-weight:normal;fill-opacity:1;stroke:none;font-family:sans-serif;text-anchor:start;fill:#0000FF\"><tspan>NH</tspan><tspan style=\"baseline-shift:sub;font-size:11.25px;\">2</tspan><tspan/></text>\n",
       "<text x=\"195.586\" y=\"101.232\" style=\"font-size:15px;font-style:normal;font-weight:normal;fill-opacity:1;stroke:none;font-family:sans-serif;text-anchor:start;fill:#FF0000\"><tspan>HO</tspan></text>\n",
       "<path d=\"M 493.112,38.616 493.112,69.308\" style=\"fill:none;fill-rule:evenodd;stroke:#FF0000;stroke-width:2px;stroke-linecap:butt;stroke-linejoin:miter;stroke-opacity:1\"/>\n",
       "<path d=\"M 493.112,69.308 493.112,100\" style=\"fill:none;fill-rule:evenodd;stroke:#000000;stroke-width:2px;stroke-linecap:butt;stroke-linejoin:miter;stroke-opacity:1\"/>\n",
       "<path d=\"M 506.888,38.616 506.888,69.308\" style=\"fill:none;fill-rule:evenodd;stroke:#FF0000;stroke-width:2px;stroke-linecap:butt;stroke-linejoin:miter;stroke-opacity:1\"/>\n",
       "<path d=\"M 506.888,69.308 506.888,100\" style=\"fill:none;fill-rule:evenodd;stroke:#000000;stroke-width:2px;stroke-linecap:butt;stroke-linejoin:miter;stroke-opacity:1\"/>\n",
       "<path d=\"M 493.112,100 493.112,130.692\" style=\"fill:none;fill-rule:evenodd;stroke:#000000;stroke-width:2px;stroke-linecap:butt;stroke-linejoin:miter;stroke-opacity:1\"/>\n",
       "<path d=\"M 493.112,130.692 493.112,161.384\" style=\"fill:none;fill-rule:evenodd;stroke:#FF0000;stroke-width:2px;stroke-linecap:butt;stroke-linejoin:miter;stroke-opacity:1\"/>\n",
       "<path d=\"M 506.888,100 506.888,130.692\" style=\"fill:none;fill-rule:evenodd;stroke:#000000;stroke-width:2px;stroke-linecap:butt;stroke-linejoin:miter;stroke-opacity:1\"/>\n",
       "<path d=\"M 506.888,130.692 506.888,161.384\" style=\"fill:none;fill-rule:evenodd;stroke:#FF0000;stroke-width:2px;stroke-linecap:butt;stroke-linejoin:miter;stroke-opacity:1\"/>\n",
       "<text x=\"492.995\" y=\"38.616\" style=\"font-size:15px;font-style:normal;font-weight:normal;fill-opacity:1;stroke:none;font-family:sans-serif;text-anchor:start;fill:#FF0000\"><tspan>O</tspan></text>\n",
       "<text x=\"492.995\" y=\"176.384\" style=\"font-size:15px;font-style:normal;font-weight:normal;fill-opacity:1;stroke:none;font-family:sans-serif;text-anchor:start;fill:#FF0000\"><tspan>O</tspan></text>\n",
       "</svg>"
      ],
      "text/plain": [
       "<IPython.core.display.SVG object>"
      ]
     },
     "execution_count": 4,
     "metadata": {},
     "output_type": "execute_result"
    }
   ],
   "source": [
    "md.NumSimulations = 4\n",
    "build = md.BuildSystem\n",
    "build.NumAtoms = 250\n",
    "build.Density = 0.9\n",
    "build.Molecule[0].SMILES = \"O\"  # Water\n",
    "build.Molecule[0].MoleFraction = 1\n",
    "build.Molecule[1].SMILES = \"NCCO\"  # MEA\n",
    "build.Molecule[1].MoleFraction = 2\n",
    "build.Molecule[2].SMILES = \"O=C=O\"  # Carbondioxide\n",
    "build.Molecule[2].MoleFraction = 3\n",
    "draw_smiles([build.Molecule[i].SMILES.val for i in range(len(build.Molecule))])"
   ]
  },
  {
   "cell_type": "markdown",
   "id": "80c6cf90-1ff3-4fe4-917f-8f08b489e18d",
   "metadata": {},
   "source": [
    "## Setting up reactive molecular dynamics"
   ]
  },
  {
   "cell_type": "code",
   "execution_count": 5,
   "id": "74a4161c-af92-4b80-90e5-02cddcf6291e",
   "metadata": {},
   "outputs": [],
   "source": [
    "md.Enabled = \"Yes\"\n",
    "md.Type = \"NanoReactor\"\n",
    "reactor = md.NanoReactor\n",
    "reactor.NumCycles = 10\n",
    "reactor.Temperature = 500\n",
    "reactor.MinVolumeFraction = 0.6"
   ]
  },
  {
   "cell_type": "markdown",
   "id": "68065274-aafe-4c71-a3b6-c7874e2f1346",
   "metadata": {},
   "source": [
    "## Setting up network extraction and ranking"
   ]
  },
  {
   "cell_type": "code",
   "execution_count": 6,
   "id": "ad3a5359-ba17-4078-952b-2011b3f7e4aa",
   "metadata": {},
   "outputs": [],
   "source": [
    "network = driver.NetworkExtraction\n",
    "network.Enabled = \"Yes\"\n",
    "network.UseCharges = \"Yes\"\n",
    "ranking = driver.ProductRanking\n",
    "ranking.Enabled = \"Yes\""
   ]
  },
  {
   "cell_type": "markdown",
   "id": "8e12fa12-45cf-482e-b08b-f882e52721e0",
   "metadata": {},
   "source": [
    "## Selecting the AMS engine to use"
   ]
  },
  {
   "cell_type": "code",
   "execution_count": 7,
   "id": "6cb9802e-1f11-45cd-a6c1-4e451278e3d3",
   "metadata": {},
   "outputs": [],
   "source": [
    "engine = engines.ReaxFF()\n",
    "engine.ForceField = \"Glycine.ff\"\n",
    "engine.TaperBO = \"Yes\"  # This is a really important setting for reaction analysis with ReaxFF potentials\n",
    "driver.Engine = engine"
   ]
  },
  {
   "cell_type": "markdown",
   "id": "09e24a5e-c921-40d1-a76f-3a9a2dd569f6",
   "metadata": {},
   "source": [
    "## Running reactions discovery"
   ]
  },
  {
   "cell_type": "code",
   "execution_count": 8,
   "id": "edd1b191-327e-40b8-9389-6229ace022c6",
   "metadata": {},
   "outputs": [
    {
     "name": "stdout",
     "output_type": "stream",
     "text": [
      "[11.02|09:43:46] JOB MyDiscovery STARTED\n",
      "[11.02|09:43:46] JOB MyDiscovery RUNNING\n",
      "[11.02|09:46:16] JOB MyDiscovery FINISHED\n",
      "[11.02|09:46:17] JOB MyDiscovery SUCCESSFUL\n"
     ]
    },
    {
     "data": {
      "text/plain": [
       "True"
      ]
     },
     "execution_count": 8,
     "metadata": {},
     "output_type": "execute_result"
    }
   ],
   "source": [
    "result = job.run()  # start the job\n",
    "job.check()  # check if job was succesful"
   ]
  },
  {
   "cell_type": "markdown",
   "id": "f4d5a1ba-3601-4119-af28-2aa1fabd1424",
   "metadata": {},
   "source": [
    "## Obtain the results"
   ]
  },
  {
   "cell_type": "code",
   "execution_count": 9,
   "id": "bb2f3296-d277-42c7-9217-6b2fd7256075",
   "metadata": {},
   "outputs": [],
   "source": [
    "graph, molecules, categories = result.get_network()"
   ]
  },
  {
   "cell_type": "markdown",
   "id": "261ff4dd-5232-4c62-90ef-76b643654e27",
   "metadata": {},
   "source": [
    "## Categories\n",
    "\n",
    "The categories are `Products` `Reactants` and `Unstable`, as described in the reactions discovery manual. `molecules` is a dictionary with keys equal to the categories and each concomitant value is a list of PLAMS molecules."
   ]
  },
  {
   "cell_type": "code",
   "execution_count": 10,
   "id": "2a4dc01a-416e-4f84-bf94-8bdff68541d0",
   "metadata": {},
   "outputs": [
    {
     "name": "stdout",
     "output_type": "stream",
     "text": [
      "['Reactants', 'Products', 'Unstable']\n"
     ]
    }
   ],
   "source": [
    "print(categories)"
   ]
  },
  {
   "cell_type": "code",
   "execution_count": 11,
   "id": "273eeb7d-fd8c-4013-8d26-ade0573dbca8",
   "metadata": {},
   "outputs": [
    {
     "data": {
      "image/svg+xml": [
       "<svg xmlns:svg=\"http://www.w3.org/2000/svg\" xmlns:rdkit=\"http://www.rdkit.org/xml\" xmlns:xlink=\"http://www.w3.org/1999/xlink\" version=\"1.1\" baseProfile=\"full\" xml:space=\"preserve\" width=\"600px\" height=\"200px\">\n",
       "<rect style=\"opacity:1.0;fill:#FFFFFF;stroke:none\" width=\"600\" height=\"200\" x=\"0\" y=\"0\"> </rect>\n",
       "<path d=\"M 175.405,99.671 151.465,89.4839\" style=\"fill:none;fill-rule:evenodd;stroke:#0000FF;stroke-width:2px;stroke-linecap:butt;stroke-linejoin:miter;stroke-opacity:1\"/>\n",
       "<path d=\"M 151.465,89.4839 127.525,79.2968\" style=\"fill:none;fill-rule:evenodd;stroke:#000000;stroke-width:2px;stroke-linecap:butt;stroke-linejoin:miter;stroke-opacity:1\"/>\n",
       "<path d=\"M 127.525,79.2968 72.4749,120.703\" style=\"fill:none;fill-rule:evenodd;stroke:#000000;stroke-width:2px;stroke-linecap:butt;stroke-linejoin:miter;stroke-opacity:1\"/>\n",
       "<path d=\"M 72.4749,120.703 47.5356,110.091\" style=\"fill:none;fill-rule:evenodd;stroke:#000000;stroke-width:2px;stroke-linecap:butt;stroke-linejoin:miter;stroke-opacity:1\"/>\n",
       "<path d=\"M 47.5356,110.091 22.5963,99.4785\" style=\"fill:none;fill-rule:evenodd;stroke:#FF0000;stroke-width:2px;stroke-linecap:butt;stroke-linejoin:miter;stroke-opacity:1\"/>\n",
       "<text x=\"175.405\" y=\"114.518\" style=\"font-size:15px;font-style:normal;font-weight:normal;fill-opacity:1;stroke:none;font-family:sans-serif;text-anchor:start;fill:#0000FF\"><tspan>NH</tspan><tspan style=\"baseline-shift:sub;font-size:11.25px;\">2</tspan><tspan/></text>\n",
       "<text x=\"-4.41449\" y=\"101.232\" style=\"font-size:15px;font-style:normal;font-weight:normal;fill-opacity:1;stroke:none;font-family:sans-serif;text-anchor:start;fill:#FF0000\"><tspan>HO</tspan></text>\n",
       "<path d=\"M 293.112,38.616 293.112,69.308\" style=\"fill:none;fill-rule:evenodd;stroke:#FF0000;stroke-width:2px;stroke-linecap:butt;stroke-linejoin:miter;stroke-opacity:1\"/>\n",
       "<path d=\"M 293.112,69.308 293.112,100\" style=\"fill:none;fill-rule:evenodd;stroke:#000000;stroke-width:2px;stroke-linecap:butt;stroke-linejoin:miter;stroke-opacity:1\"/>\n",
       "<path d=\"M 306.888,38.616 306.888,69.308\" style=\"fill:none;fill-rule:evenodd;stroke:#FF0000;stroke-width:2px;stroke-linecap:butt;stroke-linejoin:miter;stroke-opacity:1\"/>\n",
       "<path d=\"M 306.888,69.308 306.888,100\" style=\"fill:none;fill-rule:evenodd;stroke:#000000;stroke-width:2px;stroke-linecap:butt;stroke-linejoin:miter;stroke-opacity:1\"/>\n",
       "<path d=\"M 293.112,100 293.112,130.692\" style=\"fill:none;fill-rule:evenodd;stroke:#000000;stroke-width:2px;stroke-linecap:butt;stroke-linejoin:miter;stroke-opacity:1\"/>\n",
       "<path d=\"M 293.112,130.692 293.112,161.384\" style=\"fill:none;fill-rule:evenodd;stroke:#FF0000;stroke-width:2px;stroke-linecap:butt;stroke-linejoin:miter;stroke-opacity:1\"/>\n",
       "<path d=\"M 306.888,100 306.888,130.692\" style=\"fill:none;fill-rule:evenodd;stroke:#000000;stroke-width:2px;stroke-linecap:butt;stroke-linejoin:miter;stroke-opacity:1\"/>\n",
       "<path d=\"M 306.888,130.692 306.888,161.384\" style=\"fill:none;fill-rule:evenodd;stroke:#FF0000;stroke-width:2px;stroke-linecap:butt;stroke-linejoin:miter;stroke-opacity:1\"/>\n",
       "<text x=\"292.995\" y=\"38.616\" style=\"font-size:15px;font-style:normal;font-weight:normal;fill-opacity:1;stroke:none;font-family:sans-serif;text-anchor:start;fill:#FF0000\"><tspan>O</tspan></text>\n",
       "<text x=\"292.995\" y=\"176.384\" style=\"font-size:15px;font-style:normal;font-weight:normal;fill-opacity:1;stroke:none;font-family:sans-serif;text-anchor:start;fill:#FF0000\"><tspan>O</tspan></text>\n",
       "<text x=\"483.992\" y=\"108.25\" style=\"font-size:15px;font-style:normal;font-weight:normal;fill-opacity:1;stroke:none;font-family:sans-serif;text-anchor:start;fill:#FF0000\"><tspan>H</tspan><tspan style=\"baseline-shift:sub;font-size:11.25px;\">2</tspan><tspan>O</tspan></text>\n",
       "</svg>"
      ],
      "text/plain": [
       "<IPython.core.display.SVG object>"
      ]
     },
     "execution_count": 11,
     "metadata": {},
     "output_type": "execute_result"
    }
   ],
   "source": [
    "draw_molecules(molecules[\"Reactants\"])"
   ]
  },
  {
   "cell_type": "markdown",
   "id": "7be84197-8c90-4622-9255-413fdfaf217a",
   "metadata": {},
   "source": [
    "## Products\n",
    "\n",
    "These are the side products that reactions discovery found in the order as found by the ranking algorithm."
   ]
  },
  {
   "cell_type": "code",
   "execution_count": 12,
   "id": "ab518b1e-694b-406a-a46d-f61fae9356d1",
   "metadata": {},
   "outputs": [
    {
     "data": {
      "image/svg+xml": [
       "<svg xmlns:svg=\"http://www.w3.org/2000/svg\" xmlns:rdkit=\"http://www.rdkit.org/xml\" xmlns:xlink=\"http://www.w3.org/1999/xlink\" version=\"1.1\" baseProfile=\"full\" xml:space=\"preserve\" width=\"600px\" height=\"400px\">\n",
       "<rect style=\"opacity:1.0;fill:#FFFFFF;stroke:none\" width=\"600\" height=\"400\" x=\"0\" y=\"0\"> </rect>\n",
       "<path d=\"M 73.7568,105.249 95.9149,105.249\" style=\"fill:none;fill-rule:evenodd;stroke:#000000;stroke-width:2px;stroke-linecap:butt;stroke-linejoin:miter;stroke-opacity:1\"/>\n",
       "<path d=\"M 95.9149,105.249 118.073,105.249\" style=\"fill:none;fill-rule:evenodd;stroke:#FF0000;stroke-width:2px;stroke-linecap:butt;stroke-linejoin:miter;stroke-opacity:1\"/>\n",
       "<path d=\"M 73.7568,94.7514 95.9149,94.7514\" style=\"fill:none;fill-rule:evenodd;stroke:#000000;stroke-width:2px;stroke-linecap:butt;stroke-linejoin:miter;stroke-opacity:1\"/>\n",
       "<path d=\"M 95.9149,94.7514 118.073,94.7514\" style=\"fill:none;fill-rule:evenodd;stroke:#FF0000;stroke-width:2px;stroke-linecap:butt;stroke-linejoin:miter;stroke-opacity:1\"/>\n",
       "<text x=\"118.073\" y=\"108.748\" style=\"font-size:17px;font-style:normal;font-weight:normal;fill-opacity:1;stroke:none;font-family:sans-serif;text-anchor:start;fill:#FF0000\"><tspan>O</tspan></text>\n",
       "<path d=\"M 351.185,97.0812 336.079,90.6532\" style=\"fill:none;fill-rule:evenodd;stroke:#0000FF;stroke-width:2px;stroke-linecap:butt;stroke-linejoin:miter;stroke-opacity:1\"/>\n",
       "<path d=\"M 336.079,90.6532 320.973,84.2251\" style=\"fill:none;fill-rule:evenodd;stroke:#000000;stroke-width:2px;stroke-linecap:butt;stroke-linejoin:miter;stroke-opacity:1\"/>\n",
       "<path d=\"M 320.973,84.2251 279.027,115.775\" style=\"fill:none;fill-rule:evenodd;stroke:#000000;stroke-width:2px;stroke-linecap:butt;stroke-linejoin:miter;stroke-opacity:1\"/>\n",
       "<path d=\"M 281.082,110.945 261.02,102.408\" style=\"fill:none;fill-rule:evenodd;stroke:#000000;stroke-width:2px;stroke-linecap:butt;stroke-linejoin:miter;stroke-opacity:1\"/>\n",
       "<path d=\"M 261.02,102.408 240.957,93.8708\" style=\"fill:none;fill-rule:evenodd;stroke:#FF0000;stroke-width:2px;stroke-linecap:butt;stroke-linejoin:miter;stroke-opacity:1\"/>\n",
       "<path d=\"M 276.972,120.604 256.909,112.067\" style=\"fill:none;fill-rule:evenodd;stroke:#000000;stroke-width:2px;stroke-linecap:butt;stroke-linejoin:miter;stroke-opacity:1\"/>\n",
       "<path d=\"M 256.909,112.067 236.847,103.53\" style=\"fill:none;fill-rule:evenodd;stroke:#FF0000;stroke-width:2px;stroke-linecap:butt;stroke-linejoin:miter;stroke-opacity:1\"/>\n",
       "<text x=\"351.185\" y=\"114.399\" style=\"font-size:17px;font-style:normal;font-weight:normal;fill-opacity:1;stroke:none;font-family:sans-serif;text-anchor:start;fill:#0000FF\"><tspan>NH</tspan><tspan style=\"baseline-shift:sub;font-size:12.75px;\">2</tspan><tspan/></text>\n",
       "<text x=\"222.561\" y=\"103.971\" style=\"font-size:17px;font-style:normal;font-weight:normal;fill-opacity:1;stroke:none;font-family:sans-serif;text-anchor:start;fill:#FF0000\"><tspan>O</tspan></text>\n",
       "<path d=\"M 424.242,98.2505 439.394,106.998\" style=\"fill:none;fill-rule:evenodd;stroke:#FF0000;stroke-width:2px;stroke-linecap:butt;stroke-linejoin:miter;stroke-opacity:1\"/>\n",
       "<path d=\"M 439.394,106.998 454.545,115.746\" style=\"fill:none;fill-rule:evenodd;stroke:#000000;stroke-width:2px;stroke-linecap:butt;stroke-linejoin:miter;stroke-opacity:1\"/>\n",
       "<path d=\"M 454.545,115.746 500,89.5027\" style=\"fill:none;fill-rule:evenodd;stroke:#000000;stroke-width:2px;stroke-linecap:butt;stroke-linejoin:miter;stroke-opacity:1\"/>\n",
       "<path d=\"M 500,89.5027 515.152,98.2505\" style=\"fill:none;fill-rule:evenodd;stroke:#000000;stroke-width:2px;stroke-linecap:butt;stroke-linejoin:miter;stroke-opacity:1\"/>\n",
       "<path d=\"M 515.152,98.2505 530.303,106.998\" style=\"fill:none;fill-rule:evenodd;stroke:#0000FF;stroke-width:2px;stroke-linecap:butt;stroke-linejoin:miter;stroke-opacity:1\"/>\n",
       "<path d=\"M 560.606,106.998 568.182,102.624\" style=\"fill:none;fill-rule:evenodd;stroke:#0000FF;stroke-width:2px;stroke-linecap:butt;stroke-linejoin:miter;stroke-opacity:1\"/>\n",
       "<path d=\"M 568.182,102.624 575.758,98.2505\" style=\"fill:none;fill-rule:evenodd;stroke:#FF0000;stroke-width:2px;stroke-linecap:butt;stroke-linejoin:miter;stroke-opacity:1\"/>\n",
       "<text x=\"393.339\" y=\"98.2505\" style=\"font-size:17px;font-style:normal;font-weight:normal;fill-opacity:1;stroke:none;font-family:sans-serif;text-anchor:start;fill:#FF0000\"><tspan>HO</tspan></text>\n",
       "<text x=\"530.29\" y=\"124.494\" style=\"font-size:17px;font-style:normal;font-weight:normal;fill-opacity:1;stroke:none;font-family:sans-serif;text-anchor:start;fill:#0000FF\"><tspan>NH</tspan></text>\n",
       "<text x=\"575.157\" y=\"98.2505\" style=\"font-size:17px;font-style:normal;font-weight:normal;fill-opacity:1;stroke:none;font-family:sans-serif;text-anchor:start;fill:#FF0000\"><tspan>OH</tspan></text>\n",
       "<path d=\"M 32.7866,309.606 81.0823,289.055\" style=\"fill:none;fill-rule:evenodd;stroke:#000000;stroke-width:2px;stroke-linecap:butt;stroke-linejoin:miter;stroke-opacity:1\"/>\n",
       "<path d=\"M 28.6764,299.947 76.9721,279.396\" style=\"fill:none;fill-rule:evenodd;stroke:#000000;stroke-width:2px;stroke-linecap:butt;stroke-linejoin:miter;stroke-opacity:1\"/>\n",
       "<path d=\"M 79.0272,284.225 94.1849,295.626\" style=\"fill:none;fill-rule:evenodd;stroke:#000000;stroke-width:2px;stroke-linecap:butt;stroke-linejoin:miter;stroke-opacity:1\"/>\n",
       "<path d=\"M 94.1849,295.626 109.343,307.027\" style=\"fill:none;fill-rule:evenodd;stroke:#0000FF;stroke-width:2px;stroke-linecap:butt;stroke-linejoin:miter;stroke-opacity:1\"/>\n",
       "<path d=\"M 136.137,309.322 144.827,305.624\" style=\"fill:none;fill-rule:evenodd;stroke:#0000FF;stroke-width:2px;stroke-linecap:butt;stroke-linejoin:miter;stroke-opacity:1\"/>\n",
       "<path d=\"M 144.827,305.624 153.516,301.927\" style=\"fill:none;fill-rule:evenodd;stroke:#FF0000;stroke-width:2px;stroke-linecap:butt;stroke-linejoin:miter;stroke-opacity:1\"/>\n",
       "<text x=\"105.809\" y=\"324.523\" style=\"font-size:17px;font-style:normal;font-weight:normal;fill-opacity:1;stroke:none;font-family:sans-serif;text-anchor:start;fill:#0000FF\"><tspan>NH</tspan></text>\n",
       "<text x=\"153.516\" y=\"303.971\" style=\"font-size:17px;font-style:normal;font-weight:normal;fill-opacity:1;stroke:none;font-family:sans-serif;text-anchor:start;fill:#FF0000\"><tspan>OH</tspan></text>\n",
       "<text x=\"281.916\" y=\"309.623\" style=\"font-size:17px;font-style:normal;font-weight:normal;fill-opacity:1;stroke:none;font-family:sans-serif;text-anchor:start;fill:#0000FF\"><tspan>NH</tspan><tspan style=\"baseline-shift:sub;font-size:12.75px;\">3</tspan><tspan/></text>\n",
       "<path d=\"M 491.84,300 501.166,300\" style=\"fill:none;fill-rule:evenodd;stroke:#0000FF;stroke-width:2px;stroke-linecap:butt;stroke-linejoin:miter;stroke-opacity:1\"/>\n",
       "<path d=\"M 501.166,300 510.491,300\" style=\"fill:none;fill-rule:evenodd;stroke:#FF0000;stroke-width:2px;stroke-linecap:butt;stroke-linejoin:miter;stroke-opacity:1\"/>\n",
       "<text x=\"455.673\" y=\"309.623\" style=\"font-size:17px;font-style:normal;font-weight:normal;fill-opacity:1;stroke:none;font-family:sans-serif;text-anchor:start;fill:#0000FF\"><tspan>H</tspan><tspan style=\"baseline-shift:sub;font-size:12.75px;\">2</tspan><tspan>N</tspan></text>\n",
       "<text x=\"510.491\" y=\"308.748\" style=\"font-size:17px;font-style:normal;font-weight:normal;fill-opacity:1;stroke:none;font-family:sans-serif;text-anchor:start;fill:#FF0000\"><tspan>OH</tspan></text>\n",
       "</svg>"
      ],
      "text/plain": [
       "<IPython.core.display.SVG object>"
      ]
     },
     "execution_count": 12,
     "metadata": {},
     "output_type": "execute_result"
    }
   ],
   "source": [
    "draw_molecules(molecules[\"Products\"][:6])"
   ]
  },
  {
   "cell_type": "markdown",
   "id": "f4b119bf-147a-4251-83f2-f7ccb5d7d400",
   "metadata": {},
   "source": [
    "## Unstable\n",
    "\n",
    "Unstable products were determined to not likely exist outside of reactive dynamics. This e.g. includes radicals or structures that don't form stable molecules in isolation. Not all unstable molecules have a sensible 2d structure, so instead we plot their 3d structure."
   ]
  },
  {
   "cell_type": "code",
   "execution_count": 13,
   "id": "369bfce7-7cfa-4bfd-bd35-5f901e6d5cfb",
   "metadata": {},
   "outputs": [
    {
     "data": {
      "image/png": "[encoded data removed]",
      "text/plain": [
       "<Figure size 200x200 with 1 Axes>"
      ]
     },
     "metadata": {},
     "output_type": "display_data"
    },
    {
     "data": {
      "image/png": "[encoded data removed]",
      "text/plain": [
       "<Figure size 200x200 with 1 Axes>"
      ]
     },
     "metadata": {},
     "output_type": "display_data"
    },
    {
     "data": {
      "image/png": "[encoded data removed]",
      "text/plain": [
       "<Figure size 200x200 with 1 Axes>"
      ]
     },
     "metadata": {},
     "output_type": "display_data"
    }
   ],
   "source": [
    "for unstable_molecule in molecules[\"Unstable\"][:3]:\n",
    "    plams.plot_molecule(unstable_molecule);"
   ]
  },
  {
   "cell_type": "markdown",
   "id": "537e6ab5-1684-48ba-8b2f-1c96301bb235",
   "metadata": {},
   "source": [
    "## Graph of the reaction network\n",
    "\n",
    "The graph is a bipartate networkx DiGraph with reaction and molecule nodes. This can be stored on disk in standard graph formats, e.g. `.gml`"
   ]
  },
  {
   "cell_type": "code",
   "execution_count": 14,
   "id": "9322fa85-6f75-4fa9-9d0c-ba79de4ce649",
   "metadata": {},
   "outputs": [],
   "source": [
    "import networkx as nx\n",
    "\n",
    "nx.write_gml(graph, \"reaction_network.gml\")"
   ]
  },
  {
   "cell_type": "markdown",
   "id": "d6155c64-420a-4e13-ad0d-945f4eda143a",
   "metadata": {},
   "source": [
    "## Load a job not originally run by PLAMS"
   ]
  },
  {
   "cell_type": "code",
   "execution_count": 19,
   "id": "26b955b1-5777-4d89-9080-7e897ac14197",
   "metadata": {},
   "outputs": [],
   "source": [
    "from scm.plams import FileError\n",
    "\n",
    "try:\n",
    "    job = ReactionsDiscoveryJob.load_external(\"plams_workdir/MyDiscovery\")\n",
    "    graph, molecules, categories = job.results.get_network()\n",
    "except FileError:\n",
    "    pass"
   ]
  },
  {
   "cell_type": "code",
   "execution_count": null,
   "id": "1e09313c-bfc1-4e58-a0d1-72736352b0ba",
   "metadata": {},
   "outputs": [],
   "source": []
  }
 ],
 "metadata": {
  "kernelspec": {
   "display_name": "Python 3 (ipykernel)",
   "language": "python",
   "name": "python3"
  },
  "language_info": {
   "codemirror_mode": {
    "name": "ipython",
    "version": 3
   },
   "file_extension": ".py",
   "mimetype": "text/x-python",
   "name": "python",
   "nbconvert_exporter": "python",
   "pygments_lexer": "ipython3",
   "version": "3.8.16"
  }
 },
 "nbformat": 4,
 "nbformat_minor": 5
}
