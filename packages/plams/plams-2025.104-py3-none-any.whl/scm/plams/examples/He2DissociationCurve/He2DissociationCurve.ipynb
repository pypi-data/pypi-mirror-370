{
 "cells": [
  {
   "cell_type": "markdown",
   "id": "ad502be7",
   "metadata": {},
   "source": [
    "## Initial Imports"
   ]
  },
  {
   "cell_type": "code",
   "execution_count": 1,
   "id": "5bc0147f",
   "metadata": {},
   "outputs": [
    {
     "name": "stdout",
     "output_type": "stream",
     "text": [
      "PLAMS working folder: /path/plams/examples/He2DissociationCurve/plams_workdir\n"
     ]
    }
   ],
   "source": [
    "import sys\n",
    "import numpy as np\n",
    "from scm.plams import Settings, Molecule, Atom, AMSJob, init\n",
    "\n",
    "# this line is not required in AMS2025+\n",
    "init()"
   ]
  },
  {
   "cell_type": "markdown",
   "id": "0a011a0f",
   "metadata": {},
   "source": [
    "## Setup Dimer\n",
    "Create Helium atoms and an array of interatomic distances at which to run calculation."
   ]
  },
  {
   "cell_type": "code",
   "execution_count": 2,
   "id": "7c474c79",
   "metadata": {},
   "outputs": [],
   "source": [
    "# type of atoms\n",
    "atom1 = \"He\"\n",
    "atom2 = \"He\""
   ]
  },
  {
   "cell_type": "code",
   "execution_count": 3,
   "id": "082977f9",
   "metadata": {},
   "outputs": [],
   "source": [
    "# interatomic distance values\n",
    "dmin = 2.2\n",
    "dmax = 4.2\n",
    "step = 0.2"
   ]
  },
  {
   "cell_type": "code",
   "execution_count": 4,
   "id": "705e8f43",
   "metadata": {},
   "outputs": [],
   "source": [
    "# create a list with interatomic distances\n",
    "distances = np.arange(dmin, dmax, step)"
   ]
  },
  {
   "cell_type": "markdown",
   "id": "538f4e7f",
   "metadata": {},
   "source": [
    "## Calculation Settings\n",
    "\n",
    "The calculation settings are stored in a `Settings` object."
   ]
  },
  {
   "cell_type": "code",
   "execution_count": 5,
   "id": "c2446238",
   "metadata": {},
   "outputs": [],
   "source": [
    "# calculation parameters (single point, TZP/PBE+GrimmeD3)\n",
    "sett = Settings()\n",
    "sett.input.ams.task = \"SinglePoint\"\n",
    "sett.input.adf.basis.type = \"TZP\"\n",
    "sett.input.adf.xc.gga = \"PBE\"\n",
    "sett.input.adf.xc.dispersion = \"Grimme3\""
   ]
  },
  {
   "cell_type": "markdown",
   "id": "3bb91ad5",
   "metadata": {},
   "source": [
    "## Create and Run Jobs\n",
    "\n",
    "For each interatomic distance, create a Helium dimer molecule with the required geometry then the single point energy calculation job. Run the job and extract the energy. "
   ]
  },
  {
   "cell_type": "code",
   "execution_count": 6,
   "id": "fe1d97ad",
   "metadata": {
    "scrolled": true
   },
   "outputs": [
    {
     "name": "stdout",
     "output_type": "stream",
     "text": [
      "[11.02|16:54:46] JOB dist_2.20 STARTED\n",
      "[11.02|16:54:46] JOB dist_2.20 RUNNING\n",
      "[11.02|16:54:49] JOB dist_2.20 FINISHED\n",
      "[11.02|16:54:49] JOB dist_2.20 SUCCESSFUL\n",
      "[11.02|16:54:49] JOB dist_2.40 STARTED\n",
      "[11.02|16:54:49] JOB dist_2.40 RUNNING\n",
      "[11.02|16:54:51] JOB dist_2.40 FINISHED\n",
      "[11.02|16:54:51] JOB dist_2.40 SUCCESSFUL\n",
      "[11.02|16:54:51] JOB dist_2.60 STARTED\n",
      "[11.02|16:54:51] JOB dist_2.60 RUNNING\n",
      "[11.02|16:54:54] JOB dist_2.60 FINISHED\n",
      "[11.02|16:54:54] JOB dist_2.60 SUCCESSFUL\n",
      "[11.02|16:54:54] JOB dist_2.80 STARTED\n",
      "[11.02|16:54:54] JOB dist_2.80 RUNNING\n",
      "[11.02|16:54:57] JOB dist_2.80 FINISHED\n",
      "[11.02|16:54:57] JOB dist_2.80 SUCCESSFUL\n",
      "[11.02|16:54:57] JOB dist_3.00 STARTED\n",
      "[11.02|16:54:57] JOB dist_3.00 RUNNING\n",
      "[11.02|16:55:00] JOB dist_3.00 FINISHED\n",
      "[11.02|16:55:00] JOB dist_3.00 SUCCESSFUL\n",
      "[11.02|16:55:00] JOB dist_3.20 STARTED\n",
      "[11.02|16:55:00] JOB dist_3.20 RUNNING\n",
      "[11.02|16:55:03] JOB dist_3.20 FINISHED\n",
      "[11.02|16:55:03] JOB dist_3.20 SUCCESSFUL\n",
      "[11.02|16:55:03] JOB dist_3.40 STARTED\n",
      "[11.02|16:55:03] JOB dist_3.40 RUNNING\n",
      "[11.02|16:55:06] JOB dist_3.40 FINISHED\n",
      "[11.02|16:55:06] JOB dist_3.40 SUCCESSFUL\n",
      "[11.02|16:55:06] JOB dist_3.60 STARTED\n",
      "[11.02|16:55:06] JOB dist_3.60 RUNNING\n",
      "[11.02|16:55:09] JOB dist_3.60 FINISHED\n",
      "[11.02|16:55:09] JOB dist_3.60 SUCCESSFUL\n",
      "[11.02|16:55:09] JOB dist_3.80 STARTED\n",
      "[11.02|16:55:09] JOB dist_3.80 RUNNING\n",
      "[11.02|16:55:12] JOB dist_3.80 FINISHED\n",
      "[11.02|16:55:12] JOB dist_3.80 SUCCESSFUL\n",
      "[11.02|16:55:12] JOB dist_4.00 STARTED\n",
      "[11.02|16:55:12] JOB dist_4.00 RUNNING\n",
      "[11.02|16:55:15] JOB dist_4.00 FINISHED\n",
      "[11.02|16:55:15] JOB dist_4.00 SUCCESSFUL\n"
     ]
    }
   ],
   "source": [
    "jobs = []\n",
    "for d in distances:\n",
    "    mol = Molecule()\n",
    "    mol.add_atom(Atom(symbol=atom1, coords=(0.0, 0.0, 0.0)))\n",
    "    mol.add_atom(Atom(symbol=atom2, coords=(d, 0.0, 0.0)))\n",
    "    job = AMSJob(molecule=mol, settings=sett, name=f\"dist_{d:.2f}\")\n",
    "    jobs.append(job)\n",
    "    job.run()"
   ]
  },
  {
   "cell_type": "markdown",
   "id": "60db3560",
   "metadata": {},
   "source": [
    "## Results\n",
    "\n",
    "Print table of results of the distance against the calculated energy."
   ]
  },
  {
   "cell_type": "code",
   "execution_count": 7,
   "id": "e260d28b-f5d9-48bb-9abd-8d661685282f",
   "metadata": {},
   "outputs": [
    {
     "name": "stdout",
     "output_type": "stream",
     "text": [
      "== Results ==\n"
     ]
    },
    {
     "data": {
      "text/markdown": [
       "| d[A] | E[kcal/mol] |\n",
       "|------|-------------|\n",
       "| 2.20 | 0.230       |\n",
       "| 2.40 | -0.054      |\n",
       "| 2.60 | -0.127      |\n",
       "| 2.80 | -0.122      |\n",
       "| 3.00 | -0.094      |\n",
       "| 3.20 | -0.066      |\n",
       "| 3.40 | -0.045      |\n",
       "| 3.60 | -0.030      |\n",
       "| 3.80 | -0.020      |\n",
       "| 4.00 | -0.013      |"
      ],
      "text/plain": [
       "<IPython.core.display.Markdown object>"
      ]
     },
     "metadata": {},
     "output_type": "display_data"
    }
   ],
   "source": [
    "print(\"== Results ==\")\n",
    "try:\n",
    "    # For AMS2025+ can use JobAnalysis class to perform results analysis\n",
    "    from scm.plams import JobAnalysis\n",
    "\n",
    "    ja = (\n",
    "        JobAnalysis(jobs=jobs, standard_fields=None)\n",
    "        .add_field(\"Dist\", lambda j: j.molecule[2].x, display_name=\"d[A]\", fmt=\".2f\")\n",
    "        .add_field(\"Energy\", lambda j: j.results.get_energy(unit=\"kcal/mol\"), display_name=\"E[kcal/mol]\", fmt=\".3f\")\n",
    "    )\n",
    "\n",
    "    # Pretty-print if running in a notebook\n",
    "    if \"ipykernel\" in sys.modules:\n",
    "        ja.display_table()\n",
    "    else:\n",
    "        print(ja.to_table())\n",
    "\n",
    "    energies = ja.Energy\n",
    "\n",
    "except ImportError:\n",
    "\n",
    "    energies = [j.results.get_energy(unit=\"kcal/mol\") for j in jobs]\n",
    "\n",
    "    print(\"d[A]    E[kcal/mol]\")\n",
    "    for d, e in zip(distances, energies):\n",
    "        print(f\"{d:.2f}    {e:.3f}\")"
   ]
  },
  {
   "cell_type": "code",
   "execution_count": 8,
   "id": "fbd9443e-4e41-42a7-a7bc-1781c8741bfe",
   "metadata": {},
   "outputs": [
    {
     "data": {
      "image/png": "[encoded data removed]",
      "text/plain": [
       "<Figure size 300x300 with 1 Axes>"
      ]
     },
     "metadata": {},
     "output_type": "display_data"
    }
   ],
   "source": [
    "import matplotlib.pyplot as plt\n",
    "\n",
    "fig, ax = plt.subplots(figsize=(3, 3))\n",
    "ax.plot(distances, energies, \".-\")\n",
    "ax.set_xlabel(\"He-He distance (Å)\")\n",
    "ax.set_ylabel(\"Energy (kcal/mol)\");"
   ]
  },
  {
   "cell_type": "code",
   "execution_count": null,
   "id": "f5ad0030-e056-4055-a696-c88ec0bfcf02",
   "metadata": {},
   "outputs": [],
   "source": []
  }
 ],
 "metadata": {
  "jupytext": {
   "cell_metadata_filter": "-all",
   "executable": "/usr/bin/env plams",
   "main_language": "python",
   "notebook_metadata_filter": "-all"
  },
  "kernelspec": {
   "display_name": "Python 3 (ipykernel)",
   "language": "python",
   "name": "python3"
  },
  "language_info": {
   "codemirror_mode": {
    "name": "ipython",
    "version": 3
   },
   "file_extension": ".py",
   "mimetype": "text/x-python",
   "name": "python",
   "nbconvert_exporter": "python",
   "pygments_lexer": "ipython3",
   "version": "3.8.16"
  }
 },
 "nbformat": 4,
 "nbformat_minor": 5
}
