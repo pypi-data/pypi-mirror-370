{
 "cells": [
  {
   "cell_type": "markdown",
   "id": "7c52f8b1-4674-4baf-a41f-8675774d95b0",
   "metadata": {},
   "source": [
    "This example shows how to perform a geometry optimization of a water molecule and compute\n",
    "the vibrational normal modes using GFN1-xTB. \n",
    "\n",
    "If you do not have\n",
    "a DFTB license, remove the line with DFTB settings and instead set\n",
    "``settings.input.ForceField.Type = 'UFF'``"
   ]
  },
  {
   "cell_type": "markdown",
   "id": "795cefc1-269c-471d-bdec-c8121b6f543d",
   "metadata": {},
   "source": [
    "## Initial imports"
   ]
  },
  {
   "cell_type": "code",
   "execution_count": 1,
   "id": "36a23e44-5121-45fa-a949-992d6b81eb32",
   "metadata": {},
   "outputs": [
    {
     "name": "stdout",
     "output_type": "stream",
     "text": [
      "PLAMS working folder: /path/plams/examples/WaterOptimization/plams_workdir\n"
     ]
    }
   ],
   "source": [
    "from scm.plams import *\n",
    "\n",
    "# this line is not required in AMS2025+\n",
    "init()"
   ]
  },
  {
   "cell_type": "markdown",
   "id": "a1254b11-05f0-4702-8e50-a7328bd8fb15",
   "metadata": {},
   "source": [
    "## Initial structure"
   ]
  },
  {
   "cell_type": "code",
   "execution_count": 2,
   "id": "54653a62-7e75-4f64-bc22-425514238e6b",
   "metadata": {},
   "outputs": [],
   "source": [
    "# You could also load the geometry from an xyz file:\n",
    "# molecule = Molecule('path/my_molecule.xyz')\n",
    "# or generate a molecule from SMILES:\n",
    "# molecule = from_smiles('O')\n",
    "molecule = Molecule()\n",
    "molecule.add_atom(Atom(symbol=\"O\", coords=(0, 0, 0)))\n",
    "molecule.add_atom(Atom(symbol=\"H\", coords=(1, 0, 0)))\n",
    "molecule.add_atom(Atom(symbol=\"H\", coords=(0, 1, 0)))"
   ]
  },
  {
   "cell_type": "code",
   "execution_count": 3,
   "id": "174daa99-4de6-4442-9d1a-f607bfcb9b65",
   "metadata": {},
   "outputs": [
    {
     "data": {
      "image/png": "[encoded data removed]",
      "text/plain": [
       "<Figure size 200x200 with 1 Axes>"
      ]
     },
     "metadata": {},
     "output_type": "display_data"
    }
   ],
   "source": [
    "try:\n",
    "    plot_molecule(molecule)  # plot molecule in a Jupyter Notebook in AMS2023+\n",
    "except NameError:\n",
    "    pass"
   ]
  },
  {
   "cell_type": "markdown",
   "id": "a619d2bb-0b90-4e7f-b984-77c2f887beab",
   "metadata": {},
   "source": [
    "## Calculation settings\n",
    "\n",
    "The calculation settings are stored in a ``Settings`` object, which is a type of nested dictionary."
   ]
  },
  {
   "cell_type": "code",
   "execution_count": 4,
   "id": "c1c8b9c3-3428-4a96-9a54-c3d4fa564538",
   "metadata": {},
   "outputs": [],
   "source": [
    "settings = Settings()\n",
    "settings.input.ams.Task = \"GeometryOptimization\"\n",
    "settings.input.ams.Properties.NormalModes = \"Yes\"\n",
    "settings.input.DFTB.Model = \"GFN1-xTB\"\n",
    "# settings.input.ForceField.Type = 'UFF' # set this instead of DFTB if you do not have a DFTB license. You will then not be able to extract the HOMO and LUMO energies."
   ]
  },
  {
   "cell_type": "markdown",
   "id": "bcdd0cf8-7426-4428-b178-960049ed7ee3",
   "metadata": {},
   "source": [
    "## Create an AMSJob"
   ]
  },
  {
   "cell_type": "code",
   "execution_count": 5,
   "id": "ad794256-00ff-4850-a370-a2f671fd7465",
   "metadata": {},
   "outputs": [],
   "source": [
    "job = AMSJob(molecule=molecule, settings=settings, name=\"water_optimization\")"
   ]
  },
  {
   "cell_type": "markdown",
   "id": "5c6c477e-86cb-4b90-bcc9-15b071a69b94",
   "metadata": {},
   "source": [
    "You can check the input to AMS by calling the ``get_input()`` method:"
   ]
  },
  {
   "cell_type": "code",
   "execution_count": 6,
   "id": "b4895d8b-3ac6-43c0-8f3d-d97c54b4aafc",
   "metadata": {},
   "outputs": [
    {
     "name": "stdout",
     "output_type": "stream",
     "text": [
      "-- input to the job --\n",
      "Properties\n",
      "  NormalModes Yes\n",
      "End\n",
      "\n",
      "Task GeometryOptimization\n",
      "\n",
      "System\n",
      "  Atoms\n",
      "              O       0.0000000000       0.0000000000       0.0000000000\n",
      "              H       1.0000000000       0.0000000000       0.0000000000\n",
      "              H       0.0000000000       1.0000000000       0.0000000000\n",
      "  End\n",
      "End\n",
      "\n",
      "Engine DFTB\n",
      "  Model GFN1-xTB\n",
      "EndEngine\n",
      "\n",
      "\n",
      "-- end of input --\n"
     ]
    }
   ],
   "source": [
    "print(\"-- input to the job --\")\n",
    "print(job.get_input())\n",
    "print(\"-- end of input --\")"
   ]
  },
  {
   "cell_type": "markdown",
   "id": "bbf945a3-9b0a-4a47-b862-e9965dab62bf",
   "metadata": {},
   "source": [
    "## Run the job"
   ]
  },
  {
   "cell_type": "code",
   "execution_count": 7,
   "id": "cca5630b-ab95-4809-8036-c579b4815730",
   "metadata": {},
   "outputs": [
    {
     "name": "stdout",
     "output_type": "stream",
     "text": [
      "[11.02|10:08:21] JOB water_optimization STARTED\n",
      "[11.02|10:08:21] JOB water_optimization RUNNING\n",
      "[11.02|10:08:22] JOB water_optimization FINISHED\n",
      "[11.02|10:08:22] JOB water_optimization SUCCESSFUL\n"
     ]
    }
   ],
   "source": [
    "job.run();"
   ]
  },
  {
   "cell_type": "markdown",
   "id": "69396aee-7886-4144-80ef-432e90767ea5",
   "metadata": {},
   "source": [
    "## Main results files: ams.rkf and dftb.rkf\n",
    "\n",
    "The paths to the main binary results files ``ams.rkf`` and ``dftb.rkf`` can be retrieved as follows:"
   ]
  },
  {
   "cell_type": "code",
   "execution_count": 8,
   "id": "9a822d96-5c7f-4412-bba1-5c0c0f774f59",
   "metadata": {},
   "outputs": [
    {
     "name": "stdout",
     "output_type": "stream",
     "text": [
      "/path/plams/examples/WaterOptimization/plams_workdir/water_optimization/ams.rkf\n",
      "/path/plams/examples/WaterOptimization/plams_workdir/water_optimization/dftb.rkf\n"
     ]
    }
   ],
   "source": [
    "print(job.results.rkfpath(file=\"ams\"))\n",
    "print(job.results.rkfpath(file=\"engine\"))"
   ]
  },
  {
   "cell_type": "markdown",
   "id": "fae88000-3ef3-412d-a07e-a1b5f764d95b",
   "metadata": {},
   "source": [
    "## Optimized coordinates"
   ]
  },
  {
   "cell_type": "code",
   "execution_count": 9,
   "id": "d5033736-62a0-43de-a825-ae78897a6c6a",
   "metadata": {},
   "outputs": [
    {
     "name": "stdout",
     "output_type": "stream",
     "text": [
      "Optimized coordinates\n",
      "---------------------\n",
      "  Atoms: \n",
      "    1         O       0.066921       0.066921       0.000000\n",
      "    2         H       1.012042      -0.078963       0.000000\n",
      "    3         H      -0.078963       1.012042       0.000000\n",
      "\n",
      "---------------------\n"
     ]
    }
   ],
   "source": [
    "optimized_molecule = job.results.get_main_molecule()\n",
    "\n",
    "print(\"Optimized coordinates\")\n",
    "print(\"---------------------\")\n",
    "print(optimized_molecule)\n",
    "print(\"---------------------\")"
   ]
  },
  {
   "cell_type": "code",
   "execution_count": 10,
   "id": "7e3225eb-34d7-4aef-943a-1850d5138d4e",
   "metadata": {},
   "outputs": [
    {
     "data": {
      "image/png": "[encoded data removed]",
      "text/plain": [
       "<Figure size 200x200 with 1 Axes>"
      ]
     },
     "metadata": {},
     "output_type": "display_data"
    }
   ],
   "source": [
    "try:\n",
    "    plot_molecule(optimized_molecule)  # plot molecule in a Jupyter Notebook in AMS2023+\n",
    "except NameError:\n",
    "    pass"
   ]
  },
  {
   "cell_type": "markdown",
   "id": "b7ea7348-54b8-4227-a729-fb1528b312b9",
   "metadata": {},
   "source": [
    "## Optimized bond lengths and angle"
   ]
  },
  {
   "cell_type": "markdown",
   "id": "a9dd8d33-2ed8-47f2-bca3-e0c144ddd54e",
   "metadata": {},
   "source": [
    "Unlike python lists, where the index of the first element is 0, \n",
    "the index of the first atom in the molecule object is 1."
   ]
  },
  {
   "cell_type": "code",
   "execution_count": 11,
   "id": "07034fa4-a5de-4f1a-a4ab-4ebd2edecfb3",
   "metadata": {},
   "outputs": [
    {
     "name": "stdout",
     "output_type": "stream",
     "text": [
      "O-H bond length: 0.956 angstrom\n"
     ]
    }
   ],
   "source": [
    "bond_length = optimized_molecule[1].distance_to(optimized_molecule[2])\n",
    "print(\"O-H bond length: {:.3f} angstrom\".format(bond_length))"
   ]
  },
  {
   "cell_type": "code",
   "execution_count": 12,
   "id": "9a4f75c5-a131-4801-afc1-6e3dd83869fd",
   "metadata": {},
   "outputs": [
    {
     "name": "stdout",
     "output_type": "stream",
     "text": [
      "Bond angle  : 107.5 degrees\n"
     ]
    }
   ],
   "source": [
    "bond_angle = optimized_molecule[1].angle(optimized_molecule[2], optimized_molecule[3])\n",
    "print(\"Bond angle  : {:.1f} degrees\".format(Units.convert(bond_angle, \"rad\", \"degree\")))"
   ]
  },
  {
   "cell_type": "markdown",
   "id": "0cf5ff25-05ff-49de-bd9c-12b8c073c274",
   "metadata": {},
   "source": [
    "## Calculation timing"
   ]
  },
  {
   "cell_type": "code",
   "execution_count": 13,
   "id": "0662577c-e489-43f0-986a-b43ec3e8da38",
   "metadata": {},
   "outputs": [
    {
     "name": "stdout",
     "output_type": "stream",
     "text": [
      "Timings\n",
      "-------\n",
      "elapsed             : 0.982 seconds\n",
      "system              : 0.060 seconds\n",
      "cpu                 : 0.714 seconds\n",
      "-------\n"
     ]
    }
   ],
   "source": [
    "timings = job.results.get_timings()\n",
    "\n",
    "print(\"Timings\")\n",
    "print(\"-------\")\n",
    "for key, value in timings.items():\n",
    "    print(f\"{key:<20s}: {value:.3f} seconds\")\n",
    "print(\"-------\")"
   ]
  },
  {
   "cell_type": "markdown",
   "id": "b05980cc-3a86-4439-b4e5-9b3a415d2769",
   "metadata": {},
   "source": [
    "## Energy"
   ]
  },
  {
   "cell_type": "code",
   "execution_count": 14,
   "id": "3d453ddc-5082-4983-b428-0a4c003f8082",
   "metadata": {},
   "outputs": [
    {
     "name": "stdout",
     "output_type": "stream",
     "text": [
      "Energy      : -3618.400 kcal/mol\n"
     ]
    }
   ],
   "source": [
    "energy = job.results.get_energy(unit=\"kcal/mol\")\n",
    "\n",
    "print(\"Energy      : {:.3f} kcal/mol\".format(energy))"
   ]
  },
  {
   "cell_type": "markdown",
   "id": "c0837d4c-7d91-4100-b42c-6f1d61074f59",
   "metadata": {},
   "source": [
    "## Vibrational frequencies"
   ]
  },
  {
   "cell_type": "code",
   "execution_count": 15,
   "id": "1b03d7c6-a73b-4edb-9744-094215ae9118",
   "metadata": {},
   "outputs": [
    {
     "name": "stdout",
     "output_type": "stream",
     "text": [
      "Frequencies\n",
      "-----------\n",
      "1427.924 cm^-1\n",
      "3674.507 cm^-1\n",
      "3785.960 cm^-1\n",
      "-----------\n"
     ]
    }
   ],
   "source": [
    "frequencies = job.results.get_frequencies(unit=\"cm^-1\")\n",
    "\n",
    "print(\"Frequencies\")\n",
    "print(\"-----------\")\n",
    "for freq in frequencies:\n",
    "    print(f\"{freq:.3f} cm^-1\")\n",
    "print(\"-----------\")"
   ]
  },
  {
   "cell_type": "markdown",
   "id": "b4df10a1-61b3-4e3f-b440-93b108fec8f6",
   "metadata": {},
   "source": [
    "##  Dipole moment"
   ]
  },
  {
   "cell_type": "code",
   "execution_count": 16,
   "id": "f5610887-6419-470b-9851-c0a864ba5373",
   "metadata": {},
   "outputs": [
    {
     "name": "stdout",
     "output_type": "stream",
     "text": [
      "Dipole moment: 1.830 debye\n"
     ]
    }
   ],
   "source": [
    "import numpy as np\n",
    "\n",
    "try:\n",
    "    dipole_moment = np.linalg.norm(np.array(job.results.get_dipolemoment()))\n",
    "    dipole_moment *= Units.convert(1.0, \"au\", \"debye\")\n",
    "    print(\"Dipole moment: {:.3f} debye\".format(dipole_moment))\n",
    "except KeyError:\n",
    "    print(\"Couldn't extract the dipole moment\")"
   ]
  },
  {
   "cell_type": "markdown",
   "id": "c34b8d50-bd52-4322-ab44-9d83f4ae1101",
   "metadata": {},
   "source": [
    "## HOMO, LUMO, and HOMO-LUMO gap\n",
    "\n",
    "Note: The methods for extracting HOMO, LUMO, and HOMO-LUMO gap only exist in AMS2023 and later."
   ]
  },
  {
   "cell_type": "code",
   "execution_count": 17,
   "id": "3078b74e-2045-43a7-9f72-10c31fe1ca1c",
   "metadata": {},
   "outputs": [
    {
     "name": "stdout",
     "output_type": "stream",
     "text": [
      "HOMO        : -13.593 eV\n",
      "LUMO        : -4.206 eV\n",
      "HOMO-LUMO gap : 9.387 eV\n"
     ]
    }
   ],
   "source": [
    "try:\n",
    "    homo = job.results.get_homo_energies(unit=\"eV\")[0]\n",
    "    lumo = job.results.get_lumo_energies(unit=\"eV\")[0]\n",
    "    homo_lumo_gap = job.results.get_smallest_homo_lumo_gap(unit=\"eV\")\n",
    "\n",
    "    print(\"HOMO        : {:.3f} eV\".format(homo))\n",
    "    print(\"LUMO        : {:.3f} eV\".format(lumo))\n",
    "    print(\"HOMO-LUMO gap : {:.3f} eV\".format(homo_lumo_gap))\n",
    "except AttributeError:\n",
    "    print(\"Methods to extract HOMO and LUMO require AMS2023 or later\")\n",
    "except KeyError:\n",
    "    print(\"Couldn't extract the HOMO and LUMO.\")"
   ]
  },
  {
   "cell_type": "markdown",
   "id": "ef707da7-0dd5-4074-80c4-99dd1bcdc694",
   "metadata": {},
   "source": [
    "## Read results directly from binary .rkf files\n",
    "\n",
    "You can also read results directly from the binary .rkf files. Use the \"expert mode\" of the KFbrowser program that comes with AMS to find out which section and variable to read.\n",
    "\n",
    "Below, we show how to extract the ``AMSResults%Energy`` variable from the dftb.rkf file. This is the same number that was extracted previously using the ``job.results.get_energy()`` method."
   ]
  },
  {
   "cell_type": "code",
   "execution_count": 18,
   "id": "59cbea6d-a00e-4e78-8bda-31e872f32baf",
   "metadata": {},
   "outputs": [
    {
     "name": "stdout",
     "output_type": "stream",
     "text": [
      "Energy from the engine .rkf file (in hartree): -5.766288141081021\n"
     ]
    }
   ],
   "source": [
    "energy = job.results.readrkf(\"AMSResults\", \"Energy\", file=\"engine\")\n",
    "print(f\"Energy from the engine .rkf file (in hartree): {energy}\")"
   ]
  }
 ],
 "metadata": {
  "kernelspec": {
   "display_name": "Python 3 (ipykernel)",
   "language": "python",
   "name": "python3"
  },
  "language_info": {
   "codemirror_mode": {
    "name": "ipython",
    "version": 3
   },
   "file_extension": ".py",
   "mimetype": "text/x-python",
   "name": "python",
   "nbconvert_exporter": "python",
   "pygments_lexer": "ipython3",
   "version": "3.8.16"
  }
 },
 "nbformat": 4,
 "nbformat_minor": 5
}
