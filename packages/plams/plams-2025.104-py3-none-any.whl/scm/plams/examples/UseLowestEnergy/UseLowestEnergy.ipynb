{
 "cells": [
  {
   "cell_type": "markdown",
   "id": "61e0c7bb-0ac0-4c61-b9ae-658600a3b8db",
   "metadata": {},
   "source": [
    "## Purpose\n",
    "Example showing the `UseLowestEnergy` feature of the Hybrid engine and the `OptimizeSpinRound` feature of the ADF engine.\n",
    "\n",
    "A bond scan is performed on hydrogen peroxide with UFF. The resulting\n",
    "structures are then recalculated with DFT using four different setups. In\n",
    "particular, one setup uses the Hybrid engine with DynamicFactors=UseLowestEnergy.\n",
    "Another uses the ADF engine with `OptimizeSpinRound` in combination with an `ElectronicTemperature`.\n",
    "\n",
    "In the end, the results of energy vs. bond length are plotted.\n",
    "\n",
    "## Initial imports"
   ]
  },
  {
   "cell_type": "code",
   "execution_count": 1,
   "id": "ee9b908d-b600-4630-bc6e-baae2b7e7cbd",
   "metadata": {},
   "outputs": [
    {
     "name": "stdout",
     "output_type": "stream",
     "text": [
      "PLAMS working folder: /path/plams/plams_workdir\n"
     ]
    }
   ],
   "source": [
    "import matplotlib.pyplot as plt\n",
    "from scm.plams import from_smiles, Settings, AMSJob, Units, init\n",
    "\n",
    "# this line is not required in AMS2025+\n",
    "init()"
   ]
  },
  {
   "cell_type": "markdown",
   "id": "4ceaa4a2-5940-4034-b61e-a075bfd06993",
   "metadata": {},
   "source": [
    "## Helper functions"
   ]
  },
  {
   "cell_type": "code",
   "execution_count": 2,
   "id": "375ce1da-7b57-4329-ad43-78cd8627a44e",
   "metadata": {},
   "outputs": [],
   "source": [
    "def initial_pesscan():\n",
    "    \"\"\"Run a bond scan for hydrogen peroxide with UFF. Returns the finished job\"\"\"\n",
    "    mol = from_smiles(\"OO\")  # hydrogen peroxide\n",
    "    s = Settings()\n",
    "    s.input.ams.Task = \"PESScan\"\n",
    "    s.input.ams.PESScan.ScanCoordinate.nPoints = 7\n",
    "    # Scan O-O bond length (atoms 1 and 2) between 1.2 and 2.5 Å\n",
    "    s.input.ams.PESScan.ScanCoordinate.Distance = \"2 1 1.2 2.5\"\n",
    "    s.input.ForceField.Type = \"UFF\"\n",
    "    job = AMSJob(settings=s, molecule=mol, name=\"initial_pesscan\")\n",
    "    job.run()\n",
    "    return job\n",
    "\n",
    "\n",
    "def singlet_settings(header=\"\"):\n",
    "    s = Settings()\n",
    "    s.Unrestricted = \"No\"\n",
    "    s.XC.GGA = \"PBE\"\n",
    "    s.Basis.Type = \"DZP\"\n",
    "    s.SCF.Iterations = 100\n",
    "    s._h = header\n",
    "    return s\n",
    "\n",
    "\n",
    "def triplet_settings(header=\"\"):\n",
    "    s = Settings()\n",
    "    s.Unrestricted = \"Yes\"\n",
    "    s.SpinPolarization = 2\n",
    "    s.XC.GGA = \"PBE\"\n",
    "    s.Basis.Type = \"DZP\"\n",
    "    s.SCF.Iterations = 100\n",
    "    s._h = header\n",
    "    return s\n",
    "\n",
    "\n",
    "def hybrid_settings():\n",
    "    \"\"\"Look at the file plams_workdir/hybrid/hybrid.in to see how the below is translated into text input for the hybrid engine\"\"\"\n",
    "    s = Settings()\n",
    "    s.input.Hybrid.Energy.DynamicFactors = \"UseLowestEnergy\"\n",
    "\n",
    "    s.input.Hybrid.Energy.Term = [\"Region=* EngineID=Singlet\", \"Region=* EngineID=Triplet\"]\n",
    "\n",
    "    s.input.Hybrid.Engine = [singlet_settings(\"ADF Singlet\"), triplet_settings(\"ADF Triplet\")]\n",
    "    return s\n",
    "\n",
    "\n",
    "def replay_job(rkf, engine=\"hybrid\"):\n",
    "    \"\"\"Replay the structures from the UFF pesscan with ADF. Use three different engines:\n",
    "    Hybrid: This will run all structures with both Singlet and Triplet and pick the lowest energy\n",
    "    Singlet: This runs all structures using the Singlet settings\n",
    "    Triplet: This runs all structures using the Triplet settings\n",
    "\n",
    "    Returns the finished job\n",
    "    \"\"\"\n",
    "    s = Settings()\n",
    "    if engine == \"hybrid\":\n",
    "        s = hybrid_settings()\n",
    "    elif engine == \"singlet\":\n",
    "        s.input.adf = singlet_settings()\n",
    "    elif engine == \"triplet\":\n",
    "        s.input.adf = triplet_settings()\n",
    "    elif engine == \"optimizespin\":\n",
    "        s.input.adf = triplet_settings()\n",
    "        s.input.adf.Occupations = \"ElectronicTemperature=300 OptimizeSpinRound=0.05\"\n",
    "\n",
    "    s.input.ams.Task = \"Replay\"\n",
    "    s.input.ams.Replay.File = rkf\n",
    "\n",
    "    job = AMSJob(settings=s, name=engine)\n",
    "    job.run()\n",
    "    return job\n",
    "\n",
    "\n",
    "def plot_results(singlet_job, triplet_job, hybrid_job, optimizespin_job):\n",
    "    \"\"\"\n",
    "    Generate a plot of the energy vs. bond length for the three different jobs.  Saves a plot to pesplot.png.\n",
    "    \"\"\"\n",
    "    bondlengths = singlet_job.results.get_pesscan_results()[\"RaveledPESCoords\"][0]\n",
    "    bondlengths = Units.convert(bondlengths, \"bohr\", \"angstrom\")\n",
    "\n",
    "    singlet_pes = singlet_job.results.get_pesscan_results()[\"PES\"]\n",
    "    triplet_pes = triplet_job.results.get_pesscan_results()[\"PES\"]\n",
    "    hybrid_pes = hybrid_job.results.get_pesscan_results()[\"PES\"]\n",
    "    hybrid_pes = [x - 0.005 for x in hybrid_pes]  # slightly downshift for visual clarity when plotting\n",
    "    optimizespin_pes = optimizespin_job.results.get_pesscan_results()[\"PES\"]\n",
    "    optimizespin_pes = [x - 0.010 for x in optimizespin_pes]  # slightly downshift for visual clarity when plotting\n",
    "\n",
    "    plt.plot(bondlengths, singlet_pes)\n",
    "    plt.plot(bondlengths, triplet_pes)\n",
    "    plt.plot(bondlengths, hybrid_pes)\n",
    "    plt.plot(bondlengths, optimizespin_pes)\n",
    "    plt.title(\"PES Scan for hydrogen peroxide\")\n",
    "    plt.xlabel(\"O-O bond length (Å)\")\n",
    "    plt.ylabel(\"Energy (hartree)\")\n",
    "    plt.legend(\n",
    "        [\"Singlet\", \"Triplet\", \"Hybrid: Lowest energy (slightly shifted)\", \"ADF: optimized spin (slightly shifted)\"]\n",
    "    )\n",
    "    plt.savefig(\"pesplot.png\")\n",
    "    plt.show()"
   ]
  },
  {
   "cell_type": "markdown",
   "id": "03346a9d-b7df-460a-9ace-2fa570b6d255",
   "metadata": {},
   "source": [
    "## Run the job"
   ]
  },
  {
   "cell_type": "code",
   "execution_count": 3,
   "id": "e411258f-f5eb-4148-b1f1-aa6210a5bece",
   "metadata": {},
   "outputs": [
    {
     "name": "stdout",
     "output_type": "stream",
     "text": [
      "[04.03|14:01:29] JOB initial_pesscan STARTED\n",
      "[04.03|14:01:29] JOB initial_pesscan RUNNING\n",
      "[04.03|14:01:31] JOB initial_pesscan FINISHED\n",
      "[04.03|14:01:31] Job initial_pesscan reported warnings. Please check the output\n",
      "[04.03|14:01:31] JOB initial_pesscan SUCCESSFUL\n",
      "[04.03|14:01:31] Job initial_pesscan reported warnings. Please check the output\n",
      "[04.03|14:01:31] Job initial_pesscan reported warnings. Please check the output\n",
      "[04.03|14:01:31] Job initial_pesscan reported warnings. Please check the output\n",
      "[04.03|14:01:31] JOB singlet STARTED\n",
      "[04.03|14:01:31] JOB singlet RUNNING\n",
      "[04.03|14:01:42] JOB singlet FINISHED\n",
      "[04.03|14:01:42] Job singlet reported warnings. Please check the output\n",
      "[04.03|14:01:42] JOB singlet SUCCESSFUL\n",
      "[04.03|14:01:42] Job singlet reported warnings. Please check the output\n",
      "[04.03|14:01:42] Job singlet reported warnings. Please check the output\n",
      "[04.03|14:01:42] Job singlet reported warnings. Please check the output\n",
      "[04.03|14:01:42] JOB triplet STARTED\n",
      "[04.03|14:01:42] JOB triplet RUNNING\n",
      "[04.03|14:01:51] JOB triplet FINISHED\n",
      "[04.03|14:01:51] JOB triplet SUCCESSFUL\n",
      "[04.03|14:01:51] JOB hybrid STARTED\n",
      "[04.03|14:01:51] JOB hybrid RUNNING\n",
      "[04.03|14:02:04] JOB hybrid FINISHED\n",
      "[04.03|14:02:04] JOB hybrid SUCCESSFUL\n",
      "[04.03|14:02:04] JOB optimizespin STARTED\n",
      "[04.03|14:02:04] JOB optimizespin RUNNING\n",
      "[04.03|14:02:21] JOB optimizespin FINISHED\n",
      "[04.03|14:02:21] JOB optimizespin SUCCESSFUL\n"
     ]
    }
   ],
   "source": [
    "pesscan_job = initial_pesscan()\n",
    "rkf = pesscan_job.results.rkfpath()\n",
    "singlet_job = replay_job(rkf, \"singlet\")\n",
    "triplet_job = replay_job(rkf, \"triplet\")\n",
    "hybrid_job = replay_job(rkf, \"hybrid\")\n",
    "optimizespin_job = replay_job(rkf, \"optimizespin\")\n",
    "# or load the finished jobs from disk:\n",
    "# pesscan_job = AMSJob.load_external('plams_workdir.002/initial_pesscan/ams.rkf')\n",
    "# rkf = pesscan_job.results.rkfpath()\n",
    "# singlet_job = AMSJob.load_external('plams_workdir.002/singlet/ams.rkf')\n",
    "# triplet_job = AMSJob.load_external('plams_workdir.002/triplet/ams.rkf')\n",
    "# hybrid_job = AMSJob.load_external('plams_workdir.002/hybrid/ams.rkf')\n",
    "# optimizespin_job = AMSJob.load_external('plams_workdir.002/optimizespin/ams.rkf')"
   ]
  },
  {
   "cell_type": "markdown",
   "id": "30eb097a-1a8c-4f04-bd60-a4e9a862e9cb",
   "metadata": {
    "tags": []
   },
   "source": [
    "## Plot the result\n",
    "\n",
    "Two equivalent to follow the lowest energy of the singlet and the triplet state, with either the Hybrid engine (green) or the optimize spin option (red) from ADF."
   ]
  },
  {
   "cell_type": "code",
   "execution_count": 4,
   "id": "f8973040-7de7-4c88-a430-578f2948b441",
   "metadata": {},
   "outputs": [
    {
     "data": {
      "image/png": "[encoded data removed]",
      "text/plain": [
       "<Figure size 432x288 with 1 Axes>"
      ]
     },
     "metadata": {
      "needs_background": "light"
     },
     "output_type": "display_data"
    }
   ],
   "source": [
    "plot_results(singlet_job, triplet_job, hybrid_job, optimizespin_job)"
   ]
  },
  {
   "cell_type": "code",
   "execution_count": null,
   "id": "51791fe4-0e89-4a15-98b1-0c04ed2ff033",
   "metadata": {},
   "outputs": [],
   "source": []
  }
 ],
 "metadata": {
  "kernelspec": {
   "display_name": "Python 3",
   "language": "python",
   "name": "python3"
  },
  "language_info": {
   "codemirror_mode": {
    "name": "ipython",
    "version": 3
   },
   "file_extension": ".py",
   "mimetype": "text/x-python",
   "name": "python",
   "nbconvert_exporter": "python",
   "pygments_lexer": "ipython3",
   "version": "3.8.12"
  }
 },
 "nbformat": 4,
 "nbformat_minor": 5
}
