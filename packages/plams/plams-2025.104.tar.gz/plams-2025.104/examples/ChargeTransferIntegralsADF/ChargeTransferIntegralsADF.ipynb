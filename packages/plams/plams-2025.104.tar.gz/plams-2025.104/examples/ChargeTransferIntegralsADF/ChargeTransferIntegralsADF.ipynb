{
 "cells": [
  {
   "cell_type": "markdown",
   "id": "39c1510d",
   "metadata": {},
   "source": [
    "## Initial Imports"
   ]
  },
  {
   "cell_type": "code",
   "execution_count": 1,
   "id": "29ea86b7",
   "metadata": {},
   "outputs": [
    {
     "name": "stdout",
     "output_type": "stream",
     "text": [
      "PLAMS working folder: /path/plams/examples/ChargeTransferIntegralsADF/plams_workdir\n"
     ]
    }
   ],
   "source": [
    "from scm.plams import Settings, ADFFragmentResults, Molecule, log, ADFFragmentJob, add_to_class, init\n",
    "\n",
    "# this line is not required in AMS2025+\n",
    "init()"
   ]
  },
  {
   "cell_type": "markdown",
   "id": "d6bf999e",
   "metadata": {},
   "source": [
    "## Helper Functions\n",
    "Add helper results extraction method."
   ]
  },
  {
   "cell_type": "code",
   "execution_count": 2,
   "id": "dd9f6c37",
   "metadata": {},
   "outputs": [],
   "source": [
    "@add_to_class(ADFFragmentResults)\n",
    "def get_transfer_integrals(self):\n",
    "    return self.job.full.results.read_rkf_section(\"TransferIntegrals\", file=\"adf\")"
   ]
  },
  {
   "cell_type": "markdown",
   "id": "c02dd61d",
   "metadata": {},
   "source": [
    "## Configure Settings\n",
    "Set up common settings for all 3 jobs, the specific settings for full system job. Note that in the interest of computational speed we use a minimal basis set. For more quantitatively meaningful results, you should use a larger basis."
   ]
  },
  {
   "cell_type": "code",
   "execution_count": 3,
   "id": "3b1e9862",
   "metadata": {},
   "outputs": [],
   "source": [
    "common = Settings()\n",
    "common.input.ams.Task = \"SinglePoint\"\n",
    "common.input.adf.Basis.Type = \"SZ\"\n",
    "common.input.adf.Basis.Core = \"None\"\n",
    "common.input.adf.Symmetry = \"NoSym\""
   ]
  },
  {
   "cell_type": "code",
   "execution_count": 4,
   "id": "9bc2dc39",
   "metadata": {},
   "outputs": [],
   "source": [
    "full = Settings()\n",
    "full.input.adf.transferintegrals = True"
   ]
  },
  {
   "cell_type": "markdown",
   "id": "67c664a3",
   "metadata": {},
   "source": [
    "## Load Molecule\n",
    "Load benzene dimer from xyz file and separate it into 2 fragments. Alternatively one could simply load fragments from separate xyz files:\n",
    "```\n",
    "mol1 = Molecule('fragment1.xyz')\n",
    "mol2 = Molecule('fragment2.xyz')\n",
    "```"
   ]
  },
  {
   "cell_type": "code",
   "execution_count": 5,
   "id": "c7927512",
   "metadata": {},
   "outputs": [],
   "source": [
    "mol = Molecule(\"BenzeneDimer.xyz\")\n",
    "mol.guess_bonds()\n",
    "fragments = mol.separate()\n",
    "if len(fragments) != 2:\n",
    "    log(\"ERROR: Molecule {} was split into {} fragments\".format(mol.properties.name, len(fragments)))\n",
    "    import sys\n",
    "\n",
    "    sys.exit(1)\n",
    "else:\n",
    "    mol1, mol2 = fragments"
   ]
  },
  {
   "cell_type": "markdown",
   "id": "376ad010",
   "metadata": {},
   "source": [
    "## Run Job and Get Results"
   ]
  },
  {
   "cell_type": "code",
   "execution_count": 6,
   "id": "1f8fa04e",
   "metadata": {},
   "outputs": [
    {
     "name": "stdout",
     "output_type": "stream",
     "text": [
      "[10.02|15:07:14] JOB ADFTI STARTED\n",
      "[10.02|15:07:14] JOB ADFTI RUNNING\n",
      "[10.02|15:07:14] JOB ADFTI/frag1 STARTED\n",
      "[10.02|15:07:14] JOB ADFTI/frag1 RUNNING\n",
      "[10.02|15:07:20] JOB ADFTI/frag1 FINISHED\n",
      "[10.02|15:07:20] JOB ADFTI/frag1 SUCCESSFUL\n",
      "[10.02|15:07:20] JOB ADFTI/frag2 STARTED\n",
      "[10.02|15:07:20] JOB ADFTI/frag2 RUNNING\n",
      "[10.02|15:07:25] JOB ADFTI/frag2 FINISHED\n",
      "[10.02|15:07:25] JOB ADFTI/frag2 SUCCESSFUL\n",
      "[10.02|15:07:25] JOB ADFTI/full STARTED\n",
      "[10.02|15:07:25] JOB ADFTI/full RUNNING\n",
      "[10.02|15:07:43] JOB ADFTI/full FINISHED\n",
      "[10.02|15:07:43] JOB ADFTI/full SUCCESSFUL\n",
      "[10.02|15:07:43] JOB ADFTI FINISHED\n",
      "[10.02|15:07:43] JOB ADFTI SUCCESSFUL\n"
     ]
    }
   ],
   "source": [
    "job = ADFFragmentJob(name=\"ADFTI\", fragment1=mol1, fragment2=mol2, settings=common, full_settings=full)\n",
    "results = job.run()"
   ]
  },
  {
   "cell_type": "code",
   "execution_count": 7,
   "id": "9b3da3d9",
   "metadata": {},
   "outputs": [
    {
     "name": "stdout",
     "output_type": "stream",
     "text": [
      "== Results ==\n",
      "J(charge recombination 12)  :     0.010744\n",
      "J(charge recombination 21)  :     0.010744\n",
      "J(electron)                 :     0.012050\n",
      "J(hole)                     :    -0.034988\n",
      "S(charge recombination 12)  :    -0.016229\n",
      "S(charge recombination 21)  :    -0.016229\n",
      "S(electron)                 :    -0.018755\n",
      "S(hole)                     :     0.049852\n",
      "V(charge recombination 12)  :     0.009867\n",
      "V(charge recombination 21)  :     0.009867\n",
      "V(electron)                 :     0.013129\n",
      "V(hole)                     :    -0.026790\n",
      "Vtot(charge recombination 12):     0.013193\n",
      "Vtot(charge recombination 21):     0.013193\n",
      "Vtot(electron)              :     0.021464\n",
      "Vtot(hole)                  :     0.034178\n",
      "e1(electron)                :     0.057279\n",
      "e1(hole)                    :    -0.165788\n",
      "e2(electron)                :     0.057280\n",
      "e2(hole)                    :    -0.165790\n"
     ]
    }
   ],
   "source": [
    "# TI is a dictionary with the whole TransferIntegrals section from adf.rkf\n",
    "print(\"== Results ==\")\n",
    "TI = results.get_transfer_integrals()\n",
    "for key, value in sorted(TI.items()):\n",
    "    print(\"{:<28}: {:>12.6f}\".format(key, value))"
   ]
  }
 ],
 "metadata": {
  "jupytext": {
   "cell_metadata_filter": "-all",
   "executable": "/usr/bin/env amspython",
   "main_language": "python",
   "notebook_metadata_filter": "-all"
  },
  "kernelspec": {
   "display_name": "Python 3 (ipykernel)",
   "language": "python",
   "name": "python3"
  },
  "language_info": {
   "codemirror_mode": {
    "name": "ipython",
    "version": 3
   },
   "file_extension": ".py",
   "mimetype": "text/x-python",
   "name": "python",
   "nbconvert_exporter": "python",
   "pygments_lexer": "ipython3",
   "version": "3.8.16"
  }
 },
 "nbformat": 4,
 "nbformat_minor": 5
}
