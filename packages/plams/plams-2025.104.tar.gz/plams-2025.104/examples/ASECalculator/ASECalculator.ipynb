{
 "cells": [
  {
   "cell_type": "markdown",
   "id": "ee198b16-8932-470b-ac87-3c1e6c97a6f4",
   "metadata": {},
   "source": [
    "## Initial imports"
   ]
  },
  {
   "cell_type": "code",
   "execution_count": 1,
   "id": "eb831188-8012-4b78-8b20-53e11561fedc",
   "metadata": {},
   "outputs": [
    {
     "name": "stdout",
     "output_type": "stream",
     "text": [
      "PLAMS working folder: /path/plams/examples/ASECalculator/plams_workdir\n"
     ]
    }
   ],
   "source": [
    "from scm.plams import *\n",
    "from scm.plams.interfaces.adfsuite.ase_calculator import AMSCalculator\n",
    "from ase.optimize import BFGS\n",
    "from ase.build import molecule as ase_build_molecule\n",
    "from ase.visualize.plot import plot_atoms\n",
    "import matplotlib.pyplot as plt\n",
    "\n",
    "# In this example AMS runs in AMSWorker mode, so we have no use for the PLAMS working directory\n",
    "# Let's delete it after the calculations are done\n",
    "config.erase_workdir = True\n",
    "\n",
    "# this line is not required in AMS2025+\n",
    "init()"
   ]
  },
  {
   "cell_type": "markdown",
   "id": "7e9dea97-8d0b-468b-92f4-56d4d9d5aecc",
   "metadata": {},
   "source": [
    "## Construct an initial system\n",
    "Here, we use the ``molecule()`` from ``ase.build`` to construct an ASE Atoms object.\n",
    "\n",
    "You could also convert a PLAMS Molecule to the ASE format using ``toASE()``."
   ]
  },
  {
   "cell_type": "code",
   "execution_count": 2,
   "id": "96392ee2-3464-4a78-9d2a-20ce98a89a3d",
   "metadata": {},
   "outputs": [
    {
     "data": {
      "image/png": "[encoded data removed]",
      "text/plain": [
       "<Figure size 200x200 with 1 Axes>"
      ]
     },
     "metadata": {},
     "output_type": "display_data"
    }
   ],
   "source": [
    "atoms = ase_build_molecule(\"CH3OH\")\n",
    "# alternatively:\n",
    "# atoms = toASE(from_smiles('CO'))\n",
    "\n",
    "atoms.set_pbc((True, True, True))  # 3D periodic\n",
    "atoms.set_cell([4.0, 4.0, 4.0])  # cubic box\n",
    "\n",
    "# plot the atoms\n",
    "plt.figure(figsize=(2, 2))\n",
    "plt.axis(\"off\")\n",
    "plot_atoms(atoms, scale=0.5);"
   ]
  },
  {
   "cell_type": "markdown",
   "id": "c4290c28-99ed-4165-8336-8e5002677beb",
   "metadata": {},
   "source": [
    "## Set the AMS settings\n",
    "\n",
    "First, set the AMS settings as you normally would do:"
   ]
  },
  {
   "cell_type": "code",
   "execution_count": 3,
   "id": "d14d9396-9d82-4c7b-89ef-620f81231d47",
   "metadata": {},
   "outputs": [],
   "source": [
    "s = Settings()\n",
    "s.input.ams.Task = \"SinglePoint\"  # the geometry optimization is handled by ASE\n",
    "s.input.ams.Properties.Gradients = \"Yes\"  # ensures the forces are returned\n",
    "s.input.ams.Properties.StressTensor = \"Yes\"  # ensures the stress tensor is returned\n",
    "\n",
    "# Engine definition, could also be used to set up ADF, ReaxFF, ...\n",
    "s.input.ForceField.Type = \"UFF\"\n",
    "\n",
    "# run in serial\n",
    "s.runscript.nproc = 1"
   ]
  },
  {
   "cell_type": "markdown",
   "id": "a7aaaee4-7a90-415b-ae6f-ffb0cdafe135",
   "metadata": {},
   "source": [
    "## Run the ASE optimizer"
   ]
  },
  {
   "cell_type": "code",
   "execution_count": 4,
   "id": "cdd10687-2fab-4784-b2c8-a16139641872",
   "metadata": {},
   "outputs": [
    {
     "name": "stdout",
     "output_type": "stream",
     "text": [
      "Initial coordinates:\n",
      "[[-0.047131  0.664389  0.      ]\n",
      " [-0.047131 -0.758551  0.      ]\n",
      " [-1.092995  0.969785  0.      ]\n",
      " [ 0.878534 -1.048458  0.      ]\n",
      " [ 0.437145  1.080376  0.891772]\n",
      " [ 0.437145  1.080376 -0.891772]]\n",
      "      Step     Time          Energy         fmax\n",
      "BFGS:    0 14:38:52        0.424475        3.0437\n",
      "BFGS:    1 14:38:52        0.354817        2.8239\n",
      "BFGS:    2 14:38:52        0.270256        0.9678\n",
      "BFGS:    3 14:38:52        0.223897        0.6128\n",
      "BFGS:    4 14:38:52        0.200223        0.5503\n",
      "BFGS:    5 14:38:52        0.196200        0.1861\n",
      "Optimized energy (eV): 0.19620006656661274\n",
      "Optimized coordinates:\n",
      "[[-7.36222829e-02  6.46660224e-01 -3.68476800e-17]\n",
      " [-4.27710560e-02 -7.22615924e-01  2.05712990e-18]\n",
      " [-1.12651815e+00  9.85598502e-01 -1.78482333e-18]\n",
      " [ 9.22587449e-01 -9.45309675e-01  1.18153964e-17]\n",
      " [ 4.42945518e-01  1.01179194e+00  9.09790370e-01]\n",
      " [ 4.42945518e-01  1.01179194e+00 -9.09790370e-01]]\n"
     ]
    }
   ],
   "source": [
    "print(\"Initial coordinates:\")\n",
    "print(atoms.get_positions())\n",
    "\n",
    "with AMSCalculator(settings=s, amsworker=True) as calc:\n",
    "    atoms.calc = calc\n",
    "    optimizer = BFGS(atoms)\n",
    "    optimizer.run(fmax=0.27)  # optimize until forces are smaller than 0.27 eV/ang\n",
    "\n",
    "print(f\"Optimized energy (eV): {atoms.get_potential_energy()}\")\n",
    "print(\"Optimized coordinates:\")\n",
    "print(atoms.get_positions())"
   ]
  }
 ],
 "metadata": {
  "kernelspec": {
   "display_name": "Python 3 (ipykernel)",
   "language": "python",
   "name": "python3"
  },
  "language_info": {
   "codemirror_mode": {
    "name": "ipython",
    "version": 3
   },
   "file_extension": ".py",
   "mimetype": "text/x-python",
   "name": "python",
   "nbconvert_exporter": "python",
   "pygments_lexer": "ipython3",
   "version": "3.8.16"
  }
 },
 "nbformat": 4,
 "nbformat_minor": 5
}
