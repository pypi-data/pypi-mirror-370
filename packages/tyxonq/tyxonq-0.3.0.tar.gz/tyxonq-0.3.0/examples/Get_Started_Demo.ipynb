{
 "cells": [
  {
   "cell_type": "markdown",
   "id": "280f8a47-d283-4c41-a5dd-7c8b32a5df82",
   "metadata": {},
   "source": [
    "# Get Started Demo"
   ]
  },
  {
   "cell_type": "markdown",
   "id": "cca1aeaf-e2e3-4e04-80bf-698998289ae2",
   "metadata": {},
   "source": [
    "Use the TyxonQ cloud platform to create and view the results of quantum computing programs."
   ]
  },
  {
   "cell_type": "markdown",
   "id": "171d7cb2-69e9-4e1c-8e69-043e46c77c88",
   "metadata": {},
   "source": [
    "## Create a simple quantum computing program"
   ]
  },
  {
   "cell_type": "code",
   "execution_count": 1,
   "id": "483d8c0c-93d6-4878-a9c1-2fe991f80317",
   "metadata": {},
   "outputs": [],
   "source": [
    "import os\n",
    "import sys"
   ]
  },
  {
   "cell_type": "code",
   "execution_count": 2,
   "id": "b7e9fc12-8bff-4295-abfc-fab8b69f50b2",
   "metadata": {},
   "outputs": [],
   "source": [
    "import getpass"
   ]
  },
  {
   "cell_type": "code",
   "execution_count": 4,
   "id": "a5a1469c-ce8f-4c76-a2e9-798b0b48ce12",
   "metadata": {},
   "outputs": [],
   "source": [
    "import tyxonq as tq"
   ]
  },
  {
   "cell_type": "code",
   "execution_count": 5,
   "id": "64cef4c9-d6de-4f64-81a5-c4276699da95",
   "metadata": {},
   "outputs": [],
   "source": [
    "from tyxonq.cloud import apis"
   ]
  },
  {
   "cell_type": "markdown",
   "id": "c9745d93-c167-448a-951d-d68e9890937b",
   "metadata": {},
   "source": [
    "### Set API KEY\n",
    "To get API_KEY, visit: "
   ]
  },
  {
   "cell_type": "code",
   "execution_count": 6,
   "id": "e38b1c06-d8db-4807-a94a-78da3770e384",
   "metadata": {},
   "outputs": [],
   "source": [
    "def set_api_key():\n",
    "    API_KEY = getpass.getpass(\"Input your TyxonQ API_KEY:\")\n",
    "    apis.set_token(API_KEY)"
   ]
  },
  {
   "cell_type": "code",
   "execution_count": 7,
   "id": "b25d7fbb-8036-41d1-9d71-0f14954ba14b",
   "metadata": {},
   "outputs": [
    {
     "name": "stdout",
     "output_type": "stream",
     "text": [
      "Input your TyxonQ API_KEY: ········\n"
     ]
    }
   ],
   "source": [
    "set_api_key()"
   ]
  },
  {
   "cell_type": "markdown",
   "id": "b922b27b-eaff-4a71-9e9b-eba8aa1ade12",
   "metadata": {},
   "source": [
    "## List tasks"
   ]
  },
  {
   "cell_type": "code",
   "execution_count": 23,
   "id": "5ebd63e6-02a9-4c29-9c2f-ccbb375b0132",
   "metadata": {},
   "outputs": [],
   "source": [
    "tasks = apis.list_tasks(provider=\"tyxonq\",  device=\"homebrew_s2\")\n",
    "for task in tasks:\n",
    "    print(task.details())"
   ]
  },
  {
   "cell_type": "markdown",
   "id": "c8c0b432-4ada-4a63-ad9e-d2521a96754f",
   "metadata": {},
   "source": [
    "## Create "
   ]
  },
  {
   "cell_type": "code",
   "execution_count": 9,
   "id": "169f6c42-0c76-4136-ab8d-1260a73816d6",
   "metadata": {},
   "outputs": [],
   "source": [
    "def create_circuit():\n",
    "    c = tq.Circuit(2)\n",
    "    c.h(0)\n",
    "    c.cx(0, 1)\n",
    "    print(c.to_qir())\n",
    "    qisc = tq.translation.qir2qiskit(c.to_qir(), 2)\n",
    "    print(qisc.data)\n",
    "    return c"
   ]
  },
  {
   "cell_type": "code",
   "execution_count": null,
   "id": "21bccf9b-c444-4e06-b1d6-57ae899bbff8",
   "metadata": {},
   "outputs": [],
   "source": [
    "c = create_circuit()"
   ]
  },
  {
   "cell_type": "code",
   "execution_count": 12,
   "id": "7a9633a9-c5f4-45ec-b171-af6111ffa938",
   "metadata": {},
   "outputs": [
    {
     "data": {
      "text/html": [
       "<pre style=\"word-wrap: normal;white-space: pre;background: #fff0;line-height: 1.1;font-family: &quot;Courier New&quot;,Courier,monospace\">     ┌───┐     \n",
       "q_0: ┤ H ├──■──\n",
       "     └───┘┌─┴─┐\n",
       "q_1: ─────┤ X ├\n",
       "          └───┘</pre>"
      ],
      "text/plain": [
       "     ┌───┐     \n",
       "q_0: ┤ H ├──■──\n",
       "     └───┘┌─┴─┐\n",
       "q_1: ─────┤ X ├\n",
       "          └───┘"
      ]
     },
     "execution_count": 12,
     "metadata": {},
     "output_type": "execute_result"
    }
   ],
   "source": [
    "c.draw()"
   ]
  },
  {
   "cell_type": "markdown",
   "id": "dd4a26c0-3d89-4720-bf6e-54e31a34608d",
   "metadata": {},
   "source": [
    "## Submit Task to TyxonQ"
   ]
  },
  {
   "cell_type": "code",
   "execution_count": 13,
   "id": "5312fadf-4b84-4cfe-a390-641895ed0bce",
   "metadata": {},
   "outputs": [],
   "source": [
    "task = apis.submit_task(provider = \"tyxonq\",\n",
    "                        device = \"homebrew_s2\",\n",
    "                        circuit = c,\n",
    "                        shots = 100)"
   ]
  },
  {
   "cell_type": "markdown",
   "id": "f678f1d9-7da5-4dc1-a6ed-db309704fa12",
   "metadata": {},
   "source": [
    "# View task details"
   ]
  },
  {
   "cell_type": "code",
   "execution_count": 16,
   "id": "0df3293d-e120-49b5-846d-9e698cc61301",
   "metadata": {},
   "outputs": [
    {
     "data": {
      "text/plain": [
       "{'id': 'job_080BC7FF63EE11F08C5077CC00B54BA3_a5f1e984-b810-46c2-8650-ac0dfccff47a',\n",
       " 'queue': 'quregenai.lab',\n",
       " 'device': 'homebrew_s2?o=3',\n",
       " 'qubits': 2,\n",
       " 'depth': 3,\n",
       " 'state': 'completed',\n",
       " 'shots': 100,\n",
       " 'at': 1753014877511576,\n",
       " 'ts': {'completed': 1753014877511576,\n",
       "  'pending': 1753014874992761,\n",
       "  'scheduled': 1753014874986324},\n",
       " 'md5': 'af616d14e0422e8ffd361d71a1479f1c',\n",
       " 'runAt': 1753014861971024,\n",
       " 'runDur': 1757053,\n",
       " 'atChip': 1753014827126258,\n",
       " 'durChip': 104877,\n",
       " 'result': {'00': 45, '01': 5, '10': 1, '11': 49},\n",
       " 'results': {'00': 45, '01': 5, '10': 1, '11': 49},\n",
       " 'job_name': 'job_080BC7FF63EE11F08C5077CC00B54BA3_a5f1e984-b810-46c2-8650-ac0dfccff47a',\n",
       " 'status': '处理中',\n",
       " 'user_id': '080BC7FF63EE11F08C5077CC00B54BA3',\n",
       " 'success': True,\n",
       " 'error': None}"
      ]
     },
     "execution_count": 16,
     "metadata": {},
     "output_type": "execute_result"
    }
   ],
   "source": [
    "task.details()"
   ]
  },
  {
   "cell_type": "code",
   "execution_count": 22,
   "id": "78f13acb-561e-4213-9ccd-cf56a2c2121d",
   "metadata": {},
   "outputs": [],
   "source": [
    "counts = task.results()"
   ]
  },
  {
   "cell_type": "code",
   "execution_count": 23,
   "id": "0720ae57-a3ff-4436-bc76-0eff5652fbc5",
   "metadata": {},
   "outputs": [
    {
     "data": {
      "text/plain": [
       "{'00': 53, '11': 44, '01': 2, '10': 1}"
      ]
     },
     "execution_count": 23,
     "metadata": {},
     "output_type": "execute_result"
    }
   ],
   "source": [
    "counts"
   ]
  },
  {
   "cell_type": "code",
   "execution_count": 24,
   "id": "917635f9-f5f0-4019-861e-c8e431907889",
   "metadata": {},
   "outputs": [
    {
     "data": {
      "image/png": "[encoded data removed]",
      "text/plain": [
       "<Figure size 640x480 with 1 Axes>"
      ]
     },
     "execution_count": 24,
     "metadata": {},
     "output_type": "execute_result"
    }
   ],
   "source": [
    "tq.results.counts.plot_histogram(counts)"
   ]
  },
  {
   "cell_type": "code",
   "execution_count": null,
   "id": "cf19f4b0-0308-44f2-8788-af04cda8cea2",
   "metadata": {},
   "outputs": [],
   "source": []
  }
 ],
 "metadata": {
  "kernelspec": {
   "display_name": "tyxonq_dev",
   "language": "python",
   "name": "tyxonq_dev"
  },
  "language_info": {
   "codemirror_mode": {
    "name": "ipython",
    "version": 3
   },
   "file_extension": ".py",
   "mimetype": "text/x-python",
   "name": "python",
   "nbconvert_exporter": "python",
   "pygments_lexer": "ipython3",
   "version": "3.11.12"
  }
 },
 "nbformat": 4,
 "nbformat_minor": 5
}
