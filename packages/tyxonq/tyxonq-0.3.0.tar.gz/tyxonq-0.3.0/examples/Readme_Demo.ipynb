{
 "cells": [
  {
   "cell_type": "code",
   "execution_count": 4,
   "id": "666486b5-a9ea-4699-ae48-480d483f3200",
   "metadata": {},
   "outputs": [
    {
     "name": "stdout",
     "output_type": "stream",
     "text": [
      "[0.7035742+0.j         0.       -0.07059289j 0.       -0.07059289j\n",
      " 0.7035742+0.j        ]\n",
      "(0.98006654+0j)\n",
      "{'00': 487, '01': 5, '10': 4, '11': 528}\n"
     ]
    }
   ],
   "source": [
    "import tyxonq as tq\n",
    "c = tq.Circuit(2)\n",
    "c.H(0)\n",
    "c.CNOT(0,1)\n",
    "c.rx(1, theta=0.2)\n",
    "print(c.wavefunction())\n",
    "print(c.expectation_ps(z=[0, 1]))\n",
    "print(c.sample(allow_state=True, batch=1024, format=\"count_dict_bin\"))"
   ]
  },
  {
   "cell_type": "code",
   "execution_count": 5,
   "id": "67277c09-cf1d-40a5-849a-0d661c2001f3",
   "metadata": {},
   "outputs": [
    {
     "data": {
      "text/plain": [
       "functools.partial(<function custom at 0x11c53f4c0>, optimizer=<function greedy at 0x108733420>, memory_limit=None, debug_level=0)"
      ]
     },
     "execution_count": 5,
     "metadata": {},
     "output_type": "execute_result"
    }
   ],
   "source": [
    "tq.set_backend(\"tensorflow\")\n",
    "tq.set_dtype(\"complex128\")\n",
    "tq.set_contractor(\"greedy\")"
   ]
  },
  {
   "cell_type": "code",
   "execution_count": 6,
   "id": "61cbad54-9f62-4781-9a0f-c944317a68d7",
   "metadata": {},
   "outputs": [
    {
     "name": "stdout",
     "output_type": "stream",
     "text": [
      "tf.Tensor((-0.4180019303917999+1.7551651237807457j), shape=(), dtype=complex128)\n"
     ]
    }
   ],
   "source": [
    "def forward(theta):\n",
    "    c = tq.Circuit(2)\n",
    "    c.R(0, theta=theta, alpha=0.5, phi=0.8)\n",
    "    return tq.backend.real(c.expectation((tq.gates.z(), [0])))\n",
    "\n",
    "g = tq.backend.grad(forward)\n",
    "g = tq.backend.jit(g)\n",
    "theta = tq.array_to_tensor(1.0)\n",
    "print(g(theta))"
   ]
  },
  {
   "cell_type": "code",
   "execution_count": null,
   "id": "cb1e3a18-94c1-4da7-b4dc-a774220a68a6",
   "metadata": {},
   "outputs": [],
   "source": []
  }
 ],
 "metadata": {
  "kernelspec": {
   "display_name": "tyxonq_dev",
   "language": "python",
   "name": "tyxonq_dev"
  },
  "language_info": {
   "codemirror_mode": {
    "name": "ipython",
    "version": 3
   },
   "file_extension": ".py",
   "mimetype": "text/x-python",
   "name": "python",
   "nbconvert_exporter": "python",
   "pygments_lexer": "ipython3",
   "version": "3.11.12"
  }
 },
 "nbformat": 4,
 "nbformat_minor": 5
}
