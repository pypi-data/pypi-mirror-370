{
 "cells": [
  {
   "cell_type": "code",
   "execution_count": 2,
   "id": "61d506db-6a71-4515-a321-b90dc2f1a4e7",
   "metadata": {},
   "outputs": [],
   "source": [
    "from super_resolution.super_resolution import SuperResolution\n",
    "from license_plate_recogniser import LicensePlateRecogniser"
   ]
  },
  {
   "cell_type": "code",
   "execution_count": 4,
   "id": "7875ed8c-38f0-4dbe-bbeb-3b973cd20031",
   "metadata": {},
   "outputs": [],
   "source": [
    "sr = SuperResolution('C:/Users/vjmar/Documents/facerecognition 2/models/swinirsr.pth')\n",
    "lpr = LicensePlateRecogniser('C:/Users/vjmar/Documents/facerecognition 2/models', sr)"
   ]
  },
  {
   "cell_type": "code",
   "execution_count": 5,
   "id": "f275adeb-0ab3-4e4d-ae7c-958fd368cc66",
   "metadata": {},
   "outputs": [],
   "source": [
    "sr.run_super_resolution('C:/Users/vjmar/Documents/facerecognition 2/images/capt.jpeg', 'C:/Users/vjmar/Documents/facerecognition 2/images/newenv.jpeg')"
   ]
  }
 ],
 "metadata": {
  "kernelspec": {
   "display_name": "Python (license-plate-recognition)",
   "language": "python",
   "name": "license-plate-recognition"
  },
  "language_info": {
   "codemirror_mode": {
    "name": "ipython",
    "version": 3
   },
   "file_extension": ".py",
   "mimetype": "text/x-python",
   "name": "python",
   "nbconvert_exporter": "python",
   "pygments_lexer": "ipython3",
   "version": "3.11.9"
  }
 },
 "nbformat": 4,
 "nbformat_minor": 5
}
