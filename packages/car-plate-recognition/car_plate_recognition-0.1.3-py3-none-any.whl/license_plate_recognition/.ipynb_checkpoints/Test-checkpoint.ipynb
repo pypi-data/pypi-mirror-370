{
 "cells": [
  {
   "cell_type": "code",
   "execution_count": null,
   "id": "61d506db-6a71-4515-a321-b90dc2f1a4e7",
   "metadata": {},
   "outputs": [],
   "source": [
    "from super_resolution.super_resolution import SuperResolution\n",
    "from license_plate_recogniser import LicensePlateRecogniser"
   ]
  },
  {
   "cell_type": "code",
   "execution_count": null,
   "id": "7875ed8c-38f0-4dbe-bbeb-3b973cd20031",
   "metadata": {},
   "outputs": [],
   "source": []
  }
 ],
 "metadata": {
  "kernelspec": {
   "display_name": "Python (license-plate-recognition)",
   "language": "python",
   "name": "license-plate-recognition"
  },
  "language_info": {
   "codemirror_mode": {
    "name": "ipython",
    "version": 3
   },
   "file_extension": ".py",
   "mimetype": "text/x-python",
   "name": "python",
   "nbconvert_exporter": "python",
   "pygments_lexer": "ipython3",
   "version": "3.11.9"
  }
 },
 "nbformat": 4,
 "nbformat_minor": 5
}
