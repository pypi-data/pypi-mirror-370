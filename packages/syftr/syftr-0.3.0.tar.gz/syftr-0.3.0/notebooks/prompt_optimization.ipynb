{
 "cells": [
  {
   "cell_type": "code",
   "execution_count": null,
   "id": "0",
   "metadata": {},
   "outputs": [],
   "source": [
    "# Uncomment this cell to run prompt optimization on a study. Most recent runs require running on a server.\n",
    "# !uv run python -m syftr.prompt_optimization --study-config studies/rank1--rag-and-agents--drdocs_hf.yaml"
   ]
  },
  {
   "cell_type": "code",
   "execution_count": null,
   "id": "1",
   "metadata": {},
   "outputs": [],
   "source": [
    "# This cell takes two studies (witout PO and with it and compares the result). Please, note commented code:\n",
    "# PO on studies/rank1--rag-and-agents--drdocs_hf.yaml weren't run on pareto, so we need all trials to perform a join, \n",
    "# not only Pareto trials.\n",
    "\n",
    "import pandas as pd\n",
    "import optuna\n",
    "from syftr.optuna_helper import get_pareto_mask\n",
    "from syftr.configuration import cfg\n",
    "\n",
    "RAW_STUDY = \"rank1--rag-and-agents--drdocs_hf\"\n",
    "PO_STUDY = \"rank1--rag-and-agents--drdocs_hf_prompt_optimization\"\n",
    "\n",
    "df = optuna.load_study(\n",
    "    study_name=RAW_STUDY, storage=cfg.database.get_optuna_storage()\n",
    ").trials_dataframe()\n",
    "# df = df[df[\"values_0\"] > 0.5]\n",
    "# pareto_mask = get_pareto_mask(df)\n",
    "# df = df[get_pareto_mask]\n",
    "df[\"study_name\"] = RAW_STUDY\n",
    "\n",
    "optimized_df = optuna.load_study(\n",
    "    study_name=PO_STUDY, storage=cfg.database.get_optuna_storage()\n",
    ").trials_dataframe()\n",
    "optimized_df = optimized_df.drop_duplicates(\n",
    "    subset=[\"user_attrs_parent_number\"], keep=\"last\"\n",
    ")\n",
    "optimized_df[\"study_name\"] = PO_STUDY\n",
    "\n",
    "results = pd.merge(\n",
    "    df,\n",
    "    optimized_df,\n",
    "    left_on=\"number\",\n",
    "    right_on=\"user_attrs_parent_number\",\n",
    ")\n",
    "results[\"Cost mult, x\"] = results[\"values_1_y\"] / results[\"values_1_x\"]\n",
    "results[\"Acc. improvement\"] = (results[\"values_0_y\"] - results[\"values_0_x\"]) * 100\n",
    "results = results.rename(\n",
    "    columns={\n",
    "        \"values_0_x\": \"Accuracy pre-opt\",\n",
    "        \"values_1_x\": \"Cost pre-opt\",\n",
    "        \"values_0_y\": \"Accuracy post-opt\",\n",
    "        \"values_1_y\": \"Cost post-opt\",\n",
    "    }\n",
    ")\n",
    "results[\"Accuracy pre-opt\"] *= 100\n",
    "results[\"Accuracy post-opt\"] *= 100\n",
    "results = results[\n",
    "    [\n",
    "        \"Accuracy pre-opt\",\n",
    "        \"Cost pre-opt\",\n",
    "        \"Accuracy post-opt\",\n",
    "        \"Cost post-opt\",\n",
    "        \"Acc. improvement\",\n",
    "        \"Cost mult, x\",\n",
    "        \"user_attrs_flow_name\",\n",
    "        \"user_attrs_parent_number\",\n",
    "    ]\n",
    "]\n",
    "results"
   ]
  },
  {
   "cell_type": "code",
   "execution_count": null,
   "id": "2",
   "metadata": {},
   "outputs": [],
   "source": [
    "optimized_df[\"user_attrs_optimized_dataset_description\"].tolist()"
   ]
  },
  {
   "cell_type": "code",
   "execution_count": null,
   "id": "3",
   "metadata": {},
   "outputs": [],
   "source": []
  }
 ],
 "metadata": {
  "kernelspec": {
   "display_name": "syftr",
   "language": "python",
   "name": "python3"
  },
  "language_info": {
   "codemirror_mode": {
    "name": "ipython",
    "version": 3
   },
   "file_extension": ".py",
   "mimetype": "text/x-python",
   "name": "python",
   "nbconvert_exporter": "python",
   "pygments_lexer": "ipython3",
   "version": "3.12.7"
  }
 },
 "nbformat": 4,
 "nbformat_minor": 5
}
