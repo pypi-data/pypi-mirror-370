{
 "cells": [
  {
   "cell_type": "markdown",
   "metadata": {},
   "source": [
    "## Compare\n",
    "This simple notebook compares the Pareto-frontiers from two different studies together in one plot."
   ]
  },
  {
   "cell_type": "code",
   "execution_count": null,
   "metadata": {
    "editable": true,
    "slideshow": {
     "slide_type": ""
    },
    "tags": []
   },
   "outputs": [],
   "source": [
    "%reload_ext autoreload\n",
    "%autoreload 2\n",
    "\n",
    "from IPython.core import ultratb\n",
    "\n",
    "ultratb.VerboseTB.tb_highlight = \"bg:#3e0054\""
   ]
  },
  {
   "cell_type": "code",
   "execution_count": null,
   "metadata": {},
   "outputs": [],
   "source": [
    "try:\n",
    "    from syftr.configuration import cfg\n",
    "except:\n",
    "    import os\n",
    "    os.chdir('./../')"
   ]
  },
  {
   "cell_type": "code",
   "execution_count": null,
   "metadata": {},
   "outputs": [],
   "source": [
    "from syftr.configuration import cfg"
   ]
  },
  {
   "cell_type": "code",
   "execution_count": null,
   "metadata": {},
   "outputs": [],
   "source": [
    "# TITLE = \"Cerebras vs Local Models on FinanceBench (Accuracy vs Latency)\"\n",
    "\n",
    "# STUDY_NAME_1 = \"cerebras4--rag-and-agents-local-only--financebench_hf\"\n",
    "# STUDY_NAME_2 = \"cerebras4--rag-and-agents-cerebras-only--financebench_hf\"\n",
    "\n",
    "# OBJ2_NAME = \"Latency\"\n",
    "# X_UNIT = \"Latency (seconds)\"\n",
    "# IS_COST = False"
   ]
  },
  {
   "cell_type": "code",
   "execution_count": null,
   "metadata": {},
   "outputs": [],
   "source": [
    "# TITLE = \"Cerebras vs Local Models on PhantomWiki (Accuracy vs Latency)\"\n",
    "\n",
    "# STUDY_NAME_1 = \"cerebras4--rag-and-agents-local-only--phantomwikiv050_hf--depth_20_size_10000_seed_3\"\n",
    "# STUDY_NAME_2 = \"cerebras4--rag-and-agents-cerebras-only--phantomwikiv050_hf--depth_20_size_10000_seed_3\"\n",
    "\n",
    "# OBJ2_NAME = \"Latency\"\n",
    "# X_UNIT = \"Latency (seconds)\"\n",
    "# IS_COST = False"
   ]
  },
  {
   "cell_type": "code",
   "execution_count": null,
   "metadata": {},
   "outputs": [],
   "source": [
    "# TITLE = \"Cerebras vs Local Models on FinanceBench (Accuracy vs Cost)\"\n",
    "\n",
    "# STUDY_NAME_1 = \"cerebras5--rag-and-agents-local-only--financebench_hf\"\n",
    "# STUDY_NAME_2 = \"cerebras5--rag-and-agents-cerebras-only--financebench_hf\"\n",
    "\n",
    "# OBJ2_NAME = \"Cost\"\n",
    "# X_UNIT = \"Cost (Cents per 100 Calls)\"\n",
    "# IS_COST = True"
   ]
  },
  {
   "cell_type": "code",
   "execution_count": null,
   "metadata": {},
   "outputs": [],
   "source": [
    "TITLE = \"Cerebras vs Local Models on PhantomWiki (Accuracy vs Cost)\"\n",
    "\n",
    "STUDY_NAME_1 = \"cerebras5--rag-and-agents-local-only--phantomwikiv050_hf--depth_20_size_10000_seed_3\"\n",
    "STUDY_NAME_2 = \"cerebras5--rag-and-agents-cerebras-only--phantomwikiv050_hf--depth_20_size_10000_seed_3\"\n",
    "\n",
    "OBJ2_NAME = \"Cost\"\n",
    "X_UNIT = \"Cost (Cents per 100 Calls)\"\n",
    "IS_COST = True"
   ]
  },
  {
   "cell_type": "code",
   "execution_count": null,
   "metadata": {},
   "outputs": [],
   "source": [
    "from syftr.optuna_helper import get_completed_trials\n",
    "\n",
    "\n",
    "Y_UNIT = \"Accuracy (%)\"\n",
    "\n",
    "SUCCESS_RATE = 0.9\n",
    "\n",
    "STUDY_COLOR_1 = \"#5b45f8\"\n",
    "STUDY_COLOR_2 = \"#ff5638\"\n",
    "\n",
    "STORAGE = cfg.database.get_optuna_storage()\n",
    "\n",
    "df_trials_1 = get_completed_trials(STUDY_NAME_1, success_rate=0)\n",
    "df_trials_2 = get_completed_trials(STUDY_NAME_2, success_rate=0)\n",
    "\n",
    "n_trials_1 = len(df_trials_1)\n",
    "n_trials_2 = len(df_trials_2)\n",
    "\n",
    "STUDY_LABEL_1 = f\"Local models ({n_trials_1} trials)\"\n",
    "STUDY_LABEL_2 = f\"Cerebras models ({n_trials_2} trials)\"\n",
    "\n",
    "SHOW_ALL_TRIALS = True\n",
    "\n",
    "if IS_COST:\n",
    "    df_trials_1[\"values_1\"] *= 10000\n",
    "    df_trials_2[\"values_1\"] *= 10000"
   ]
  },
  {
   "cell_type": "code",
   "execution_count": null,
   "metadata": {},
   "outputs": [],
   "source": [
    "import pandas as pd\n",
    "from syftr.optuna_helper import get_pareto_df\n",
    "\n",
    "df_pareto_1: pd.DataFrame = get_pareto_df(STUDY_NAME_1, SUCCESS_RATE)\n",
    "df_pareto_1.sort_values(\"values_0\", ascending=True, inplace=True)\n",
    "\n",
    "df_pareto_2: pd.DataFrame = get_pareto_df(STUDY_NAME_2, SUCCESS_RATE)\n",
    "df_pareto_2.sort_values(\"values_0\", ascending=True, inplace=True)\n",
    "\n",
    "if IS_COST:\n",
    "    df_pareto_1[\"values_1\"] *= 10000\n",
    "    df_pareto_2[\"values_1\"] *= 10000"
   ]
  },
  {
   "cell_type": "code",
   "execution_count": null,
   "metadata": {},
   "outputs": [],
   "source": [
    "import matplotlib.pyplot as plt\n",
    "\n",
    "_, ax = plt.subplots(figsize=(12, 6), dpi=300)\n",
    "\n",
    "if SHOW_ALL_TRIALS:\n",
    "    ax.scatter(\n",
    "        df_trials_1[\"values_1\"],\n",
    "        df_trials_1[\"values_0\"], \n",
    "        color=STUDY_COLOR_1,\n",
    "        zorder=1,\n",
    "        alpha=0.2,\n",
    "        s=10,\n",
    "    )\n",
    "\n",
    "    ax.scatter(\n",
    "        df_trials_2[\"values_1\"],\n",
    "        df_trials_2[\"values_0\"], \n",
    "        color=STUDY_COLOR_2,\n",
    "        zorder=1,\n",
    "        alpha=0.2,\n",
    "        s=10,\n",
    "    )\n",
    "\n",
    "ax.step(\n",
    "    df_pareto_1[\"values_1\"],\n",
    "    df_pareto_1[\"values_0\"], \n",
    "    where=\"post\",\n",
    "    color=STUDY_COLOR_1,\n",
    "    label=STUDY_LABEL_1,\n",
    "    zorder=2,\n",
    "    linewidth=1.5,\n",
    "    marker=\"o\",\n",
    "    markersize=5,\n",
    ")\n",
    "\n",
    "ax.step(\n",
    "    df_pareto_2[\"values_1\"],\n",
    "    df_pareto_2[\"values_0\"], \n",
    "    where=\"post\",\n",
    "    color=STUDY_COLOR_2,\n",
    "    label=STUDY_LABEL_2,\n",
    "    zorder=2,\n",
    "    linewidth=1.5,\n",
    "    marker=\"o\",\n",
    "    markersize=5,\n",
    ")\n",
    "\n",
    "# ax.set_title(TITLE)\n",
    "ax.set_xscale(\"log\")\n",
    "ax.set_xlabel(X_UNIT)\n",
    "ax.set_ylabel(Y_UNIT)\n",
    "ax.legend()"
   ]
  },
  {
   "cell_type": "code",
   "execution_count": null,
   "metadata": {},
   "outputs": [],
   "source": [
    "def convert_to_insights(df: pd.DataFrame, title: str = None) -> pd.DataFrame:\n",
    "    df_insights = df.copy()\n",
    "    df_insights[\"Accuracy\"] = df_insights[\"values_0\"]\n",
    "    df_insights[OBJ2_NAME] = df_insights[\"values_1\"]\n",
    "    df_insights[\"Title\"] = title\n",
    "    return df_insights"
   ]
  },
  {
   "cell_type": "code",
   "execution_count": null,
   "metadata": {},
   "outputs": [],
   "source": [
    "from kneed import KneeLocator\n",
    "\n",
    "\n",
    "def set_knee(df_pareto):\n",
    "    df_knee = df_pareto.sort_values(by=\"values_1\").copy()\n",
    "    df_knee[[\"values_0\", \"values_1\"]] = df_knee[[\"values_0\", \"values_1\"]].astype(float)\n",
    "    knee = KneeLocator(\n",
    "        df_knee[\"values_1\"].values,\n",
    "        df_knee[\"values_0\"].values,\n",
    "        curve=\"concave\",\n",
    "        direction=\"increasing\",\n",
    "    )\n",
    "    df_pareto[\"is_knee\"] = df_pareto[\"values_1\"] == knee.knee"
   ]
  },
  {
   "cell_type": "code",
   "execution_count": null,
   "metadata": {},
   "outputs": [],
   "source": [
    "from syftr.plotting.insights import generate_trial_description_table\n",
    "\n",
    "\n",
    "df_pareto_1_insights = convert_to_insights(df_pareto_1)\n",
    "df_pareto_1_insights = generate_trial_description_table(df_pareto_1_insights)\n",
    "set_knee(df_pareto_1_insights)\n",
    "print(df_pareto_1_insights.columns)\n",
    "\n",
    "df_pareto_2_insights = convert_to_insights(df_pareto_2)\n",
    "df_pareto_2_insights = generate_trial_description_table(df_pareto_2_insights)\n",
    "set_knee(df_pareto_2_insights)\n",
    "\n",
    "df_trials_1_insights = convert_to_insights(df_trials_1)\n",
    "df_trials_2_insights = convert_to_insights(df_trials_2)\n",
    "\n",
    "df_pareto_1_insights"
   ]
  },
  {
   "cell_type": "code",
   "execution_count": null,
   "metadata": {},
   "outputs": [],
   "source": [
    "from syftr.plotting.insights import plot_pareto_plot\n",
    "\n",
    "\n",
    "def plot_with_description(\n",
    "    df_pareto_desc: pd.DataFrame,\n",
    "    study_name: str,\n",
    "    df_pareto_baseline: pd.DataFrame = None,\n",
    "    is_cost: bool = False,\n",
    "    df_trials: pd.DataFrame = None,\n",
    "    df_trials_baseline: pd.DataFrame = None,\n",
    "    show_baseline_trials=False,\n",
    "    experiment_color=\"red\",\n",
    "    experiment_trial_label=\"Experiment Trials\",\n",
    "    experiment_pareto_label=\"Pareto-Frontier based on Experiment Trials\",\n",
    "    baseline_color=\"black\",\n",
    "    baseline_trial_label=\"Baseline\",\n",
    "    baseline_pareto_label=\"Baseline Pareto\",\n",
    "    show_title=True,\n",
    "):\n",
    "    if SHOW_ALL_TRIALS:\n",
    "        assert df_trials_baseline is not None, \"df_trials_baseline must be provided to show all trials\"\n",
    "\n",
    "    _, ax = plt.subplots(figsize=(14, 10), dpi=300)\n",
    "\n",
    "    if show_baseline_trials:\n",
    "        ax.scatter(\n",
    "            df_trials_baseline[\"values_1\"],\n",
    "            df_trials_baseline[\"values_0\"], \n",
    "            color=baseline_color,\n",
    "            label=baseline_trial_label,\n",
    "            zorder=1,\n",
    "            alpha=0.2,\n",
    "            s=30,\n",
    "        )\n",
    "\n",
    "    if df_pareto_baseline is not None:\n",
    "        ax.step(\n",
    "            df_pareto_baseline[\"values_1\"],\n",
    "            df_pareto_baseline[\"values_0\"], \n",
    "            where=\"post\",\n",
    "            color=baseline_color,\n",
    "            label=baseline_pareto_label,\n",
    "            zorder=2,\n",
    "            linewidth=1.5,\n",
    "            markersize=5,\n",
    "        )\n",
    "\n",
    "    plot_pareto_plot(\n",
    "        df_pareto_desc=df_pareto_desc,\n",
    "        study_name=study_name,\n",
    "        is_cost=is_cost,\n",
    "        df_trials=df_trials,\n",
    "        ax=ax,\n",
    "        show_title=False,\n",
    "        show_baselines=False,\n",
    "        show_sota=False,\n",
    "        trials_label=experiment_trial_label,\n",
    "        trials_face_color=experiment_color,\n",
    "        trials_edge_color=experiment_color,\n",
    "        pareto_label=experiment_pareto_label,\n",
    "    )\n",
    "\n",
    "    if show_title:\n",
    "        ax.set_title(TITLE)\n",
    "    ax.set_xscale(\"log\")\n",
    "    ax.set_xlabel(X_UNIT)\n",
    "    ax.set_ylabel(Y_UNIT)\n",
    "    ax.legend(loc=\"center left\", bbox_to_anchor=(1.02, 0.5), borderaxespad=0.)\n"
   ]
  },
  {
   "cell_type": "code",
   "execution_count": null,
   "metadata": {},
   "outputs": [],
   "source": [
    "plot_with_description(\n",
    "    df_pareto_desc=df_pareto_2_insights,\n",
    "    study_name=STUDY_NAME_2,\n",
    "    df_pareto_baseline=df_pareto_1_insights,\n",
    "    is_cost=IS_COST,\n",
    "    # df_trials=df_trials_2_insights,\n",
    "    df_trials_baseline=df_trials_1_insights,\n",
    "    experiment_color=STUDY_COLOR_2,\n",
    "    experiment_trial_label=STUDY_LABEL_2,\n",
    "    experiment_pareto_label=f\"Pareto-Frontier based on {STUDY_LABEL_2}\",\n",
    "    show_baseline_trials=True,\n",
    "    baseline_color=STUDY_COLOR_1,\n",
    "    baseline_trial_label=STUDY_LABEL_1,\n",
    "    baseline_pareto_label=f\"Baseline Pareto-Frontier based on {STUDY_LABEL_1.lower()}\",\n",
    "    show_title=True,\n",
    ")"
   ]
  },
  {
   "cell_type": "code",
   "execution_count": null,
   "metadata": {},
   "outputs": [],
   "source": [
    "plot_with_description(\n",
    "    df_pareto_desc=df_pareto_1_insights,\n",
    "    study_name=STUDY_NAME_1,\n",
    "    df_pareto_baseline=df_pareto_2_insights,\n",
    "    is_cost=IS_COST,\n",
    "    df_trials=df_trials_1_insights,\n",
    "    df_trials_baseline=df_trials_2_insights,\n",
    "    experiment_color=STUDY_COLOR_1,\n",
    "    experiment_trial_label=STUDY_LABEL_1,\n",
    "    experiment_pareto_label=f\"Pareto-Frontier based on {STUDY_LABEL_1.lower()}\",\n",
    "    show_baseline_trials=False,\n",
    "    baseline_color=STUDY_COLOR_2,\n",
    "    baseline_trial_label=STUDY_LABEL_2,\n",
    "    baseline_pareto_label=f\"Baseline Pareto-Frontier based on {STUDY_LABEL_2}\",\n",
    "    show_title=True,\n",
    ")"
   ]
  },
  {
   "cell_type": "code",
   "execution_count": null,
   "metadata": {},
   "outputs": [],
   "source": [
    "print(\"Study 1\")\n",
    "print(\"-\" * 40)\n",
    "print(f\"Study: {STUDY_LABEL_1}\")\n",
    "print(f\"Pareto-Frontier: {len(df_pareto_1)} trials\")\n",
    "print(f\"Top-Accuracy Trial: {df_pareto_1_insights.iloc[-1][\"Title\"]}\")\n",
    "print(f\"Knee-Point Trial: {df_pareto_1_insights[df_pareto_1_insights['is_knee']].iloc[0]['Title']}\")"
   ]
  },
  {
   "cell_type": "code",
   "execution_count": null,
   "metadata": {},
   "outputs": [],
   "source": [
    "print(\"Study 2\")\n",
    "print(\"-\" * 40)\n",
    "print(f\"Study: {STUDY_LABEL_2}\")\n",
    "print(f\"Pareto-Frontier: {len(df_pareto_2)} trials\")\n",
    "print(f\"Top-Accuracy Trial: {df_pareto_2_insights.iloc[-1][\"Title\"]}\")\n",
    "print(f\"Knee-Point Trial: {df_pareto_2_insights[df_pareto_2_insights['is_knee']].iloc[0]['Title']}\")"
   ]
  },
  {
   "cell_type": "code",
   "execution_count": null,
   "metadata": {},
   "outputs": [],
   "source": []
  }
 ],
 "metadata": {
  "kernelspec": {
   "display_name": "syftr",
   "language": "python",
   "name": "python3"
  },
  "language_info": {
   "codemirror_mode": {
    "name": "ipython",
    "version": 3
   },
   "file_extension": ".py",
   "mimetype": "text/x-python",
   "name": "python",
   "nbconvert_exporter": "python",
   "pygments_lexer": "ipython3",
   "version": "3.12.7"
  }
 },
 "nbformat": 4,
 "nbformat_minor": 4
}
