{
 "cells": [
  {
   "cell_type": "markdown",
   "metadata": {},
   "source": [
    "## Running Flows\n",
    "Bring your workflow parametrization and test it here."
   ]
  },
  {
   "cell_type": "code",
   "execution_count": null,
   "metadata": {},
   "outputs": [],
   "source": [
    "%reload_ext autoreload\n",
    "%autoreload 2\n",
    "\n",
    "from IPython.core import ultratb\n",
    "\n",
    "ultratb.VerboseTB.tb_highlight = \"bg:#3e0054\""
   ]
  },
  {
   "cell_type": "code",
   "execution_count": null,
   "metadata": {},
   "outputs": [],
   "source": [
    "try:\n",
    "    from syftr.configuration import cfg\n",
    "except:\n",
    "    import os\n",
    "    os.chdir('./../')"
   ]
  },
  {
   "cell_type": "code",
   "execution_count": null,
   "metadata": {},
   "outputs": [],
   "source": [
    "# Functionality has be implemented in syftr and you need access to the used embedding and LLM models.\n",
    "parameters = {\n",
    "    \"additional_context_enabled\": True,\n",
    "    \"additional_context_num_nodes\": 2,\n",
    "    \"few_shot_embedding_model\": \"BAAI/bge-large-en-v1.5\",\n",
    "    \"few_shot_enabled\": True,\n",
    "    \"few_shot_top_k\": 16,\n",
    "    \"hyde_enabled\": False,\n",
    "    \"rag_embedding_model\": \"BAAI/bge-large-en-v1.5\",\n",
    "    \"rag_method\": \"dense\",\n",
    "    \"rag_mode\": \"rag\",\n",
    "    \"rag_query_decomposition_enabled\": False,\n",
    "    \"rag_top_k\": 8,\n",
    "    \"reranker_enabled\": False,\n",
    "    \"response_synthesizer_llm\": \"deepseek-ai/DeepSeek-R1-Distill-Llama-70B\",\n",
    "    \"splitter_chunk_exp\": 10,\n",
    "    \"splitter_chunk_overlap_frac\": 0.15,\n",
    "    \"splitter_method\": \"recursive\",\n",
    "    \"template_name\": \"CoT\"\n",
    "}"
   ]
  },
  {
   "cell_type": "code",
   "execution_count": null,
   "metadata": {},
   "outputs": [],
   "source": [
    "from syftr.tuner.qa_tuner import build_flow\n",
    "from syftr.storage import DRDocsHF\n",
    "from syftr.studies import StudyConfig\n",
    "\n",
    "\n",
    "study_config = StudyConfig(name=\"Testing flows with DRDocs\", dataset=DRDocsHF())\n",
    "flow = build_flow(params=parameters, study_config=study_config)\n",
    "response, _, _ = flow.generate(\"What can I do with the API from DataRobot?\")\n",
    "print(response.text)"
   ]
  }
 ],
 "metadata": {
  "kernelspec": {
   "display_name": "syftr",
   "language": "python",
   "name": "python3"
  },
  "language_info": {
   "codemirror_mode": {
    "name": "ipython",
    "version": 3
   },
   "file_extension": ".py",
   "mimetype": "text/x-python",
   "name": "python",
   "nbconvert_exporter": "python",
   "pygments_lexer": "ipython3",
   "version": "3.12.7"
  }
 },
 "nbformat": 4,
 "nbformat_minor": 4
}
