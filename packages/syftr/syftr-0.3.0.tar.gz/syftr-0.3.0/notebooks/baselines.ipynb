{
 "cells": [
  {
   "cell_type": "markdown",
   "metadata": {},
   "source": [
    "## Baselines\n",
    "This notebook extracts baselines used in our syftr paper."
   ]
  },
  {
   "cell_type": "code",
   "execution_count": null,
   "metadata": {},
   "outputs": [],
   "source": [
    "%reload_ext autoreload\n",
    "%autoreload 2\n",
    "\n",
    "from IPython.core import ultratb\n",
    "\n",
    "ultratb.VerboseTB.tb_highlight = \"bg:#3e0054\""
   ]
  },
  {
   "cell_type": "code",
   "execution_count": null,
   "metadata": {},
   "outputs": [],
   "source": [
    "from syftr.optuna_helper import get_completed_trials\n",
    "\n",
    "STUDY_NAMES = [\n",
    "    \"bench14--small-models--crag-music\",\n",
    "    \"bench14--small-models--crag-sports\",\n",
    "    \"bench14--small-models--drdocs\",\n",
    "    \"bench14--small-models--financebench\",\n",
    "    \"bench14--small-models--hotpot-train-hard\",\n",
    "    \"bench14--small-models--infinitebench\",\n",
    "]\n",
    "\n",
    "df_all = get_completed_trials(STUDY_NAMES)\n",
    "df_all.columns"
   ]
  },
  {
   "cell_type": "code",
   "execution_count": null,
   "metadata": {},
   "outputs": [],
   "source": [
    "import pandas as pd\n",
    "from syftr.configuration import cfg\n",
    "\n",
    "\n",
    "datasets = list(df_all[\"user_attrs_dataset\"].unique())\n",
    "\n",
    "df_results = pd.DataFrame(index=datasets)\n",
    "\n",
    "for study_name in STUDY_NAMES:\n",
    "    df = df_all[df_all[\"study_name\"] == study_name].copy()\n",
    "    \n",
    "    filter = (df[\"params_rag_template_name\"] == \"default\") \\\n",
    "        & (df[\"params_rag_mode\"] == \"rag\") \\\n",
    "        & (df[\"params_splitter_chunk_size\"] == 1024) \\\n",
    "        & (df[\"params_splitter_method\"] == \"token\") \\\n",
    "        & (df[\"params_rag_method\"] == \"dense\") \\\n",
    "        & (df[\"params_reranker_enabled\"] == False) \\\n",
    "        & (df[\"params_hyde_enabled\"] == False) \\\n",
    "        & (df[\"params_additional_context_enabled\"] == False) \\\n",
    "        & (df[\"params_rag_response_synthesizer_llm\"] == \"gpt-4o-mini\") \\\n",
    "        & (df[\"params_rag_embedding_model\"] == \"BAAI/bge-small-en-v1.5\") \\\n",
    "\n",
    "    df_baseline = df.loc[filter].copy()\n",
    "\n",
    "    df_baseline['primary_llm'] = df_baseline[\"params_rag_response_synthesizer_llm\"]\n",
    "\n",
    "    df_baseline[\"preferred_llm\"] = (\n",
    "        df_baseline[\"primary_llm\"] == \"gpt-4o-std\"\n",
    "    ) + df_baseline[\"primary_llm\"].str.startswith(\"gpt\")\n",
    "    df_baseline = df_baseline.sort_values(\n",
    "        by=[\"preferred_llm\", \"values_0\", \"values_1\"],\n",
    "        ascending=[False, False, True],\n",
    "    )\n",
    "\n",
    "    df_baseline = df_baseline.loc[df_baseline[\"user_attrs_metric_num_success\"].idxmax(), :].copy()\n",
    "    \n",
    "    dataset = df_baseline[\"user_attrs_dataset\"]\n",
    "    df_results.loc[dataset, \"values_0_baseline\"] = df_baseline[\"values_0\"]\n",
    "    df_results.loc[dataset, \"values_1_baseline\"] = df_baseline[\"values_1\"]\n",
    "    df_results.loc[dataset, \"flow\"] = df_baseline[\"user_attrs_flow\"]\n",
    "\n",
    "    filter = df[\"values_1\"] <= 1.01 * df_baseline[\"values_1\"].min()\n",
    "    idx = df.loc[filter, \"values_0\"].idxmax()\n",
    "    df_results.loc[dataset, \"values_0_pareto_at_baseline\"] = df.loc[\n",
    "        idx, \"values_0\"\n",
    "    ]\n",
    "\n",
    "    filter = df[\"values_0\"] >= 0.99 * df_baseline.loc[\"values_0\"].max()\n",
    "    idx = df.loc[filter, \"values_1\"].idxmin()\n",
    "    df_results.loc[dataset, \"values_1_pareto_at_baseline\"] = df.loc[\n",
    "        idx, \"values_1\"\n",
    "    ]\n",
    "    \n",
    "    df_results.loc[dataset, \"values_0_pareto\"] = df[\"values_0\"].max()\n",
    "    df_results.loc[dataset, \"values_1_pareto\"] = df[\"values_1\"].min()\n",
    "\n",
    "    df_results.loc[dataset, \"values_0_improvement_at_baseline\"] = (\n",
    "        df_results.loc[dataset, \"values_0_pareto_at_baseline\"]\n",
    "        - df_results.loc[dataset, \"values_0_baseline\"]\n",
    "    )\n",
    "\n",
    "    df_results.loc[dataset, \"values_1_improvement_at_baseline\"] = (\n",
    "        df_results.loc[dataset, \"values_1_baseline\"]\n",
    "        - df_results.loc[dataset, \"values_1_pareto_at_baseline\"]\n",
    "    )\n",
    "    df_results.loc[dataset, \"values_0_improvement_max\"] = (\n",
    "        df_results.loc[dataset, \"values_0_pareto\"]\n",
    "        - df_results.loc[dataset, \"values_0_baseline\"]\n",
    "    )\n",
    "    df_results.loc[dataset, \"values_1_improvement_max\"] = (\n",
    "        df_results.loc[dataset, \"values_1_baseline\"]\n",
    "        - df_results.loc[dataset, \"values_1_pareto\"]\n",
    "    )\n",
    "\n",
    "df_results.to_csv(cfg.paths.results_dir / \"small-models--improvements-from-baseline.csv\")"
   ]
  },
  {
   "cell_type": "code",
   "execution_count": null,
   "metadata": {},
   "outputs": [],
   "source": [
    "from syftr.optuna_helper import get_pareto_df\n",
    "\n",
    "df_pareto = get_pareto_df(\"bench14--small-models--infinitebench\")\n",
    "\n",
    "# transform cost to be in Cents per 100 calls\n",
    "df_pareto[\"values_1\"] *= 10000\n",
    "df_pareto = df_pareto.sort_values(by=[\"values_0\", \"values_1\"], ascending=[False, True])\n",
    "df_pareto"
   ]
  }
 ],
 "metadata": {
  "kernelspec": {
   "display_name": "syftr",
   "language": "python",
   "name": "python3"
  },
  "language_info": {
   "codemirror_mode": {
    "name": "ipython",
    "version": 3
   },
   "file_extension": ".py",
   "mimetype": "text/x-python",
   "name": "python",
   "nbconvert_exporter": "python",
   "pygments_lexer": "ipython3",
   "version": "3.12.7"
  }
 },
 "nbformat": 4,
 "nbformat_minor": 4
}
