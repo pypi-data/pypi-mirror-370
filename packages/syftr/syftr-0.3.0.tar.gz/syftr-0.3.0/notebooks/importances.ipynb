{
 "cells": [
  {
   "cell_type": "markdown",
   "metadata": {},
   "source": [
    "## Importances\n",
    "Use this notebook to visualize parameter importance. Here we leverage the fANOVA features importance functionality provided by Optuna."
   ]
  },
  {
   "cell_type": "code",
   "execution_count": null,
   "metadata": {},
   "outputs": [],
   "source": [
    "%reload_ext autoreload\n",
    "%autoreload 2\n",
    "\n",
    "from IPython.core import ultratb\n",
    "\n",
    "ultratb.VerboseTB.tb_highlight = \"bg:#3e0054\""
   ]
  },
  {
   "cell_type": "code",
   "execution_count": null,
   "metadata": {},
   "outputs": [],
   "source": [
    "from pathlib import Path\n",
    "\n",
    "from slugify import slugify\n",
    "\n",
    "from syftr.configuration import cfg\n",
    "\n",
    "STUDY_NAMES = [\n",
    "    \"rank1--rag-and-agents--bright_hf\",\n",
    "    \"rank1--rag-and-agents--crag_hf-music\",\n",
    "    \"rank1--rag-and-agents--crag_hf-sports\",\n",
    "    \"rank1--rag-and-agents--drdocs_hf\",\n",
    "    \"rank1--rag-and-agents--financebench_hf\",\n",
    "    \"rank1--rag-and-agents--hotpotqa_hf-train_hard\",\n",
    "    \"rank1--rag-and-agents--infinitebench_hf\",\n",
    "    \"rank1--rag-and-agents--multihoprag_hf\",\n",
    "    \"rank1--rag-and-agents--phantomwikiv050_hf\",\n",
    "    \"rank2--rag-and-agents--bright_hf\",\n",
    "    \"rank2--rag-and-agents--crag_hf-music\",\n",
    "    \"rank2--rag-and-agents--crag_hf-sports\",\n",
    "    \"rank2--rag-and-agents--drdocs_hf\",\n",
    "    \"rank2--rag-and-agents--financebench_hf\",\n",
    "    \"rank2--rag-and-agents--hotpotqa_hf-train_hard\",\n",
    "    \"rank2--rag-and-agents--infinitebench_hf\",\n",
    "    \"rank2--rag-and-agents--multihoprag_hf\",\n",
    "    \"rank2--rag-and-agents--phantomwikiv050_hf\",\n",
    "]\n",
    "TARGET_NAMES = [\"Accuracy\", \"Cost\"]\n",
    "STORAGE = cfg.postgres.get_optuna_storage()\n",
    "\n",
    "RESULTS_DIR: Path = cfg.paths.results_dir\n",
    "RESULTS_DIR.mkdir(parents=True, exist_ok=True)\n",
    "RESULTS_DIR = RESULTS_DIR.resolve()"
   ]
  },
  {
   "cell_type": "code",
   "execution_count": null,
   "metadata": {},
   "outputs": [],
   "source": [
    "def get_trial_value(trial, target_name):\n",
    "    assert target_name in TARGET_NAMES\n",
    "    if \"acc\" in target_name.lower():\n",
    "        return trial.values[0]\n",
    "    return trial.values[1]"
   ]
  },
  {
   "cell_type": "code",
   "execution_count": null,
   "metadata": {},
   "outputs": [],
   "source": [
    "import optuna\n",
    "from optuna.visualization import plot_param_importances\n",
    "from plotly.graph_objects import Figure\n",
    "from IPython.display import Image, display\n",
    "\n",
    "for study_name in STUDY_NAMES:\n",
    "    print(f\"Loading study '{study_name}'\")\n",
    "    study = optuna.load_study(study_name=study_name, storage=STORAGE)\n",
    "    for target_name in TARGET_NAMES:\n",
    "        print(f\"Computing hyperparameter importances for target '{target_name}'\")\n",
    "        fig: Figure = plot_param_importances(\n",
    "            study=study,\n",
    "            target=lambda trial: get_trial_value(trial, target_name),\n",
    "            target_name=target_name,\n",
    "        )\n",
    "        fig.update_layout(\n",
    "            title=f\"Hyperparameters that have the most Impact on {target_name} ({study_name})\"\n",
    "        )\n",
    "        img_path = RESULTS_DIR / (slugify(f\"{study_name}-importances-{target_name}\") + \".png\")\n",
    "        fig.write_image(img_path)\n",
    "        display(Image(filename=str(img_path)))"
   ]
  },
  {
   "cell_type": "code",
   "execution_count": null,
   "metadata": {},
   "outputs": [],
   "source": [
    "from syftr.optuna_helper import get_completed_trials\n",
    "\n",
    "\n",
    "df = get_completed_trials(STUDY_NAMES)\n",
    "for col in df.columns:\n",
    "    if col.startswith(\"params_\"):\n",
    "        print(f\"Unique values in {col}: {df[col].unique()}\")\n"
   ]
  }
 ],
 "metadata": {
  "kernelspec": {
   "display_name": "syftr",
   "language": "python",
   "name": "python3"
  },
  "language_info": {
   "codemirror_mode": {
    "name": "ipython",
    "version": 3
   },
   "file_extension": ".py",
   "mimetype": "text/x-python",
   "name": "python",
   "nbconvert_exporter": "python",
   "pygments_lexer": "ipython3",
   "version": "3.12.7"
  }
 },
 "nbformat": 4,
 "nbformat_minor": 4
}
