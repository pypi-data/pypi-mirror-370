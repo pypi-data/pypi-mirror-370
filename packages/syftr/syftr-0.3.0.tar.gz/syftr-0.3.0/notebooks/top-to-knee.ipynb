{
 "cells": [
  {
   "cell_type": "markdown",
   "metadata": {},
   "source": [
    "## Top to Knee\n",
    "This notebook show the possible cost saving from switch from the top-accuracy model to the knee-point on the cost-accuracy Pareto-curve."
   ]
  },
  {
   "cell_type": "code",
   "execution_count": null,
   "metadata": {},
   "outputs": [],
   "source": [
    "%reload_ext autoreload\n",
    "%autoreload 2\n",
    "\n",
    "from IPython.core import ultratb\n",
    "\n",
    "ultratb.VerboseTB.tb_highlight = \"bg:#3e0054\""
   ]
  },
  {
   "cell_type": "code",
   "execution_count": null,
   "metadata": {},
   "outputs": [],
   "source": [
    "from syftr.optuna_helper import get_completed_trials\n",
    "\n",
    "STUDY_NAMES = [\n",
    "    \"bench14--small-models--crag-music\",\n",
    "    \"bench14--small-models--crag-sports\",\n",
    "    \"bench14--small-models--drdocs\",\n",
    "    \"bench14--small-models--financebench\",\n",
    "    \"bench14--small-models--hotpot-train-hard\",\n",
    "    \"bench14--small-models--infinitebench\",\n",
    "]\n",
    "SUCCESS_RATE = 0.9\n",
    "\n",
    "df_all = get_completed_trials(STUDY_NAMES, success_rate=SUCCESS_RATE)"
   ]
  },
  {
   "cell_type": "code",
   "execution_count": null,
   "metadata": {},
   "outputs": [],
   "source": [
    "import pandas as pd\n",
    "from kneed import KneeLocator\n",
    "\n",
    "from syftr.configuration import cfg\n",
    "from syftr.optuna_helper import get_pareto_mask\n",
    "\n",
    "datasets = list(df_all[\"user_attrs_dataset\"].unique())\n",
    "\n",
    "df_results = pd.DataFrame(index=datasets)\n",
    "\n",
    "for study_name in STUDY_NAMES:\n",
    "    \n",
    "    df = df_all[df_all[\"study_name\"] == study_name].copy()\n",
    "    dataset = df[\"user_attrs_dataset\"].unique()[0]\n",
    "\n",
    "    pareto_mask = get_pareto_mask(df)\n",
    "    df_pareto = df[pareto_mask]\n",
    "    df_pareto = df_pareto.sort_values(by=\"values_1\")\n",
    "\n",
    "    knee = KneeLocator(\n",
    "        df_pareto[\"values_1\"],\n",
    "        df_pareto[\"values_0\"],\n",
    "        curve=\"concave\",\n",
    "        direction=\"increasing\",\n",
    "    )\n",
    "\n",
    "    df_pareto[\"is_knee\"] = df_pareto[\"values_1\"] == knee.knee\n",
    "    df_pareto[\"is_top_accuracy\"] = df_pareto[\"values_0\"] == df_pareto[\"values_0\"].max()\n",
    "    \n",
    "    \n",
    "    top_accuracy = df_pareto[\"values_0\"].max()\n",
    "\n",
    "    df_results.loc[dataset, \"study_name\"] = study_name\n",
    "    df_results.loc[dataset, \"n_trials\"] = len(df)\n",
    "    df_results.loc[dataset, \"n_trials_pareto\"] = len(df_pareto)\n",
    "    df_results.loc[dataset, \"top_accuracy__accuracy\"] = top_accuracy\n",
    "    df_results.loc[dataset, \"top_accuracy__cents_per_100_calls\"] = 10000 * df_pareto[df_pareto[\"is_top_accuracy\"]][\"values_1\"].min()\n",
    "    df_results.loc[dataset, \"knee_point__accuracy\"] = df_pareto[df_pareto[\"is_knee\"]][\"values_0\"].max()\n",
    "    df_results.loc[dataset, \"knee_point__cents_per_100_calls\"] = 10000 * df_pareto[df_pareto[\"is_knee\"]][\"values_1\"].min()\n",
    "    df_results.loc[dataset, \"accuracy_change__percentage_points\"] = (df_results.loc[dataset, \"knee_point__accuracy\"] - top_accuracy) * 100\n",
    "    df_results.loc[dataset, \"accuracy_change__percentage\"] = (df_results.loc[dataset, \"knee_point__accuracy\"] - top_accuracy) / top_accuracy * 100\n",
    "    df_results.loc[dataset, \"cost_change__cents_per_100_calls\"] = df_results.loc[dataset, \"knee_point__cents_per_100_calls\"] - df_results.loc[dataset, \"top_accuracy__cents_per_100_calls\"]\n",
    "    df_results.loc[dataset, \"cost_change__percentage\"] = (\n",
    "        df_results.loc[dataset, \"knee_point__cents_per_100_calls\"] - df_results.loc[dataset, \"top_accuracy__cents_per_100_calls\"]\n",
    "    ) / df_results.loc[dataset, \"top_accuracy__cents_per_100_calls\"] * 100\n",
    "\n",
    "\n",
    "df_results.to_csv(cfg.paths.results_dir / \"small-models--top-to-knee.csv\")\n",
    "df_results"
   ]
  },
  {
   "cell_type": "code",
   "execution_count": null,
   "metadata": {},
   "outputs": [],
   "source": []
  }
 ],
 "metadata": {
  "kernelspec": {
   "display_name": ".venv",
   "language": "python",
   "name": "python3"
  },
  "language_info": {
   "codemirror_mode": {
    "name": "ipython",
    "version": 3
   },
   "file_extension": ".py",
   "mimetype": "text/x-python",
   "name": "python",
   "nbconvert_exporter": "python",
   "pygments_lexer": "ipython3",
   "version": "3.12.7"
  }
 },
 "nbformat": 4,
 "nbformat_minor": 4
}
