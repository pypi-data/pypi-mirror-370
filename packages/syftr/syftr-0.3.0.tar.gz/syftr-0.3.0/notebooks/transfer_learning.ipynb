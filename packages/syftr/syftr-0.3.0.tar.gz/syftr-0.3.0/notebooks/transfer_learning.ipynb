{
 "cells": [
  {
   "cell_type": "markdown",
   "metadata": {},
   "source": [
    "## "
   ]
  },
  {
   "cell_type": "markdown",
   "metadata": {},
   "source": [
    "## Transfer Learning\n",
    "This notebook shows how we select and visualizes flows from historical studies to use for seeding."
   ]
  },
  {
   "cell_type": "code",
   "execution_count": null,
   "metadata": {},
   "outputs": [],
   "source": [
    "%reload_ext autoreload\n",
    "%autoreload 2\n",
    "\n",
    "from IPython.core import ultratb\n",
    "\n",
    "ultratb.VerboseTB.tb_highlight = \"bg:#3e0054\""
   ]
  },
  {
   "cell_type": "code",
   "execution_count": null,
   "metadata": {},
   "outputs": [],
   "source": [
    "try:\n",
    "    from syftr.configuration import cfg\n",
    "except:\n",
    "    import os\n",
    "    os.chdir('./../')"
   ]
  },
  {
   "cell_type": "code",
   "execution_count": null,
   "metadata": {},
   "outputs": [],
   "source": [
    "from syftr.configuration import cfg\n",
    "from syftr.optuna_helper import get_completed_trials\n",
    "\n",
    "STUDY_NAMES = [\n",
    "    \"seeding1--training--crag_hf-music--music\",\n",
    "    \"seeding1--training--financebench_hf\",\n",
    "    \"seeding1--training--hotpotqa_hf-train_hard--train_hard\",\n",
    "    \"seeding1--training--multihoprag_hf\",\n",
    "]\n",
    "MAX_PARETO_FRONTS = 2\n",
    "NUM_REQUIRED = 23\n",
    "\n",
    "RESULTS_DIR = cfg.paths.results_dir / \"transfer_learning\"\n",
    "RESULTS_DIR.mkdir(parents=True, exist_ok=True)\n",
    "SHOW_TITLE = False\n",
    "\n",
    "df_trials = get_completed_trials(\n",
    "    study=STUDY_NAMES,\n",
    "    success_rate=0.9\n",
    ")\n",
    "\n",
    "print(f\"Loaded {len(df_trials)} trials\")"
   ]
  },
  {
   "cell_type": "code",
   "execution_count": null,
   "metadata": {},
   "outputs": [],
   "source": [
    "from syftr.transfer_learning import get_top_performing_trials\n",
    "\n",
    "df_top = get_top_performing_trials(df_trials, MAX_PARETO_FRONTS)\n",
    "\n",
    "assert len(df_top) >= NUM_REQUIRED, f\"Got {len(df_top)} top-performing flows, expected at least {NUM_REQUIRED}\"\n",
    "print(f\"Found {len(df_top)} top-performing flows\")"
   ]
  },
  {
   "cell_type": "code",
   "execution_count": null,
   "metadata": {},
   "outputs": [],
   "source": [
    "from syftr.transfer_learning import get_selected_trials\n",
    "\n",
    "embedding_model = \"BAAI/bge-large-en-v1.5\"\n",
    "df_selected = get_selected_trials(df_top, embedding_model, max_total=NUM_REQUIRED)\n",
    "df_selected"
   ]
  },
  {
   "cell_type": "code",
   "execution_count": null,
   "metadata": {},
   "outputs": [],
   "source": [
    "import numpy as np\n",
    "from syftr.huggingface_helper import get_embedding_model\n",
    "\n",
    "embedder, _ = get_embedding_model(embedding_model)\n",
    "\n",
    "flows = list(df_top[\"user_attrs_flow\"].values)\n",
    "embeddings = np.array([embedder.get_query_embedding(text) for text in flows])"
   ]
  },
  {
   "cell_type": "code",
   "execution_count": null,
   "metadata": {},
   "outputs": [],
   "source": [
    "from sklearn.manifold import TSNE\n",
    "\n",
    "tsne = TSNE(n_components=2, perplexity=5, random_state=42)\n",
    "embeddings_2d = tsne.fit_transform(embeddings)"
   ]
  },
  {
   "cell_type": "code",
   "execution_count": null,
   "metadata": {},
   "outputs": [],
   "source": [
    "import matplotlib.pyplot as plt\n",
    "\n",
    "plt.figure(figsize=(8, 6))\n",
    "\n",
    "has_selected = False\n",
    "has_rejected = False\n",
    "for i, (x, y) in enumerate(embeddings_2d):\n",
    "    front_value = df_top.iloc[i][\"front\"]\n",
    "    if df_top.index[i] in df_selected.index:\n",
    "        label = \"Selected flow\" if not has_selected else None\n",
    "        plt.scatter(x, y, c=\"limegreen\", alpha=1.0, s=150, label=label, zorder=1)\n",
    "        has_selected = True\n",
    "    else:\n",
    "        label = \"Rejected flow\" if not has_rejected else None\n",
    "        plt.scatter(x, y, c=\"gray\", alpha=0.9, s=150, label=label, zorder=0)\n",
    "        has_rejected = True\n",
    "    plt.text(x, y, str(front_value), fontsize=9, ha='center', va='center')\n",
    "\n",
    "if SHOW_TITLE:\n",
    "    plt.title(\n",
    "        f\"Selected {NUM_REQUIRED} out of {len(df_top)} Top-Flows Using Clusters of {embedding_model}-Embeddings\"\n",
    "    )\n",
    "plt.xlabel(\"t-SNE 1\")\n",
    "plt.ylabel(\"t-SNE 2\")\n",
    "\n",
    "plt.gca().set_xticks([])\n",
    "plt.gca().set_yticks([])\n",
    "\n",
    "plt.legend(loc=\"upper left\")\n",
    "plt.tight_layout()\n",
    "plt.savefig(RESULTS_DIR / \"transfer-learning--selected-flows.png\", dpi=300)\n",
    "plt.savefig(RESULTS_DIR / \"transfer-learning--selected-flows.pdf\", dpi=300)\n",
    "plt.show()"
   ]
  },
  {
   "cell_type": "code",
   "execution_count": null,
   "metadata": {},
   "outputs": [],
   "source": []
  }
 ],
 "metadata": {
  "kernelspec": {
   "display_name": "syftr",
   "language": "python",
   "name": "python3"
  },
  "language_info": {
   "codemirror_mode": {
    "name": "ipython",
    "version": 3
   },
   "file_extension": ".py",
   "mimetype": "text/x-python",
   "name": "python",
   "nbconvert_exporter": "python",
   "pygments_lexer": "ipython3",
   "version": "3.12.7"
  }
 },
 "nbformat": 4,
 "nbformat_minor": 4
}
