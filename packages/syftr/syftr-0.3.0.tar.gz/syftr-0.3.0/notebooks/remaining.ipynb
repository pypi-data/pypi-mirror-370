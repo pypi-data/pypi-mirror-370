{
 "cells": [
  {
   "cell_type": "markdown",
   "id": "0",
   "metadata": {},
   "source": [
    "## Remaining Trials\n",
    "This notebook is useful to estimate the remaining time required for a set of optimizations to reach a given number of trials."
   ]
  },
  {
   "cell_type": "code",
   "execution_count": null,
   "id": "1",
   "metadata": {},
   "outputs": [],
   "source": [
    "%reload_ext autoreload\n",
    "%autoreload 2\n",
    "\n",
    "from IPython.core import ultratb\n",
    "\n",
    "ultratb.VerboseTB.tb_highlight = \"bg:#3e0054\""
   ]
  },
  {
   "cell_type": "code",
   "execution_count": null,
   "id": "2",
   "metadata": {},
   "outputs": [],
   "source": [
    "import pandas as pd\n",
    "\n",
    "from syftr.configuration import cfg\n",
    "\n",
    "STUDY_NAMES = [\n",
    "    \"silver1--in-sample--bright_hf--earth_science\",\n",
    "    \"silver1--in-sample--bright_hf--economics\",\n",
    "    \"silver1--in-sample--bright_hf--pony\",\n",
    "    \"silver1--in-sample--bright_hf--psychology\",\n",
    "    \"silver1--in-sample--bright_hf--robotics\",\n",
    "    \"silver1--in-sample--bright_hf--sustainable_living\",\n",
    "]\n",
    "\n",
    "N_TRIALS_FOR_ESTIMATE = 20\n",
    "N_TARGET = 2400\n",
    "\n",
    "STORAGE = cfg.database.get_optuna_storage()\n",
    "\n",
    "pd.set_option(\"display.max_rows\", None)\n",
    "pd.set_option(\"display.max_columns\", None)"
   ]
  },
  {
   "cell_type": "code",
   "execution_count": null,
   "id": "3",
   "metadata": {},
   "outputs": [],
   "source": [
    "def get_extrapolation(df_trials, n_target, n_trials_for_estimate):\n",
    "    df = df_trials[-n_trials_for_estimate:]\n",
    "    duration = (df.iloc[-1][\"datetime_complete\"] - df.iloc[0][\"datetime_complete\"]) / n_trials_for_estimate\n",
    "    x = [df.iloc[-1][\"datetime_complete\"]]\n",
    "    y = [df.index[-1]]\n",
    "    for _ in range(1, n_target-y[0]+1):\n",
    "        x.append(x[-1] + duration)\n",
    "        y.append(y[-1] + 1)\n",
    "    return x, y"
   ]
  },
  {
   "cell_type": "code",
   "execution_count": null,
   "id": "4",
   "metadata": {},
   "outputs": [],
   "source": [
    "import matplotlib.pyplot as plt\n",
    "import optuna\n",
    "import pandas as pd\n",
    "\n",
    "plt.figure(figsize=(10, 6))\n",
    "\n",
    "for study_name in STUDY_NAMES:\n",
    "    study = optuna.load_study(study_name=study_name, storage=STORAGE)\n",
    "    df_trials: pd.DataFrame = study.trials_dataframe()\n",
    "    try:\n",
    "        df_trials = df_trials[df_trials[\"state\"] == \"COMPLETE\"]\n",
    "        df_trials = df_trials.sort_values(\"datetime_complete\")\n",
    "        df_trials.reset_index(drop=True, inplace=True)\n",
    "        x = df_trials[\"datetime_complete\"]\n",
    "        y = df_trials.index\n",
    "        plt.plot(x, y, label=study_name)\n",
    "        x, y = get_extrapolation(df_trials, n_target=N_TARGET, n_trials_for_estimate=N_TRIALS_FOR_ESTIMATE)\n",
    "        finish_date = f\"{x[-1]:%A, %B %d at %H:%M}\"\n",
    "        print(f\"{study_name} is expected to reach {N_TARGET} trials on {finish_date} (in {x[-1] - x[0]})\")\n",
    "        plt.plot(x, y, color=\"gray\", linestyle=\"--\", linewidth=0.5, alpha=0.5)\n",
    "        plt.axhline(y=N_TARGET, color=\"gray\", linestyle=\"--\", linewidth=0.5, alpha=0.5)\n",
    "    except:\n",
    "        pass\n",
    "\n",
    "plt.title(f\"Optimization Trials with Extrapolation based on last {N_TRIALS_FOR_ESTIMATE} Trials\")\n",
    "plt.ylabel(\"Number of Optimization Trials\")\n",
    "plt.xticks(rotation=45)\n",
    "plt.legend()"
   ]
  },
  {
   "cell_type": "code",
   "execution_count": null,
   "id": "5",
   "metadata": {},
   "outputs": [],
   "source": []
  }
 ],
 "metadata": {
  "kernelspec": {
   "display_name": "syftr",
   "language": "python",
   "name": "python3"
  },
  "language_info": {
   "codemirror_mode": {
    "name": "ipython",
    "version": 3
   },
   "file_extension": ".py",
   "mimetype": "text/x-python",
   "name": "python",
   "nbconvert_exporter": "python",
   "pygments_lexer": "ipython3",
   "version": "3.12.7"
  }
 },
 "nbformat": 4,
 "nbformat_minor": 5
}
