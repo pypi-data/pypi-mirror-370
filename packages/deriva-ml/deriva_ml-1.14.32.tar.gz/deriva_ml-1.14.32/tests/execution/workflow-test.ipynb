{
 "cells": [
  {
   "cell_type": "markdown",
   "id": "0",
   "metadata": {},
   "source": [
    "# Notebook template for executing code using DerivaML.\n",
    "\n",
    "This notebook should be modified to perform the desired calcuation and *COMITTED* to Gihub prior to execution."
   ]
  },
  {
   "cell_type": "code",
   "execution_count": null,
   "id": "1",
   "metadata": {},
   "outputs": [],
   "source": [
    "from deriva_ml import DerivaML, MLVocab as vc\n",
    "import os\n",
    "import logging\n",
    "logger = logging.getLogger()"
   ]
  },
  {
   "cell_type": "markdown",
   "id": "2",
   "metadata": {},
   "source": [
    "## Parameters cell\n"
   ]
  },
  {
   "cell_type": "code",
   "execution_count": null,
   "id": "3",
   "metadata": {
    "tags": [
     "parameters"
    ]
   },
   "outputs": [],
   "source": [
    "hostname = None\n",
    "catalog_id = None"
   ]
  },
  {
   "cell_type": "code",
   "execution_count": null,
   "id": "4",
   "metadata": {},
   "outputs": [],
   "source": [
    "# Modify these to your desired server and catalog.\n",
    "hostname = hostname or os.environ.get(\"DERIVA_HOST\")\n",
    "catalog_id = catalog_id or os.environ.get(\"DERIVA_CATALOG_ID\")\n",
    "\n",
    "# Change this line to call the domain specific class derived from DerivaML\n",
    "ml_instance = DerivaML(hostname, catalog_id)\n",
    "logger.info(\"Got ML instance:\")\n",
    "\n",
    "ml_instance.add_term(vc.asset_type, \"Test Model\", description=\"Model for our Test workflow\")\n",
    "ml_instance.add_term(vc.workflow_type, \"Test Workflow\", description=\"A ML Workflow that uses Deriva ML API\")\n",
    "print(\"Added terms to ML instance\")\n",
    "api_workflow = ml_instance.create_workflow(\n",
    "    name=\"Test Workflow One\",\n",
    "    workflow_type=\"Test Workflow\",\n",
    "    description=\"A test operation\",\n",
    ")\n",
    "logger.info(f\"URL: {api_workflow.url}\")\n",
    "rid = ml_instance.add_workflow(api_workflow)\n",
    "logger.info(f\"RID {rid}\")\n"
   ]
  }
 ],
 "metadata": {
  "kernelspec": {
   "display_name": "deriva-test",
   "language": "python",
   "name": "deriva-test"
  },
  "language_info": {
   "codemirror_mode": {
    "name": "ipython",
    "version": 2
   },
   "file_extension": ".py",
   "mimetype": "text/x-python",
   "name": "python",
   "nbconvert_exporter": "python",
   "pygments_lexer": "ipython2",
   "version": "2.7.6"
  }
 },
 "nbformat": 4,
 "nbformat_minor": 5
}
