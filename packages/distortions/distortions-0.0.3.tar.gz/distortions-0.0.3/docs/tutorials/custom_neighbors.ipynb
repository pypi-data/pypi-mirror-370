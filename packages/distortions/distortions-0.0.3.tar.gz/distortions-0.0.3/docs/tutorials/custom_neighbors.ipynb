{
 "cells": [
  {
   "cell_type": "code",
   "execution_count": 1,
   "id": "194dec5d",
   "metadata": {},
   "outputs": [],
   "source": [
    "import scanpy as sc\n",
    "\n",
    "counts = sc.datasets.pbmc3k().X.todense().T\n",
    "%load_ext rpy2.ipython"
   ]
  },
  {
   "cell_type": "code",
   "execution_count": 2,
   "id": "72bd5641",
   "metadata": {},
   "outputs": [
    {
     "name": "stdout",
     "output_type": "stream",
     "text": [
      "── Attaching core tidyverse packages ──────────────────────── tidyverse 2.0.0 ──\n",
      "✔ dplyr     1.1.4     ✔ readr     2.1.5\n",
      "✔ forcats   1.0.0     ✔ stringr   1.5.1\n",
      "✔ ggplot2   3.5.2     ✔ tibble    3.3.0\n",
      "✔ lubridate 1.9.4     ✔ tidyr     1.3.1\n",
      "✔ purrr     1.1.0     \n",
      "── Conflicts ────────────────────────────────────────── tidyverse_conflicts() ──\n",
      "✖ dplyr::filter() masks stats::filter()\n",
      "✖ dplyr::lag()    masks stats::lag()\n",
      "ℹ Use the conflicted package (<http://conflicted.r-lib.org/>) to force all conflicts to become errors\n",
      "\n",
      "    WARNING: The R package \"reticulate\" only fixed recently\n",
      "    an issue that caused a segfault when used with rpy2:\n",
      "    https://github.com/rstudio/reticulate/pull/1188\n",
      "    Make sure that you use a version of that package that includes\n",
      "    the fix.\n",
      "    "
     ]
    },
    {
     "data": {
      "text/plain": [
       "Loading required package: SeuratObject\n",
       "Loading required package: sp\n",
       "‘SeuratObject’ was built under R 4.5.0 but the current version is\n",
       "4.5.1; it is recomended that you reinstall ‘SeuratObject’ as the ABI\n",
       "for R may have changed\n",
       "\n",
       "Attaching package: ‘SeuratObject’\n",
       "\n",
       "The following objects are masked from ‘package:base’:\n",
       "\n",
       "    intersect, t\n",
       "\n",
       "\n",
       "Attaching package: ‘scDEED’\n",
       "\n",
       "The following object is masked from ‘package:stats’:\n",
       "\n",
       "    optimize\n",
       "\n",
       "Warning: Data is of class matrix. Coercing to dgCMatrix.\n",
       "Finding variable features for layer counts\n",
       "Calculating gene variances\n",
       "0%   10   20   30   40   50   60   70   80   90   100%\n",
       "[----|----|----|----|----|----|----|----|----|----|\n",
       "**************************************************|\n",
       "Calculating feature variances of standardized and clipped values\n",
       "0%   10   20   30   40   50   60   70   80   90   100%\n",
       "[----|----|----|----|----|----|----|----|----|----|\n",
       "**************************************************|\n",
       "Normalizing layer: counts\n",
       "Performing log-normalization\n",
       "0%   10   20   30   40   50   60   70   80   90   100%\n",
       "[----|----|----|----|----|----|----|----|----|----|\n",
       "**************************************************|\n",
       "Centering and scaling data matrix\n",
       "\r  |                                                                            \r  |                                                                      |   0%\r  |                                                                            \r  |===================================                                   |  50%\r  |                                                                            \r  |======================================================================| 100%\n",
       "PC_ 1 \n",
       "Positive:  Feature28818, Feature30430, Feature10609, Feature10611, Feature30934, Feature16745, Feature21054, Feature18999, Feature1956, Feature2225 \n",
       "\t   Feature32216, Feature29429, Feature31964, Feature1958, Feature1846, Feature31959, Feature23264, Feature18773, Feature18149, Feature17465 \n",
       "\t   Feature13509, Feature13383, Feature30115, Feature25893, Feature1903, Feature23057, Feature22827, Feature19264, Feature25268, Feature2483 \n",
       "Negative:  Feature19155, Feature10608, Feature24758, Feature1636, Feature26263, Feature12205, Feature19180, Feature2301, Feature26825, Feature13131 \n",
       "\t   Feature15831, Feature8890, Feature28833, Feature2760, Feature4088, Feature7587, Feature13779, Feature8887, Feature15412, Feature13126 \n",
       "\t   Feature13862, Feature19991, Feature532, Feature4134, Feature7224, Feature18406, Feature9383, Feature31076, Feature20238, Feature11419 \n",
       "PC_ 2 \n",
       "Positive:  Feature30657, Feature18945, Feature23289, Feature10681, Feature10678, Feature10682, Feature23927, Feature27508, Feature10680, Feature9799 \n",
       "\t   Feature10701, Feature10696, Feature10685, Feature10679, Feature10700, Feature10694, Feature2243, Feature21419, Feature10608, Feature17729 \n",
       "\t   Feature23476, Feature26139, Feature25915, Feature31683, Feature18431, Feature7803, Feature7465, Feature30509, Feature2121, Feature25909 \n",
       "Negative:  Feature31076, Feature17450, Feature28833, Feature8890, Feature22590, Feature7345, Feature19180, Feature4047, Feature22589, Feature7170 \n",
       "\t   Feature26840, Feature2238, Feature26825, Feature2301, Feature2317, Feature16816, Feature16916, Feature17424, Feature7587, Feature19539 \n",
       "\t   Feature32158, Feature1965, Feature16089, Feature24758, Feature7593, Feature3295, Feature11888, Feature2318, Feature32017, Feature11419 \n",
       "PC_ 3 \n",
       "Positive:  Feature10681, Feature30657, Feature27508, Feature10682, Feature10701, Feature9799, Feature10700, Feature18945, Feature10680, Feature10679 \n",
       "\t   Feature10678, Feature10685, Feature23289, Feature23927, Feature10694, Feature10696, Feature21419, Feature2243, Feature25915, Feature17729 \n",
       "\t   Feature23476, Feature7465, Feature23451, Feature26139, Feature31683, Feature18431, Feature12405, Feature4028, Feature7669, Feature9601 \n",
       "Negative:  Feature7697, Feature7696, Feature4865, Feature9825, Feature12535, Feature19923, Feature6459, Feature2538, Feature29270, Feature14587 \n",
       "\t   Feature10421, Feature19444, Feature27143, Feature20143, Feature5519, Feature15067, Feature10867, Feature20164, Feature27373, Feature13865 \n",
       "\t   Feature10828, Feature10241, Feature10110, Feature31597, Feature14266, Feature22002, Feature22527, Feature10390, Feature28980, Feature26183 \n",
       "PC_ 4 \n",
       "Positive:  Feature10681, Feature10421, Feature7696, Feature4865, Feature30657, Feature27508, Feature7697, Feature12535, Feature9825, Feature10682 \n",
       "\t   Feature18945, Feature9799, Feature6459, Feature10701, Feature19923, Feature2538, Feature10867, Feature20143, Feature19444, Feature10685 \n",
       "\t   Feature14587, Feature29270, Feature15067, Feature10680, Feature10700, Feature27143, Feature5519, Feature10678, Feature23289, Feature20164 \n",
       "Negative:  Feature17040, Feature1958, Feature1963, Feature1965, Feature4028, Feature1956, Feature24758, Feature13126, Feature1901, Feature31959 \n",
       "\t   Feature232, Feature4088, Feature16745, Feature21054, Feature1636, Feature1957, Feature18938, Feature8803, Feature1903, Feature15831 \n",
       "\t   Feature13127, Feature19354, Feature16089, Feature19155, Feature10611, Feature13131, Feature7692, Feature595, Feature4026, Feature26245 \n",
       "PC_ 5 \n",
       "Positive:  Feature10608, Feature17040, Feature15831, Feature17443, Feature4088, Feature24011, Feature1636, Feature19254, Feature4582, Feature8803 \n",
       "\t   Feature24758, Feature25589, Feature8033, Feature20638, Feature27657, Feature27929, Feature20905, Feature13779, Feature25893, Feature22260 \n",
       "\t   Feature27827, Feature9383, Feature16960, Feature2760, Feature17357, Feature13127, Feature925, Feature11512, Feature13865, Feature532 \n",
       "Negative:  Feature22590, Feature7345, Feature31076, Feature4047, Feature17450, Feature26840, Feature28833, Feature7170, Feature8890, Feature16816 \n",
       "\t   Feature22589, Feature2317, Feature19180, Feature32158, Feature16916, Feature26825, Feature7593, Feature2318, Feature1958, Feature26839 \n",
       "\t   Feature30430, Feature7587, Feature1737, Feature9855, Feature1956, Feature2225, Feature22798, Feature31959, Feature232, Feature1957 \n"
      ]
     },
     "metadata": {},
     "output_type": "display_data"
    }
   ],
   "source": [
    "%%R -i counts\n",
    "\n",
    "library(tidyverse)\n",
    "library(Seurat)\n",
    "library(scDEED)\n",
    "\n",
    "perplexity <- 40\n",
    "data <- CreateSeuratObject(counts) |>\n",
    "    FindVariableFeatures() |>\n",
    "    NormalizeData() |>\n",
    "    ScaleData() |>\n",
    "    RunPCA() |>\n",
    "    RunTSNE(perplexity=perplexity)"
   ]
  },
  {
   "cell_type": "code",
   "execution_count": 3,
   "id": "4d8ac33a",
   "metadata": {},
   "outputs": [],
   "source": [
    "%%R\n",
    "\n",
    "embeddings <- Embeddings(data, \"tsne\")\n",
    "normalized_counts <- GetAssayData(data, layer = \"scale.data\") |>\n",
    "    as.matrix() |>\n",
    "    t()"
   ]
  },
  {
   "cell_type": "code",
   "execution_count": 4,
   "id": "b8e3d8ef",
   "metadata": {},
   "outputs": [],
   "source": [
    "import numpy as np\n",
    "import rpy2.robjects\n",
    "\n",
    "embeddings = np.array(rpy2.robjects.globalenv['embeddings'])\n",
    "normalized_counts = np.array(rpy2.robjects.globalenv[\"normalized_counts\"])"
   ]
  },
  {
   "cell_type": "code",
   "execution_count": 5,
   "id": "b6f24a58",
   "metadata": {},
   "outputs": [
    {
     "name": "stdout",
     "output_type": "stream",
     "text": [
      "[1] \"Permuting data\"\n",
      "  |======================================================================| 100%[1] \"Permutation finished\"\n"
     ]
    },
    {
     "data": {
      "text/plain": [
       "Warning: Number of dimensions changing from 50 to 8\n",
       "Computing nearest neighbor graph\n",
       "Computing SNN\n",
       "In addition: Warning messages:\n",
       "1: The `slot` argument of `GetAssayData()` is deprecated as of SeuratObject 5.0.0.\n",
       "ℹ Please use the `layer` argument instead.\n",
       "ℹ The deprecated feature was likely used in the scDEED package.\n",
       "  Please report the issue to the authors.\n",
       "This warning is displayed once every 8 hours.\n",
       "Call `lifecycle::last_lifecycle_warnings()` to see where this warning was\n",
       "generated. \n",
       "2: The `slot` argument of `SetAssayData()` is deprecated as of SeuratObject 5.0.0.\n",
       "ℹ Please use the `layer` argument instead.\n",
       "ℹ The deprecated feature was likely used in the scDEED package.\n",
       "  Please report the issue to the authors.\n",
       "This warning is displayed once every 8 hours.\n",
       "Call `lifecycle::last_lifecycle_warnings()` to see where this warning was\n",
       "generated. \n"
      ]
     },
     "metadata": {},
     "output_type": "display_data"
    }
   ],
   "source": [
    "%%R\n",
    "\n",
    "K <- 8\n",
    "result <- scDEED(data, K = K, reduction.method = 'tsne', rerun = F, perplexity = perplexity)\n",
    "dubious <- result$full_results |>\n",
    "    filter(perplexity == perplexity) |>\n",
    "    pull(dubious_cells) |>\n",
    "    str_split(\",\")\n",
    "\n",
    "dubious <- as.integer(dubious[[1]])\n",
    "\n",
    "data <- FindNeighbors(data, features = VariableFeatures(data), k.param = 50)\n",
    "G <- data@graphs$RNA_nn\n",
    "N <- map(dubious, ~ which(G[.x, ] > 0)) |>\n",
    "    set_names(dubious)"
   ]
  },
  {
   "cell_type": "code",
   "execution_count": 6,
   "id": "7c7bb7e2",
   "metadata": {},
   "outputs": [],
   "source": [
    "from distortions.geometry import Geometry, bind_metric, local_distortions\n",
    "\n",
    "geom = Geometry(\"brute\", laplacian_method=\"geometric\", affinity_kwds={\"radius\": 20}, adjacency_kwds={\"radius\": 50}, laplacian_kwds={\"scaling_epps\": 5})\n",
    "H, Hvv, Hs = local_distortions(embeddings, normalized_counts, geom)\n",
    "embeddings = bind_metric(embeddings, Hvv, Hs)\n",
    "N = rpy2.robjects.globalenv[\"N\"]\n",
    "N_dict = {int(key): list(val) for key, val in N.items()}"
   ]
  },
  {
   "cell_type": "code",
   "execution_count": 7,
   "id": "8b8ea983",
   "metadata": {},
   "outputs": [],
   "source": [
    "from distortions.visualization import dplot\n",
    "\n",
    "plots = {}\n",
    "plots[\"scdeed_distort\"] = dplot(embeddings, width=440, height=440)\\\n",
    "    .mapping(x=\"embedding_0\", y=\"embedding_1\")\\\n",
    "    .geom_ellipse(radiusMax=10, radiusMin=1)\\\n",
    "    .inter_edge_link(N=N_dict, stroke=\"#F25E7A\", highlightColor=\"#C83F58\", strokeWidth=.4, highlightStrokeWidth=5, threshold=10, backgroundOpacity=0.5)"
   ]
  },
  {
   "cell_type": "code",
   "execution_count": 8,
   "id": "41a30f89",
   "metadata": {},
   "outputs": [],
   "source": [
    "#[p.save(f\"../paper/figures/{k}.svg\") for k, p in plots.items()]"
   ]
  },
  {
   "cell_type": "code",
   "execution_count": 9,
   "id": "5a868712",
   "metadata": {},
   "outputs": [
    {
     "data": {
      "application/vnd.jupyter.widget-view+json": {
       "model_id": "62564b7fbb9c4e179186c628d4a87588",
       "version_major": 2,
       "version_minor": 1
      },
      "text/plain": [
       "dplot(dataset=[{'embedding_0': 5.783105882455072, 'embedding_1': -12.634558999702302, 'x0': -0.303412665270283…"
      ]
     },
     "metadata": {},
     "output_type": "display_data"
    },
    {
     "data": {
      "text/plain": [
       "[None]"
      ]
     },
     "execution_count": 9,
     "metadata": {},
     "output_type": "execute_result"
    }
   ],
   "source": [
    "[display(p) for p in plots.values()]"
   ]
  },
  {
   "cell_type": "code",
   "execution_count": null,
   "id": "6114d2c6",
   "metadata": {},
   "outputs": [],
   "source": []
  }
 ],
 "metadata": {
  "kernelspec": {
   "display_name": "dist2",
   "language": "python",
   "name": "python3"
  },
  "language_info": {
   "codemirror_mode": {
    "name": "ipython",
    "version": 3
   },
   "file_extension": ".py",
   "mimetype": "text/x-python",
   "name": "python",
   "nbconvert_exporter": "python",
   "pygments_lexer": "ipython3",
   "version": "3.12.2"
  }
 },
 "nbformat": 4,
 "nbformat_minor": 5
}
