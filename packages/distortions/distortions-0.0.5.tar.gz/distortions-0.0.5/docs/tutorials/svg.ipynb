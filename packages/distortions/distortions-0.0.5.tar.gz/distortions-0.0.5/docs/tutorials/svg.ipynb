{
 "cells": [
  {
   "cell_type": "markdown",
   "id": "a37dd0c3",
   "metadata": {},
   "source": [
    "Let's first save the results from our homepage's quickstart into a plot object. "
   ]
  },
  {
   "cell_type": "code",
   "execution_count": 1,
   "id": "ad2af14e",
   "metadata": {},
   "outputs": [],
   "source": [
    "from distortions.geometry import Geometry, bind_metric, local_distortions, neighborhoods\n",
    "from distortions.visualization import dplot\n",
    "import anndata as ad\n",
    "import numpy as np\n",
    "import scanpy as sc\n",
    "\n",
    "adata = ad.AnnData(np.random.poisson(2, size=(100, 5)))\n",
    "sc.pp.neighbors(adata, n_neighbors=15)\n",
    "sc.tl.umap(adata)\n",
    "\n",
    "geom = Geometry(affinity_kwds={\"radius\": 2}, adjacency_kwds={\"n_neighbors\": 15})\n",
    "_, Hvv, Hs = local_distortions(adata.obsm[\"X_umap\"], adata.X, geom)\n",
    "embedding = bind_metric(adata.obsm[\"X_umap\"], Hvv, Hs)\n",
    "\n",
    "N = neighborhoods(adata, outlier_factor=1)\n",
    "plot = dplot(embedding)\\\n",
    "    .mapping(x=\"embedding_0\", y=\"embedding_1\")\\\n",
    "    .inter_edge_link(N=N)\\\n",
    "    .geom_ellipse()"
   ]
  },
  {
   "cell_type": "markdown",
   "id": "a6e76017",
   "metadata": {},
   "source": [
    "If you print plot, you will see the figure. Hovering the mouse near a point highlights its neighbors. If you double click the figure, it freezes the interactivity."
   ]
  },
  {
   "cell_type": "code",
   "execution_count": 2,
   "id": "52491dfa",
   "metadata": {},
   "outputs": [
    {
     "data": {
      "application/vnd.jupyter.widget-view+json": {
       "model_id": "88116d6838194e9ea325819cba83fb02",
       "version_major": 2,
       "version_minor": 1
      },
      "text/plain": [
       "dplot(dataset=[{'embedding_0': 12.975311279296875, 'embedding_1': 7.4127984046936035, 'x0': 0.0360943131024686…"
      ]
     },
     "execution_count": 2,
     "metadata": {},
     "output_type": "execute_result"
    }
   ],
   "source": [
    "plot"
   ]
  },
  {
   "cell_type": "markdown",
   "id": "586d79b0",
   "metadata": {},
   "source": [
    "![](https://raw.githubusercontent.com/krisrs1128/distortions-data/main/figures/quickstart.gif)"
   ]
  },
  {
   "cell_type": "markdown",
   "id": "6b80dbb8",
   "metadata": {},
   "source": [
    "To save a specific view, call the `save()` method on the plot object. By default, it will save a file `plot.svg` to the current notebook directory. You can specify your own path, but it must be an SVG file."
   ]
  },
  {
   "cell_type": "code",
   "execution_count": 3,
   "id": "390b73c3",
   "metadata": {},
   "outputs": [],
   "source": [
    "plot.save(\"output.svg\")"
   ]
  },
  {
   "cell_type": "markdown",
   "id": "0d1a6705",
   "metadata": {},
   "source": [
    "One known limitation is that you have to at least hover over the SVG before the plot will properly save. This is because anywidget loads some utilities lazily, and we can't save until some interactions have been made. The first time you run `plot.save()` (before any interactions), it might save an empty svg file to the directory."
   ]
  },
  {
   "cell_type": "markdown",
   "id": "8eae6fc0",
   "metadata": {},
   "source": []
  }
 ],
 "metadata": {
  "kernelspec": {
   "display_name": "dist2",
   "language": "python",
   "name": "python3"
  },
  "language_info": {
   "codemirror_mode": {
    "name": "ipython",
    "version": 3
   },
   "file_extension": ".py",
   "mimetype": "text/x-python",
   "name": "python",
   "nbconvert_exporter": "python",
   "pygments_lexer": "ipython3",
   "version": "3.12.2"
  }
 },
 "nbformat": 4,
 "nbformat_minor": 5
}
