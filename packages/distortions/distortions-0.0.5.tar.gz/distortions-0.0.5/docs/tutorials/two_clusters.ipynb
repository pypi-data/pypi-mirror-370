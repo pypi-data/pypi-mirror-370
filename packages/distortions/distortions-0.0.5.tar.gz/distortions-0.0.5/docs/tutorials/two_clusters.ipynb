{
 "cells": [
  {
   "cell_type": "markdown",
   "id": "79d85777",
   "metadata": {},
   "source": [
    "One of the benefit benefits of estimating local distortion is that it shows how the interpretation of embedding distances may not be comparable across different parts of the plot. In one region distances can be compressed, in others they might be dilated. This is potentially useful if an embedding distort densities. In our paper, we show how these local metrics can be used to evaluate the difference between plain dimensionality reduction methods and density-aware versions -- see also the C. elegans article here. But for now, this article will just show that this local distortion information can help in a very simple example of two clusters with differential densities.\n",
    "\n",
    "The block below generates two Gaussian clusters, one with variance 10 the other with variance 1 and centered at (30, 0). These two clusters are adjacent to one another, but don't really overlap."
   ]
  },
  {
   "cell_type": "code",
   "execution_count": 1,
   "id": "4c3f5244",
   "metadata": {},
   "outputs": [],
   "source": [
    "import numpy as np\n",
    "import pandas as pd\n",
    "np.random.seed(20250702)\n",
    "\n",
    "def two_clusters_differential(n):\n",
    "    \"\"\"Two 2D clusters of different sizes.\"\"\"\n",
    "    points = []\n",
    "    for _ in range(n):\n",
    "        points.append([10 * np.random.normal(), 10 * np.random.normal()])\n",
    "        points.append([30 + np.random.normal(), np.random.normal()])\n",
    "    return np.array(points)"
   ]
  },
  {
   "cell_type": "markdown",
   "id": "1c5d3cee",
   "metadata": {},
   "source": [
    "## Data Generation and Embedding"
   ]
  },
  {
   "cell_type": "markdown",
   "id": "42831765",
   "metadata": {},
   "source": [
    "Below we generate a data sample using this function, and we use scanpy to obtain a UMAP embedding. There are 1000 points total 500 in each cluster."
   ]
  },
  {
   "cell_type": "code",
   "execution_count": 2,
   "id": "b122b4b1",
   "metadata": {},
   "outputs": [],
   "source": [
    "M = 500\n",
    "n_neighbors = 50\n",
    "data = two_clusters_differential(M)"
   ]
  },
  {
   "cell_type": "markdown",
   "id": "ecd82966",
   "metadata": {},
   "source": [
    "Let's visualize this raw data. While we could use any visualization package we want. Let's try using our own distortions package. This requires two columns for the singular values that defined the length of each of the ellipse axis. Since for this initial plot will be happy to have plain circles, let's manually set those lengths to one."
   ]
  },
  {
   "cell_type": "code",
   "execution_count": 3,
   "id": "dfc9fd52",
   "metadata": {},
   "outputs": [],
   "source": [
    "data_df = pd.DataFrame(data)\n",
    "data_df[\"cluster\"] = [\"A\", \"B\"] * M\n",
    "data_df.columns = [\"x\", \"y\", \"cluster\"]\n",
    "data_df[\"s0\"] = 1\n",
    "data_df[\"s1\"] = 1"
   ]
  },
  {
   "cell_type": "markdown",
   "id": "7a0b68dc",
   "metadata": {},
   "source": [
    "The code below makes the visualization. The `.mapping` call is analogous to `aes()` in ggplot2 and `.encode()` in Altair. This plot backs up will be initially claimed about the relative sizes and overlap."
   ]
  },
  {
   "cell_type": "code",
   "execution_count": 4,
   "id": "d72dadd3",
   "metadata": {},
   "outputs": [
    {
     "data": {
      "application/vnd.jupyter.widget-view+json": {
       "model_id": "bf6c2210dc1544aebcb6c1f9d2a6ef22",
       "version_major": 2,
       "version_minor": 1
      },
      "text/plain": [
       "dplot(dataset=[{'x': -10.53549603766011, 'y': -1.8629896720824943, 'cluster': 'A', 's0': 1, 's1': 1}, {'x': 29…"
      ]
     },
     "execution_count": 4,
     "metadata": {},
     "output_type": "execute_result"
    }
   ],
   "source": [
    "from distortions.visualization import dplot\n",
    "\n",
    "plots = {}\n",
    "plots[\"two_clusters\"] = dplot(data_df, width=450, height=350, labelFontSize=14)\\\n",
    "    .mapping(x=\"x\", y=\"y\", color=\"cluster\")\\\n",
    "    .scale_color(scheme=[\"turquoise\", \"orange\"])\\\n",
    "    .geom_ellipse(radiusMax=6, radiusMin=1)\\\n",
    "    .labs(x = \"Original 1\", y = \"Original 2\")\n",
    "plots[\"two_clusters\"]"
   ]
  },
  {
   "cell_type": "markdown",
   "id": "ce2ea268",
   "metadata": {},
   "source": [
    "![](https://raw.githubusercontent.com/krisrs1128/distortions-data/main/figures/two_clusters.png)"
   ]
  },
  {
   "cell_type": "markdown",
   "id": "f41ea437",
   "metadata": {},
   "source": [
    " Below, we've applied UMAP with fifty neighbors and all other parameters are set to their scanpy defaults. "
   ]
  },
  {
   "cell_type": "code",
   "execution_count": 5,
   "id": "0efd2ded",
   "metadata": {},
   "outputs": [],
   "source": [
    "from anndata import AnnData\n",
    "import scanpy as sc\n",
    "\n",
    "adata = AnnData(X=data, obs=pd.DataFrame(range(2 * M)))\n",
    "sc.pp.neighbors(adata, n_neighbors=n_neighbors)\n",
    "sc.tl.umap(adata)\n",
    "embedding = adata.obsm[\"X_umap\"].copy()"
   ]
  },
  {
   "cell_type": "markdown",
   "id": "aa6eac72",
   "metadata": {},
   "source": [
    "We can visualize the embedding using distortions in the same way that we\n",
    "visualize the raw data. Despite having very different variances/densities, the\n",
    "clusters have been laid out to view of comparable size. The extent to which this\n",
    "fails is quite remarkable, but it's also very well-documented that nonlinear\n",
    "dimensionality reduction methods cannot be trusted to preserve density across\n",
    "clusters [[1](https://pair-code.github.io/understanding-umap/), [2](https://doi.org/10.1038/s41587-020-00801-7)]. "
   ]
  },
  {
   "cell_type": "code",
   "execution_count": 6,
   "id": "fa35e227",
   "metadata": {},
   "outputs": [
    {
     "data": {
      "application/vnd.jupyter.widget-view+json": {
       "model_id": "49c50458ec604dfc8f77c38db23d3cfe",
       "version_major": 2,
       "version_minor": 1
      },
      "text/plain": [
       "dplot(dataset=[{'x': -7.3624162673950195, 'y': 5.324365139007568, 's0': 1, 's1': 1, 'cluster': 'A'}, {'x': 6.1…"
      ]
     },
     "execution_count": 6,
     "metadata": {},
     "output_type": "execute_result"
    }
   ],
   "source": [
    "embedding_df = pd.DataFrame(embedding, columns=[\"x\", \"y\"])\n",
    "embedding_df[\"s0\"] = 1\n",
    "embedding_df[\"s1\"] = 1\n",
    "embedding_df[\"cluster\"] = data_df[\"cluster\"]\n",
    "\n",
    "plots[\"plain_embedding\"] = dplot(embedding_df, width=450, height=350, labelFontSize=14)\\\n",
    "    .mapping(x=\"x\", y=\"y\", color=\"cluster\")\\\n",
    "    .scale_color(scheme=[\"turquoise\", \"orange\"])\\\n",
    "    .geom_ellipse(radiusMax=6, radiusMin=1)\\\n",
    "    .labs(x = \"Original 1\", y = \"Original 2\")\n",
    "plots[\"plain_embedding\"]"
   ]
  },
  {
   "cell_type": "markdown",
   "id": "d0d605c3",
   "metadata": {},
   "source": [
    "![](https://raw.githubusercontent.com/krisrs1128/distortions-data/main/figures/two_clusters_embedding.png)"
   ]
  },
  {
   "cell_type": "markdown",
   "id": "9311ed24",
   "metadata": {},
   "source": [
    "## Distortion Estimation"
   ]
  },
  {
   "cell_type": "markdown",
   "id": "54365eab",
   "metadata": {},
   "source": [
    "Next we estimate local distortions. These are estimates of how the embedding warps geometry locally. The resulting ellipses are the images of unit circles (with respect to the original space's distances) after having been transformed by the embedding. We've slightly post processed the estimated metrics to avoid some outlying values that would otherwise dominate the plot (or at least make the interactions less smooth). The function `bind_metric` puts these estimated distortion metrics (an array of length `N` samples) into the original embedding `DataFrame` we computed above."
   ]
  },
  {
   "cell_type": "code",
   "execution_count": 7,
   "id": "4029225a",
   "metadata": {},
   "outputs": [],
   "source": [
    "from distortions.geometry import Geometry, bind_metric, local_distortions\n",
    "\n",
    "radius = np.mean(adata.obsp[\"distances\"].data)\n",
    "geom = Geometry(\"brute\", laplacian_method=\"geometric\", affinity_kwds={\"radius\": radius}, adjacency_kwds={\"n_neighbors\": n_neighbors}, laplacian_kwds={\"scaling_epps\": 1})\n",
    "H, Hvv, Hs = local_distortions(embedding, data, geom)\n",
    "\n",
    "# postprocessing\n",
    "Hs[Hs > 5] = 5\n",
    "Hs /= Hs.mean()\n",
    "for i in range(len(H)):\n",
    "    H[i] = Hvv[i] @ np.diag(Hs[i]) @ Hvv[i].T\n",
    "\n",
    "embedding = bind_metric(embedding, Hvv, Hs)\n",
    "embedding[\"cluster\"] = data_df[\"cluster\"]"
   ]
  },
  {
   "cell_type": "markdown",
   "id": "baa256d5",
   "metadata": {},
   "source": [
    "Below we plot the singular values associated with each of these local metrics. The closer these are to the point, the less the embedding method distorts the original distances (because the point one, one corresponds to the identity). Notice that the first singular value is always larger than the second singular value, which is why all points lie below the dashed line. \n",
    "\n",
    "Surprisingly, we can see that the metrics very clearly distinguish between the two clusters, even though this information was not passed in the distortion estimation procedure. The singular values for cluster a tend to be smaller than those for this corresponds to the fact that those distances have been compressed. This is exactly consistent with the visualization from above. The UMAP seems to have made the two clusters appear of comparable size even though we know that the Cluster A has larger variance. The only way this can be achieved is by compressing the distances in this region of the plot."
   ]
  },
  {
   "cell_type": "code",
   "execution_count": 8,
   "id": "6bf349ed",
   "metadata": {},
   "outputs": [
    {
     "data": {
      "text/html": [
       "\n",
       "<style>\n",
       "  #altair-viz-98d36363fe3547da8f1e2db009d3ffa7.vega-embed {\n",
       "    width: 100%;\n",
       "    display: flex;\n",
       "  }\n",
       "\n",
       "  #altair-viz-98d36363fe3547da8f1e2db009d3ffa7.vega-embed details,\n",
       "  #altair-viz-98d36363fe3547da8f1e2db009d3ffa7.vega-embed details summary {\n",
       "    position: relative;\n",
       "  }\n",
       "</style>\n",
       "<div id=\"altair-viz-98d36363fe3547da8f1e2db009d3ffa7\"></div>\n",
       "<script type=\"text/javascript\">\n",
       "  var VEGA_DEBUG = (typeof VEGA_DEBUG == \"undefined\") ? {} : VEGA_DEBUG;\n",
       "  (function(spec, embedOpt){\n",
       "    let outputDiv = document.currentScript.previousElementSibling;\n",
       "    if (outputDiv.id !== \"altair-viz-98d36363fe3547da8f1e2db009d3ffa7\") {\n",
       "      outputDiv = document.getElementById(\"altair-viz-98d36363fe3547da8f1e2db009d3ffa7\");\n",
       "    }\n",
       "\n",
       "    const paths = {\n",
       "      \"vega\": \"https://cdn.jsdelivr.net/npm/vega@5?noext\",\n",
       "      \"vega-lib\": \"https://cdn.jsdelivr.net/npm/vega-lib?noext\",\n",
       "      \"vega-lite\": \"https://cdn.jsdelivr.net/npm/vega-lite@5.20.1?noext\",\n",
       "      \"vega-embed\": \"https://cdn.jsdelivr.net/npm/vega-embed@6?noext\",\n",
       "    };\n",
       "\n",
       "    function maybeLoadScript(lib, version) {\n",
       "      var key = `${lib.replace(\"-\", \"\")}_version`;\n",
       "      return (VEGA_DEBUG[key] == version) ?\n",
       "        Promise.resolve(paths[lib]) :\n",
       "        new Promise(function(resolve, reject) {\n",
       "          var s = document.createElement('script');\n",
       "          document.getElementsByTagName(\"head\")[0].appendChild(s);\n",
       "          s.async = true;\n",
       "          s.onload = () => {\n",
       "            VEGA_DEBUG[key] = version;\n",
       "            return resolve(paths[lib]);\n",
       "          };\n",
       "          s.onerror = () => reject(`Error loading script: ${paths[lib]}`);\n",
       "          s.src = paths[lib];\n",
       "        });\n",
       "    }\n",
       "\n",
       "    function showError(err) {\n",
       "      outputDiv.innerHTML = `<div class=\"error\" style=\"color:red;\">${err}</div>`;\n",
       "      throw err;\n",
       "    }\n",
       "\n",
       "    function displayChart(vegaEmbed) {\n",
       "      vegaEmbed(outputDiv, spec, embedOpt)\n",
       "        .catch(err => showError(`Javascript Error: ${err.message}<br>This usually means there's a typo in your chart specification. See the javascript console for the full traceback.`));\n",
       "    }\n",
       "\n",
       "    if(typeof define === \"function\" && define.amd) {\n",
       "      requirejs.config({paths});\n",
       "      let deps = [\"vega-embed\"];\n",
       "      require(deps, displayChart, err => showError(`Error loading script: ${err.message}`));\n",
       "    } else {\n",
       "      maybeLoadScript(\"vega\", \"5\")\n",
       "        .then(() => maybeLoadScript(\"vega-lite\", \"5.20.1\"))\n",
       "        .then(() => maybeLoadScript(\"vega-embed\", \"6\"))\n",
       "        .catch(showError)\n",
       "        .then(() => displayChart(vegaEmbed));\n",
       "    }\n",
       "  })({\"config\": {\"view\": {\"continuousWidth\": 300, \"continuousHeight\": 300}, \"axis\": {\"labelFontSize\": 12, \"titleFontSize\": 22}, \"range\": {\"category\": [\"#40e0d0\", \"#ff9d06\"]}}, \"layer\": [{\"data\": {\"name\": \"data-2950a076d801e272f94eb3bc77eaacb7\"}, \"mark\": {\"type\": \"line\", \"color\": \"#9d9d9d\", \"opacity\": 0.7, \"strokeDash\": [5, 5]}, \"encoding\": {\"x\": {\"field\": \"s0\", \"scale\": {\"domain\": [3.7415110649884147e-13, 6.396380713112858]}, \"type\": \"quantitative\"}, \"y\": {\"field\": \"s1\", \"scale\": {\"domain\": [6.342928691251219e-15, 2.0255751318569923]}, \"type\": \"quantitative\"}}}, {\"data\": {\"name\": \"data-27bc7750241f330de1132c365a94e374\"}, \"mark\": {\"type\": \"circle\"}, \"encoding\": {\"color\": {\"field\": \"cluster\", \"type\": \"nominal\"}, \"x\": {\"axis\": {\"title\": \"\\u03bb\\u2081\"}, \"field\": \"s0\", \"scale\": {\"domain\": [3.7415110649884147e-13, 6.396380713112858]}, \"type\": \"quantitative\"}, \"y\": {\"axis\": {\"title\": \"\\u03bb\\u2082\"}, \"field\": \"s1\", \"scale\": {\"domain\": [6.342928691251219e-15, 2.0255751318569923]}, \"type\": \"quantitative\"}}}, {\"data\": {\"name\": \"data-24d1c67a8fbe6f5f6dcb6c177fdf0d78\"}, \"mark\": {\"type\": \"circle\", \"color\": \"#0c0c0c\", \"size\": 100}, \"encoding\": {\"x\": {\"field\": \"s0\", \"scale\": {\"domain\": [3.7415110649884147e-13, 6.396380713112858]}, \"type\": \"quantitative\"}, \"y\": {\"field\": \"s1\", \"scale\": {\"domain\": [6.342928691251219e-15, 2.0255751318569923]}, \"type\": \"quantitative\"}}}], \"$schema\": \"https://vega.github.io/schema/vega-lite/v5.20.1.json\", \"datasets\": {\"data-2950a076d801e272f94eb3bc77eaacb7\": [{\"s0\": 3.7415110649884147e-13, \"s1\": 3.7415110649884147e-13}, {\"s0\": 2.0255751318569923, \"s1\": 2.0255751318569923}], \"data-27bc7750241f330de1132c365a94e374\": [{\"s0\": 0.6265368428491124, \"s1\": 0.3468158483430049, \"cluster\": \"A\"}, {\"s0\": 1.7355501660391248, \"s1\": 1.1243352161493838, \"cluster\": \"B\"}, {\"s0\": 0.7302586530544651, \"s1\": 0.4601285703907718, \"cluster\": \"A\"}, {\"s0\": 1.6000437255800917, \"s1\": 1.1165625996676511, \"cluster\": \"B\"}, {\"s0\": 0.6176101082663836, \"s1\": 0.4086249958474346, \"cluster\": \"A\"}, {\"s0\": 2.6167028266543753, \"s1\": 0.7481710257012675, \"cluster\": \"B\"}, {\"s0\": 0.20456961089501352, \"s1\": 0.05116541851495749, \"cluster\": \"A\"}, {\"s0\": 2.368230200252039, \"s1\": 0.6695709158835931, \"cluster\": \"B\"}, {\"s0\": 0.46846129559275285, \"s1\": 0.07613241854244504, \"cluster\": \"A\"}, {\"s0\": 2.83196228786217, \"s1\": 0.7925608538210603, \"cluster\": \"B\"}, {\"s0\": 0.5187161906515616, \"s1\": 0.04047908531734696, \"cluster\": \"A\"}, {\"s0\": 2.5269639370920216, \"s1\": 0.666068295793291, \"cluster\": \"B\"}, {\"s0\": 0.055261021320028574, \"s1\": 0.00852750111509997, \"cluster\": \"A\"}, {\"s0\": 3.780706823090287, \"s1\": 0.5644285216772561, \"cluster\": \"B\"}, {\"s0\": 0.340048651475633, \"s1\": 0.1021633934369552, \"cluster\": \"A\"}, {\"s0\": 1.3560164689532739, \"s1\": 1.0957647460625775, \"cluster\": \"B\"}, {\"s0\": 0.7850053276142229, \"s1\": 0.5466390202455371, \"cluster\": \"A\"}, {\"s0\": 1.8316767788667687, \"s1\": 0.9493534898835799, \"cluster\": \"B\"}, {\"s0\": 0.6348325541732087, \"s1\": 0.49654623594240344, \"cluster\": \"A\"}, {\"s0\": 3.5628208098776226, \"s1\": 0.6814809419744351, \"cluster\": \"B\"}, {\"s0\": 0.6754963016839873, \"s1\": 0.41711717182786384, \"cluster\": \"A\"}, {\"s0\": 2.3961475803629546, \"s1\": 0.8090002298281032, \"cluster\": \"B\"}, {\"s0\": 0.6956448298762681, \"s1\": 0.4130887054992682, \"cluster\": \"A\"}, {\"s0\": 1.8001514446379763, \"s1\": 1.0480397140849904, \"cluster\": \"B\"}, {\"s0\": 0.7519950728084767, \"s1\": 0.5771322892134021, \"cluster\": \"A\"}, {\"s0\": 2.0197587806423662, \"s1\": 0.7533732035587571, \"cluster\": \"B\"}, {\"s0\": 0.8091238655632195, \"s1\": 0.2989915330617749, \"cluster\": \"A\"}, {\"s0\": 2.9418305534725073, \"s1\": 0.6222163514310708, \"cluster\": \"B\"}, {\"s0\": 0.7956120147659277, \"s1\": 0.6194325827095521, \"cluster\": \"A\"}, {\"s0\": 3.629141273781603, \"s1\": 0.43958439482709283, \"cluster\": \"B\"}, {\"s0\": 0.7375645523558403, \"s1\": 0.4371478657701139, \"cluster\": \"A\"}, {\"s0\": 4.61106385902734, \"s1\": 0.39775665706512764, \"cluster\": \"B\"}, {\"s0\": 0.31912944792969034, \"s1\": 0.016160794319432407, \"cluster\": \"A\"}, {\"s0\": 1.7529454951105266, \"s1\": 1.081242318796907, \"cluster\": \"B\"}, {\"s0\": 0.6615817654007167, \"s1\": 0.23585910394805815, \"cluster\": \"A\"}, {\"s0\": 2.003749341528403, \"s1\": 0.862256495701534, \"cluster\": \"B\"}, {\"s0\": 0.5955653477289984, \"s1\": 0.2531563798090654, \"cluster\": \"A\"}, {\"s0\": 1.9301982736880783, \"s1\": 0.5978937033532491, \"cluster\": \"B\"}, {\"s0\": 0.655740747054243, \"s1\": 0.2778541203503989, \"cluster\": \"A\"}, {\"s0\": 4.0714887526039085, \"s1\": 0.4915061593569417, \"cluster\": \"B\"}, {\"s0\": 0.22165673308476883, \"s1\": 0.009478654760572061, \"cluster\": \"A\"}, {\"s0\": 1.6528783429125067, \"s1\": 1.127303210108913, \"cluster\": \"B\"}, {\"s0\": 0.26396901678540163, \"s1\": 0.07169955915021867, \"cluster\": \"A\"}, {\"s0\": 1.7428301529051282, \"s1\": 1.2526837896348204, \"cluster\": \"B\"}, {\"s0\": 0.562681412627766, \"s1\": 0.41117568896578294, \"cluster\": \"A\"}, {\"s0\": 1.5122101644265562, \"s1\": 1.193981895722859, \"cluster\": \"B\"}, {\"s0\": 0.6024647800901777, \"s1\": 0.4510118908995517, \"cluster\": \"A\"}, {\"s0\": 2.2421901142052207, \"s1\": 0.5405681741417072, \"cluster\": \"B\"}, {\"s0\": 0.721054640747788, \"s1\": 0.6555489231179075, \"cluster\": \"A\"}, {\"s0\": 1.4254072307669874, \"s1\": 1.0330231478274108, \"cluster\": \"B\"}, {\"s0\": 0.6360797384721069, \"s1\": 0.20245099341684933, \"cluster\": \"A\"}, {\"s0\": 1.5568969415202951, \"s1\": 1.1154041730062842, \"cluster\": \"B\"}, {\"s0\": 0.45019368747912597, \"s1\": 0.26151881497756785, \"cluster\": \"A\"}, {\"s0\": 2.227780248017685, \"s1\": 0.4566840027319204, \"cluster\": \"B\"}, {\"s0\": 0.7178862417147446, \"s1\": 0.61378889600818, \"cluster\": \"A\"}, {\"s0\": 2.7211206298318356, \"s1\": 0.45380234719543106, \"cluster\": \"B\"}, {\"s0\": 0.3888426314700207, \"s1\": 0.2754865124180561, \"cluster\": \"A\"}, {\"s0\": 1.9262892994613412, \"s1\": 0.6487362597625617, \"cluster\": \"B\"}, {\"s0\": 0.7219348978352391, \"s1\": 0.5732255049755778, \"cluster\": \"A\"}, {\"s0\": 1.466473282959892, \"s1\": 1.1926707546844302, \"cluster\": \"B\"}, {\"s0\": 0.6213383488358226, \"s1\": 0.38490285867687213, \"cluster\": \"A\"}, {\"s0\": 2.123052309051628, \"s1\": 1.2666076423847383, \"cluster\": \"B\"}, {\"s0\": 0.6014092484363166, \"s1\": 0.3110888123234588, \"cluster\": \"A\"}, {\"s0\": 2.4814640552735217, \"s1\": 0.6825281332350261, \"cluster\": \"B\"}, {\"s0\": 0.3885843238096258, \"s1\": 0.12500136007878773, \"cluster\": \"A\"}, {\"s0\": 1.3494107396250503, \"s1\": 0.9692808506268022, \"cluster\": \"B\"}, {\"s0\": 0.4977986837626075, \"s1\": 0.2498170743335573, \"cluster\": \"A\"}, {\"s0\": 1.2704445994304052, \"s1\": 1.0353465873889096, \"cluster\": \"B\"}, {\"s0\": 0.8025611559019588, \"s1\": 0.5145794454146378, \"cluster\": \"A\"}, {\"s0\": 2.1815947407716743, \"s1\": 0.7348827770372153, \"cluster\": \"B\"}, {\"s0\": 0.12351669454865288, \"s1\": 0.00590237458953919, \"cluster\": \"A\"}, {\"s0\": 3.1262734846134563, \"s1\": 0.880535576437278, \"cluster\": \"B\"}, {\"s0\": 0.5593955411310569, \"s1\": 0.02942362554335017, \"cluster\": \"A\"}, {\"s0\": 1.6722374544179317, \"s1\": 1.0417776097207845, \"cluster\": \"B\"}, {\"s0\": 0.32037085629926126, \"s1\": 0.10427987336122604, \"cluster\": \"A\"}, {\"s0\": 1.6727503865354605, \"s1\": 1.2444975167539838, \"cluster\": \"B\"}, {\"s0\": 0.5408995021073764, \"s1\": 0.41401398755030555, \"cluster\": \"A\"}, {\"s0\": 2.432827155636396, \"s1\": 0.8165659998975896, \"cluster\": \"B\"}, {\"s0\": 0.8751993099369615, \"s1\": 0.6628136748533119, \"cluster\": \"A\"}, {\"s0\": 2.5173151657893595, \"s1\": 0.6089865566440454, \"cluster\": \"B\"}, {\"s0\": 0.19654521113047163, \"s1\": 0.018092758878985333, \"cluster\": \"A\"}, {\"s0\": 1.4736711705164607, \"s1\": 1.1774094467286667, \"cluster\": \"B\"}, {\"s0\": 0.5559688328466065, \"s1\": 0.22996130465216547, \"cluster\": \"A\"}, {\"s0\": 1.7633703938823033, \"s1\": 1.1314889764555311, \"cluster\": \"B\"}, {\"s0\": 0.5286545870927812, \"s1\": 0.18386857325147926, \"cluster\": \"A\"}, {\"s0\": 1.9970125360204294, \"s1\": 0.6249528719364731, \"cluster\": \"B\"}, {\"s0\": 0.48712274445807585, \"s1\": 0.18787950967671124, \"cluster\": \"A\"}, {\"s0\": 3.519079150884471, \"s1\": 0.4144215897796421, \"cluster\": \"B\"}, {\"s0\": 0.6458223128104613, \"s1\": 0.5080058618255942, \"cluster\": \"A\"}, {\"s0\": 1.3947789450511796, \"s1\": 0.8688234633631332, \"cluster\": \"B\"}, {\"s0\": 0.5553414059785421, \"s1\": 0.05489329995531316, \"cluster\": \"A\"}, {\"s0\": 1.5149350165954067, \"s1\": 1.2476105135230064, \"cluster\": \"B\"}, {\"s0\": 0.2314105803926466, \"s1\": 0.037600844475199284, \"cluster\": \"A\"}, {\"s0\": 1.6376584729643298, \"s1\": 0.9992466928151252, \"cluster\": \"B\"}, {\"s0\": 0.6255891989098283, \"s1\": 0.3393989578159315, \"cluster\": \"A\"}, {\"s0\": 1.6177236024607955, \"s1\": 1.0105084658535344, \"cluster\": \"B\"}, {\"s0\": 0.5733150274623207, \"s1\": 0.1584863338525067, \"cluster\": \"A\"}, {\"s0\": 2.02655083700214, \"s1\": 0.7265974644347281, \"cluster\": \"B\"}, {\"s0\": 0.894466871344316, \"s1\": 0.11213431563394974, \"cluster\": \"A\"}, {\"s0\": 1.5033835073158692, \"s1\": 1.2412385499022447, \"cluster\": \"B\"}, {\"s0\": 0.747982607156311, \"s1\": 0.38951812594795965, \"cluster\": \"A\"}, {\"s0\": 1.4792482598050714, \"s1\": 1.1487710150692363, \"cluster\": \"B\"}, {\"s0\": 6.396380713112858, \"s1\": 0.03405491439677662, \"cluster\": \"A\"}, {\"s0\": 2.9152215459801325, \"s1\": 0.480824887630561, \"cluster\": \"B\"}, {\"s0\": 0.4013665614842239, \"s1\": 0.28577627530080224, \"cluster\": \"A\"}, {\"s0\": 2.2114441226777384, \"s1\": 1.3450190106815365, \"cluster\": \"B\"}, {\"s0\": 0.14936978320831582, \"s1\": 0.010690687836951467, \"cluster\": \"A\"}, {\"s0\": 2.0935040083411165, \"s1\": 0.6535672317003387, \"cluster\": \"B\"}, {\"s0\": 0.4832272984299637, \"s1\": 0.3526930348569254, \"cluster\": \"A\"}, {\"s0\": 1.7728586511670772, \"s1\": 1.2848107206327148, \"cluster\": \"B\"}, {\"s0\": 0.43315502486373, \"s1\": 0.1493964700270493, \"cluster\": \"A\"}, {\"s0\": 2.159193775661424, \"s1\": 0.9720209959159501, \"cluster\": \"B\"}, {\"s0\": 0.0016151557456540232, \"s1\": 5.9033107317034886e-05, \"cluster\": \"A\"}, {\"s0\": 2.526357059385837, \"s1\": 0.8019736677089219, \"cluster\": \"B\"}, {\"s0\": 0.7116026432067578, \"s1\": 0.4963948586878465, \"cluster\": \"A\"}, {\"s0\": 1.4632249394360362, \"s1\": 1.255769956490009, \"cluster\": \"B\"}, {\"s0\": 0.6568316159485259, \"s1\": 0.28906165412302415, \"cluster\": \"A\"}, {\"s0\": 2.299875013581372, \"s1\": 0.581506168040144, \"cluster\": \"B\"}, {\"s0\": 0.17068467233564863, \"s1\": 0.0035828878780812625, \"cluster\": \"A\"}, {\"s0\": 1.1849424129799895, \"s1\": 1.110841355015441, \"cluster\": \"B\"}, {\"s0\": 0.7413193893726938, \"s1\": 0.6473722726110148, \"cluster\": \"A\"}, {\"s0\": 1.2012471612185986, \"s1\": 1.001685900656422, \"cluster\": \"B\"}, {\"s0\": 0.47440153542933533, \"s1\": 0.22911633411618207, \"cluster\": \"A\"}, {\"s0\": 3.1435131984690714, \"s1\": 0.6928625539450071, \"cluster\": \"B\"}, {\"s0\": 0.689674093643367, \"s1\": 0.37096229045430884, \"cluster\": \"A\"}, {\"s0\": 3.2956953550522408, \"s1\": 0.46358646300778433, \"cluster\": \"B\"}, {\"s0\": 0.72953257403513, \"s1\": 0.20929403273970762, \"cluster\": \"A\"}, {\"s0\": 2.552978960883465, \"s1\": 0.7445433714930999, \"cluster\": \"B\"}, {\"s0\": 0.6997536800081896, \"s1\": 0.36011112671112533, \"cluster\": \"A\"}, {\"s0\": 1.1836021750293346, \"s1\": 1.0033203334183223, \"cluster\": \"B\"}, {\"s0\": 0.7553415269861969, \"s1\": 0.1276206603539643, \"cluster\": \"A\"}, {\"s0\": 2.7685302312837505, \"s1\": 0.8589759206745824, \"cluster\": \"B\"}, {\"s0\": 0.5472290320980874, \"s1\": 0.2888374273410095, \"cluster\": \"A\"}, {\"s0\": 3.2091002934182806, \"s1\": 0.7438462933345599, \"cluster\": \"B\"}, {\"s0\": 0.5986454387712932, \"s1\": 0.582550662547614, \"cluster\": \"A\"}, {\"s0\": 1.812611012517877, \"s1\": 0.7135688730643113, \"cluster\": \"B\"}, {\"s0\": 0.059861533293782604, \"s1\": 0.0005428198223400594, \"cluster\": \"A\"}, {\"s0\": 2.439248827036293, \"s1\": 0.9238788357262395, \"cluster\": \"B\"}, {\"s0\": 0.3517210127025114, \"s1\": 0.23019778010108807, \"cluster\": \"A\"}, {\"s0\": 1.2965951071607411, \"s1\": 1.0484819718594112, \"cluster\": \"B\"}, {\"s0\": 0.6269648699014001, \"s1\": 0.5675566415434279, \"cluster\": \"A\"}, {\"s0\": 1.3313768853954329, \"s1\": 1.2284478481374337, \"cluster\": \"B\"}, {\"s0\": 0.7401813376267926, \"s1\": 0.44043757924634674, \"cluster\": \"A\"}, {\"s0\": 2.88966588043255, \"s1\": 0.6928023532404619, \"cluster\": \"B\"}, {\"s0\": 0.5569838208012711, \"s1\": 0.39589874092547983, \"cluster\": \"A\"}, {\"s0\": 2.417821409518695, \"s1\": 0.6235290604954559, \"cluster\": \"B\"}, {\"s0\": 0.4941219089235094, \"s1\": 0.2371361253746972, \"cluster\": \"A\"}, {\"s0\": 1.5757719722861305, \"s1\": 1.235090472172656, \"cluster\": \"B\"}, {\"s0\": 0.7183337540311533, \"s1\": 0.29511926137227945, \"cluster\": \"A\"}, {\"s0\": 1.5325849015689763, \"s1\": 1.151272952037062, \"cluster\": \"B\"}, {\"s0\": 0.11080011077789136, \"s1\": 0.015114183108723332, \"cluster\": \"A\"}, {\"s0\": 1.714798373923367, \"s1\": 0.8129451781929578, \"cluster\": \"B\"}, {\"s0\": 0.9087149174801825, \"s1\": 0.7524423110774574, \"cluster\": \"A\"}, {\"s0\": 3.66911858415239, \"s1\": 0.47718739590490866, \"cluster\": \"B\"}, {\"s0\": 0.29572898924380014, \"s1\": 0.09316645333523144, \"cluster\": \"A\"}, {\"s0\": 1.3800696370630652, \"s1\": 1.2040939197447147, \"cluster\": \"B\"}, {\"s0\": 0.6709262506013167, \"s1\": 0.6074343824483023, \"cluster\": \"A\"}, {\"s0\": 1.4792635832865844, \"s1\": 1.0494707904679552, \"cluster\": \"B\"}, {\"s0\": 0.6482878056406167, \"s1\": 0.24662809173112457, \"cluster\": \"A\"}, {\"s0\": 1.722940672075616, \"s1\": 1.1365737445453, \"cluster\": \"B\"}, {\"s0\": 0.6271414366613262, \"s1\": 0.5590626113471431, \"cluster\": \"A\"}, {\"s0\": 1.8820598460147977, \"s1\": 1.0957085313638215, \"cluster\": \"B\"}, {\"s0\": 0.45314069990927436, \"s1\": 0.17884750289701437, \"cluster\": \"A\"}, {\"s0\": 3.4002536083966386, \"s1\": 0.5359829204556233, \"cluster\": \"B\"}, {\"s0\": 0.798393315543534, \"s1\": 0.6072075259555871, \"cluster\": \"A\"}, {\"s0\": 1.6646537491663473, \"s1\": 0.788566386582267, \"cluster\": \"B\"}, {\"s0\": 0.7674206367131039, \"s1\": 0.6022281107764281, \"cluster\": \"A\"}, {\"s0\": 1.2260044280709217, \"s1\": 1.1247206602720057, \"cluster\": \"B\"}, {\"s0\": 0.7620433303182015, \"s1\": 0.7113790726543293, \"cluster\": \"A\"}, {\"s0\": 1.6334974527756727, \"s1\": 1.2122188750245753, \"cluster\": \"B\"}, {\"s0\": 0.8051946359603304, \"s1\": 0.4916183673377785, \"cluster\": \"A\"}, {\"s0\": 1.962215610764821, \"s1\": 0.776793760129691, \"cluster\": \"B\"}, {\"s0\": 0.6242992682642485, \"s1\": 0.4740999622040818, \"cluster\": \"A\"}, {\"s0\": 2.21049135435776, \"s1\": 0.6738504781842446, \"cluster\": \"B\"}, {\"s0\": 0.6126085628221292, \"s1\": 0.30337134018798634, \"cluster\": \"A\"}, {\"s0\": 2.574821805913021, \"s1\": 0.554841628926421, \"cluster\": \"B\"}, {\"s0\": 0.7825651061352403, \"s1\": 0.5163892321458746, \"cluster\": \"A\"}, {\"s0\": 1.6439112466719699, \"s1\": 1.035009117093539, \"cluster\": \"B\"}, {\"s0\": 0.6851927229836292, \"s1\": 0.34360787124485453, \"cluster\": \"A\"}, {\"s0\": 3.1619451501647773, \"s1\": 0.48441702745757736, \"cluster\": \"B\"}, {\"s0\": 0.5577139542818501, \"s1\": 0.4651139758087743, \"cluster\": \"A\"}, {\"s0\": 1.6258930185460896, \"s1\": 0.9924489289777295, \"cluster\": \"B\"}, {\"s0\": 0.026759692749801556, \"s1\": 0.0024976619159523096, \"cluster\": \"A\"}, {\"s0\": 1.7496644839961597, \"s1\": 1.1053727935165794, \"cluster\": \"B\"}, {\"s0\": 0.5237520579342652, \"s1\": 0.2646348338652095, \"cluster\": \"A\"}, {\"s0\": 1.6659669107169899, \"s1\": 1.2401921320763, \"cluster\": \"B\"}, {\"s0\": 0.7491354815703724, \"s1\": 0.561581859080467, \"cluster\": \"A\"}, {\"s0\": 2.1015238524280404, \"s1\": 0.6716879114372023, \"cluster\": \"B\"}, {\"s0\": 0.5550898630729345, \"s1\": 0.33262735860779197, \"cluster\": \"A\"}, {\"s0\": 1.4593335587135525, \"s1\": 1.3210632837739293, \"cluster\": \"B\"}, {\"s0\": 0.25116877103947655, \"s1\": 0.017128759220978056, \"cluster\": \"A\"}, {\"s0\": 1.661933577328477, \"s1\": 0.9677172290260512, \"cluster\": \"B\"}, {\"s0\": 0.35983393253803425, \"s1\": 0.21110275612637994, \"cluster\": \"A\"}, {\"s0\": 3.5369039639461013, \"s1\": 0.7530785747666033, \"cluster\": \"B\"}, {\"s0\": 0.8293381136867737, \"s1\": 0.5083509265878674, \"cluster\": \"A\"}, {\"s0\": 1.652410352590721, \"s1\": 1.2618115971085142, \"cluster\": \"B\"}, {\"s0\": 0.5746374630318055, \"s1\": 0.40181255998033333, \"cluster\": \"A\"}, {\"s0\": 3.0427032657083872, \"s1\": 0.46714731707760815, \"cluster\": \"B\"}, {\"s0\": 0.8092017629174052, \"s1\": 0.2083631730533833, \"cluster\": \"A\"}, {\"s0\": 2.731225126753733, \"s1\": 0.4658438075560577, \"cluster\": \"B\"}, {\"s0\": 0.6560241412349825, \"s1\": 0.6132828014833251, \"cluster\": \"A\"}, {\"s0\": 2.519994625698651, \"s1\": 0.6933712877500439, \"cluster\": \"B\"}, {\"s0\": 0.8459978999019386, \"s1\": 0.42474807196302333, \"cluster\": \"A\"}, {\"s0\": 2.1472206475005833, \"s1\": 0.7054533189456405, \"cluster\": \"B\"}, {\"s0\": 0.1990502893551326, \"s1\": 0.058273466426543456, \"cluster\": \"A\"}, {\"s0\": 1.5777041316105724, \"s1\": 1.2552804659002663, \"cluster\": \"B\"}, {\"s0\": 0.7393849409317926, \"s1\": 0.37425897543878633, \"cluster\": \"A\"}, {\"s0\": 1.859012776486804, \"s1\": 1.2012194700855163, \"cluster\": \"B\"}, {\"s0\": 0.7154289126876318, \"s1\": 0.593528508951204, \"cluster\": \"A\"}, {\"s0\": 2.061898241844702, \"s1\": 1.1541201171469588, \"cluster\": \"B\"}, {\"s0\": 0.44055419331978285, \"s1\": 0.21099795371672678, \"cluster\": \"A\"}, {\"s0\": 2.9734213723737977, \"s1\": 0.6562555301642388, \"cluster\": \"B\"}, {\"s0\": 0.295559865352097, \"s1\": 0.025026137245597744, \"cluster\": \"A\"}, {\"s0\": 2.8106034569373413, \"s1\": 0.5504612473157261, \"cluster\": \"B\"}, {\"s0\": 0.13623240401881873, \"s1\": 0.03291336915337742, \"cluster\": \"A\"}, {\"s0\": 1.7308683182353928, \"s1\": 1.238250167682514, \"cluster\": \"B\"}, {\"s0\": 0.7108819960858611, \"s1\": 0.4567908375611562, \"cluster\": \"A\"}, {\"s0\": 4.430585198096749, \"s1\": 0.6039558044432471, \"cluster\": \"B\"}, {\"s0\": 0.7467854808921458, \"s1\": 0.5575380595643125, \"cluster\": \"A\"}, {\"s0\": 1.7784135095341131, \"s1\": 1.0280710743081598, \"cluster\": \"B\"}, {\"s0\": 0.727700037744153, \"s1\": 0.5813763568442172, \"cluster\": \"A\"}, {\"s0\": 2.116156178645666, \"s1\": 0.9452201941680611, \"cluster\": \"B\"}, {\"s0\": 0.7745919490847002, \"s1\": 0.7065845723062736, \"cluster\": \"A\"}, {\"s0\": 2.615975053192567, \"s1\": 0.6752540852668737, \"cluster\": \"B\"}, {\"s0\": 0.8983002060039456, \"s1\": 0.546476028586249, \"cluster\": \"A\"}, {\"s0\": 1.4953575165421353, \"s1\": 1.3083720558816723, \"cluster\": \"B\"}, {\"s0\": 0.44500526501038107, \"s1\": 0.2258581324612479, \"cluster\": \"A\"}, {\"s0\": 1.9350173760272111, \"s1\": 0.6942073537710136, \"cluster\": \"B\"}, {\"s0\": 0.3950969495927293, \"s1\": 0.08544551205194825, \"cluster\": \"A\"}, {\"s0\": 1.1884867241207442, \"s1\": 0.8890581020792878, \"cluster\": \"B\"}, {\"s0\": 0.7024774556786932, \"s1\": 0.5170222558406308, \"cluster\": \"A\"}, {\"s0\": 1.9791257300079432, \"s1\": 0.8818231823236657, \"cluster\": \"B\"}, {\"s0\": 0.7508703902789848, \"s1\": 0.5575026081526108, \"cluster\": \"A\"}, {\"s0\": 3.9014507243744068, \"s1\": 0.6897046481940874, \"cluster\": \"B\"}, {\"s0\": 0.8394602254500652, \"s1\": 0.668369558946192, \"cluster\": \"A\"}, {\"s0\": 1.4407359957891703, \"s1\": 1.163600602476672, \"cluster\": \"B\"}, {\"s0\": 0.2806764204624699, \"s1\": 0.08316838617553286, \"cluster\": \"A\"}, {\"s0\": 1.6853681367401918, \"s1\": 1.0716978664149108, \"cluster\": \"B\"}, {\"s0\": 0.7353522263413877, \"s1\": 0.5933247738030112, \"cluster\": \"A\"}, {\"s0\": 1.9231931422051132, \"s1\": 0.8696821650468974, \"cluster\": \"B\"}, {\"s0\": 0.6940602988267184, \"s1\": 0.3886952191897853, \"cluster\": \"A\"}, {\"s0\": 1.7366676671961487, \"s1\": 1.0101944644510168, \"cluster\": \"B\"}, {\"s0\": 0.22343857932178296, \"s1\": 0.023665285994167253, \"cluster\": \"A\"}, {\"s0\": 1.7660279679891797, \"s1\": 0.9526280865143564, \"cluster\": \"B\"}, {\"s0\": 0.6291636159929112, \"s1\": 0.4594134329613571, \"cluster\": \"A\"}, {\"s0\": 1.9754082158902129, \"s1\": 0.8439242038776908, \"cluster\": \"B\"}, {\"s0\": 0.8481292868321002, \"s1\": 0.6326688977841131, \"cluster\": \"A\"}, {\"s0\": 2.297205663179934, \"s1\": 0.7540370760638944, \"cluster\": \"B\"}, {\"s0\": 0.6078341958511729, \"s1\": 0.5246236004938444, \"cluster\": \"A\"}, {\"s0\": 1.673154652421143, \"s1\": 1.3507691421062875, \"cluster\": \"B\"}, {\"s0\": 0.7953888573599425, \"s1\": 0.4876632955135265, \"cluster\": \"A\"}, {\"s0\": 1.6030009569435157, \"s1\": 1.1777064775788146, \"cluster\": \"B\"}, {\"s0\": 0.08787766213024148, \"s1\": 0.0006108339027645397, \"cluster\": \"A\"}, {\"s0\": 1.9455862998709523, \"s1\": 0.9226447277337734, \"cluster\": \"B\"}, {\"s0\": 0.7069501072405787, \"s1\": 0.5540961493222145, \"cluster\": \"A\"}, {\"s0\": 4.2966774957181375, \"s1\": 0.5554902973192863, \"cluster\": \"B\"}, {\"s0\": 0.5407565249501942, \"s1\": 0.23376250016589745, \"cluster\": \"A\"}, {\"s0\": 1.457608795381487, \"s1\": 1.1828445828796328, \"cluster\": \"B\"}, {\"s0\": 0.7104153910462033, \"s1\": 0.47725589141088776, \"cluster\": \"A\"}, {\"s0\": 1.4468752742060147, \"s1\": 1.14170997879166, \"cluster\": \"B\"}, {\"s0\": 0.4174951430976397, \"s1\": 0.032305379310136044, \"cluster\": \"A\"}, {\"s0\": 1.8101442464710964, \"s1\": 0.809257268369073, \"cluster\": \"B\"}, {\"s0\": 0.6233087599303367, \"s1\": 0.32820224323689795, \"cluster\": \"A\"}, {\"s0\": 1.9183856156165533, \"s1\": 1.1352652035554696, \"cluster\": \"B\"}, {\"s0\": 0.04747497828822196, \"s1\": 0.004231538872145709, \"cluster\": \"A\"}, {\"s0\": 2.422939093085814, \"s1\": 0.7930049116673833, \"cluster\": \"B\"}, {\"s0\": 0.1750475933539128, \"s1\": 0.009158879681781688, \"cluster\": \"A\"}, {\"s0\": 3.0714781244320553, \"s1\": 0.6565940214078079, \"cluster\": \"B\"}, {\"s0\": 0.6340323463991201, \"s1\": 0.10326940481839846, \"cluster\": \"A\"}, {\"s0\": 1.4425129771498253, \"s1\": 1.0018994051314332, \"cluster\": \"B\"}, {\"s0\": 0.8920450766078355, \"s1\": 0.4964139553888132, \"cluster\": \"A\"}, {\"s0\": 2.535473899065168, \"s1\": 0.8398540333802227, \"cluster\": \"B\"}, {\"s0\": 0.8443951602589608, \"s1\": 0.4116638984364568, \"cluster\": \"A\"}, {\"s0\": 1.3608731675169492, \"s1\": 1.274697629739306, \"cluster\": \"B\"}, {\"s0\": 6.396380713112858, \"s1\": 0.0002301958122520283, \"cluster\": \"A\"}, {\"s0\": 1.7983839122664051, \"s1\": 1.0261990043081073, \"cluster\": \"B\"}, {\"s0\": 0.399041453770496, \"s1\": 0.17334642293020877, \"cluster\": \"A\"}, {\"s0\": 1.5366156909132949, \"s1\": 0.952216480496386, \"cluster\": \"B\"}, {\"s0\": 0.7660302561358627, \"s1\": 0.5029606665388454, \"cluster\": \"A\"}, {\"s0\": 1.6616196098575684, \"s1\": 1.1287195609600158, \"cluster\": \"B\"}, {\"s0\": 0.6731904130598769, \"s1\": 0.24238247759481352, \"cluster\": \"A\"}, {\"s0\": 1.486092226376876, \"s1\": 1.4238856979808898, \"cluster\": \"B\"}, {\"s0\": 0.7880784046794963, \"s1\": 0.5215611883153654, \"cluster\": \"A\"}, {\"s0\": 2.441717177254509, \"s1\": 0.8448772636111972, \"cluster\": \"B\"}, {\"s0\": 0.19226171208256765, \"s1\": 0.01089843547978205, \"cluster\": \"A\"}, {\"s0\": 2.7525640064296937, \"s1\": 0.511851265629019, \"cluster\": \"B\"}, {\"s0\": 0.5731308494018752, \"s1\": 0.360500298853303, \"cluster\": \"A\"}, {\"s0\": 3.8492051866359493, \"s1\": 0.3801000635087454, \"cluster\": \"B\"}, {\"s0\": 0.8310354213519157, \"s1\": 0.5939540737856015, \"cluster\": \"A\"}, {\"s0\": 1.6103258335098969, \"s1\": 1.2010729942085228, \"cluster\": \"B\"}, {\"s0\": 0.8498576874244337, \"s1\": 0.37049992123009373, \"cluster\": \"A\"}, {\"s0\": 1.6641390154328328, \"s1\": 1.0990235387835183, \"cluster\": \"B\"}, {\"s0\": 0.749626814463166, \"s1\": 0.5159528608804984, \"cluster\": \"A\"}, {\"s0\": 1.7138777721296938, \"s1\": 1.2878842725769026, \"cluster\": \"B\"}, {\"s0\": 0.08011572795731503, \"s1\": 0.00043089861737765625, \"cluster\": \"A\"}, {\"s0\": 3.6359592243242105, \"s1\": 0.782641395184187, \"cluster\": \"B\"}, {\"s0\": 0.6316477405079751, \"s1\": 0.5568466553249112, \"cluster\": \"A\"}, {\"s0\": 1.6712716458162384, \"s1\": 0.6345554643808197, \"cluster\": \"B\"}, {\"s0\": 0.5839880326216005, \"s1\": 0.47143271473352155, \"cluster\": \"A\"}, {\"s0\": 3.729730408666078, \"s1\": 0.609382465231154, \"cluster\": \"B\"}, {\"s0\": 0.05039226008048878, \"s1\": 0.0006984285589975566, \"cluster\": \"A\"}, {\"s0\": 1.8311719879413133, \"s1\": 1.111896117378232, \"cluster\": \"B\"}, {\"s0\": 0.9054671145309723, \"s1\": 0.043635315582061344, \"cluster\": \"A\"}, {\"s0\": 3.2154479151494337, \"s1\": 0.6996987081339177, \"cluster\": \"B\"}, {\"s0\": 0.8943901854890453, \"s1\": 0.5009141963428209, \"cluster\": \"A\"}, {\"s0\": 1.5442401952924134, \"s1\": 1.394914460523375, \"cluster\": \"B\"}, {\"s0\": 0.43224808583524393, \"s1\": 0.2401604401072273, \"cluster\": \"A\"}, {\"s0\": 1.2422076133975928, \"s1\": 1.070712297829958, \"cluster\": \"B\"}, {\"s0\": 0.4759435455736813, \"s1\": 0.27698245546234146, \"cluster\": \"A\"}, {\"s0\": 3.080820709723165, \"s1\": 0.7634209402564697, \"cluster\": \"B\"}, {\"s0\": 0.592165155180134, \"s1\": 0.3254270537651237, \"cluster\": \"A\"}, {\"s0\": 1.4178729043091607, \"s1\": 1.0280491694075387, \"cluster\": \"B\"}, {\"s0\": 0.8613474215783327, \"s1\": 0.5175594044434434, \"cluster\": \"A\"}, {\"s0\": 1.586036768560658, \"s1\": 1.198989821937846, \"cluster\": \"B\"}, {\"s0\": 0.7390412763988408, \"s1\": 0.5757680344807714, \"cluster\": \"A\"}, {\"s0\": 2.7248496621271325, \"s1\": 0.8791052703289216, \"cluster\": \"B\"}, {\"s0\": 0.25338682098064275, \"s1\": 0.005640842037757795, \"cluster\": \"A\"}, {\"s0\": 2.3310129293623287, \"s1\": 0.7776577752729865, \"cluster\": \"B\"}, {\"s0\": 0.4171910408709775, \"s1\": 0.2146976243535381, \"cluster\": \"A\"}, {\"s0\": 5.227135085449858, \"s1\": 0.6611735807779469, \"cluster\": \"B\"}, {\"s0\": 0.5200050580437066, \"s1\": 0.29516508012277964, \"cluster\": \"A\"}, {\"s0\": 2.326858835991237, \"s1\": 0.5004389031545977, \"cluster\": \"B\"}, {\"s0\": 0.5280185307577215, \"s1\": 0.2520438170749777, \"cluster\": \"A\"}, {\"s0\": 2.9683649891848667, \"s1\": 1.1003642129689328, \"cluster\": \"B\"}, {\"s0\": 0.39451138108845357, \"s1\": 0.11883751681609293, \"cluster\": \"A\"}, {\"s0\": 1.6859098014667344, \"s1\": 1.005302051512808, \"cluster\": \"B\"}, {\"s0\": 0.4198783049374155, \"s1\": 0.23929777212518677, \"cluster\": \"A\"}, {\"s0\": 2.003055150893557, \"s1\": 1.2255316868823412, \"cluster\": \"B\"}, {\"s0\": 0.41543827447551196, \"s1\": 0.28926755204413646, \"cluster\": \"A\"}, {\"s0\": 1.9197191814547945, \"s1\": 0.7680209826087452, \"cluster\": \"B\"}, {\"s0\": 0.5390184894167241, \"s1\": 0.10454871506107645, \"cluster\": \"A\"}, {\"s0\": 1.769749100531035, \"s1\": 0.8413531194364654, \"cluster\": \"B\"}, {\"s0\": 0.5829722915138721, \"s1\": 0.5061268766792393, \"cluster\": \"A\"}, {\"s0\": 2.2346027518053804, \"s1\": 0.8548268319151476, \"cluster\": \"B\"}, {\"s0\": 0.2559782753218365, \"s1\": 0.008163080008047526, \"cluster\": \"A\"}, {\"s0\": 3.153066013689061, \"s1\": 0.8212404227181188, \"cluster\": \"B\"}, {\"s0\": 0.05841092335113121, \"s1\": 0.003298060341153407, \"cluster\": \"A\"}, {\"s0\": 1.5930006323130437, \"s1\": 1.0800412742894985, \"cluster\": \"B\"}, {\"s0\": 0.6410822837474162, \"s1\": 0.5086611704507698, \"cluster\": \"A\"}, {\"s0\": 2.3313984961979113, \"s1\": 0.6376933007018541, \"cluster\": \"B\"}, {\"s0\": 0.6035502520183424, \"s1\": 0.3957266968450817, \"cluster\": \"A\"}, {\"s0\": 1.4859972873583442, \"s1\": 1.0265560113573295, \"cluster\": \"B\"}, {\"s0\": 0.272366517293562, \"s1\": 0.03686964765783512, \"cluster\": \"A\"}, {\"s0\": 2.0996127315693545, \"s1\": 0.4849180999862856, \"cluster\": \"B\"}, {\"s0\": 0.43871984981708445, \"s1\": 0.23215724184788697, \"cluster\": \"A\"}, {\"s0\": 1.3718367570885257, \"s1\": 1.033500489108841, \"cluster\": \"B\"}, {\"s0\": 0.6106428638999917, \"s1\": 0.4324495996081726, \"cluster\": \"A\"}, {\"s0\": 1.4497285407061442, \"s1\": 1.2323726348993034, \"cluster\": \"B\"}, {\"s0\": 0.7578319180966042, \"s1\": 0.5563387143921715, \"cluster\": \"A\"}, {\"s0\": 2.370767014736888, \"s1\": 0.837969286717283, \"cluster\": \"B\"}, {\"s0\": 0.483088325985602, \"s1\": 0.04007127741299647, \"cluster\": \"A\"}, {\"s0\": 1.4489948642544301, \"s1\": 1.2875400619826576, \"cluster\": \"B\"}, {\"s0\": 0.4393929601074277, \"s1\": 0.16518381041201632, \"cluster\": \"A\"}, {\"s0\": 3.3834820054101447, \"s1\": 0.5973716461219152, \"cluster\": \"B\"}, {\"s0\": 0.6758757839719786, \"s1\": 0.4820896004158021, \"cluster\": \"A\"}, {\"s0\": 1.9878517719133806, \"s1\": 1.3680406450463662, \"cluster\": \"B\"}, {\"s0\": 0.3348470360374932, \"s1\": 0.06040228403222321, \"cluster\": \"A\"}, {\"s0\": 2.7365625613098437, \"s1\": 0.725852092062504, \"cluster\": \"B\"}, {\"s0\": 0.7209090682286522, \"s1\": 0.6610426228305337, \"cluster\": \"A\"}, {\"s0\": 1.2802772294479625, \"s1\": 1.1126667362688902, \"cluster\": \"B\"}, {\"s0\": 0.6601357019255403, \"s1\": 0.39272534353667693, \"cluster\": \"A\"}, {\"s0\": 2.4920575134182146, \"s1\": 0.6311688244374732, \"cluster\": \"B\"}, {\"s0\": 0.41339737073531624, \"s1\": 0.1073473753402177, \"cluster\": \"A\"}, {\"s0\": 1.7436735273878718, \"s1\": 1.0331569749698173, \"cluster\": \"B\"}, {\"s0\": 0.6640701758004646, \"s1\": 0.269927511158943, \"cluster\": \"A\"}, {\"s0\": 1.6167121958240571, \"s1\": 1.4356739410420472, \"cluster\": \"B\"}, {\"s0\": 0.5518139935776214, \"s1\": 0.4354464770352388, \"cluster\": \"A\"}, {\"s0\": 2.3856344273738226, \"s1\": 0.891029344955089, \"cluster\": \"B\"}, {\"s0\": 0.7885201648666483, \"s1\": 0.4763264237729622, \"cluster\": \"A\"}, {\"s0\": 1.4510464152887157, \"s1\": 1.2878127752594655, \"cluster\": \"B\"}, {\"s0\": 0.6017109606911705, \"s1\": 0.2158532981809658, \"cluster\": \"A\"}, {\"s0\": 1.6235325815451565, \"s1\": 1.2078321294457752, \"cluster\": \"B\"}, {\"s0\": 0.5005263169453309, \"s1\": 0.3424586424842085, \"cluster\": \"A\"}, {\"s0\": 1.990358525912359, \"s1\": 0.48029537797265454, \"cluster\": \"B\"}, {\"s0\": 0.3137922130787285, \"s1\": 0.11487236611352875, \"cluster\": \"A\"}, {\"s0\": 2.2237541545353894, \"s1\": 0.8619790131207616, \"cluster\": \"B\"}, {\"s0\": 0.13915778015732785, \"s1\": 0.0033711196074313475, \"cluster\": \"A\"}, {\"s0\": 1.365420506189862, \"s1\": 1.2301485109903494, \"cluster\": \"B\"}, {\"s0\": 0.8138987049535963, \"s1\": 0.5943228599065252, \"cluster\": \"A\"}, {\"s0\": 2.090881922002611, \"s1\": 0.6013015597425427, \"cluster\": \"B\"}, {\"s0\": 0.11905824269332313, \"s1\": 0.06863235159973426, \"cluster\": \"A\"}, {\"s0\": 3.242331466998629, \"s1\": 0.7809460708495256, \"cluster\": \"B\"}, {\"s0\": 1.0106513633536893, \"s1\": 0.37180553420287693, \"cluster\": \"A\"}, {\"s0\": 1.5691179773847685, \"s1\": 1.1646977462708654, \"cluster\": \"B\"}, {\"s0\": 0.2426161819930642, \"s1\": 0.10685323760424752, \"cluster\": \"A\"}, {\"s0\": 3.1997168014107267, \"s1\": 0.43779793179676413, \"cluster\": \"B\"}, {\"s0\": 0.7190728671835999, \"s1\": 0.5731458426843757, \"cluster\": \"A\"}, {\"s0\": 1.8296397676856875, \"s1\": 1.2820545080728971, \"cluster\": \"B\"}, {\"s0\": 0.7884147331135303, \"s1\": 0.44167626306825425, \"cluster\": \"A\"}, {\"s0\": 1.7624309485461143, \"s1\": 1.0763650661053166, \"cluster\": \"B\"}, {\"s0\": 0.680398273724265, \"s1\": 0.38550592305598297, \"cluster\": \"A\"}, {\"s0\": 3.311042468924528, \"s1\": 0.7127029853762454, \"cluster\": \"B\"}, {\"s0\": 0.7181716403643279, \"s1\": 0.1996182754803793, \"cluster\": \"A\"}, {\"s0\": 2.076034709322967, \"s1\": 0.8946806201481221, \"cluster\": \"B\"}, {\"s0\": 0.8889913827344016, \"s1\": 0.4413951734765908, \"cluster\": \"A\"}, {\"s0\": 4.466113198724482, \"s1\": 0.542697582898097, \"cluster\": \"B\"}, {\"s0\": 0.38766765211681437, \"s1\": 0.008552039757187565, \"cluster\": \"A\"}, {\"s0\": 1.8524751160757271, \"s1\": 1.0577850364722736, \"cluster\": \"B\"}, {\"s0\": 0.5536549762765941, \"s1\": 0.20474058088333158, \"cluster\": \"A\"}, {\"s0\": 3.46031279211869, \"s1\": 0.6707170206046863, \"cluster\": \"B\"}, {\"s0\": 0.6744037377280869, \"s1\": 0.2044947809908041, \"cluster\": \"A\"}, {\"s0\": 1.5413705158524071, \"s1\": 0.9790077870271113, \"cluster\": \"B\"}, {\"s0\": 0.5939514961904903, \"s1\": 0.474454557006023, \"cluster\": \"A\"}, {\"s0\": 2.2620430309611215, \"s1\": 0.8930625254978242, \"cluster\": \"B\"}, {\"s0\": 0.4933627560730508, \"s1\": 0.17249833301110284, \"cluster\": \"A\"}, {\"s0\": 2.1553732170756694, \"s1\": 0.886060135880502, \"cluster\": \"B\"}, {\"s0\": 0.8040238521817176, \"s1\": 0.6684320164991195, \"cluster\": \"A\"}, {\"s0\": 1.60229103108332, \"s1\": 1.3212016421505264, \"cluster\": \"B\"}, {\"s0\": 0.7166867333842613, \"s1\": 0.5012792742921057, \"cluster\": \"A\"}, {\"s0\": 2.0948817951208745, \"s1\": 0.4957192053214896, \"cluster\": \"B\"}, {\"s0\": 0.1120448701377057, \"s1\": 0.06314757138126167, \"cluster\": \"A\"}, {\"s0\": 2.3574030976956957, \"s1\": 0.857530827502264, \"cluster\": \"B\"}, {\"s0\": 0.5408941743252061, \"s1\": 0.512914355962718, \"cluster\": \"A\"}, {\"s0\": 1.883318799486541, \"s1\": 0.8539192292766888, \"cluster\": \"B\"}, {\"s0\": 0.24600833927641397, \"s1\": 0.09826940325392486, \"cluster\": \"A\"}, {\"s0\": 2.073743927753056, \"s1\": 1.0112080979088436, \"cluster\": \"B\"}, {\"s0\": 0.5671231713452494, \"s1\": 0.20568587338192748, \"cluster\": \"A\"}, {\"s0\": 3.9293193286640835, \"s1\": 0.7425644846349111, \"cluster\": \"B\"}, {\"s0\": 0.26764387610654794, \"s1\": 0.05087514920858475, \"cluster\": \"A\"}, {\"s0\": 4.074246537834983, \"s1\": 0.6274085370900808, \"cluster\": \"B\"}, {\"s0\": 0.09158374628543445, \"s1\": 0.00020212636552647932, \"cluster\": \"A\"}, {\"s0\": 2.423090058432279, \"s1\": 0.7959756853497634, \"cluster\": \"B\"}, {\"s0\": 0.5504024395435537, \"s1\": 0.4496747539803791, \"cluster\": \"A\"}, {\"s0\": 2.684407388200864, \"s1\": 0.6207198678562403, \"cluster\": \"B\"}, {\"s0\": 0.37620307009401877, \"s1\": 0.08453811423359507, \"cluster\": \"A\"}, {\"s0\": 2.5326935394131196, \"s1\": 0.8856027101048753, \"cluster\": \"B\"}, {\"s0\": 0.5892646277027581, \"s1\": 0.422417244941144, \"cluster\": \"A\"}, {\"s0\": 1.6747289579787383, \"s1\": 1.3084895326883421, \"cluster\": \"B\"}, {\"s0\": 0.7924926059302733, \"s1\": 0.6205573686403074, \"cluster\": \"A\"}, {\"s0\": 3.2215497703550646, \"s1\": 0.6667106565754193, \"cluster\": \"B\"}, {\"s0\": 0.24722664322774357, \"s1\": 0.042142604858963754, \"cluster\": \"A\"}, {\"s0\": 1.5439861553424117, \"s1\": 0.9699060749379486, \"cluster\": \"B\"}, {\"s0\": 0.5041812054018291, \"s1\": 0.23749138961645827, \"cluster\": \"A\"}, {\"s0\": 1.7527628927659427, \"s1\": 1.0106991996751176, \"cluster\": \"B\"}, {\"s0\": 1.0008922148486066, \"s1\": 0.2649522687746742, \"cluster\": \"A\"}, {\"s0\": 1.9020310042810773, \"s1\": 0.9098356045765857, \"cluster\": \"B\"}, {\"s0\": 0.44992389707373087, \"s1\": 0.2760751733964413, \"cluster\": \"A\"}, {\"s0\": 1.4687386029177107, \"s1\": 0.9559940881177551, \"cluster\": \"B\"}, {\"s0\": 0.4388339493854098, \"s1\": 0.3641338285454353, \"cluster\": \"A\"}, {\"s0\": 1.6299631086583048, \"s1\": 1.141737181461935, \"cluster\": \"B\"}, {\"s0\": 0.23045250548398308, \"s1\": 0.01679559807453007, \"cluster\": \"A\"}, {\"s0\": 3.210799125916194, \"s1\": 0.4617328080800626, \"cluster\": \"B\"}, {\"s0\": 0.39948851673737784, \"s1\": 0.2662738027797373, \"cluster\": \"A\"}, {\"s0\": 1.5789374589842848, \"s1\": 1.0573450131970334, \"cluster\": \"B\"}, {\"s0\": 0.4562220669859795, \"s1\": 0.20777089909983906, \"cluster\": \"A\"}, {\"s0\": 1.5424773378293035, \"s1\": 1.0322579269590024, \"cluster\": \"B\"}, {\"s0\": 3.7415110649884147e-13, \"s1\": 6.342928691251219e-15, \"cluster\": \"A\"}, {\"s0\": 1.8101754998527249, \"s1\": 1.0801990384206712, \"cluster\": \"B\"}, {\"s0\": 0.49738819153322594, \"s1\": 0.2830396113117176, \"cluster\": \"A\"}, {\"s0\": 2.400450535515285, \"s1\": 0.6933771957238538, \"cluster\": \"B\"}, {\"s0\": 0.3014374313171798, \"s1\": 0.2121149412231863, \"cluster\": \"A\"}, {\"s0\": 1.4689422314550271, \"s1\": 0.7787183224053422, \"cluster\": \"B\"}, {\"s0\": 0.6047572127839272, \"s1\": 0.5651592899931285, \"cluster\": \"A\"}, {\"s0\": 1.6010012124433062, \"s1\": 1.0105862454573298, \"cluster\": \"B\"}, {\"s0\": 0.37634751611795103, \"s1\": 0.1151520103680106, \"cluster\": \"A\"}, {\"s0\": 1.4816007854677786, \"s1\": 1.3648391085181726, \"cluster\": \"B\"}, {\"s0\": 0.8070051455375263, \"s1\": 0.5043541597392543, \"cluster\": \"A\"}, {\"s0\": 1.4536171631245367, \"s1\": 1.3998479934434858, \"cluster\": \"B\"}, {\"s0\": 0.2986451045801812, \"s1\": 0.008854713997341003, \"cluster\": \"A\"}, {\"s0\": 4.142498584802118, \"s1\": 0.35605095604047854, \"cluster\": \"B\"}, {\"s0\": 0.4031728640852477, \"s1\": 0.11269321770022743, \"cluster\": \"A\"}, {\"s0\": 4.00695946288817, \"s1\": 0.4077464404590563, \"cluster\": \"B\"}, {\"s0\": 0.7711530490441035, \"s1\": 0.4235651650969354, \"cluster\": \"A\"}, {\"s0\": 1.7913563955376144, \"s1\": 1.072736805597774, \"cluster\": \"B\"}, {\"s0\": 0.6046902039343206, \"s1\": 0.4958500134048871, \"cluster\": \"A\"}, {\"s0\": 2.9416693863521366, \"s1\": 0.4668278945027746, \"cluster\": \"B\"}, {\"s0\": 0.7462468783509536, \"s1\": 0.5559734766053067, \"cluster\": \"A\"}, {\"s0\": 3.012870508886416, \"s1\": 0.4689259422392133, \"cluster\": \"B\"}, {\"s0\": 0.5568301575872134, \"s1\": 0.18636470788972792, \"cluster\": \"A\"}, {\"s0\": 2.064569516241482, \"s1\": 0.5077155498998294, \"cluster\": \"B\"}, {\"s0\": 0.7238953470646688, \"s1\": 0.530174253813572, \"cluster\": \"A\"}, {\"s0\": 1.7985322999949334, \"s1\": 0.9547711005330254, \"cluster\": \"B\"}, {\"s0\": 0.6638192633163432, \"s1\": 0.48477210759199824, \"cluster\": \"A\"}, {\"s0\": 1.3562292418275348, \"s1\": 1.0170655481037318, \"cluster\": \"B\"}, {\"s0\": 0.5313746949704503, \"s1\": 0.02870948035635531, \"cluster\": \"A\"}, {\"s0\": 2.73733644539465, \"s1\": 0.8333588041737998, \"cluster\": \"B\"}, {\"s0\": 4.710669346877383, \"s1\": 2.0255751318569923, \"cluster\": \"A\"}, {\"s0\": 2.7487681922944365, \"s1\": 0.3992385603002728, \"cluster\": \"B\"}, {\"s0\": 0.6947263551240276, \"s1\": 0.6385432512429551, \"cluster\": \"A\"}, {\"s0\": 1.8719541137030964, \"s1\": 1.0300903077183434, \"cluster\": \"B\"}, {\"s0\": 0.6561088934029413, \"s1\": 0.24859021382958585, \"cluster\": \"A\"}, {\"s0\": 2.7148266570516113, \"s1\": 0.8228006951472899, \"cluster\": \"B\"}, {\"s0\": 0.5643851683110539, \"s1\": 0.39368298747431446, \"cluster\": \"A\"}, {\"s0\": 1.4699441140993603, \"s1\": 1.2172491354290933, \"cluster\": \"B\"}, {\"s0\": 0.5016854872594319, \"s1\": 0.11142692446569427, \"cluster\": \"A\"}, {\"s0\": 1.5855283850538644, \"s1\": 1.2688001006769878, \"cluster\": \"B\"}, {\"s0\": 0.008159854002771725, \"s1\": 2.0123998151780935e-05, \"cluster\": \"A\"}, {\"s0\": 1.9411052433707823, \"s1\": 0.7619087492466919, \"cluster\": \"B\"}, {\"s0\": 0.8028336331222538, \"s1\": 0.6595656546095037, \"cluster\": \"A\"}, {\"s0\": 1.806873882796198, \"s1\": 0.8998479691321312, \"cluster\": \"B\"}, {\"s0\": 0.7195277218872294, \"s1\": 0.41007077051632235, \"cluster\": \"A\"}, {\"s0\": 2.6862075976320328, \"s1\": 0.8406736140664709, \"cluster\": \"B\"}, {\"s0\": 0.5002772872415483, \"s1\": 0.3222698566056956, \"cluster\": \"A\"}, {\"s0\": 3.016806371209252, \"s1\": 0.7918743170044471, \"cluster\": \"B\"}, {\"s0\": 0.7065347704219851, \"s1\": 0.4366635714737272, \"cluster\": \"A\"}, {\"s0\": 3.2969936477589705, \"s1\": 0.39268520672582347, \"cluster\": \"B\"}, {\"s0\": 0.4289936845159405, \"s1\": 0.2716233458845095, \"cluster\": \"A\"}, {\"s0\": 1.4286571956357543, \"s1\": 1.025056188130865, \"cluster\": \"B\"}, {\"s0\": 0.7095029423811432, \"s1\": 0.48342062366579036, \"cluster\": \"A\"}, {\"s0\": 1.9963838487827483, \"s1\": 0.9256046255401804, \"cluster\": \"B\"}, {\"s0\": 0.7501988270164044, \"s1\": 0.6288602787936673, \"cluster\": \"A\"}, {\"s0\": 1.812476933230152, \"s1\": 0.8158485214205897, \"cluster\": \"B\"}, {\"s0\": 0.6116906319290706, \"s1\": 0.4315164817493951, \"cluster\": \"A\"}, {\"s0\": 4.7460849254506865, \"s1\": 1.4974154218614382, \"cluster\": \"B\"}, {\"s0\": 0.12483969223591644, \"s1\": 0.011025626570738991, \"cluster\": \"A\"}, {\"s0\": 2.817724105713459, \"s1\": 0.8236005367862582, \"cluster\": \"B\"}, {\"s0\": 0.31745540146486806, \"s1\": 0.1524160137158575, \"cluster\": \"A\"}, {\"s0\": 2.87285905622863, \"s1\": 0.748808469830601, \"cluster\": \"B\"}, {\"s0\": 0.27747162005999526, \"s1\": 0.013905688896483788, \"cluster\": \"A\"}, {\"s0\": 1.4496268779831964, \"s1\": 0.9768075234022433, \"cluster\": \"B\"}, {\"s0\": 0.4750946953255122, \"s1\": 0.20818267544907557, \"cluster\": \"A\"}, {\"s0\": 2.87500338363346, \"s1\": 0.6710989461676141, \"cluster\": \"B\"}, {\"s0\": 0.38988420428428344, \"s1\": 0.1808000685422489, \"cluster\": \"A\"}, {\"s0\": 3.0930213934824997, \"s1\": 0.4967339895099407, \"cluster\": \"B\"}, {\"s0\": 0.8068603910529218, \"s1\": 0.5398923304247134, \"cluster\": \"A\"}, {\"s0\": 1.9959997691118945, \"s1\": 0.8359077910897572, \"cluster\": \"B\"}, {\"s0\": 0.7465316481608091, \"s1\": 0.6226343447432686, \"cluster\": \"A\"}, {\"s0\": 1.5015892691010644, \"s1\": 1.3122323460559047, \"cluster\": \"B\"}, {\"s0\": 0.5278925509965423, \"s1\": 0.4613120971055198, \"cluster\": \"A\"}, {\"s0\": 2.5725803135342264, \"s1\": 0.5868894587323603, \"cluster\": \"B\"}, {\"s0\": 0.7856751585561567, \"s1\": 0.5629086350043896, \"cluster\": \"A\"}, {\"s0\": 2.1874003255977974, \"s1\": 0.8415482141072003, \"cluster\": \"B\"}, {\"s0\": 0.42081215130383004, \"s1\": 0.02580388378342205, \"cluster\": \"A\"}, {\"s0\": 1.8103219246404663, \"s1\": 1.0945184417792042, \"cluster\": \"B\"}, {\"s0\": 0.7284210034044156, \"s1\": 0.17440527070702427, \"cluster\": \"A\"}, {\"s0\": 1.8115234766356756, \"s1\": 0.9046136989436083, \"cluster\": \"B\"}, {\"s0\": 0.40615811678056224, \"s1\": 0.07017079941012891, \"cluster\": \"A\"}, {\"s0\": 1.5964088511253691, \"s1\": 1.2768322705333954, \"cluster\": \"B\"}, {\"s0\": 0.30909660840676, \"s1\": 0.03374308569496717, \"cluster\": \"A\"}, {\"s0\": 1.4483532523651943, \"s1\": 0.964109649279057, \"cluster\": \"B\"}, {\"s0\": 0.20295206140141575, \"s1\": 0.03338394963631416, \"cluster\": \"A\"}, {\"s0\": 2.1802912856561116, \"s1\": 0.8918581997993117, \"cluster\": \"B\"}, {\"s0\": 0.36926932024448433, \"s1\": 0.09664771729597646, \"cluster\": \"A\"}, {\"s0\": 1.48437626880181, \"s1\": 1.0351963444875976, \"cluster\": \"B\"}, {\"s0\": 0.03915884361353755, \"s1\": 0.0038162477857168254, \"cluster\": \"A\"}, {\"s0\": 2.19547419071614, \"s1\": 0.8393920849916275, \"cluster\": \"B\"}, {\"s0\": 0.9698226919963602, \"s1\": 0.7031695595784468, \"cluster\": \"A\"}, {\"s0\": 1.804491830740879, \"s1\": 1.1297593576603613, \"cluster\": \"B\"}, {\"s0\": 0.8703008581973211, \"s1\": 0.3727227717000506, \"cluster\": \"A\"}, {\"s0\": 1.7969712707388752, \"s1\": 0.6964532782402945, \"cluster\": \"B\"}, {\"s0\": 0.5325537734239811, \"s1\": 0.13524096414257614, \"cluster\": \"A\"}, {\"s0\": 2.8581834000852937, \"s1\": 0.6753222128674096, \"cluster\": \"B\"}, {\"s0\": 0.7525617504940986, \"s1\": 0.5564431340533202, \"cluster\": \"A\"}, {\"s0\": 2.42183351531433, \"s1\": 0.9936971955524762, \"cluster\": \"B\"}, {\"s0\": 0.5675590146711103, \"s1\": 0.3411549730676006, \"cluster\": \"A\"}, {\"s0\": 2.0038344140526485, \"s1\": 1.158311195541783, \"cluster\": \"B\"}, {\"s0\": 0.7864962524353595, \"s1\": 0.6432228852959213, \"cluster\": \"A\"}, {\"s0\": 2.9320104868764685, \"s1\": 0.6535882162381387, \"cluster\": \"B\"}, {\"s0\": 0.9544900577152554, \"s1\": 0.7125306932839753, \"cluster\": \"A\"}, {\"s0\": 2.267872683019952, \"s1\": 0.6498190702568912, \"cluster\": \"B\"}, {\"s0\": 0.7152973489692237, \"s1\": 0.19703291896991718, \"cluster\": \"A\"}, {\"s0\": 3.611634892748954, \"s1\": 0.46758113275158975, \"cluster\": \"B\"}, {\"s0\": 0.581424233560457, \"s1\": 0.14469104624664036, \"cluster\": \"A\"}, {\"s0\": 1.6292828916067588, \"s1\": 0.6991544341530181, \"cluster\": \"B\"}, {\"s0\": 0.7721631595876525, \"s1\": 0.45216112345032256, \"cluster\": \"A\"}, {\"s0\": 3.241907961372647, \"s1\": 0.7109838827230995, \"cluster\": \"B\"}, {\"s0\": 0.7070793038119483, \"s1\": 0.569505585627887, \"cluster\": \"A\"}, {\"s0\": 1.7210299696932991, \"s1\": 1.30333612891682, \"cluster\": \"B\"}, {\"s0\": 0.5104524663226708, \"s1\": 0.3078195131823905, \"cluster\": \"A\"}, {\"s0\": 1.81224208872979, \"s1\": 1.2080539388058844, \"cluster\": \"B\"}, {\"s0\": 0.3974644125098994, \"s1\": 0.11818536871583156, \"cluster\": \"A\"}, {\"s0\": 2.6959417869152658, \"s1\": 0.5026317015080922, \"cluster\": \"B\"}, {\"s0\": 0.3032397847880628, \"s1\": 0.06755422504943093, \"cluster\": \"A\"}, {\"s0\": 1.497982177978571, \"s1\": 1.1104245770228232, \"cluster\": \"B\"}, {\"s0\": 0.7125476716013163, \"s1\": 0.41969391576259396, \"cluster\": \"A\"}, {\"s0\": 3.2554633049771295, \"s1\": 0.5836979356810359, \"cluster\": \"B\"}, {\"s0\": 0.25160680974829097, \"s1\": 0.07963962938100252, \"cluster\": \"A\"}, {\"s0\": 2.6400568090669876, \"s1\": 0.5053785669097343, \"cluster\": \"B\"}, {\"s0\": 0.47193312411318045, \"s1\": 0.20511165594650768, \"cluster\": \"A\"}, {\"s0\": 3.216374282122342, \"s1\": 0.5903565578744688, \"cluster\": \"B\"}, {\"s0\": 0.6119997737144108, \"s1\": 0.2513676462199607, \"cluster\": \"A\"}, {\"s0\": 1.430703121834919, \"s1\": 1.029795250239129, \"cluster\": \"B\"}, {\"s0\": 0.49720044650987827, \"s1\": 0.03574190445271294, \"cluster\": \"A\"}, {\"s0\": 2.0544136322270394, \"s1\": 1.1154118255757297, \"cluster\": \"B\"}, {\"s0\": 0.37672733817988624, \"s1\": 0.07468995730238197, \"cluster\": \"A\"}, {\"s0\": 2.0703419971297534, \"s1\": 1.1106623097494346, \"cluster\": \"B\"}, {\"s0\": 0.3918607754509279, \"s1\": 0.1126391165484871, \"cluster\": \"A\"}, {\"s0\": 3.2200839788570956, \"s1\": 0.5663863027554399, \"cluster\": \"B\"}, {\"s0\": 0.9403151902132021, \"s1\": 0.7545564030471946, \"cluster\": \"A\"}, {\"s0\": 1.6574529598634775, \"s1\": 1.2680325135317287, \"cluster\": \"B\"}, {\"s0\": 0.6807472212767766, \"s1\": 0.5080708372557902, \"cluster\": \"A\"}, {\"s0\": 4.019170081709808, \"s1\": 0.42539944962838755, \"cluster\": \"B\"}, {\"s0\": 0.24536404041906096, \"s1\": 0.07697194652079298, \"cluster\": \"A\"}, {\"s0\": 1.8880085254770902, \"s1\": 1.1351371365142386, \"cluster\": \"B\"}, {\"s0\": 0.7553979177727751, \"s1\": 0.42818092913471784, \"cluster\": \"A\"}, {\"s0\": 1.6217160167576776, \"s1\": 1.3105112307907192, \"cluster\": \"B\"}, {\"s0\": 0.7847131317438469, \"s1\": 0.20949166305358938, \"cluster\": \"A\"}, {\"s0\": 2.1385341826260147, \"s1\": 1.1159675970032263, \"cluster\": \"B\"}, {\"s0\": 0.5294035272948725, \"s1\": 0.24927653401536798, \"cluster\": \"A\"}, {\"s0\": 1.9379626125770344, \"s1\": 1.0666235122671672, \"cluster\": \"B\"}, {\"s0\": 0.6774716601203968, \"s1\": 0.26932434424871143, \"cluster\": \"A\"}, {\"s0\": 1.595579344268466, \"s1\": 1.1807304880346445, \"cluster\": \"B\"}, {\"s0\": 0.6675293836451945, \"s1\": 0.23698231075261397, \"cluster\": \"A\"}, {\"s0\": 2.3277881137514673, \"s1\": 0.6189525006080996, \"cluster\": \"B\"}, {\"s0\": 0.45196074790524643, \"s1\": 0.0979279024913143, \"cluster\": \"A\"}, {\"s0\": 2.835806100687924, \"s1\": 0.7491015592530031, \"cluster\": \"B\"}, {\"s0\": 0.8961115979628377, \"s1\": 0.7081431367489771, \"cluster\": \"A\"}, {\"s0\": 2.2608667322133615, \"s1\": 0.8160518037646765, \"cluster\": \"B\"}, {\"s0\": 0.7318300865193028, \"s1\": 0.45010314237456106, \"cluster\": \"A\"}, {\"s0\": 1.9031554673038686, \"s1\": 1.1477694479254361, \"cluster\": \"B\"}, {\"s0\": 0.7839322714340522, \"s1\": 0.2272624820280102, \"cluster\": \"A\"}, {\"s0\": 1.2159782146506346, \"s1\": 1.1305454233190428, \"cluster\": \"B\"}, {\"s0\": 0.009242909894906998, \"s1\": 0.0019427221528999963, \"cluster\": \"A\"}, {\"s0\": 1.5723255578093431, \"s1\": 1.2403472521960854, \"cluster\": \"B\"}, {\"s0\": 0.18369450080349334, \"s1\": 0.03262946346091605, \"cluster\": \"A\"}, {\"s0\": 1.580437022127313, \"s1\": 1.3018756867285495, \"cluster\": \"B\"}, {\"s0\": 0.6125827224127999, \"s1\": 0.4252127671634406, \"cluster\": \"A\"}, {\"s0\": 2.0499218603884075, \"s1\": 0.9473211067593761, \"cluster\": \"B\"}, {\"s0\": 0.7157489864597488, \"s1\": 0.08693297339309536, \"cluster\": \"A\"}, {\"s0\": 1.2525768967419468, \"s1\": 1.0208258778084736, \"cluster\": \"B\"}, {\"s0\": 0.2397496741522653, \"s1\": 0.023260371780806643, \"cluster\": \"A\"}, {\"s0\": 2.1583037807107, \"s1\": 0.8567558450418046, \"cluster\": \"B\"}, {\"s0\": 0.22141492764327533, \"s1\": 0.022921048244249637, \"cluster\": \"A\"}, {\"s0\": 1.6613236414400925, \"s1\": 1.190307030200131, \"cluster\": \"B\"}, {\"s0\": 0.3405430380005126, \"s1\": 0.1691207823435393, \"cluster\": \"A\"}, {\"s0\": 3.831606426780708, \"s1\": 0.5568663919161544, \"cluster\": \"B\"}, {\"s0\": 0.8392149737122112, \"s1\": 0.5375943235980162, \"cluster\": \"A\"}, {\"s0\": 2.0122933187293017, \"s1\": 0.8311857348543745, \"cluster\": \"B\"}, {\"s0\": 0.35787129014771957, \"s1\": 0.11294733299467638, \"cluster\": \"A\"}, {\"s0\": 1.5937371659827029, \"s1\": 1.1507040756847546, \"cluster\": \"B\"}, {\"s0\": 0.31804176503653786, \"s1\": 0.08506893390741754, \"cluster\": \"A\"}, {\"s0\": 2.1450623363624515, \"s1\": 0.9257224218814114, \"cluster\": \"B\"}, {\"s0\": 0.24367183716800617, \"s1\": 0.08720225125141472, \"cluster\": \"A\"}, {\"s0\": 2.9582510055876368, \"s1\": 0.9668917748270308, \"cluster\": \"B\"}, {\"s0\": 0.40546214118701357, \"s1\": 0.032049174251115184, \"cluster\": \"A\"}, {\"s0\": 2.366292971768061, \"s1\": 0.7945133807755324, \"cluster\": \"B\"}, {\"s0\": 0.7271474963782899, \"s1\": 0.6493334197810327, \"cluster\": \"A\"}, {\"s0\": 1.4362100615642612, \"s1\": 1.2785350757146559, \"cluster\": \"B\"}, {\"s0\": 0.7899165777203984, \"s1\": 0.5813181268736759, \"cluster\": \"A\"}, {\"s0\": 1.349874920890736, \"s1\": 1.180099330335004, \"cluster\": \"B\"}, {\"s0\": 0.5955582178434228, \"s1\": 0.3424610688717465, \"cluster\": \"A\"}, {\"s0\": 3.2048658137703034, \"s1\": 0.7499875868827139, \"cluster\": \"B\"}, {\"s0\": 0.4337979451985252, \"s1\": 0.0778695177161522, \"cluster\": \"A\"}, {\"s0\": 4.517928358400209, \"s1\": 0.5111614508903269, \"cluster\": \"B\"}, {\"s0\": 0.5169664514877834, \"s1\": 0.39643895644339755, \"cluster\": \"A\"}, {\"s0\": 2.1762164355093745, \"s1\": 0.849377719312995, \"cluster\": \"B\"}, {\"s0\": 0.6434121443976903, \"s1\": 0.4107715444662228, \"cluster\": \"A\"}, {\"s0\": 1.7288690824422666, \"s1\": 1.3243836844580983, \"cluster\": \"B\"}, {\"s0\": 0.6601442587339035, \"s1\": 0.5590733223720562, \"cluster\": \"A\"}, {\"s0\": 1.7956865393444739, \"s1\": 0.9945016840460613, \"cluster\": \"B\"}, {\"s0\": 0.38691917219046773, \"s1\": 0.08792650106694762, \"cluster\": \"A\"}, {\"s0\": 2.818463381947013, \"s1\": 1.2203523876552067, \"cluster\": \"B\"}, {\"s0\": 0.6072280065750636, \"s1\": 0.28357167151448864, \"cluster\": \"A\"}, {\"s0\": 1.5537764116472959, \"s1\": 1.139104752118235, \"cluster\": \"B\"}, {\"s0\": 0.9203103123071718, \"s1\": 0.5019833326457529, \"cluster\": \"A\"}, {\"s0\": 1.784109948315923, \"s1\": 0.9604884352949888, \"cluster\": \"B\"}, {\"s0\": 0.8046315182090091, \"s1\": 0.7066307233879725, \"cluster\": \"A\"}, {\"s0\": 2.4169092389249474, \"s1\": 0.8549172825510977, \"cluster\": \"B\"}, {\"s0\": 0.7938053479839612, \"s1\": 0.6435821426634085, \"cluster\": \"A\"}, {\"s0\": 1.4714043636315997, \"s1\": 0.9994248932210594, \"cluster\": \"B\"}, {\"s0\": 0.4087517136440571, \"s1\": 0.07442578448962418, \"cluster\": \"A\"}, {\"s0\": 2.6625120730825493, \"s1\": 0.6036064881591762, \"cluster\": \"B\"}, {\"s0\": 0.41920768963904426, \"s1\": 0.3588222957414202, \"cluster\": \"A\"}, {\"s0\": 3.8151855277127766, \"s1\": 0.48675955219145184, \"cluster\": \"B\"}, {\"s0\": 0.598905685882945, \"s1\": 0.01956838761948303, \"cluster\": \"A\"}, {\"s0\": 2.12374603613915, \"s1\": 1.0114997539828685, \"cluster\": \"B\"}, {\"s0\": 0.5602245154453336, \"s1\": 0.5067372486223237, \"cluster\": \"A\"}, {\"s0\": 2.662471180744197, \"s1\": 0.7100439346562724, \"cluster\": \"B\"}, {\"s0\": 0.7646472004185216, \"s1\": 0.40819109671612785, \"cluster\": \"A\"}, {\"s0\": 2.6226127645084856, \"s1\": 0.7162763618130993, \"cluster\": \"B\"}, {\"s0\": 0.7300755239288574, \"s1\": 0.5372331891027181, \"cluster\": \"A\"}, {\"s0\": 2.771897526816729, \"s1\": 0.8001252824715803, \"cluster\": \"B\"}, {\"s0\": 0.004451569013508661, \"s1\": 0.00019697091034029507, \"cluster\": \"A\"}, {\"s0\": 2.7145756294487766, \"s1\": 0.6656633454080334, \"cluster\": \"B\"}, {\"s0\": 0.3013023636428773, \"s1\": 0.0019227281677984271, \"cluster\": \"A\"}, {\"s0\": 1.3297820909828133, \"s1\": 0.9939625317575407, \"cluster\": \"B\"}, {\"s0\": 0.648408369167852, \"s1\": 0.2555080630728725, \"cluster\": \"A\"}, {\"s0\": 1.5569421191964907, \"s1\": 1.2076246626970542, \"cluster\": \"B\"}, {\"s0\": 0.42206741370512557, \"s1\": 0.08617759541933488, \"cluster\": \"A\"}, {\"s0\": 1.1168975388452536, \"s1\": 1.019895240962897, \"cluster\": \"B\"}, {\"s0\": 0.2602539019962176, \"s1\": 0.029679354014519783, \"cluster\": \"A\"}, {\"s0\": 1.126210880523294, \"s1\": 0.9542140128115784, \"cluster\": \"B\"}, {\"s0\": 0.499727194892987, \"s1\": 0.2243680330420051, \"cluster\": \"A\"}, {\"s0\": 1.446690257155149, \"s1\": 1.0594390238181923, \"cluster\": \"B\"}, {\"s0\": 0.5008580713366406, \"s1\": 0.2233385118617156, \"cluster\": \"A\"}, {\"s0\": 3.0378259455798333, \"s1\": 0.7286567746300473, \"cluster\": \"B\"}, {\"s0\": 0.35207054156007067, \"s1\": 0.07998618143133372, \"cluster\": \"A\"}, {\"s0\": 2.7064161595685654, \"s1\": 0.7387298465605037, \"cluster\": \"B\"}, {\"s0\": 0.7759037301330506, \"s1\": 0.7282081210949796, \"cluster\": \"A\"}, {\"s0\": 3.2359802458985425, \"s1\": 0.8741412046101855, \"cluster\": \"B\"}, {\"s0\": 0.573135374251603, \"s1\": 0.44397059051605425, \"cluster\": \"A\"}, {\"s0\": 2.572720650420726, \"s1\": 0.7100349288002935, \"cluster\": \"B\"}, {\"s0\": 0.24803125305923832, \"s1\": 0.052070297049332505, \"cluster\": \"A\"}, {\"s0\": 1.6208671372473433, \"s1\": 0.9731333112053094, \"cluster\": \"B\"}, {\"s0\": 0.4111986813512888, \"s1\": 0.17909173546577345, \"cluster\": \"A\"}, {\"s0\": 1.2585584725742418, \"s1\": 1.0120044512229873, \"cluster\": \"B\"}, {\"s0\": 0.7495456951715754, \"s1\": 0.46882173174952474, \"cluster\": \"A\"}, {\"s0\": 4.637595734653048, \"s1\": 0.6635176486235017, \"cluster\": \"B\"}, {\"s0\": 0.48399391261350544, \"s1\": 0.1092024082398119, \"cluster\": \"A\"}, {\"s0\": 2.8407603398251533, \"s1\": 0.5543718108733673, \"cluster\": \"B\"}, {\"s0\": 0.7237330712930864, \"s1\": 0.5110050094454542, \"cluster\": \"A\"}, {\"s0\": 1.6469653011625367, \"s1\": 1.3339554019865412, \"cluster\": \"B\"}, {\"s0\": 0.5864012150557433, \"s1\": 0.22654050935154285, \"cluster\": \"A\"}, {\"s0\": 2.528052895253874, \"s1\": 0.6656545963731717, \"cluster\": \"B\"}, {\"s0\": 0.45482904797834095, \"s1\": 0.03432152902393679, \"cluster\": \"A\"}, {\"s0\": 1.670875474709493, \"s1\": 1.0901107519639626, \"cluster\": \"B\"}, {\"s0\": 0.6591336786512048, \"s1\": 0.5033220759141025, \"cluster\": \"A\"}, {\"s0\": 2.1582731216527886, \"s1\": 0.9282134063574778, \"cluster\": \"B\"}, {\"s0\": 0.5691405827729434, \"s1\": 0.1979314903850312, \"cluster\": \"A\"}, {\"s0\": 1.754314565883792, \"s1\": 1.0294624002145416, \"cluster\": \"B\"}, {\"s0\": 0.7539918429358349, \"s1\": 0.6632139484193827, \"cluster\": \"A\"}, {\"s0\": 1.3984279315021333, \"s1\": 1.336523814239773, \"cluster\": \"B\"}, {\"s0\": 2.2418415735719375, \"s1\": 0.39124291480141576, \"cluster\": \"A\"}, {\"s0\": 2.690341733186486, \"s1\": 0.5407319859708843, \"cluster\": \"B\"}, {\"s0\": 0.6489477340333062, \"s1\": 0.4007873395338138, \"cluster\": \"A\"}, {\"s0\": 3.2584797519807114, \"s1\": 0.8673032286461395, \"cluster\": \"B\"}, {\"s0\": 0.47524580566233177, \"s1\": 0.21777880965739374, \"cluster\": \"A\"}, {\"s0\": 3.2533611385638923, \"s1\": 0.5989620447301336, \"cluster\": \"B\"}, {\"s0\": 0.10424393364045832, \"s1\": 0.002735302525782761, \"cluster\": \"A\"}, {\"s0\": 3.5011713101446267, \"s1\": 0.4468942889156733, \"cluster\": \"B\"}, {\"s0\": 0.547138763895102, \"s1\": 0.4539444146035631, \"cluster\": \"A\"}, {\"s0\": 1.4907601577029652, \"s1\": 1.1974966591601444, \"cluster\": \"B\"}, {\"s0\": 0.7599469531394286, \"s1\": 0.43351168104567106, \"cluster\": \"A\"}, {\"s0\": 1.8415452875840754, \"s1\": 1.2953914205993238, \"cluster\": \"B\"}, {\"s0\": 0.29064380777693033, \"s1\": 0.029672849231676762, \"cluster\": \"A\"}, {\"s0\": 1.4461035847316492, \"s1\": 1.2116296044577546, \"cluster\": \"B\"}, {\"s0\": 0.5473341875014417, \"s1\": 0.31717194366522905, \"cluster\": \"A\"}, {\"s0\": 1.8793379620769006, \"s1\": 0.9123008049212018, \"cluster\": \"B\"}, {\"s0\": 0.5458823962033003, \"s1\": 0.4128717255991722, \"cluster\": \"A\"}, {\"s0\": 2.6031408955887705, \"s1\": 0.5992395842456658, \"cluster\": \"B\"}, {\"s0\": 0.226970823993036, \"s1\": 0.009224792538327534, \"cluster\": \"A\"}, {\"s0\": 1.322252355972365, \"s1\": 1.1108613975387172, \"cluster\": \"B\"}, {\"s0\": 0.6822872576297702, \"s1\": 0.31566092652755545, \"cluster\": \"A\"}, {\"s0\": 2.2366770989081024, \"s1\": 0.8474242804062432, \"cluster\": \"B\"}, {\"s0\": 0.2063686299030499, \"s1\": 0.03591189240929267, \"cluster\": \"A\"}, {\"s0\": 1.7680766777077994, \"s1\": 1.2835305281882188, \"cluster\": \"B\"}, {\"s0\": 0.7581315622862373, \"s1\": 0.5337901660157809, \"cluster\": \"A\"}, {\"s0\": 2.012864192075819, \"s1\": 0.6408293706606627, \"cluster\": \"B\"}, {\"s0\": 0.6698495780837606, \"s1\": 0.5346171329491102, \"cluster\": \"A\"}, {\"s0\": 2.8885607350209104, \"s1\": 0.6336558536908532, \"cluster\": \"B\"}, {\"s0\": 0.8227557231320511, \"s1\": 0.7339034711593848, \"cluster\": \"A\"}, {\"s0\": 1.8249363581924614, \"s1\": 1.186393500174301, \"cluster\": \"B\"}, {\"s0\": 0.4876432414676808, \"s1\": 0.21264959641928585, \"cluster\": \"A\"}, {\"s0\": 1.7229359492775072, \"s1\": 1.1638660439189892, \"cluster\": \"B\"}, {\"s0\": 0.6695036035232423, \"s1\": 0.3903605817848661, \"cluster\": \"A\"}, {\"s0\": 2.105676439300079, \"s1\": 0.8700612579056969, \"cluster\": \"B\"}, {\"s0\": 0.7639228735621897, \"s1\": 0.6330571837116249, \"cluster\": \"A\"}, {\"s0\": 3.811336105335053, \"s1\": 0.7688048923079218, \"cluster\": \"B\"}, {\"s0\": 0.7711890143436042, \"s1\": 0.6536434575904666, \"cluster\": \"A\"}, {\"s0\": 4.27779395893462, \"s1\": 0.5565234495144752, \"cluster\": \"B\"}, {\"s0\": 0.37429139460873845, \"s1\": 0.13767673184412765, \"cluster\": \"A\"}, {\"s0\": 1.8531949389483109, \"s1\": 1.0581382082692115, \"cluster\": \"B\"}, {\"s0\": 0.10928042379005246, \"s1\": 0.005828505641536755, \"cluster\": \"A\"}, {\"s0\": 1.5254384464003778, \"s1\": 0.9618538066188982, \"cluster\": \"B\"}, {\"s0\": 0.6019107222339898, \"s1\": 0.24856034184616974, \"cluster\": \"A\"}, {\"s0\": 3.6643855786324484, \"s1\": 0.6168837252914987, \"cluster\": \"B\"}, {\"s0\": 0.6754173778176107, \"s1\": 0.07913176094157214, \"cluster\": \"A\"}, {\"s0\": 1.3766744705112461, \"s1\": 1.0382105782138293, \"cluster\": \"B\"}, {\"s0\": 0.35267266581974616, \"s1\": 0.21490403479036688, \"cluster\": \"A\"}, {\"s0\": 2.932648433139411, \"s1\": 0.48143187458714476, \"cluster\": \"B\"}, {\"s0\": 0.54278186272856, \"s1\": 0.312510416923012, \"cluster\": \"A\"}, {\"s0\": 2.050636928668563, \"s1\": 0.8179252735930599, \"cluster\": \"B\"}, {\"s0\": 0.654548146116777, \"s1\": 0.4928218414175392, \"cluster\": \"A\"}, {\"s0\": 2.0603005073349956, \"s1\": 0.9918532776181407, \"cluster\": \"B\"}, {\"s0\": 0.6803144755611712, \"s1\": 0.49746110930232207, \"cluster\": \"A\"}, {\"s0\": 1.7450947681199878, \"s1\": 0.9040334619204695, \"cluster\": \"B\"}, {\"s0\": 0.6585401657921153, \"s1\": 0.5117747668460075, \"cluster\": \"A\"}, {\"s0\": 1.4809069505635093, \"s1\": 0.9060125549127518, \"cluster\": \"B\"}, {\"s0\": 0.9157979619934595, \"s1\": 0.44317428390467084, \"cluster\": \"A\"}, {\"s0\": 1.495147616220688, \"s1\": 0.9704263045680931, \"cluster\": \"B\"}, {\"s0\": 0.8686549239618351, \"s1\": 0.5668102408980578, \"cluster\": \"A\"}, {\"s0\": 1.4532256457163943, \"s1\": 0.9671076458549881, \"cluster\": \"B\"}, {\"s0\": 0.6728381752913212, \"s1\": 0.5258726676971369, \"cluster\": \"A\"}, {\"s0\": 2.7103140357820905, \"s1\": 0.5604526743607693, \"cluster\": \"B\"}, {\"s0\": 0.2496069191168466, \"s1\": 0.05244305896410897, \"cluster\": \"A\"}, {\"s0\": 1.5983460049851845, \"s1\": 1.007360985267707, \"cluster\": \"B\"}, {\"s0\": 0.5582320023469229, \"s1\": 0.15595263941333512, \"cluster\": \"A\"}, {\"s0\": 1.536941125189461, \"s1\": 1.0911954322783153, \"cluster\": \"B\"}, {\"s0\": 0.6264148657732169, \"s1\": 0.46286133297625254, \"cluster\": \"A\"}, {\"s0\": 1.7852827551592376, \"s1\": 0.9538758498142271, \"cluster\": \"B\"}, {\"s0\": 0.6412384884628547, \"s1\": 0.4365014369317706, \"cluster\": \"A\"}, {\"s0\": 1.1479083835849255, \"s1\": 1.0314779453545035, \"cluster\": \"B\"}, {\"s0\": 0.8009386408053789, \"s1\": 0.6713577649475008, \"cluster\": \"A\"}, {\"s0\": 2.0467214281926958, \"s1\": 1.1176846462091836, \"cluster\": \"B\"}, {\"s0\": 0.554722097434976, \"s1\": 0.2843060354823442, \"cluster\": \"A\"}, {\"s0\": 1.5242102832194544, \"s1\": 1.2128803246214677, \"cluster\": \"B\"}, {\"s0\": 0.5614076490638781, \"s1\": 0.34198434952204454, \"cluster\": \"A\"}, {\"s0\": 5.18033339636517, \"s1\": 0.3983822417916127, \"cluster\": \"B\"}, {\"s0\": 0.6399355006818633, \"s1\": 0.3126854480853872, \"cluster\": \"A\"}, {\"s0\": 3.386321549678285, \"s1\": 0.5473019117037182, \"cluster\": \"B\"}, {\"s0\": 0.535254819461066, \"s1\": 0.515838012879376, \"cluster\": \"A\"}, {\"s0\": 1.3405292975814513, \"s1\": 0.9815415425630182, \"cluster\": \"B\"}, {\"s0\": 0.824613585622385, \"s1\": 0.6256249781725788, \"cluster\": \"A\"}, {\"s0\": 1.6303759125010102, \"s1\": 0.9378732820526464, \"cluster\": \"B\"}, {\"s0\": 0.20209748305847242, \"s1\": 0.026951913935192584, \"cluster\": \"A\"}, {\"s0\": 2.3985867039233257, \"s1\": 0.769460158658147, \"cluster\": \"B\"}, {\"s0\": 0.8752066900669274, \"s1\": 0.5164811202948394, \"cluster\": \"A\"}, {\"s0\": 2.527525069692397, \"s1\": 0.6858609205793706, \"cluster\": \"B\"}, {\"s0\": 0.3999919343789307, \"s1\": 0.09056406810277567, \"cluster\": \"A\"}, {\"s0\": 3.8861740606591737, \"s1\": 0.9366799045619979, \"cluster\": \"B\"}, {\"s0\": 0.5417279361538933, \"s1\": 0.03632925048956704, \"cluster\": \"A\"}, {\"s0\": 1.4737866660174523, \"s1\": 0.9255252076198611, \"cluster\": \"B\"}, {\"s0\": 0.605904638991229, \"s1\": 0.2151887018430186, \"cluster\": \"A\"}, {\"s0\": 1.6640454496370982, \"s1\": 1.3224115906551794, \"cluster\": \"B\"}, {\"s0\": 0.6310509979883542, \"s1\": 0.10180424527076398, \"cluster\": \"A\"}, {\"s0\": 2.0220878770724036, \"s1\": 0.947213355689894, \"cluster\": \"B\"}, {\"s0\": 0.49890213006673995, \"s1\": 0.1981756791825492, \"cluster\": \"A\"}, {\"s0\": 2.626890860489622, \"s1\": 0.8407351464549403, \"cluster\": \"B\"}, {\"s0\": 0.8869116045554007, \"s1\": 0.4306544679019488, \"cluster\": \"A\"}, {\"s0\": 1.398416023191806, \"s1\": 1.2414206511204828, \"cluster\": \"B\"}, {\"s0\": 0.45639312411531885, \"s1\": 0.07293941990526351, \"cluster\": \"A\"}, {\"s0\": 1.629723077855847, \"s1\": 1.0407356189104346, \"cluster\": \"B\"}, {\"s0\": 0.7637872007675306, \"s1\": 0.6203059274161613, \"cluster\": \"A\"}, {\"s0\": 1.3724324800926826, \"s1\": 1.1213638629339175, \"cluster\": \"B\"}, {\"s0\": 0.6508032209956002, \"s1\": 0.44547456964638915, \"cluster\": \"A\"}, {\"s0\": 1.4805990922871024, \"s1\": 0.9654929440788874, \"cluster\": \"B\"}, {\"s0\": 0.1446103318831134, \"s1\": 0.08936833676587287, \"cluster\": \"A\"}, {\"s0\": 3.0732200000872707, \"s1\": 0.3880118972716586, \"cluster\": \"B\"}, {\"s0\": 0.8055504481862539, \"s1\": 0.6017396956761463, \"cluster\": \"A\"}, {\"s0\": 1.6900358772277082, \"s1\": 0.8351739376781495, \"cluster\": \"B\"}, {\"s0\": 0.35123543663234946, \"s1\": 0.11243884800998921, \"cluster\": \"A\"}, {\"s0\": 1.524055867071547, \"s1\": 1.2565481563279026, \"cluster\": \"B\"}, {\"s0\": 0.71783397200383, \"s1\": 0.4785684773760929, \"cluster\": \"A\"}, {\"s0\": 1.7348231025431262, \"s1\": 1.114959172982554, \"cluster\": \"B\"}, {\"s0\": 0.257974298123952, \"s1\": 0.10567522954147522, \"cluster\": \"A\"}, {\"s0\": 2.130196989430541, \"s1\": 0.7659530370336739, \"cluster\": \"B\"}, {\"s0\": 0.6959079910064774, \"s1\": 0.3070442555886726, \"cluster\": \"A\"}, {\"s0\": 1.7815499395247296, \"s1\": 1.088770239621266, \"cluster\": \"B\"}, {\"s0\": 0.8271906556045554, \"s1\": 0.5007756898488865, \"cluster\": \"A\"}, {\"s0\": 1.7822979076218384, \"s1\": 1.088441280020318, \"cluster\": \"B\"}, {\"s0\": 0.5660893270546723, \"s1\": 0.320943224417948, \"cluster\": \"A\"}, {\"s0\": 1.692598696946057, \"s1\": 1.0065847421933751, \"cluster\": \"B\"}, {\"s0\": 0.7473133593277984, \"s1\": 0.047452377628876885, \"cluster\": \"A\"}, {\"s0\": 1.3352451017804272, \"s1\": 1.1002136721361497, \"cluster\": \"B\"}, {\"s0\": 0.4196888315182265, \"s1\": 0.14482350878799177, \"cluster\": \"A\"}, {\"s0\": 1.6068652822118534, \"s1\": 1.0929098084768631, \"cluster\": \"B\"}, {\"s0\": 0.33329202909485434, \"s1\": 0.030564111922234925, \"cluster\": \"A\"}, {\"s0\": 2.185813740247881, \"s1\": 1.0321830771794631, \"cluster\": \"B\"}, {\"s0\": 0.769784365496829, \"s1\": 0.6628383502848461, \"cluster\": \"A\"}, {\"s0\": 2.3078546782122227, \"s1\": 0.799142196490124, \"cluster\": \"B\"}, {\"s0\": 0.31673541873740313, \"s1\": 0.09054922595621988, \"cluster\": \"A\"}, {\"s0\": 2.9954057170618023, \"s1\": 1.0142711180855344, \"cluster\": \"B\"}, {\"s0\": 0.8434758092355192, \"s1\": 0.5382764745488335, \"cluster\": \"A\"}, {\"s0\": 1.7260621258779705, \"s1\": 1.2388102630023639, \"cluster\": \"B\"}, {\"s0\": 0.5363651109291211, \"s1\": 0.1445704500207585, \"cluster\": \"A\"}, {\"s0\": 1.9829225675169142, \"s1\": 1.101650518330624, \"cluster\": \"B\"}, {\"s0\": 0.43389676123422194, \"s1\": 0.3757081424268216, \"cluster\": \"A\"}, {\"s0\": 3.2911779911926438, \"s1\": 0.738492481058934, \"cluster\": \"B\"}, {\"s0\": 0.7230384231652421, \"s1\": 0.6637183327430282, \"cluster\": \"A\"}, {\"s0\": 1.4912810342662128, \"s1\": 1.2722325310029587, \"cluster\": \"B\"}, {\"s0\": 0.6908482904551694, \"s1\": 0.4530183638584146, \"cluster\": \"A\"}, {\"s0\": 1.9647071598772956, \"s1\": 0.773251367932347, \"cluster\": \"B\"}, {\"s0\": 0.4389567054751433, \"s1\": 0.16554210958877077, \"cluster\": \"A\"}, {\"s0\": 1.4344121979868754, \"s1\": 0.9572033227845803, \"cluster\": \"B\"}, {\"s0\": 0.6783913699062626, \"s1\": 0.4134857539549658, \"cluster\": \"A\"}, {\"s0\": 2.404978330205672, \"s1\": 0.5262016785416709, \"cluster\": \"B\"}, {\"s0\": 0.7513852360267278, \"s1\": 0.470952005309451, \"cluster\": \"A\"}, {\"s0\": 2.3485325835632147, \"s1\": 0.8363738208639417, \"cluster\": \"B\"}, {\"s0\": 0.5869348308638946, \"s1\": 0.45316336067047613, \"cluster\": \"A\"}, {\"s0\": 3.2324237371552877, \"s1\": 0.5314839139190777, \"cluster\": \"B\"}, {\"s0\": 0.7151406848580948, \"s1\": 0.4051595705381993, \"cluster\": \"A\"}, {\"s0\": 1.596029597594049, \"s1\": 0.9736960087846149, \"cluster\": \"B\"}, {\"s0\": 0.3121658062420991, \"s1\": 0.11489263445736506, \"cluster\": \"A\"}, {\"s0\": 3.3673879242065983, \"s1\": 0.4713066480446104, \"cluster\": \"B\"}, {\"s0\": 0.6284890397193482, \"s1\": 0.47360982350553904, \"cluster\": \"A\"}, {\"s0\": 2.0706694650729838, \"s1\": 0.777842217448485, \"cluster\": \"B\"}, {\"s0\": 0.6263076387037315, \"s1\": 0.572131548540353, \"cluster\": \"A\"}, {\"s0\": 1.5679040668054245, \"s1\": 0.9127644260591162, \"cluster\": \"B\"}, {\"s0\": 1.0078054662926446, \"s1\": 0.20522278592447435, \"cluster\": \"A\"}, {\"s0\": 1.5809825522897132, \"s1\": 1.0489849025108597, \"cluster\": \"B\"}, {\"s0\": 0.36956929854993714, \"s1\": 0.22996659545740578, \"cluster\": \"A\"}, {\"s0\": 5.257862392376929, \"s1\": 0.6098140004137058, \"cluster\": \"B\"}, {\"s0\": 0.2848716214152404, \"s1\": 0.12061596386403373, \"cluster\": \"A\"}, {\"s0\": 1.7907167034837779, \"s1\": 1.0282928074743625, \"cluster\": \"B\"}, {\"s0\": 0.6758056896549247, \"s1\": 0.2637833505105734, \"cluster\": \"A\"}, {\"s0\": 1.660553910279466, \"s1\": 0.8666628773113617, \"cluster\": \"B\"}, {\"s0\": 0.5678690349102482, \"s1\": 0.2358941228964343, \"cluster\": \"A\"}, {\"s0\": 1.6309671828047845, \"s1\": 0.7795731425969011, \"cluster\": \"B\"}, {\"s0\": 0.738768866154889, \"s1\": 0.39301807348934653, \"cluster\": \"A\"}, {\"s0\": 2.066547797891092, \"s1\": 0.9828975581862787, \"cluster\": \"B\"}, {\"s0\": 0.5086586147132721, \"s1\": 0.2999152294051813, \"cluster\": \"A\"}, {\"s0\": 1.4335386367524026, \"s1\": 0.9670925683102308, \"cluster\": \"B\"}, {\"s0\": 0.6797146339654756, \"s1\": 0.6347910762628008, \"cluster\": \"A\"}, {\"s0\": 1.4688123326936307, \"s1\": 1.0075394473554382, \"cluster\": \"B\"}, {\"s0\": 0.4896859463315208, \"s1\": 0.2662263835621963, \"cluster\": \"A\"}, {\"s0\": 1.8428585166561915, \"s1\": 1.1932187114899835, \"cluster\": \"B\"}, {\"s0\": 0.6569707017633735, \"s1\": 0.18837681425229186, \"cluster\": \"A\"}, {\"s0\": 1.606131539878336, \"s1\": 0.9315554308914296, \"cluster\": \"B\"}, {\"s0\": 0.6182786545981992, \"s1\": 0.20227026105534554, \"cluster\": \"A\"}, {\"s0\": 1.946252771275908, \"s1\": 0.8968291324239716, \"cluster\": \"B\"}, {\"s0\": 0.002256299770047601, \"s1\": 1.7475719154007547e-06, \"cluster\": \"A\"}, {\"s0\": 2.2710511407627947, \"s1\": 0.57886417572179, \"cluster\": \"B\"}, {\"s0\": 0.8168752907485868, \"s1\": 0.5796250712705423, \"cluster\": \"A\"}, {\"s0\": 1.5690895829454008, \"s1\": 1.2263109888716521, \"cluster\": \"B\"}, {\"s0\": 0.22205371759985823, \"s1\": 0.009793195561052062, \"cluster\": \"A\"}, {\"s0\": 2.2280161061750228, \"s1\": 1.090943102710071, \"cluster\": \"B\"}, {\"s0\": 0.5061700749006764, \"s1\": 0.5016706764036707, \"cluster\": \"A\"}, {\"s0\": 1.6305826566511257, \"s1\": 1.0173219839442986, \"cluster\": \"B\"}, {\"s0\": 0.6673478796216881, \"s1\": 0.5111215800858612, \"cluster\": \"A\"}, {\"s0\": 2.5363333928792873, \"s1\": 0.47292997897625183, \"cluster\": \"B\"}, {\"s0\": 0.4055974907265603, \"s1\": 0.20255370483740168, \"cluster\": \"A\"}, {\"s0\": 1.3144684553489356, \"s1\": 1.1305822849571934, \"cluster\": \"B\"}, {\"s0\": 0.676899028609744, \"s1\": 0.5283794722003805, \"cluster\": \"A\"}, {\"s0\": 1.1787965115405135, \"s1\": 0.9753500388393918, \"cluster\": \"B\"}, {\"s0\": 0.3082325749464305, \"s1\": 0.061159029337002103, \"cluster\": \"A\"}, {\"s0\": 1.34460154175864, \"s1\": 0.9712907149246088, \"cluster\": \"B\"}, {\"s0\": 0.8686389346346644, \"s1\": 0.4306218154001674, \"cluster\": \"A\"}, {\"s0\": 2.7865388026349134, \"s1\": 0.8405965799361366, \"cluster\": \"B\"}, {\"s0\": 0.6705070116198125, \"s1\": 0.28508824335997307, \"cluster\": \"A\"}, {\"s0\": 2.895563838681658, \"s1\": 0.5218877787692376, \"cluster\": \"B\"}, {\"s0\": 0.662064003299453, \"s1\": 0.5290686411731145, \"cluster\": \"A\"}, {\"s0\": 2.238505036960982, \"s1\": 0.6033430720142652, \"cluster\": \"B\"}, {\"s0\": 0.43751478384541803, \"s1\": 0.09384270725993649, \"cluster\": \"A\"}, {\"s0\": 1.830558901429523, \"s1\": 1.1840762733767225, \"cluster\": \"B\"}, {\"s0\": 0.49039665502812774, \"s1\": 0.07484009947367999, \"cluster\": \"A\"}, {\"s0\": 1.5382879156107496, \"s1\": 0.7735343660176149, \"cluster\": \"B\"}, {\"s0\": 0.5376021528079258, \"s1\": 0.24849801140326905, \"cluster\": \"A\"}, {\"s0\": 3.6969890336212465, \"s1\": 0.49974712630020574, \"cluster\": \"B\"}, {\"s0\": 0.6989069676966666, \"s1\": 0.37398239699782726, \"cluster\": \"A\"}, {\"s0\": 1.613367116006168, \"s1\": 1.163852277139092, \"cluster\": \"B\"}, {\"s0\": 0.5934456833708711, \"s1\": 0.2938017266897265, \"cluster\": \"A\"}, {\"s0\": 2.5294884157672897, \"s1\": 0.6738146998818505, \"cluster\": \"B\"}, {\"s0\": 0.4795959488044489, \"s1\": 0.103234958291884, \"cluster\": \"A\"}, {\"s0\": 2.867305008476328, \"s1\": 0.545562197686441, \"cluster\": \"B\"}, {\"s0\": 0.08511697134425561, \"s1\": 0.007628544967536762, \"cluster\": \"A\"}, {\"s0\": 5.61508170009909, \"s1\": 0.6437227137388957, \"cluster\": \"B\"}, {\"s0\": 0.5809161322030033, \"s1\": 0.10810410213952142, \"cluster\": \"A\"}, {\"s0\": 2.189166168097559, \"s1\": 0.8849306233108077, \"cluster\": \"B\"}, {\"s0\": 0.5922950084835934, \"s1\": 0.0781193063145516, \"cluster\": \"A\"}, {\"s0\": 3.0360890627401336, \"s1\": 0.7387668700140243, \"cluster\": \"B\"}, {\"s0\": 0.9562511980109153, \"s1\": 0.7354807819129964, \"cluster\": \"A\"}, {\"s0\": 3.3485035489488615, \"s1\": 0.5679340418044668, \"cluster\": \"B\"}, {\"s0\": 0.10806541033916996, \"s1\": 0.01089440643886082, \"cluster\": \"A\"}, {\"s0\": 2.156978613847305, \"s1\": 0.843905245002809, \"cluster\": \"B\"}, {\"s0\": 0.5108610718192752, \"s1\": 0.1715480833790717, \"cluster\": \"A\"}, {\"s0\": 1.506416268398355, \"s1\": 1.0190252356946956, \"cluster\": \"B\"}, {\"s0\": 0.3117899827328708, \"s1\": 0.057057107348316906, \"cluster\": \"A\"}, {\"s0\": 1.5479856617171084, \"s1\": 1.0193184448875294, \"cluster\": \"B\"}, {\"s0\": 0.6012019492434726, \"s1\": 0.4901041486558549, \"cluster\": \"A\"}, {\"s0\": 1.4164392190767288, \"s1\": 1.1178364485415708, \"cluster\": \"B\"}, {\"s0\": 0.6882786481863196, \"s1\": 0.5867047095368277, \"cluster\": \"A\"}, {\"s0\": 2.100276607757968, \"s1\": 0.8226444812077275, \"cluster\": \"B\"}, {\"s0\": 0.7656093812897726, \"s1\": 0.5904077702140345, \"cluster\": \"A\"}, {\"s0\": 2.2979150089658016, \"s1\": 0.6063046109094805, \"cluster\": \"B\"}, {\"s0\": 0.62495587965668, \"s1\": 0.47536248104404166, \"cluster\": \"A\"}, {\"s0\": 1.615753634630554, \"s1\": 1.1611039759151398, \"cluster\": \"B\"}, {\"s0\": 0.8226090986239779, \"s1\": 0.5510466760103471, \"cluster\": \"A\"}, {\"s0\": 1.578773273906101, \"s1\": 1.363415615434212, \"cluster\": \"B\"}, {\"s0\": 0.4597744783263546, \"s1\": 0.05747113657941476, \"cluster\": \"A\"}, {\"s0\": 2.8472712127347535, \"s1\": 0.5931300052638664, \"cluster\": \"B\"}, {\"s0\": 0.29067013974347633, \"s1\": 0.20472990594216448, \"cluster\": \"A\"}, {\"s0\": 1.4914079793926396, \"s1\": 1.2793869383518777, \"cluster\": \"B\"}, {\"s0\": 0.6415500192693051, \"s1\": 0.4301658268774382, \"cluster\": \"A\"}, {\"s0\": 1.5751609675959888, \"s1\": 0.6605562605106295, \"cluster\": \"B\"}, {\"s0\": 0.6170691697179154, \"s1\": 0.09760422952984625, \"cluster\": \"A\"}, {\"s0\": 4.323763871962788, \"s1\": 0.7944424178346252, \"cluster\": \"B\"}, {\"s0\": 0.6186714398635528, \"s1\": 0.4740953046679401, \"cluster\": \"A\"}, {\"s0\": 2.6881952982331905, \"s1\": 0.506332935215634, \"cluster\": \"B\"}, {\"s0\": 0.5321377494986558, \"s1\": 0.0915967386534844, \"cluster\": \"A\"}, {\"s0\": 1.766858453442494, \"s1\": 0.8464352374874563, \"cluster\": \"B\"}, {\"s0\": 0.3143453991599057, \"s1\": 0.13853126292439957, \"cluster\": \"A\"}, {\"s0\": 1.717141955785919, \"s1\": 1.0277103721748264, \"cluster\": \"B\"}, {\"s0\": 0.6995033692068392, \"s1\": 0.5899645016928308, \"cluster\": \"A\"}, {\"s0\": 1.621264015053562, \"s1\": 1.008096439333318, \"cluster\": \"B\"}, {\"s0\": 0.285143618980801, \"s1\": 0.0074041015419863635, \"cluster\": \"A\"}, {\"s0\": 3.5272808939959552, \"s1\": 0.9972407917820149, \"cluster\": \"B\"}, {\"s0\": 0.8073184833911522, \"s1\": 0.5819377185573066, \"cluster\": \"A\"}, {\"s0\": 1.7499721894942002, \"s1\": 0.920993117036282, \"cluster\": \"B\"}, {\"s0\": 0.3906126651574581, \"s1\": 0.11686944327747979, \"cluster\": \"A\"}, {\"s0\": 1.838569505642249, \"s1\": 0.9951434551581132, \"cluster\": \"B\"}, {\"s0\": 0.7653810975315685, \"s1\": 0.5951602583412553, \"cluster\": \"A\"}, {\"s0\": 1.7958938351479987, \"s1\": 0.892773596641015, \"cluster\": \"B\"}, {\"s0\": 0.5131204741457929, \"s1\": 0.3784592650699326, \"cluster\": \"A\"}, {\"s0\": 2.783998456275368, \"s1\": 0.7839215990576209, \"cluster\": \"B\"}, {\"s0\": 0.4907617629570869, \"s1\": 0.3374489225660867, \"cluster\": \"A\"}, {\"s0\": 2.413747121859684, \"s1\": 0.6800644957519525, \"cluster\": \"B\"}, {\"s0\": 0.8195494654441082, \"s1\": 0.642095665487884, \"cluster\": \"A\"}, {\"s0\": 2.8048754928493747, \"s1\": 0.7589907593705248, \"cluster\": \"B\"}, {\"s0\": 0.40178818301288843, \"s1\": 0.05331182682481574, \"cluster\": \"A\"}, {\"s0\": 1.5272681388958973, \"s1\": 1.1960834412874815, \"cluster\": \"B\"}, {\"s0\": 0.744203210170707, \"s1\": 0.41896687726493004, \"cluster\": \"A\"}, {\"s0\": 2.6146033457822586, \"s1\": 0.7748444406596295, \"cluster\": \"B\"}, {\"s0\": 0.2971610305245573, \"s1\": 0.1259502528665773, \"cluster\": \"A\"}, {\"s0\": 2.756543663364666, \"s1\": 0.7324192560512054, \"cluster\": \"B\"}, {\"s0\": 0.518745008277365, \"s1\": 0.41416116395951935, \"cluster\": \"A\"}, {\"s0\": 2.0028952224802365, \"s1\": 1.0597268671765059, \"cluster\": \"B\"}, {\"s0\": 0.9707000072434657, \"s1\": 0.5182873809123882, \"cluster\": \"A\"}, {\"s0\": 3.2175861180027066, \"s1\": 0.9471720148994227, \"cluster\": \"B\"}, {\"s0\": 0.5744962353745251, \"s1\": 0.20106443867674742, \"cluster\": \"A\"}, {\"s0\": 1.5472286890788751, \"s1\": 1.3043579063506092, \"cluster\": \"B\"}, {\"s0\": 0.40187033836913166, \"s1\": 0.1984158466224463, \"cluster\": \"A\"}, {\"s0\": 2.6257653376477936, \"s1\": 0.7555459831815162, \"cluster\": \"B\"}, {\"s0\": 0.8039327213721583, \"s1\": 0.5537924580236789, \"cluster\": \"A\"}, {\"s0\": 2.5504403835438896, \"s1\": 0.5533218343163939, \"cluster\": \"B\"}, {\"s0\": 0.7108757465482414, \"s1\": 0.506234624114395, \"cluster\": \"A\"}, {\"s0\": 2.2463194964251656, \"s1\": 0.7403527566765774, \"cluster\": \"B\"}, {\"s0\": 0.604610878552019, \"s1\": 0.24424359784527347, \"cluster\": \"A\"}, {\"s0\": 2.9172281202196113, \"s1\": 0.4908384088861789, \"cluster\": \"B\"}, {\"s0\": 0.23638262602678675, \"s1\": 0.009142920753145772, \"cluster\": \"A\"}, {\"s0\": 1.8354772332066762, \"s1\": 1.240143744515272, \"cluster\": \"B\"}, {\"s0\": 0.6595878008897795, \"s1\": 0.5977737279585728, \"cluster\": \"A\"}, {\"s0\": 2.0429016020458866, \"s1\": 0.7125883417338243, \"cluster\": \"B\"}, {\"s0\": 0.47815146568397005, \"s1\": 0.22609622619985836, \"cluster\": \"A\"}, {\"s0\": 1.6209411073132507, \"s1\": 1.1231063657993043, \"cluster\": \"B\"}, {\"s0\": 0.8577672339795975, \"s1\": 0.5951328404396552, \"cluster\": \"A\"}, {\"s0\": 1.7413812821975032, \"s1\": 1.1468092013603017, \"cluster\": \"B\"}, {\"s0\": 0.6983874686209037, \"s1\": 0.4780332583049746, \"cluster\": \"A\"}, {\"s0\": 2.919173283881669, \"s1\": 0.5742846372930013, \"cluster\": \"B\"}, {\"s0\": 0.6199716832000662, \"s1\": 0.4497591056686591, \"cluster\": \"A\"}, {\"s0\": 2.3563913436587156, \"s1\": 0.6363078299213901, \"cluster\": \"B\"}], \"data-24d1c67a8fbe6f5f6dcb6c177fdf0d78\": [{\"s0\": 1, \"s1\": 1}]}}, {\"mode\": \"vega-lite\"});\n",
       "</script>"
      ],
      "text/plain": [
       "alt.LayerChart(...)"
      ]
     },
     "execution_count": 8,
     "metadata": {},
     "output_type": "execute_result"
    }
   ],
   "source": [
    "from distortions.visualization import eigenvalue_plot\n",
    "\n",
    "lambda_plot = eigenvalue_plot(Hs, embedding[\"cluster\"])\\\n",
    "    .configure_axis(labelFontSize=12, titleFontSize=22)\\\n",
    "    .configure_range(category=[\"#40e0d0\", \"#ff9d06\"])\n",
    "\n",
    "#lambda_plot.save(\"two_clusters_lambda.svg\")\n",
    "lambda_plot"
   ]
  },
  {
   "cell_type": "markdown",
   "id": "0a609af9",
   "metadata": {},
   "source": [
    "## Interactive Visualizations"
   ]
  },
  {
   "cell_type": "markdown",
   "id": "ef4826ab",
   "metadata": {},
   "source": [
    "Even the static ellipse visualizations are giving us a sense of the differences between these two clusters (a difference that would've been invisible if we had relied on the UMAP alone). We can go a little bit further via applying some interactivity. These interactive visualizations will allow us to dig into a little bit more detail around the current mouse interactions than we could show in the static views alone (This approach is inspired by the focus plus context principle in data visualization)."
   ]
  },
  {
   "cell_type": "markdown",
   "id": "cfd70299",
   "metadata": {},
   "source": [
    "First, let's look for the fragmented neighborhoods. These are the points that have a large fraction of their close neighbors that are far away from them in the embedding space. Unsurprisingly many of these points lie on the boundary between the two clusters. This is consistent with what we know about the original data. The two clusters are actually adjacent to one another, even though in this UMAP they're shown very clearly separated. One of the orange neighborhoods is considered fragmented, even though most of its neighbors are in the orange cluster. The issue with this point seems to be that it's neighbors are on different sides of the cluster. "
   ]
  },
  {
   "cell_type": "code",
   "execution_count": 9,
   "id": "87a161ed",
   "metadata": {},
   "outputs": [
    {
     "data": {
      "application/vnd.jupyter.widget-view+json": {
       "model_id": "e88f03f5ea124efeab6e1266bda194ca",
       "version_major": 2,
       "version_minor": 1
      },
      "text/plain": [
       "dplot(dataset=[{'embedding_0': -7.3624162673950195, 'embedding_1': 5.324365139007568, 'x0': -0.061769458747554…"
      ]
     },
     "execution_count": 9,
     "metadata": {},
     "output_type": "execute_result"
    }
   ],
   "source": [
    "from distortions.geometry import neighborhoods\n",
    "\n",
    "N = neighborhoods(adata, threshold=0.1, outlier_factor=3)\n",
    "plots[\"two_clusters_links\"] = dplot(embedding, width=450, height=350, labelFontSize=14)\\\n",
    "    .mapping(x=\"embedding_0\", y=\"embedding_1\", color=\"cluster\")\\\n",
    "    .inter_edge_link(N=N, threshold=1, backgroundOpacity=0.8)\\\n",
    "    .scale_color(scheme=[\"turquoise\", \"orange\"])\\\n",
    "    .geom_ellipse(radiusMax=10, radiusMin=1)\\\n",
    "    .labs(x = \"UMAP1\", y = \"UMAP2\")\n",
    "plots[\"two_clusters_links\"]"
   ]
  },
  {
   "cell_type": "markdown",
   "id": "3c96b9e6",
   "metadata": {},
   "source": [
    "![](https://raw.githubusercontent.com/krisrs1128/distortions-data/main/figures/two_cluster_links.gif)"
   ]
  },
  {
   "cell_type": "markdown",
   "id": "b06ae60a",
   "metadata": {},
   "source": [
    "Next, we can make the isometry visualization. On the hosted notebook, you will only be able to see the recording that we've made below, but if you're running this locally, you should be able to hover over points and see the plot respond. The main point here is that when you hover over the blue cluster, it gets larger while if you hover over the orange cluster it slightly shrinks. The magnitude of the correction isn't enough to compensate for the extreme difference in variances that we see in the original data, but the estimated effects are at least in the right direction. It's worth keeping in mind that even the distortion estimates we have our estimates -- they have to be learned from data. Like in this example, we might have an indication that there is a difference in density without being able to precisely estimate its magnitude."
   ]
  },
  {
   "cell_type": "code",
   "execution_count": 10,
   "id": "79ccf582",
   "metadata": {},
   "outputs": [
    {
     "data": {
      "application/vnd.jupyter.widget-view+json": {
       "model_id": "6789a18e88ba49c388d3f05619821248",
       "version_major": 2,
       "version_minor": 1
      },
      "text/plain": [
       "dplot(dataset=[{'embedding_0': -7.3624162673950195, 'embedding_1': 5.324365139007568, 'x0': -0.061769458747554…"
      ]
     },
     "execution_count": 10,
     "metadata": {},
     "output_type": "execute_result"
    }
   ],
   "source": [
    "metrics = {k: H[k] for k in range(len(H))}\n",
    "plots[\"two_clusters_isometry\"] = dplot(embedding, width=450, height=350, labelFontSize=14)\\\n",
    "    .mapping(x=\"embedding_0\", y=\"embedding_1\", color=\"cluster\")\\\n",
    "    .geom_ellipse(radiusMin=1, radiusMax=10)\\\n",
    "    .inter_isometry(metrics=metrics, metric_bw=1, transformation_bw=.1, stroke=\"#f7f7f7\")\\\n",
    "    .scale_color(scheme=[\"turquoise\", \"orange\"])\\\n",
    "    .scale_size()\\\n",
    "    .labs(x=\"UMAP1\", y=\"UMAP2\")\n",
    "plots[\"two_clusters_isometry\"]"
   ]
  },
  {
   "cell_type": "markdown",
   "id": "87124494",
   "metadata": {},
   "source": [
    "![](https://raw.githubusercontent.com/krisrs1128/distortions-data/main/figures/two_cluster_isometry.gif)"
   ]
  },
  {
   "cell_type": "markdown",
   "id": "4fe01662",
   "metadata": {},
   "source": [
    "To understand what exactly this visualization is doing, let's analyze the kernels. There are two types of similarity that are used by the isometry visualization. The first type decides which point should contribute in estimating the local metric around the mouse position. That's what we're showing in the plot below. The width of the points that are considered can be controlled by changing the `metric_bw` parameter -- smaller values will allow more points to contribute. "
   ]
  },
  {
   "cell_type": "code",
   "execution_count": 11,
   "id": "2fc14767",
   "metadata": {},
   "outputs": [
    {
     "data": {
      "application/vnd.jupyter.widget-view+json": {
       "model_id": "fc681f39c09147fbb03a4ba8e0df5ae0",
       "version_major": 2,
       "version_minor": 1
      },
      "text/plain": [
       "dplot(dataset=[{'embedding_0': -7.3624162673950195, 'embedding_1': 5.324365139007568, 'x0': -0.061769458747554…"
      ]
     },
     "execution_count": 11,
     "metadata": {},
     "output_type": "execute_result"
    }
   ],
   "source": [
    "plots[\"two_clusters_metric\"] = dplot(embedding, width=450, height=350, labelFontSize=14)\\\n",
    "    .mapping(x=\"embedding_0\", y=\"embedding_1\", color=\"kernel_metric\")\\\n",
    "    .geom_ellipse(radiusMin=1, radiusMax=10)\\\n",
    "    .inter_isometry(metrics=metrics, metric_bw=1, transformation_bw=.1, stroke=\"#f7f7f7\")\\\n",
    "    .scale_color(scheme=[\"turquoise\", \"orange\"])\\\n",
    "    .scale_size()\\\n",
    "    .labs(x=\"UMAP1\", y=\"UMAP2\")\n",
    "plots[\"two_clusters_metric\"]"
   ]
  },
  {
   "cell_type": "markdown",
   "id": "00abf401",
   "metadata": {},
   "source": [
    "![](https://raw.githubusercontent.com/krisrs1128/distortions-data/main/figures/two_cluster_isometry_k1.gif)"
   ]
  },
  {
   "cell_type": "markdown",
   "id": "d8d1832e",
   "metadata": {},
   "source": [
    "The second kind of kernel controls the region of points that are transformed after each interaction. We've included this because in more complicated em beddings, we may only want to update the region around the mouse position. We've chosen the kernel bandwidth here so that when hovering over one cluster, the other cluster won't be moved to so dramatically. You can change the transformation_bw parameter to adjust how responsive the entire plot is to any localized mousemove."
   ]
  },
  {
   "cell_type": "code",
   "execution_count": 12,
   "id": "17c95002",
   "metadata": {},
   "outputs": [
    {
     "data": {
      "application/vnd.jupyter.widget-view+json": {
       "model_id": "8dc4d0151d5c4275bb9655d62a417044",
       "version_major": 2,
       "version_minor": 1
      },
      "text/plain": [
       "dplot(dataset=[{'embedding_0': -7.3624162673950195, 'embedding_1': 5.324365139007568, 'x0': -0.061769458747554…"
      ]
     },
     "execution_count": 12,
     "metadata": {},
     "output_type": "execute_result"
    }
   ],
   "source": [
    "plots[\"two_clusters_transform\"] = dplot(embedding, width=450, height=350, labelFontSize=14)\\\n",
    "    .mapping(x=\"embedding_0\", y=\"embedding_1\", color=\"kernel_transform\")\\\n",
    "    .geom_ellipse(radiusMin=1, radiusMax=10)\\\n",
    "    .inter_isometry(metrics=metrics, metric_bw=1, transformation_bw=.1, stroke=\"#f7f7f7\")\\\n",
    "    .scale_color(scheme=[\"turquoise\", \"orange\"])\\\n",
    "    .scale_size()\\\n",
    "    .labs(x=\"UMAP1\", y=\"UMAP2\")\n",
    "plots[\"two_clusters_transform\"]"
   ]
  },
  {
   "cell_type": "markdown",
   "id": "df132ebe",
   "metadata": {},
   "source": [
    "![](https://raw.githubusercontent.com/krisrs1128/distortions-data/main/figures/two_cluster_isometry_k2.gif)"
   ]
  },
  {
   "cell_type": "code",
   "execution_count": 13,
   "id": "b4db74f1",
   "metadata": {},
   "outputs": [],
   "source": [
    "#[p.save(f\"../paper/figures/{k}.svg\") for k, p in plots.items()]"
   ]
  },
  {
   "cell_type": "code",
   "execution_count": 14,
   "id": "acf33c60",
   "metadata": {},
   "outputs": [
    {
     "data": {
      "application/vnd.jupyter.widget-view+json": {
       "model_id": "bf6c2210dc1544aebcb6c1f9d2a6ef22",
       "version_major": 2,
       "version_minor": 1
      },
      "text/plain": [
       "dplot(dataset=[{'x': -10.53549603766011, 'y': -1.8629896720824943, 'cluster': 'A', 's0': 1, 's1': 1}, {'x': 29…"
      ]
     },
     "metadata": {},
     "output_type": "display_data"
    },
    {
     "data": {
      "application/vnd.jupyter.widget-view+json": {
       "model_id": "49c50458ec604dfc8f77c38db23d3cfe",
       "version_major": 2,
       "version_minor": 1
      },
      "text/plain": [
       "dplot(dataset=[{'x': -7.3624162673950195, 'y': 5.324365139007568, 's0': 1, 's1': 1, 'cluster': 'A'}, {'x': 6.1…"
      ]
     },
     "metadata": {},
     "output_type": "display_data"
    },
    {
     "data": {
      "application/vnd.jupyter.widget-view+json": {
       "model_id": "e88f03f5ea124efeab6e1266bda194ca",
       "version_major": 2,
       "version_minor": 1
      },
      "text/plain": [
       "dplot(dataset=[{'embedding_0': -7.3624162673950195, 'embedding_1': 5.324365139007568, 'x0': -0.061769458747554…"
      ]
     },
     "metadata": {},
     "output_type": "display_data"
    },
    {
     "data": {
      "application/vnd.jupyter.widget-view+json": {
       "model_id": "6789a18e88ba49c388d3f05619821248",
       "version_major": 2,
       "version_minor": 1
      },
      "text/plain": [
       "dplot(dataset=[{'embedding_0': -7.3624162673950195, 'embedding_1': 5.324365139007568, 'x0': -0.061769458747554…"
      ]
     },
     "metadata": {},
     "output_type": "display_data"
    },
    {
     "data": {
      "application/vnd.jupyter.widget-view+json": {
       "model_id": "fc681f39c09147fbb03a4ba8e0df5ae0",
       "version_major": 2,
       "version_minor": 1
      },
      "text/plain": [
       "dplot(dataset=[{'embedding_0': -7.3624162673950195, 'embedding_1': 5.324365139007568, 'x0': -0.061769458747554…"
      ]
     },
     "metadata": {},
     "output_type": "display_data"
    },
    {
     "data": {
      "application/vnd.jupyter.widget-view+json": {
       "model_id": "8dc4d0151d5c4275bb9655d62a417044",
       "version_major": 2,
       "version_minor": 1
      },
      "text/plain": [
       "dplot(dataset=[{'embedding_0': -7.3624162673950195, 'embedding_1': 5.324365139007568, 'x0': -0.061769458747554…"
      ]
     },
     "metadata": {},
     "output_type": "display_data"
    },
    {
     "data": {
      "text/plain": [
       "[None, None, None, None, None, None]"
      ]
     },
     "execution_count": 14,
     "metadata": {},
     "output_type": "execute_result"
    }
   ],
   "source": [
    "[display(p) for p in plots.values()]"
   ]
  },
  {
   "cell_type": "code",
   "execution_count": null,
   "id": "9bddf297",
   "metadata": {},
   "outputs": [],
   "source": []
  }
 ],
 "metadata": {
  "kernelspec": {
   "display_name": "dist2",
   "language": "python",
   "name": "python3"
  },
  "language_info": {
   "codemirror_mode": {
    "name": "ipython",
    "version": 3
   },
   "file_extension": ".py",
   "mimetype": "text/x-python",
   "name": "python",
   "nbconvert_exporter": "python",
   "pygments_lexer": "ipython3",
   "version": "3.12.2"
  }
 },
 "nbformat": 4,
 "nbformat_minor": 5
}
