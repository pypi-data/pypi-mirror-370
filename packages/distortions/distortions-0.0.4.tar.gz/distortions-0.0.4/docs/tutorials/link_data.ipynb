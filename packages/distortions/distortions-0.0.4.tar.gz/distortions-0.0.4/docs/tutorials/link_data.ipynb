{
 "cells": [
  {
   "cell_type": "code",
   "execution_count": 1,
   "id": "a186b1a7",
   "metadata": {},
   "outputs": [],
   "source": [
    "import numpy as np\n",
    "import pandas as pd\n",
    "from distortions.geometry import Geometry, bind_metric, local_distortions"
   ]
  },
  {
   "cell_type": "code",
   "execution_count": 2,
   "id": "8de443c0",
   "metadata": {},
   "outputs": [],
   "source": [
    "import math\n",
    "    \n",
    "def rotate(x, y, z):\n",
    "    u = x\n",
    "    cos_val = math.cos(0.4)\n",
    "    sin_val = math.sin(0.4)\n",
    "    v = cos_val * y + sin_val * z\n",
    "    w = -sin_val * y + cos_val * z\n",
    "    return [u, v, w]\n",
    "\n",
    "def link_data(n, offset=1):\n",
    "    \"\"\"\n",
    "    https://github.com/kevinrobinson/umap-playground/blob/master/public/assets/demo-datas.js#L311\n",
    "    \"\"\"\n",
    "    points = []\n",
    "    for i in range(n):\n",
    "        t = 2 * math.pi * i / n\n",
    "        sin_t = math.sin(t)\n",
    "        cos_t = math.cos(t)\n",
    "        points.append(rotate(cos_t, sin_t, 0))\n",
    "        points.append(rotate(offset + cos_t, 0, sin_t))\n",
    "    \n",
    "    return np.array(points)"
   ]
  },
  {
   "cell_type": "code",
   "execution_count": 3,
   "id": "9a2ce388",
   "metadata": {},
   "outputs": [],
   "source": [
    "from anndata import AnnData\n",
    "import scanpy as sc\n",
    "\n",
    "M = 100\n",
    "n_neighbors = 50\n",
    "data = link_data(M)\n",
    "\n",
    "adata = AnnData(X=data, obs=pd.DataFrame(range(2 * M)))\n",
    "sc.pp.neighbors(adata, n_neighbors=50)\n",
    "sc.tl.umap(adata)\n",
    "embedding = adata.obsm[\"X_umap\"].copy()"
   ]
  },
  {
   "cell_type": "code",
   "execution_count": 4,
   "id": "a08c3be5",
   "metadata": {},
   "outputs": [],
   "source": [
    "radius = 3 * np.mean(adata.obsp[\"distances\"].data)\n",
    "geom = Geometry(\"brute\", laplacian_method=\"geometric\", affinity_kwds={\"radius\": radius}, adjacency_kwds={\"n_neighbors\": n_neighbors}, laplacian_kwds={\"scaling_epps\": 5})\n",
    "H, Hvv, Hs = local_distortions(embedding, data, geom)\n",
    "embedding = bind_metric(embedding, Hvv, Hs)\n",
    "embedding[\"x_orig\"] = data[:, 0]"
   ]
  },
  {
   "cell_type": "code",
   "execution_count": 5,
   "id": "cba08937",
   "metadata": {},
   "outputs": [
    {
     "data": {
      "application/vnd.jupyter.widget-view+json": {
       "model_id": "ae070fa8e54f4dc19c2c4ce2f3ceac29",
       "version_major": 2,
       "version_minor": 1
      },
      "text/plain": [
       "dplot(dataset=[{'embedding_0': 9.539716720581055, 'embedding_1': 3.1580326557159424, 'x0': -0.8638632514305921…"
      ]
     },
     "execution_count": 5,
     "metadata": {},
     "output_type": "execute_result"
    }
   ],
   "source": [
    "from distortions.geometry import neighborhoods\n",
    "from distortions.visualization import dplot\n",
    "\n",
    "N = neighborhoods(adata, threshold=0.01, outlier_factor=2)\n",
    "dplot(embedding, width=900, height=500)\\\n",
    "    .mapping(x=\"embedding_0\", y=\"embedding_1\", color=\"x_orig\")\\\n",
    "    .inter_edge_link(N=N, threshold=1)\\\n",
    "    .geom_ellipse()\\\n",
    "    .scale_color()"
   ]
  },
  {
   "cell_type": "code",
   "execution_count": 6,
   "id": "e5193418",
   "metadata": {},
   "outputs": [],
   "source": [
    "plots = []\n",
    "for offset in np.linspace(0.5, 2.5, 5):\n",
    "\n",
    "    data = link_data(M, offset=offset)\n",
    "    adata = AnnData(X=data, obs=pd.DataFrame(range(2 * M)))\n",
    "    sc.pp.neighbors(adata, n_neighbors=50)\n",
    "    sc.tl.umap(adata)\n",
    "    embedding = adata.obsm[\"X_umap\"].copy()\n",
    "\n",
    "    H, Hvv, Hs = local_distortions(embedding, data, geom)\n",
    "    embedding = bind_metric(embedding, Hvv, Hs)\n",
    "    embedding[\"x_orig\"] = data[:, 0]\n",
    "\n",
    "    N = neighborhoods(adata, threshold=0.2, outlier_factor=2)\n",
    "    metrics = {k: H[k] for k in range(len(H))}\n",
    "    plots += [dplot(embedding, width=400, height=400)\\\n",
    "        .mapping(x=\"embedding_0\", y=\"embedding_1\", color=\"x_orig\")\\\n",
    "        .geom_ellipse()\\\n",
    "        .inter_edge_link(N=N, threshold=1)\\\n",
    "        .labs(title=f\"{offset} Units Apart\")\\\n",
    "        .scale_color()]"
   ]
  },
  {
   "cell_type": "code",
   "execution_count": 7,
   "id": "8a68bfe3",
   "metadata": {},
   "outputs": [
    {
     "data": {
      "application/vnd.jupyter.widget-view+json": {
       "model_id": "47746b80431a4979a240c3a11f53dec5",
       "version_major": 2,
       "version_minor": 1
      },
      "text/plain": [
       "dplot(dataset=[{'embedding_0': 3.289219617843628, 'embedding_1': 13.244303703308105, 'x0': -0.6242006037121905…"
      ]
     },
     "metadata": {},
     "output_type": "display_data"
    },
    {
     "data": {
      "application/vnd.jupyter.widget-view+json": {
       "model_id": "018291ee1b1741dda21afd35c2d0892c",
       "version_major": 2,
       "version_minor": 1
      },
      "text/plain": [
       "dplot(dataset=[{'embedding_0': 9.539716720581055, 'embedding_1': 3.1580326557159424, 'x0': -0.8638632514305921…"
      ]
     },
     "metadata": {},
     "output_type": "display_data"
    },
    {
     "data": {
      "application/vnd.jupyter.widget-view+json": {
       "model_id": "16a12047fda34cfc9117d193670b246f",
       "version_major": 2,
       "version_minor": 1
      },
      "text/plain": [
       "dplot(dataset=[{'embedding_0': 12.08263111114502, 'embedding_1': 9.085368156433105, 'x0': -0.4536952649302679,…"
      ]
     },
     "metadata": {},
     "output_type": "display_data"
    },
    {
     "data": {
      "application/vnd.jupyter.widget-view+json": {
       "model_id": "1dfa516008544ae885f291a60c528f66",
       "version_major": 2,
       "version_minor": 1
      },
      "text/plain": [
       "dplot(dataset=[{'embedding_0': 0.22946549952030182, 'embedding_1': 0.14115360379219055, 'x0': -0.5723637280364…"
      ]
     },
     "metadata": {},
     "output_type": "display_data"
    },
    {
     "data": {
      "application/vnd.jupyter.widget-view+json": {
       "model_id": "ba53606259c7431986fd9b7b2596e938",
       "version_major": 2,
       "version_minor": 1
      },
      "text/plain": [
       "dplot(dataset=[{'embedding_0': 7.340658664703369, 'embedding_1': 4.244654655456543, 'x0': -0.8520414657269931,…"
      ]
     },
     "metadata": {},
     "output_type": "display_data"
    },
    {
     "data": {
      "text/plain": [
       "[None, None, None, None, None]"
      ]
     },
     "execution_count": 7,
     "metadata": {},
     "output_type": "execute_result"
    }
   ],
   "source": [
    "[display(p) for p in plots]"
   ]
  }
 ],
 "metadata": {
  "kernelspec": {
   "display_name": "dist2",
   "language": "python",
   "name": "python3"
  },
  "language_info": {
   "codemirror_mode": {
    "name": "ipython",
    "version": 3
   },
   "file_extension": ".py",
   "mimetype": "text/x-python",
   "name": "python",
   "nbconvert_exporter": "python",
   "pygments_lexer": "ipython3",
   "version": "3.12.2"
  }
 },
 "nbformat": 4,
 "nbformat_minor": 5
}
