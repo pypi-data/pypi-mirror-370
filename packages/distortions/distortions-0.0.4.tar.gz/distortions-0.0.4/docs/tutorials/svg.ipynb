{
 "cells": [
  {
   "cell_type": "code",
   "execution_count": null,
   "id": "b54b4945",
   "metadata": {},
   "outputs": [],
   "source": [
    "import numpy as np\n",
    "import pandas as pd\n",
    "from distortions.geometry import Geometry, bind_metric, local_distortions\n"
   ]
  }
 ],
 "metadata": {
  "language_info": {
   "name": "python"
  }
 },
 "nbformat": 4,
 "nbformat_minor": 5
}
