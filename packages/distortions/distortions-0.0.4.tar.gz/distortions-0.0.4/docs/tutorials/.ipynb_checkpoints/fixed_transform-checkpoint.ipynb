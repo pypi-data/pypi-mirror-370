{
 "cells": [
  {
   "cell_type": "code",
   "execution_count": 1,
   "id": "e97898f7",
   "metadata": {},
   "outputs": [],
   "source": [
    "import random\n",
    "import numpy as np\n",
    "import pandas as pd\n",
    "random.seed(20250409)\n",
    "\n",
    "N = 500\n",
    "u = np.random.uniform(0, 1, (N, 2))\n",
    "u_df = pd.DataFrame(u, columns=['x', 'y'])"
   ]
  },
  {
   "cell_type": "code",
   "execution_count": 2,
   "id": "42dbf2f2",
   "metadata": {},
   "outputs": [],
   "source": [
    "from distortions.geometry import bind_metric\n",
    "from distortions.visualization import dplot\n",
    "\n",
    "def plot_transformation(f, H, Hvv, Hs, transformation_bw=2, metric_bw=20, width=450, height=450, radiusMin=1, radiusMax=10):\n",
    "    combined_df = bind_metric(f, Hvv, Hs)\n",
    "    combined_df[\"id\"] = combined_df.index\n",
    "\n",
    "    f_df = pd.DataFrame(f, columns=['x', 'y'])\n",
    "    embed_dict = {}\n",
    "    for n in range(len(f_df)):\n",
    "        embed_dict[n] = f_df.iloc[n, :]\n",
    "        embed_dict[n][\"id\"] = n\n",
    "\n",
    "    h_dict = {k: H[k] for k in range(len(H))}\n",
    "    return dplot(combined_df, width=width, height=height, labelFontSize=14)\\\n",
    "        .mapping(x=\"embedding_0\", y=\"embedding_1\")\\\n",
    "        .geom_ellipse(radiusMin=radiusMin, radiusMax=radiusMax, opacity=0.8)\\\n",
    "        .inter_isometry(metrics=h_dict, otherClasses=[\"ellipse\"], transformation_bw=transformation_bw, metric_bw=metric_bw, opacity=0.4, stroke=\"#c6c6c6\", strokeWidth=1.5)\\\n",
    "        .labs(x=\"x-axis\", y=\"y-axis\")"
   ]
  },
  {
   "cell_type": "code",
   "execution_count": 3,
   "id": "e5d71504",
   "metadata": {},
   "outputs": [],
   "source": [
    "H = np.zeros((N, 2, 2))\n",
    "Hvv = np.zeros((N, 2, 2))\n",
    "Hs = np.zeros((N, 2))\n",
    "\n",
    "for i in range(N):\n",
    "    H[i] = np.array([[1, 0], [0, 1]])\n",
    "    Hvv[i] = np.eye(2)\n",
    "    Hs[i] = [1, 1]"
   ]
  },
  {
   "cell_type": "code",
   "execution_count": 4,
   "id": "9e85f8ce",
   "metadata": {},
   "outputs": [],
   "source": [
    "plots = {}\n",
    "plots[\"original\"] = plot_transformation(u, H, Hvv, Hs)"
   ]
  },
  {
   "cell_type": "code",
   "execution_count": 5,
   "id": "432764da",
   "metadata": {},
   "outputs": [],
   "source": [
    "f = u.copy()\n",
    "f[:, 1] = f[:, 1] ** 2"
   ]
  },
  {
   "cell_type": "code",
   "execution_count": 6,
   "id": "ef98249b",
   "metadata": {},
   "outputs": [],
   "source": [
    "plots[\"transformed\"] = plot_transformation(f, H, Hvv, Hs)"
   ]
  },
  {
   "cell_type": "code",
   "execution_count": 7,
   "id": "1de9dc9d",
   "metadata": {},
   "outputs": [],
   "source": [
    "for i in range(N):\n",
    "    H[i] = np.array([[1, 0], [0, 2 * f[i, 1]]])\n",
    "    Hvv[i] = np.eye(2)\n",
    "    Hs[i] = [1, 2 * f[i, 1]]\n",
    "\n",
    "plots[\"distortion\"] = plot_transformation(f, H, Hvv, Hs)"
   ]
  },
  {
   "cell_type": "code",
   "execution_count": 8,
   "id": "84da20d6",
   "metadata": {},
   "outputs": [],
   "source": [
    "#[p.save(f\"../paper/figures/{k}.svg\") for k, p in plots.items()]"
   ]
  },
  {
   "cell_type": "code",
   "execution_count": 9,
   "id": "5a98f9c7",
   "metadata": {},
   "outputs": [
    {
     "data": {
      "application/vnd.jupyter.widget-view+json": {
       "model_id": "bc994e4695884ea2a5880b9fce5c1ab6",
       "version_major": 2,
       "version_minor": 0
      },
      "text/plain": [
       "dplot(dataset=[{'embedding_0': 0.07574071793928183, 'embedding_1': 0.9203338699872016, 'x0': 1.0, 'y0': 0.0, '…"
      ]
     },
     "metadata": {},
     "output_type": "display_data"
    },
    {
     "data": {
      "application/vnd.jupyter.widget-view+json": {
       "model_id": "380f80ff0ce14cfbb1a0e0dfc8c075be",
       "version_major": 2,
       "version_minor": 0
      },
      "text/plain": [
       "dplot(dataset=[{'embedding_0': 0.07574071793928183, 'embedding_1': 0.8470144322456192, 'x0': 1.0, 'y0': 0.0, '…"
      ]
     },
     "metadata": {},
     "output_type": "display_data"
    },
    {
     "data": {
      "application/vnd.jupyter.widget-view+json": {
       "model_id": "0f0ab66a4e4a41a9a3653ab08433a4de",
       "version_major": 2,
       "version_minor": 0
      },
      "text/plain": [
       "dplot(dataset=[{'embedding_0': 0.07574071793928183, 'embedding_1': 0.8470144322456192, 'x0': 1.0, 'y0': 0.0, '…"
      ]
     },
     "metadata": {},
     "output_type": "display_data"
    },
    {
     "data": {
      "text/plain": [
       "[None, None, None]"
      ]
     },
     "execution_count": 9,
     "metadata": {},
     "output_type": "execute_result"
    }
   ],
   "source": [
    "[display(p) for p in plots.values()]"
   ]
  },
  {
   "cell_type": "code",
   "execution_count": null,
   "id": "3c5ab5cc",
   "metadata": {},
   "outputs": [],
   "source": []
  }
 ],
 "metadata": {
  "kernelspec": {
   "display_name": "dist2",
   "language": "python",
   "name": "python3"
  },
  "language_info": {
   "codemirror_mode": {
    "name": "ipython",
    "version": 3
   },
   "file_extension": ".py",
   "mimetype": "text/x-python",
   "name": "python",
   "nbconvert_exporter": "python",
   "pygments_lexer": "ipython3",
   "version": "3.12.2"
  }
 },
 "nbformat": 4,
 "nbformat_minor": 5
}
