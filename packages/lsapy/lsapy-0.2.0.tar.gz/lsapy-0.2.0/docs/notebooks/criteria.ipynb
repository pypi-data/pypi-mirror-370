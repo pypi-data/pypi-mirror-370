{
 "cells": [
  {
   "cell_type": "markdown",
   "metadata": {},
   "source": [
    "# Suitability Criteria\n",
    "\n",
    "> **NOTE:** If you are not familiar with the different suitability functions and how to use them, we recommend you start with the Suitability Functions [tutorial](functions.ipynb), which provides an overview of the available functions and their usage.\n",
    "\n",
    "`SuitabilityCriteria` is used to defined a criteria, set its associated indicator, and described how its suitability is computed. It has the following attributes:\n",
    "- name: criteria name\n",
    "- indicator: input data to compute suitability\n",
    "- func (`SuitabilityFunction`): suitability function to use\n",
    "- weight (default=1): criteria weight used when computing land suitability\n",
    "- category (optional): criteria category allowing to compute land suitability for different category (e.g., climate, soil...)\n",
    "- long_name: criteria long name\n",
    "- description: description of the criteria\n",
    "- comment: additional information\n",
    "- is_computed (bool, default=False): specify if the indicator data already corresponds to it's suitability.\n",
    "\n",
    "Below is an example using *LSAPy* `open_data` utility function to download and open sample data:"
   ]
  },
  {
   "cell_type": "code",
   "execution_count": null,
   "metadata": {},
   "outputs": [],
   "source": [
    "from lsapy import SuitabilityCriteria, SuitabilityFunction\n",
    "from lsapy.utils import open_data\n",
    "\n",
    "potential_rooting_depth = open_data(\"land\", variables=\"potential_rooting_depth\")\n",
    "\n",
    "sc = SuitabilityCriteria(\n",
    "    name=\"potential_root_depth\",\n",
    "    long_name=\"Potential Rooting Depth Suitability\",\n",
    "    indicator=potential_rooting_depth,\n",
    "    func=SuitabilityFunction(name=\"vetharaniam2022_eq5\", params={\"a\": -11.98, \"b\": 0.459}),\n",
    ")"
   ]
  },
  {
   "cell_type": "markdown",
   "metadata": {},
   "source": [
    "We can now compute the suitability of the criteria and plot the result."
   ]
  },
  {
   "cell_type": "code",
   "execution_count": null,
   "metadata": {},
   "outputs": [],
   "source": [
    "import matplotlib.pyplot as plt\n",
    "\n",
    "prd = sc.compute()\n",
    "\n",
    "fig, ax = plt.subplots(1, 2, figsize=(12, 4))\n",
    "potential_rooting_depth.plot(ax=ax[0])\n",
    "prd.plot(ax=ax[1], vmin=0, vmax=1)\n",
    "plt.show()"
   ]
  },
  {
   "cell_type": "markdown",
   "metadata": {},
   "source": [
    "Let's see another example with climate data. We use `xclim` package to calculate the total annual precipition and use this latter as criteria indicator."
   ]
  },
  {
   "cell_type": "code",
   "execution_count": null,
   "metadata": {},
   "outputs": [],
   "source": [
    "from xclim.indicators.atmos import precip_accumulation\n",
    "\n",
    "precip = open_data(\"climate\", variables=\"pr\")\n",
    "\n",
    "prtot = precip_accumulation(precip, freq=\"YS\")  # YS: Year Start frequency\n",
    "\n",
    "sc = SuitabilityCriteria(\n",
    "    name=\"water_requirements\",\n",
    "    long_name=\"Annual Rainfall Requirement Suitability\",\n",
    "    indicator=prtot,\n",
    "    func=SuitabilityFunction(name=\"vetharaniam2022_eq5\", params={\"a\": 0.876, \"b\": 1248}),\n",
    ")"
   ]
  },
  {
   "cell_type": "code",
   "execution_count": null,
   "metadata": {},
   "outputs": [],
   "source": [
    "water_req = sc.compute()\n",
    "\n",
    "fig, ax = plt.subplots(1, 2, figsize=(12, 4))\n",
    "prtot.isel(time=0).plot(ax=ax[0])  # use first year of data as example\n",
    "water_req.isel(time=0).plot(ax=ax[1], vmin=0, vmax=1)\n",
    "plt.show()"
   ]
  }
 ],
 "metadata": {
  "language_info": {
   "codemirror_mode": {
    "name": "ipython",
    "version": 3
   },
   "file_extension": ".py",
   "mimetype": "text/x-python",
   "name": "python",
   "nbconvert_exporter": "python",
   "pygments_lexer": "ipython3",
   "version": "3.12.7"
  }
 },
 "nbformat": 4,
 "nbformat_minor": 2
}
