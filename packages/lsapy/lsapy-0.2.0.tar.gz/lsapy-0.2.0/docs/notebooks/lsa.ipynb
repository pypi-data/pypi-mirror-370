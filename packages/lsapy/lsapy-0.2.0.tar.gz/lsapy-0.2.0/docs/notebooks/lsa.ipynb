{
 "cells": [
  {
   "cell_type": "markdown",
   "metadata": {},
   "source": [
    "## Land Suitability Analysis\n",
    "\n",
    "> **NOTE:** If you are new to _LSAPy_, we recommend you start with the [Suitability Functions](functions.ipynb) and [Suitability Criteria](criteria.ipynb) tutorials.\n",
    "\n",
    "To perform a LSA, we use `LandSuitabilityAnalysis` that allows to compute the overall suitability of several criteria and that has the following attributes:\n",
    "- land_use: a name for the land use.\n",
    "- criteria: `dict` of `SuitabilityCriteria` where the keys is the name of the criteria.\n",
    "- short_name (optional): a short name for the land suitability analysis (LSA).\n",
    "- long_name (optional): a long name for the LSA.\n",
    "- description (optional): additional information about the LSA.\n",
    "- comment (optional): miscellaneous information about the LSA.\n",
    "\n",
    "First we have to define the criteria. Here, we use three criteria: the potential rooting depth, the soil draingage class (discrete) and water requirement. We are going to split criteria in two categories, soil and climate, and change the weight of each of them."
   ]
  },
  {
   "cell_type": "code",
   "execution_count": null,
   "metadata": {},
   "outputs": [],
   "source": [
    "import matplotlib.pyplot as plt\n",
    "from xclim.indicators.atmos import precip_accumulation\n",
    "\n",
    "from lsapy import LandSuitabilityAnalysis, SuitabilityCriteria, SuitabilityFunction\n",
    "from lsapy.utils import open_data\n",
    "\n",
    "soil_data = open_data(\"land\", variables=[\"potential_rooting_depth\", \"drainage\"])\n",
    "pr = open_data(\"climate\", variables=\"pr\").interp_like(\n",
    "    soil_data,\n",
    "    method=\"nearest\",  # resample precipitation data to soil data resolution\n",
    ")"
   ]
  },
  {
   "cell_type": "code",
   "execution_count": null,
   "metadata": {},
   "outputs": [],
   "source": [
    "lsa = LandSuitabilityAnalysis(\n",
    "    land_use=\"your_land_use\",\n",
    "    long_name=\"My First Land Suitability Analysis\",\n",
    "    criteria={\n",
    "        \"potential_root_depth\": SuitabilityCriteria(\n",
    "            name=\"potential_root_depth\",\n",
    "            long_name=\"Potential Rooting Depth Suitability\",\n",
    "            weight=2,\n",
    "            category=\"soil\",\n",
    "            indicator=soil_data[\"potential_rooting_depth\"],\n",
    "            func=SuitabilityFunction(name=\"vetharaniam2022_eq5\", params={\"a\": -11.98, \"b\": 0.459}),\n",
    "        ),\n",
    "        \"drainage_class\": SuitabilityCriteria(\n",
    "            name=\"drainage_class\",\n",
    "            weight=1,\n",
    "            category=\"soil\",\n",
    "            long_name=\"Drainage Class Suitability\",\n",
    "            indicator=soil_data[\"drainage\"],\n",
    "            func=SuitabilityFunction(name=\"discrete\", params={\"rules\": {0: 0, 1: 0.1, 2: 0.5, 3: 0.9, 4: 1}}),\n",
    "        ),\n",
    "        \"water_requirements\": SuitabilityCriteria(\n",
    "            name=\"water_requirements\",\n",
    "            weight=0.5,\n",
    "            category=\"climate\",\n",
    "            long_name=\"Annual Rainfall Requirement Suitability\",\n",
    "            indicator=precip_accumulation(pr, freq=\"YS\"),\n",
    "            func=SuitabilityFunction(name=\"vetharaniam2022_eq5\", params={\"a\": 0.876, \"b\": 1248}),\n",
    "        ),\n",
    "    },\n",
    ")"
   ]
  },
  {
   "cell_type": "markdown",
   "metadata": {},
   "source": [
    "Then, we can compute the suitability starting with the criteria."
   ]
  },
  {
   "cell_type": "code",
   "execution_count": null,
   "metadata": {},
   "outputs": [],
   "source": [
    "lsa.run(suitability_type=\"criteria\", inplace=True)\n",
    "lsa.data"
   ]
  },
  {
   "cell_type": "code",
   "execution_count": null,
   "metadata": {},
   "outputs": [],
   "source": [
    "fig, ax = plt.subplots(1, 3, figsize=(12, 4))\n",
    "lsa.data[\"potential_root_depth\"].plot(ax=ax[0], vmin=0, vmax=1)\n",
    "lsa.data[\"drainage_class\"].plot(ax=ax[1], vmin=0, vmax=1)\n",
    "lsa.data[\"water_requirements\"].isel(time=2).plot(ax=ax[2], vmin=0, vmax=1)\n",
    "plt.show()"
   ]
  },
  {
   "cell_type": "markdown",
   "metadata": {},
   "source": [
    "Now, we can compute the suitability of categories. There are several method implemented to aggregate criteria (e.g., mean, weighted mean, geometric mean, weighted geometric mean, and limiting factor). Here, we are going to use a simple weighted mean."
   ]
  },
  {
   "cell_type": "code",
   "execution_count": null,
   "metadata": {},
   "outputs": [],
   "source": [
    "lsa.run(suitability_type=\"category\", agg_methods=\"wmean\", keep_vars=True, inplace=True)\n",
    "lsa.data"
   ]
  },
  {
   "cell_type": "code",
   "execution_count": null,
   "metadata": {},
   "outputs": [],
   "source": [
    "fig, ax = plt.subplots(1, 2, figsize=(12, 4))\n",
    "lsa.data[\"soil\"].plot(ax=ax[0], vmin=0, vmax=1)\n",
    "ax[0].set_title(\"Soil Suitability\")\n",
    "lsa.data[\"climate\"].isel(time=2).plot(ax=ax[1], vmin=0, vmax=1)\n",
    "ax[1].set_title(\"Climate Suitability\")\n",
    "plt.show()"
   ]
  },
  {
   "cell_type": "markdown",
   "metadata": {},
   "source": [
    "Finally, we can compute the overall suitability."
   ]
  },
  {
   "cell_type": "code",
   "execution_count": null,
   "metadata": {},
   "outputs": [],
   "source": [
    "lsa.run(suitability_type=\"overall\", agg_methods=\"wmean\", by_category=True, inplace=True)\n",
    "# lsa.compute_suitability(method=\"weighted_mean\", by_category=True, inplace=True, keep_all=True)\n",
    "lsa.data"
   ]
  },
  {
   "cell_type": "code",
   "execution_count": null,
   "metadata": {},
   "outputs": [],
   "source": [
    "fig, ax = plt.subplots(1, 3, figsize=(18, 4))\n",
    "lsa.data[\"soil\"].plot(ax=ax[0], vmin=0, vmax=1)\n",
    "ax[0].set_title(\"Soil Suitability\")\n",
    "lsa.data[\"climate\"].isel(time=2).plot(ax=ax[1], vmin=0, vmax=1)\n",
    "ax[1].set_title(\"Climate Suitability\")\n",
    "lsa.data[\"suitability\"].isel(time=2).plot(ax=ax[2], vmin=0, vmax=1)\n",
    "ax[2].set_title(\"Land Suitability\")\n",
    "plt.show()"
   ]
  }
 ],
 "metadata": {
  "language_info": {
   "codemirror_mode": {
    "name": "ipython",
    "version": 3
   },
   "file_extension": ".py",
   "mimetype": "text/x-python",
   "name": "python",
   "nbconvert_exporter": "python",
   "pygments_lexer": "ipython3",
   "version": "3.13.5"
  }
 },
 "nbformat": 4,
 "nbformat_minor": 2
}
