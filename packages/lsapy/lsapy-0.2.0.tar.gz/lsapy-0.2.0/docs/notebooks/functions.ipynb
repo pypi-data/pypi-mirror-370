{
 "cells": [
  {
   "cell_type": "markdown",
   "metadata": {},
   "source": [
    "# Suitability Function\n",
    "\n",
    "`SuitabilityFunction` is used to convert indicator to suitability values. *LSAPy* support two types of suitability function: discrete function and membership function."
   ]
  },
  {
   "cell_type": "code",
   "execution_count": null,
   "metadata": {},
   "outputs": [],
   "source": [
    "# import libraries\n",
    "from lsapy import SuitabilityFunction\n",
    "# alternatively, you can import the class from the function module\n",
    "# from lsapy.function import SuitabilityFunction"
   ]
  },
  {
   "cell_type": "markdown",
   "metadata": {},
   "source": [
    "## Discrete Suitability Function\n",
    "\n",
    "The simplest case! Discrete function is used to convert discrete indicator values to suitability. Thus, the computation is quite straight forward and we simply attribute a suitability value to each categorical value. This is done by providing the rules as parameter of the function and where rules is a `dict` with the indicator value as key and the associated suitability as value.  \n",
    "Below is an example:"
   ]
  },
  {
   "cell_type": "code",
   "execution_count": null,
   "metadata": {},
   "outputs": [],
   "source": [
    "x = [1, 2, 3, 4, 5]  # discrete indicator values\n",
    "rules = {1: 0, 2: 0, 3: 0.2, 4: 0.6, 5: 1}  # suitability values\n",
    "\n",
    "func = SuitabilityFunction(name=\"discrete\", params={\"rules\": rules})  # initialize the function\n",
    "func(x)"
   ]
  },
  {
   "cell_type": "markdown",
   "metadata": {},
   "source": [
    "`str` type indicators values is also supported."
   ]
  },
  {
   "cell_type": "code",
   "execution_count": null,
   "metadata": {},
   "outputs": [],
   "source": [
    "x = [\"1\", \"2\", \"3\", \"4\", \"5\"]  # discrete indicator values\n",
    "rules = {\"1\": 0, \"2\": 0, \"3\": 0.2, \"4\": 0.6, \"5\": 1}  # suitability values\n",
    "\n",
    "func = SuitabilityFunction(name=\"discrete\", params={\"rules\": rules})  # initialize the function\n",
    "func(x)"
   ]
  },
  {
   "cell_type": "markdown",
   "metadata": {},
   "source": [
    "## Membership Suitability Function\n",
    "\n",
    "Membership functions are a bit more complex and are used to convert continuous indicators to suitability using a fuzzy-logic approach. Several membership functions are available allowing flexibility in the shape of the curve desired. The list of all implemented membership functions can be found [here](../api/index.rst).\n",
    "\n",
    "\n",
    "The first step is thus to determine which function we should use and with which parameters. The `fit_membership` function can be used to find the best membership function. Let's say we have indicator value ranging from 750 to 2000 and we know that suitability values of 0, 0.25, 0.5, 0.75, 1 correspond respectively to 1000, 1150, 1250, 1350, 1500. We can use this information to fit membership functions and determine which one it the best."
   ]
  },
  {
   "cell_type": "code",
   "execution_count": null,
   "metadata": {},
   "outputs": [],
   "source": [
    "from lsapy.functions.membership import fit_membership\n",
    "\n",
    "fit_membership(x=[1000, 1150, 1250, 1350, 1500], y=[0, 0.25, 0.5, 0.75, 1])"
   ]
  },
  {
   "cell_type": "markdown",
   "metadata": {},
   "source": [
    "The result of the fit says that best membership function is 'vetharaniam2022_eq5' with the parameters a=-0.876 and b=1248.  \n",
    "We can also plot and print the results of the fitting for a better understanding with `plot=True` and `verbose=True` respectively."
   ]
  },
  {
   "cell_type": "code",
   "execution_count": null,
   "metadata": {},
   "outputs": [],
   "source": [
    "fit_membership(x=[1000, 1150, 1250, 1350, 1500], y=[0, 0.25, 0.5, 0.75, 1], plot=True, verbose=True)"
   ]
  },
  {
   "cell_type": "markdown",
   "metadata": {},
   "source": [
    "We can now use the results of the fitting to convert indicator value into suitability."
   ]
  },
  {
   "cell_type": "code",
   "execution_count": null,
   "metadata": {},
   "outputs": [],
   "source": [
    "import numpy as np\n",
    "\n",
    "func = SuitabilityFunction(name=\"vetharaniam2022_eq5\", params={\"a\": -0.876, \"b\": 1248})\n",
    "x = np.linspace(750, 2000, 100)  # indicator values: create a array of 100 values between 750 and 2000\n",
    "func(x)"
   ]
  },
  {
   "cell_type": "code",
   "execution_count": null,
   "metadata": {},
   "outputs": [],
   "source": [
    "func.plot(x)"
   ]
  }
 ],
 "metadata": {
  "language_info": {
   "codemirror_mode": {
    "name": "ipython",
    "version": 3
   },
   "file_extension": ".py",
   "mimetype": "text/x-python",
   "name": "python",
   "nbconvert_exporter": "python",
   "pygments_lexer": "ipython3",
   "version": "3.12.10"
  }
 },
 "nbformat": 4,
 "nbformat_minor": 2
}
