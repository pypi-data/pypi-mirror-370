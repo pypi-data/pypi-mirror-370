{
 "cells": [
  {
   "cell_type": "code",
   "execution_count": null,
   "id": "3aa12eac",
   "metadata": {},
   "outputs": [],
   "source": [
    "from rich import print as rprint\n",
    "import litellm\n",
    "import instructor\n",
    "from pydantic import BaseModel, Field, field_validator\n",
    "\n",
    "\n",
    "litellm._turn_on_debug()\n",
    "\n",
    "client = instructor.from_litellm(\n",
    "    litellm.completion,\n",
    "    mode=instructor.Mode.MD_JSON,\n",
    ")\n",
    "\n",
    "\n",
    "class User(BaseModel):\n",
    "    name: str\n",
    "    age: int = Field(gt=0, lt=120)  # Age must be between 0 and 120\n",
    "\n",
    "    @field_validator(\"name\")\n",
    "    def name_must_have_space(cls, v):\n",
    "        if \" \" not in v:\n",
    "            raise ValueError(\"Name must include first and last name\")\n",
    "        return v\n",
    "\n",
    "\n",
    "user, raw = client.chat.completions.create_with_completion(\n",
    "    model=\"openai/4.0Ultra\",\n",
    "    api_key=\"\",\n",
    "    api_base=\"https://spark-api-open.xf-yun.com/v1\",\n",
    "    messages=[\n",
    "        {\"role\": \"user\", \"content\": \"Extract: Jason is 25 years old\"},\n",
    "    ],\n",
    "    response_model=User,\n",
    ")\n",
    "\n",
    "rprint(user)\n",
    "rprint(raw)"
   ]
  }
 ],
 "metadata": {
  "kernelspec": {
   "display_name": ".venv",
   "language": "python",
   "name": "python3"
  },
  "language_info": {
   "codemirror_mode": {
    "name": "ipython",
    "version": 3
   },
   "file_extension": ".py",
   "mimetype": "text/x-python",
   "name": "python",
   "nbconvert_exporter": "python",
   "pygments_lexer": "ipython3",
   "version": "3.13.2"
  }
 },
 "nbformat": 4,
 "nbformat_minor": 5
}
