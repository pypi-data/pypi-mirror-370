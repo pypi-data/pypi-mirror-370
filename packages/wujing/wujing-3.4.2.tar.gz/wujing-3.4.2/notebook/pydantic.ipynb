{
 "cells": [
  {
   "cell_type": "code",
   "execution_count": 12,
   "id": "3aa12eac",
   "metadata": {},
   "outputs": [
    {
     "name": "stdout",
     "output_type": "stream",
     "text": [
      "Validation error: 1 validation error for greet\n",
      "1\n",
      "  Input should be less than 120 [type=less_than, input_value=121, input_type=int]\n",
      "    For further information visit https://errors.pydantic.dev/2.10/v/less_than\n"
     ]
    }
   ],
   "source": [
    "from pydantic import validate_call, Field, ValidationError\n",
    "from typing import Annotated\n",
    "\n",
    "\n",
    "@validate_call\n",
    "def greet(\n",
    "    name: Annotated[\n",
    "        str,\n",
    "        Field(min_length=2, max_length=10, description=\"must be a string between 2 and 10 characters\"),\n",
    "        Field(strict=True),\n",
    "    ],\n",
    "    age: Annotated[\n",
    "        int,\n",
    "        Field(gt=0, lt=120, error_message=\"Age must be between 1 and 119\"),\n",
    "        Field(strict=True),\n",
    "    ],\n",
    "    is_student: bool = False,\n",
    ") -> str:\n",
    "    print(f\"Received type -> name: {type(name)}, age: {type(age)}, is_student: {type(is_student)}\")\n",
    "    return f\"Hello {name}, age {age}. Student: {is_student}\"\n",
    "\n",
    "\n",
    "# Example usage\n",
    "try:\n",
    "    print(greet(\"Alice\", 121))\n",
    "except ValidationError as e:\n",
    "    print(f\"Validation error: {e}\")"
   ]
  }
 ],
 "metadata": {
  "kernelspec": {
   "display_name": ".venv",
   "language": "python",
   "name": "python3"
  },
  "language_info": {
   "codemirror_mode": {
    "name": "ipython",
    "version": 3
   },
   "file_extension": ".py",
   "mimetype": "text/x-python",
   "name": "python",
   "nbconvert_exporter": "python",
   "pygments_lexer": "ipython3",
   "version": "3.13.2"
  }
 },
 "nbformat": 4,
 "nbformat_minor": 5
}
