{
 "cells": [
  {
   "cell_type": "code",
   "execution_count": 1,
   "metadata": {},
   "outputs": [],
   "source": [
    "from wujing.rag.embedder import Embedder\n",
    "import rich\n",
    "\n",
    "embedder = Embedder(\n",
    "    embedding_model=\"./../models/BAAI/bge-m3\",\n",
    "    reset_db=True,\n",
    "    persist_directory=\".diskcache/chroma2\",\n",
    ")"
   ]
  },
  {
   "cell_type": "code",
   "execution_count": 2,
   "metadata": {},
   "outputs": [
    {
     "data": {
      "text/html": [
       "<pre style=\"white-space:pre;overflow-x:auto;line-height:normal;font-family:Menlo,'DejaVu Sans Mono',consolas,'Courier New',monospace\"><span style=\"font-weight: bold\">{</span>\n",
       "    <span style=\"color: #008000; text-decoration-color: #008000\">'ids'</span>: <span style=\"font-weight: bold\">[</span>\n",
       "        <span style=\"font-weight: bold\">[</span>\n",
       "            <span style=\"color: #008000; text-decoration-color: #008000\">'920c5682-80f0-4ce1-b390-069af14208e7'</span>,\n",
       "            <span style=\"color: #008000; text-decoration-color: #008000\">'43beda42-25e3-4338-8764-5d7e442382dd'</span>,\n",
       "            <span style=\"color: #008000; text-decoration-color: #008000\">'c09654a2-c6ba-43c8-ba42-82a07088a8f8'</span>\n",
       "        <span style=\"font-weight: bold\">]</span>,\n",
       "        <span style=\"font-weight: bold\">[</span>\n",
       "            <span style=\"color: #008000; text-decoration-color: #008000\">'43beda42-25e3-4338-8764-5d7e442382dd'</span>,\n",
       "            <span style=\"color: #008000; text-decoration-color: #008000\">'c09654a2-c6ba-43c8-ba42-82a07088a8f8'</span>,\n",
       "            <span style=\"color: #008000; text-decoration-color: #008000\">'920c5682-80f0-4ce1-b390-069af14208e7'</span>\n",
       "        <span style=\"font-weight: bold\">]</span>\n",
       "    <span style=\"font-weight: bold\">]</span>,\n",
       "    <span style=\"color: #008000; text-decoration-color: #008000\">'embeddings'</span>: <span style=\"color: #800080; text-decoration-color: #800080; font-style: italic\">None</span>,\n",
       "    <span style=\"color: #008000; text-decoration-color: #008000\">'documents'</span>: <span style=\"font-weight: bold\">[</span>\n",
       "        <span style=\"font-weight: bold\">[</span><span style=\"color: #008000; text-decoration-color: #008000\">'أنت جميلة جدا اليوم'</span>, <span style=\"color: #008000; text-decoration-color: #008000\">'You look so beautiful today'</span>, <span style=\"color: #008000; text-decoration-color: #008000\">'You look a bit beautiful today'</span><span style=\"font-weight: bold\">]</span>,\n",
       "        <span style=\"font-weight: bold\">[</span><span style=\"color: #008000; text-decoration-color: #008000\">'You look so beautiful today'</span>, <span style=\"color: #008000; text-decoration-color: #008000\">'You look a bit beautiful today'</span>, <span style=\"color: #008000; text-decoration-color: #008000\">'أنت جميلة جدا اليوم'</span><span style=\"font-weight: bold\">]</span>\n",
       "    <span style=\"font-weight: bold\">]</span>,\n",
       "    <span style=\"color: #008000; text-decoration-color: #008000\">'uris'</span>: <span style=\"color: #800080; text-decoration-color: #800080; font-style: italic\">None</span>,\n",
       "    <span style=\"color: #008000; text-decoration-color: #008000\">'included'</span>: <span style=\"font-weight: bold\">[</span><span style=\"color: #008000; text-decoration-color: #008000\">'documents'</span>, <span style=\"color: #008000; text-decoration-color: #008000\">'metadatas'</span>, <span style=\"color: #008000; text-decoration-color: #008000\">'distances'</span><span style=\"font-weight: bold\">]</span>,\n",
       "    <span style=\"color: #008000; text-decoration-color: #008000\">'data'</span>: <span style=\"color: #800080; text-decoration-color: #800080; font-style: italic\">None</span>,\n",
       "    <span style=\"color: #008000; text-decoration-color: #008000\">'metadatas'</span>: <span style=\"font-weight: bold\">[[</span><span style=\"color: #800080; text-decoration-color: #800080; font-style: italic\">None</span>, <span style=\"color: #800080; text-decoration-color: #800080; font-style: italic\">None</span>, <span style=\"color: #800080; text-decoration-color: #800080; font-style: italic\">None</span><span style=\"font-weight: bold\">]</span>, <span style=\"font-weight: bold\">[</span><span style=\"color: #800080; text-decoration-color: #800080; font-style: italic\">None</span>, <span style=\"color: #800080; text-decoration-color: #800080; font-style: italic\">None</span>, <span style=\"color: #800080; text-decoration-color: #800080; font-style: italic\">None</span><span style=\"font-weight: bold\">]]</span>,\n",
       "    <span style=\"color: #008000; text-decoration-color: #008000\">'distances'</span>: <span style=\"font-weight: bold\">[</span>\n",
       "        <span style=\"font-weight: bold\">[</span><span style=\"color: #008080; text-decoration-color: #008080; font-weight: bold\">0.16176986694335938</span>, <span style=\"color: #008080; text-decoration-color: #008080; font-weight: bold\">0.22582696378231049</span>, <span style=\"color: #008080; text-decoration-color: #008080; font-weight: bold\">0.2694121301174164</span><span style=\"font-weight: bold\">]</span>,\n",
       "        <span style=\"font-weight: bold\">[</span><span style=\"color: #008080; text-decoration-color: #008080; font-weight: bold\">0.00448319548740983</span>, <span style=\"color: #008080; text-decoration-color: #008080; font-weight: bold\">0.15604911744594574</span>, <span style=\"color: #008080; text-decoration-color: #008080; font-weight: bold\">0.15973526239395142</span><span style=\"font-weight: bold\">]</span>\n",
       "    <span style=\"font-weight: bold\">]</span>,\n",
       "    <span style=\"color: #008000; text-decoration-color: #008000\">'similarities'</span>: <span style=\"font-weight: bold\">[</span>\n",
       "        <span style=\"font-weight: bold\">[</span><span style=\"color: #008080; text-decoration-color: #008080; font-weight: bold\">0.8506369416960581</span>, <span style=\"color: #008080; text-decoration-color: #008080; font-weight: bold\">0.797856147731909</span>, <span style=\"color: #008080; text-decoration-color: #008080; font-weight: bold\">0.7638283940849488</span><span style=\"font-weight: bold\">]</span>,\n",
       "        <span style=\"font-weight: bold\">[</span><span style=\"color: #008080; text-decoration-color: #008080; font-weight: bold\">0.9955268390323075</span>, <span style=\"color: #008080; text-decoration-color: #008080; font-weight: bold\">0.8555171685207434</span>, <span style=\"color: #008080; text-decoration-color: #008080; font-weight: bold\">0.8523694133372216</span><span style=\"font-weight: bold\">]</span>\n",
       "    <span style=\"font-weight: bold\">]</span>,\n",
       "    <span style=\"color: #008000; text-decoration-color: #008000\">'probabilities'</span>: <span style=\"font-weight: bold\">[[</span><span style=\"color: #008000; text-decoration-color: #008000\">'34.9%'</span>, <span style=\"color: #008000; text-decoration-color: #008000\">'33.1%'</span>, <span style=\"color: #008000; text-decoration-color: #008000\">'32.0%'</span><span style=\"font-weight: bold\">]</span>, <span style=\"font-weight: bold\">[</span><span style=\"color: #008000; text-decoration-color: #008000\">'36.6%'</span>, <span style=\"color: #008000; text-decoration-color: #008000\">'31.8%'</span>, <span style=\"color: #008000; text-decoration-color: #008000\">'31.7%'</span><span style=\"font-weight: bold\">]]</span>\n",
       "<span style=\"font-weight: bold\">}</span>\n",
       "</pre>\n"
      ],
      "text/plain": [
       "\u001b[1m{\u001b[0m\n",
       "    \u001b[32m'ids'\u001b[0m: \u001b[1m[\u001b[0m\n",
       "        \u001b[1m[\u001b[0m\n",
       "            \u001b[32m'920c5682-80f0-4ce1-b390-069af14208e7'\u001b[0m,\n",
       "            \u001b[32m'43beda42-25e3-4338-8764-5d7e442382dd'\u001b[0m,\n",
       "            \u001b[32m'c09654a2-c6ba-43c8-ba42-82a07088a8f8'\u001b[0m\n",
       "        \u001b[1m]\u001b[0m,\n",
       "        \u001b[1m[\u001b[0m\n",
       "            \u001b[32m'43beda42-25e3-4338-8764-5d7e442382dd'\u001b[0m,\n",
       "            \u001b[32m'c09654a2-c6ba-43c8-ba42-82a07088a8f8'\u001b[0m,\n",
       "            \u001b[32m'920c5682-80f0-4ce1-b390-069af14208e7'\u001b[0m\n",
       "        \u001b[1m]\u001b[0m\n",
       "    \u001b[1m]\u001b[0m,\n",
       "    \u001b[32m'embeddings'\u001b[0m: \u001b[3;35mNone\u001b[0m,\n",
       "    \u001b[32m'documents'\u001b[0m: \u001b[1m[\u001b[0m\n",
       "        \u001b[1m[\u001b[0m\u001b[32m'أنت جميلة جدا اليوم'\u001b[0m, \u001b[32m'You look so beautiful today'\u001b[0m, \u001b[32m'You look a bit beautiful today'\u001b[0m\u001b[1m]\u001b[0m,\n",
       "        \u001b[1m[\u001b[0m\u001b[32m'You look so beautiful today'\u001b[0m, \u001b[32m'You look a bit beautiful today'\u001b[0m, \u001b[32m'أنت جميلة جدا اليوم'\u001b[0m\u001b[1m]\u001b[0m\n",
       "    \u001b[1m]\u001b[0m,\n",
       "    \u001b[32m'uris'\u001b[0m: \u001b[3;35mNone\u001b[0m,\n",
       "    \u001b[32m'included'\u001b[0m: \u001b[1m[\u001b[0m\u001b[32m'documents'\u001b[0m, \u001b[32m'metadatas'\u001b[0m, \u001b[32m'distances'\u001b[0m\u001b[1m]\u001b[0m,\n",
       "    \u001b[32m'data'\u001b[0m: \u001b[3;35mNone\u001b[0m,\n",
       "    \u001b[32m'metadatas'\u001b[0m: \u001b[1m[\u001b[0m\u001b[1m[\u001b[0m\u001b[3;35mNone\u001b[0m, \u001b[3;35mNone\u001b[0m, \u001b[3;35mNone\u001b[0m\u001b[1m]\u001b[0m, \u001b[1m[\u001b[0m\u001b[3;35mNone\u001b[0m, \u001b[3;35mNone\u001b[0m, \u001b[3;35mNone\u001b[0m\u001b[1m]\u001b[0m\u001b[1m]\u001b[0m,\n",
       "    \u001b[32m'distances'\u001b[0m: \u001b[1m[\u001b[0m\n",
       "        \u001b[1m[\u001b[0m\u001b[1;36m0.16176986694335938\u001b[0m, \u001b[1;36m0.22582696378231049\u001b[0m, \u001b[1;36m0.2694121301174164\u001b[0m\u001b[1m]\u001b[0m,\n",
       "        \u001b[1m[\u001b[0m\u001b[1;36m0.00448319548740983\u001b[0m, \u001b[1;36m0.15604911744594574\u001b[0m, \u001b[1;36m0.15973526239395142\u001b[0m\u001b[1m]\u001b[0m\n",
       "    \u001b[1m]\u001b[0m,\n",
       "    \u001b[32m'similarities'\u001b[0m: \u001b[1m[\u001b[0m\n",
       "        \u001b[1m[\u001b[0m\u001b[1;36m0.8506369416960581\u001b[0m, \u001b[1;36m0.797856147731909\u001b[0m, \u001b[1;36m0.7638283940849488\u001b[0m\u001b[1m]\u001b[0m,\n",
       "        \u001b[1m[\u001b[0m\u001b[1;36m0.9955268390323075\u001b[0m, \u001b[1;36m0.8555171685207434\u001b[0m, \u001b[1;36m0.8523694133372216\u001b[0m\u001b[1m]\u001b[0m\n",
       "    \u001b[1m]\u001b[0m,\n",
       "    \u001b[32m'probabilities'\u001b[0m: \u001b[1m[\u001b[0m\u001b[1m[\u001b[0m\u001b[32m'34.9%'\u001b[0m, \u001b[32m'33.1%'\u001b[0m, \u001b[32m'32.0%'\u001b[0m\u001b[1m]\u001b[0m, \u001b[1m[\u001b[0m\u001b[32m'36.6%'\u001b[0m, \u001b[32m'31.8%'\u001b[0m, \u001b[32m'31.7%'\u001b[0m\u001b[1m]\u001b[0m\u001b[1m]\u001b[0m\n",
       "\u001b[1m}\u001b[0m\n"
      ]
     },
     "metadata": {},
     "output_type": "display_data"
    }
   ],
   "source": [
    "embedder.upsert(\n",
    "    \"collection\",\n",
    "    [\n",
    "        \"A man is eating food.\",\n",
    "        \"A man is eating a piece of bread.\",\n",
    "        \"The girl is carrying a baby.\",\n",
    "        \"A man is riding a horse.\",\n",
    "        \"A woman is playing violin.\",\n",
    "        \"Two men pushed carts through the woods.\",\n",
    "        \"A man is riding a white horse on an enclosed ground.\",\n",
    "        \"A monkey is playing drums.\",\n",
    "        \"A cheetah is running behind its prey.\",\n",
    "        \"The spaghetti's been eaten.\",\n",
    "        \"A man is eating spaghetti.\",\n",
    "        \"A man is drink water.\",\n",
    "        \"You look so beautiful today\",\n",
    "        \"You look a bit beautiful today\",\n",
    "        \"تبدين جميلة اليوم\",\n",
    "        \"أنت جميلة جدا اليوم\",\n",
    "    ],\n",
    ")\n",
    "rich.print(\n",
    "    embedder.query(\n",
    "        \"collection\",\n",
    "        [\"你今天好漂亮\", \"you look so beautiful today\"],\n",
    "        n_results=3,\n",
    "    )\n",
    ")"
   ]
  }
 ],
 "metadata": {
  "kernelspec": {
   "display_name": ".venv",
   "language": "python",
   "name": "python3"
  },
  "language_info": {
   "codemirror_mode": {
    "name": "ipython",
    "version": 3
   },
   "file_extension": ".py",
   "mimetype": "text/x-python",
   "name": "python",
   "nbconvert_exporter": "python",
   "pygments_lexer": "ipython3",
   "version": "3.13.2"
  }
 },
 "nbformat": 4,
 "nbformat_minor": 2
}
