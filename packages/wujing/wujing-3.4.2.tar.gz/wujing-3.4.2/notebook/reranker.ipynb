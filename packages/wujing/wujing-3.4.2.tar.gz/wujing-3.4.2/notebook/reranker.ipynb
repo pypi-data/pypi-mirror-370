{
 "cells": [
  {
   "cell_type": "code",
   "execution_count": 1,
   "metadata": {},
   "outputs": [],
   "source": [
    "from wujing.rag.reranker import Reranker\n",
    "\n",
    "reranker = Reranker(\n",
    "    \"./../models/BAAI/bge-reranker-v2-m3\",\n",
    "    top_k=3,\n",
    ")"
   ]
  },
  {
   "cell_type": "code",
   "execution_count": 3,
   "metadata": {},
   "outputs": [
    {
     "name": "stdout",
     "output_type": "stream",
     "text": [
      "Query: 你今天好漂亮.\n",
      "\n",
      "Top results:\n",
      "Rank 1:\n",
      "  Text: You look so beautiful today\n",
      "  Score: 0.9997\n",
      "------------------------------------------------------------\n",
      "Rank 2:\n",
      "  Text: You look a bit beautiful today\n",
      "  Score: 0.9980\n",
      "------------------------------------------------------------\n",
      "Rank 3:\n",
      "  Text: أنت جميلة جدا اليوم\n",
      "  Score: 0.9979\n",
      "------------------------------------------------------------\n"
     ]
    }
   ],
   "source": [
    "query = \"你今天好漂亮.\"\n",
    "corpus = [\n",
    "    \"A man is eating food.\",\n",
    "    \"A man is eating a piece of bread.\",\n",
    "    \"The girl is carrying a baby.\",\n",
    "    \"A man is riding a horse.\",\n",
    "    \"A woman is playing violin.\",\n",
    "    \"Two men pushed carts through the woods.\",\n",
    "    \"A man is riding a white horse on an enclosed ground.\",\n",
    "    \"A monkey is playing drums.\",\n",
    "    \"A cheetah is running behind its prey.\",\n",
    "    \"The spaghetti's been eaten.\",\n",
    "    \"A man is eating spaghetti.\",\n",
    "    \"A man is drink water.\",\n",
    "    \"You look so beautiful today\",\n",
    "    \"You look a bit beautiful today\",\n",
    "    \"تبدين جميلة اليوم\",\n",
    "    \"أنت جميلة جدا اليوم\",\n",
    "]\n",
    "\n",
    "print(f\"Query: {query}\")\n",
    "top_results = reranker.get_top_similar(query, corpus)\n",
    "\n",
    "# 打印结果\n",
    "print(\"\\nTop results:\")\n",
    "for result in top_results:\n",
    "    print(f\"Rank {result['rank']}:\")\n",
    "    print(f\"  Text: {result['text']}\")\n",
    "    print(f\"  Score: {result['score']:.4f}\")\n",
    "    print(\"-\" * 60)"
   ]
  }
 ],
 "metadata": {
  "kernelspec": {
   "display_name": ".venv",
   "language": "python",
   "name": "python3"
  },
  "language_info": {
   "codemirror_mode": {
    "name": "ipython",
    "version": 3
   },
   "file_extension": ".py",
   "mimetype": "text/x-python",
   "name": "python",
   "nbconvert_exporter": "python",
   "pygments_lexer": "ipython3",
   "version": "3.13.2"
  }
 },
 "nbformat": 4,
 "nbformat_minor": 2
}
