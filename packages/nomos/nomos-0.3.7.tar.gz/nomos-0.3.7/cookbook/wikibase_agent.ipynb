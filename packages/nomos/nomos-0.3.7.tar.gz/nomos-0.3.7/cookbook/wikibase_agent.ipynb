{
 "cells": [
  {
   "cell_type": "markdown",
   "id": "8f4a9a02",
   "metadata": {},
   "source": [
    "# Wikibase Agent <a target=\"_blank\" href=\"https://colab.research.google.com/github/dowhiledev/nomos/blob/main/cookbook/wikibase_agent.ipynb\"><img src=\"https://colab.research.google.com/assets/colab-badge.svg\" alt=\"Open In Colab\"/></a>\n",
    "\n",
    "> This cookbook is inspired by the [Langchain's Implementation of WikiBase Agent](https://github.com/langchain-ai/langchain/blob/master/cookbook/wikibase_agent.ipynb)\n",
    "\n",
    "This notebook demonstrates a very simple wikibase agent that uses sparql generation. Although this code is intended to work against any\n",
    "wikibase instance, we use http://wikidata.org for testing."
   ]
  },
  {
   "cell_type": "markdown",
   "id": "4929e643",
   "metadata": {},
   "source": [
    "## Setup\n",
    "\n",
    "For this cookbook, we only require to install the `nomos` package. rest of the dependancies are already installed in the environment."
   ]
  },
  {
   "cell_type": "code",
   "execution_count": null,
   "id": "fd0d2799",
   "metadata": {},
   "outputs": [],
   "source": [
    "!pip install nomos -U"
   ]
  },
  {
   "cell_type": "markdown",
   "id": "acc03ec6",
   "metadata": {},
   "source": [
    "## Tools\n",
    "We will require 3 tools for this simple agent:\n",
    "- `item_lookup`: for finding the q-number of an item\n",
    "- `property_lookup`: for finding the p-number of a property\n",
    "- `run_sparql`: for running a sparql query\n",
    "\n",
    "We will create these tools in this section. (These are straight from the [Langchain's Implementation of WikiBase Agent](https://github.com/langchain-ai/langchain/blob/master/cookbook/wikibase_agent.ipynb) with minor modifications)"
   ]
  },
  {
   "cell_type": "code",
   "execution_count": 1,
   "id": "19227c9a",
   "metadata": {},
   "outputs": [],
   "source": [
    "from typing import Any, List, Optional\n",
    "\n",
    "import requests\n",
    "\n",
    "def get_nested_value(o: dict, path: list) -> any:\n",
    "    current = o\n",
    "    for key in path:\n",
    "        try:\n",
    "            current = current[key]\n",
    "        except (KeyError, IndexError):\n",
    "            return None\n",
    "    return current\n",
    "\n",
    "\n",
    "def vocab_lookup(\n",
    "    search: str,\n",
    "    entity_type: str = \"item\",\n",
    "    url: str = \"https://www.wikidata.org/w/api.php\",\n",
    "    user_agent_headers: Optional[str] = None,\n",
    "    sqriprofile: Optional[str] = None,\n",
    ") -> str:\n",
    "    headers = {\"Accept\": \"application/json\"}\n",
    "    if user_agent_headers:\n",
    "        headers[\"User-Agent\"] = user_agent_headers\n",
    "\n",
    "    assert entity_type in [\"item\", \"property\"], \"entity_type must be 'item' or 'property'\"\n",
    "    srnamespace = 0 if entity_type == \"item\" else 120\n",
    "    sqriprofile = sqriprofile or \"classic_noboostlinks\" if entity_type == \"item\" else \"classic\"\n",
    "\n",
    "    params = {\n",
    "        \"action\": \"query\",\n",
    "        \"list\": \"search\",\n",
    "        \"srsearch\": search,\n",
    "        \"srwhat\": \"text\",\n",
    "        \"format\": \"json\",\n",
    "        \"type\": entity_type,\n",
    "        \"srlimit\": 1,\n",
    "        \"srnamespace\": srnamespace,\n",
    "        \"sqriprofile\": sqriprofile,\n",
    "    }\n",
    "\n",
    "    response = requests.get(url, headers=headers, params=params)\n",
    "\n",
    "    if response.status_code != 200:\n",
    "        raise Exception(f\"Error {response.status_code}: {response.text}\")\n",
    "    title = get_nested_value(response.json(), [\"query\", \"search\", 0, \"title\"])\n",
    "    assert title, f\"I couldn't find any {entity_type} for '{search}'. Please rephrase your request and try again\"\n",
    "    return str(title).split(\":\")[-1]\n",
    "\n",
    "\n",
    "def run_sparql_advanced(\n",
    "    query: str,\n",
    "    url=\"https://query.wikidata.org/sparql\",\n",
    "    user_agent_header: Optional[str] = None,\n",
    ") -> Any: # noqa\n",
    "    headers = {\"Accept\": \"application/json\"}\n",
    "    if user_agent_header:\n",
    "        headers[\"User-Agent\"] = user_agent_header\n",
    "\n",
    "    response = requests.get(\n",
    "        url, headers=headers, params={\"query\": query, \"format\": \"json\"}\n",
    "    )\n",
    "\n",
    "    if response.status_code != 200:\n",
    "        raise Exception(f\"Error {response.status_code}: {response.text}\")\n",
    "    results = get_nested_value(response.json(), [\"results\", \"bindings\"])\n",
    "    return results"
   ]
  },
  {
   "cell_type": "code",
   "execution_count": 2,
   "id": "60c12686",
   "metadata": {},
   "outputs": [
    {
     "name": "stdout",
     "output_type": "stream",
     "text": [
      "Q4180017 P7125\n"
     ]
    }
   ],
   "source": [
    "print(vocab_lookup(\"Malin 1\"), vocab_lookup(\"instance of\", entity_type=\"property\"))"
   ]
  },
  {
   "cell_type": "code",
   "execution_count": 3,
   "id": "6c3f0d0d",
   "metadata": {},
   "outputs": [
    {
     "ename": "AssertionError",
     "evalue": "I couldn't find any item for 'Ceci n'est pas un q-item'. Please rephrase your request and try again",
     "output_type": "error",
     "traceback": [
      "\u001b[0;31m---------------------------------------------------------------------------\u001b[0m",
      "\u001b[0;31mAssertionError\u001b[0m                            Traceback (most recent call last)",
      "Cell \u001b[0;32mIn[3], line 1\u001b[0m\n\u001b[0;32m----> 1\u001b[0m \u001b[38;5;28mprint\u001b[39m(\u001b[43mvocab_lookup\u001b[49m\u001b[43m(\u001b[49m\u001b[38;5;124;43m\"\u001b[39;49m\u001b[38;5;124;43mCeci n\u001b[39;49m\u001b[38;5;124;43m'\u001b[39;49m\u001b[38;5;124;43mest pas un q-item\u001b[39;49m\u001b[38;5;124;43m\"\u001b[39;49m\u001b[43m)\u001b[49m) \u001b[38;5;66;03m# Should raise an error since the item does not exist\u001b[39;00m\n",
      "Cell \u001b[0;32mIn[1], line 47\u001b[0m, in \u001b[0;36mvocab_lookup\u001b[0;34m(search, entity_type, url, user_agent_headers, sqriprofile)\u001b[0m\n\u001b[1;32m     45\u001b[0m     \u001b[38;5;28;01mraise\u001b[39;00m \u001b[38;5;167;01mException\u001b[39;00m(\u001b[38;5;124mf\u001b[39m\u001b[38;5;124m\"\u001b[39m\u001b[38;5;124mError \u001b[39m\u001b[38;5;132;01m{\u001b[39;00mresponse\u001b[38;5;241m.\u001b[39mstatus_code\u001b[38;5;132;01m}\u001b[39;00m\u001b[38;5;124m: \u001b[39m\u001b[38;5;132;01m{\u001b[39;00mresponse\u001b[38;5;241m.\u001b[39mtext\u001b[38;5;132;01m}\u001b[39;00m\u001b[38;5;124m\"\u001b[39m)\n\u001b[1;32m     46\u001b[0m title \u001b[38;5;241m=\u001b[39m get_nested_value(response\u001b[38;5;241m.\u001b[39mjson(), [\u001b[38;5;124m\"\u001b[39m\u001b[38;5;124mquery\u001b[39m\u001b[38;5;124m\"\u001b[39m, \u001b[38;5;124m\"\u001b[39m\u001b[38;5;124msearch\u001b[39m\u001b[38;5;124m\"\u001b[39m, \u001b[38;5;241m0\u001b[39m, \u001b[38;5;124m\"\u001b[39m\u001b[38;5;124mtitle\u001b[39m\u001b[38;5;124m\"\u001b[39m])\n\u001b[0;32m---> 47\u001b[0m \u001b[38;5;28;01massert\u001b[39;00m title, \u001b[38;5;124mf\u001b[39m\u001b[38;5;124m\"\u001b[39m\u001b[38;5;124mI couldn\u001b[39m\u001b[38;5;124m'\u001b[39m\u001b[38;5;124mt find any \u001b[39m\u001b[38;5;132;01m{\u001b[39;00mentity_type\u001b[38;5;132;01m}\u001b[39;00m\u001b[38;5;124m for \u001b[39m\u001b[38;5;124m'\u001b[39m\u001b[38;5;132;01m{\u001b[39;00msearch\u001b[38;5;132;01m}\u001b[39;00m\u001b[38;5;124m'\u001b[39m\u001b[38;5;124m. Please rephrase your request and try again\u001b[39m\u001b[38;5;124m\"\u001b[39m\n\u001b[1;32m     48\u001b[0m \u001b[38;5;28;01mreturn\u001b[39;00m \u001b[38;5;28mstr\u001b[39m(title)\u001b[38;5;241m.\u001b[39msplit(\u001b[38;5;124m\"\u001b[39m\u001b[38;5;124m:\u001b[39m\u001b[38;5;124m\"\u001b[39m)[\u001b[38;5;241m-\u001b[39m\u001b[38;5;241m1\u001b[39m]\n",
      "\u001b[0;31mAssertionError\u001b[0m: I couldn't find any item for 'Ceci n'est pas un q-item'. Please rephrase your request and try again"
     ]
    }
   ],
   "source": [
    "print(vocab_lookup(\"Ceci n'est pas un q-item\")) # Should raise an error since the item does not exist"
   ]
  },
  {
   "cell_type": "code",
   "execution_count": 4,
   "id": "a4f33d35",
   "metadata": {},
   "outputs": [
    {
     "data": {
      "text/plain": [
       "[{'count': {'datatype': 'http://www.w3.org/2001/XMLSchema#integer',\n",
       "   'type': 'literal',\n",
       "   'value': '20'}}]"
      ]
     },
     "execution_count": 4,
     "metadata": {},
     "output_type": "execute_result"
    }
   ],
   "source": [
    "run_sparql_advanced(\"SELECT (COUNT(?children) as ?count) WHERE { wd:Q1339 wdt:P40 ?children . }\")"
   ]
  },
  {
   "cell_type": "markdown",
   "id": "405e8757",
   "metadata": {},
   "source": [
    "These tools have unnecssary attributes we dont want the agent to interact with so we will remove them by creating a simple wrapper functions."
   ]
  },
  {
   "cell_type": "code",
   "execution_count": 5,
   "id": "19db611d",
   "metadata": {},
   "outputs": [],
   "source": [
    "def run_sparql(query: str) -> List[dict]:\n",
    "    \"\"\"Gets the results of a SPARQL query from Wikidata.\"\"\"\n",
    "    return run_sparql_advanced(query)\n",
    "\n",
    "def item_lookup(search: str) -> str:\n",
    "    \"\"\"Useful for when you need to know the q-number for an item\"\"\"\n",
    "    return vocab_lookup(search, entity_type=\"item\")\n",
    "\n",
    "def property_lookup(search: str) -> str:\n",
    "    \"\"\"Useful for when you need to know the p-number for a property\"\"\"\n",
    "    return vocab_lookup(search, entity_type=\"property\")"
   ]
  },
  {
   "cell_type": "markdown",
   "id": "ad40f11a",
   "metadata": {},
   "source": [
    "## Agent\n",
    "\n",
    "Here will create a simple agent that uses the tools and answers the question. We will use `Nomos` to create the agent and run it.\n",
    "For the time being. we will create only a single step agent."
   ]
  },
  {
   "cell_type": "code",
   "execution_count": 6,
   "id": "6b232038",
   "metadata": {},
   "outputs": [],
   "source": [
    "import os\n",
    "import getpass\n",
    "\n",
    "os.environ[\"OPENAI_API_KEY\"] = getpass.getpass(\"Enter your OpenAI API key: \")\n",
    "os.environ[\"ENABLE_NOMOS_LOGGING\"] = \"true\""
   ]
  },
  {
   "cell_type": "code",
   "execution_count": 7,
   "id": "729ddfdc",
   "metadata": {},
   "outputs": [],
   "source": [
    "from nomos import *\n",
    "from nomos.llms import LLMConfig\n",
    "\n",
    "step_instructions = \"\"\"\n",
    "Answer the following questions by running a sparql query against a wikibase where the p and q items are \n",
    "completely unknown to you. You will need to discover the p and q items before you can generate the sparql.\n",
    "Do not assume you know the p and q items for any concepts. Always use tools to find all p and q items.\n",
    "After you generate the sparql, you should run it. The results will be returned in json. \n",
    "Summarize the json results in natural language.\n",
    "\n",
    "You may assume the following prefixes:\n",
    "PREFIX wd: <http://www.wikidata.org/entity/>\n",
    "PREFIX wdt: <http://www.wikidata.org/prop/direct/>\n",
    "PREFIX p: <http://www.wikidata.org/prop/>\n",
    "PREFIX ps: <http://www.wikidata.org/prop/statement/>\n",
    "\n",
    "When generating sparql:\n",
    "* Try to avoid \"count\" and \"filter\" queries if possible\n",
    "* Never enclose the sparql in back-quotes\n",
    "\"\"\"\n",
    "\n",
    "start_step = Step(\n",
    "    step_id=\"start\",\n",
    "    description=step_instructions,\n",
    "    available_tools=[\"run_sparql\", \"item_lookup\", \"property_lookup\"],\n",
    ")\n",
    "\n",
    "llm = LLMConfig(\n",
    "    provider=\"openai\",\n",
    "    model=\"gpt-4o-mini\",\n",
    ").get_llm()\n",
    "\n",
    "agent = Agent(\n",
    "    name=\"Wikidata SPARQL Agent\",\n",
    "    steps=[start_step],\n",
    "    start_step_id=\"start\",\n",
    "    tools=[run_sparql, item_lookup, property_lookup],\n",
    "    llm=llm,\n",
    ")"
   ]
  },
  {
   "cell_type": "code",
   "execution_count": 8,
   "id": "f0c5553a",
   "metadata": {},
   "outputs": [
    {
     "data": {
      "image/svg+xml": [
       "<svg id=\"mermaid-svg\" width=\"100%\" xmlns=\"http://www.w3.org/2000/svg\" class=\"flowchart\" style=\"max-width: 837.359375px;\" viewBox=\"0 0 837.359375 294\" role=\"graphics-document document\" aria-roledescription=\"flowchart-v2\" xmlns:xlink=\"http://www.w3.org/1999/xlink\"><style xmlns=\"http://www.w3.org/1999/xhtml\">@import url(\"https://cdnjs.cloudflare.com/ajax/libs/font-awesome/6.7.2/css/all.min.css\");</style><style>#mermaid-svg{font-family:\"trebuchet ms\",verdana,arial,sans-serif;font-size:16px;fill:#333;}@keyframes edge-animation-frame{from{stroke-dashoffset:0;}}@keyframes dash{to{stroke-dashoffset:0;}}#mermaid-svg .edge-animation-slow{stroke-dasharray:9,5!important;stroke-dashoffset:900;animation:dash 50s linear infinite;stroke-linecap:round;}#mermaid-svg .edge-animation-fast{stroke-dasharray:9,5!important;stroke-dashoffset:900;animation:dash 20s linear infinite;stroke-linecap:round;}#mermaid-svg .error-icon{fill:#552222;}#mermaid-svg .error-text{fill:#552222;stroke:#552222;}#mermaid-svg .edge-thickness-normal{stroke-width:1px;}#mermaid-svg .edge-thickness-thick{stroke-width:3.5px;}#mermaid-svg .edge-pattern-solid{stroke-dasharray:0;}#mermaid-svg .edge-thickness-invisible{stroke-width:0;fill:none;}#mermaid-svg .edge-pattern-dashed{stroke-dasharray:3;}#mermaid-svg .edge-pattern-dotted{stroke-dasharray:2;}#mermaid-svg .marker{fill:#333333;stroke:#333333;}#mermaid-svg .marker.cross{stroke:#333333;}#mermaid-svg svg{font-family:\"trebuchet ms\",verdana,arial,sans-serif;font-size:16px;}#mermaid-svg p{margin:0;}#mermaid-svg .label{font-family:\"trebuchet ms\",verdana,arial,sans-serif;color:#333;}#mermaid-svg .cluster-label text{fill:#333;}#mermaid-svg .cluster-label span{color:#333;}#mermaid-svg .cluster-label span p{background-color:transparent;}#mermaid-svg .label text,#mermaid-svg span{fill:#333;color:#333;}#mermaid-svg .node rect,#mermaid-svg .node circle,#mermaid-svg .node ellipse,#mermaid-svg .node polygon,#mermaid-svg .node path{fill:#ECECFF;stroke:#9370DB;stroke-width:1px;}#mermaid-svg .rough-node .label text,#mermaid-svg .node .label text,#mermaid-svg .image-shape .label,#mermaid-svg .icon-shape .label{text-anchor:middle;}#mermaid-svg .node .katex path{fill:#000;stroke:#000;stroke-width:1px;}#mermaid-svg .rough-node .label,#mermaid-svg .node .label,#mermaid-svg .image-shape .label,#mermaid-svg .icon-shape .label{text-align:center;}#mermaid-svg .node.clickable{cursor:pointer;}#mermaid-svg .root .anchor path{fill:#333333!important;stroke-width:0;stroke:#333333;}#mermaid-svg .arrowheadPath{fill:#333333;}#mermaid-svg .edgePath .path{stroke:#333333;stroke-width:2.0px;}#mermaid-svg .flowchart-link{stroke:#333333;fill:none;}#mermaid-svg .edgeLabel{background-color:rgba(232,232,232, 0.8);text-align:center;}#mermaid-svg .edgeLabel p{background-color:rgba(232,232,232, 0.8);}#mermaid-svg .edgeLabel rect{opacity:0.5;background-color:rgba(232,232,232, 0.8);fill:rgba(232,232,232, 0.8);}#mermaid-svg .labelBkg{background-color:rgba(232, 232, 232, 0.5);}#mermaid-svg .cluster rect{fill:#ffffde;stroke:#aaaa33;stroke-width:1px;}#mermaid-svg .cluster text{fill:#333;}#mermaid-svg .cluster span{color:#333;}#mermaid-svg div.mermaidTooltip{position:absolute;text-align:center;max-width:200px;padding:2px;font-family:\"trebuchet ms\",verdana,arial,sans-serif;font-size:12px;background:hsl(80, 100%, 96.2745098039%);border:1px solid #aaaa33;border-radius:2px;pointer-events:none;z-index:100;}#mermaid-svg .flowchartTitleText{text-anchor:middle;font-size:18px;fill:#333;}#mermaid-svg rect.text{fill:none;stroke-width:0;}#mermaid-svg .icon-shape,#mermaid-svg .image-shape{background-color:rgba(232,232,232, 0.8);text-align:center;}#mermaid-svg .icon-shape p,#mermaid-svg .image-shape p{background-color:rgba(232,232,232, 0.8);padding:2px;}#mermaid-svg .icon-shape rect,#mermaid-svg .image-shape rect{opacity:0.5;background-color:rgba(232,232,232, 0.8);fill:rgba(232,232,232, 0.8);}#mermaid-svg :root{--mermaid-font-family:\"trebuchet ms\",verdana,arial,sans-serif;}#mermaid-svg .toolStyle&gt;*{fill:#e8f4fd!important;stroke:#1e88e5!important;stroke-width:2px!important;color:#000!important;}#mermaid-svg .toolStyle span{fill:#e8f4fd!important;stroke:#1e88e5!important;stroke-width:2px!important;color:#000!important;}#mermaid-svg .toolStyle tspan{fill:#000!important;}</style><g><marker id=\"mermaid-svg_flowchart-v2-pointEnd\" class=\"marker flowchart-v2\" viewBox=\"0 0 10 10\" refX=\"5\" refY=\"5\" markerUnits=\"userSpaceOnUse\" markerWidth=\"8\" markerHeight=\"8\" orient=\"auto\"><path d=\"M 0 0 L 10 5 L 0 10 z\" class=\"arrowMarkerPath\" style=\"stroke-width: 1; stroke-dasharray: 1, 0;\"/></marker><marker id=\"mermaid-svg_flowchart-v2-pointStart\" class=\"marker flowchart-v2\" viewBox=\"0 0 10 10\" refX=\"4.5\" refY=\"5\" markerUnits=\"userSpaceOnUse\" markerWidth=\"8\" markerHeight=\"8\" orient=\"auto\"><path d=\"M 0 5 L 10 10 L 10 0 z\" class=\"arrowMarkerPath\" style=\"stroke-width: 1; stroke-dasharray: 1, 0;\"/></marker><marker id=\"mermaid-svg_flowchart-v2-circleEnd\" class=\"marker flowchart-v2\" viewBox=\"0 0 10 10\" refX=\"11\" refY=\"5\" markerUnits=\"userSpaceOnUse\" markerWidth=\"11\" markerHeight=\"11\" orient=\"auto\"><circle cx=\"5\" cy=\"5\" r=\"5\" class=\"arrowMarkerPath\" style=\"stroke-width: 1; stroke-dasharray: 1, 0;\"/></marker><marker id=\"mermaid-svg_flowchart-v2-circleStart\" class=\"marker flowchart-v2\" viewBox=\"0 0 10 10\" refX=\"-1\" refY=\"5\" markerUnits=\"userSpaceOnUse\" markerWidth=\"11\" markerHeight=\"11\" orient=\"auto\"><circle cx=\"5\" cy=\"5\" r=\"5\" class=\"arrowMarkerPath\" style=\"stroke-width: 1; stroke-dasharray: 1, 0;\"/></marker><marker id=\"mermaid-svg_flowchart-v2-crossEnd\" class=\"marker cross flowchart-v2\" viewBox=\"0 0 11 11\" refX=\"12\" refY=\"5.2\" markerUnits=\"userSpaceOnUse\" markerWidth=\"11\" markerHeight=\"11\" orient=\"auto\"><path d=\"M 1,1 l 9,9 M 10,1 l -9,9\" class=\"arrowMarkerPath\" style=\"stroke-width: 2; stroke-dasharray: 1, 0;\"/></marker><marker id=\"mermaid-svg_flowchart-v2-crossStart\" class=\"marker cross flowchart-v2\" viewBox=\"0 0 11 11\" refX=\"-1\" refY=\"5.2\" markerUnits=\"userSpaceOnUse\" markerWidth=\"11\" markerHeight=\"11\" orient=\"auto\"><path d=\"M 1,1 l 9,9 M 10,1 l -9,9\" class=\"arrowMarkerPath\" style=\"stroke-width: 2; stroke-dasharray: 1, 0;\"/></marker><g class=\"root\"><g class=\"clusters\"/><g class=\"edgePaths\"><path d=\"M287.18,115.835L260.521,125.029C233.862,134.223,180.544,152.612,153.885,167.306C127.227,182,127.227,193,127.227,198.5L127.227,204\" id=\"L_step_start_tool_run_sparql_0\" class=\" edge-thickness-normal edge-pattern-solid edge-thickness-normal edge-pattern-solid flowchart-link\" style=\"\" marker-end=\"url(#mermaid-svg_flowchart-v2-pointEnd)\"/><path d=\"M417.18,134L417.18,140.167C417.18,146.333,417.18,158.667,417.18,170.333C417.18,182,417.18,193,417.18,198.5L417.18,204\" id=\"L_step_start_tool_item_lookup_0\" class=\" edge-thickness-normal edge-pattern-solid edge-thickness-normal edge-pattern-solid flowchart-link\" style=\"\" marker-end=\"url(#mermaid-svg_flowchart-v2-pointEnd)\"/><path d=\"M547.18,115.604L574.089,124.837C600.997,134.069,654.815,152.535,681.724,167.267C708.633,182,708.633,193,708.633,198.5L708.633,204\" id=\"L_step_start_tool_property_lookup_0\" class=\" edge-thickness-normal edge-pattern-solid edge-thickness-normal edge-pattern-solid flowchart-link\" style=\"\" marker-end=\"url(#mermaid-svg_flowchart-v2-pointEnd)\"/></g><g class=\"edgeLabels\"><g class=\"edgeLabel\" transform=\"translate(127.2265625, 171)\"><g class=\"label\" transform=\"translate(-16.8984375, -12)\"><foreignObject width=\"33.796875\" height=\"24\"><div xmlns=\"http://www.w3.org/1999/xhtml\" class=\"labelBkg\" style=\"display: table-cell; white-space: nowrap; line-height: 1.5; max-width: 200px; text-align: center;\"><span class=\"edgeLabel \"><p>uses</p></span></div></foreignObject></g></g><g class=\"edgeLabel\" transform=\"translate(417.1796875, 171)\"><g class=\"label\" transform=\"translate(-16.8984375, -12)\"><foreignObject width=\"33.796875\" height=\"24\"><div xmlns=\"http://www.w3.org/1999/xhtml\" class=\"labelBkg\" style=\"display: table-cell; white-space: nowrap; line-height: 1.5; max-width: 200px; text-align: center;\"><span class=\"edgeLabel \"><p>uses</p></span></div></foreignObject></g></g><g class=\"edgeLabel\" transform=\"translate(708.6328125, 171)\"><g class=\"label\" transform=\"translate(-16.8984375, -12)\"><foreignObject width=\"33.796875\" height=\"24\"><div xmlns=\"http://www.w3.org/1999/xhtml\" class=\"labelBkg\" style=\"display: table-cell; white-space: nowrap; line-height: 1.5; max-width: 200px; text-align: center;\"><span class=\"edgeLabel \"><p>uses</p></span></div></foreignObject></g></g></g><g class=\"nodes\"><g class=\"node default  \" id=\"flowchart-step_start-0\" transform=\"translate(417.1796875, 71)\"><rect class=\"basic label-container\" style=\"\" x=\"-130\" y=\"-63\" width=\"260\" height=\"126\"/><g class=\"label\" style=\"\" transform=\"translate(-100, -48)\"><rect/><foreignObject width=\"200\" height=\"96\"><div xmlns=\"http://www.w3.org/1999/xhtml\" style=\"display: table; white-space: break-spaces; line-height: 1.5; max-width: 200px; text-align: center; width: 200px;\"><span class=\"nodeLabel \"><p><b>start</b><br /><br />Answer the following question</p></span></div></foreignObject></g></g><g class=\"node default toolStyle \" id=\"flowchart-tool_run_sparql-1\" transform=\"translate(127.2265625, 247)\"><rect class=\"basic label-container\" style=\"fill:#e8f4fd !important;stroke:#1e88e5 !important;stroke-width:2px !important\" x=\"-119.2265625\" y=\"-39\" width=\"238.453125\" height=\"78\"/><g class=\"label\" style=\"color:#000 !important\" transform=\"translate(-89.2265625, -24)\"><rect/><foreignObject width=\"178.453125\" height=\"48\"><div style=\"color: rgb(0, 0, 0) !important; display: table-cell; white-space: nowrap; line-height: 1.5; max-width: 200px; text-align: center;\" xmlns=\"http://www.w3.org/1999/xhtml\"><span style=\"color:#000 !important\" class=\"nodeLabel \"><p><b>run_sparql</b><br />Gets the results of a SPA</p></span></div></foreignObject></g></g><g class=\"node default toolStyle \" id=\"flowchart-tool_item_lookup-2\" transform=\"translate(417.1796875, 247)\"><rect class=\"basic label-container\" style=\"fill:#e8f4fd !important;stroke:#1e88e5 !important;stroke-width:2px !important\" x=\"-120.7265625\" y=\"-39\" width=\"241.453125\" height=\"78\"/><g class=\"label\" style=\"color:#000 !important\" transform=\"translate(-90.7265625, -24)\"><rect/><foreignObject width=\"181.453125\" height=\"48\"><div style=\"color: rgb(0, 0, 0) !important; display: table-cell; white-space: nowrap; line-height: 1.5; max-width: 200px; text-align: center;\" xmlns=\"http://www.w3.org/1999/xhtml\"><span style=\"color:#000 !important\" class=\"nodeLabel \"><p><b>item_lookup</b><br />Useful for when you need</p></span></div></foreignObject></g></g><g class=\"node default toolStyle \" id=\"flowchart-tool_property_lookup-3\" transform=\"translate(708.6328125, 247)\"><rect class=\"basic label-container\" style=\"fill:#e8f4fd !important;stroke:#1e88e5 !important;stroke-width:2px !important\" x=\"-120.7265625\" y=\"-39\" width=\"241.453125\" height=\"78\"/><g class=\"label\" style=\"color:#000 !important\" transform=\"translate(-90.7265625, -24)\"><rect/><foreignObject width=\"181.453125\" height=\"48\"><div style=\"color: rgb(0, 0, 0) !important; display: table-cell; white-space: nowrap; line-height: 1.5; max-width: 200px; text-align: center;\" xmlns=\"http://www.w3.org/1999/xhtml\"><span style=\"color:#000 !important\" class=\"nodeLabel \"><p><b>property_lookup</b><br />Useful for when you need</p></span></div></foreignObject></g></g></g></g></g></svg>"
      ]
     },
     "metadata": {},
     "output_type": "display_data"
    }
   ],
   "source": [
    "agent.display()"
   ]
  },
  {
   "cell_type": "code",
   "execution_count": 9,
   "id": "b2965812",
   "metadata": {},
   "outputs": [
    {
     "data": {
      "text/plain": [
       "'Johann Sebastian Bach had 20 children.'"
      ]
     },
     "execution_count": 9,
     "metadata": {},
     "output_type": "execute_result"
    }
   ],
   "source": [
    "res = agent.next(\"How many children did J.S. Bach have?\")\n",
    "res.decision.response"
   ]
  },
  {
   "cell_type": "code",
   "execution_count": 10,
   "id": "5d1e4e75",
   "metadata": {},
   "outputs": [
    {
     "data": {
      "text/plain": [
       "\"The Basketball-Reference.com NBA player ID for Hakeem Olajuwon is 'hakeem-olajuwon-1'.\""
      ]
     },
     "execution_count": 10,
     "metadata": {},
     "output_type": "execute_result"
    }
   ],
   "source": [
    "res = agent.next(\"What is the Basketball-Reference.com NBA player ID of Hakeem Olajuwon?\")\n",
    "res.decision.response"
   ]
  },
  {
   "cell_type": "markdown",
   "id": "bb81439f",
   "metadata": {},
   "source": [
    "You can also maintain sessions for continuous conversations."
   ]
  },
  {
   "cell_type": "code",
   "execution_count": 11,
   "id": "2e243a32",
   "metadata": {},
   "outputs": [
    {
     "name": "stdout",
     "output_type": "stream",
     "text": [
      "The Basketball-Reference.com NBA player ID of Hakeem Olajuwon is 'o/olajuha01'.\n",
      "I'm sorry, but I was unable to find the retirement year of Hakeem Olajuwon. Therefore, I cannot calculate his age when he retired.\n"
     ]
    }
   ],
   "source": [
    "session = agent.create_session()\n",
    "res = session.next(\"What is the Basketball-Reference.com NBA player ID of Hakeem Olajuwon?\")\n",
    "print(res.decision.response)\n",
    "res = session.next(\"How old he was when he retired?\")\n",
    "print(res.decision.response)"
   ]
  },
  {
   "cell_type": "code",
   "execution_count": null,
   "id": "3b974803",
   "metadata": {},
   "outputs": [],
   "source": []
  }
 ],
 "metadata": {
  "kernelspec": {
   "display_name": "base",
   "language": "python",
   "name": "python3"
  },
  "language_info": {
   "codemirror_mode": {
    "name": "ipython",
    "version": 3
   },
   "file_extension": ".py",
   "mimetype": "text/x-python",
   "name": "python",
   "nbconvert_exporter": "python",
   "pygments_lexer": "ipython3",
   "version": "3.13.2"
  }
 },
 "nbformat": 4,
 "nbformat_minor": 5
}
