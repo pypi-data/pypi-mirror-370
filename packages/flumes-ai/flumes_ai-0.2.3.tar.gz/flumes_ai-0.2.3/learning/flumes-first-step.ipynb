{
  "cells": [
    {
      "cell_type": "markdown",
      "metadata": {},
      "source": [
        "# Flumes: First Steps 🚀\n",
        "\n",
        "Give your agents durable, structured memory in minutes. This notebook mirrors a realistic onboarding flow:\n",
        "\n",
        "- Initialize the Python SDK\n",
        "- Add a rich, real-world message and watch Flumes extract multiple memories (facts, events, preferences)\n",
        "- Retrieve relevant context for a follow‑up question\n",
        "\n",
        "### What makes Flumes different (at a glance)\n",
        "- Single call to assemble context optionally extracts + stores the turn (no extra summarization step needed)\n",
        "- Hybrid retrieval with tunable weights and sensible presets (balanced, factual, recent, graphy)\n",
        "- Built‑in budgeting with small, predictable caps (light / standard / heavy) and returned pack telemetry\n",
        "- Entity‑first design: you work with `entity_id` and optional `namespace` everywhere\n",
        "\n",
        "You only need your Flumes API key. The base URL is built‑in: `https://api.flumes.ai`\n"
      ]
    },
    {
      "cell_type": "code",
      "execution_count": 1,
      "metadata": {},
      "outputs": [],
      "source": [
        "# Paste your API key here or set FLUMES_API_KEY in your environment\n",
        "import os\n",
        "API_KEY = os.getenv(\"FLUMES_API_KEY\", \"fl_658a2f25b0e34d008ec5b7c9a7a74fd2\")\n",
        "if API_KEY == \"your-api-key\":\n",
        "    print(\"⚠️ Set FLUMES_API_KEY or edit API_KEY above before running the rest.\")\n"
      ]
    },
    {
      "cell_type": "code",
      "execution_count": 2,
      "metadata": {},
      "outputs": [
        {
          "name": "stdout",
          "output_type": "stream",
          "text": [
            "Note: you may need to restart the kernel to use updated packages.\n",
            "Note: you may need to restart the kernel to use updated packages.\n",
            "Deps installed: openai + flumes-ai\n",
            "Installed flumes-ai\n"
          ]
        }
      ],
      "source": [
        "# Install the SDK (one-time in Colab/local)\n",
        "%pip install -q openai #Only needed for the advanced agent example\n",
        "%pip install -q flumes-ai\n",
        "print(\"Deps installed: openai + flumes-ai\")\n",
        "\n",
        "print(\"Installed flumes-ai\")\n"
      ]
    },
    {
      "cell_type": "code",
      "execution_count": null,
      "metadata": {},
      "outputs": [
        {
          "name": "stdout",
          "output_type": "stream",
          "text": [
            "Client ready → entity: user_demo_001 namespace: prod\n"
          ]
        }
      ],
      "source": [
        "# Initialize the client (entity-first)\n",
        "from flumes import MemoryClient\n",
        "\n",
        "client = MemoryClient(api_key=API_KEY, agent_id=\"onboarding-bot\")\n",
        "entity_id = \"user_demo_001\"\n",
        "\n",
        "print(\"Client ready → entity:\", entity_id, \"namespace:\", namespace)\n"
      ]
    },
    {
      "cell_type": "code",
      "execution_count": 4,
      "metadata": {},
      "outputs": [
        {
          "name": "stdout",
          "output_type": "stream",
          "text": [
            "{\"ts\": \"2025-08-19T16:49:06.176Z\", \"event\": \"request\", \"data\": {\"method\": \"POST\", \"url\": \"/v0/context/assemble\", \"headers\": {\"X-Flumes-Agent\": \"onboarding-bot\", \"Idempotency-Key\": \"40d4276acd6df5abaa47eb9399a47f01\"}}}\n",
            "{\"ts\": \"2025-08-19T16:49:11.749Z\", \"event\": \"response\", \"data\": {\"status\": 200, \"url\": \"/v0/context/assemble\", \"request_id\": \"req_93d3618100cd4c6c946179e748a402bf\"}}\n",
            "Stored. request_id= req_93d3618100cd4c6c946179e748a402bf\n",
            "Pack: {'target_tokens': 1200, 'hard_cap_tokens': 1500, 'used_tokens': 249, 'dropped': [{'action': 'dedupe_exact_text', 'memory_id': 'mem_ec98aafa24f24cfc8834a8e36cdf8392'}, {'action': 'dedupe_exact_text', 'memory_id': 'mem_b9e73e0f4c9a482f9612ef0cf862733e'}, {'action': 'dedupe_exact_text', 'memory_id': 'mem_3cbd6fed6b604da2a9ef2d4b8b628ec2'}, {'action': 'dedupe_exact_text', 'memory_id': 'mem_1da0b5b4b71d48209dda0455f98a00e2'}, {'action': 'dedupe_exact_text', 'memory_id': 'mem_59dd668cfde2472987f7a770f9ce82bd'}, {'action': 'dedupe_exact_text', 'memory_id': 'mem_ced1f59f6d544dbe924af96dc2898ec0'}, {'action': 'dedupe_exact_text', 'memory_id': 'mem_a1ef624c830647cca46514bd480e73a0'}, {'action': 'dedupe_exact_text', 'memory_id': 'mem_7917a06081b04c1593c9130ad27c2822'}, {'action': 'dedupe_exact_text', 'memory_id': 'mem_6604627915f141eab4f71694474ad2fa'}, {'action': 'dedupe_exact_text', 'memory_id': 'mem_50ce4c3623bb4444b4f6566dc9713dc0'}, {'action': 'dedupe_exact_text', 'memory_id': 'mem_5a581cfb6f40407cabfa854484b5039f'}, {'action': 'dedupe_exact_text', 'memory_id': 'mem_9692edcfb08246579329de07487520b6'}]}\n",
            "Summary:\n",
            " Alice Parker, a Paris resident, is planning a quiet getaway to Lyon next month, seeking scenic runs, museums, and wine bars while avoiding crowded places on weekends.\n"
          ]
        }
      ],
      "source": [
        "# Step 1: Add a rich message (Flumes will extract structured facts/events)\n",
        "# This text is intentionally dense so the graph has plenty to show.\n",
        "\n",
        "u = client.for_entity(entity_id, namespace=namespace)\n",
        "\n",
        "rich_message = (\n",
        "    \"I'm Alice Parker, living in Paris since 2023. I usually travel with my brother Ben. \"\n",
        "    \"For work, I'm a product manager at Nova Labs. I prefer museums over nightlife and \"\n",
        "    \"love quiet wine bars in the Latin Quarter. My favorite artists are Monet and Van Gogh. \"\n",
        "    \"I'm training for a half-marathon; my pace is around 5:30/km. Budget for trips is about €1200. \"\n",
        "    \"I have a gluten allergy and avoid crowded places on weekends. The last hotel I loved was Hotel Lumière \"\n",
        "    \"near Jardin du Luxembourg; I rated it 5/5 in May 2025. I'm planning a 3-day getaway to Lyon next month, \"\n",
        "    \"and I'd like recommendations that include scenic runs by the river, museums, and quiet dinner spots.\"\n",
        ")\n",
        "\n",
        "res = u.add(rich_message, budget=\"standard\")\n",
        "print(\"Stored. request_id=\", res.get(\"request_id\"))\n",
        "print(\"Pack:\", res.get(\"pack\"))\n",
        "print(\"Summary:\\n\", (res.get(\"context\") or {}).get(\"summary\", \"\"))\n"
      ]
    },
    {
      "cell_type": "code",
      "execution_count": 5,
      "metadata": {},
      "outputs": [
        {
          "name": "stdout",
          "output_type": "stream",
          "text": [
            "{\"ts\": \"2025-08-19T16:49:18.377Z\", \"event\": \"request\", \"data\": {\"method\": \"GET\", \"url\": \"/v0/memories\", \"params\": {\"entity_id\": \"user_demo_001\", \"namespace\": \"prod\", \"limit\": 10}}}\n",
            "{\"ts\": \"2025-08-19T16:49:18.595Z\", \"event\": \"response\", \"data\": {\"status\": 200, \"url\": \"/v0/memories\", \"request_id\": null}}\n",
            "Fetched 10 items\n",
            "- event :: I'm Alice Parker, living in Paris since 2023. I usually travel with my brother Ben. For work, I'm a product manager at Nova Labs. I prefer museums over nightlife and love quiet wine bars in the Latin Quarter. My favorite artists are Monet and Van Gogh. I'm training for a half-marathon; my pace is around 5:30/km. Budget for trips is about €1200. I have a gluten allergy and avoid crowded places on weekends. The last hotel I loved was Hotel Lumière near Jardin du Luxembourg; I rated it 5/5 in May 2025. I'm planning a 3-day getaway to Lyon next month, and I'd like recommendations that include scenic runs by the river, museums, and quiet dinner spots.\n",
            "- fact :: getaway_timing = next month\n",
            "- fact :: getaway_duration = 3 days\n",
            "- fact :: planning_getaway = Lyon\n",
            "- fact :: rated_hotel_in = May 2025\n",
            "- fact :: rated_hotel = 5\n"
          ]
        }
      ],
      "source": [
        "# Step 2: Verify memories exist (facts/events)\n",
        "page = client.get_all(entity_id=entity_id, namespace=namespace, limit=10)\n",
        "print(\"Fetched\", len(page.get(\"items\", [])), \"items\")\n",
        "for m in page.get(\"items\", [])[:6]:\n",
        "    print(\"-\", m.get(\"type\"), \"::\", m.get(\"text\"))\n"
      ]
    },
    {
      "cell_type": "code",
      "execution_count": 6,
      "metadata": {},
      "outputs": [
        {
          "name": "stdout",
          "output_type": "stream",
          "text": [
            "{\"ts\": \"2025-08-19T16:49:21.581Z\", \"event\": \"request\", \"data\": {\"method\": \"POST\", \"url\": \"/v0/recall\"}}\n",
            "{\"ts\": \"2025-08-19T16:49:22.729Z\", \"event\": \"response\", \"data\": {\"status\": 200, \"url\": \"/v0/recall\", \"request_id\": \"req_70ec4a8736c84dacae426e930f7289b9\"}}\n",
            "Matches: 16\n",
            "- needs_recommendation = scenic runs by the river, museums, and quiet dinner spots (score=0.6)\n",
            "- preference = quiet wine bars in the Latin Quarter (score=0.469)\n",
            "- planning_trip = Lyon (score=0.445)\n",
            "- loves = quiet wine bars in the Latin Quarter (score=0.444)\n",
            "- planning_getaway = Lyon (score=0.441)\n",
            "- trip_planning = Lyon (score=0.437)\n"
          ]
        }
      ],
      "source": [
        "# Step 3: Retrieve context for a new message\n",
        "query = \"Looking for a quiet dinner near a scenic running route in Lyon; any museum picks?\"\n",
        "res = client.search(query, entity_id=entity_id, namespace=namespace, top_k=16, include_scores=True)\n",
        "print(\"Matches:\", len(res.get(\"matches\", [])))\n",
        "for m in res.get(\"matches\", [])[:6]:\n",
        "    print(f\"- {m.get('text')} (score={round(m.get('score', 0),3)})\")\n"
      ]
    },
    {
      "cell_type": "markdown",
      "metadata": {},
      "source": [
        "### Next steps\n",
        "- Try adding another turn (preferences, places, ratings)\n",
        "- Use the Agent helper for end-to-end chat with citations\n",
        "- Explore the graph view in the dashboard to see entities and relationships emerge\n"
      ]
    },
    {
      "cell_type": "markdown",
      "metadata": {},
      "source": [
        "## Advanced: Retrieval weights, budgeting, and presets\n",
        "\n",
        "Flumes retrieval combines semantic, keyword (BM25), and graph signals. You control it with a simple `retrieval` object:\n",
        "\n",
        "- `preset`: one of `balanced | factual | recent | graphy`\n",
        "- Or `weights`: `{ semantic, bm25, graph_prior, recency_decay, confidence }` (server renormalizes; flags indicate if adjusted)\n",
        "- `top_k`: number of candidates to return (default 16)\n",
        "\n",
        "Budgeting keeps cost predictable:\n",
        "- `budget = \"light\" | \"standard\" | \"heavy\"` → max_context_tokens of ~400 / 1200 / 2400 (hard caps applied)\n",
        "- Each `add()` returns `pack = { target_tokens, hard_cap_tokens, used_tokens, dropped[] }`\n",
        "\n",
        "You can pass these knobs per call or set them as defaults on the client.\n"
      ]
    },
    {
      "cell_type": "code",
      "execution_count": null,
      "metadata": {},
      "outputs": [
        {
          "name": "stdout",
          "output_type": "stream",
          "text": [
            "{\"ts\": \"2025-08-19T16:54:56.951Z\", \"event\": \"request\", \"data\": {\"method\": \"POST\", \"url\": \"/v0/recall\"}}\n",
            "{\"ts\": \"2025-08-19T16:54:58.097Z\", \"event\": \"response\", \"data\": {\"status\": 200, \"url\": \"/v0/recall\", \"request_id\": \"req_ca352f96454646eb930653ecd9fb977c\"}}\n",
            "Top 5 with custom weights:\n",
            "- needs_recommendation = scenic runs by the river, museums, and quiet dinner spots (score=0.6)\n",
            "- planning_getaway_to = Lyon (score=0.536)\n",
            "- planning_trip = Lyon (score=0.499)\n",
            "- trip_planning = Lyon (score=0.498)\n",
            "- planning_getaway = Lyon (score=0.496)\n"
          ]
        }
      ],
      "source": [
        "# Try custom retrieval weights and a different budget\n",
        "query = \"Quiet dinner near scenic runs and impressionist museums in Lyon\"\n",
        "res = client.search(\n",
        "    query,\n",
        "    entity_id=entity_id\n",
        "    top_k=16,\n",
        "    weights={\"semantic\": 0.6, \"bm25\": 0.3, \"graph_prior\": 0.1},\n",
        "    include_scores=True,\n",
        ")\n",
        "print(\"Top 5 with custom weights:\")\n",
        "for m in res.get(\"matches\", [])[:5]:\n",
        "    print(f\"- {m.get('text')} (score={round(m.get('score', 0),3)})\")\n"
      ]
    },
    {
      "cell_type": "markdown",
      "metadata": {},
      "source": [
        "## Optional: Agent SDK (end-to-end chat)\n",
        "If you have an OpenAI key configured, you can run a short chat with grounded context. This uses the same `add()` assemble call under the hood.\n",
        "\n",
        "Before running the next cells, ensure `OPENAI_API_KEY` is set in your environment.\n"
      ]
    },
    {
      "cell_type": "code",
      "execution_count": 9,
      "metadata": {},
      "outputs": [
        {
          "name": "stdout",
          "output_type": "stream",
          "text": [
            "{\"ts\": \"2025-08-19T16:50:35.852Z\", \"event\": \"request\", \"data\": {\"method\": \"POST\", \"url\": \"/v0/context/assemble\", \"headers\": {\"X-Flumes-Agent\": \"onboarding-bot\", \"Idempotency-Key\": \"9d9c77db3c3c0333f633fc8260f41faa\"}}}\n",
            "{\"ts\": \"2025-08-19T16:50:37.382Z\", \"event\": \"response\", \"data\": {\"status\": 200, \"url\": \"/v0/context/assemble\", \"request_id\": \"req_8b1c11cac5dc4573a352ef8756d50dd2\"}}\n",
            "{\"ts\": \"2025-08-19T16:50:37.384Z\", \"event\": \"llm.called\", \"data\": {\"backend\": \"OpenAIBackend\", \"prompt\": \"Plan my trip.\"}}\n",
            "{\"ts\": \"2025-08-19T16:50:40.321Z\", \"event\": \"request\", \"data\": {\"method\": \"POST\", \"url\": \"/v0/context/assemble\", \"headers\": {\"X-Flumes-Agent\": \"onboarding-bot\", \"Idempotency-Key\": \"1143cc6a03e10891bb60734b6095f64e\"}}}\n",
            "{\"ts\": \"2025-08-19T16:50:42.396Z\", \"event\": \"response\", \"data\": {\"status\": 200, \"url\": \"/v0/context/assemble\", \"request_id\": \"req_7087366008e3491f83794afc399a7111\"}}\n",
            "Sure! I’d be happy to help you plan your trip. Could you provide me with some details? Here are a few questions to get started:\n",
            "\n",
            "1. Where are you planning to go?\n",
            "2. What are your travel dates?\n",
            "3. What is your budget?\n",
            "4. What type of activities are you interested in (e.g., sightseeing, adventure, relaxation)?\n",
            "5. Will you be traveling alone or with others?\n",
            "6. Any specific places or attractions you want to include?\n",
            "\n",
            "Feel free to share any other preferences or requirements you have!\n"
          ]
        }
      ],
      "source": [
        "\n",
        "from flumes import Agent\n",
        "agent = Agent(agent_id=\"onboarding-bot\", entity_id=entity_id, memory_client=client)\n",
        "print(agent.chat(\"Plan my trip.\"))\n"
      ]
    },
    {
      "cell_type": "markdown",
      "metadata": {},
      "source": [
        "## Wrap‑up and next steps\n",
        "You're done! You installed the SDK, initialized a client, added a dense message, verified stored memories, and retrieved context. \n",
        "\n",
        "Where to go next:\n",
        "- View your memory graph in the dashboard (entities, facts, relationships)\n",
        "- Read the API reference and concepts (retrieval presets, budgeting, policies)\n",
        "- Explore SDK examples (Python, Node)\n",
        "\n",
        "Replace these with your links:\n",
        "- Dashboard: <YOUR_DASHBOARD_URL>\n",
        "- Docs: <YOUR_DOCS_URL>\n",
        "- SDK repos: <YOUR_SDK_URLS>\n"
      ]
    }
  ],
  "metadata": {
    "kernelspec": {
      "display_name": ".venv",
      "language": "python",
      "name": "python3"
    },
    "language_info": {
      "codemirror_mode": {
        "name": "ipython",
        "version": 3
      },
      "file_extension": ".py",
      "mimetype": "text/x-python",
      "name": "python",
      "nbconvert_exporter": "python",
      "pygments_lexer": "ipython3",
      "version": "3.10.6"
    }
  },
  "nbformat": 4,
  "nbformat_minor": 2
}
