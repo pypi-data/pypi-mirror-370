{
  "cells": [
    {
      "cell_type": "markdown",
      "metadata": {
        "vscode": {
          "languageId": "raw"
        },
        "id": "Vg3AhBK8Mekq"
      },
      "source": [
        "# 🧠 Build an AI Agent With Real Memory, Not Just Context Tokens\n",
        "\n",
        "Modern LLM apps are goldfish.\n",
        "\n",
        "They forget everything you’ve ever told them, unless you duct-tape together vector DBs, summaries, token buffers, and caches. It’s slow, expensive, and brittle, and the moment your app grows, it breaks.\n",
        "\n",
        "This notebook shows you how to fix that.\n",
        "\n",
        "You’ll build an agent that:\n",
        "- 🔁 **Persists** memory across interactions\n",
        "- 💡 **Recalls** relevant information on demand\n",
        "- 🔍 **Exposes** what it knows and why\n",
        "- 🧱 **Uses** a real production-ready memory infrastructure — no hacks\n",
        "\n",
        "We’ll start with a forgetful baseline, then plug in the [**Flumes Memory API**](https://www.flumes.ai/) to turn it into something closer to intelligent.\n",
        "\n",
        "---\n",
        "\n",
        "## ⚠️ Why This Matters\n",
        "\n",
        "Building agents without memory is like building apps without databases. You can fake it with short-term buffers, but the result is dumb, repetitive, and costly.\n",
        "\n",
        "**Memory isn't just storage — it's structure, access, and trust.**\n",
        "\n",
        "This is your first step toward treating memory as infrastructure.\n",
        "\n",
        "---\n",
        "\n",
        "## ✅ What You’ll Learn\n",
        "\n",
        "| Without Memory | With Flumes |\n",
        "|----------------|-------------|\n",
        "| ❌ Forgets user name after 5 turns | ✅ Recalls identity across chats |\n",
        "| ❌ Repeats context = high token cost | ✅ Smart, efficient recall |\n",
        "| ❌ No visibility into what it \"knows\" | ✅ Full observability + debugging |\n",
        "| ❌ Stateless vector hacks | ✅ Structured, persistent, semantic memory |\n",
        "\n",
        "Ready to build something smarter?\n",
        "\n",
        "Let’s go. 🚀"
      ]
    },
    {
      "cell_type": "markdown",
      "metadata": {
        "vscode": {
          "languageId": "raw"
        },
        "id": "ATSBk06lMekr"
      },
      "source": [
        "## 🛠️ Setup (2 minutes)\n",
        "\n",
        "First, let's install what we need. This works in **Google Colab**, **Jupyter**, or **locally**.\n"
      ]
    },
    {
      "cell_type": "code",
      "execution_count": null,
      "metadata": {
        "id": "ZB4_2fzKMeks",
        "outputId": "4b98e264-73e8-4a6a-d48c-884b05cabeb9"
      },
      "outputs": [
        {
          "name": "stdout",
          "output_type": "stream",
          "text": [
            "\n",
            "\u001b[1m[\u001b[0m\u001b[34;49mnotice\u001b[0m\u001b[1;39;49m]\u001b[0m\u001b[39;49m A new release of pip available: \u001b[0m\u001b[31;49m22.2.1\u001b[0m\u001b[39;49m -> \u001b[0m\u001b[32;49m25.1.1\u001b[0m\n",
            "\u001b[1m[\u001b[0m\u001b[34;49mnotice\u001b[0m\u001b[1;39;49m]\u001b[0m\u001b[39;49m To update, run: \u001b[0m\u001b[32;49mpip install --upgrade pip\u001b[0m\n",
            "Note: you may need to restart the kernel to use updated packages.\n",
            "✅ Packages installed!\n"
          ]
        }
      ],
      "source": [
        "# 📦 Install the essentials\n",
        "%pip install -q openai requests rich flumes-ai\n",
        "\n",
        "print(\"✅ Packages installed!\")\n"
      ]
    },
    {
      "cell_type": "code",
      "execution_count": null,
      "metadata": {
        "id": "HG7JJzUUMekt",
        "outputId": "1b5a7487-ba56-4748-e31d-3a98e03deb9e"
      },
      "outputs": [
        {
          "data": {
            "text/html": [
              "<pre style=\"white-space:pre;overflow-x:auto;line-height:normal;font-family:Menlo,'DejaVu Sans Mono',consolas,'Courier New',monospace\">🎉 <span style=\"color: #008000; text-decoration-color: #008000; font-weight: bold\">Ready to build some AI magic!</span>\n",
              "</pre>\n"
            ],
            "text/plain": [
              "🎉 \u001b[1;32mReady to build some AI magic!\u001b[0m\n"
            ]
          },
          "metadata": {},
          "output_type": "display_data"
        }
      ],
      "source": [
        "# 🔧 Import what we need\n",
        "import os\n",
        "import json\n",
        "import getpass\n",
        "import requests\n",
        "import time\n",
        "from typing import List, Dict, Any\n",
        "from rich.console import Console\n",
        "from rich.panel import Panel\n",
        "from rich.table import Table\n",
        "from rich import print as rprint\n",
        "\n",
        "\n",
        "console = Console()\n",
        "console.print(\"🎉 [bold green]Ready to build some AI magic![/bold green]\")\n"
      ]
    },
    {
      "cell_type": "code",
      "execution_count": null,
      "metadata": {
        "id": "EvUa6QMuMekt",
        "outputId": "d110bbce-1644-4049-f7cb-659acd4f60ee"
      },
      "outputs": [
        {
          "data": {
            "text/html": [
              "<pre style=\"white-space:pre;overflow-x:auto;line-height:normal;font-family:Menlo,'DejaVu Sans Mono',consolas,'Courier New',monospace\">✅ <span style=\"color: #008000; text-decoration-color: #008000\">OpenAI configured!</span>\n",
              "</pre>\n"
            ],
            "text/plain": [
              "✅ \u001b[32mOpenAI configured!\u001b[0m\n"
            ]
          },
          "metadata": {},
          "output_type": "display_data"
        },
        {
          "data": {
            "text/html": [
              "<pre style=\"white-space:pre;overflow-x:auto;line-height:normal;font-family:Menlo,'DejaVu Sans Mono',consolas,'Courier New',monospace\">✅ <span style=\"color: #008000; text-decoration-color: #008000\">Flumes Memory API ready!</span>\n",
              "</pre>\n"
            ],
            "text/plain": [
              "✅ \u001b[32mFlumes Memory API ready!\u001b[0m\n"
            ]
          },
          "metadata": {},
          "output_type": "display_data"
        },
        {
          "data": {
            "text/html": [
              "<pre style=\"white-space:pre;overflow-x:auto;line-height:normal;font-family:Menlo,'DejaVu Sans Mono',consolas,'Courier New',monospace\">\n",
              "🎯 <span style=\"font-weight: bold\">Let's build an agent with real memory!</span>\n",
              "</pre>\n"
            ],
            "text/plain": [
              "\n",
              "🎯 \u001b[1mLet's build an agent with real memory!\u001b[0m\n"
            ]
          },
          "metadata": {},
          "output_type": "display_data"
        }
      ],
      "source": [
        "# 🔑 API Keys Setup\n",
        "from openai import OpenAI\n",
        "\n",
        "# Get your OpenAI key (we'll use this for the agent's brain)\n",
        "if \"OPENAI_API_KEY\" not in os.environ:\n",
        "    os.environ[\"OPENAI_API_KEY\"] = getpass.getpass(\"🔑 Enter your OpenAI API key: \")\n",
        "openai_client = OpenAI(api_key=os.environ[\"OPENAI_API_KEY\"])\n",
        "\n",
        "# 🧠 Flumes Memory API (we've got a demo key for you!)\n",
        "#FLUMES_API_KEY = \"de25b8f2e3e51a2ac1e135a407680d8c81f7dea75914d232\"\n",
        "os.environ[\"FLUMES_API_KEY\"] = \"de25b8f2e3e51a2ac1e135a407680d8c81f7dea75914d232\"\n",
        "FLUMES_API_URL = \"https://api.flumes.ai/v1\"\n",
        "\n",
        "console.print(\"✅ [green]OpenAI configured![/green]\")\n",
        "console.print(\"✅ [green]Flumes Memory API ready![/green]\")\n",
        "console.print(\"\\n🎯 [bold]Let's build an agent with real memory![/bold]\")\n"
      ]
    },
    {
      "cell_type": "markdown",
      "metadata": {
        "vscode": {
          "languageId": "raw"
        },
        "id": "ncmsA-7QMekt"
      },
      "source": [
        "---\n",
        "\n",
        "## 🐠 Part 1: The Goldfish Problem\n",
        "\n",
        "Let's start with what **most developers build today** - a chatbot that forgets everything the moment you refresh the page.\n",
        "\n",
        "**Watch this fail spectacularly:**\n"
      ]
    },
    {
      "cell_type": "code",
      "execution_count": null,
      "metadata": {
        "id": "Tf5CQfZ8Meku",
        "outputId": "c094ee49-a64a-40f7-d6dc-465fc82b80e3"
      },
      "outputs": [
        {
          "data": {
            "text/html": [
              "<pre style=\"white-space:pre;overflow-x:auto;line-height:normal;font-family:Menlo,'DejaVu Sans Mono',consolas,'Courier New',monospace\">🐠 <span style=\"color: #808000; text-decoration-color: #808000\">Goldfish Agent created!</span>\n",
              "</pre>\n"
            ],
            "text/plain": [
              "🐠 \u001b[33mGoldfish Agent created!\u001b[0m\n"
            ]
          },
          "metadata": {},
          "output_type": "display_data"
        }
      ],
      "source": [
        "class GoldfishAgent:\n",
        "    \"\"\"A typical AI agent - smart but forgetful 🐠\"\"\"\n",
        "\n",
        "    def __init__(self):\n",
        "        self.current_chat = []  # Only remembers current session\n",
        "\n",
        "    def chat(self, message: str) -> str:\n",
        "        \"\"\"Chat with the agent (but it forgets everything between sessions)\"\"\"\n",
        "\n",
        "        # Add user message\n",
        "        self.current_chat.append({\"role\": \"user\", \"content\": message})\n",
        "\n",
        "        # Get AI response\n",
        "        response = openai_client.chat.completions.create(\n",
        "            model=\"gpt-3.5-turbo\",\n",
        "            messages=[\n",
        "                {\"role\": \"system\", \"content\": \"You are a helpful assistant.\"}\n",
        "            ] + self.current_chat,\n",
        "            max_tokens=100\n",
        "        )\n",
        "\n",
        "        ai_message = response.choices[0].message.content\n",
        "        self.current_chat.append({\"role\": \"assistant\", \"content\": ai_message})\n",
        "\n",
        "        return ai_message\n",
        "\n",
        "    def new_session(self):\n",
        "        \"\"\"Simulate starting fresh (like refreshing a webpage)\"\"\"\n",
        "        self.current_chat = []\n",
        "        console.print(\"🔄 [red]New session started - all memory wiped![/red]\")\n",
        "\n",
        "# Create our forgetful agent\n",
        "goldfish = GoldfishAgent()\n",
        "console.print(\"🐠 [yellow]Goldfish Agent created![/yellow]\")\n"
      ]
    },
    {
      "cell_type": "code",
      "execution_count": null,
      "metadata": {
        "id": "Trq08WK2Meku",
        "outputId": "1d3a4a17-bcc1-4e96-8443-e212f351efd7"
      },
      "outputs": [
        {
          "data": {
            "text/html": [
              "<pre style=\"white-space:pre;overflow-x:auto;line-height:normal;font-family:Menlo,'DejaVu Sans Mono',consolas,'Courier New',monospace\">╭──────────────────────────────────╮\n",
              "│ <span style=\"color: #000080; text-decoration-color: #000080; font-weight: bold\">Conversation with Goldfish Agent</span> │\n",
              "╰──────────────────────────────────╯\n",
              "</pre>\n"
            ],
            "text/plain": [
              "╭──────────────────────────────────╮\n",
              "│ \u001b[1;34mConversation with Goldfish Agent\u001b[0m │\n",
              "╰──────────────────────────────────╯\n"
            ]
          },
          "metadata": {},
          "output_type": "display_data"
        },
        {
          "data": {
            "text/html": [
              "<pre style=\"white-space:pre;overflow-x:auto;line-height:normal;font-family:Menlo,'DejaVu Sans Mono',consolas,'Courier New',monospace\">👤 <span style=\"color: #008000; text-decoration-color: #008000\">Alex:</span> Hi! I'm Alex and my dog's name is Max. He's a Golden Retriever!\n",
              "</pre>\n"
            ],
            "text/plain": [
              "👤 \u001b[32mAlex:\u001b[0m Hi! I'm Alex and my dog's name is Max. He's a Golden Retriever!\n"
            ]
          },
          "metadata": {},
          "output_type": "display_data"
        },
        {
          "data": {
            "text/html": [
              "<pre style=\"white-space:pre;overflow-x:auto;line-height:normal;font-family:Menlo,'DejaVu Sans Mono',consolas,'Courier New',monospace\">🤖 <span style=\"color: #000080; text-decoration-color: #000080\">Agent:</span> Hi Alex! It's nice to meet you and Max. Golden Retrievers are such wonderful dogs! How can I assist you \n",
              "today?\n",
              "</pre>\n"
            ],
            "text/plain": [
              "🤖 \u001b[34mAgent:\u001b[0m Hi Alex! It's nice to meet you and Max. Golden Retrievers are such wonderful dogs! How can I assist you \n",
              "today?\n"
            ]
          },
          "metadata": {},
          "output_type": "display_data"
        },
        {
          "name": "stdout",
          "output_type": "stream",
          "text": [
            "\n"
          ]
        },
        {
          "data": {
            "text/html": [
              "<pre style=\"white-space:pre;overflow-x:auto;line-height:normal;font-family:Menlo,'DejaVu Sans Mono',consolas,'Courier New',monospace\">👤 <span style=\"color: #008000; text-decoration-color: #008000\">Alex:</span> Max loves playing fetch in the park!\n",
              "</pre>\n"
            ],
            "text/plain": [
              "👤 \u001b[32mAlex:\u001b[0m Max loves playing fetch in the park!\n"
            ]
          },
          "metadata": {},
          "output_type": "display_data"
        },
        {
          "data": {
            "text/html": [
              "<pre style=\"white-space:pre;overflow-x:auto;line-height:normal;font-family:Menlo,'DejaVu Sans Mono',consolas,'Courier New',monospace\">🤖 <span style=\"color: #000080; text-decoration-color: #000080\">Agent:</span> That's great to hear! Playing fetch is such a fun and engaging activity for dogs. It's also a great way \n",
              "for them to get exercise and bond with their owners. Max must really enjoy his time at the park! If you have any \n",
              "questions or need tips on playing fetch with Max, feel free to ask.\n",
              "</pre>\n"
            ],
            "text/plain": [
              "🤖 \u001b[34mAgent:\u001b[0m That's great to hear! Playing fetch is such a fun and engaging activity for dogs. It's also a great way \n",
              "for them to get exercise and bond with their owners. Max must really enjoy his time at the park! If you have any \n",
              "questions or need tips on playing fetch with Max, feel free to ask.\n"
            ]
          },
          "metadata": {},
          "output_type": "display_data"
        },
        {
          "name": "stdout",
          "output_type": "stream",
          "text": [
            "\n"
          ]
        },
        {
          "data": {
            "text/html": [
              "<pre style=\"white-space:pre;overflow-x:auto;line-height:normal;font-family:Menlo,'DejaVu Sans Mono',consolas,'Courier New',monospace\">✅ <span style=\"color: #008000; text-decoration-color: #008000\">So far so good! The agent remembers within the session.</span>\n",
              "</pre>\n"
            ],
            "text/plain": [
              "✅ \u001b[32mSo far so good! The agent remembers within the session.\u001b[0m\n"
            ]
          },
          "metadata": {},
          "output_type": "display_data"
        }
      ],
      "source": [
        "# 🎭 Let's have a conversation with our goldfish\n",
        "console.print(Panel(\"[bold blue]Conversation with Goldfish Agent[/bold blue]\", expand=False))\n",
        "\n",
        "# User shares important info\n",
        "response1 = goldfish.chat(\"Hi! I'm Alex and my dog's name is Max. He's a Golden Retriever!\")\n",
        "console.print(f\"👤 [green]Alex:[/green] Hi! I'm Alex and my dog's name is Max. He's a Golden Retriever!\")\n",
        "console.print(f\"🤖 [blue]Agent:[/blue] {response1}\")\n",
        "print()\n",
        "\n",
        "# Continue the conversation\n",
        "response2 = goldfish.chat(\"Max loves playing fetch in the park!\")\n",
        "console.print(f\"👤 [green]Alex:[/green] Max loves playing fetch in the park!\")\n",
        "console.print(f\"🤖 [blue]Agent:[/blue] {response2}\")\n",
        "print()\n",
        "\n",
        "console.print(\"✅ [green]So far so good! The agent remembers within the session.[/green]\")\n"
      ]
    },
    {
      "cell_type": "code",
      "execution_count": null,
      "metadata": {
        "id": "WtlYxgOmMekv",
        "outputId": "bf919b48-40c2-4c56-95b1-705289efd747"
      },
      "outputs": [
        {
          "data": {
            "text/html": [
              "<pre style=\"white-space:pre;overflow-x:auto;line-height:normal;font-family:Menlo,'DejaVu Sans Mono',consolas,'Courier New',monospace\">\n",
              "==================================================\n",
              "</pre>\n"
            ],
            "text/plain": [
              "\n",
              "==================================================\n"
            ]
          },
          "metadata": {},
          "output_type": "display_data"
        },
        {
          "data": {
            "text/html": [
              "<pre style=\"white-space:pre;overflow-x:auto;line-height:normal;font-family:Menlo,'DejaVu Sans Mono',consolas,'Courier New',monospace\">💥 <span style=\"color: #800000; text-decoration-color: #800000; font-weight: bold\">DISASTER INCOMING!</span>\n",
              "</pre>\n"
            ],
            "text/plain": [
              "💥 \u001b[1;31mDISASTER INCOMING!\u001b[0m\n"
            ]
          },
          "metadata": {},
          "output_type": "display_data"
        },
        {
          "data": {
            "text/html": [
              "<pre style=\"white-space:pre;overflow-x:auto;line-height:normal;font-family:Menlo,'DejaVu Sans Mono',consolas,'Courier New',monospace\">==================================================\n",
              "</pre>\n"
            ],
            "text/plain": [
              "==================================================\n"
            ]
          },
          "metadata": {},
          "output_type": "display_data"
        },
        {
          "data": {
            "text/html": [
              "<pre style=\"white-space:pre;overflow-x:auto;line-height:normal;font-family:Menlo,'DejaVu Sans Mono',consolas,'Courier New',monospace\">🔄 <span style=\"color: #800000; text-decoration-color: #800000\">New session started - all memory wiped!</span>\n",
              "</pre>\n"
            ],
            "text/plain": [
              "🔄 \u001b[31mNew session started - all memory wiped!\u001b[0m\n"
            ]
          },
          "metadata": {},
          "output_type": "display_data"
        },
        {
          "data": {
            "text/html": [
              "<pre style=\"white-space:pre;overflow-x:auto;line-height:normal;font-family:Menlo,'DejaVu Sans Mono',consolas,'Courier New',monospace\">👤 <span style=\"color: #008000; text-decoration-color: #008000\">Alex:</span> What's my dog's name?\n",
              "</pre>\n"
            ],
            "text/plain": [
              "👤 \u001b[32mAlex:\u001b[0m What's my dog's name?\n"
            ]
          },
          "metadata": {},
          "output_type": "display_data"
        },
        {
          "data": {
            "text/html": [
              "<pre style=\"white-space:pre;overflow-x:auto;line-height:normal;font-family:Menlo,'DejaVu Sans Mono',consolas,'Courier New',monospace\">🤖 <span style=\"color: #000080; text-decoration-color: #000080\">Agent:</span> I'm sorry, I don't have that information. What is your dog's name?\n",
              "</pre>\n"
            ],
            "text/plain": [
              "🤖 \u001b[34mAgent:\u001b[0m I'm sorry, I don't have that information. What is your dog's name?\n"
            ]
          },
          "metadata": {},
          "output_type": "display_data"
        },
        {
          "name": "stdout",
          "output_type": "stream",
          "text": [
            "\n"
          ]
        },
        {
          "data": {
            "text/html": [
              "<pre style=\"white-space:pre;overflow-x:auto;line-height:normal;font-family:Menlo,'DejaVu Sans Mono',consolas,'Courier New',monospace\">👤 <span style=\"color: #008000; text-decoration-color: #008000\">Alex:</span> What do you know about me?\n",
              "</pre>\n"
            ],
            "text/plain": [
              "👤 \u001b[32mAlex:\u001b[0m What do you know about me?\n"
            ]
          },
          "metadata": {},
          "output_type": "display_data"
        },
        {
          "data": {
            "text/html": [
              "<pre style=\"white-space:pre;overflow-x:auto;line-height:normal;font-family:Menlo,'DejaVu Sans Mono',consolas,'Courier New',monospace\">🤖 <span style=\"color: #000080; text-decoration-color: #000080\">Agent:</span> I don't know anything about you specifically, as I'm designed to respect user privacy and not retain \n",
              "personal information. My aim is to assist with various tasks and provide information to the best of my abilities. \n",
              "How may I assist you today?\n",
              "</pre>\n"
            ],
            "text/plain": [
              "🤖 \u001b[34mAgent:\u001b[0m I don't know anything about you specifically, as I'm designed to respect user privacy and not retain \n",
              "personal information. My aim is to assist with various tasks and provide information to the best of my abilities. \n",
              "How may I assist you today?\n"
            ]
          },
          "metadata": {},
          "output_type": "display_data"
        },
        {
          "data": {
            "text/html": [
              "<pre style=\"white-space:pre;overflow-x:auto;line-height:normal;font-family:Menlo,'DejaVu Sans Mono',consolas,'Courier New',monospace\">\n",
              "💸 <span style=\"color: #800000; text-decoration-color: #800000; font-weight: bold\">OUCH! The agent forgot EVERYTHING!</span>\n",
              "</pre>\n"
            ],
            "text/plain": [
              "\n",
              "💸 \u001b[1;31mOUCH! The agent forgot EVERYTHING!\u001b[0m\n"
            ]
          },
          "metadata": {},
          "output_type": "display_data"
        },
        {
          "data": {
            "text/html": [
              "<pre style=\"white-space:pre;overflow-x:auto;line-height:normal;font-family:Menlo,'DejaVu Sans Mono',consolas,'Courier New',monospace\">😢 <span style=\"color: #808000; text-decoration-color: #808000\">Poor user experience + wasted tokens + frustrated customers</span>\n",
              "</pre>\n"
            ],
            "text/plain": [
              "😢 \u001b[33mPoor user experience + wasted tokens + frustrated customers\u001b[0m\n"
            ]
          },
          "metadata": {},
          "output_type": "display_data"
        }
      ],
      "source": [
        "# 💥 Now watch the catastrophic failure!\n",
        "console.print(\"\\n\" + \"=\"*50)\n",
        "console.print(\"💥 [bold red]DISASTER INCOMING![/bold red]\")\n",
        "console.print(\"=\"*50)\n",
        "\n",
        "# Simulate what happens when user comes back later (new session)\n",
        "goldfish.new_session()\n",
        "\n",
        "# User asks about their previous conversation\n",
        "response3 = goldfish.chat(\"What's my dog's name?\")\n",
        "console.print(f\"👤 [green]Alex:[/green] What's my dog's name?\")\n",
        "console.print(f\"🤖 [blue]Agent:[/blue] {response3}\")\n",
        "print()\n",
        "\n",
        "response4 = goldfish.chat(\"What do you know about me?\")\n",
        "console.print(f\"👤 [green]Alex:[/green] What do you know about me?\")\n",
        "console.print(f\"🤖 [blue]Agent:[/blue] {response4}\")\n",
        "\n",
        "console.print(\"\\n💸 [bold red]OUCH! The agent forgot EVERYTHING![/bold red]\")\n",
        "console.print(\"😢 [yellow]Poor user experience + wasted tokens + frustrated customers[/yellow]\")\n"
      ]
    },
    {
      "cell_type": "markdown",
      "metadata": {
        "id": "Z9gI2VW5Mekv"
      },
      "source": [
        "“As you can see, we’re babysitting memory manually. Let’s stop duct-taping and start building properly.”\n"
      ]
    },
    {
      "cell_type": "markdown",
      "metadata": {
        "vscode": {
          "languageId": "raw"
        },
        "id": "o-fQrv4rMekv"
      },
      "source": [
        "---\n",
        "\n",
        "## 🧠 Part 2: The Memory Solution\n",
        "\n",
        "**Let's fix this with Flumes Memory API!**\n",
        "\n",
        "Instead of forgetting everything, we'll:\n",
        "1. 📝 **Store** important facts automatically\n",
        "2. 🔍 **Search** for relevant memories\n",
        "3. 💡 **Inject** context into our responses\n",
        "\n",
        "**Here's our memory-powered agent:**\n"
      ]
    },
    {
      "cell_type": "code",
      "execution_count": null,
      "metadata": {
        "id": "8GEJnjrIMekv"
      },
      "outputs": [],
      "source": [
        "from flumes import MemoryClient, Agent\n",
        "# 🧠 Flumes Memory API (we've got a demo key for you!)\n",
        "os.environ[\"FLUMES_API_KEY\"] = \"de25b8f2e3e51a2ac1e135a407680d8c81f7dea75914d232\"\n",
        "agent_id = f\"learner_{int(time.time())}\""
      ]
    },
    {
      "cell_type": "code",
      "execution_count": null,
      "metadata": {
        "id": "N_2dZqeiMekv",
        "outputId": "9c4ace86-4379-4bb8-ae46-b629f30fb9e4"
      },
      "outputs": [
        {
          "data": {
            "text/html": [
              "<pre style=\"white-space:pre;overflow-x:auto;line-height:normal;font-family:Menlo,'DejaVu Sans Mono',consolas,'Courier New',monospace\">╭───────────────────────────────╮\n",
              "│ <span style=\"color: #008000; text-decoration-color: #008000; font-weight: bold\">Conversation with Smart Agent</span> │\n",
              "╰───────────────────────────────╯\n",
              "</pre>\n"
            ],
            "text/plain": [
              "╭───────────────────────────────╮\n",
              "│ \u001b[1;32mConversation with Smart Agent\u001b[0m │\n",
              "╰───────────────────────────────╯\n"
            ]
          },
          "metadata": {},
          "output_type": "display_data"
        },
        {
          "name": "stdout",
          "output_type": "stream",
          "text": [
            "{\"ts\": \"2025-07-21T12:51:36.416Z\", \"event\": \"memory.add.request\", \"data\": {\"messages\": [{\"role\": \"user\", \"content\": \"Hi! I'm Alex and my dog's name is Max. He's a Golden Retriever!\"}], \"user_id\": null, \"agent_id\": \"learner_1753102296\", \"run_id\": null, \"metadata\": null, \"infer\": false}}\n",
            "{\"ts\": \"2025-07-21T12:51:44.273Z\", \"event\": \"memory.stored\", \"data\": {\"results\": [{\"id\": \"5dc23351-74bf-4d2e-928e-39eacdaa73bb\", \"memory\": \"Hi! I'm Alex and my dog's name is Max. He's a Golden Retriever!\", \"event\": \"ADD\", \"actor_id\": null, \"role\": \"user\"}]}}\n",
            "{\"ts\": \"2025-07-21T12:51:44.654Z\", \"event\": \"llm.called\", \"data\": {\"backend\": \"OpenAIBackend\", \"prompt\": \"Hi! I'm Alex and my dog's name is Max. He's a Golden Retriever!\"}}\n",
            "{\"ts\": \"2025-07-21T12:51:46.149Z\", \"event\": \"memory.add.request\", \"data\": {\"messages\": [{\"role\": \"assistant\", \"content\": \"Hello Alex! It's great to hear about Max, your Golden Retriever. How can I assist you today?\"}], \"user_id\": null, \"agent_id\": \"learner_1753102296\", \"run_id\": null, \"metadata\": null, \"infer\": true}}\n",
            "{\"ts\": \"2025-07-21T12:51:53.114Z\", \"event\": \"memory.stored\", \"data\": {\"results\": [{\"id\": \"5dc23351-74bf-4d2e-928e-39eacdaa73bb\", \"memory\": \"Hi! I'm Alex and my dog's name is Max. He's a Golden Retriever!\", \"event\": \"UPDATE\", \"previous_memory\": \"Hi! I'm Alex and my dog's name is Max. He's a Golden Retriever!\"}, {\"id\": \"7c27a425-e605-4a0a-8bd4-62f1f7f3acb0\", \"memory\": \"Name is Alex\", \"event\": \"ADD\"}, {\"id\": \"ed849050-2a52-4244-978c-3a268a1c88a7\", \"memory\": \"Has a Golden Retriever named Max\", \"event\": \"ADD\"}]}}\n"
          ]
        },
        {
          "data": {
            "text/html": [
              "<pre style=\"white-space:pre;overflow-x:auto;line-height:normal;font-family:Menlo,'DejaVu Sans Mono',consolas,'Courier New',monospace\">👤 <span style=\"color: #008000; text-decoration-color: #008000\">Alex:</span> Hi! I'm Alex and my dog's name is Max. He's a Golden Retriever!\n",
              "</pre>\n"
            ],
            "text/plain": [
              "👤 \u001b[32mAlex:\u001b[0m Hi! I'm Alex and my dog's name is Max. He's a Golden Retriever!\n"
            ]
          },
          "metadata": {},
          "output_type": "display_data"
        },
        {
          "data": {
            "text/html": [
              "<pre style=\"white-space:pre;overflow-x:auto;line-height:normal;font-family:Menlo,'DejaVu Sans Mono',consolas,'Courier New',monospace\">🧠 <span style=\"color: #000080; text-decoration-color: #000080\">Smart Agent:</span> Hello Alex! It's great to hear about Max, your Golden Retriever. How can I assist you today?\n",
              "\n",
              "</pre>\n"
            ],
            "text/plain": [
              "🧠 \u001b[34mSmart Agent:\u001b[0m Hello Alex! It's great to hear about Max, your Golden Retriever. How can I assist you today?\n",
              "\n"
            ]
          },
          "metadata": {},
          "output_type": "display_data"
        },
        {
          "name": "stdout",
          "output_type": "stream",
          "text": [
            "{\"ts\": \"2025-07-21T12:51:53.124Z\", \"event\": \"memory.add.request\", \"data\": {\"messages\": [{\"role\": \"user\", \"content\": \"Max loves playing fetch in the park!\"}], \"user_id\": null, \"agent_id\": \"learner_1753102296\", \"run_id\": null, \"metadata\": null, \"infer\": false}}\n",
            "{\"ts\": \"2025-07-21T12:51:53.712Z\", \"event\": \"memory.stored\", \"data\": {\"results\": [{\"id\": \"c2ab7949-f698-401e-8f0e-696216a8c793\", \"memory\": \"Max loves playing fetch in the park!\", \"event\": \"ADD\", \"actor_id\": null, \"role\": \"user\"}]}}\n",
            "{\"ts\": \"2025-07-21T12:51:54.235Z\", \"event\": \"llm.called\", \"data\": {\"backend\": \"OpenAIBackend\", \"prompt\": \"Max loves playing fetch in the park!\"}}\n",
            "{\"ts\": \"2025-07-21T12:51:55.718Z\", \"event\": \"memory.add.request\", \"data\": {\"messages\": [{\"role\": \"assistant\", \"content\": \"That's great to hear! Max must have a lot of fun running around and chasing after the ball in the park. Playing fetch is a wonderful way for dogs like Max to get exercise and have a good time outdoors.\"}], \"user_id\": null, \"agent_id\": \"learner_1753102296\", \"run_id\": null, \"metadata\": null, \"infer\": true}}\n",
            "{\"ts\": \"2025-07-21T12:51:56.733Z\", \"event\": \"memory.stored\", \"data\": {\"results\": []}}\n"
          ]
        },
        {
          "data": {
            "text/html": [
              "<pre style=\"white-space:pre;overflow-x:auto;line-height:normal;font-family:Menlo,'DejaVu Sans Mono',consolas,'Courier New',monospace\">👤 <span style=\"color: #008000; text-decoration-color: #008000\">Alex:</span> Max loves playing fetch in the park!\n",
              "</pre>\n"
            ],
            "text/plain": [
              "👤 \u001b[32mAlex:\u001b[0m Max loves playing fetch in the park!\n"
            ]
          },
          "metadata": {},
          "output_type": "display_data"
        },
        {
          "data": {
            "text/html": [
              "<pre style=\"white-space:pre;overflow-x:auto;line-height:normal;font-family:Menlo,'DejaVu Sans Mono',consolas,'Courier New',monospace\">🧠 <span style=\"color: #000080; text-decoration-color: #000080\">Smart Agent:</span> That's great to hear! Max must have a lot of fun running around and chasing after the ball in the \n",
              "park. Playing fetch is a wonderful way for dogs like Max to get exercise and have a good time outdoors.\n",
              "</pre>\n"
            ],
            "text/plain": [
              "🧠 \u001b[34mSmart Agent:\u001b[0m That's great to hear! Max must have a lot of fun running around and chasing after the ball in the \n",
              "park. Playing fetch is a wonderful way for dogs like Max to get exercise and have a good time outdoors.\n"
            ]
          },
          "metadata": {},
          "output_type": "display_data"
        },
        {
          "data": {
            "text/html": [
              "<pre style=\"white-space:pre;overflow-x:auto;line-height:normal;font-family:Menlo,'DejaVu Sans Mono',consolas,'Courier New',monospace\">\n",
              "✅ <span style=\"color: #008000; text-decoration-color: #008000\">Great! Now let's test the memory...</span>\n",
              "</pre>\n"
            ],
            "text/plain": [
              "\n",
              "✅ \u001b[32mGreat! Now let's test the memory\u001b[0m\u001b[32m...\u001b[0m\n"
            ]
          },
          "metadata": {},
          "output_type": "display_data"
        }
      ],
      "source": [
        "# 🧠 Create an Agent that stores + retrieves memories automatically\n",
        "agent = Agent(agent_id=agent_id)\n",
        "\n",
        "# 🎭 Conversation\n",
        "rprint(Panel(\"[bold green]Conversation with Smart Agent[/bold green]\", expand=False))\n",
        "\n",
        "msg1 = \"Hi! I'm Alex and my dog's name is Max. He's a Golden Retriever!\"\n",
        "reply1 = agent.chat(msg1)\n",
        "rprint(f\"👤 [green]Alex:[/green] {msg1}\")\n",
        "rprint(f\"🧠 [blue]Smart Agent:[/blue] {reply1}\\n\")\n",
        "\n",
        "msg2 = \"Max loves playing fetch in the park!\"\n",
        "reply2 = agent.chat(msg2)\n",
        "rprint(f\"👤 [green]Alex:[/green] {msg2}\")\n",
        "rprint(f\"🧠 [blue]Smart Agent:[/blue] {reply2}\")\n",
        "\n",
        "rprint(\"\\n✅ [green]Great! Now let's test the memory...[/green]\")\n"
      ]
    },
    {
      "cell_type": "code",
      "execution_count": null,
      "metadata": {
        "id": "UYOeWmY1Mekw",
        "outputId": "a4dd5983-3461-4000-820f-7b41a31fcb3f"
      },
      "outputs": [
        {
          "data": {
            "text/html": [
              "<pre style=\"white-space:pre;overflow-x:auto;line-height:normal;font-family:Menlo,'DejaVu Sans Mono',consolas,'Courier New',monospace\">\n",
              "==================================================\n",
              "</pre>\n"
            ],
            "text/plain": [
              "\n",
              "==================================================\n"
            ]
          },
          "metadata": {},
          "output_type": "display_data"
        },
        {
          "data": {
            "text/html": [
              "<pre style=\"white-space:pre;overflow-x:auto;line-height:normal;font-family:Menlo,'DejaVu Sans Mono',consolas,'Courier New',monospace\"><span style=\"color: #008000; text-decoration-color: #008000; font-weight: bold\">✨ MEMORY MAGIC TIME!</span>\n",
              "</pre>\n"
            ],
            "text/plain": [
              "\u001b[1;32m✨ MEMORY MAGIC TIME!\u001b[0m\n"
            ]
          },
          "metadata": {},
          "output_type": "display_data"
        },
        {
          "data": {
            "text/html": [
              "<pre style=\"white-space:pre;overflow-x:auto;line-height:normal;font-family:Menlo,'DejaVu Sans Mono',consolas,'Courier New',monospace\">==================================================\n",
              "</pre>\n"
            ],
            "text/plain": [
              "==================================================\n"
            ]
          },
          "metadata": {},
          "output_type": "display_data"
        },
        {
          "data": {
            "text/html": [
              "<pre style=\"white-space:pre;overflow-x:auto;line-height:normal;font-family:Menlo,'DejaVu Sans Mono',consolas,'Courier New',monospace\"><span style=\"color: #808000; text-decoration-color: #808000\">🔮 Simulating user returning after a break...</span>\n",
              "</pre>\n"
            ],
            "text/plain": [
              "\u001b[33m🔮 Simulating user returning after a break\u001b[0m\u001b[33m...\u001b[0m\n"
            ]
          },
          "metadata": {},
          "output_type": "display_data"
        },
        {
          "name": "stdout",
          "output_type": "stream",
          "text": [
            "{\"ts\": \"2025-07-21T12:51:56.766Z\", \"event\": \"memory.add.request\", \"data\": {\"messages\": [{\"role\": \"user\", \"content\": \"What's my dog's name?\"}], \"user_id\": null, \"agent_id\": \"learner_1753102296\", \"run_id\": null, \"metadata\": null, \"infer\": false}}\n",
            "{\"ts\": \"2025-07-21T12:51:57.304Z\", \"event\": \"memory.stored\", \"data\": {\"results\": [{\"id\": \"0e0f2adc-ad59-4c49-954c-7edf60dcfbd2\", \"memory\": \"What's my dog's name?\", \"event\": \"ADD\", \"actor_id\": null, \"role\": \"user\"}]}}\n",
            "{\"ts\": \"2025-07-21T12:51:57.651Z\", \"event\": \"llm.called\", \"data\": {\"backend\": \"OpenAIBackend\", \"prompt\": \"What's my dog's name?\"}}\n",
            "{\"ts\": \"2025-07-21T12:51:58.304Z\", \"event\": \"memory.add.request\", \"data\": {\"messages\": [{\"role\": \"assistant\", \"content\": \"Your dog's name is Max.\"}], \"user_id\": null, \"agent_id\": \"learner_1753102296\", \"run_id\": null, \"metadata\": null, \"infer\": true}}\n",
            "{\"ts\": \"2025-07-21T12:52:03.509Z\", \"event\": \"memory.stored\", \"data\": {\"results\": []}}\n"
          ]
        },
        {
          "data": {
            "text/html": [
              "<pre style=\"white-space:pre;overflow-x:auto;line-height:normal;font-family:Menlo,'DejaVu Sans Mono',consolas,'Courier New',monospace\">👤 <span style=\"color: #008000; text-decoration-color: #008000\">Alex:</span> What's my dog's name?\n",
              "</pre>\n"
            ],
            "text/plain": [
              "👤 \u001b[32mAlex:\u001b[0m What's my dog's name?\n"
            ]
          },
          "metadata": {},
          "output_type": "display_data"
        },
        {
          "data": {
            "text/html": [
              "<pre style=\"white-space:pre;overflow-x:auto;line-height:normal;font-family:Menlo,'DejaVu Sans Mono',consolas,'Courier New',monospace\">🧠 <span style=\"color: #000080; text-decoration-color: #000080\">Smart Agent:</span> Your dog's name is Max.\n",
              "\n",
              "</pre>\n"
            ],
            "text/plain": [
              "🧠 \u001b[34mSmart Agent:\u001b[0m Your dog's name is Max.\n",
              "\n"
            ]
          },
          "metadata": {},
          "output_type": "display_data"
        },
        {
          "name": "stdout",
          "output_type": "stream",
          "text": [
            "{\"ts\": \"2025-07-21T12:52:03.525Z\", \"event\": \"memory.add.request\", \"data\": {\"messages\": [{\"role\": \"user\", \"content\": \"Tell me what you know about Max\"}], \"user_id\": null, \"agent_id\": \"learner_1753102296\", \"run_id\": null, \"metadata\": null, \"infer\": false}}\n",
            "{\"ts\": \"2025-07-21T12:52:04.825Z\", \"event\": \"memory.stored\", \"data\": {\"results\": [{\"id\": \"ab504b87-7785-4a04-997c-b2df84aaa677\", \"memory\": \"Tell me what you know about Max\", \"event\": \"ADD\", \"actor_id\": null, \"role\": \"user\"}]}}\n",
            "{\"ts\": \"2025-07-21T12:52:05.441Z\", \"event\": \"llm.called\", \"data\": {\"backend\": \"OpenAIBackend\", \"prompt\": \"Tell me what you know about Max\"}}\n",
            "{\"ts\": \"2025-07-21T12:52:06.223Z\", \"event\": \"memory.add.request\", \"data\": {\"messages\": [{\"role\": \"assistant\", \"content\": \"Max is a Golden Retriever who loves playing fetch in the park. He belongs to someone named Alex.\"}], \"user_id\": null, \"agent_id\": \"learner_1753102296\", \"run_id\": null, \"metadata\": null, \"infer\": true}}\n",
            "{\"ts\": \"2025-07-21T12:52:07.480Z\", \"event\": \"memory.stored\", \"data\": {\"results\": []}}\n"
          ]
        },
        {
          "data": {
            "text/html": [
              "<pre style=\"white-space:pre;overflow-x:auto;line-height:normal;font-family:Menlo,'DejaVu Sans Mono',consolas,'Courier New',monospace\">👤 <span style=\"color: #008000; text-decoration-color: #008000\">Alex:</span> Tell me what you know about Max\n",
              "</pre>\n"
            ],
            "text/plain": [
              "👤 \u001b[32mAlex:\u001b[0m Tell me what you know about Max\n"
            ]
          },
          "metadata": {},
          "output_type": "display_data"
        },
        {
          "data": {
            "text/html": [
              "<pre style=\"white-space:pre;overflow-x:auto;line-height:normal;font-family:Menlo,'DejaVu Sans Mono',consolas,'Courier New',monospace\">🧠 <span style=\"color: #000080; text-decoration-color: #000080\">Smart Agent:</span> Max is a Golden Retriever who loves playing fetch in the park. He belongs to someone named Alex.\n",
              "\n",
              "</pre>\n"
            ],
            "text/plain": [
              "🧠 \u001b[34mSmart Agent:\u001b[0m Max is a Golden Retriever who loves playing fetch in the park. He belongs to someone named Alex.\n",
              "\n"
            ]
          },
          "metadata": {},
          "output_type": "display_data"
        },
        {
          "name": "stdout",
          "output_type": "stream",
          "text": [
            "{\"ts\": \"2025-07-21T12:52:07.484Z\", \"event\": \"memory.add.request\", \"data\": {\"messages\": [{\"role\": \"user\", \"content\": \"What do you remember about me?\"}], \"user_id\": null, \"agent_id\": \"learner_1753102296\", \"run_id\": null, \"metadata\": null, \"infer\": false}}\n",
            "{\"ts\": \"2025-07-21T12:52:09.232Z\", \"event\": \"memory.stored\", \"data\": {\"results\": [{\"id\": \"fc23573d-768b-433a-8d27-54015fdb360c\", \"memory\": \"What do you remember about me?\", \"event\": \"ADD\", \"actor_id\": null, \"role\": \"user\"}]}}\n",
            "{\"ts\": \"2025-07-21T12:52:09.548Z\", \"event\": \"llm.called\", \"data\": {\"backend\": \"OpenAIBackend\", \"prompt\": \"What do you remember about me?\"}}\n",
            "{\"ts\": \"2025-07-21T12:52:10.829Z\", \"event\": \"memory.add.request\", \"data\": {\"messages\": [{\"role\": \"assistant\", \"content\": \"I remember that your name is Alex and that you have a Golden Retriever named Max. Max loves playing fetch in the park!\"}], \"user_id\": null, \"agent_id\": \"learner_1753102296\", \"run_id\": null, \"metadata\": null, \"infer\": true}}\n",
            "{\"ts\": \"2025-07-21T12:52:18.469Z\", \"event\": \"memory.stored\", \"data\": {\"results\": []}}\n"
          ]
        },
        {
          "data": {
            "text/html": [
              "<pre style=\"white-space:pre;overflow-x:auto;line-height:normal;font-family:Menlo,'DejaVu Sans Mono',consolas,'Courier New',monospace\">👤 <span style=\"color: #008000; text-decoration-color: #008000\">Alex:</span> What do you remember about me?\n",
              "</pre>\n"
            ],
            "text/plain": [
              "👤 \u001b[32mAlex:\u001b[0m What do you remember about me?\n"
            ]
          },
          "metadata": {},
          "output_type": "display_data"
        },
        {
          "data": {
            "text/html": [
              "<pre style=\"white-space:pre;overflow-x:auto;line-height:normal;font-family:Menlo,'DejaVu Sans Mono',consolas,'Courier New',monospace\">🧠 <span style=\"color: #000080; text-decoration-color: #000080\">Smart Agent:</span> I remember that your name is Alex and that you have a Golden Retriever named Max. Max loves playing\n",
              "fetch in the park!\n",
              "</pre>\n"
            ],
            "text/plain": [
              "🧠 \u001b[34mSmart Agent:\u001b[0m I remember that your name is Alex and that you have a Golden Retriever named Max. Max loves playing\n",
              "fetch in the park!\n"
            ]
          },
          "metadata": {},
          "output_type": "display_data"
        },
        {
          "data": {
            "text/html": [
              "<pre style=\"white-space:pre;overflow-x:auto;line-height:normal;font-family:Menlo,'DejaVu Sans Mono',consolas,'Courier New',monospace\">\n",
              "<span style=\"color: #008000; text-decoration-color: #008000; font-weight: bold\">🎊 AMAZING! The agent remembers EVERYTHING!</span>\n",
              "</pre>\n"
            ],
            "text/plain": [
              "\n",
              "\u001b[1;32m🎊 AMAZING! The agent remembers EVERYTHING!\u001b[0m\n"
            ]
          },
          "metadata": {},
          "output_type": "display_data"
        },
        {
          "data": {
            "text/html": [
              "<pre style=\"white-space:pre;overflow-x:auto;line-height:normal;font-family:Menlo,'DejaVu Sans Mono',consolas,'Courier New',monospace\"><span style=\"color: #808000; text-decoration-color: #808000\">💡 This persists across sessions, refreshes, even server restarts!</span>\n",
              "</pre>\n"
            ],
            "text/plain": [
              "\u001b[33m💡 This persists across sessions, refreshes, even server restarts!\u001b[0m\n"
            ]
          },
          "metadata": {},
          "output_type": "display_data"
        }
      ],
      "source": [
        "# 🎉 THE MAGIC MOMENT – Testing cross-session memory!\n",
        "\n",
        "rprint(\"\\n\" + \"=\"*50)\n",
        "rprint(\"[bold green]✨ MEMORY MAGIC TIME![/bold green]\")\n",
        "rprint(\"=\"*50)\n",
        "rprint(\"[yellow]🔮 Simulating user returning after a break...[/yellow]\")\n",
        "\n",
        "# The same `agent` we created earlier (Agent from flumes-ai) already\n",
        "# persisted its memories in Flumes. No session reset needed!\n",
        "\n",
        "q1 = \"What's my dog's name?\"\n",
        "a1 = agent.chat(q1)\n",
        "\n",
        "rprint(f\"👤 [green]Alex:[/green] {q1}\")\n",
        "rprint(f\"🧠 [blue]Smart Agent:[/blue] {a1}\\n\")\n",
        "\n",
        "q2 = \"Tell me what you know about Max\"\n",
        "a2 = agent.chat(q2)\n",
        "\n",
        "rprint(f\"👤 [green]Alex:[/green] {q2}\")\n",
        "rprint(f\"🧠 [blue]Smart Agent:[/blue] {a2}\\n\")\n",
        "\n",
        "q3 = \"What do you remember about me?\"\n",
        "a3 = agent.chat(q3)\n",
        "\n",
        "rprint(f\"👤 [green]Alex:[/green] {q3}\")\n",
        "rprint(f\"🧠 [blue]Smart Agent:[/blue] {a3}\")\n",
        "\n",
        "rprint(\"\\n[bold green]🎊 AMAZING! The agent remembers EVERYTHING![/bold green]\")\n",
        "rprint(\"[yellow]💡 This persists across sessions, refreshes, even server restarts![/yellow]\")"
      ]
    },
    {
      "cell_type": "markdown",
      "metadata": {
        "id": "WdBL5DpYMekw"
      },
      "source": [
        "## 🧠 Under the Hood: What the Flumes Memory Engine Does\n",
        "\n",
        "Most memory tools just store stuff. Ours **structures**, **summarizes**, and **surfaces** it, automatically.\n",
        "\n",
        "- 🧩 **Short-term memory:** recent context cache (think: working memory)\n",
        "- 📚 **Long-term memory:** semantically embedded, compressible\n",
        "- 🧠 **Memory kernel:** relevance-aware retrieval + summarization pipeline\n",
        "- 🔍 **Observability:** audit, inspect, and test your agent’s memory\n",
        "\n",
        "It’s the difference between “data” and **usable, intelligent context**."
      ]
    },
    {
      "cell_type": "markdown",
      "metadata": {
        "vscode": {
          "languageId": "raw"
        },
        "id": "WF9HsGKuMekw"
      },
      "source": [
        "---\n",
        "\n",
        "## 🔍 Part 3: Memory Inspector\n",
        "\n",
        "**Let's peek under the hood!** See exactly what memories are stored and how the search works.\n"
      ]
    },
    {
      "cell_type": "code",
      "execution_count": null,
      "metadata": {
        "id": "axmhAZLXMekw",
        "outputId": "6595c612-a31d-462b-cc66-efd2031fcd18"
      },
      "outputs": [
        {
          "data": {
            "text/html": [
              "<pre style=\"white-space:pre;overflow-x:auto;line-height:normal;font-family:Menlo,'DejaVu Sans Mono',consolas,'Courier New',monospace\">╭─────────────────────╮\n",
              "│ <span style=\"color: #008080; text-decoration-color: #008080; font-weight: bold\">🧠 Memory Dashboard</span> │\n",
              "╰─────────────────────╯\n",
              "</pre>\n"
            ],
            "text/plain": [
              "╭─────────────────────╮\n",
              "│ \u001b[1;36m🧠 Memory Dashboard\u001b[0m │\n",
              "╰─────────────────────╯\n"
            ]
          },
          "metadata": {},
          "output_type": "display_data"
        },
        {
          "data": {
            "text/html": [
              "<pre style=\"white-space:pre;overflow-x:auto;line-height:normal;font-family:Menlo,'DejaVu Sans Mono',consolas,'Courier New',monospace\">┏━━━━━━━━━━┳━━━━━━━━━━━━━━━━━━━━━━━━━━━━━━━━━━━━━━━━━━━━━━━━━━━━━━━━━━━━━━━━━┳━━━━━━━━━━━━━━━━━━┓\n",
              "┃<span style=\"color: #008080; text-decoration-color: #008080; font-weight: bold\"> ID       </span>┃<span style=\"color: #008080; text-decoration-color: #008080; font-weight: bold\"> Memory                                                          </span>┃<span style=\"color: #008080; text-decoration-color: #008080; font-weight: bold\"> Created          </span>┃\n",
              "┡━━━━━━━━━━╇━━━━━━━━━━━━━━━━━━━━━━━━━━━━━━━━━━━━━━━━━━━━━━━━━━━━━━━━━━━━━━━━━╇━━━━━━━━━━━━━━━━━━┩\n",
              "│<span style=\"color: #7f7f7f; text-decoration-color: #7f7f7f\"> 5dc2335… </span>│ Hi! I'm Alex and my dog's name is Max. He's a Golden Retriev... │ 2025-07-21T05:51 │\n",
              "│<span style=\"color: #7f7f7f; text-decoration-color: #7f7f7f\"> 7c27a42… </span>│ Name is Alex                                                    │ 2025-07-21T05:51 │\n",
              "│<span style=\"color: #7f7f7f; text-decoration-color: #7f7f7f\"> ed84905… </span>│ Has a Golden Retriever named Max                                │ 2025-07-21T05:51 │\n",
              "│<span style=\"color: #7f7f7f; text-decoration-color: #7f7f7f\"> c2ab794… </span>│ Max loves playing fetch in the park!                            │ 2025-07-21T05:51 │\n",
              "│<span style=\"color: #7f7f7f; text-decoration-color: #7f7f7f\"> 0e0f2ad… </span>│ What's my dog's name?                                           │ 2025-07-21T05:51 │\n",
              "│<span style=\"color: #7f7f7f; text-decoration-color: #7f7f7f\"> ab504b8… </span>│ Tell me what you know about Max                                 │ 2025-07-21T05:52 │\n",
              "│<span style=\"color: #7f7f7f; text-decoration-color: #7f7f7f\"> fc23573… </span>│ What do you remember about me?                                  │ 2025-07-21T05:52 │\n",
              "└──────────┴─────────────────────────────────────────────────────────────────┴──────────────────┘\n",
              "</pre>\n"
            ],
            "text/plain": [
              "┏━━━━━━━━━━┳━━━━━━━━━━━━━━━━━━━━━━━━━━━━━━━━━━━━━━━━━━━━━━━━━━━━━━━━━━━━━━━━━┳━━━━━━━━━━━━━━━━━━┓\n",
              "┃\u001b[1;36m \u001b[0m\u001b[1;36mID      \u001b[0m\u001b[1;36m \u001b[0m┃\u001b[1;36m \u001b[0m\u001b[1;36mMemory                                                         \u001b[0m\u001b[1;36m \u001b[0m┃\u001b[1;36m \u001b[0m\u001b[1;36mCreated         \u001b[0m\u001b[1;36m \u001b[0m┃\n",
              "┡━━━━━━━━━━╇━━━━━━━━━━━━━━━━━━━━━━━━━━━━━━━━━━━━━━━━━━━━━━━━━━━━━━━━━━━━━━━━━╇━━━━━━━━━━━━━━━━━━┩\n",
              "│\u001b[2m \u001b[0m\u001b[2m5dc2335…\u001b[0m\u001b[2m \u001b[0m│ Hi! I'm Alex and my dog's name is Max. He's a Golden Retriev... │ 2025-07-21T05:51 │\n",
              "│\u001b[2m \u001b[0m\u001b[2m7c27a42…\u001b[0m\u001b[2m \u001b[0m│ Name is Alex                                                    │ 2025-07-21T05:51 │\n",
              "│\u001b[2m \u001b[0m\u001b[2med84905…\u001b[0m\u001b[2m \u001b[0m│ Has a Golden Retriever named Max                                │ 2025-07-21T05:51 │\n",
              "│\u001b[2m \u001b[0m\u001b[2mc2ab794…\u001b[0m\u001b[2m \u001b[0m│ Max loves playing fetch in the park!                            │ 2025-07-21T05:51 │\n",
              "│\u001b[2m \u001b[0m\u001b[2m0e0f2ad…\u001b[0m\u001b[2m \u001b[0m│ What's my dog's name?                                           │ 2025-07-21T05:51 │\n",
              "│\u001b[2m \u001b[0m\u001b[2mab504b8…\u001b[0m\u001b[2m \u001b[0m│ Tell me what you know about Max                                 │ 2025-07-21T05:52 │\n",
              "│\u001b[2m \u001b[0m\u001b[2mfc23573…\u001b[0m\u001b[2m \u001b[0m│ What do you remember about me?                                  │ 2025-07-21T05:52 │\n",
              "└──────────┴─────────────────────────────────────────────────────────────────┴──────────────────┘\n"
            ]
          },
          "metadata": {},
          "output_type": "display_data"
        },
        {
          "data": {
            "text/html": [
              "<pre style=\"white-space:pre;overflow-x:auto;line-height:normal;font-family:Menlo,'DejaVu Sans Mono',consolas,'Courier New',monospace\">\n",
              "📊 <span style=\"font-weight: bold\">Total memories: </span><span style=\"color: #008080; text-decoration-color: #008080; font-weight: bold\">7</span>\n",
              "</pre>\n"
            ],
            "text/plain": [
              "\n",
              "📊 \u001b[1mTotal memories: \u001b[0m\u001b[1;36m7\u001b[0m\n"
            ]
          },
          "metadata": {},
          "output_type": "display_data"
        }
      ],
      "source": [
        "# 📋 Memory dashboard using flumes-ai SDK\n",
        "from flumes import MemoryClient\n",
        "\n",
        "\n",
        "mem_client = MemoryClient()               # uses FLUMES_API_KEY env var\n",
        "\n",
        "def show_memory_dashboard(agent_id: str, limit: int = 50):\n",
        "    try:\n",
        "        res = mem_client.search(agent_id=agent_id, query=None, limit=limit)\n",
        "        memories = res.get(\"results\", res)\n",
        "    except Exception as e:\n",
        "        rprint(f\"[red]❌ Failed to fetch memories:[/red] {e}\")\n",
        "        return\n",
        "\n",
        "    rprint(Panel(\"[bold cyan]🧠 Memory Dashboard[/bold cyan]\", expand=False))\n",
        "\n",
        "    if not memories:\n",
        "        rprint(\"[yellow]🔍 No memories found (yet!)[/yellow]\")\n",
        "        return\n",
        "\n",
        "    table = Table(show_header=True, header_style=\"bold cyan\")\n",
        "    table.add_column(\"ID\", style=\"dim\", width=8)\n",
        "    table.add_column(\"Memory\", min_width=40)\n",
        "    table.add_column(\"Created\", width=16)\n",
        "\n",
        "    for m in memories[:10]:                # latest 10\n",
        "        table.add_row(\n",
        "            m[\"id\"][:8] + \"...\",\n",
        "            (m[\"memory\"][:60] + \"...\") if len(m[\"memory\"]) > 60 else m[\"memory\"],\n",
        "            m[\"created_at\"][:16],\n",
        "        )\n",
        "\n",
        "    rprint(table)\n",
        "    rprint(f\"\\n📊 [bold]Total memories: {len(memories)}[/bold]\")\n",
        "\n",
        "# Run it\n",
        "show_memory_dashboard(agent_id)"
      ]
    },
    {
      "cell_type": "code",
      "execution_count": null,
      "metadata": {
        "id": "kwKKYubhMekw",
        "outputId": "a273c614-06cf-4fa4-960b-171b0cf4c290"
      },
      "outputs": [
        {
          "data": {
            "text/html": [
              "<pre style=\"white-space:pre;overflow-x:auto;line-height:normal;font-family:Menlo,'DejaVu Sans Mono',consolas,'Courier New',monospace\">╭───────────────────────╮\n",
              "│ <span style=\"color: #800080; text-decoration-color: #800080; font-weight: bold\">🔍 Memory Search Demo</span> │\n",
              "╰───────────────────────╯\n",
              "</pre>\n"
            ],
            "text/plain": [
              "╭───────────────────────╮\n",
              "│ \u001b[1;35m🔍 Memory Search Demo\u001b[0m │\n",
              "╰───────────────────────╯\n"
            ]
          },
          "metadata": {},
          "output_type": "display_data"
        },
        {
          "data": {
            "text/html": [
              "<pre style=\"white-space:pre;overflow-x:auto;line-height:normal;font-family:Menlo,'DejaVu Sans Mono',consolas,'Courier New',monospace\">\n",
              "🔍 <span style=\"font-weight: bold\">Searching for:</span> <span style=\"color: #008000; text-decoration-color: #008000\">'dog'</span>\n",
              "</pre>\n"
            ],
            "text/plain": [
              "\n",
              "🔍 \u001b[1mSearching for:\u001b[0m \u001b[32m'dog'\u001b[0m\n"
            ]
          },
          "metadata": {},
          "output_type": "display_data"
        },
        {
          "data": {
            "text/html": [
              "<pre style=\"white-space:pre;overflow-x:auto;line-height:normal;font-family:Menlo,'DejaVu Sans Mono',consolas,'Courier New',monospace\">  <span style=\"color: #008080; text-decoration-color: #008080; font-weight: bold\">1</span>. <span style=\"color: #008000; text-decoration-color: #008000\">What's my dog's name?</span>\n",
              "</pre>\n"
            ],
            "text/plain": [
              "  \u001b[1;36m1\u001b[0m. \u001b[32mWhat's my dog's name?\u001b[0m\n"
            ]
          },
          "metadata": {},
          "output_type": "display_data"
        },
        {
          "data": {
            "text/html": [
              "<pre style=\"white-space:pre;overflow-x:auto;line-height:normal;font-family:Menlo,'DejaVu Sans Mono',consolas,'Courier New',monospace\">  <span style=\"color: #008080; text-decoration-color: #008080; font-weight: bold\">2</span>. <span style=\"color: #008000; text-decoration-color: #008000\">Has a Golden Retriever named Max</span>\n",
              "</pre>\n"
            ],
            "text/plain": [
              "  \u001b[1;36m2\u001b[0m. \u001b[32mHas a Golden Retriever named Max\u001b[0m\n"
            ]
          },
          "metadata": {},
          "output_type": "display_data"
        },
        {
          "data": {
            "text/html": [
              "<pre style=\"white-space:pre;overflow-x:auto;line-height:normal;font-family:Menlo,'DejaVu Sans Mono',consolas,'Courier New',monospace\">  <span style=\"color: #008080; text-decoration-color: #008080; font-weight: bold\">3</span>. <span style=\"color: #008000; text-decoration-color: #008000\">Hi! I'm Alex and my dog's name is Max. He's a Golden Retriever!</span>\n",
              "</pre>\n"
            ],
            "text/plain": [
              "  \u001b[1;36m3\u001b[0m. \u001b[32mHi! I'm Alex and my dog's name is Max. He's a Golden Retriever!\u001b[0m\n"
            ]
          },
          "metadata": {},
          "output_type": "display_data"
        },
        {
          "data": {
            "text/html": [
              "<pre style=\"white-space:pre;overflow-x:auto;line-height:normal;font-family:Menlo,'DejaVu Sans Mono',consolas,'Courier New',monospace\">\n",
              "🔍 <span style=\"font-weight: bold\">Searching for:</span> <span style=\"color: #008000; text-decoration-color: #008000\">'Golden Retriever'</span>\n",
              "</pre>\n"
            ],
            "text/plain": [
              "\n",
              "🔍 \u001b[1mSearching for:\u001b[0m \u001b[32m'Golden Retriever'\u001b[0m\n"
            ]
          },
          "metadata": {},
          "output_type": "display_data"
        },
        {
          "data": {
            "text/html": [
              "<pre style=\"white-space:pre;overflow-x:auto;line-height:normal;font-family:Menlo,'DejaVu Sans Mono',consolas,'Courier New',monospace\">  <span style=\"color: #008080; text-decoration-color: #008080; font-weight: bold\">1</span>. <span style=\"color: #008000; text-decoration-color: #008000\">Has a Golden Retriever named Max</span>\n",
              "</pre>\n"
            ],
            "text/plain": [
              "  \u001b[1;36m1\u001b[0m. \u001b[32mHas a Golden Retriever named Max\u001b[0m\n"
            ]
          },
          "metadata": {},
          "output_type": "display_data"
        },
        {
          "data": {
            "text/html": [
              "<pre style=\"white-space:pre;overflow-x:auto;line-height:normal;font-family:Menlo,'DejaVu Sans Mono',consolas,'Courier New',monospace\">  <span style=\"color: #008080; text-decoration-color: #008080; font-weight: bold\">2</span>. <span style=\"color: #008000; text-decoration-color: #008000\">Hi! I'm Alex and my dog's name is Max. He's a Golden Retriever!</span>\n",
              "</pre>\n"
            ],
            "text/plain": [
              "  \u001b[1;36m2\u001b[0m. \u001b[32mHi! I'm Alex and my dog's name is Max. He's a Golden Retriever!\u001b[0m\n"
            ]
          },
          "metadata": {},
          "output_type": "display_data"
        },
        {
          "data": {
            "text/html": [
              "<pre style=\"white-space:pre;overflow-x:auto;line-height:normal;font-family:Menlo,'DejaVu Sans Mono',consolas,'Courier New',monospace\">  <span style=\"color: #008080; text-decoration-color: #008080; font-weight: bold\">3</span>. <span style=\"color: #008000; text-decoration-color: #008000\">What's my dog's name?</span>\n",
              "</pre>\n"
            ],
            "text/plain": [
              "  \u001b[1;36m3\u001b[0m. \u001b[32mWhat's my dog's name?\u001b[0m\n"
            ]
          },
          "metadata": {},
          "output_type": "display_data"
        },
        {
          "data": {
            "text/html": [
              "<pre style=\"white-space:pre;overflow-x:auto;line-height:normal;font-family:Menlo,'DejaVu Sans Mono',consolas,'Courier New',monospace\">\n",
              "🔍 <span style=\"font-weight: bold\">Searching for:</span> <span style=\"color: #008000; text-decoration-color: #008000\">'fetch'</span>\n",
              "</pre>\n"
            ],
            "text/plain": [
              "\n",
              "🔍 \u001b[1mSearching for:\u001b[0m \u001b[32m'fetch'\u001b[0m\n"
            ]
          },
          "metadata": {},
          "output_type": "display_data"
        },
        {
          "data": {
            "text/html": [
              "<pre style=\"white-space:pre;overflow-x:auto;line-height:normal;font-family:Menlo,'DejaVu Sans Mono',consolas,'Courier New',monospace\">  <span style=\"color: #008080; text-decoration-color: #008080; font-weight: bold\">1</span>. <span style=\"color: #008000; text-decoration-color: #008000\">Max loves playing fetch in the park!</span>\n",
              "</pre>\n"
            ],
            "text/plain": [
              "  \u001b[1;36m1\u001b[0m. \u001b[32mMax loves playing fetch in the park!\u001b[0m\n"
            ]
          },
          "metadata": {},
          "output_type": "display_data"
        },
        {
          "data": {
            "text/html": [
              "<pre style=\"white-space:pre;overflow-x:auto;line-height:normal;font-family:Menlo,'DejaVu Sans Mono',consolas,'Courier New',monospace\">  <span style=\"color: #008080; text-decoration-color: #008080; font-weight: bold\">2</span>. <span style=\"color: #008000; text-decoration-color: #008000\">Has a Golden Retriever named Max</span>\n",
              "</pre>\n"
            ],
            "text/plain": [
              "  \u001b[1;36m2\u001b[0m. \u001b[32mHas a Golden Retriever named Max\u001b[0m\n"
            ]
          },
          "metadata": {},
          "output_type": "display_data"
        },
        {
          "data": {
            "text/html": [
              "<pre style=\"white-space:pre;overflow-x:auto;line-height:normal;font-family:Menlo,'DejaVu Sans Mono',consolas,'Courier New',monospace\">  <span style=\"color: #008080; text-decoration-color: #008080; font-weight: bold\">3</span>. <span style=\"color: #008000; text-decoration-color: #008000\">What's my dog's name?</span>\n",
              "</pre>\n"
            ],
            "text/plain": [
              "  \u001b[1;36m3\u001b[0m. \u001b[32mWhat's my dog's name?\u001b[0m\n"
            ]
          },
          "metadata": {},
          "output_type": "display_data"
        },
        {
          "data": {
            "text/html": [
              "<pre style=\"white-space:pre;overflow-x:auto;line-height:normal;font-family:Menlo,'DejaVu Sans Mono',consolas,'Courier New',monospace\">\n",
              "🔍 <span style=\"font-weight: bold\">Searching for:</span> <span style=\"color: #008000; text-decoration-color: #008000\">'park'</span>\n",
              "</pre>\n"
            ],
            "text/plain": [
              "\n",
              "🔍 \u001b[1mSearching for:\u001b[0m \u001b[32m'park'\u001b[0m\n"
            ]
          },
          "metadata": {},
          "output_type": "display_data"
        },
        {
          "data": {
            "text/html": [
              "<pre style=\"white-space:pre;overflow-x:auto;line-height:normal;font-family:Menlo,'DejaVu Sans Mono',consolas,'Courier New',monospace\">  <span style=\"color: #008080; text-decoration-color: #008080; font-weight: bold\">1</span>. <span style=\"color: #008000; text-decoration-color: #008000\">Max loves playing fetch in the park!</span>\n",
              "</pre>\n"
            ],
            "text/plain": [
              "  \u001b[1;36m1\u001b[0m. \u001b[32mMax loves playing fetch in the park!\u001b[0m\n"
            ]
          },
          "metadata": {},
          "output_type": "display_data"
        },
        {
          "data": {
            "text/html": [
              "<pre style=\"white-space:pre;overflow-x:auto;line-height:normal;font-family:Menlo,'DejaVu Sans Mono',consolas,'Courier New',monospace\">  <span style=\"color: #008080; text-decoration-color: #008080; font-weight: bold\">2</span>. <span style=\"color: #008000; text-decoration-color: #008000\">Name is Alex</span>\n",
              "</pre>\n"
            ],
            "text/plain": [
              "  \u001b[1;36m2\u001b[0m. \u001b[32mName is Alex\u001b[0m\n"
            ]
          },
          "metadata": {},
          "output_type": "display_data"
        },
        {
          "data": {
            "text/html": [
              "<pre style=\"white-space:pre;overflow-x:auto;line-height:normal;font-family:Menlo,'DejaVu Sans Mono',consolas,'Courier New',monospace\">  <span style=\"color: #008080; text-decoration-color: #008080; font-weight: bold\">3</span>. <span style=\"color: #008000; text-decoration-color: #008000\">Has a Golden Retriever named Max</span>\n",
              "</pre>\n"
            ],
            "text/plain": [
              "  \u001b[1;36m3\u001b[0m. \u001b[32mHas a Golden Retriever named Max\u001b[0m\n"
            ]
          },
          "metadata": {},
          "output_type": "display_data"
        },
        {
          "data": {
            "text/html": [
              "<pre style=\"white-space:pre;overflow-x:auto;line-height:normal;font-family:Menlo,'DejaVu Sans Mono',consolas,'Courier New',monospace\">\n",
              "🔍 <span style=\"font-weight: bold\">Searching for:</span> <span style=\"color: #008000; text-decoration-color: #008000\">'Alex'</span>s pet'\n",
              "</pre>\n"
            ],
            "text/plain": [
              "\n",
              "🔍 \u001b[1mSearching for:\u001b[0m \u001b[32m'Alex'\u001b[0ms pet'\n"
            ]
          },
          "metadata": {},
          "output_type": "display_data"
        },
        {
          "data": {
            "text/html": [
              "<pre style=\"white-space:pre;overflow-x:auto;line-height:normal;font-family:Menlo,'DejaVu Sans Mono',consolas,'Courier New',monospace\">  <span style=\"color: #008080; text-decoration-color: #008080; font-weight: bold\">1</span>. <span style=\"color: #008000; text-decoration-color: #008000\">Name is Alex</span>\n",
              "</pre>\n"
            ],
            "text/plain": [
              "  \u001b[1;36m1\u001b[0m. \u001b[32mName is Alex\u001b[0m\n"
            ]
          },
          "metadata": {},
          "output_type": "display_data"
        },
        {
          "data": {
            "text/html": [
              "<pre style=\"white-space:pre;overflow-x:auto;line-height:normal;font-family:Menlo,'DejaVu Sans Mono',consolas,'Courier New',monospace\">  <span style=\"color: #008080; text-decoration-color: #008080; font-weight: bold\">2</span>. <span style=\"color: #008000; text-decoration-color: #008000\">Hi! I'm Alex and my dog's name is Max. He's a Golden Retriever!</span>\n",
              "</pre>\n"
            ],
            "text/plain": [
              "  \u001b[1;36m2\u001b[0m. \u001b[32mHi! I'm Alex and my dog's name is Max. He's a Golden Retriever!\u001b[0m\n"
            ]
          },
          "metadata": {},
          "output_type": "display_data"
        },
        {
          "data": {
            "text/html": [
              "<pre style=\"white-space:pre;overflow-x:auto;line-height:normal;font-family:Menlo,'DejaVu Sans Mono',consolas,'Courier New',monospace\">  <span style=\"color: #008080; text-decoration-color: #008080; font-weight: bold\">3</span>. <span style=\"color: #008000; text-decoration-color: #008000\">Has a Golden Retriever named Max</span>\n",
              "</pre>\n"
            ],
            "text/plain": [
              "  \u001b[1;36m3\u001b[0m. \u001b[32mHas a Golden Retriever named Max\u001b[0m\n"
            ]
          },
          "metadata": {},
          "output_type": "display_data"
        },
        {
          "data": {
            "text/html": [
              "<pre style=\"white-space:pre;overflow-x:auto;line-height:normal;font-family:Menlo,'DejaVu Sans Mono',consolas,'Courier New',monospace\">\n",
              "✨ <span style=\"font-weight: bold\">Notice how semantic search finds relevant memories even with different words!</span>\n",
              "</pre>\n"
            ],
            "text/plain": [
              "\n",
              "✨ \u001b[1mNotice how semantic search finds relevant memories even with different words!\u001b[0m\n"
            ]
          },
          "metadata": {},
          "output_type": "display_data"
        }
      ],
      "source": [
        "# 🧪 Memory Search Demo using flumes-ai SDK\n",
        "rprint(Panel(\"[bold magenta]🔍 Memory Search Demo[/bold magenta]\", expand=False))\n",
        "\n",
        "test_queries = [\n",
        "    \"dog\",\n",
        "    \"Golden Retriever\",\n",
        "    \"fetch\",\n",
        "    \"park\",\n",
        "    \"Alex's pet\"\n",
        "]\n",
        "\n",
        "for query in test_queries:\n",
        "    rprint(f\"\\n🔍 [bold]Searching for:[/bold] '{query}'\")\n",
        "\n",
        "    try:\n",
        "        res = mem_client.search(agent_id=agent_id, query=query, limit=3)\n",
        "        memories = res.get(\"results\", res)\n",
        "    except Exception as e:\n",
        "        rprint(f\"[red]Error:[/red] {e}\")\n",
        "        memories = []\n",
        "\n",
        "    if memories:\n",
        "        for idx, m in enumerate(memories, 1):\n",
        "            rprint(f\"  {idx}. [green]{m['memory']}[/green]\")\n",
        "    else:\n",
        "        rprint(\"  [red]No matches found[/red]\")\n",
        "\n",
        "rprint(\"\\n✨ [bold]Notice how semantic search finds relevant memories even with different words![/bold]\")"
      ]
    },
    {
      "cell_type": "markdown",
      "metadata": {
        "vscode": {
          "languageId": "raw"
        },
        "id": "4owCbLcWMekw"
      },
      "source": [
        "---\n",
        "\n",
        "## 🎯 Part 4: Real-World Example\n",
        "\n",
        "**Let's build something practical!** A customer support agent that remembers customer issues and preferences.\n"
      ]
    },
    {
      "cell_type": "code",
      "execution_count": null,
      "metadata": {
        "id": "Lg-naocxMekw",
        "outputId": "c2292b68-2a39-4445-ac05-7e6e78b150c1"
      },
      "outputs": [
        {
          "data": {
            "text/html": [
              "<pre style=\"white-space:pre;overflow-x:auto;line-height:normal;font-family:Menlo,'DejaVu Sans Mono',consolas,'Courier New',monospace\">╭──────────────────────────────╮\n",
              "│ <span style=\"color: #808000; text-decoration-color: #808000; font-weight: bold\">🎧 Customer Support Scenario</span> │\n",
              "╰──────────────────────────────╯\n",
              "</pre>\n"
            ],
            "text/plain": [
              "╭──────────────────────────────╮\n",
              "│ \u001b[1;33m🎧 Customer Support Scenario\u001b[0m │\n",
              "╰──────────────────────────────╯\n"
            ]
          },
          "metadata": {},
          "output_type": "display_data"
        },
        {
          "name": "stdout",
          "output_type": "stream",
          "text": [
            "{\"ts\": \"2025-07-21T12:52:20.709Z\", \"event\": \"memory.add.request\", \"data\": {\"messages\": [{\"role\": \"user\", \"content\": \"Hi, I'm having trouble with my Premium subscription. Video quality keeps dropping to 480p even though I pay for 4K. I'm using Chrome on Windows 11.\"}], \"user_id\": null, \"agent_id\": \"customer_support_1753102340\", \"run_id\": null, \"metadata\": null, \"infer\": false}}\n",
            "{\"ts\": \"2025-07-21T12:52:21.539Z\", \"event\": \"memory.stored\", \"data\": {\"results\": [{\"id\": \"6cdfefcb-e390-466e-b2bf-5cee5e16429b\", \"memory\": \"Hi, I'm having trouble with my Premium subscription. Video quality keeps dropping to 480p even though I pay for 4K. I'm using Chrome on Windows 11.\", \"event\": \"ADD\", \"actor_id\": null, \"role\": \"user\"}]}}\n",
            "{\"ts\": \"2025-07-21T12:52:22.237Z\", \"event\": \"llm.called\", \"data\": {\"backend\": \"OpenAIBackend\", \"prompt\": \"Hi, I'm having trouble with my Premium subscription. Video quality keeps dropping to 480p even though I pay for 4K. I'm using Chrome on Windows 11.\"}}\n",
            "{\"ts\": \"2025-07-21T12:52:31.251Z\", \"event\": \"memory.add.request\", \"data\": {\"messages\": [{\"role\": \"assistant\", \"content\": \"It seems like the issue you're experiencing with the video quality dropping to 480p despite having a Premium subscription for 4K could be related to the browser settings or compatibility. Here are some steps you can take to troubleshoot this issue:\\n\\n1. **Check Internet Connection**: Ensure that your internet connection is stable and fast enough to support streaming in 4K resolution.\\n\\n2. **Clear Browser Cache**: Clear the cache and cookies in your Chrome browser to ensure that old data is not affecting the streaming quality.\\n\\n3. **Update Chrome**: Make sure that your Chrome browser is up to date. Outdated browsers can sometimes cause issues with streaming quality.\\n\\n4. **Check Hardware Acceleration**: In Chrome settings, navigate to \\\"chrome://settings/system\\\" and check if hardware acceleration is enabled. Disabling or enabling this feature can sometimes improve video playback quality.\\n\\n5. **Disable Extensions**: Temporarily disable any Chrome extensions that might be interfering with the video playback quality.\\n\\n6. **Try Incognito Mode**: Open an incognito window in Chrome and try streaming in 4K. This can help determine if the issue is related to any browser extensions or settings.\\n\\n7. **Contact Support**: If the issue persists, reach out to the customer support of the streaming service you are using. They can provide specific troubleshooting steps or check if there are any account-related issues causing the problem.\\n\\nBy following these steps, you should be able to troubleshoot the issue with the video quality dropping to 480p on your Premium subscription.\"}], \"user_id\": null, \"agent_id\": \"customer_support_1753102340\", \"run_id\": null, \"metadata\": null, \"infer\": true}}\n",
            "{\"ts\": \"2025-07-21T12:52:32.212Z\", \"event\": \"memory.stored\", \"data\": {\"results\": []}}\n"
          ]
        },
        {
          "data": {
            "text/html": [
              "<pre style=\"white-space:pre;overflow-x:auto;line-height:normal;font-family:Menlo,'DejaVu Sans Mono',consolas,'Courier New',monospace\">👤 <span style=\"color: #008000; text-decoration-color: #008000\">Customer:</span> Hi, I'm having trouble with my Premium subscription. Video quality keeps dropping to 480p even though \n",
              "I pay for 4K. I'm using Chrome on Windows <span style=\"color: #008080; text-decoration-color: #008080; font-weight: bold\">11</span>.\n",
              "</pre>\n"
            ],
            "text/plain": [
              "👤 \u001b[32mCustomer:\u001b[0m Hi, I'm having trouble with my Premium subscription. Video quality keeps dropping to 480p even though \n",
              "I pay for 4K. I'm using Chrome on Windows \u001b[1;36m11\u001b[0m.\n"
            ]
          },
          "metadata": {},
          "output_type": "display_data"
        },
        {
          "data": {
            "text/html": [
              "<pre style=\"white-space:pre;overflow-x:auto;line-height:normal;font-family:Menlo,'DejaVu Sans Mono',consolas,'Courier New',monospace\">🎧 <span style=\"color: #000080; text-decoration-color: #000080\">Support:</span> It seems like the issue you're experiencing with the video quality dropping to 480p despite having a \n",
              "Premium subscription for 4K could be related to the browser settings or compatibility. Here are some steps you can \n",
              "take to troubleshoot this issue:\n",
              "\n",
              "<span style=\"color: #008080; text-decoration-color: #008080; font-weight: bold\">1</span>. **Check Internet Connection**: Ensure that your internet connection is stable and fast enough to support \n",
              "streaming in 4K resolution.\n",
              "\n",
              "<span style=\"color: #008080; text-decoration-color: #008080; font-weight: bold\">2</span>. **Clear Browser Cache**: Clear the cache and cookies in your Chrome browser to ensure that old data is not \n",
              "affecting the streaming quality.\n",
              "\n",
              "<span style=\"color: #008080; text-decoration-color: #008080; font-weight: bold\">3</span>. **Update Chrome**: Make sure that your Chrome browser is up to date. Outdated browsers can sometimes cause \n",
              "issues with streaming quality.\n",
              "\n",
              "<span style=\"color: #008080; text-decoration-color: #008080; font-weight: bold\">4</span>. **Check Hardware Acceleration**: In Chrome settings, navigate to <span style=\"color: #008000; text-decoration-color: #008000\">\"chrome://settings/system\"</span> and check if \n",
              "hardware acceleration is enabled. Disabling or enabling this feature can sometimes improve video playback quality.\n",
              "\n",
              "<span style=\"color: #008080; text-decoration-color: #008080; font-weight: bold\">5</span>. **Disable Extensions**: Temporarily disable any Chrome extensions that might be interfering with the video \n",
              "playback quality.\n",
              "\n",
              "<span style=\"color: #008080; text-decoration-color: #008080; font-weight: bold\">6</span>. **Try Incognito Mode**: Open an incognito window in Chrome and try streaming in 4K. This can help determine if \n",
              "the issue is related to any browser extensions or settings.\n",
              "\n",
              "<span style=\"color: #008080; text-decoration-color: #008080; font-weight: bold\">7</span>. **Contact Support**: If the issue persists, reach out to the customer support of the streaming service you are \n",
              "using. They can provide specific troubleshooting steps or check if there are any account-related issues causing the\n",
              "problem.\n",
              "\n",
              "By following these steps, you should be able to troubleshoot the issue with the video quality dropping to 480p on \n",
              "your Premium subscription.\n",
              "\n",
              "</pre>\n"
            ],
            "text/plain": [
              "🎧 \u001b[34mSupport:\u001b[0m It seems like the issue you're experiencing with the video quality dropping to 480p despite having a \n",
              "Premium subscription for 4K could be related to the browser settings or compatibility. Here are some steps you can \n",
              "take to troubleshoot this issue:\n",
              "\n",
              "\u001b[1;36m1\u001b[0m. **Check Internet Connection**: Ensure that your internet connection is stable and fast enough to support \n",
              "streaming in 4K resolution.\n",
              "\n",
              "\u001b[1;36m2\u001b[0m. **Clear Browser Cache**: Clear the cache and cookies in your Chrome browser to ensure that old data is not \n",
              "affecting the streaming quality.\n",
              "\n",
              "\u001b[1;36m3\u001b[0m. **Update Chrome**: Make sure that your Chrome browser is up to date. Outdated browsers can sometimes cause \n",
              "issues with streaming quality.\n",
              "\n",
              "\u001b[1;36m4\u001b[0m. **Check Hardware Acceleration**: In Chrome settings, navigate to \u001b[32m\"chrome://settings/system\"\u001b[0m and check if \n",
              "hardware acceleration is enabled. Disabling or enabling this feature can sometimes improve video playback quality.\n",
              "\n",
              "\u001b[1;36m5\u001b[0m. **Disable Extensions**: Temporarily disable any Chrome extensions that might be interfering with the video \n",
              "playback quality.\n",
              "\n",
              "\u001b[1;36m6\u001b[0m. **Try Incognito Mode**: Open an incognito window in Chrome and try streaming in 4K. This can help determine if \n",
              "the issue is related to any browser extensions or settings.\n",
              "\n",
              "\u001b[1;36m7\u001b[0m. **Contact Support**: If the issue persists, reach out to the customer support of the streaming service you are \n",
              "using. They can provide specific troubleshooting steps or check if there are any account-related issues causing the\n",
              "problem.\n",
              "\n",
              "By following these steps, you should be able to troubleshoot the issue with the video quality dropping to 480p on \n",
              "your Premium subscription.\n",
              "\n"
            ]
          },
          "metadata": {},
          "output_type": "display_data"
        },
        {
          "name": "stdout",
          "output_type": "stream",
          "text": [
            "{\"ts\": \"2025-07-21T12:52:32.226Z\", \"event\": \"memory.add.request\", \"data\": {\"messages\": [{\"role\": \"user\", \"content\": \"This started happening after the last update. My internet speed is 100 Mbps, so it's definitely not a bandwidth issue.\"}], \"user_id\": null, \"agent_id\": \"customer_support_1753102340\", \"run_id\": null, \"metadata\": null, \"infer\": false}}\n",
            "{\"ts\": \"2025-07-21T12:52:33.075Z\", \"event\": \"memory.stored\", \"data\": {\"results\": [{\"id\": \"029d5112-3f87-4990-92da-1b828b266b26\", \"memory\": \"This started happening after the last update. My internet speed is 100 Mbps, so it's definitely not a bandwidth issue.\", \"event\": \"ADD\", \"actor_id\": null, \"role\": \"user\"}]}}\n",
            "{\"ts\": \"2025-07-21T12:52:33.497Z\", \"event\": \"llm.called\", \"data\": {\"backend\": \"OpenAIBackend\", \"prompt\": \"This started happening after the last update. My internet speed is 100 Mbps, so it's definitely not a bandwidth issue.\"}}\n",
            "{\"ts\": \"2025-07-21T12:52:35.009Z\", \"event\": \"memory.add.request\", \"data\": {\"messages\": [{\"role\": \"assistant\", \"content\": \"It sounds like the issue you're experiencing with the video quality dropping to 480p despite having a 4K subscription could be related to the recent update. Sometimes updates can introduce new bugs or changes that affect performance. Since your internet speed is not the issue, it's worth checking if the update may have caused a compatibility issue with your browser or device. You may want to try using a different browser or device to see if the problem persists. Additionally, reaching out to the support team of the service you're using could help in troubleshooting and resolving this issue.\"}], \"user_id\": null, \"agent_id\": \"customer_support_1753102340\", \"run_id\": null, \"metadata\": null, \"infer\": true}}\n",
            "{\"ts\": \"2025-07-21T12:52:35.613Z\", \"event\": \"memory.stored\", \"data\": {\"results\": []}}\n"
          ]
        },
        {
          "data": {
            "text/html": [
              "<pre style=\"white-space:pre;overflow-x:auto;line-height:normal;font-family:Menlo,'DejaVu Sans Mono',consolas,'Courier New',monospace\">👤 <span style=\"color: #008000; text-decoration-color: #008000\">Customer:</span> This started happening after the last update. My internet speed is <span style=\"color: #008080; text-decoration-color: #008080; font-weight: bold\">100</span> Mbps, so it's definitely not a \n",
              "bandwidth issue.\n",
              "</pre>\n"
            ],
            "text/plain": [
              "👤 \u001b[32mCustomer:\u001b[0m This started happening after the last update. My internet speed is \u001b[1;36m100\u001b[0m Mbps, so it's definitely not a \n",
              "bandwidth issue.\n"
            ]
          },
          "metadata": {},
          "output_type": "display_data"
        },
        {
          "data": {
            "text/html": [
              "<pre style=\"white-space:pre;overflow-x:auto;line-height:normal;font-family:Menlo,'DejaVu Sans Mono',consolas,'Courier New',monospace\">🎧 <span style=\"color: #000080; text-decoration-color: #000080\">Support:</span> It sounds like the issue you're experiencing with the video quality dropping to 480p despite having a \n",
              "4K subscription could be related to the recent update. Sometimes updates can introduce new bugs or changes that \n",
              "affect performance. Since your internet speed is not the issue, it's worth checking if the update may have caused a\n",
              "compatibility issue with your browser or device. You may want to try using a different browser or device to see if \n",
              "the problem persists. Additionally, reaching out to the support team of the service you're using could help in \n",
              "troubleshooting and resolving this issue.\n",
              "</pre>\n"
            ],
            "text/plain": [
              "🎧 \u001b[34mSupport:\u001b[0m It sounds like the issue you're experiencing with the video quality dropping to 480p despite having a \n",
              "4K subscription could be related to the recent update. Sometimes updates can introduce new bugs or changes that \n",
              "affect performance. Since your internet speed is not the issue, it's worth checking if the update may have caused a\n",
              "compatibility issue with your browser or device. You may want to try using a different browser or device to see if \n",
              "the problem persists. Additionally, reaching out to the support team of the service you're using could help in \n",
              "troubleshooting and resolving this issue.\n"
            ]
          },
          "metadata": {},
          "output_type": "display_data"
        },
        {
          "data": {
            "text/html": [
              "<pre style=\"white-space:pre;overflow-x:auto;line-height:normal;font-family:Menlo,'DejaVu Sans Mono',consolas,'Courier New',monospace\">\n",
              "<span style=\"color: #808000; text-decoration-color: #808000\">⏰ Customer comes back the next day...</span>\n",
              "</pre>\n"
            ],
            "text/plain": [
              "\n",
              "\u001b[33m⏰ Customer comes back the next day\u001b[0m\u001b[33m...\u001b[0m\n"
            ]
          },
          "metadata": {},
          "output_type": "display_data"
        }
      ],
      "source": [
        "# 🎧 Customer Support Agent with Memory (SDK version)\n",
        "support_agent_id = f\"customer_support_{int(time.time())}\"\n",
        "support_agent = Agent(agent_id=support_agent_id)\n",
        "\n",
        "rprint(Panel(\"[bold yellow]🎧 Customer Support Scenario[/bold yellow]\", expand=False))\n",
        "\n",
        "# First interaction – customer reports an issue\n",
        "msg1 = (\n",
        "    \"Hi, I'm having trouble with my Premium subscription. \"\n",
        "    \"Video quality keeps dropping to 480p even though I pay for 4K. \"\n",
        "    \"I'm using Chrome on Windows 11.\"\n",
        ")\n",
        "reply1 = support_agent.chat(msg1)\n",
        "rprint(f\"👤 [green]Customer:[/green] {msg1}\")\n",
        "rprint(f\"🎧 [blue]Support:[/blue] {reply1}\\n\")\n",
        "\n",
        "# Customer provides more details\n",
        "msg2 = (\n",
        "    \"This started happening after the last update. My internet speed is 100 Mbps, \"\n",
        "    \"so it's definitely not a bandwidth issue.\"\n",
        ")\n",
        "reply2 = support_agent.chat(msg2)\n",
        "rprint(f\"👤 [green]Customer:[/green] {msg2}\")\n",
        "rprint(f\"🎧 [blue]Support:[/blue] {reply2}\")\n",
        "\n",
        "rprint(\"\\n[yellow]⏰ Customer comes back the next day...[/yellow]\")"
      ]
    },
    {
      "cell_type": "code",
      "execution_count": null,
      "metadata": {
        "id": "Q06cXy9iMekx",
        "outputId": "3bce3ea1-3ca8-47f8-dfcf-c14bf6313532"
      },
      "outputs": [
        {
          "name": "stdout",
          "output_type": "stream",
          "text": [
            "{\"ts\": \"2025-07-21T12:52:35.639Z\", \"event\": \"memory.add.request\", \"data\": {\"messages\": [{\"role\": \"user\", \"content\": \"Hi again, I tried your suggestions but I'm still having the same video quality issue.\"}], \"user_id\": null, \"agent_id\": \"customer_support_1753102340\", \"run_id\": null, \"metadata\": null, \"infer\": false}}\n",
            "{\"ts\": \"2025-07-21T12:52:36.226Z\", \"event\": \"memory.stored\", \"data\": {\"results\": [{\"id\": \"3e8ac492-c0f7-41b1-aed0-e6d08bf0b232\", \"memory\": \"Hi again, I tried your suggestions but I'm still having the same video quality issue.\", \"event\": \"ADD\", \"actor_id\": null, \"role\": \"user\"}]}}\n",
            "{\"ts\": \"2025-07-21T12:52:36.546Z\", \"event\": \"llm.called\", \"data\": {\"backend\": \"OpenAIBackend\", \"prompt\": \"Hi again, I tried your suggestions but I'm still having the same video quality issue.\"}}\n",
            "{\"ts\": \"2025-07-21T12:52:40.279Z\", \"event\": \"memory.add.request\", \"data\": {\"messages\": [{\"role\": \"assistant\", \"content\": \"I'm sorry to hear that you're still experiencing video quality issues despite trying the previous suggestions. Since you mentioned that the problem persists even after following the initial troubleshooting steps, it might be worth considering some additional factors that could be causing this issue. Here are a few more things to check or try:\\n\\n1. **Browser and Device Compatibility**: Ensure that your browser and device are fully compatible with the streaming service you are using. Sometimes, certain browsers or devices may not support higher video resolutions.\\n\\n2. **Clear Browser Cache and Cookies**: Clearing the cache and cookies in your browser can sometimes help resolve playback issues. This can help ensure that the browser is not holding onto any outdated data that could be affecting video quality.\\n\\n3. **Check for Browser Extensions**: Some browser extensions or add-ons can interfere with video playback and quality. Try disabling any extensions that may be running in the background and see if that makes a difference.\\n\\n4. **Update Graphics Drivers**: Ensure that your graphics drivers are up to date. Outdated or corrupted graphics drivers can sometimes cause video quality issues.\\n\\n5. **Contact Customer Support**: If the issue persists after trying these steps, it may be beneficial to reach out to the customer support team of the streaming service you are using. They may have specific insights or solutions tailored to their platform.\\n\\nIf you can provide more details about the specific service you are using or any other relevant information, I can offer more targeted assistance.\"}], \"user_id\": null, \"agent_id\": \"customer_support_1753102340\", \"run_id\": null, \"metadata\": null, \"infer\": true}}\n",
            "{\"ts\": \"2025-07-21T12:52:41.347Z\", \"event\": \"memory.stored\", \"data\": {\"results\": []}}\n"
          ]
        },
        {
          "data": {
            "text/html": [
              "<pre style=\"white-space:pre;overflow-x:auto;line-height:normal;font-family:Menlo,'DejaVu Sans Mono',consolas,'Courier New',monospace\">👤 <span style=\"color: #008000; text-decoration-color: #008000\">Customer:</span> Hi again, I tried your suggestions but I'm still having the same video quality issue.\n",
              "</pre>\n"
            ],
            "text/plain": [
              "👤 \u001b[32mCustomer:\u001b[0m Hi again, I tried your suggestions but I'm still having the same video quality issue.\n"
            ]
          },
          "metadata": {},
          "output_type": "display_data"
        },
        {
          "data": {
            "text/html": [
              "<pre style=\"white-space:pre;overflow-x:auto;line-height:normal;font-family:Menlo,'DejaVu Sans Mono',consolas,'Courier New',monospace\">🎧 <span style=\"color: #000080; text-decoration-color: #000080\">Support:</span> I'm sorry to hear that you're still experiencing video quality issues despite trying the previous \n",
              "suggestions. Since you mentioned that the problem persists even after following the initial troubleshooting steps, \n",
              "it might be worth considering some additional factors that could be causing this issue. Here are a few more things \n",
              "to check or try:\n",
              "\n",
              "<span style=\"color: #008080; text-decoration-color: #008080; font-weight: bold\">1</span>. **Browser and Device Compatibility**: Ensure that your browser and device are fully compatible with the \n",
              "streaming service you are using. Sometimes, certain browsers or devices may not support higher video resolutions.\n",
              "\n",
              "<span style=\"color: #008080; text-decoration-color: #008080; font-weight: bold\">2</span>. **Clear Browser Cache and Cookies**: Clearing the cache and cookies in your browser can sometimes help resolve \n",
              "playback issues. This can help ensure that the browser is not holding onto any outdated data that could be \n",
              "affecting video quality.\n",
              "\n",
              "<span style=\"color: #008080; text-decoration-color: #008080; font-weight: bold\">3</span>. **Check for Browser Extensions**: Some browser extensions or add-ons can interfere with video playback and \n",
              "quality. Try disabling any extensions that may be running in the background and see if that makes a difference.\n",
              "\n",
              "<span style=\"color: #008080; text-decoration-color: #008080; font-weight: bold\">4</span>. **Update Graphics Drivers**: Ensure that your graphics drivers are up to date. Outdated or corrupted graphics \n",
              "drivers can sometimes cause video quality issues.\n",
              "\n",
              "<span style=\"color: #008080; text-decoration-color: #008080; font-weight: bold\">5</span>. **Contact Customer Support**: If the issue persists after trying these steps, it may be beneficial to reach out \n",
              "to the customer support team of the streaming service you are using. They may have specific insights or solutions \n",
              "tailored to their platform.\n",
              "\n",
              "If you can provide more details about the specific service you are using or any other relevant information, I can \n",
              "offer more targeted assistance.\n",
              "</pre>\n"
            ],
            "text/plain": [
              "🎧 \u001b[34mSupport:\u001b[0m I'm sorry to hear that you're still experiencing video quality issues despite trying the previous \n",
              "suggestions. Since you mentioned that the problem persists even after following the initial troubleshooting steps, \n",
              "it might be worth considering some additional factors that could be causing this issue. Here are a few more things \n",
              "to check or try:\n",
              "\n",
              "\u001b[1;36m1\u001b[0m. **Browser and Device Compatibility**: Ensure that your browser and device are fully compatible with the \n",
              "streaming service you are using. Sometimes, certain browsers or devices may not support higher video resolutions.\n",
              "\n",
              "\u001b[1;36m2\u001b[0m. **Clear Browser Cache and Cookies**: Clearing the cache and cookies in your browser can sometimes help resolve \n",
              "playback issues. This can help ensure that the browser is not holding onto any outdated data that could be \n",
              "affecting video quality.\n",
              "\n",
              "\u001b[1;36m3\u001b[0m. **Check for Browser Extensions**: Some browser extensions or add-ons can interfere with video playback and \n",
              "quality. Try disabling any extensions that may be running in the background and see if that makes a difference.\n",
              "\n",
              "\u001b[1;36m4\u001b[0m. **Update Graphics Drivers**: Ensure that your graphics drivers are up to date. Outdated or corrupted graphics \n",
              "drivers can sometimes cause video quality issues.\n",
              "\n",
              "\u001b[1;36m5\u001b[0m. **Contact Customer Support**: If the issue persists after trying these steps, it may be beneficial to reach out \n",
              "to the customer support team of the streaming service you are using. They may have specific insights or solutions \n",
              "tailored to their platform.\n",
              "\n",
              "If you can provide more details about the specific service you are using or any other relevant information, I can \n",
              "offer more targeted assistance.\n"
            ]
          },
          "metadata": {},
          "output_type": "display_data"
        },
        {
          "name": "stdout",
          "output_type": "stream",
          "text": [
            "\n",
            "{\"ts\": \"2025-07-21T12:52:41.360Z\", \"event\": \"memory.add.request\", \"data\": {\"messages\": [{\"role\": \"user\", \"content\": \"Can you escalate this to your technical team?\"}], \"user_id\": null, \"agent_id\": \"customer_support_1753102340\", \"run_id\": null, \"metadata\": null, \"infer\": false}}\n",
            "{\"ts\": \"2025-07-21T12:52:41.988Z\", \"event\": \"memory.stored\", \"data\": {\"results\": [{\"id\": \"9ff9f8c9-dd69-4ce2-94fd-4402cafae3a4\", \"memory\": \"Can you escalate this to your technical team?\", \"event\": \"ADD\", \"actor_id\": null, \"role\": \"user\"}]}}\n",
            "{\"ts\": \"2025-07-21T12:52:42.286Z\", \"event\": \"llm.called\", \"data\": {\"backend\": \"OpenAIBackend\", \"prompt\": \"Can you escalate this to your technical team?\"}}\n",
            "{\"ts\": \"2025-07-21T12:52:43.560Z\", \"event\": \"memory.add.request\", \"data\": {\"messages\": [{\"role\": \"assistant\", \"content\": \"I'm sorry to hear that you're experiencing issues with your Premium subscription and the video quality dropping to 480p despite paying for 4K. I will escalate this to our technical team for further investigation. In the meantime, please provide any additional details or steps you've taken to troubleshoot the issue. Thank you for your patience.\"}], \"user_id\": null, \"agent_id\": \"customer_support_1753102340\", \"run_id\": null, \"metadata\": null, \"infer\": true}}\n",
            "{\"ts\": \"2025-07-21T12:52:44.354Z\", \"event\": \"memory.stored\", \"data\": {\"results\": []}}\n"
          ]
        },
        {
          "data": {
            "text/html": [
              "<pre style=\"white-space:pre;overflow-x:auto;line-height:normal;font-family:Menlo,'DejaVu Sans Mono',consolas,'Courier New',monospace\">👤 <span style=\"color: #008000; text-decoration-color: #008000\">Customer:</span> Can you escalate this to your technical team?\n",
              "</pre>\n"
            ],
            "text/plain": [
              "👤 \u001b[32mCustomer:\u001b[0m Can you escalate this to your technical team?\n"
            ]
          },
          "metadata": {},
          "output_type": "display_data"
        },
        {
          "data": {
            "text/html": [
              "<pre style=\"white-space:pre;overflow-x:auto;line-height:normal;font-family:Menlo,'DejaVu Sans Mono',consolas,'Courier New',monospace\">🎧 <span style=\"color: #000080; text-decoration-color: #000080\">Support:</span> I'm sorry to hear that you're experiencing issues with your Premium subscription and the video quality \n",
              "dropping to 480p despite paying for 4K. I will escalate this to our technical team for further investigation. In \n",
              "the meantime, please provide any additional details or steps you've taken to troubleshoot the issue. Thank you for \n",
              "your patience.\n",
              "</pre>\n"
            ],
            "text/plain": [
              "🎧 \u001b[34mSupport:\u001b[0m I'm sorry to hear that you're experiencing issues with your Premium subscription and the video quality \n",
              "dropping to 480p despite paying for 4K. I will escalate this to our technical team for further investigation. In \n",
              "the meantime, please provide any additional details or steps you've taken to troubleshoot the issue. Thank you for \n",
              "your patience.\n"
            ]
          },
          "metadata": {},
          "output_type": "display_data"
        },
        {
          "data": {
            "text/html": [
              "<pre style=\"white-space:pre;overflow-x:auto;line-height:normal;font-family:Menlo,'DejaVu Sans Mono',consolas,'Courier New',monospace\">\n",
              "🎯 <span style=\"color: #008000; text-decoration-color: #008000; font-weight: bold\">Perfect! The support agent remembers:</span>\n",
              "</pre>\n"
            ],
            "text/plain": [
              "\n",
              "🎯 \u001b[1;32mPerfect! The support agent remembers:\u001b[0m\n"
            ]
          },
          "metadata": {},
          "output_type": "display_data"
        },
        {
          "data": {
            "text/html": [
              "<pre style=\"white-space:pre;overflow-x:auto;line-height:normal;font-family:Menlo,'DejaVu Sans Mono',consolas,'Courier New',monospace\">   • The specific issue <span style=\"font-weight: bold\">(</span>4K video quality<span style=\"font-weight: bold\">)</span>\n",
              "</pre>\n"
            ],
            "text/plain": [
              "   • The specific issue \u001b[1m(\u001b[0m4K video quality\u001b[1m)\u001b[0m\n"
            ]
          },
          "metadata": {},
          "output_type": "display_data"
        },
        {
          "data": {
            "text/html": [
              "<pre style=\"white-space:pre;overflow-x:auto;line-height:normal;font-family:Menlo,'DejaVu Sans Mono',consolas,'Courier New',monospace\">   • Customer's setup <span style=\"font-weight: bold\">(</span>Chrome + Windows <span style=\"color: #008080; text-decoration-color: #008080; font-weight: bold\">11</span><span style=\"font-weight: bold\">)</span>\n",
              "</pre>\n"
            ],
            "text/plain": [
              "   • Customer's setup \u001b[1m(\u001b[0mChrome + Windows \u001b[1;36m11\u001b[0m\u001b[1m)\u001b[0m\n"
            ]
          },
          "metadata": {},
          "output_type": "display_data"
        },
        {
          "data": {
            "text/html": [
              "<pre style=\"white-space:pre;overflow-x:auto;line-height:normal;font-family:Menlo,'DejaVu Sans Mono',consolas,'Courier New',monospace\">   • Previous troubleshooting attempts\n",
              "</pre>\n"
            ],
            "text/plain": [
              "   • Previous troubleshooting attempts\n"
            ]
          },
          "metadata": {},
          "output_type": "display_data"
        },
        {
          "data": {
            "text/html": [
              "<pre style=\"white-space:pre;overflow-x:auto;line-height:normal;font-family:Menlo,'DejaVu Sans Mono',consolas,'Courier New',monospace\">   • Subscription type <span style=\"font-weight: bold\">(</span>Premium<span style=\"font-weight: bold\">)</span>\n",
              "</pre>\n"
            ],
            "text/plain": [
              "   • Subscription type \u001b[1m(\u001b[0mPremium\u001b[1m)\u001b[0m\n"
            ]
          },
          "metadata": {},
          "output_type": "display_data"
        },
        {
          "data": {
            "text/html": [
              "<pre style=\"white-space:pre;overflow-x:auto;line-height:normal;font-family:Menlo,'DejaVu Sans Mono',consolas,'Courier New',monospace\">\n",
              "💡 <span style=\"color: #808000; text-decoration-color: #808000\">This eliminates the need to repeat information and speeds up resolution!</span>\n",
              "</pre>\n"
            ],
            "text/plain": [
              "\n",
              "💡 \u001b[33mThis eliminates the need to repeat information and speeds up resolution!\u001b[0m\n"
            ]
          },
          "metadata": {},
          "output_type": "display_data"
        }
      ],
      "source": [
        "# 🔄 Customer returns with follow-up\n",
        "followup_response = support_agent.chat(\n",
        "    \"Hi again, I tried your suggestions but I'm still having the same video quality issue.\"\n",
        ")\n",
        "console.print(\"👤 [green]Customer:[/green] Hi again, I tried your suggestions but I'm still having the same video quality issue.\")\n",
        "console.print(f\"🎧 [blue]Support:[/blue] {followup_response}\")\n",
        "print()\n",
        "\n",
        "# Agent should remember all the context: Premium subscription, 4K issue, Chrome, Windows 11, etc.\n",
        "context_response = support_agent.chat(\"Can you escalate this to your technical team?\")\n",
        "console.print(\"👤 [green]Customer:[/green] Can you escalate this to your technical team?\")\n",
        "console.print(f\"🎧 [blue]Support:[/blue] {context_response}\")\n",
        "\n",
        "console.print(\"\\n🎯 [bold green]Perfect! The support agent remembers:[/bold green]\")\n",
        "console.print(\"   • The specific issue (4K video quality)\")\n",
        "console.print(\"   • Customer's setup (Chrome + Windows 11)\")\n",
        "console.print(\"   • Previous troubleshooting attempts\")\n",
        "console.print(\"   • Subscription type (Premium)\")\n",
        "console.print(\"\\n💡 [yellow]This eliminates the need to repeat information and speeds up resolution![/yellow]\")\n"
      ]
    },
    {
      "cell_type": "markdown",
      "metadata": {
        "id": "qt2OU2zJMekx"
      },
      "source": [
        "## 👀 Next Step – Visualise Your Memories\n",
        "\n",
        "Storing & retrieving is only half the fun – seeing your agent’s memory **come to life** is where the real “aha!” happens.\n",
        "\n",
        "### 1. Get your own API key\n",
        "\n",
        "1. Head to **[app.flumes.ai](https://app.flumes.ai)**  \n",
        "2. Create a free account (takes < 30 sec)  \n",
        "3. Grab the key shown on **Settings → API keys**\n",
        "\n",
        "> 💡 Every key lives in its own private namespace – you’ll only see the memories you write with that key.\n",
        "\n",
        "### 2. Redo the notebook with your API KEY and you'll get to visualize the data\n",
        "\n",
        "![Memory Graph from Dashboard](https://raw.githubusercontent.com/alex-n-a/flumes-ai-sdk/main/learning/assets/memory-graph-support-agent.png)\n",
        "\n",
        "\n",
        "\n"
      ]
    },
    {
      "cell_type": "markdown",
      "metadata": {
        "id": "AOENqEhRMekx"
      },
      "source": [
        "### 4. Keep building!\n",
        "\n",
        "* Watch new memories pop onto the canvas in real-time  \n",
        "* Click any node to see its full text and metadata  \n",
        "* Use `.filter(category=\"preference\")` to focus on specific types of memories  \n",
        "* Export the graph to PNG/SVG for slide decks or docs\n",
        "\n",
        "Ready? **Grab your key, run the snippet, and watch your agent’s brain unfold!** 🔮"
      ]
    },
    {
      "cell_type": "markdown",
      "metadata": {
        "vscode": {
          "languageId": "raw"
        },
        "id": "oFhziiRfMekx"
      },
      "source": [
        "---\n",
        "\n",
        "## 🚀 Wrap-Up: You Just Built Production-Ready AI Memory!\n",
        "\n",
        "**Congratulations!** 🎉 You've just experienced the power of real AI memory infrastructure.\n",
        "\n",
        "### 🧠 What You Built\n",
        "\n",
        "✅ **Smart Memory Storage** - Automatically extract and store important facts\n",
        "✅ **Semantic Search** - Find relevant memories using natural language\n",
        "✅ **Cross-Session Persistence** - Memory survives restarts and refreshes\n",
        "✅ **Real-Time Injection** - Context flows seamlessly into responses\n",
        "✅ **Production Scale** - Built on enterprise-grade infrastructure\n",
        "\n",
        "### 💰 Business Impact\n",
        "\n",
        "| **Without Memory** | **With Flumes Memory** |\n",
        "|-------------------|----------------------|\n",
        "| 🔄 Users repeat information | ✅ Personalized from day one |\n",
        "| 💸 High token costs | 💰 Efficient context retrieval |\n",
        "| 😞 Poor user experience | 😊 Delightful interactions |\n",
        "| 🐌 Slow support resolution | ⚡ Fast, context-aware help |\n",
        "| 📈 High churn rates | 📉 Improved retention |\n",
        "\n",
        "### 🛠️ Ready to Add Memory to Your App?\n",
        "\n",
        "**It's really this simple:**\n",
        "\n",
        "```python\n",
        "import requests\n",
        "\n",
        "# Store memories\n",
        "payload = {\n",
        "    \"messages\": [{\"role\": \"user\", \"content\": \"User loves Italian food\"}],\n",
        "    \"agent_id\": \"your_agent_id\"\n",
        "}\n",
        "requests.post(\"https://api.flumes.ai/v1/memories/\",\n",
        "              headers={\"Authorization\": \"Bearer YOUR_API_KEY\"},\n",
        "              json=payload)\n",
        "\n",
        "# Search memories\n",
        "params = {\"agent_id\": \"your_agent_id\", \"query\": \"What food does user like?\"}\n",
        "memories = requests.get(\"https://api.flumes.ai/v1/memories/\",\n",
        "                       headers={\"Authorization\": \"Bearer YOUR_API_KEY\"},\n",
        "                       params=params).json()\n",
        "```\n",
        "\n",
        "### 🔗 Next Steps\n",
        "\n",
        "📚 **[Read the Docs](https://docs.flumes.ai)** - Complete API reference\n",
        "🎮 **[Try the Dashboard](https://app.flumes.ai)** - Visual memory management\n",
        "📧 **[Contact Us](mailto:alex@flumes.ai)** - Questions? We're here to help!\n",
        "** Star us on GitHub: [link](https://github.com/alex-n-a/flumes-ai-sdk)\n",
        "\n",
        "\n",
        "---\n",
        "\n",
        "**Built with ❤️ for developers who believe AI should remember** 🧠✨\n"
      ]
    },
    {
      "cell_type": "markdown",
      "metadata": {
        "id": "zyCj5wLqMekx"
      },
      "source": [
        "# Appendix: Implementation example directly with the API (no SDK)\n"
      ]
    },
    {
      "cell_type": "code",
      "execution_count": null,
      "metadata": {
        "id": "lOyBDEUsMekx"
      },
      "outputs": [],
      "source": [
        "FLUMES_API_KEY = \"de25b8f2e3e51a2ac1e135a407680d8c81f7dea75914d232\"\n",
        "FLUMES_API_URL = \"https://api.flumes.ai/v1\""
      ]
    },
    {
      "cell_type": "code",
      "execution_count": null,
      "metadata": {
        "id": "6bvsGj17Mekx",
        "outputId": "6b2e7b28-34b6-4afd-ccee-5d7c7a4e93f0"
      },
      "outputs": [
        {
          "data": {
            "text/html": [
              "<pre style=\"white-space:pre;overflow-x:auto;line-height:normal;font-family:Menlo,'DejaVu Sans Mono',consolas,'Courier New',monospace\">🧠 <span style=\"color: #008000; text-decoration-color: #008000; font-weight: bold\">Smart Agent with Flumes Memory created!</span>\n",
              "</pre>\n"
            ],
            "text/plain": [
              "🧠 \u001b[1;32mSmart Agent with Flumes Memory created!\u001b[0m\n"
            ]
          },
          "metadata": {},
          "output_type": "display_data"
        }
      ],
      "source": [
        "class SmartAgent:\n",
        "    \"\"\"An AI agent with REAL memory powered by Flumes 🧠✨\"\"\"\n",
        "\n",
        "    def __init__(self, agent_id: str = \"alex\"):\n",
        "        self.agent_id = agent_id\n",
        "        self.headers = {\n",
        "            \"Authorization\": f\"Bearer {FLUMES_API_KEY}\",\n",
        "            \"Content-Type\": \"application/json\"\n",
        "        }\n",
        "\n",
        "    def store_memory(self, messages: List[Dict[str, str]]) -> bool:\n",
        "        \"\"\"💾 Store messages in Flumes Memory (following exact API spec)\"\"\"\n",
        "\n",
        "        payload = {\n",
        "            \"messages\": messages,\n",
        "            \"agent_id\": self.agent_id\n",
        "        }\n",
        "\n",
        "        try:\n",
        "            response = requests.post(\n",
        "                f\"{FLUMES_API_URL}/memories/\",\n",
        "                headers=self.headers,\n",
        "                json=payload\n",
        "            )\n",
        "\n",
        "            if response.status_code == 200:\n",
        "                result = response.json()\n",
        "                console.print(f\"💾 [dim]Stored {len(result.get('results', []))} memories[/dim]\")\n",
        "                return True\n",
        "            else:\n",
        "                console.print(f\"❌ [red]Memory storage failed: {response.status_code}[/red]\")\n",
        "                return False\n",
        "\n",
        "        except Exception as e:\n",
        "            console.print(f\"❌ [red]Memory error: {e}[/red]\")\n",
        "            return False\n",
        "\n",
        "    def search_memories(self, query: str, agent_id: str = \"alex\", limit: int = 5) -> List[Dict]:\n",
        "        \"\"\"🔍 Search for relevant memories\"\"\"\n",
        "\n",
        "        try:\n",
        "            params = {\n",
        "                \"agent_id\": self.agent_id,\n",
        "                \"query\": query,  # This triggers semantic search\n",
        "                \"limit\": limit\n",
        "            }\n",
        "\n",
        "            response = requests.get(\n",
        "                f\"{FLUMES_API_URL}/memories/\",\n",
        "                headers=self.headers,\n",
        "                params=params\n",
        "            )\n",
        "\n",
        "            if response.status_code == 200:\n",
        "                data = response.json()\n",
        "                # unpack if the API wrapped results in an object\n",
        "                memories = data[\"results\"] if isinstance(data, dict) else data\n",
        "                console.print(f\"🔍 [dim]Found {len(memories)} relevant memories[/dim]\")\n",
        "                return memories\n",
        "            else:\n",
        "                console.print(f\"❌ [red]Memory search failed: {response.status_code}[/red]\")\n",
        "                return []\n",
        "\n",
        "        except Exception as e:\n",
        "            console.print(f\"❌ [red]Search error: {e}[/red]\")\n",
        "            return []\n",
        "\n",
        "    def chat(self, message: str) -> str:\n",
        "        \"\"\"💬 Chat with memory-enhanced responses\"\"\"\n",
        "\n",
        "        # 1️⃣ Search for relevant memories first\n",
        "        relevant_memories = self.search_memories(message,agent_id)\n",
        "\n",
        "        # 2️⃣ Build context from memories\n",
        "        memory_context = \"\"\n",
        "        if relevant_memories:\n",
        "            memory_context = \"\\n\\nWhat I remember about this conversation:\\n\"\n",
        "            for memory in relevant_memories[:3]:  # Top 3 most relevant\n",
        "                memory_context += f\"- {memory.get('memory', '')}\\n\"\n",
        "\n",
        "        # 3️⃣ Create enhanced system prompt\n",
        "        system_prompt = f\"\"\"You are a helpful assistant with perfect memory.\n",
        "        Use the provided context to give personalized responses.\n",
        "        {memory_context}\"\"\"\n",
        "\n",
        "        # 4️⃣ Get AI response\n",
        "        response = openai_client.chat.completions.create(\n",
        "            model=\"gpt-3.5-turbo\",\n",
        "            messages=[\n",
        "                {\"role\": \"system\", \"content\": system_prompt},\n",
        "                {\"role\": \"user\", \"content\": message}\n",
        "            ],\n",
        "            max_tokens=150\n",
        "        )\n",
        "\n",
        "        ai_message = response.choices[0].message.content\n",
        "\n",
        "        # 5️⃣ Store this conversation for future use\n",
        "        conversation = [\n",
        "            {\"role\": \"user\", \"content\": message},\n",
        "            {\"role\": \"assistant\", \"content\": ai_message}\n",
        "        ]\n",
        "        self.store_memory(conversation)\n",
        "\n",
        "        return ai_message\n",
        "\n",
        "# 🎉 Create our smart agent!\n",
        "agent_id = f\"learner_{int(time.time())}\"\n",
        "smart_agent = SmartAgent(agent_id)\n",
        "console.print(\"🧠 [bold green]Smart Agent with Flumes Memory created![/bold green]\")\n"
      ]
    },
    {
      "cell_type": "code",
      "execution_count": null,
      "metadata": {
        "id": "L0BUqiZ3Mekx",
        "outputId": "6f3e0294-4929-412a-a211-4f92bac65fe8"
      },
      "outputs": [
        {
          "data": {
            "text/html": [
              "<pre style=\"white-space:pre;overflow-x:auto;line-height:normal;font-family:Menlo,'DejaVu Sans Mono',consolas,'Courier New',monospace\">╭───────────────────────────────╮\n",
              "│ <span style=\"color: #008000; text-decoration-color: #008000; font-weight: bold\">Conversation with Smart Agent</span> │\n",
              "╰───────────────────────────────╯\n",
              "</pre>\n"
            ],
            "text/plain": [
              "╭───────────────────────────────╮\n",
              "│ \u001b[1;32mConversation with Smart Agent\u001b[0m │\n",
              "╰───────────────────────────────╯\n"
            ]
          },
          "metadata": {},
          "output_type": "display_data"
        },
        {
          "data": {
            "text/html": [
              "<pre style=\"white-space:pre;overflow-x:auto;line-height:normal;font-family:Menlo,'DejaVu Sans Mono',consolas,'Courier New',monospace\">🔍 <span style=\"color: #7f7f7f; text-decoration-color: #7f7f7f\">Found </span><span style=\"color: #7fbfbf; text-decoration-color: #7fbfbf; font-weight: bold\">0</span><span style=\"color: #7f7f7f; text-decoration-color: #7f7f7f\"> relevant memories</span>\n",
              "</pre>\n"
            ],
            "text/plain": [
              "🔍 \u001b[2mFound \u001b[0m\u001b[1;2;36m0\u001b[0m\u001b[2m relevant memories\u001b[0m\n"
            ]
          },
          "metadata": {},
          "output_type": "display_data"
        },
        {
          "data": {
            "text/html": [
              "<pre style=\"white-space:pre;overflow-x:auto;line-height:normal;font-family:Menlo,'DejaVu Sans Mono',consolas,'Courier New',monospace\">💾 <span style=\"color: #7f7f7f; text-decoration-color: #7f7f7f\">Stored </span><span style=\"color: #7fbfbf; text-decoration-color: #7fbfbf; font-weight: bold\">3</span><span style=\"color: #7f7f7f; text-decoration-color: #7f7f7f\"> memories</span>\n",
              "</pre>\n"
            ],
            "text/plain": [
              "💾 \u001b[2mStored \u001b[0m\u001b[1;2;36m3\u001b[0m\u001b[2m memories\u001b[0m\n"
            ]
          },
          "metadata": {},
          "output_type": "display_data"
        },
        {
          "data": {
            "text/html": [
              "<pre style=\"white-space:pre;overflow-x:auto;line-height:normal;font-family:Menlo,'DejaVu Sans Mono',consolas,'Courier New',monospace\">👤 <span style=\"color: #008000; text-decoration-color: #008000\">Alex:</span> Hi! I'm Alex and my dog's name is Max. He's a Golden Retriever!\n",
              "</pre>\n"
            ],
            "text/plain": [
              "👤 \u001b[32mAlex:\u001b[0m Hi! I'm Alex and my dog's name is Max. He's a Golden Retriever!\n"
            ]
          },
          "metadata": {},
          "output_type": "display_data"
        },
        {
          "data": {
            "text/html": [
              "<pre style=\"white-space:pre;overflow-x:auto;line-height:normal;font-family:Menlo,'DejaVu Sans Mono',consolas,'Courier New',monospace\">🧠 <span style=\"color: #000080; text-decoration-color: #000080\">Smart Agent:</span> Hello, Alex! It's nice to meet you and Max. Golden Retrievers are such wonderful and loyal \n",
              "companions. How can I assist you today?\n",
              "</pre>\n"
            ],
            "text/plain": [
              "🧠 \u001b[34mSmart Agent:\u001b[0m Hello, Alex! It's nice to meet you and Max. Golden Retrievers are such wonderful and loyal \n",
              "companions. How can I assist you today?\n"
            ]
          },
          "metadata": {},
          "output_type": "display_data"
        },
        {
          "name": "stdout",
          "output_type": "stream",
          "text": [
            "\n"
          ]
        },
        {
          "data": {
            "text/html": [
              "<pre style=\"white-space:pre;overflow-x:auto;line-height:normal;font-family:Menlo,'DejaVu Sans Mono',consolas,'Courier New',monospace\">🔍 <span style=\"color: #7f7f7f; text-decoration-color: #7f7f7f\">Found </span><span style=\"color: #7fbfbf; text-decoration-color: #7fbfbf; font-weight: bold\">3</span><span style=\"color: #7f7f7f; text-decoration-color: #7f7f7f\"> relevant memories</span>\n",
              "</pre>\n"
            ],
            "text/plain": [
              "🔍 \u001b[2mFound \u001b[0m\u001b[1;2;36m3\u001b[0m\u001b[2m relevant memories\u001b[0m\n"
            ]
          },
          "metadata": {},
          "output_type": "display_data"
        },
        {
          "data": {
            "text/html": [
              "<pre style=\"white-space:pre;overflow-x:auto;line-height:normal;font-family:Menlo,'DejaVu Sans Mono',consolas,'Courier New',monospace\">💾 <span style=\"color: #7f7f7f; text-decoration-color: #7f7f7f\">Stored </span><span style=\"color: #7fbfbf; text-decoration-color: #7fbfbf; font-weight: bold\">2</span><span style=\"color: #7f7f7f; text-decoration-color: #7f7f7f\"> memories</span>\n",
              "</pre>\n"
            ],
            "text/plain": [
              "💾 \u001b[2mStored \u001b[0m\u001b[1;2;36m2\u001b[0m\u001b[2m memories\u001b[0m\n"
            ]
          },
          "metadata": {},
          "output_type": "display_data"
        },
        {
          "data": {
            "text/html": [
              "<pre style=\"white-space:pre;overflow-x:auto;line-height:normal;font-family:Menlo,'DejaVu Sans Mono',consolas,'Courier New',monospace\">👤 <span style=\"color: #008000; text-decoration-color: #008000\">Alex:</span> Max loves playing fetch in the park!\n",
              "</pre>\n"
            ],
            "text/plain": [
              "👤 \u001b[32mAlex:\u001b[0m Max loves playing fetch in the park!\n"
            ]
          },
          "metadata": {},
          "output_type": "display_data"
        },
        {
          "data": {
            "text/html": [
              "<pre style=\"white-space:pre;overflow-x:auto;line-height:normal;font-family:Menlo,'DejaVu Sans Mono',consolas,'Courier New',monospace\">🧠 <span style=\"color: #000080; text-decoration-color: #000080\">Smart Agent:</span> That's great to hear! Max sounds like a fun and active companion. Playing fetch is such a great way\n",
              "for a Golden Retriever to get exercise and have a good time. How do you usually spend time with Max at the park?\n",
              "</pre>\n"
            ],
            "text/plain": [
              "🧠 \u001b[34mSmart Agent:\u001b[0m That's great to hear! Max sounds like a fun and active companion. Playing fetch is such a great way\n",
              "for a Golden Retriever to get exercise and have a good time. How do you usually spend time with Max at the park?\n"
            ]
          },
          "metadata": {},
          "output_type": "display_data"
        },
        {
          "data": {
            "text/html": [
              "<pre style=\"white-space:pre;overflow-x:auto;line-height:normal;font-family:Menlo,'DejaVu Sans Mono',consolas,'Courier New',monospace\">\n",
              "✅ <span style=\"color: #008000; text-decoration-color: #008000\">Great! Now let's test the memory...</span>\n",
              "</pre>\n"
            ],
            "text/plain": [
              "\n",
              "✅ \u001b[32mGreat! Now let's test the memory\u001b[0m\u001b[32m...\u001b[0m\n"
            ]
          },
          "metadata": {},
          "output_type": "display_data"
        }
      ],
      "source": [
        "# 🎭 Let's test our Smart Agent with the SAME conversation\n",
        "console.print(Panel(\"[bold green]Conversation with Smart Agent[/bold green]\", expand=False))\n",
        "\n",
        "# User shares the same info\n",
        "response1 = smart_agent.chat(\"Hi! I'm Alex and my dog's name is Max. He's a Golden Retriever!\")\n",
        "console.print(f\"👤 [green]Alex:[/green] Hi! I'm Alex and my dog's name is Max. He's a Golden Retriever!\")\n",
        "console.print(f\"🧠 [blue]Smart Agent:[/blue] {response1}\")\n",
        "print()\n",
        "\n",
        "# Add more details\n",
        "response2 = smart_agent.chat(\"Max loves playing fetch in the park!\")\n",
        "console.print(f\"👤 [green]Alex:[/green] Max loves playing fetch in the park!\")\n",
        "console.print(f\"🧠 [blue]Smart Agent:[/blue] {response2}\")\n",
        "\n",
        "console.print(\"\\n✅ [green]Great! Now let's test the memory...[/green]\")"
      ]
    },
    {
      "cell_type": "code",
      "execution_count": null,
      "metadata": {
        "id": "gAbOr4BKMeky",
        "outputId": "e832e0cc-2089-4b8a-9ed7-83ec717319bd"
      },
      "outputs": [
        {
          "data": {
            "text/html": [
              "<pre style=\"white-space:pre;overflow-x:auto;line-height:normal;font-family:Menlo,'DejaVu Sans Mono',consolas,'Courier New',monospace\">╭─────────────────────╮\n",
              "│ <span style=\"color: #008080; text-decoration-color: #008080; font-weight: bold\">🧠 Memory Dashboard</span> │\n",
              "╰─────────────────────╯\n",
              "</pre>\n"
            ],
            "text/plain": [
              "╭─────────────────────╮\n",
              "│ \u001b[1;36m🧠 Memory Dashboard\u001b[0m │\n",
              "╰─────────────────────╯\n"
            ]
          },
          "metadata": {},
          "output_type": "display_data"
        },
        {
          "data": {
            "text/html": [
              "<pre style=\"white-space:pre;overflow-x:auto;line-height:normal;font-family:Menlo,'DejaVu Sans Mono',consolas,'Courier New',monospace\">┏━━━━━━━━━━┳━━━━━━━━━━━━━━━━━━━━━━━━━━━━━━━━━━━━━━━━━━┳━━━━━━━━━━━━━━━━━━┓\n",
              "┃<span style=\"color: #008080; text-decoration-color: #008080; font-weight: bold\"> ID       </span>┃<span style=\"color: #008080; text-decoration-color: #008080; font-weight: bold\"> Memory                                   </span>┃<span style=\"color: #008080; text-decoration-color: #008080; font-weight: bold\"> Created          </span>┃\n",
              "┡━━━━━━━━━━╇━━━━━━━━━━━━━━━━━━━━━━━━━━━━━━━━━━━━━━━━━━╇━━━━━━━━━━━━━━━━━━┩\n",
              "│<span style=\"color: #7f7f7f; text-decoration-color: #7f7f7f\"> b949c3e… </span>│ Wants to gain weight                     │ 2025-07-19T03:36 │\n",
              "│<span style=\"color: #7f7f7f; text-decoration-color: #7f7f7f\"> 4a43393… </span>│ Wants to go to Rome in July              │ 2025-07-19T03:36 │\n",
              "│<span style=\"color: #7f7f7f; text-decoration-color: #7f7f7f\"> d9b9575… </span>│ Looking for tips for museums             │ 2025-07-19T03:36 │\n",
              "│<span style=\"color: #7f7f7f; text-decoration-color: #7f7f7f\"> 5d60679… </span>│ Dog's name is Max                        │ 2025-07-20T03:18 │\n",
              "│<span style=\"color: #7f7f7f; text-decoration-color: #7f7f7f\"> 0d6c838… </span>│ Name is Alex                             │ 2025-07-20T03:59 │\n",
              "│<span style=\"color: #7f7f7f; text-decoration-color: #7f7f7f\"> bd94bf3… </span>│ Dog's name is Max                        │ 2025-07-20T03:59 │\n",
              "│<span style=\"color: #7f7f7f; text-decoration-color: #7f7f7f\"> 039010a… </span>│ Max loves playing fetch in the park      │ 2025-07-20T03:59 │\n",
              "│<span style=\"color: #7f7f7f; text-decoration-color: #7f7f7f\"> 2dc4e37… </span>│ Max is a Golden Retriever                │ 2025-07-20T03:59 │\n",
              "│<span style=\"color: #7f7f7f; text-decoration-color: #7f7f7f\"> 34cdceb… </span>│ Name is Alex                             │ 2025-07-20T04:26 │\n",
              "│<span style=\"color: #7f7f7f; text-decoration-color: #7f7f7f\"> 94dada6… </span>│ He is 3 years old                        │ 2025-07-20T04:26 │\n",
              "└──────────┴──────────────────────────────────────────┴──────────────────┘\n",
              "</pre>\n"
            ],
            "text/plain": [
              "┏━━━━━━━━━━┳━━━━━━━━━━━━━━━━━━━━━━━━━━━━━━━━━━━━━━━━━━┳━━━━━━━━━━━━━━━━━━┓\n",
              "┃\u001b[1;36m \u001b[0m\u001b[1;36mID      \u001b[0m\u001b[1;36m \u001b[0m┃\u001b[1;36m \u001b[0m\u001b[1;36mMemory                                  \u001b[0m\u001b[1;36m \u001b[0m┃\u001b[1;36m \u001b[0m\u001b[1;36mCreated         \u001b[0m\u001b[1;36m \u001b[0m┃\n",
              "┡━━━━━━━━━━╇━━━━━━━━━━━━━━━━━━━━━━━━━━━━━━━━━━━━━━━━━━╇━━━━━━━━━━━━━━━━━━┩\n",
              "│\u001b[2m \u001b[0m\u001b[2mb949c3e…\u001b[0m\u001b[2m \u001b[0m│ Wants to gain weight                     │ 2025-07-19T03:36 │\n",
              "│\u001b[2m \u001b[0m\u001b[2m4a43393…\u001b[0m\u001b[2m \u001b[0m│ Wants to go to Rome in July              │ 2025-07-19T03:36 │\n",
              "│\u001b[2m \u001b[0m\u001b[2md9b9575…\u001b[0m\u001b[2m \u001b[0m│ Looking for tips for museums             │ 2025-07-19T03:36 │\n",
              "│\u001b[2m \u001b[0m\u001b[2m5d60679…\u001b[0m\u001b[2m \u001b[0m│ Dog's name is Max                        │ 2025-07-20T03:18 │\n",
              "│\u001b[2m \u001b[0m\u001b[2m0d6c838…\u001b[0m\u001b[2m \u001b[0m│ Name is Alex                             │ 2025-07-20T03:59 │\n",
              "│\u001b[2m \u001b[0m\u001b[2mbd94bf3…\u001b[0m\u001b[2m \u001b[0m│ Dog's name is Max                        │ 2025-07-20T03:59 │\n",
              "│\u001b[2m \u001b[0m\u001b[2m039010a…\u001b[0m\u001b[2m \u001b[0m│ Max loves playing fetch in the park      │ 2025-07-20T03:59 │\n",
              "│\u001b[2m \u001b[0m\u001b[2m2dc4e37…\u001b[0m\u001b[2m \u001b[0m│ Max is a Golden Retriever                │ 2025-07-20T03:59 │\n",
              "│\u001b[2m \u001b[0m\u001b[2m34cdceb…\u001b[0m\u001b[2m \u001b[0m│ Name is Alex                             │ 2025-07-20T04:26 │\n",
              "│\u001b[2m \u001b[0m\u001b[2m94dada6…\u001b[0m\u001b[2m \u001b[0m│ He is 3 years old                        │ 2025-07-20T04:26 │\n",
              "└──────────┴──────────────────────────────────────────┴──────────────────┘\n"
            ]
          },
          "metadata": {},
          "output_type": "display_data"
        },
        {
          "data": {
            "text/html": [
              "<pre style=\"white-space:pre;overflow-x:auto;line-height:normal;font-family:Menlo,'DejaVu Sans Mono',consolas,'Courier New',monospace\">\n",
              "📊 <span style=\"font-weight: bold\">Total memories: </span><span style=\"color: #008080; text-decoration-color: #008080; font-weight: bold\">11</span>\n",
              "</pre>\n"
            ],
            "text/plain": [
              "\n",
              "📊 \u001b[1mTotal memories: \u001b[0m\u001b[1;36m11\u001b[0m\n"
            ]
          },
          "metadata": {},
          "output_type": "display_data"
        }
      ],
      "source": [
        "def get_all_memories(agent_id: str = \"alex\") -> List[Dict]:\n",
        "    \"\"\"📋 Get all stored memories for debugging\"\"\"\n",
        "    headers = {\n",
        "        \"Authorization\": f\"Bearer {FLUMES_API_KEY}\",\n",
        "        \"Content-Type\": \"application/json\"\n",
        "    }\n",
        "\n",
        "    try:\n",
        "        params = {\"agent_id\": agent_id, \"limit\": 50}\n",
        "        response = requests.get(f\"{FLUMES_API_URL}/memories/\", headers=headers, params=params)\n",
        "\n",
        "        if response.status_code == 200:\n",
        "            data = response.json()\n",
        "            # API returns {\"results\": [...]}  → pull the list out\n",
        "            return data[\"results\"] if isinstance(data, dict) else data\n",
        "        else:\n",
        "            console.print(f\"❌ Failed to get memories: {response.status_code}\")\n",
        "            return []\n",
        "    except Exception as e:\n",
        "        console.print(f\"❌ Error: {e}\")\n",
        "        return []\n",
        "\n",
        "def show_memory_dashboard():\n",
        "    \"\"\"🎛️ Display a beautiful memory dashboard\"\"\"\n",
        "    memories = get_all_memories()\n",
        "\n",
        "    console.print(Panel(\"[bold cyan]🧠 Memory Dashboard[/bold cyan]\", expand=False))\n",
        "\n",
        "    if not memories:\n",
        "        console.print(\"🔍 [yellow]No memories found (yet!)[/yellow]\")\n",
        "        return\n",
        "\n",
        "    table = Table(show_header=True, header_style=\"bold cyan\")\n",
        "    table.add_column(\"ID\", style=\"dim\", width=8)\n",
        "    table.add_column(\"Memory\", min_width=40)\n",
        "    table.add_column(\"Created\", width=16)\n",
        "\n",
        "    for memory in memories[:10]:  # Show latest 10\n",
        "        table.add_row(\n",
        "            memory.get('id', '')[:8] + \"...\",\n",
        "            memory.get('memory', '')[:60] + (\"...\" if len(memory.get('memory', '')) > 60 else \"\"),\n",
        "            memory.get('created_at', '')[:16]\n",
        "        )\n",
        "\n",
        "    console.print(table)\n",
        "    console.print(f\"\\n📊 [bold]Total memories: {len(memories)}[/bold]\")\n",
        "\n",
        "# Show the memory dashboard\n",
        "show_memory_dashboard()"
      ]
    },
    {
      "cell_type": "code",
      "execution_count": null,
      "metadata": {
        "id": "RBRtH3EZMeky",
        "outputId": "4da5cced-8461-45d7-f168-76b9c83a6177"
      },
      "outputs": [
        {
          "data": {
            "text/html": [
              "<pre style=\"white-space:pre;overflow-x:auto;line-height:normal;font-family:Menlo,'DejaVu Sans Mono',consolas,'Courier New',monospace\">╭───────────────────────╮\n",
              "│ <span style=\"color: #800080; text-decoration-color: #800080; font-weight: bold\">🔍 Memory Search Demo</span> │\n",
              "╰───────────────────────╯\n",
              "</pre>\n"
            ],
            "text/plain": [
              "╭───────────────────────╮\n",
              "│ \u001b[1;35m🔍 Memory Search Demo\u001b[0m │\n",
              "╰───────────────────────╯\n"
            ]
          },
          "metadata": {},
          "output_type": "display_data"
        },
        {
          "data": {
            "text/html": [
              "<pre style=\"white-space:pre;overflow-x:auto;line-height:normal;font-family:Menlo,'DejaVu Sans Mono',consolas,'Courier New',monospace\">\n",
              "🔍 <span style=\"font-weight: bold\">Searching for:</span> <span style=\"color: #008000; text-decoration-color: #008000\">'dog'</span>\n",
              "</pre>\n"
            ],
            "text/plain": [
              "\n",
              "🔍 \u001b[1mSearching for:\u001b[0m \u001b[32m'dog'\u001b[0m\n"
            ]
          },
          "metadata": {},
          "output_type": "display_data"
        },
        {
          "data": {
            "text/html": [
              "<pre style=\"white-space:pre;overflow-x:auto;line-height:normal;font-family:Menlo,'DejaVu Sans Mono',consolas,'Courier New',monospace\">🔍 <span style=\"color: #7f7f7f; text-decoration-color: #7f7f7f\">Found </span><span style=\"color: #7fbfbf; text-decoration-color: #7fbfbf; font-weight: bold\">3</span><span style=\"color: #7f7f7f; text-decoration-color: #7f7f7f\"> relevant memories</span>\n",
              "</pre>\n"
            ],
            "text/plain": [
              "🔍 \u001b[2mFound \u001b[0m\u001b[1;2;36m3\u001b[0m\u001b[2m relevant memories\u001b[0m\n"
            ]
          },
          "metadata": {},
          "output_type": "display_data"
        },
        {
          "data": {
            "text/html": [
              "<pre style=\"white-space:pre;overflow-x:auto;line-height:normal;font-family:Menlo,'DejaVu Sans Mono',consolas,'Courier New',monospace\">  <span style=\"color: #008080; text-decoration-color: #008080; font-weight: bold\">1</span>. <span style=\"color: #008000; text-decoration-color: #008000\">Dog's name is Max</span>\n",
              "</pre>\n"
            ],
            "text/plain": [
              "  \u001b[1;36m1\u001b[0m. \u001b[32mDog's name is Max\u001b[0m\n"
            ]
          },
          "metadata": {},
          "output_type": "display_data"
        },
        {
          "data": {
            "text/html": [
              "<pre style=\"white-space:pre;overflow-x:auto;line-height:normal;font-family:Menlo,'DejaVu Sans Mono',consolas,'Courier New',monospace\">  <span style=\"color: #008080; text-decoration-color: #008080; font-weight: bold\">2</span>. <span style=\"color: #008000; text-decoration-color: #008000\">Max is a Golden Retriever</span>\n",
              "</pre>\n"
            ],
            "text/plain": [
              "  \u001b[1;36m2\u001b[0m. \u001b[32mMax is a Golden Retriever\u001b[0m\n"
            ]
          },
          "metadata": {},
          "output_type": "display_data"
        },
        {
          "data": {
            "text/html": [
              "<pre style=\"white-space:pre;overflow-x:auto;line-height:normal;font-family:Menlo,'DejaVu Sans Mono',consolas,'Courier New',monospace\">  <span style=\"color: #008080; text-decoration-color: #008080; font-weight: bold\">3</span>. <span style=\"color: #008000; text-decoration-color: #008000\">Max loves playing fetch in the park</span>\n",
              "</pre>\n"
            ],
            "text/plain": [
              "  \u001b[1;36m3\u001b[0m. \u001b[32mMax loves playing fetch in the park\u001b[0m\n"
            ]
          },
          "metadata": {},
          "output_type": "display_data"
        },
        {
          "data": {
            "text/html": [
              "<pre style=\"white-space:pre;overflow-x:auto;line-height:normal;font-family:Menlo,'DejaVu Sans Mono',consolas,'Courier New',monospace\">\n",
              "🔍 <span style=\"font-weight: bold\">Searching for:</span> <span style=\"color: #008000; text-decoration-color: #008000\">'Golden Retriever'</span>\n",
              "</pre>\n"
            ],
            "text/plain": [
              "\n",
              "🔍 \u001b[1mSearching for:\u001b[0m \u001b[32m'Golden Retriever'\u001b[0m\n"
            ]
          },
          "metadata": {},
          "output_type": "display_data"
        },
        {
          "data": {
            "text/html": [
              "<pre style=\"white-space:pre;overflow-x:auto;line-height:normal;font-family:Menlo,'DejaVu Sans Mono',consolas,'Courier New',monospace\">🔍 <span style=\"color: #7f7f7f; text-decoration-color: #7f7f7f\">Found </span><span style=\"color: #7fbfbf; text-decoration-color: #7fbfbf; font-weight: bold\">3</span><span style=\"color: #7f7f7f; text-decoration-color: #7f7f7f\"> relevant memories</span>\n",
              "</pre>\n"
            ],
            "text/plain": [
              "🔍 \u001b[2mFound \u001b[0m\u001b[1;2;36m3\u001b[0m\u001b[2m relevant memories\u001b[0m\n"
            ]
          },
          "metadata": {},
          "output_type": "display_data"
        },
        {
          "data": {
            "text/html": [
              "<pre style=\"white-space:pre;overflow-x:auto;line-height:normal;font-family:Menlo,'DejaVu Sans Mono',consolas,'Courier New',monospace\">  <span style=\"color: #008080; text-decoration-color: #008080; font-weight: bold\">1</span>. <span style=\"color: #008000; text-decoration-color: #008000\">Max is a Golden Retriever</span>\n",
              "</pre>\n"
            ],
            "text/plain": [
              "  \u001b[1;36m1\u001b[0m. \u001b[32mMax is a Golden Retriever\u001b[0m\n"
            ]
          },
          "metadata": {},
          "output_type": "display_data"
        },
        {
          "data": {
            "text/html": [
              "<pre style=\"white-space:pre;overflow-x:auto;line-height:normal;font-family:Menlo,'DejaVu Sans Mono',consolas,'Courier New',monospace\">  <span style=\"color: #008080; text-decoration-color: #008080; font-weight: bold\">2</span>. <span style=\"color: #008000; text-decoration-color: #008000\">Dog's name is Max</span>\n",
              "</pre>\n"
            ],
            "text/plain": [
              "  \u001b[1;36m2\u001b[0m. \u001b[32mDog's name is Max\u001b[0m\n"
            ]
          },
          "metadata": {},
          "output_type": "display_data"
        },
        {
          "data": {
            "text/html": [
              "<pre style=\"white-space:pre;overflow-x:auto;line-height:normal;font-family:Menlo,'DejaVu Sans Mono',consolas,'Courier New',monospace\">  <span style=\"color: #008080; text-decoration-color: #008080; font-weight: bold\">3</span>. <span style=\"color: #008000; text-decoration-color: #008000\">Max loves playing fetch in the park</span>\n",
              "</pre>\n"
            ],
            "text/plain": [
              "  \u001b[1;36m3\u001b[0m. \u001b[32mMax loves playing fetch in the park\u001b[0m\n"
            ]
          },
          "metadata": {},
          "output_type": "display_data"
        },
        {
          "data": {
            "text/html": [
              "<pre style=\"white-space:pre;overflow-x:auto;line-height:normal;font-family:Menlo,'DejaVu Sans Mono',consolas,'Courier New',monospace\">\n",
              "🔍 <span style=\"font-weight: bold\">Searching for:</span> <span style=\"color: #008000; text-decoration-color: #008000\">'fetch'</span>\n",
              "</pre>\n"
            ],
            "text/plain": [
              "\n",
              "🔍 \u001b[1mSearching for:\u001b[0m \u001b[32m'fetch'\u001b[0m\n"
            ]
          },
          "metadata": {},
          "output_type": "display_data"
        },
        {
          "data": {
            "text/html": [
              "<pre style=\"white-space:pre;overflow-x:auto;line-height:normal;font-family:Menlo,'DejaVu Sans Mono',consolas,'Courier New',monospace\">🔍 <span style=\"color: #7f7f7f; text-decoration-color: #7f7f7f\">Found </span><span style=\"color: #7fbfbf; text-decoration-color: #7fbfbf; font-weight: bold\">3</span><span style=\"color: #7f7f7f; text-decoration-color: #7f7f7f\"> relevant memories</span>\n",
              "</pre>\n"
            ],
            "text/plain": [
              "🔍 \u001b[2mFound \u001b[0m\u001b[1;2;36m3\u001b[0m\u001b[2m relevant memories\u001b[0m\n"
            ]
          },
          "metadata": {},
          "output_type": "display_data"
        },
        {
          "data": {
            "text/html": [
              "<pre style=\"white-space:pre;overflow-x:auto;line-height:normal;font-family:Menlo,'DejaVu Sans Mono',consolas,'Courier New',monospace\">  <span style=\"color: #008080; text-decoration-color: #008080; font-weight: bold\">1</span>. <span style=\"color: #008000; text-decoration-color: #008000\">Max loves playing fetch in the park</span>\n",
              "</pre>\n"
            ],
            "text/plain": [
              "  \u001b[1;36m1\u001b[0m. \u001b[32mMax loves playing fetch in the park\u001b[0m\n"
            ]
          },
          "metadata": {},
          "output_type": "display_data"
        },
        {
          "data": {
            "text/html": [
              "<pre style=\"white-space:pre;overflow-x:auto;line-height:normal;font-family:Menlo,'DejaVu Sans Mono',consolas,'Courier New',monospace\">  <span style=\"color: #008080; text-decoration-color: #008080; font-weight: bold\">2</span>. <span style=\"color: #008000; text-decoration-color: #008000\">Max is a Golden Retriever</span>\n",
              "</pre>\n"
            ],
            "text/plain": [
              "  \u001b[1;36m2\u001b[0m. \u001b[32mMax is a Golden Retriever\u001b[0m\n"
            ]
          },
          "metadata": {},
          "output_type": "display_data"
        },
        {
          "data": {
            "text/html": [
              "<pre style=\"white-space:pre;overflow-x:auto;line-height:normal;font-family:Menlo,'DejaVu Sans Mono',consolas,'Courier New',monospace\">  <span style=\"color: #008080; text-decoration-color: #008080; font-weight: bold\">3</span>. <span style=\"color: #008000; text-decoration-color: #008000\">Dog's name is Max</span>\n",
              "</pre>\n"
            ],
            "text/plain": [
              "  \u001b[1;36m3\u001b[0m. \u001b[32mDog's name is Max\u001b[0m\n"
            ]
          },
          "metadata": {},
          "output_type": "display_data"
        },
        {
          "data": {
            "text/html": [
              "<pre style=\"white-space:pre;overflow-x:auto;line-height:normal;font-family:Menlo,'DejaVu Sans Mono',consolas,'Courier New',monospace\">\n",
              "🔍 <span style=\"font-weight: bold\">Searching for:</span> <span style=\"color: #008000; text-decoration-color: #008000\">'park'</span>\n",
              "</pre>\n"
            ],
            "text/plain": [
              "\n",
              "🔍 \u001b[1mSearching for:\u001b[0m \u001b[32m'park'\u001b[0m\n"
            ]
          },
          "metadata": {},
          "output_type": "display_data"
        },
        {
          "data": {
            "text/html": [
              "<pre style=\"white-space:pre;overflow-x:auto;line-height:normal;font-family:Menlo,'DejaVu Sans Mono',consolas,'Courier New',monospace\">🔍 <span style=\"color: #7f7f7f; text-decoration-color: #7f7f7f\">Found </span><span style=\"color: #7fbfbf; text-decoration-color: #7fbfbf; font-weight: bold\">3</span><span style=\"color: #7f7f7f; text-decoration-color: #7f7f7f\"> relevant memories</span>\n",
              "</pre>\n"
            ],
            "text/plain": [
              "🔍 \u001b[2mFound \u001b[0m\u001b[1;2;36m3\u001b[0m\u001b[2m relevant memories\u001b[0m\n"
            ]
          },
          "metadata": {},
          "output_type": "display_data"
        },
        {
          "data": {
            "text/html": [
              "<pre style=\"white-space:pre;overflow-x:auto;line-height:normal;font-family:Menlo,'DejaVu Sans Mono',consolas,'Courier New',monospace\">  <span style=\"color: #008080; text-decoration-color: #008080; font-weight: bold\">1</span>. <span style=\"color: #008000; text-decoration-color: #008000\">Max loves playing fetch in the park</span>\n",
              "</pre>\n"
            ],
            "text/plain": [
              "  \u001b[1;36m1\u001b[0m. \u001b[32mMax loves playing fetch in the park\u001b[0m\n"
            ]
          },
          "metadata": {},
          "output_type": "display_data"
        },
        {
          "data": {
            "text/html": [
              "<pre style=\"white-space:pre;overflow-x:auto;line-height:normal;font-family:Menlo,'DejaVu Sans Mono',consolas,'Courier New',monospace\">  <span style=\"color: #008080; text-decoration-color: #008080; font-weight: bold\">2</span>. <span style=\"color: #008000; text-decoration-color: #008000\">Name is Alex</span>\n",
              "</pre>\n"
            ],
            "text/plain": [
              "  \u001b[1;36m2\u001b[0m. \u001b[32mName is Alex\u001b[0m\n"
            ]
          },
          "metadata": {},
          "output_type": "display_data"
        },
        {
          "data": {
            "text/html": [
              "<pre style=\"white-space:pre;overflow-x:auto;line-height:normal;font-family:Menlo,'DejaVu Sans Mono',consolas,'Courier New',monospace\">  <span style=\"color: #008080; text-decoration-color: #008080; font-weight: bold\">3</span>. <span style=\"color: #008000; text-decoration-color: #008000\">Name is Alex</span>\n",
              "</pre>\n"
            ],
            "text/plain": [
              "  \u001b[1;36m3\u001b[0m. \u001b[32mName is Alex\u001b[0m\n"
            ]
          },
          "metadata": {},
          "output_type": "display_data"
        },
        {
          "data": {
            "text/html": [
              "<pre style=\"white-space:pre;overflow-x:auto;line-height:normal;font-family:Menlo,'DejaVu Sans Mono',consolas,'Courier New',monospace\">\n",
              "🔍 <span style=\"font-weight: bold\">Searching for:</span> <span style=\"color: #008000; text-decoration-color: #008000\">'Alex'</span>s pet'\n",
              "</pre>\n"
            ],
            "text/plain": [
              "\n",
              "🔍 \u001b[1mSearching for:\u001b[0m \u001b[32m'Alex'\u001b[0ms pet'\n"
            ]
          },
          "metadata": {},
          "output_type": "display_data"
        },
        {
          "data": {
            "text/html": [
              "<pre style=\"white-space:pre;overflow-x:auto;line-height:normal;font-family:Menlo,'DejaVu Sans Mono',consolas,'Courier New',monospace\">🔍 <span style=\"color: #7f7f7f; text-decoration-color: #7f7f7f\">Found </span><span style=\"color: #7fbfbf; text-decoration-color: #7fbfbf; font-weight: bold\">3</span><span style=\"color: #7f7f7f; text-decoration-color: #7f7f7f\"> relevant memories</span>\n",
              "</pre>\n"
            ],
            "text/plain": [
              "🔍 \u001b[2mFound \u001b[0m\u001b[1;2;36m3\u001b[0m\u001b[2m relevant memories\u001b[0m\n"
            ]
          },
          "metadata": {},
          "output_type": "display_data"
        },
        {
          "data": {
            "text/html": [
              "<pre style=\"white-space:pre;overflow-x:auto;line-height:normal;font-family:Menlo,'DejaVu Sans Mono',consolas,'Courier New',monospace\">  <span style=\"color: #008080; text-decoration-color: #008080; font-weight: bold\">1</span>. <span style=\"color: #008000; text-decoration-color: #008000\">Name is Alex</span>\n",
              "</pre>\n"
            ],
            "text/plain": [
              "  \u001b[1;36m1\u001b[0m. \u001b[32mName is Alex\u001b[0m\n"
            ]
          },
          "metadata": {},
          "output_type": "display_data"
        },
        {
          "data": {
            "text/html": [
              "<pre style=\"white-space:pre;overflow-x:auto;line-height:normal;font-family:Menlo,'DejaVu Sans Mono',consolas,'Courier New',monospace\">  <span style=\"color: #008080; text-decoration-color: #008080; font-weight: bold\">2</span>. <span style=\"color: #008000; text-decoration-color: #008000\">Name is Alex</span>\n",
              "</pre>\n"
            ],
            "text/plain": [
              "  \u001b[1;36m2\u001b[0m. \u001b[32mName is Alex\u001b[0m\n"
            ]
          },
          "metadata": {},
          "output_type": "display_data"
        },
        {
          "data": {
            "text/html": [
              "<pre style=\"white-space:pre;overflow-x:auto;line-height:normal;font-family:Menlo,'DejaVu Sans Mono',consolas,'Courier New',monospace\">  <span style=\"color: #008080; text-decoration-color: #008080; font-weight: bold\">3</span>. <span style=\"color: #008000; text-decoration-color: #008000\">Dog's name is Max</span>\n",
              "</pre>\n"
            ],
            "text/plain": [
              "  \u001b[1;36m3\u001b[0m. \u001b[32mDog's name is Max\u001b[0m\n"
            ]
          },
          "metadata": {},
          "output_type": "display_data"
        },
        {
          "data": {
            "text/html": [
              "<pre style=\"white-space:pre;overflow-x:auto;line-height:normal;font-family:Menlo,'DejaVu Sans Mono',consolas,'Courier New',monospace\">\n",
              "✨ <span style=\"font-weight: bold\">Notice how semantic search finds relevant memories even with different words!</span>\n",
              "</pre>\n"
            ],
            "text/plain": [
              "\n",
              "✨ \u001b[1mNotice how semantic search finds relevant memories even with different words!\u001b[0m\n"
            ]
          },
          "metadata": {},
          "output_type": "display_data"
        }
      ],
      "source": [
        "# 🧪 Let's test memory search with different queries\n",
        "console.print(Panel(\"[bold magenta]🔍 Memory Search Demo[/bold magenta]\", expand=False))\n",
        "\n",
        "test_queries = [\n",
        "    \"dog\",\n",
        "    \"Golden Retriever\",\n",
        "    \"fetch\",\n",
        "    \"park\",\n",
        "    \"Alex's pet\"\n",
        "]\n",
        "\n",
        "for query in test_queries:\n",
        "    console.print(f\"\\n🔍 [bold]Searching for:[/bold] '{query}'\")\n",
        "\n",
        "    memories = smart_agent.search_memories(query, agent_id, limit=3)\n",
        "\n",
        "    if memories:\n",
        "        for i, memory in enumerate(memories, 1):\n",
        "            console.print(f\"  {i}. [green]{memory.get('memory', '')}[/green]\")\n",
        "    else:\n",
        "        console.print(\"  [red]No matches found[/red]\")\n",
        "\n",
        "console.print(\"\\n✨ [bold]Notice how semantic search finds relevant memories even with different words![/bold]\")"
      ]
    },
    {
      "cell_type": "code",
      "execution_count": null,
      "metadata": {
        "id": "9G3iZFnrMeky",
        "outputId": "80e76675-f7b2-4f7e-beff-9b062df7287c"
      },
      "outputs": [
        {
          "data": {
            "text/html": [
              "<pre style=\"white-space:pre;overflow-x:auto;line-height:normal;font-family:Menlo,'DejaVu Sans Mono',consolas,'Courier New',monospace\">╭──────────────────────────────╮\n",
              "│ <span style=\"color: #808000; text-decoration-color: #808000; font-weight: bold\">🎧 Customer Support Scenario</span> │\n",
              "╰──────────────────────────────╯\n",
              "</pre>\n"
            ],
            "text/plain": [
              "╭──────────────────────────────╮\n",
              "│ \u001b[1;33m🎧 Customer Support Scenario\u001b[0m │\n",
              "╰──────────────────────────────╯\n"
            ]
          },
          "metadata": {},
          "output_type": "display_data"
        },
        {
          "data": {
            "text/html": [
              "<pre style=\"white-space:pre;overflow-x:auto;line-height:normal;font-family:Menlo,'DejaVu Sans Mono',consolas,'Courier New',monospace\">🔍 <span style=\"color: #7f7f7f; text-decoration-color: #7f7f7f\">Found </span><span style=\"color: #7fbfbf; text-decoration-color: #7fbfbf; font-weight: bold\">5</span><span style=\"color: #7f7f7f; text-decoration-color: #7f7f7f\"> relevant memories</span>\n",
              "</pre>\n"
            ],
            "text/plain": [
              "🔍 \u001b[2mFound \u001b[0m\u001b[1;2;36m5\u001b[0m\u001b[2m relevant memories\u001b[0m\n"
            ]
          },
          "metadata": {},
          "output_type": "display_data"
        },
        {
          "data": {
            "text/html": [
              "<pre style=\"white-space:pre;overflow-x:auto;line-height:normal;font-family:Menlo,'DejaVu Sans Mono',consolas,'Courier New',monospace\">💾 <span style=\"color: #7f7f7f; text-decoration-color: #7f7f7f\">Stored </span><span style=\"color: #7fbfbf; text-decoration-color: #7fbfbf; font-weight: bold\">1</span><span style=\"color: #7f7f7f; text-decoration-color: #7f7f7f\"> memories</span>\n",
              "</pre>\n"
            ],
            "text/plain": [
              "💾 \u001b[2mStored \u001b[0m\u001b[1;2;36m1\u001b[0m\u001b[2m memories\u001b[0m\n"
            ]
          },
          "metadata": {},
          "output_type": "display_data"
        },
        {
          "data": {
            "text/html": [
              "<pre style=\"white-space:pre;overflow-x:auto;line-height:normal;font-family:Menlo,'DejaVu Sans Mono',consolas,'Courier New',monospace\">👤 <span style=\"color: #008000; text-decoration-color: #008000\">Customer:</span> Hi, I'm having trouble with my Premium subscription. Video quality keeps dropping to 480p even though \n",
              "I pay for 4K. I'm using Chrome on Windows <span style=\"color: #008080; text-decoration-color: #008080; font-weight: bold\">11</span>.\n",
              "</pre>\n"
            ],
            "text/plain": [
              "👤 \u001b[32mCustomer:\u001b[0m Hi, I'm having trouble with my Premium subscription. Video quality keeps dropping to 480p even though \n",
              "I pay for 4K. I'm using Chrome on Windows \u001b[1;36m11\u001b[0m.\n"
            ]
          },
          "metadata": {},
          "output_type": "display_data"
        },
        {
          "data": {
            "text/html": [
              "<pre style=\"white-space:pre;overflow-x:auto;line-height:normal;font-family:Menlo,'DejaVu Sans Mono',consolas,'Courier New',monospace\">🎧 <span style=\"color: #000080; text-decoration-color: #000080\">Support:</span> I'm sorry to hear about the video quality issues you're experiencing with your Premium subscription. It\n",
              "sounds like there may be some technical issues causing the drop in quality. Let's try a few troubleshooting steps \n",
              "to see if we can improve the situation.\n",
              "\n",
              "<span style=\"color: #008080; text-decoration-color: #008080; font-weight: bold\">1</span>. First, make sure your internet connection is stable and strong enough to support streaming in 4K resolution.\n",
              "<span style=\"color: #008080; text-decoration-color: #008080; font-weight: bold\">2</span>. Clear your browser's cache and cookies, then refresh the page and see if the video quality improves.\n",
              "<span style=\"color: #008080; text-decoration-color: #008080; font-weight: bold\">3</span>. Check for any browser extensions that might be affecting video playback quality and try disabling them.\n",
              "<span style=\"color: #008080; text-decoration-color: #008080; font-weight: bold\">4</span>. Update your browser to the latest version to ensure compatibility with the streaming service.\n",
              "<span style=\"color: #008080; text-decoration-color: #008080; font-weight: bold\">5</span>. If the issue persists, you may want to try using a different browser or device to see\n",
              "</pre>\n"
            ],
            "text/plain": [
              "🎧 \u001b[34mSupport:\u001b[0m I'm sorry to hear about the video quality issues you're experiencing with your Premium subscription. It\n",
              "sounds like there may be some technical issues causing the drop in quality. Let's try a few troubleshooting steps \n",
              "to see if we can improve the situation.\n",
              "\n",
              "\u001b[1;36m1\u001b[0m. First, make sure your internet connection is stable and strong enough to support streaming in 4K resolution.\n",
              "\u001b[1;36m2\u001b[0m. Clear your browser's cache and cookies, then refresh the page and see if the video quality improves.\n",
              "\u001b[1;36m3\u001b[0m. Check for any browser extensions that might be affecting video playback quality and try disabling them.\n",
              "\u001b[1;36m4\u001b[0m. Update your browser to the latest version to ensure compatibility with the streaming service.\n",
              "\u001b[1;36m5\u001b[0m. If the issue persists, you may want to try using a different browser or device to see\n"
            ]
          },
          "metadata": {},
          "output_type": "display_data"
        },
        {
          "name": "stdout",
          "output_type": "stream",
          "text": [
            "\n"
          ]
        },
        {
          "data": {
            "text/html": [
              "<pre style=\"white-space:pre;overflow-x:auto;line-height:normal;font-family:Menlo,'DejaVu Sans Mono',consolas,'Courier New',monospace\">🔍 <span style=\"color: #7f7f7f; text-decoration-color: #7f7f7f\">Found </span><span style=\"color: #7fbfbf; text-decoration-color: #7fbfbf; font-weight: bold\">5</span><span style=\"color: #7f7f7f; text-decoration-color: #7f7f7f\"> relevant memories</span>\n",
              "</pre>\n"
            ],
            "text/plain": [
              "🔍 \u001b[2mFound \u001b[0m\u001b[1;2;36m5\u001b[0m\u001b[2m relevant memories\u001b[0m\n"
            ]
          },
          "metadata": {},
          "output_type": "display_data"
        },
        {
          "data": {
            "text/html": [
              "<pre style=\"white-space:pre;overflow-x:auto;line-height:normal;font-family:Menlo,'DejaVu Sans Mono',consolas,'Courier New',monospace\">💾 <span style=\"color: #7f7f7f; text-decoration-color: #7f7f7f\">Stored </span><span style=\"color: #7fbfbf; text-decoration-color: #7fbfbf; font-weight: bold\">0</span><span style=\"color: #7f7f7f; text-decoration-color: #7f7f7f\"> memories</span>\n",
              "</pre>\n"
            ],
            "text/plain": [
              "💾 \u001b[2mStored \u001b[0m\u001b[1;2;36m0\u001b[0m\u001b[2m memories\u001b[0m\n"
            ]
          },
          "metadata": {},
          "output_type": "display_data"
        },
        {
          "data": {
            "text/html": [
              "<pre style=\"white-space:pre;overflow-x:auto;line-height:normal;font-family:Menlo,'DejaVu Sans Mono',consolas,'Courier New',monospace\">👤 <span style=\"color: #008000; text-decoration-color: #008000\">Customer:</span> This started happening after the last update. My internet speed is <span style=\"color: #008080; text-decoration-color: #008080; font-weight: bold\">100</span> Mbps, so it's definitely not a \n",
              "bandwidth issue.\n",
              "</pre>\n"
            ],
            "text/plain": [
              "👤 \u001b[32mCustomer:\u001b[0m This started happening after the last update. My internet speed is \u001b[1;36m100\u001b[0m Mbps, so it's definitely not a \n",
              "bandwidth issue.\n"
            ]
          },
          "metadata": {},
          "output_type": "display_data"
        },
        {
          "data": {
            "text/html": [
              "<pre style=\"white-space:pre;overflow-x:auto;line-height:normal;font-family:Menlo,'DejaVu Sans Mono',consolas,'Courier New',monospace\">🎧 <span style=\"color: #000080; text-decoration-color: #000080\">Support:</span> It's good to know that your internet speed is <span style=\"color: #008080; text-decoration-color: #008080; font-weight: bold\">100</span> Mbps, ruling out any bandwidth-related problems. \n",
              "Since the issue occurred after the last update, it's possible that the update may have caused some software \n",
              "compatibility issues. Have you tried restarting your router or devices to see if that resolves the issue after the \n",
              "update?\n",
              "</pre>\n"
            ],
            "text/plain": [
              "🎧 \u001b[34mSupport:\u001b[0m It's good to know that your internet speed is \u001b[1;36m100\u001b[0m Mbps, ruling out any bandwidth-related problems. \n",
              "Since the issue occurred after the last update, it's possible that the update may have caused some software \n",
              "compatibility issues. Have you tried restarting your router or devices to see if that resolves the issue after the \n",
              "update?\n"
            ]
          },
          "metadata": {},
          "output_type": "display_data"
        },
        {
          "data": {
            "text/html": [
              "<pre style=\"white-space:pre;overflow-x:auto;line-height:normal;font-family:Menlo,'DejaVu Sans Mono',consolas,'Courier New',monospace\">\n",
              "⏰ <span style=\"color: #808000; text-decoration-color: #808000\">Customer comes back the next day...</span>\n",
              "</pre>\n"
            ],
            "text/plain": [
              "\n",
              "⏰ \u001b[33mCustomer comes back the next day\u001b[0m\u001b[33m...\u001b[0m\n"
            ]
          },
          "metadata": {},
          "output_type": "display_data"
        }
      ],
      "source": [
        "# 🎧 Customer Support Agent with Memory\n",
        "support_agent = SmartAgent(\"customer_support\")\n",
        "\n",
        "console.print(Panel(\"[bold yellow]🎧 Customer Support Scenario[/bold yellow]\", expand=False))\n",
        "\n",
        "# First interaction - customer reports an issue\n",
        "issue_response = support_agent.chat(\n",
        "    \"Hi, I'm having trouble with my Premium subscription. \"\n",
        "    \"Video quality keeps dropping to 480p even though I pay for 4K. \"\n",
        "    \"I'm using Chrome on Windows 11.\"\n",
        ")\n",
        "console.print(\"👤 [green]Customer:[/green] Hi, I'm having trouble with my Premium subscription. Video quality keeps dropping to 480p even though I pay for 4K. I'm using Chrome on Windows 11.\")\n",
        "console.print(f\"🎧 [blue]Support:[/blue] {issue_response}\")\n",
        "print()\n",
        "\n",
        "# Customer provides more details\n",
        "details_response = support_agent.chat(\n",
        "    \"This started happening after the last update. My internet speed is 100 Mbps, \"\n",
        "    \"so it's definitely not a bandwidth issue.\"\n",
        ")\n",
        "console.print(\"👤 [green]Customer:[/green] This started happening after the last update. My internet speed is 100 Mbps, so it's definitely not a bandwidth issue.\")\n",
        "console.print(f\"🎧 [blue]Support:[/blue] {details_response}\")\n",
        "\n",
        "console.print(\"\\n⏰ [yellow]Customer comes back the next day...[/yellow]\")\n"
      ]
    }
  ],
  "metadata": {
    "kernelspec": {
      "display_name": ".venv",
      "language": "python",
      "name": "python3"
    },
    "language_info": {
      "codemirror_mode": {
        "name": "ipython",
        "version": 3
      },
      "file_extension": ".py",
      "mimetype": "text/x-python",
      "name": "python",
      "nbconvert_exporter": "python",
      "pygments_lexer": "ipython3",
      "version": "3.10.6"
    },
    "toc": {
      "base_numbering": 1,
      "nav_menu": {},
      "number_sections": true,
      "sideBar": true,
      "skip_h1_title": false,
      "title_cell": "Table of Contents",
      "title_sidebar": "Contents",
      "toc_cell": false,
      "toc_position": {},
      "toc_section_display": true,
      "toc_window_display": false
    },
    "colab": {
      "provenance": []
    }
  },
  "nbformat": 4,
  "nbformat_minor": 0
}