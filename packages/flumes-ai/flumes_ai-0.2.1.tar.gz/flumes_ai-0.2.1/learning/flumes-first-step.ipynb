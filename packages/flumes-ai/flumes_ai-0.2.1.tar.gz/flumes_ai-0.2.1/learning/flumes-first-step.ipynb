{
  "cells": [
    {
      "cell_type": "markdown",
      "metadata": {},
      "source": [
        "# Flumes: First Steps 🚀\n",
        "\n",
        "Give your agents durable, structured memory in minutes. This notebook mirrors a realistic onboarding flow:\n",
        "\n",
        "- Install and initialize the Python SDK\n",
        "- Add a rich, real-world message and watch Flumes extract multiple memories (facts, events, preferences)\n",
        "- Retrieve relevant context for a follow‑up question\n",
        "\n",
        "### What makes Flumes different (at a glance)\n",
        "- Single call to assemble context optionally extracts + stores the turn (no extra summarization step needed)\n",
        "- Hybrid retrieval with tunable weights and sensible presets (balanced, factual, recent, graphy)\n",
        "- Built‑in budgeting with small, predictable caps (light / standard / heavy) and returned pack telemetry\n",
        "- Entity‑first design: you work with `entity_id` and optional `namespace` everywhere\n",
        "\n",
        "You only need your Flumes API key. The base URL is built‑in: `https://api.flumes.ai`\n"
      ]
    },
    {
      "cell_type": "code",
      "execution_count": 1,
      "metadata": {},
      "outputs": [],
      "source": [
        "# Paste your API key here or set FLUMES_API_KEY in your environment\n",
        "import os\n",
        "API_KEY = os.getenv(\"FLUMES_API_KEY\", \"fl_658a2f25b0e34d008ec5b7c9a7a74fd2\")\n",
        "if API_KEY == \"your-api-key\":\n",
        "    print(\"⚠️ Set FLUMES_API_KEY or edit API_KEY above before running the rest.\")\n"
      ]
    },
    {
      "cell_type": "code",
      "execution_count": 2,
      "metadata": {},
      "outputs": [
        {
          "name": "stdout",
          "output_type": "stream",
          "text": [
            "Installed flumes-ai\n"
          ]
        }
      ],
      "source": [
        "# Install the SDK (one-time in Colab/local)\n",
        "# If already installed, you can skip this cell\n",
        "!pip -q install flumes-ai > /dev/null 2>&1\n",
        "print(\"Installed flumes-ai\")\n"
      ]
    },
    {
      "cell_type": "code",
      "execution_count": 3,
      "metadata": {},
      "outputs": [
        {
          "name": "stdout",
          "output_type": "stream",
          "text": [
            "Client ready → entity: user_demo_001 namespace: prod\n"
          ]
        }
      ],
      "source": [
        "# Initialize the client (entity-first)\n",
        "from flumes import MemoryClient\n",
        "\n",
        "client = MemoryClient(api_key=API_KEY, agent_id=\"onboarding-bot\")\n",
        "entity_id = \"user_demo_001\"\n",
        "namespace = \"prod\"\n",
        "\n",
        "print(\"Client ready → entity:\", entity_id, \"namespace:\", namespace)\n"
      ]
    },
    {
      "cell_type": "code",
      "execution_count": 8,
      "metadata": {},
      "outputs": [
        {
          "name": "stdout",
          "output_type": "stream",
          "text": [
            "{\"ts\": \"2025-08-19T16:14:44.651Z\", \"event\": \"request\", \"data\": {\"method\": \"POST\", \"url\": \"/v0/context/assemble\", \"headers\": {\"X-Flumes-Agent\": \"onboarding-bot\", \"Idempotency-Key\": \"0c5a418920ad9206e20d7385913ce113\"}}}\n",
            "{\"ts\": \"2025-08-19T16:14:45.836Z\", \"event\": \"response\", \"data\": {\"status\": 200, \"url\": \"/v0/context/assemble\", \"request_id\": \"req_0dc24ddf7e22456f8a964b7f7a179c21\"}}\n",
            "Stored. request_id= req_0dc24ddf7e22456f8a964b7f7a179c21\n",
            "Pack: {'target_tokens': 1200, 'hard_cap_tokens': 1500, 'used_tokens': 0, 'dropped': []}\n",
            "Summary:\n",
            " \n"
          ]
        }
      ],
      "source": [
        "# Step 1: Add a rich message (Flumes will extract structured facts/events)\n",
        "# This text is intentionally dense so the graph has plenty to show.\n",
        "\n",
        "u = client.for_entity(entity_id, namespace=namespace)\n",
        "\n",
        "rich_message = (\n",
        "    \"I'm Alice Parker, living in Paris since 2023. I usually travel with my brother Ben. \"\n",
        "    \"For work, I'm a product manager at Nova Labs. I prefer museums over nightlife and \"\n",
        "    \"love quiet wine bars in the Latin Quarter. My favorite artists are Monet and Van Gogh. \"\n",
        "    \"I'm training for a half-marathon; my pace is around 5:30/km. Budget for trips is about €1200. \"\n",
        "    \"I have a gluten allergy and avoid crowded places on weekends. The last hotel I loved was Hotel Lumière \"\n",
        "    \"near Jardin du Luxembourg; I rated it 5/5 in May 2025. I'm planning a 3-day getaway to Lyon next month, \"\n",
        "    \"and I'd like recommendations that include scenic runs by the river, museums, and quiet dinner spots.\"\n",
        ")\n",
        "\n",
        "res = u.add(rich_message, budget=\"standard\")\n",
        "print(\"Stored. request_id=\", res.get(\"request_id\"))\n",
        "print(\"Pack:\", res.get(\"pack\"))\n",
        "print(\"Summary:\\n\", (res.get(\"context\") or {}).get(\"summary\", \"\"))\n"
      ]
    },
    {
      "cell_type": "code",
      "execution_count": 9,
      "metadata": {},
      "outputs": [
        {
          "name": "stdout",
          "output_type": "stream",
          "text": [
            "{\"ts\": \"2025-08-19T16:14:54.818Z\", \"event\": \"request\", \"data\": {\"method\": \"GET\", \"url\": \"/v0/memories\", \"params\": {\"entity_id\": \"user_demo_001\", \"namespace\": \"prod\", \"limit\": 10}}}\n",
            "{\"ts\": \"2025-08-19T16:14:55.029Z\", \"event\": \"response\", \"data\": {\"status\": 200, \"url\": \"/v0/memories\", \"request_id\": null}}\n",
            "Fetched 10 items\n",
            "- fact :: needs_recommendation = scenic runs by the river, museums, and quiet dinner spots\n",
            "- fact :: trip_duration = 3 days\n",
            "- fact :: planning_trip = Lyon\n",
            "- fact :: date_of_rating = May 2025\n",
            "- fact :: hotel_rating = 5\n",
            "- fact :: favorite_hotel = Hotel Lumière\n"
          ]
        }
      ],
      "source": [
        "# Step 2: Verify memories exist (facts/events)\n",
        "page = client.get_all(entity_id=entity_id, namespace=namespace, limit=10)\n",
        "print(\"Fetched\", len(page.get(\"items\", [])), \"items\")\n",
        "for m in page.get(\"items\", [])[:6]:\n",
        "    print(\"-\", m.get(\"type\"), \"::\", m.get(\"text\"))\n"
      ]
    },
    {
      "cell_type": "code",
      "execution_count": 10,
      "metadata": {},
      "outputs": [
        {
          "name": "stdout",
          "output_type": "stream",
          "text": [
            "{\"ts\": \"2025-08-19T16:15:03.685Z\", \"event\": \"request\", \"data\": {\"method\": \"POST\", \"url\": \"/v0/recall\"}}\n",
            "{\"ts\": \"2025-08-19T16:15:04.622Z\", \"event\": \"response\", \"data\": {\"status\": 200, \"url\": \"/v0/recall\", \"request_id\": \"req_7a1af81a93e64c059aaec1fb62723505\"}}\n",
            "Matches: 16\n",
            "- needs_recommendation = scenic runs by the river, museums, and quiet dinner spots (score=0.6)\n",
            "- preference = quiet wine bars in the Latin Quarter (score=0.489)\n",
            "- planning_trip = Lyon (score=0.469)\n",
            "- preference = museums (score=0.375)\n",
            "- favorite_hotel = Hotel Lumière (score=0.364)\n",
            "- location = Paris (score=0.355)\n"
          ]
        }
      ],
      "source": [
        "# Step 3: Retrieve context for a new message\n",
        "query = \"Looking for a quiet dinner near a scenic running route in Lyon; any museum picks?\"\n",
        "res = client.search(query, entity_id=entity_id, namespace=namespace, top_k=16, include_scores=True)\n",
        "print(\"Matches:\", len(res.get(\"matches\", [])))\n",
        "for m in res.get(\"matches\", [])[:6]:\n",
        "    print(f\"- {m.get('text')} (score={round(m.get('score', 0),3)})\")\n"
      ]
    },
    {
      "cell_type": "markdown",
      "metadata": {},
      "source": [
        "### Next steps\n",
        "- Try adding another turn (preferences, places, ratings)\n",
        "- Use the Agent helper for end-to-end chat with citations\n",
        "- Explore the graph view in the dashboard to see entities and relationships emerge\n"
      ]
    },
    {
      "cell_type": "markdown",
      "metadata": {},
      "source": [
        "## Advanced: Retrieval weights, budgeting, and presets\n",
        "\n",
        "Flumes retrieval combines semantic, keyword (BM25), and graph signals. You control it with a simple `retrieval` object:\n",
        "\n",
        "- `preset`: one of `balanced | factual | recent | graphy`\n",
        "- Or `weights`: `{ semantic, bm25, graph_prior, recency_decay, confidence }` (server renormalizes; flags indicate if adjusted)\n",
        "- `top_k`: number of candidates to return (default 16)\n",
        "\n",
        "Budgeting keeps cost predictable:\n",
        "- `budget = \"light\" | \"standard\" | \"heavy\"` → max_context_tokens of ~400 / 1200 / 2400 (hard caps applied)\n",
        "- Each `add()` returns `pack = { target_tokens, hard_cap_tokens, used_tokens, dropped[] }`\n",
        "\n",
        "You can pass these knobs per call or set them as defaults on the client.\n"
      ]
    },
    {
      "cell_type": "code",
      "execution_count": null,
      "metadata": {},
      "outputs": [
        {
          "name": "stdout",
          "output_type": "stream",
          "text": [
            "{\"ts\": \"2025-08-19T16:21:41.783Z\", \"event\": \"request\", \"data\": {\"method\": \"POST\", \"url\": \"/v0/recall\"}}\n",
            "{\"ts\": \"2025-08-19T16:21:42.709Z\", \"event\": \"response\", \"data\": {\"status\": 200, \"url\": \"/v0/recall\", \"request_id\": \"req_167d6fd1b1d1437883b03e1af6413903\"}}\n",
            "Top 5 with custom weights:\n",
            "- needs_recommendation = scenic runs by the river, museums, and quiet dinner spots (score=0.818)\n",
            "- planning_trip = Lyon (score=0.717)\n",
            "- trip_planning = Lyon (score=0.716)\n",
            "- preference = quiet wine bars in the Latin Quarter (score=0.663)\n",
            "- location = Paris (score=0.556)\n"
          ]
        }
      ],
      "source": [
        "# Try custom retrieval weights and a different budget\n",
        "query = \"Quiet dinner near scenic runs and impressionist museums in Lyon\"\n",
        "res = client.search(\n",
        "    query,\n",
        "    entity_id=entity_id,\n",
        "    namespace=namespace,\n",
        "    top_k=16,\n",
        "    weights={\"semantic\": 0.6, \"bm25\": 0.3, \"graph_prior\": 0.1},\n",
        "    include_scores=True,\n",
        ")\n",
        "print(\"Top 5 with custom weights:\")\n",
        "for m in res.get(\"matches\", [])[:5]:\n",
        "    print(f\"- {m.get('text')} (score={round(m.get('score', 0),3)})\")\n"
      ]
    },
    {
      "cell_type": "markdown",
      "metadata": {},
      "source": [
        "## Optional: Agent SDK (end-to-end chat)\n",
        "If you have an OpenAI key configured, you can run a short chat with grounded context. This uses the same `add()` assemble call under the hood.\n"
      ]
    },
    {
      "cell_type": "code",
      "execution_count": 15,
      "metadata": {},
      "outputs": [
        {
          "ename": "RuntimeError",
          "evalue": "openai package not installed; run `pip install openai`. ",
          "output_type": "error",
          "traceback": [
            "\u001b[0;31m---------------------------------------------------------------------------\u001b[0m",
            "\u001b[0;31mRuntimeError\u001b[0m                              Traceback (most recent call last)",
            "Cell \u001b[0;32mIn[15], line 5\u001b[0m\n\u001b[1;32m      2\u001b[0m \u001b[38;5;28;01mfrom\u001b[39;00m\u001b[38;5;250m \u001b[39m\u001b[38;5;21;01mflumes\u001b[39;00m\u001b[38;5;250m \u001b[39m\u001b[38;5;28;01mimport\u001b[39;00m Agent\n\u001b[1;32m      4\u001b[0m \u001b[38;5;66;03m# Reuse the authenticated client to avoid relying on environment variables in this cell\u001b[39;00m\n\u001b[0;32m----> 5\u001b[0m agent \u001b[38;5;241m=\u001b[39m \u001b[43mAgent\u001b[49m\u001b[43m(\u001b[49m\u001b[43magent_id\u001b[49m\u001b[38;5;241;43m=\u001b[39;49m\u001b[38;5;124;43m\"\u001b[39;49m\u001b[38;5;124;43monboarding-bot\u001b[39;49m\u001b[38;5;124;43m\"\u001b[39;49m\u001b[43m,\u001b[49m\u001b[43m \u001b[49m\u001b[43mentity_id\u001b[49m\u001b[38;5;241;43m=\u001b[39;49m\u001b[43mentity_id\u001b[49m\u001b[43m,\u001b[49m\u001b[43m \u001b[49m\u001b[43mmemory_client\u001b[49m\u001b[38;5;241;43m=\u001b[39;49m\u001b[43mclient\u001b[49m\u001b[43m)\u001b[49m\n\u001b[1;32m      6\u001b[0m \u001b[38;5;28mprint\u001b[39m(agent\u001b[38;5;241m.\u001b[39mchat(\u001b[38;5;124m\"\u001b[39m\u001b[38;5;124mPlan a quiet, museum-focused day in Lyon with a scenic morning run.\u001b[39m\u001b[38;5;124m\"\u001b[39m))\n",
            "File \u001b[0;32m~/code/flumes-mvp/.venv/lib/python3.10/site-packages/flumes/agent.py:27\u001b[0m, in \u001b[0;36mAgent.__init__\u001b[0;34m(self, agent_id, entity_id, run_id, memory_client, llm_backend)\u001b[0m\n\u001b[1;32m     25\u001b[0m \u001b[38;5;28mself\u001b[39m\u001b[38;5;241m.\u001b[39mrun_id \u001b[38;5;241m=\u001b[39m run_id\n\u001b[1;32m     26\u001b[0m \u001b[38;5;28mself\u001b[39m\u001b[38;5;241m.\u001b[39m_mem \u001b[38;5;241m=\u001b[39m memory_client \u001b[38;5;129;01mor\u001b[39;00m MemoryClient(agent_id\u001b[38;5;241m=\u001b[39magent_id)\n\u001b[0;32m---> 27\u001b[0m \u001b[38;5;28mself\u001b[39m\u001b[38;5;241m.\u001b[39m_llm \u001b[38;5;241m=\u001b[39m llm_backend \u001b[38;5;129;01mor\u001b[39;00m \u001b[43mOpenAIBackend\u001b[49m\u001b[43m(\u001b[49m\u001b[43m)\u001b[49m\n",
            "File \u001b[0;32m~/code/flumes-mvp/.venv/lib/python3.10/site-packages/flumes/utils/openai_wrapper.py:26\u001b[0m, in \u001b[0;36mOpenAIBackend.__init__\u001b[0;34m(self, model, temperature)\u001b[0m\n\u001b[1;32m     24\u001b[0m \u001b[38;5;28;01mdef\u001b[39;00m\u001b[38;5;250m \u001b[39m\u001b[38;5;21m__init__\u001b[39m(\u001b[38;5;28mself\u001b[39m, model: \u001b[38;5;28mstr\u001b[39m \u001b[38;5;241m=\u001b[39m \u001b[38;5;124m\"\u001b[39m\u001b[38;5;124mgpt-4o-mini\u001b[39m\u001b[38;5;124m\"\u001b[39m, temperature: \u001b[38;5;28mfloat\u001b[39m \u001b[38;5;241m=\u001b[39m \u001b[38;5;241m0.2\u001b[39m):\n\u001b[1;32m     25\u001b[0m     \u001b[38;5;28;01mif\u001b[39;00m openai \u001b[38;5;129;01mis\u001b[39;00m \u001b[38;5;28;01mNone\u001b[39;00m:\n\u001b[0;32m---> 26\u001b[0m         \u001b[38;5;28;01mraise\u001b[39;00m \u001b[38;5;167;01mRuntimeError\u001b[39;00m(\u001b[38;5;124m\"\u001b[39m\u001b[38;5;124mopenai package not installed; run `pip install openai`. \u001b[39m\u001b[38;5;124m\"\u001b[39m)\n\u001b[1;32m     27\u001b[0m     \u001b[38;5;28mself\u001b[39m\u001b[38;5;241m.\u001b[39mmodel \u001b[38;5;241m=\u001b[39m model\n\u001b[1;32m     28\u001b[0m     \u001b[38;5;28mself\u001b[39m\u001b[38;5;241m.\u001b[39mtemperature \u001b[38;5;241m=\u001b[39m temperature\n",
            "\u001b[0;31mRuntimeError\u001b[0m: openai package not installed; run `pip install openai`. "
          ]
        }
      ],
      "source": [
        "# pip install openai  # if needed\n",
        "from flumes import Agent\n",
        "\n",
        "# Reuse the authenticated client to avoid relying on environment variables in this cell\n",
        "agent = Agent(agent_id=\"onboarding-bot\", entity_id=entity_id, memory_client=client)\n",
        "print(agent.chat(\"Plan a quiet, museum-focused day in Lyon with a scenic morning run.\"))\n"
      ]
    },
    {
      "cell_type": "markdown",
      "metadata": {},
      "source": [
        "## Wrap‑up and next steps\n",
        "You're done! You installed the SDK, initialized a client, added a dense message, verified stored memories, and retrieved context. \n",
        "\n",
        "Where to go next:\n",
        "- View your memory graph in the dashboard (entities, facts, relationships)\n",
        "- Read the API reference and concepts (retrieval presets, budgeting, policies)\n",
        "- Explore SDK examples (Python, Node)\n",
        "\n",
        "Replace these with your links:\n",
        "- Dashboard: <YOUR_DASHBOARD_URL>\n",
        "- Docs: <YOUR_DOCS_URL>\n",
        "- SDK repos: <YOUR_SDK_URLS>\n"
      ]
    }
  ],
  "metadata": {
    "kernelspec": {
      "display_name": ".venv",
      "language": "python",
      "name": "python3"
    },
    "language_info": {
      "codemirror_mode": {
        "name": "ipython",
        "version": 3
      },
      "file_extension": ".py",
      "mimetype": "text/x-python",
      "name": "python",
      "nbconvert_exporter": "python",
      "pygments_lexer": "ipython3",
      "version": "3.10.6"
    }
  },
  "nbformat": 4,
  "nbformat_minor": 2
}
