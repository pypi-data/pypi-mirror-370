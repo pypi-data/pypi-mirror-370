{
 "cells": [
  {
   "cell_type": "code",
   "execution_count": 2,
   "id": "6e0cde21-2e6a-496b-9859-b6ec114c7fe9",
   "metadata": {},
   "outputs": [],
   "source": [
    "%load_ext autoreload\n",
    "%autoreload 2"
   ]
  },
  {
   "cell_type": "markdown",
   "id": "ff402f6b-df30-4f99-8742-1881c7e2e6b9",
   "metadata": {},
   "source": [
    "This is a notebook that illustrates how to run the end-to-end (e2e) workflow. Determining suitable parameters for the workflow are for operational considerations are explained in the ops library [`dist-s1-enumerator`](https://github.com/opera-adt/dist-s1-enumerator) - specifically, see this [notebook](https://github.com/opera-adt/dist-s1-enumerator/blob/dev/notebooks/A__Staging_Inputs_for_One_MGRS_Tile.ipynb)."
   ]
  },
  {
   "cell_type": "code",
   "execution_count": 3,
   "id": "91fb3320-c91c-465c-9ac3-926076e413e6",
   "metadata": {},
   "outputs": [
    {
     "name": "stderr",
     "output_type": "stream",
     "text": [
      "/Users/cmarshak/miniforge3/envs/dist-s1-env/lib/python3.13/site-packages/tqdm/auto.py:21: TqdmWarning: IProgress not found. Please update jupyter and ipywidgets. See https://ipywidgets.readthedocs.io/en/stable/user_install.html\n",
      "  from .autonotebook import tqdm as notebook_tqdm\n"
     ]
    }
   ],
   "source": [
    "from dist_s1 import run_dist_s1_workflow\n",
    "from pathlib import Path"
   ]
  },
  {
   "cell_type": "code",
   "execution_count": 4,
   "id": "7ce1f145-b58c-4982-b256-6a56b552d4cc",
   "metadata": {},
   "outputs": [],
   "source": [
    "## Example 0\n",
    "\n",
    "# mgrs_tile_id = '10SGD'\n",
    "# post_date = '2025-01-02'\n",
    "# track_number = 137\n",
    "# dst_dir = Path('out')\n",
    "# memory_strategy = 'high'\n",
    "\n",
    "\n",
    "## Example 1 - Los Angeles Wildfire\n",
    "mgrs_tile_id = '11SLT'\n",
    "post_date = '2025-01-21'\n",
    "track_number = 71\n",
    "dst_dir = Path('los-angeles')\n",
    "memory_strategy = 'high'  # can be high or low"
   ]
  },
  {
   "cell_type": "markdown",
   "id": "b8fe080a-df2c-493d-a65b-f280470c5a31",
   "metadata": {},
   "source": [
    "The downloading may be unstable, but currently the downloading step does not overwrite data so it can easily be rerun if it fails."
   ]
  },
  {
   "cell_type": "code",
   "execution_count": 5,
   "id": "3a0c448d-f360-435d-bc0d-8504753f5940",
   "metadata": {},
   "outputs": [
    {
     "name": "stdout",
     "output_type": "stream",
     "text": [
      "Using multi-window lookback strategy\n"
     ]
    },
    {
     "name": "stderr",
     "output_type": "stream",
     "text": [
      "Downloading RTC-S1 burst data: 100%|█| 352/352 [00:00<00:00,\n",
      "Despeckling and serializing RTC S1 files: 100%|█| 352/352 [0\n",
      "Burst disturbance:   0%|             | 0/16 [00:00<?, ?it/s]\n",
      "Chips Traversed: 100%|███| 656/656 [00:01<00:00, 407.41it/s]\u001b[A\n",
      "/Users/cmarshak/miniforge3/envs/dist-s1-env/lib/python3.13/site-packages/torch/nn/functional.py:5561: UserWarning: The operator 'aten::col2im' is not currently supported on the MPS backend and will fall back to run on the CPU. This may have performance implications. (Triggered internally at /Users/runner/miniforge3/conda-bld/libtorch_1746257056484/work/aten/src/ATen/mps/MPSFallback.mm:14.)\n",
      "  return torch._C._nn.col2im(\n",
      "/Users/cmarshak/bekaert-team/dist-s1/src/dist_s1/dist_processing.py:132: RuntimeWarning: All-NaN slice encountered\n",
      "  metric = np.nanmax(z_score_per_channel, axis=0)\n",
      "Burst disturbance:   6%|▎    | 1/16 [00:03<00:56,  3.77s/it]\n",
      "Chips Traversed: 100%|███| 586/586 [00:01<00:00, 399.39it/s]\u001b[A\n",
      "Burst disturbance:  12%|▋    | 2/16 [00:07<00:49,  3.55s/it]\n",
      "Chips Traversed: 100%|███| 659/659 [00:01<00:00, 430.31it/s]\u001b[A\n",
      "Burst disturbance:  19%|▉    | 3/16 [00:11<00:49,  3.79s/it]\n",
      "Chips Traversed: 100%|███| 586/586 [00:01<00:00, 557.77it/s]\u001b[A\n",
      "Burst disturbance:  25%|█▎   | 4/16 [00:14<00:41,  3.47s/it]\n",
      "Chips Traversed: 100%|███| 656/656 [00:01<00:00, 460.29it/s]\u001b[A\n",
      "Burst disturbance:  31%|█▌   | 5/16 [00:18<00:39,  3.63s/it]\n",
      "Chips Traversed: 100%|███| 586/586 [00:01<00:00, 458.99it/s]\u001b[A\n",
      "Burst disturbance:  38%|█▉   | 6/16 [00:21<00:35,  3.58s/it]\n",
      "Chips Traversed: 100%|███| 656/656 [00:01<00:00, 540.08it/s]\u001b[A\n",
      "Burst disturbance:  44%|██▏  | 7/16 [00:25<00:32,  3.65s/it]\n",
      "Chips Traversed: 100%|███| 586/586 [00:01<00:00, 485.57it/s]\u001b[A\n",
      "Burst disturbance:  50%|██▌  | 8/16 [00:28<00:28,  3.51s/it]\n",
      "Chips Traversed: 100%|███| 663/663 [00:01<00:00, 426.79it/s]\u001b[A\n",
      "Burst disturbance:  56%|██▊  | 9/16 [00:32<00:25,  3.70s/it]\n",
      "Chips Traversed: 100%|███| 586/586 [00:01<00:00, 543.87it/s]\u001b[A\n",
      "Burst disturbance:  62%|██▌ | 10/16 [00:35<00:21,  3.51s/it]\n",
      "Chips Traversed: 100%|███| 663/663 [00:01<00:00, 610.47it/s]\u001b[A\n",
      "Burst disturbance:  69%|██▊ | 11/16 [00:39<00:17,  3.50s/it]\n",
      "Chips Traversed: 100%|███| 586/586 [00:00<00:00, 594.56it/s]\u001b[A\n",
      "Burst disturbance:  75%|███ | 12/16 [00:42<00:13,  3.26s/it]\n",
      "Chips Traversed: 100%|███| 663/663 [00:01<00:00, 598.33it/s]\u001b[A\n",
      "Burst disturbance:  81%|███▎| 13/16 [00:45<00:09,  3.22s/it]\n",
      "Chips Traversed: 100%|███| 586/586 [00:00<00:00, 619.33it/s]\u001b[A\n",
      "Burst disturbance:  88%|███▌| 14/16 [00:47<00:06,  3.07s/it]\n",
      "Chips Traversed: 100%|███| 663/663 [00:01<00:00, 599.50it/s]\u001b[A\n",
      "Burst disturbance:  94%|███▊| 15/16 [00:50<00:03,  3.06s/it]\n",
      "Chips Traversed: 100%|███| 586/586 [00:00<00:00, 600.08it/s]\u001b[A\n",
      "Burst disturbance: 100%|████| 16/16 [00:53<00:00,  3.35s/it]\n"
     ]
    },
    {
     "name": "stdout",
     "output_type": "stream",
     "text": [
      "No confirmation requested, skipping confirmation step\n"
     ]
    },
    {
     "ename": "TypeError",
     "evalue": "invalid path or file: None",
     "output_type": "error",
     "traceback": [
      "\u001b[31m---------------------------------------------------------------------------\u001b[39m",
      "\u001b[31mTypeError\u001b[39m                                 Traceback (most recent call last)",
      "\u001b[36mCell\u001b[39m\u001b[36m \u001b[39m\u001b[32mIn[5]\u001b[39m\u001b[32m, line 1\u001b[39m\n\u001b[32m----> \u001b[39m\u001b[32m1\u001b[39m _ = \u001b[43mrun_dist_s1_workflow\u001b[49m\u001b[43m(\u001b[49m\u001b[43mmgrs_tile_id\u001b[49m\u001b[43m,\u001b[49m\u001b[43m \u001b[49m\u001b[43mpost_date\u001b[49m\u001b[43m,\u001b[49m\u001b[43m \u001b[49m\u001b[43mtrack_number\u001b[49m\u001b[43m,\u001b[49m\u001b[43m \u001b[49m\u001b[43mpost_date_buffer_days\u001b[49m\u001b[43m \u001b[49m\u001b[43m=\u001b[49m\u001b[43m \u001b[49m\u001b[32;43m1\u001b[39;49m\u001b[43m,\u001b[49m\u001b[43m \u001b[49m\u001b[43mdst_dir\u001b[49m\u001b[43m=\u001b[49m\u001b[43mdst_dir\u001b[49m\u001b[43m,\u001b[49m\u001b[43m \u001b[49m\u001b[43mmemory_strategy\u001b[49m\u001b[43m=\u001b[49m\u001b[43mmemory_strategy\u001b[49m\u001b[43m)\u001b[49m\n",
      "\u001b[36mFile \u001b[39m\u001b[32m~/bekaert-team/dist-s1/src/dist_s1/workflows.py:418\u001b[39m, in \u001b[36mrun_dist_s1_workflow\u001b[39m\u001b[34m(mgrs_tile_id, post_date, track_number, post_date_buffer_days, dst_dir, input_data_dir, memory_strategy, moderate_confidence_threshold, high_confidence_threshold, water_mask_path, tqdm_enabled, apply_water_mask, lookback_strategy, max_pre_imgs_per_burst_mw, delta_lookback_days_mw, product_dst_dir, bucket, bucket_prefix, n_workers_for_despeckling, n_workers_for_norm_param_estimation, device, model_source, model_cfg_path, model_wts_path, stride_for_norm_param_estimation, batch_size_for_norm_param_estimation, model_compilation, interpolation_method, apply_despeckling, apply_logit_to_inputs, algo_config_path, prior_dist_s1_product)\u001b[39m\n\u001b[32m    350\u001b[39m \u001b[38;5;28;01mdef\u001b[39;00m\u001b[38;5;250m \u001b[39m\u001b[34mrun_dist_s1_workflow\u001b[39m(\n\u001b[32m    351\u001b[39m     mgrs_tile_id: \u001b[38;5;28mstr\u001b[39m,\n\u001b[32m    352\u001b[39m     post_date: \u001b[38;5;28mstr\u001b[39m | datetime,\n\u001b[32m   (...)\u001b[39m\u001b[32m    382\u001b[39m     prior_dist_s1_product: \u001b[38;5;28mstr\u001b[39m | Path | \u001b[38;5;28;01mNone\u001b[39;00m = \u001b[38;5;28;01mNone\u001b[39;00m,\n\u001b[32m    383\u001b[39m ) -> Path:\n\u001b[32m    384\u001b[39m     run_config = run_dist_s1_sas_prep_workflow(\n\u001b[32m    385\u001b[39m         mgrs_tile_id,\n\u001b[32m    386\u001b[39m         post_date,\n\u001b[32m   (...)\u001b[39m\u001b[32m    416\u001b[39m         prior_dist_s1_product=prior_dist_s1_product,\n\u001b[32m    417\u001b[39m     )\n\u001b[32m--> \u001b[39m\u001b[32m418\u001b[39m     _ = \u001b[43mrun_dist_s1_sas_workflow\u001b[49m\u001b[43m(\u001b[49m\u001b[43mrun_config\u001b[49m\u001b[43m)\u001b[49m\n\u001b[32m    420\u001b[39m     \u001b[38;5;28;01mreturn\u001b[39;00m run_config\n",
      "\u001b[36mFile \u001b[39m\u001b[32m~/bekaert-team/dist-s1/src/dist_s1/workflows.py:342\u001b[39m, in \u001b[36mrun_dist_s1_sas_workflow\u001b[39m\u001b[34m(run_config)\u001b[39m\n\u001b[32m    340\u001b[39m \u001b[38;5;28;01mdef\u001b[39;00m\u001b[38;5;250m \u001b[39m\u001b[34mrun_dist_s1_sas_workflow\u001b[39m(run_config: RunConfigData) -> Path:\n\u001b[32m    341\u001b[39m     _ = run_dist_s1_processing_workflow(run_config)\n\u001b[32m--> \u001b[39m\u001b[32m342\u001b[39m     _ = \u001b[43mrun_dist_s1_packaging_workflow\u001b[49m\u001b[43m(\u001b[49m\u001b[43mrun_config\u001b[49m\u001b[43m)\u001b[49m\n\u001b[32m    344\u001b[39m     \u001b[38;5;66;03m# Upload to S3 if bucket is provided\u001b[39;00m\n\u001b[32m    345\u001b[39m     \u001b[38;5;28;01mif\u001b[39;00m run_config.bucket \u001b[38;5;129;01mis\u001b[39;00m \u001b[38;5;129;01mnot\u001b[39;00m \u001b[38;5;28;01mNone\u001b[39;00m:\n",
      "\u001b[36mFile \u001b[39m\u001b[32m~/bekaert-team/dist-s1/src/dist_s1/workflows.py:245\u001b[39m, in \u001b[36mrun_dist_s1_packaging_workflow\u001b[39m\u001b[34m(run_config)\u001b[39m\n\u001b[32m    243\u001b[39m \u001b[38;5;28;01mif\u001b[39;00m \u001b[38;5;129;01mnot\u001b[39;00m run_config.confirmation:\n\u001b[32m    244\u001b[39m     \u001b[38;5;28mprint\u001b[39m(\u001b[33m'\u001b[39m\u001b[33mNo confirmation requested, skipping confirmation step\u001b[39m\u001b[33m'\u001b[39m)\n\u001b[32m--> \u001b[39m\u001b[32m245\u001b[39m     \u001b[43mpackage_disturbance_tifs_no_confirmation\u001b[49m\u001b[43m(\u001b[49m\u001b[43mrun_config\u001b[49m\u001b[43m)\u001b[49m\n\u001b[32m    247\u001b[39m \u001b[38;5;28;01mif\u001b[39;00m run_config.confirmation:\n\u001b[32m    248\u001b[39m     \u001b[38;5;28mprint\u001b[39m(\u001b[33m'\u001b[39m\u001b[33mUsing previous product for confirmation\u001b[39m\u001b[33m'\u001b[39m)\n",
      "\u001b[36mFile \u001b[39m\u001b[32m~/bekaert-team/dist-s1/src/dist_s1/packaging.py:144\u001b[39m, in \u001b[36mpackage_disturbance_tifs_no_confirmation\u001b[39m\u001b[34m(run_config)\u001b[39m\n\u001b[32m    140\u001b[39m tags = update_tag_types(tags)\n\u001b[32m    142\u001b[39m \u001b[38;5;28;01mif\u001b[39;00m run_config.apply_water_mask:\n\u001b[32m    143\u001b[39m     serialization_inputs = [\n\u001b[32m--> \u001b[39m\u001b[32m144\u001b[39m         (\u001b[43mapply_water_mask\u001b[49m\u001b[43m(\u001b[49m\u001b[43marr\u001b[49m\u001b[43m,\u001b[49m\u001b[43m \u001b[49m\u001b[43mprof\u001b[49m\u001b[43m,\u001b[49m\u001b[43m \u001b[49m\u001b[43mrun_config\u001b[49m\u001b[43m.\u001b[49m\u001b[43mwater_mask_path\u001b[49m\u001b[43m)\u001b[49m, prof, path, cmap)\n\u001b[32m    145\u001b[39m         \u001b[38;5;28;01mfor\u001b[39;00m (arr, prof, path, cmap) \u001b[38;5;129;01min\u001b[39;00m serialization_inputs\n\u001b[32m    146\u001b[39m     ]\n\u001b[32m    148\u001b[39m \u001b[38;5;28;01mfor\u001b[39;00m arr, prof, path, cmap \u001b[38;5;129;01min\u001b[39;00m serialization_inputs:\n\u001b[32m    149\u001b[39m     serialize_one_2d_ds(arr, prof, path, colormap=cmap, tags=tags)\n",
      "\u001b[36mFile \u001b[39m\u001b[32m~/bekaert-team/dist-s1/src/dist_s1/water_mask.py:17\u001b[39m, in \u001b[36mapply_water_mask\u001b[39m\u001b[34m(band_src, profile_src, water_mask_path)\u001b[39m\n\u001b[32m     16\u001b[39m \u001b[38;5;28;01mdef\u001b[39;00m\u001b[38;5;250m \u001b[39m\u001b[34mapply_water_mask\u001b[39m(band_src: np.ndarray, profile_src: \u001b[38;5;28mdict\u001b[39m, water_mask_path: Path | \u001b[38;5;28mstr\u001b[39m | \u001b[38;5;28;01mNone\u001b[39;00m = \u001b[38;5;28;01mNone\u001b[39;00m) -> np.ndarray:\n\u001b[32m---> \u001b[39m\u001b[32m17\u001b[39m     X_wm, p_wm = \u001b[43mopen_one_ds\u001b[49m\u001b[43m(\u001b[49m\u001b[43mwater_mask_path\u001b[49m\u001b[43m)\u001b[49m\n\u001b[32m     18\u001b[39m     check_water_mask_profile(p_wm, profile_src)\n\u001b[32m     19\u001b[39m     band_src[X_wm == \u001b[32m1\u001b[39m] = profile_src[\u001b[33m'\u001b[39m\u001b[33mnodata\u001b[39m\u001b[33m'\u001b[39m]\n",
      "\u001b[36mFile \u001b[39m\u001b[32m~/bekaert-team/dist-s1/src/dist_s1/rio_tools.py:31\u001b[39m, in \u001b[36mopen_one_ds\u001b[39m\u001b[34m(path)\u001b[39m\n\u001b[32m     30\u001b[39m \u001b[38;5;28;01mdef\u001b[39;00m\u001b[38;5;250m \u001b[39m\u001b[34mopen_one_ds\u001b[39m(path: Path) -> \u001b[38;5;28mtuple\u001b[39m[np.ndarray, \u001b[38;5;28mdict\u001b[39m]:\n\u001b[32m---> \u001b[39m\u001b[32m31\u001b[39m     \u001b[38;5;28;01mwith\u001b[39;00m \u001b[43mrasterio\u001b[49m\u001b[43m.\u001b[49m\u001b[43mopen\u001b[49m\u001b[43m(\u001b[49m\u001b[43mpath\u001b[49m\u001b[43m)\u001b[49m \u001b[38;5;28;01mas\u001b[39;00m ds:\n\u001b[32m     32\u001b[39m         X = ds.read(\u001b[32m1\u001b[39m)\n\u001b[32m     33\u001b[39m         p = ds.profile\n",
      "\u001b[36mFile \u001b[39m\u001b[32m~/miniforge3/envs/dist-s1-env/lib/python3.13/site-packages/rasterio/env.py:463\u001b[39m, in \u001b[36mensure_env_with_credentials.<locals>.wrapper\u001b[39m\u001b[34m(*args, **kwds)\u001b[39m\n\u001b[32m    460\u001b[39m     session = DummySession()\n\u001b[32m    462\u001b[39m \u001b[38;5;28;01mwith\u001b[39;00m env_ctor(session=session):\n\u001b[32m--> \u001b[39m\u001b[32m463\u001b[39m     \u001b[38;5;28;01mreturn\u001b[39;00m \u001b[43mf\u001b[49m\u001b[43m(\u001b[49m\u001b[43m*\u001b[49m\u001b[43margs\u001b[49m\u001b[43m,\u001b[49m\u001b[43m \u001b[49m\u001b[43m*\u001b[49m\u001b[43m*\u001b[49m\u001b[43mkwds\u001b[49m\u001b[43m)\u001b[49m\n",
      "\u001b[36mFile \u001b[39m\u001b[32m~/miniforge3/envs/dist-s1-env/lib/python3.13/site-packages/rasterio/__init__.py:246\u001b[39m, in \u001b[36mopen\u001b[39m\u001b[34m(fp, mode, driver, width, height, count, crs, transform, dtype, nodata, sharing, opener, **kwargs)\u001b[39m\n\u001b[32m    239\u001b[39m \u001b[38;5;28;01mif\u001b[39;00m \u001b[38;5;129;01mnot\u001b[39;00m \u001b[38;5;28misinstance\u001b[39m(fp, \u001b[38;5;28mstr\u001b[39m):\n\u001b[32m    240\u001b[39m     \u001b[38;5;28;01mif\u001b[39;00m \u001b[38;5;129;01mnot\u001b[39;00m (\n\u001b[32m    241\u001b[39m         \u001b[38;5;28mhasattr\u001b[39m(fp, \u001b[33m\"\u001b[39m\u001b[33mopen\u001b[39m\u001b[33m\"\u001b[39m)\n\u001b[32m    242\u001b[39m         \u001b[38;5;129;01mor\u001b[39;00m \u001b[38;5;28mhasattr\u001b[39m(fp, \u001b[33m\"\u001b[39m\u001b[33mread\u001b[39m\u001b[33m\"\u001b[39m)\n\u001b[32m    243\u001b[39m         \u001b[38;5;129;01mor\u001b[39;00m \u001b[38;5;28mhasattr\u001b[39m(fp, \u001b[33m\"\u001b[39m\u001b[33mwrite\u001b[39m\u001b[33m\"\u001b[39m)\n\u001b[32m    244\u001b[39m         \u001b[38;5;129;01mor\u001b[39;00m \u001b[38;5;28misinstance\u001b[39m(fp, (os.PathLike, MemoryFile, FilePath))\n\u001b[32m    245\u001b[39m     ) \u001b[38;5;129;01mor\u001b[39;00m \u001b[38;5;28misinstance\u001b[39m(fp, DatasetBase):\n\u001b[32m--> \u001b[39m\u001b[32m246\u001b[39m         \u001b[38;5;28;01mraise\u001b[39;00m \u001b[38;5;167;01mTypeError\u001b[39;00m(\u001b[33mf\u001b[39m\u001b[33m\"\u001b[39m\u001b[33minvalid path or file: \u001b[39m\u001b[38;5;132;01m{\u001b[39;00mfp\u001b[38;5;132;01m!r}\u001b[39;00m\u001b[33m\"\u001b[39m)\n\u001b[32m    247\u001b[39m \u001b[38;5;28;01mif\u001b[39;00m \u001b[38;5;129;01mnot\u001b[39;00m \u001b[38;5;28misinstance\u001b[39m(mode, \u001b[38;5;28mstr\u001b[39m):\n\u001b[32m    248\u001b[39m     \u001b[38;5;28;01mraise\u001b[39;00m \u001b[38;5;167;01mTypeError\u001b[39;00m(\u001b[33mf\u001b[39m\u001b[33m\"\u001b[39m\u001b[33minvalid mode: \u001b[39m\u001b[38;5;132;01m{\u001b[39;00mmode\u001b[38;5;132;01m!r}\u001b[39;00m\u001b[33m\"\u001b[39m)\n",
      "\u001b[31mTypeError\u001b[39m: invalid path or file: None"
     ]
    }
   ],
   "source": [
    "_ = run_dist_s1_workflow(mgrs_tile_id, post_date, track_number, post_date_buffer_days = 1, dst_dir=dst_dir, memory_strategy=memory_strategy)"
   ]
  }
 ],
 "metadata": {
  "kernelspec": {
   "display_name": "dist-s1-env",
   "language": "python",
   "name": "dist-s1-env"
  },
  "language_info": {
   "codemirror_mode": {
    "name": "ipython",
    "version": 3
   },
   "file_extension": ".py",
   "mimetype": "text/x-python",
   "name": "python",
   "nbconvert_exporter": "python",
   "pygments_lexer": "ipython3",
   "version": "3.13.3"
  }
 },
 "nbformat": 4,
 "nbformat_minor": 5
}
