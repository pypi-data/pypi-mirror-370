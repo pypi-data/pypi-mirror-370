{
 "cells": [
  {
   "cell_type": "code",
   "execution_count": null,
   "metadata": {},
   "outputs": [],
   "source": [
    "# Enable auto-reloading of modules\n",
    "%load_ext autoreload\n",
    "%autoreload 2"
   ]
  },
  {
   "cell_type": "code",
   "execution_count": 1,
   "metadata": {},
   "outputs": [
    {
     "name": "stdout",
     "output_type": "stream",
     "text": [
      "\n",
      "Welcome to the NHL Scraper!\n",
      "\n",
      "My name is Max and I'm the developer of this project and hockey fan. I hope you enjoy using this tool!\n",
      "\n",
      "This is a work in progress and not all functionalities are available yet.\n",
      "\n",
      "*** IMPORTANT ***\n",
      "\n",
      "Make sure to run the following command in the terminal (it might take a while, but it will ensure that the playwright browser is installed):\n",
      "\n",
      "$ playwright install\n",
      "or\n",
      "$ playwright install chromium\n",
      "\n",
      "***\n",
      "\n",
      "If you have any questions, please contact me on X: @woumaxx[https://x.com/woumaxx]\n",
      "\n",
      "Thank you for using the NHL Scraper!\n",
      "\n",
      "\n",
      "\n"
     ]
    }
   ],
   "source": [
    "from nhl_scraper import scraper\n",
    "import polars as pl\n",
    "from tqdm import tqdm\n",
    "\n",
    "!playwright install\n",
    "\n",
    "from nhl_scraper.scraper import NHLGameURLGenerator, NHLPlayByPlayParser, NHLDataScraper, NHLBaseScraper\n",
    "\n",
    "scraper = scraper.Scraper()"
   ]
  },
  {
   "cell_type": "code",
   "execution_count": 19,
   "metadata": {},
   "outputs": [
    {
     "data": {
      "text/html": [
       "<div><style>\n",
       ".dataframe > thead > tr,\n",
       ".dataframe > tbody > tr {\n",
       "  text-align: right;\n",
       "  white-space: pre-wrap;\n",
       "}\n",
       "</style>\n",
       "<small>shape: (5, 119)</small><table border=\"1\" class=\"dataframe\"><thead><tr><th>#</th><th>Description</th><th>Event</th><th>Per</th><th>Str</th><th>api_event</th><th>awayGId</th><th>awayGName</th><th>awaySOG</th><th>awayScore</th><th>awaySktrs</th><th>awayTeam</th><th>awayTeamId</th><th>away_skater_fullName1</th><th>away_skater_fullName2</th><th>away_skater_fullName3</th><th>away_skater_fullName4</th><th>away_skater_fullName5</th><th>away_skater_fullName6</th><th>away_skater_fullName7</th><th>away_skater_id1</th><th>away_skater_id2</th><th>away_skater_id3</th><th>away_skater_id4</th><th>away_skater_id5</th><th>away_skater_id6</th><th>away_skater_id7</th><th>details_assist1PlayerTotal</th><th>details_assist2PlayerTotal</th><th>details_descKey</th><th>details_drawnByPlayerId</th><th>details_duration</th><th>details_playerId</th><th>details_scoringPlayerTotal</th><th>details_secondaryReason</th><th>details_servedByPlayerId</th><th>details_typeCode</th><th>&hellip;</th><th>home_skater_id16</th><th>home_skater_id17</th><th>home_skater_id2</th><th>home_skater_id3</th><th>home_skater_id4</th><th>home_skater_id5</th><th>home_skater_id6</th><th>home_skater_id7</th><th>home_skater_id8</th><th>home_skater_id9</th><th>index</th><th>limitedScoring</th><th>meta_datetime</th><th>periodNumber</th><th>periodType</th><th>playerId_1</th><th>playerId_2</th><th>playerId_3</th><th>playerName_1</th><th>playerName_2</th><th>playerName_3</th><th>reason</th><th>season</th><th>shotType</th><th>startTimeUTC</th><th>strength</th><th>timeInPeriod</th><th>timeInPeriod_s</th><th>timeRemaining</th><th>venue</th><th>venueLocation</th><th>venueUTCOffset</th><th>x</th><th>xCoord</th><th>y</th><th>yCoord</th><th>zoneCode</th></tr><tr><td>str</td><td>str</td><td>str</td><td>str</td><td>str</td><td>str</td><td>i64</td><td>str</td><td>i64</td><td>i64</td><td>u32</td><td>str</td><td>str</td><td>str</td><td>str</td><td>str</td><td>str</td><td>str</td><td>str</td><td>str</td><td>i64</td><td>i64</td><td>i64</td><td>i64</td><td>i64</td><td>i64</td><td>i64</td><td>i64</td><td>i64</td><td>str</td><td>i64</td><td>i64</td><td>i64</td><td>i64</td><td>str</td><td>i64</td><td>str</td><td>&hellip;</td><td>i64</td><td>i64</td><td>i64</td><td>i64</td><td>i64</td><td>i64</td><td>i64</td><td>i64</td><td>i64</td><td>i64</td><td>i64</td><td>bool</td><td>datetime[μs]</td><td>i64</td><td>str</td><td>i64</td><td>i64</td><td>i64</td><td>str</td><td>str</td><td>str</td><td>str</td><td>i32</td><td>str</td><td>datetime[μs]</td><td>str</td><td>str</td><td>i64</td><td>str</td><td>str</td><td>str</td><td>str</td><td>f64</td><td>f64</td><td>f64</td><td>f64</td><td>str</td></tr></thead><tbody><tr><td>&quot;4&quot;</td><td>&quot;Period Start- Local time: 7:14…</td><td>&quot;PSTR&quot;</td><td>&quot;1&quot;</td><td>&quot;&quot;</td><td>&quot;period-start&quot;</td><td>8474593</td><td>&quot;Jacob Markstrom&quot;</td><td>0</td><td>0</td><td>5</td><td>&quot;NJD&quot;</td><td>&quot;1&quot;</td><td>&quot;Nico Hischier&quot;</td><td>&quot;Ondrej Palat&quot;</td><td>&quot;Tomas Tatar&quot;</td><td>&quot;Simon Nemec&quot;</td><td>&quot;Jonas Siegenthaler&quot;</td><td>null</td><td>null</td><td>8480002</td><td>8476292</td><td>8475193</td><td>8483495</td><td>8478399</td><td>null</td><td>null</td><td>null</td><td>null</td><td>null</td><td>null</td><td>null</td><td>null</td><td>null</td><td>null</td><td>null</td><td>null</td><td>&hellip;</td><td>null</td><td>null</td><td>8477979</td><td>8479359</td><td>8480035</td><td>8480839</td><td>null</td><td>null</td><td>null</td><td>null</td><td>0</td><td>false</td><td>2025-03-21 08:14:08.670442</td><td>1</td><td>&quot;REG&quot;</td><td>null</td><td>null</td><td>null</td><td>null</td><td>null</td><td>null</td><td>null</td><td>20242025</td><td>null</td><td>2024-10-04 17:00:00</td><td>null</td><td>&quot;00:00&quot;</td><td>0</td><td>&quot;20:00&quot;</td><td>&quot;O2 Czech Republic&quot;</td><td>&quot;Prague&quot;</td><td>&quot;+02:00&quot;</td><td>null</td><td>null</td><td>null</td><td>null</td><td>null</td></tr><tr><td>&quot;5&quot;</td><td>&quot;NJD won Neu. Zone - NJD #13 HI…</td><td>&quot;FAC&quot;</td><td>&quot;1&quot;</td><td>&quot;EV&quot;</td><td>&quot;faceoff&quot;</td><td>8474593</td><td>&quot;Jacob Markstrom&quot;</td><td>0</td><td>0</td><td>5</td><td>&quot;NJD&quot;</td><td>&quot;1&quot;</td><td>&quot;Nico Hischier&quot;</td><td>&quot;Ondrej Palat&quot;</td><td>&quot;Tomas Tatar&quot;</td><td>&quot;Simon Nemec&quot;</td><td>&quot;Jonas Siegenthaler&quot;</td><td>null</td><td>null</td><td>8480002</td><td>8476292</td><td>8475193</td><td>8483495</td><td>8478399</td><td>null</td><td>null</td><td>null</td><td>null</td><td>null</td><td>null</td><td>null</td><td>null</td><td>null</td><td>null</td><td>null</td><td>null</td><td>&hellip;</td><td>null</td><td>null</td><td>8477979</td><td>8479359</td><td>8480035</td><td>8480839</td><td>null</td><td>null</td><td>null</td><td>null</td><td>1</td><td>false</td><td>2025-03-21 08:14:08.670442</td><td>1</td><td>&quot;REG&quot;</td><td>8480002</td><td>8478043</td><td>null</td><td>&quot;Nico Hischier&quot;</td><td>&quot;Sam Lafferty&quot;</td><td>null</td><td>null</td><td>20242025</td><td>null</td><td>2024-10-04 17:00:00</td><td>&quot;5v5&quot;</td><td>&quot;00:00&quot;</td><td>0</td><td>&quot;20:00&quot;</td><td>&quot;O2 Czech Republic&quot;</td><td>&quot;Prague&quot;</td><td>&quot;+02:00&quot;</td><td>-0.0</td><td>0.0</td><td>-0.0</td><td>0.0</td><td>&quot;N&quot;</td></tr><tr><td>&quot;6&quot;</td><td>&quot;BUF #29 MALENSTYN HIT NJD #90 …</td><td>&quot;HIT&quot;</td><td>&quot;1&quot;</td><td>&quot;EV&quot;</td><td>&quot;hit&quot;</td><td>8474593</td><td>&quot;Jacob Markstrom&quot;</td><td>0</td><td>0</td><td>5</td><td>&quot;NJD&quot;</td><td>&quot;1&quot;</td><td>&quot;Nico Hischier&quot;</td><td>&quot;Ondrej Palat&quot;</td><td>&quot;Tomas Tatar&quot;</td><td>&quot;Simon Nemec&quot;</td><td>&quot;Jonas Siegenthaler&quot;</td><td>null</td><td>null</td><td>8480002</td><td>8476292</td><td>8475193</td><td>8483495</td><td>8478399</td><td>null</td><td>null</td><td>null</td><td>null</td><td>null</td><td>null</td><td>null</td><td>null</td><td>null</td><td>null</td><td>null</td><td>null</td><td>&hellip;</td><td>null</td><td>null</td><td>8477979</td><td>8479359</td><td>8480035</td><td>8480839</td><td>null</td><td>null</td><td>null</td><td>null</td><td>2</td><td>false</td><td>2025-03-21 08:14:08.670442</td><td>1</td><td>&quot;REG&quot;</td><td>8479359</td><td>8475193</td><td>null</td><td>&quot;Beck Malenstyn&quot;</td><td>&quot;Tomas Tatar&quot;</td><td>null</td><td>null</td><td>20242025</td><td>null</td><td>2024-10-04 17:00:00</td><td>&quot;5v5&quot;</td><td>&quot;00:05&quot;</td><td>5</td><td>&quot;19:55&quot;</td><td>&quot;O2 Czech Republic&quot;</td><td>&quot;Prague&quot;</td><td>&quot;+02:00&quot;</td><td>-69.0</td><td>69.0</td><td>40.0</td><td>-40.0</td><td>&quot;N&quot;</td></tr><tr><td>&quot;7&quot;</td><td>&quot;NJD ONGOAL - #17 NEMEC, Wrist …</td><td>&quot;SHOT&quot;</td><td>&quot;1&quot;</td><td>&quot;EV&quot;</td><td>&quot;shot-on-goal&quot;</td><td>8474593</td><td>&quot;Jacob Markstrom&quot;</td><td>1</td><td>0</td><td>5</td><td>&quot;NJD&quot;</td><td>&quot;1&quot;</td><td>&quot;Nico Hischier&quot;</td><td>&quot;Ondrej Palat&quot;</td><td>&quot;Tomas Tatar&quot;</td><td>&quot;Simon Nemec&quot;</td><td>&quot;Jonas Siegenthaler&quot;</td><td>null</td><td>null</td><td>8480002</td><td>8476292</td><td>8475193</td><td>8483495</td><td>8478399</td><td>null</td><td>null</td><td>null</td><td>null</td><td>null</td><td>null</td><td>null</td><td>null</td><td>null</td><td>null</td><td>null</td><td>null</td><td>&hellip;</td><td>null</td><td>null</td><td>8477979</td><td>8479359</td><td>8480035</td><td>8480839</td><td>null</td><td>null</td><td>null</td><td>null</td><td>3</td><td>false</td><td>2025-03-21 08:14:08.670442</td><td>1</td><td>&quot;REG&quot;</td><td>8483495</td><td>null</td><td>null</td><td>&quot;Simon Nemec&quot;</td><td>null</td><td>null</td><td>null</td><td>20242025</td><td>&quot;wrist&quot;</td><td>2024-10-04 17:00:00</td><td>&quot;5v5&quot;</td><td>&quot;00:08&quot;</td><td>8</td><td>&quot;19:52&quot;</td><td>&quot;O2 Czech Republic&quot;</td><td>&quot;Prague&quot;</td><td>&quot;+02:00&quot;</td><td>-57.0</td><td>57.0</td><td>40.0</td><td>-40.0</td><td>&quot;O&quot;</td></tr><tr><td>&quot;8&quot;</td><td>&quot;NJD GIVEAWAY - #25 MARKSTROM, …</td><td>&quot;GIVE&quot;</td><td>&quot;1&quot;</td><td>&quot;EV&quot;</td><td>&quot;giveaway&quot;</td><td>8474593</td><td>&quot;Jacob Markstrom&quot;</td><td>1</td><td>0</td><td>5</td><td>&quot;NJD&quot;</td><td>&quot;1&quot;</td><td>&quot;Nico Hischier&quot;</td><td>&quot;Ondrej Palat&quot;</td><td>&quot;Tomas Tatar&quot;</td><td>&quot;Simon Nemec&quot;</td><td>&quot;Jonas Siegenthaler&quot;</td><td>null</td><td>null</td><td>8480002</td><td>8476292</td><td>8475193</td><td>8483495</td><td>8478399</td><td>null</td><td>null</td><td>null</td><td>null</td><td>null</td><td>null</td><td>null</td><td>8474593</td><td>null</td><td>null</td><td>null</td><td>null</td><td>&hellip;</td><td>null</td><td>null</td><td>8477979</td><td>8479359</td><td>8480035</td><td>8480839</td><td>null</td><td>null</td><td>null</td><td>null</td><td>4</td><td>false</td><td>2025-03-21 08:14:08.670442</td><td>1</td><td>&quot;REG&quot;</td><td>8474593</td><td>null</td><td>null</td><td>&quot;Jacob Markstrom&quot;</td><td>null</td><td>null</td><td>null</td><td>20242025</td><td>null</td><td>2024-10-04 17:00:00</td><td>&quot;5v5&quot;</td><td>&quot;00:19&quot;</td><td>19</td><td>&quot;19:41&quot;</td><td>&quot;O2 Czech Republic&quot;</td><td>&quot;Prague&quot;</td><td>&quot;+02:00&quot;</td><td>73.0</td><td>-73.0</td><td>-9.0</td><td>9.0</td><td>&quot;D&quot;</td></tr></tbody></table></div>"
      ],
      "text/plain": [
       "shape: (5, 119)\n",
       "┌─────┬─────────────────────────────────┬───────┬─────┬───┬────────┬──────┬────────┬──────────┐\n",
       "│ #   ┆ Description                     ┆ Event ┆ Per ┆ … ┆ xCoord ┆ y    ┆ yCoord ┆ zoneCode │\n",
       "│ --- ┆ ---                             ┆ ---   ┆ --- ┆   ┆ ---    ┆ ---  ┆ ---    ┆ ---      │\n",
       "│ str ┆ str                             ┆ str   ┆ str ┆   ┆ f64    ┆ f64  ┆ f64    ┆ str      │\n",
       "╞═════╪═════════════════════════════════╪═══════╪═════╪═══╪════════╪══════╪════════╪══════════╡\n",
       "│ 4   ┆ Period Start- Local time: 7:14… ┆ PSTR  ┆ 1   ┆ … ┆ null   ┆ null ┆ null   ┆ null     │\n",
       "│ 5   ┆ NJD won Neu. Zone - NJD #13 HI… ┆ FAC   ┆ 1   ┆ … ┆ 0.0    ┆ -0.0 ┆ 0.0    ┆ N        │\n",
       "│ 6   ┆ BUF #29 MALENSTYN HIT NJD #90 … ┆ HIT   ┆ 1   ┆ … ┆ 69.0   ┆ 40.0 ┆ -40.0  ┆ N        │\n",
       "│ 7   ┆ NJD ONGOAL - #17 NEMEC, Wrist … ┆ SHOT  ┆ 1   ┆ … ┆ 57.0   ┆ 40.0 ┆ -40.0  ┆ O        │\n",
       "│ 8   ┆ NJD GIVEAWAY - #25 MARKSTROM, … ┆ GIVE  ┆ 1   ┆ … ┆ -73.0  ┆ -9.0 ┆ 9.0    ┆ D        │\n",
       "└─────┴─────────────────────────────────┴───────┴─────┴───┴────────┴──────┴────────┴──────────┘"
      ]
     },
     "execution_count": 19,
     "metadata": {},
     "output_type": "execute_result"
    }
   ],
   "source": [
    "pbp = pl.read_parquet(\"/Users/max/Documents/nhl_scraper/data/pbp.parquet\")\n",
    "pbp.head()"
   ]
  },
  {
   "cell_type": "code",
   "execution_count": 20,
   "metadata": {},
   "outputs": [
    {
     "data": {
      "text/plain": [
       "{'CHL', 'EIEND', 'EISTR', 'GOFF', 'SPC'}"
      ]
     },
     "execution_count": 20,
     "metadata": {},
     "output_type": "execute_result"
    }
   ],
   "source": [
    "event_mapping = {\n",
    "            \"BLOCK\": \"blocked-shot\",\n",
    "            \"DELPEN\": \"delayed-penalty\",\n",
    "            \"FAC\": \"faceoff\",\n",
    "            \"GIVE\": \"giveaway\",\n",
    "            \"GOAL\": \"goal\",\n",
    "            \"HIT\": \"hit\",\n",
    "            \"MISS\": \"missed-shot\",\n",
    "            \"PENL\": \"penalty\",\n",
    "            \"SHOT\": \"shot-on-goal\",\n",
    "            \"STOP\": \"stoppage\",\n",
    "            \"TAKE\": \"takeaway\",\n",
    "            \"GEND\": \"game-end\",\n",
    "            \"PEND\": \"period-end\",\n",
    "            \"PSTR\": \"period-start\",\n",
    "            \"SOC\": \"shootout-completed\",\n",
    "        }\n",
    "events_in_code = set(event_mapping.keys())\n",
    "events_html = set(pbp[\"Event\"].unique())\n",
    "events_not_in_code = events_html - events_in_code\n",
    "events_not_in_code\n"
   ]
  },
  {
   "cell_type": "code",
   "execution_count": 36,
   "metadata": {},
   "outputs": [
    {
     "data": {
      "text/html": [
       "<div><style>\n",
       ".dataframe > thead > tr,\n",
       ".dataframe > tbody > tr {\n",
       "  text-align: right;\n",
       "  white-space: pre-wrap;\n",
       "}\n",
       "</style>\n",
       "<small>shape: (217, 119)</small><table border=\"1\" class=\"dataframe\"><thead><tr><th>#</th><th>Description</th><th>Event</th><th>Per</th><th>Str</th><th>api_event</th><th>awayGId</th><th>awayGName</th><th>awaySOG</th><th>awayScore</th><th>awaySktrs</th><th>awayTeam</th><th>awayTeamId</th><th>away_skater_fullName1</th><th>away_skater_fullName2</th><th>away_skater_fullName3</th><th>away_skater_fullName4</th><th>away_skater_fullName5</th><th>away_skater_fullName6</th><th>away_skater_fullName7</th><th>away_skater_id1</th><th>away_skater_id2</th><th>away_skater_id3</th><th>away_skater_id4</th><th>away_skater_id5</th><th>away_skater_id6</th><th>away_skater_id7</th><th>details_assist1PlayerTotal</th><th>details_assist2PlayerTotal</th><th>details_descKey</th><th>details_drawnByPlayerId</th><th>details_duration</th><th>details_playerId</th><th>details_scoringPlayerTotal</th><th>details_secondaryReason</th><th>details_servedByPlayerId</th><th>details_typeCode</th><th>&hellip;</th><th>home_skater_id16</th><th>home_skater_id17</th><th>home_skater_id2</th><th>home_skater_id3</th><th>home_skater_id4</th><th>home_skater_id5</th><th>home_skater_id6</th><th>home_skater_id7</th><th>home_skater_id8</th><th>home_skater_id9</th><th>index</th><th>limitedScoring</th><th>meta_datetime</th><th>periodNumber</th><th>periodType</th><th>playerId_1</th><th>playerId_2</th><th>playerId_3</th><th>playerName_1</th><th>playerName_2</th><th>playerName_3</th><th>reason</th><th>season</th><th>shotType</th><th>startTimeUTC</th><th>strength</th><th>timeInPeriod</th><th>timeInPeriod_s</th><th>timeRemaining</th><th>venue</th><th>venueLocation</th><th>venueUTCOffset</th><th>x</th><th>xCoord</th><th>y</th><th>yCoord</th><th>zoneCode</th></tr><tr><td>str</td><td>str</td><td>str</td><td>str</td><td>str</td><td>str</td><td>i64</td><td>str</td><td>i64</td><td>i64</td><td>u32</td><td>str</td><td>str</td><td>str</td><td>str</td><td>str</td><td>str</td><td>str</td><td>str</td><td>str</td><td>i64</td><td>i64</td><td>i64</td><td>i64</td><td>i64</td><td>i64</td><td>i64</td><td>i64</td><td>i64</td><td>str</td><td>i64</td><td>i64</td><td>i64</td><td>i64</td><td>str</td><td>i64</td><td>str</td><td>&hellip;</td><td>i64</td><td>i64</td><td>i64</td><td>i64</td><td>i64</td><td>i64</td><td>i64</td><td>i64</td><td>i64</td><td>i64</td><td>i64</td><td>bool</td><td>datetime[μs]</td><td>i64</td><td>str</td><td>i64</td><td>i64</td><td>i64</td><td>str</td><td>str</td><td>str</td><td>str</td><td>i32</td><td>str</td><td>datetime[μs]</td><td>str</td><td>str</td><td>i64</td><td>str</td><td>str</td><td>str</td><td>str</td><td>f64</td><td>f64</td><td>f64</td><td>f64</td><td>str</td></tr></thead><tbody><tr><td>&quot;60&quot;</td><td>&quot;PIT Challenge - Offside -&nbsp;&nbsp;Res…</td><td>&quot;CHL&quot;</td><td>&quot;1&quot;</td><td>&quot;EV&quot;</td><td>null</td><td>8478048</td><td>&quot;Igor Shesterkin&quot;</td><td>3</td><td>1</td><td>5</td><td>&quot;NYR&quot;</td><td>&quot;3&quot;</td><td>&quot;Filip Chytil&quot;</td><td>&quot;Kaapo Kakko&quot;</td><td>&quot;Will Cuylle&quot;</td><td>&quot;Zac Jones&quot;</td><td>&quot;Victor Mancini&quot;</td><td>null</td><td>null</td><td>8480078</td><td>8481554</td><td>8482157</td><td>8481708</td><td>8483768</td><td>null</td><td>null</td><td>null</td><td>null</td><td>null</td><td>null</td><td>null</td><td>null</td><td>null</td><td>null</td><td>null</td><td>null</td><td>&hellip;</td><td>null</td><td>null</td><td>8483487</td><td>8479344</td><td>8481030</td><td>8477435</td><td>null</td><td>null</td><td>null</td><td>null</td><td>56</td><td>false</td><td>2025-03-21 08:14:16.199183</td><td>null</td><td>null</td><td>null</td><td>null</td><td>null</td><td>null</td><td>null</td><td>null</td><td>null</td><td>20242025</td><td>null</td><td>2024-10-09 23:30:00</td><td>null</td><td>null</td><td>null</td><td>null</td><td>&quot;PPG Paints Arena&quot;</td><td>&quot;Pittsburgh&quot;</td><td>&quot;-04:00&quot;</td><td>null</td><td>null</td><td>null</td><td>null</td><td>null</td></tr><tr><td>&quot;24&quot;</td><td>&quot;MTL Challenge - Interference o…</td><td>&quot;CHL&quot;</td><td>&quot;1&quot;</td><td>&quot;SH&quot;</td><td>null</td><td>8480051</td><td>&quot;Cayden Primeau&quot;</td><td>0</td><td>0</td><td>4</td><td>&quot;MTL&quot;</td><td>&quot;8&quot;</td><td>&quot;Christian Dvorak&quot;</td><td>&quot;Josh Anderson&quot;</td><td>&quot;Mike Matheson&quot;</td><td>&quot;David Savard&quot;</td><td>null</td><td>null</td><td>null</td><td>8477989</td><td>8476981</td><td>8476875</td><td>8475233</td><td>null</td><td>null</td><td>null</td><td>null</td><td>null</td><td>null</td><td>null</td><td>null</td><td>null</td><td>null</td><td>null</td><td>null</td><td>null</td><td>&hellip;</td><td>null</td><td>null</td><td>8475745</td><td>8479987</td><td>8479638</td><td>8476854</td><td>null</td><td>null</td><td>null</td><td>null</td><td>20</td><td>false</td><td>2025-03-21 08:14:20.221293</td><td>null</td><td>null</td><td>null</td><td>null</td><td>null</td><td>null</td><td>null</td><td>null</td><td>null</td><td>20242025</td><td>null</td><td>2024-10-10 23:00:00</td><td>null</td><td>null</td><td>null</td><td>null</td><td>&quot;TD Garden&quot;</td><td>&quot;Boston&quot;</td><td>&quot;-04:00&quot;</td><td>null</td><td>null</td><td>null</td><td>null</td><td>null</td></tr><tr><td>&quot;199&quot;</td><td>&quot;DET Challenge - Missed stoppag…</td><td>&quot;CHL&quot;</td><td>&quot;2&quot;</td><td>&quot;EV&quot;</td><td>null</td><td>8482446</td><td>&quot;Joel Blomqvist&quot;</td><td>13</td><td>4</td><td>5</td><td>&quot;PIT&quot;</td><td>&quot;5&quot;</td><td>&quot;Evgeni Malkin&quot;</td><td>&quot;Michael Bunting&quot;</td><td>&quot;Drew O&#x27;Connor&quot;</td><td>&quot;Marcus Pettersson&quot;</td><td>&quot;Kris Letang&quot;</td><td>null</td><td>null</td><td>8471215</td><td>8478047</td><td>8482055</td><td>8477969</td><td>8471724</td><td>null</td><td>null</td><td>null</td><td>null</td><td>null</td><td>null</td><td>null</td><td>null</td><td>null</td><td>null</td><td>null</td><td>null</td><td>&hellip;</td><td>null</td><td>null</td><td>8474141</td><td>8482078</td><td>8473507</td><td>8481542</td><td>null</td><td>null</td><td>null</td><td>null</td><td>195</td><td>false</td><td>2025-03-21 08:14:23.478363</td><td>null</td><td>null</td><td>null</td><td>null</td><td>null</td><td>null</td><td>null</td><td>null</td><td>null</td><td>20242025</td><td>null</td><td>2024-10-11 00:00:00</td><td>null</td><td>null</td><td>null</td><td>null</td><td>&quot;Little Caesars Arena&quot;</td><td>&quot;Detroit&quot;</td><td>&quot;-04:00&quot;</td><td>null</td><td>null</td><td>null</td><td>null</td><td>null</td></tr><tr><td>&quot;85&quot;</td><td>&quot;UTA Challenge - Interference o…</td><td>&quot;CHL&quot;</td><td>&quot;1&quot;</td><td>&quot;EV&quot;</td><td>null</td><td>8478971</td><td>&quot;Connor Ingram&quot;</td><td>3</td><td>0</td><td>5</td><td>&quot;UTA&quot;</td><td>&quot;59&quot;</td><td>&quot;Alexander Kerfoot&quot;</td><td>&quot;Kevin Stenlund&quot;</td><td>&quot;Logan Cooley&quot;</td><td>&quot;Michael Kesselring&quot;</td><td>&quot;Ian Cole&quot;</td><td>null</td><td>null</td><td>8477021</td><td>8478831</td><td>8483431</td><td>8480891</td><td>8474013</td><td>null</td><td>null</td><td>null</td><td>null</td><td>null</td><td>null</td><td>null</td><td>null</td><td>null</td><td>null</td><td>null</td><td>null</td><td>&hellip;</td><td>null</td><td>null</td><td>8477500</td><td>8484958</td><td>8477407</td><td>8480865</td><td>null</td><td>null</td><td>null</td><td>null</td><td>81</td><td>false</td><td>2025-03-21 08:14:26.495690</td><td>null</td><td>null</td><td>null</td><td>null</td><td>null</td><td>null</td><td>null</td><td>null</td><td>null</td><td>20242025</td><td>null</td><td>2024-10-10 23:30:00</td><td>null</td><td>null</td><td>null</td><td>null</td><td>&quot;UBS Arena&quot;</td><td>&quot;Elmont&quot;</td><td>&quot;-04:00&quot;</td><td>null</td><td>null</td><td>null</td><td>null</td><td>null</td></tr><tr><td>&quot;150&quot;</td><td>&quot;MIN Challenge - Interference o…</td><td>&quot;CHL&quot;</td><td>&quot;2&quot;</td><td>&quot;SH&quot;</td><td>null</td><td>8478007</td><td>&quot;Elvis Merzlikins&quot;</td><td>16</td><td>1</td><td>5</td><td>&quot;CBJ&quot;</td><td>&quot;29&quot;</td><td>&quot;Adam Fantilli&quot;</td><td>&quot;Kevin Labanc&quot;</td><td>&quot;Kirill Marchenko&quot;</td><td>&quot;James van Riemsdyk&quot;</td><td>&quot;Damon Severson&quot;</td><td>null</td><td>null</td><td>8484166</td><td>8478099</td><td>8480893</td><td>8474037</td><td>8476923</td><td>null</td><td>null</td><td>null</td><td>null</td><td>null</td><td>null</td><td>null</td><td>null</td><td>null</td><td>null</td><td>null</td><td>null</td><td>&hellip;</td><td>null</td><td>null</td><td>8482177</td><td>8478136</td><td>8474716</td><td>null</td><td>null</td><td>null</td><td>null</td><td>null</td><td>146</td><td>false</td><td>2025-03-21 08:14:29.705718</td><td>null</td><td>null</td><td>null</td><td>null</td><td>null</td><td>null</td><td>null</td><td>null</td><td>null</td><td>20242025</td><td>null</td><td>2024-10-11 00:00:00</td><td>null</td><td>null</td><td>null</td><td>null</td><td>&quot;Xcel Energy Center&quot;</td><td>&quot;St. Paul&quot;</td><td>&quot;-05:00&quot;</td><td>null</td><td>null</td><td>null</td><td>null</td><td>null</td></tr><tr><td>&hellip;</td><td>&hellip;</td><td>&hellip;</td><td>&hellip;</td><td>&hellip;</td><td>&hellip;</td><td>&hellip;</td><td>&hellip;</td><td>&hellip;</td><td>&hellip;</td><td>&hellip;</td><td>&hellip;</td><td>&hellip;</td><td>&hellip;</td><td>&hellip;</td><td>&hellip;</td><td>&hellip;</td><td>&hellip;</td><td>&hellip;</td><td>&hellip;</td><td>&hellip;</td><td>&hellip;</td><td>&hellip;</td><td>&hellip;</td><td>&hellip;</td><td>&hellip;</td><td>&hellip;</td><td>&hellip;</td><td>&hellip;</td><td>&hellip;</td><td>&hellip;</td><td>&hellip;</td><td>&hellip;</td><td>&hellip;</td><td>&hellip;</td><td>&hellip;</td><td>&hellip;</td><td>&hellip;</td><td>&hellip;</td><td>&hellip;</td><td>&hellip;</td><td>&hellip;</td><td>&hellip;</td><td>&hellip;</td><td>&hellip;</td><td>&hellip;</td><td>&hellip;</td><td>&hellip;</td><td>&hellip;</td><td>&hellip;</td><td>&hellip;</td><td>&hellip;</td><td>&hellip;</td><td>&hellip;</td><td>&hellip;</td><td>&hellip;</td><td>&hellip;</td><td>&hellip;</td><td>&hellip;</td><td>&hellip;</td><td>&hellip;</td><td>&hellip;</td><td>&hellip;</td><td>&hellip;</td><td>&hellip;</td><td>&hellip;</td><td>&hellip;</td><td>&hellip;</td><td>&hellip;</td><td>&hellip;</td><td>&hellip;</td><td>&hellip;</td><td>&hellip;</td><td>&hellip;</td><td>&hellip;</td></tr><tr><td>&quot;274&quot;</td><td>&quot;NYI Challenge - Interference o…</td><td>&quot;CHL&quot;</td><td>&quot;3&quot;</td><td>&quot;EV&quot;</td><td>null</td><td>8478470</td><td>&quot;Sam Montembeault&quot;</td><td>21</td><td>1</td><td>5</td><td>&quot;MTL&quot;</td><td>&quot;8&quot;</td><td>&quot;Nick Suzuki&quot;</td><td>&quot;Cole Caufield&quot;</td><td>&quot;Juraj Slafkovský&quot;</td><td>&quot;Patrik Laine&quot;</td><td>&quot;Lane Hutson&quot;</td><td>null</td><td>null</td><td>8480018</td><td>8481540</td><td>8483515</td><td>8479339</td><td>8483457</td><td>null</td><td>null</td><td>null</td><td>null</td><td>null</td><td>null</td><td>null</td><td>null</td><td>null</td><td>null</td><td>null</td><td>null</td><td>&hellip;</td><td>null</td><td>null</td><td>8481237</td><td>8476419</td><td>8476917</td><td>8477506</td><td>null</td><td>null</td><td>null</td><td>null</td><td>270</td><td>false</td><td>2025-03-21 08:35:59.918633</td><td>null</td><td>null</td><td>null</td><td>null</td><td>null</td><td>null</td><td>null</td><td>null</td><td>null</td><td>20242025</td><td>null</td><td>2025-03-20 23:30:00</td><td>null</td><td>null</td><td>null</td><td>null</td><td>&quot;UBS Arena&quot;</td><td>&quot;Elmont&quot;</td><td>&quot;-04:00&quot;</td><td>null</td><td>null</td><td>null</td><td>null</td><td>null</td></tr><tr><td>&quot;309&quot;</td><td>&quot;NSH Challenge - Offside -&nbsp;&nbsp;Res…</td><td>&quot;CHL&quot;</td><td>&quot;3&quot;</td><td>&quot;EV&quot;</td><td>null</td><td>8476434</td><td>&quot;John Gibson&quot;</td><td>30</td><td>3</td><td>5</td><td>&quot;ANA&quot;</td><td>&quot;24&quot;</td><td>&quot;Isac Lundestrom&quot;</td><td>&quot;Troy Terry&quot;</td><td>&quot;Frank Vatrano&quot;</td><td>&quot;Drew Helleson&quot;</td><td>&quot;Jacob Trouba&quot;</td><td>null</td><td>null</td><td>8480806</td><td>8478873</td><td>8478366</td><td>8481563</td><td>8476885</td><td>null</td><td>null</td><td>null</td><td>null</td><td>null</td><td>null</td><td>null</td><td>null</td><td>null</td><td>null</td><td>null</td><td>null</td><td>&hellip;</td><td>null</td><td>null</td><td>8476539</td><td>8476887</td><td>8478047</td><td>8483565</td><td>8476869</td><td>null</td><td>null</td><td>null</td><td>305</td><td>false</td><td>2025-03-21 08:36:01.957085</td><td>null</td><td>null</td><td>null</td><td>null</td><td>null</td><td>null</td><td>null</td><td>null</td><td>null</td><td>20242025</td><td>null</td><td>2025-03-21 00:00:00</td><td>null</td><td>null</td><td>null</td><td>null</td><td>&quot;Bridgestone Arena&quot;</td><td>&quot;Nashville&quot;</td><td>&quot;-05:00&quot;</td><td>null</td><td>null</td><td>null</td><td>null</td><td>null</td></tr><tr><td>&quot;112&quot;</td><td>&quot;WPG Challenge - Interference o…</td><td>&quot;CHL&quot;</td><td>&quot;2&quot;</td><td>&quot;EV&quot;</td><td>null</td><td>8476945</td><td>&quot;Connor Hellebuyck&quot;</td><td>4</td><td>1</td><td>5</td><td>&quot;WPG&quot;</td><td>&quot;52&quot;</td><td>&quot;Vladislav Namestnikov&quot;</td><td>&quot;Cole Perfetti&quot;</td><td>&quot;Nikolaj Ehlers&quot;</td><td>&quot;Colin Miller&quot;</td><td>&quot;Dylan Samberg&quot;</td><td>null</td><td>null</td><td>8476480</td><td>8482149</td><td>8477940</td><td>8476525</td><td>8480049</td><td>null</td><td>null</td><td>null</td><td>null</td><td>null</td><td>null</td><td>null</td><td>null</td><td>null</td><td>null</td><td>null</td><td>null</td><td>&hellip;</td><td>null</td><td>null</td><td>8475786</td><td>8475784</td><td>8477498</td><td>8478013</td><td>null</td><td>null</td><td>null</td><td>null</td><td>108</td><td>false</td><td>2025-03-21 08:36:05.208894</td><td>null</td><td>null</td><td>null</td><td>null</td><td>null</td><td>null</td><td>null</td><td>null</td><td>null</td><td>20242025</td><td>null</td><td>2025-03-21 01:00:00</td><td>null</td><td>null</td><td>null</td><td>null</td><td>&quot;Rogers Place&quot;</td><td>&quot;Edmonton&quot;</td><td>&quot;-06:00&quot;</td><td>null</td><td>null</td><td>null</td><td>null</td><td>null</td></tr><tr><td>&quot;120&quot;</td><td>&quot;UTA Challenge - Interference o…</td><td>&quot;CHL&quot;</td><td>&quot;2&quot;</td><td>&quot;EV&quot;</td><td>null</td><td>8473503</td><td>&quot;James Reimer&quot;</td><td>11</td><td>1</td><td>5</td><td>&quot;BUF&quot;</td><td>&quot;7&quot;</td><td>&quot;Tyson Kozak&quot;</td><td>&quot;Sam Lafferty&quot;</td><td>&quot;Beck Malenstyn&quot;</td><td>&quot;Bowen Byram&quot;</td><td>&quot;Owen Power&quot;</td><td>null</td><td>null</td><td>8482896</td><td>8478043</td><td>8479359</td><td>8481524</td><td>8482671</td><td>null</td><td>null</td><td>null</td><td>null</td><td>null</td><td>null</td><td>null</td><td>null</td><td>null</td><td>null</td><td>null</td><td>null</td><td>&hellip;</td><td>null</td><td>null</td><td>8483431</td><td>8479343</td><td>8478507</td><td>8479410</td><td>null</td><td>null</td><td>null</td><td>null</td><td>116</td><td>false</td><td>2025-03-21 08:36:06.371066</td><td>null</td><td>null</td><td>null</td><td>null</td><td>null</td><td>null</td><td>null</td><td>null</td><td>null</td><td>20242025</td><td>null</td><td>2025-03-21 01:00:00</td><td>null</td><td>null</td><td>null</td><td>null</td><td>&quot;Delta Center&quot;</td><td>&quot;Salt Lake City&quot;</td><td>&quot;-06:00&quot;</td><td>null</td><td>null</td><td>null</td><td>null</td><td>null</td></tr><tr><td>&quot;167&quot;</td><td>&quot;SJS Challenge - Offside -&nbsp;&nbsp;Res…</td><td>&quot;CHL&quot;</td><td>&quot;2&quot;</td><td>&quot;EV&quot;</td><td>null</td><td>8475883</td><td>&quot;Frederik Andersen&quot;</td><td>20</td><td>1</td><td>5</td><td>&quot;CAR&quot;</td><td>&quot;12&quot;</td><td>&quot;Sebastian Aho&quot;</td><td>&quot;Seth Jarvis&quot;</td><td>&quot;Jackson Blake&quot;</td><td>&quot;Brent Burns&quot;</td><td>&quot;Jaccob Slavin&quot;</td><td>null</td><td>null</td><td>8478427</td><td>8482093</td><td>8482809</td><td>8470613</td><td>8476958</td><td>null</td><td>null</td><td>null</td><td>null</td><td>null</td><td>null</td><td>null</td><td>null</td><td>null</td><td>null</td><td>null</td><td>null</td><td>&hellip;</td><td>null</td><td>null</td><td>8477505</td><td>8482667</td><td>8479576</td><td>8484152</td><td>null</td><td>null</td><td>null</td><td>null</td><td>163</td><td>false</td><td>2025-03-21 08:36:08.437032</td><td>null</td><td>null</td><td>null</td><td>null</td><td>null</td><td>null</td><td>null</td><td>null</td><td>null</td><td>20242025</td><td>null</td><td>2025-03-21 02:30:00</td><td>null</td><td>null</td><td>null</td><td>null</td><td>&quot;SAP Center at San Jose&quot;</td><td>&quot;San Jose&quot;</td><td>&quot;-07:00&quot;</td><td>null</td><td>null</td><td>null</td><td>null</td><td>null</td></tr></tbody></table></div>"
      ],
      "text/plain": [
       "shape: (217, 119)\n",
       "┌─────┬─────────────────────────────────┬───────┬─────┬───┬────────┬──────┬────────┬──────────┐\n",
       "│ #   ┆ Description                     ┆ Event ┆ Per ┆ … ┆ xCoord ┆ y    ┆ yCoord ┆ zoneCode │\n",
       "│ --- ┆ ---                             ┆ ---   ┆ --- ┆   ┆ ---    ┆ ---  ┆ ---    ┆ ---      │\n",
       "│ str ┆ str                             ┆ str   ┆ str ┆   ┆ f64    ┆ f64  ┆ f64    ┆ str      │\n",
       "╞═════╪═════════════════════════════════╪═══════╪═════╪═══╪════════╪══════╪════════╪══════════╡\n",
       "│ 60  ┆ PIT Challenge - Offside -  Res… ┆ CHL   ┆ 1   ┆ … ┆ null   ┆ null ┆ null   ┆ null     │\n",
       "│ 24  ┆ MTL Challenge - Interference o… ┆ CHL   ┆ 1   ┆ … ┆ null   ┆ null ┆ null   ┆ null     │\n",
       "│ 199 ┆ DET Challenge - Missed stoppag… ┆ CHL   ┆ 2   ┆ … ┆ null   ┆ null ┆ null   ┆ null     │\n",
       "│ 85  ┆ UTA Challenge - Interference o… ┆ CHL   ┆ 1   ┆ … ┆ null   ┆ null ┆ null   ┆ null     │\n",
       "│ 150 ┆ MIN Challenge - Interference o… ┆ CHL   ┆ 2   ┆ … ┆ null   ┆ null ┆ null   ┆ null     │\n",
       "│ …   ┆ …                               ┆ …     ┆ …   ┆ … ┆ …      ┆ …    ┆ …      ┆ …        │\n",
       "│ 274 ┆ NYI Challenge - Interference o… ┆ CHL   ┆ 3   ┆ … ┆ null   ┆ null ┆ null   ┆ null     │\n",
       "│ 309 ┆ NSH Challenge - Offside -  Res… ┆ CHL   ┆ 3   ┆ … ┆ null   ┆ null ┆ null   ┆ null     │\n",
       "│ 112 ┆ WPG Challenge - Interference o… ┆ CHL   ┆ 2   ┆ … ┆ null   ┆ null ┆ null   ┆ null     │\n",
       "│ 120 ┆ UTA Challenge - Interference o… ┆ CHL   ┆ 2   ┆ … ┆ null   ┆ null ┆ null   ┆ null     │\n",
       "│ 167 ┆ SJS Challenge - Offside -  Res… ┆ CHL   ┆ 2   ┆ … ┆ null   ┆ null ┆ null   ┆ null     │\n",
       "└─────┴─────────────────────────────────┴───────┴─────┴───┴────────┴──────┴────────┴──────────┘"
      ]
     },
     "execution_count": 36,
     "metadata": {},
     "output_type": "execute_result"
    }
   ],
   "source": [
    "# Reorder columns\n",
    "pbp.filter(pl.col(\"Event\").is_in(['CHL']))#.select(\"Description\", \"Event\", 'eventOwnerTeam', \"Str\", \"gameId\")"
   ]
  },
  {
   "cell_type": "code",
   "execution_count": 34,
   "metadata": {},
   "outputs": [
    {
     "data": {
      "text/plain": [
       "['#',\n",
       " 'Description',\n",
       " 'Event',\n",
       " 'Per',\n",
       " 'Str',\n",
       " 'api_event',\n",
       " 'awayGId',\n",
       " 'awayGName',\n",
       " 'awaySOG',\n",
       " 'awayScore',\n",
       " 'awaySktrs',\n",
       " 'awayTeam',\n",
       " 'awayTeamId',\n",
       " 'away_skater_fullName1',\n",
       " 'away_skater_fullName2',\n",
       " 'away_skater_fullName3',\n",
       " 'away_skater_fullName4',\n",
       " 'away_skater_fullName5',\n",
       " 'away_skater_fullName6',\n",
       " 'away_skater_fullName7',\n",
       " 'away_skater_id1',\n",
       " 'away_skater_id2',\n",
       " 'away_skater_id3',\n",
       " 'away_skater_id4',\n",
       " 'away_skater_id5',\n",
       " 'away_skater_id6',\n",
       " 'away_skater_id7',\n",
       " 'details_assist1PlayerTotal',\n",
       " 'details_assist2PlayerTotal',\n",
       " 'details_descKey',\n",
       " 'details_drawnByPlayerId',\n",
       " 'details_duration',\n",
       " 'details_playerId',\n",
       " 'details_scoringPlayerTotal',\n",
       " 'details_secondaryReason',\n",
       " 'details_servedByPlayerId',\n",
       " 'details_typeCode',\n",
       " 'easternUTCOffset',\n",
       " 'elapsedTime',\n",
       " 'event',\n",
       " 'eventOwnerTeam',\n",
       " 'eventOwnerTeamId',\n",
       " 'gameDate',\n",
       " 'gameId',\n",
       " 'gameOutcome',\n",
       " 'gameScheduleState',\n",
       " 'gameState',\n",
       " 'gameType',\n",
       " 'goalieInNetId',\n",
       " 'goalieInNetName',\n",
       " 'homeGId',\n",
       " 'homeGName',\n",
       " 'homeSOG',\n",
       " 'homeScore',\n",
       " 'homeSktrs',\n",
       " 'homeTeam',\n",
       " 'homeTeamDefendingSide',\n",
       " 'homeTeamId',\n",
       " 'home_skater_fullName1',\n",
       " 'home_skater_fullName10',\n",
       " 'home_skater_fullName11',\n",
       " 'home_skater_fullName12',\n",
       " 'home_skater_fullName13',\n",
       " 'home_skater_fullName14',\n",
       " 'home_skater_fullName15',\n",
       " 'home_skater_fullName16',\n",
       " 'home_skater_fullName17',\n",
       " 'home_skater_fullName2',\n",
       " 'home_skater_fullName3',\n",
       " 'home_skater_fullName4',\n",
       " 'home_skater_fullName5',\n",
       " 'home_skater_fullName6',\n",
       " 'home_skater_fullName7',\n",
       " 'home_skater_fullName8',\n",
       " 'home_skater_fullName9',\n",
       " 'home_skater_id1',\n",
       " 'home_skater_id10',\n",
       " 'home_skater_id11',\n",
       " 'home_skater_id12',\n",
       " 'home_skater_id13',\n",
       " 'home_skater_id14',\n",
       " 'home_skater_id15',\n",
       " 'home_skater_id16',\n",
       " 'home_skater_id17',\n",
       " 'home_skater_id2',\n",
       " 'home_skater_id3',\n",
       " 'home_skater_id4',\n",
       " 'home_skater_id5',\n",
       " 'home_skater_id6',\n",
       " 'home_skater_id7',\n",
       " 'home_skater_id8',\n",
       " 'home_skater_id9',\n",
       " 'index',\n",
       " 'limitedScoring',\n",
       " 'meta_datetime',\n",
       " 'periodNumber',\n",
       " 'periodType',\n",
       " 'playerId_1',\n",
       " 'playerId_2',\n",
       " 'playerId_3',\n",
       " 'playerName_1',\n",
       " 'playerName_2',\n",
       " 'playerName_3',\n",
       " 'reason',\n",
       " 'season',\n",
       " 'shotType',\n",
       " 'startTimeUTC',\n",
       " 'strength',\n",
       " 'timeInPeriod',\n",
       " 'timeInPeriod_s',\n",
       " 'timeRemaining',\n",
       " 'venue',\n",
       " 'venueLocation',\n",
       " 'venueUTCOffset',\n",
       " 'x',\n",
       " 'xCoord',\n",
       " 'y',\n",
       " 'yCoord',\n",
       " 'zoneCode']"
      ]
     },
     "execution_count": 34,
     "metadata": {},
     "output_type": "execute_result"
    }
   ],
   "source": [
    "pbp.columns\n"
   ]
  },
  {
   "cell_type": "code",
   "execution_count": 31,
   "metadata": {},
   "outputs": [
    {
     "name": "stderr",
     "output_type": "stream",
     "text": [
      "Scraping NHL PBP Data: 100%|██████████| 1/1 [00:01<00:00,  1.75s/it]\n"
     ]
    },
    {
     "data": {
      "text/html": [
       "<div><style>\n",
       ".dataframe > thead > tr,\n",
       ".dataframe > tbody > tr {\n",
       "  text-align: right;\n",
       "  white-space: pre-wrap;\n",
       "}\n",
       "</style>\n",
       "<small>shape: (10, 94)</small><table border=\"1\" class=\"dataframe\"><thead><tr><th>#</th><th>Per</th><th>Str</th><th>Event</th><th>Description</th><th>homeGName</th><th>awayGName</th><th>homeGId</th><th>awayGId</th><th>index</th><th>event</th><th>timeInPeriod</th><th>timeRemaining</th><th>homeTeamDefendingSide</th><th>api_event</th><th>periodNumber</th><th>periodType</th><th>eventOwnerTeamId</th><th>xCoord</th><th>yCoord</th><th>zoneCode</th><th>reason</th><th>shotType</th><th>goalieInNetId</th><th>details_playerId</th><th>details_typeCode</th><th>details_descKey</th><th>details_duration</th><th>details_drawnByPlayerId</th><th>awaySOG</th><th>homeSOG</th><th>details_secondaryReason</th><th>details_scoringPlayerTotal</th><th>details_assist1PlayerTotal</th><th>details_assist2PlayerTotal</th><th>awayScore</th><th>homeScore</th><th>&hellip;</th><th>home_skater_fullName2</th><th>home_skater_fullName3</th><th>home_skater_fullName4</th><th>home_skater_fullName5</th><th>home_skater_fullName6</th><th>away_skater_fullName1</th><th>away_skater_fullName2</th><th>away_skater_fullName3</th><th>away_skater_fullName4</th><th>away_skater_fullName5</th><th>away_skater_fullName6</th><th>homeSktrs</th><th>awaySktrs</th><th>eventOwnerTeam</th><th>awayTeam</th><th>homeTeam</th><th>awayTeamId</th><th>homeTeamId</th><th>season</th><th>gameType</th><th>limitedScoring</th><th>gameDate</th><th>venue</th><th>venueLocation</th><th>startTimeUTC</th><th>easternUTCOffset</th><th>venueUTCOffset</th><th>gameState</th><th>gameScheduleState</th><th>gameOutcome</th><th>x</th><th>y</th><th>timeInPeriod_s</th><th>elapsedTime</th><th>strength</th><th>gameId</th><th>meta_datetime</th></tr><tr><td>str</td><td>str</td><td>str</td><td>str</td><td>str</td><td>str</td><td>str</td><td>i64</td><td>i64</td><td>i64</td><td>str</td><td>str</td><td>str</td><td>str</td><td>str</td><td>i64</td><td>str</td><td>str</td><td>f64</td><td>f64</td><td>str</td><td>str</td><td>str</td><td>i64</td><td>i64</td><td>str</td><td>str</td><td>i64</td><td>i64</td><td>i64</td><td>i64</td><td>str</td><td>i64</td><td>i64</td><td>i64</td><td>i64</td><td>i64</td><td>&hellip;</td><td>str</td><td>str</td><td>str</td><td>str</td><td>null</td><td>str</td><td>str</td><td>str</td><td>str</td><td>str</td><td>str</td><td>u32</td><td>u32</td><td>str</td><td>str</td><td>str</td><td>str</td><td>str</td><td>i32</td><td>i32</td><td>bool</td><td>datetime[μs]</td><td>str</td><td>str</td><td>datetime[μs]</td><td>str</td><td>str</td><td>str</td><td>str</td><td>str</td><td>f64</td><td>f64</td><td>i64</td><td>i64</td><td>str</td><td>str</td><td>datetime[μs]</td></tr></thead><tbody><tr><td>&quot;80&quot;</td><td>&quot;1&quot;</td><td>&quot;EV&quot;</td><td>&quot;BLOCK&quot;</td><td>&quot;STL #76 BOLDUC OPPONENT-BLOCKE…</td><td>&quot;Jordan Binnington&quot;</td><td>&quot;Andrei Vasilevskiy&quot;</td><td>8476412</td><td>8476883</td><td>76</td><td>&quot;blocked-shot&quot;</td><td>&quot;18:25&quot;</td><td>&quot;01:35&quot;</td><td>&quot;left&quot;</td><td>&quot;blocked-shot&quot;</td><td>1</td><td>&quot;REG&quot;</td><td>&quot;19&quot;</td><td>43.0</td><td>-31.0</td><td>&quot;D&quot;</td><td>&quot;blocked&quot;</td><td>null</td><td>null</td><td>null</td><td>null</td><td>null</td><td>null</td><td>null</td><td>9</td><td>3</td><td>null</td><td>null</td><td>null</td><td>null</td><td>0</td><td>0</td><td>&hellip;</td><td>&quot;Zack Bolduc&quot;</td><td>&quot;Alexey Toropchenko&quot;</td><td>&quot;Justin Faulk&quot;</td><td>&quot;P.O Joseph&quot;</td><td>null</td><td>&quot;Luke Glendening&quot;</td><td>&quot;Michael Eyssimont&quot;</td><td>&quot;Zemgus Girgensons&quot;</td><td>&quot;Ryan McDonagh&quot;</td><td>&quot;Nick Perbix&quot;</td><td>null</td><td>5</td><td>5</td><td>&quot;STL&quot;</td><td>&quot;TBL&quot;</td><td>&quot;STL&quot;</td><td>&quot;14&quot;</td><td>&quot;19&quot;</td><td>20242025</td><td>2</td><td>false</td><td>2024-11-05 00:00:00</td><td>&quot;Enterprise Center&quot;</td><td>&quot;St. Louis&quot;</td><td>2024-11-06 01:00:00</td><td>&quot;-05:00&quot;</td><td>&quot;-06:00&quot;</td><td>&quot;OFF&quot;</td><td>&quot;OK&quot;</td><td>&quot;REG&quot;</td><td>43.0</td><td>-31.0</td><td>1105</td><td>1105</td><td>&quot;5v5&quot;</td><td>&quot;2024020199&quot;</td><td>2025-03-24 13:01:11.713040</td></tr><tr><td>&quot;81&quot;</td><td>&quot;1&quot;</td><td>&quot;EV&quot;</td><td>&quot;MISS&quot;</td><td>&quot;TBL #14 GEEKIE, Wrist, Wide Le…</td><td>&quot;Jordan Binnington&quot;</td><td>&quot;Andrei Vasilevskiy&quot;</td><td>8476412</td><td>8476883</td><td>77</td><td>&quot;missed-shot&quot;</td><td>&quot;18:44&quot;</td><td>&quot;01:16&quot;</td><td>&quot;left&quot;</td><td>&quot;missed-shot&quot;</td><td>1</td><td>&quot;REG&quot;</td><td>&quot;14&quot;</td><td>-77.0</td><td>-9.0</td><td>&quot;O&quot;</td><td>&quot;wide-left&quot;</td><td>&quot;wrist&quot;</td><td>8476412</td><td>null</td><td>null</td><td>null</td><td>null</td><td>null</td><td>9</td><td>3</td><td>null</td><td>null</td><td>null</td><td>null</td><td>0</td><td>0</td><td>&hellip;</td><td>&quot;Brandon Saad&quot;</td><td>&quot;Pavel Buchnevich&quot;</td><td>&quot;Justin Faulk&quot;</td><td>&quot;P.O Joseph&quot;</td><td>null</td><td>&quot;Conor Geekie&quot;</td><td>&quot;Michael Eyssimont&quot;</td><td>&quot;Gage Goncalves&quot;</td><td>&quot;Ryan McDonagh&quot;</td><td>&quot;Erik Cernak&quot;</td><td>null</td><td>5</td><td>5</td><td>&quot;TBL&quot;</td><td>&quot;TBL&quot;</td><td>&quot;STL&quot;</td><td>&quot;14&quot;</td><td>&quot;19&quot;</td><td>20242025</td><td>2</td><td>false</td><td>2024-11-05 00:00:00</td><td>&quot;Enterprise Center&quot;</td><td>&quot;St. Louis&quot;</td><td>2024-11-06 01:00:00</td><td>&quot;-05:00&quot;</td><td>&quot;-06:00&quot;</td><td>&quot;OFF&quot;</td><td>&quot;OK&quot;</td><td>&quot;REG&quot;</td><td>-77.0</td><td>-9.0</td><td>1124</td><td>1124</td><td>&quot;5v5&quot;</td><td>&quot;2024020199&quot;</td><td>2025-03-24 13:01:11.713040</td></tr><tr><td>&quot;82&quot;</td><td>&quot;1&quot;</td><td>&quot;&quot;</td><td>&quot;STOP&quot;</td><td>&quot;ON-ICE OFFICIAL,VIDEO REVIEW&quot;</td><td>&quot;Jordan Binnington&quot;</td><td>&quot;Andrei Vasilevskiy&quot;</td><td>8476412</td><td>8476883</td><td>78</td><td>&quot;stoppage&quot;</td><td>&quot;18:49&quot;</td><td>&quot;01:11&quot;</td><td>&quot;left&quot;</td><td>&quot;stoppage&quot;</td><td>1</td><td>&quot;REG&quot;</td><td>null</td><td>null</td><td>null</td><td>null</td><td>&quot;referee-or-linesman&quot;</td><td>null</td><td>null</td><td>null</td><td>null</td><td>null</td><td>null</td><td>null</td><td>9</td><td>3</td><td>&quot;video-review&quot;</td><td>null</td><td>null</td><td>null</td><td>0</td><td>0</td><td>&hellip;</td><td>&quot;Brandon Saad&quot;</td><td>&quot;Pavel Buchnevich&quot;</td><td>&quot;Justin Faulk&quot;</td><td>&quot;P.O Joseph&quot;</td><td>null</td><td>&quot;Conor Geekie&quot;</td><td>&quot;Michael Eyssimont&quot;</td><td>&quot;Gage Goncalves&quot;</td><td>&quot;Ryan McDonagh&quot;</td><td>&quot;Erik Cernak&quot;</td><td>null</td><td>5</td><td>5</td><td>null</td><td>&quot;TBL&quot;</td><td>&quot;STL&quot;</td><td>&quot;14&quot;</td><td>&quot;19&quot;</td><td>20242025</td><td>2</td><td>false</td><td>2024-11-05 00:00:00</td><td>&quot;Enterprise Center&quot;</td><td>&quot;St. Louis&quot;</td><td>2024-11-06 01:00:00</td><td>&quot;-05:00&quot;</td><td>&quot;-06:00&quot;</td><td>&quot;OFF&quot;</td><td>&quot;OK&quot;</td><td>&quot;REG&quot;</td><td>null</td><td>null</td><td>1129</td><td>1129</td><td>null</td><td>&quot;2024020199&quot;</td><td>2025-03-24 13:01:11.713040</td></tr><tr><td>&quot;83&quot;</td><td>&quot;1&quot;</td><td>&quot;&quot;</td><td>&quot;STOP&quot;</td><td>&quot;INJURY - PLAYER&quot;</td><td>&quot;Jordan Binnington&quot;</td><td>&quot;Andrei Vasilevskiy&quot;</td><td>8476412</td><td>8476883</td><td>79</td><td>&quot;stoppage&quot;</td><td>&quot;18:49&quot;</td><td>&quot;01:11&quot;</td><td>&quot;left&quot;</td><td>&quot;stoppage&quot;</td><td>1</td><td>&quot;REG&quot;</td><td>null</td><td>null</td><td>null</td><td>null</td><td>&quot;player-injury&quot;</td><td>null</td><td>null</td><td>null</td><td>null</td><td>null</td><td>null</td><td>null</td><td>9</td><td>3</td><td>&quot;player-injury&quot;</td><td>null</td><td>null</td><td>null</td><td>0</td><td>0</td><td>&hellip;</td><td>&quot;Brandon Saad&quot;</td><td>&quot;Pavel Buchnevich&quot;</td><td>&quot;Justin Faulk&quot;</td><td>&quot;P.O Joseph&quot;</td><td>null</td><td>&quot;Conor Geekie&quot;</td><td>&quot;Michael Eyssimont&quot;</td><td>&quot;Gage Goncalves&quot;</td><td>&quot;Ryan McDonagh&quot;</td><td>&quot;Erik Cernak&quot;</td><td>null</td><td>5</td><td>5</td><td>null</td><td>&quot;TBL&quot;</td><td>&quot;STL&quot;</td><td>&quot;14&quot;</td><td>&quot;19&quot;</td><td>20242025</td><td>2</td><td>false</td><td>2024-11-05 00:00:00</td><td>&quot;Enterprise Center&quot;</td><td>&quot;St. Louis&quot;</td><td>2024-11-06 01:00:00</td><td>&quot;-05:00&quot;</td><td>&quot;-06:00&quot;</td><td>&quot;OFF&quot;</td><td>&quot;OK&quot;</td><td>&quot;REG&quot;</td><td>null</td><td>null</td><td>1129</td><td>1129</td><td>null</td><td>&quot;2024020199&quot;</td><td>2025-03-24 13:01:11.713040</td></tr><tr><td>&quot;84&quot;</td><td>&quot;1&quot;</td><td>&quot;&quot;</td><td>&quot;EISTR&quot;</td><td>&quot;Early Intermission Start- Loca…</td><td>null</td><td>null</td><td>null</td><td>null</td><td>80</td><td>&quot;unknown&quot;</td><td>null</td><td>null</td><td>null</td><td>null</td><td>null</td><td>null</td><td>null</td><td>null</td><td>null</td><td>null</td><td>null</td><td>null</td><td>null</td><td>null</td><td>null</td><td>null</td><td>null</td><td>null</td><td>9</td><td>3</td><td>null</td><td>null</td><td>null</td><td>null</td><td>0</td><td>0</td><td>&hellip;</td><td>null</td><td>null</td><td>null</td><td>null</td><td>null</td><td>null</td><td>null</td><td>null</td><td>null</td><td>null</td><td>null</td><td>null</td><td>null</td><td>null</td><td>&quot;TBL&quot;</td><td>&quot;STL&quot;</td><td>&quot;14&quot;</td><td>&quot;19&quot;</td><td>20242025</td><td>2</td><td>false</td><td>2024-11-05 00:00:00</td><td>&quot;Enterprise Center&quot;</td><td>&quot;St. Louis&quot;</td><td>2024-11-06 01:00:00</td><td>&quot;-05:00&quot;</td><td>&quot;-06:00&quot;</td><td>&quot;OFF&quot;</td><td>&quot;OK&quot;</td><td>&quot;REG&quot;</td><td>null</td><td>null</td><td>null</td><td>null</td><td>null</td><td>&quot;2024020199&quot;</td><td>2025-03-24 13:01:11.713040</td></tr><tr><td>&quot;85&quot;</td><td>&quot;1&quot;</td><td>&quot;&quot;</td><td>&quot;EIEND&quot;</td><td>&quot;Early Intermission End- Local …</td><td>null</td><td>null</td><td>null</td><td>null</td><td>81</td><td>&quot;unknown&quot;</td><td>null</td><td>null</td><td>null</td><td>null</td><td>null</td><td>null</td><td>null</td><td>null</td><td>null</td><td>null</td><td>null</td><td>null</td><td>null</td><td>null</td><td>null</td><td>null</td><td>null</td><td>null</td><td>9</td><td>3</td><td>null</td><td>null</td><td>null</td><td>null</td><td>0</td><td>0</td><td>&hellip;</td><td>null</td><td>null</td><td>null</td><td>null</td><td>null</td><td>null</td><td>null</td><td>null</td><td>null</td><td>null</td><td>null</td><td>null</td><td>null</td><td>null</td><td>&quot;TBL&quot;</td><td>&quot;STL&quot;</td><td>&quot;14&quot;</td><td>&quot;19&quot;</td><td>20242025</td><td>2</td><td>false</td><td>2024-11-05 00:00:00</td><td>&quot;Enterprise Center&quot;</td><td>&quot;St. Louis&quot;</td><td>2024-11-06 01:00:00</td><td>&quot;-05:00&quot;</td><td>&quot;-06:00&quot;</td><td>&quot;OFF&quot;</td><td>&quot;OK&quot;</td><td>&quot;REG&quot;</td><td>null</td><td>null</td><td>null</td><td>null</td><td>null</td><td>&quot;2024020199&quot;</td><td>2025-03-24 13:01:11.713040</td></tr><tr><td>&quot;86&quot;</td><td>&quot;1&quot;</td><td>&quot;EV&quot;</td><td>&quot;FAC&quot;</td><td>&quot;STL won Def. Zone - TBL #71 CI…</td><td>&quot;Jordan Binnington&quot;</td><td>&quot;Andrei Vasilevskiy&quot;</td><td>8476412</td><td>8476883</td><td>82</td><td>&quot;faceoff&quot;</td><td>&quot;19:42&quot;</td><td>&quot;00:18&quot;</td><td>&quot;left&quot;</td><td>&quot;faceoff&quot;</td><td>1</td><td>&quot;REG&quot;</td><td>&quot;19&quot;</td><td>20.0</td><td>22.0</td><td>&quot;N&quot;</td><td>null</td><td>null</td><td>null</td><td>null</td><td>null</td><td>null</td><td>null</td><td>null</td><td>9</td><td>3</td><td>null</td><td>null</td><td>null</td><td>null</td><td>0</td><td>0</td><td>&hellip;</td><td>&quot;Jake Neighbours&quot;</td><td>&quot;Pavel Buchnevich&quot;</td><td>&quot;Ryan Suter&quot;</td><td>&quot;Colton Parayko&quot;</td><td>null</td><td>&quot;Anthony Cirelli&quot;</td><td>&quot;Nikita Kucherov&quot;</td><td>&quot;Brandon Hagel&quot;</td><td>&quot;Victor Hedman&quot;</td><td>&quot;J.J. Moser&quot;</td><td>null</td><td>5</td><td>5</td><td>&quot;STL&quot;</td><td>&quot;TBL&quot;</td><td>&quot;STL&quot;</td><td>&quot;14&quot;</td><td>&quot;19&quot;</td><td>20242025</td><td>2</td><td>false</td><td>2024-11-05 00:00:00</td><td>&quot;Enterprise Center&quot;</td><td>&quot;St. Louis&quot;</td><td>2024-11-06 01:00:00</td><td>&quot;-05:00&quot;</td><td>&quot;-06:00&quot;</td><td>&quot;OFF&quot;</td><td>&quot;OK&quot;</td><td>&quot;REG&quot;</td><td>20.0</td><td>22.0</td><td>1182</td><td>1182</td><td>&quot;5v5&quot;</td><td>&quot;2024020199&quot;</td><td>2025-03-24 13:01:11.713040</td></tr><tr><td>&quot;87&quot;</td><td>&quot;1&quot;</td><td>&quot;&quot;</td><td>&quot;STOP&quot;</td><td>&quot;PUCK IN BENCHES&quot;</td><td>&quot;Jordan Binnington&quot;</td><td>&quot;Andrei Vasilevskiy&quot;</td><td>8476412</td><td>8476883</td><td>83</td><td>&quot;stoppage&quot;</td><td>null</td><td>null</td><td>null</td><td>null</td><td>null</td><td>null</td><td>null</td><td>null</td><td>null</td><td>null</td><td>null</td><td>null</td><td>null</td><td>null</td><td>null</td><td>null</td><td>null</td><td>null</td><td>9</td><td>3</td><td>null</td><td>null</td><td>null</td><td>null</td><td>0</td><td>0</td><td>&hellip;</td><td>&quot;Jordan Kyrou&quot;</td><td>&quot;Brandon Saad&quot;</td><td>&quot;Justin Faulk&quot;</td><td>&quot;P.O Joseph&quot;</td><td>null</td><td>&quot;Jake Guentzel&quot;</td><td>&quot;Mitchell Chaffee&quot;</td><td>&quot;Nick Paul&quot;</td><td>&quot;Ryan McDonagh&quot;</td><td>&quot;J.J. Moser&quot;</td><td>null</td><td>5</td><td>5</td><td>null</td><td>&quot;TBL&quot;</td><td>&quot;STL&quot;</td><td>&quot;14&quot;</td><td>&quot;19&quot;</td><td>20242025</td><td>2</td><td>false</td><td>2024-11-05 00:00:00</td><td>&quot;Enterprise Center&quot;</td><td>&quot;St. Louis&quot;</td><td>2024-11-06 01:00:00</td><td>&quot;-05:00&quot;</td><td>&quot;-06:00&quot;</td><td>&quot;OFF&quot;</td><td>&quot;OK&quot;</td><td>&quot;REG&quot;</td><td>null</td><td>null</td><td>null</td><td>null</td><td>null</td><td>&quot;2024020199&quot;</td><td>2025-03-24 13:01:11.713040</td></tr><tr><td>&quot;88&quot;</td><td>&quot;1&quot;</td><td>&quot;EV&quot;</td><td>&quot;FAC&quot;</td><td>&quot;STL won Neu. Zone - TBL #20 PA…</td><td>&quot;Jordan Binnington&quot;</td><td>&quot;Andrei Vasilevskiy&quot;</td><td>8476412</td><td>8476883</td><td>84</td><td>&quot;faceoff&quot;</td><td>null</td><td>null</td><td>null</td><td>null</td><td>null</td><td>null</td><td>null</td><td>null</td><td>null</td><td>null</td><td>null</td><td>null</td><td>null</td><td>null</td><td>null</td><td>null</td><td>null</td><td>null</td><td>9</td><td>3</td><td>null</td><td>null</td><td>null</td><td>null</td><td>0</td><td>0</td><td>&hellip;</td><td>&quot;Jordan Kyrou&quot;</td><td>&quot;Brandon Saad&quot;</td><td>&quot;Justin Faulk&quot;</td><td>&quot;P.O Joseph&quot;</td><td>null</td><td>&quot;Jake Guentzel&quot;</td><td>&quot;Mitchell Chaffee&quot;</td><td>&quot;Nick Paul&quot;</td><td>&quot;Ryan McDonagh&quot;</td><td>&quot;Erik Cernak&quot;</td><td>null</td><td>5</td><td>5</td><td>null</td><td>&quot;TBL&quot;</td><td>&quot;STL&quot;</td><td>&quot;14&quot;</td><td>&quot;19&quot;</td><td>20242025</td><td>2</td><td>false</td><td>2024-11-05 00:00:00</td><td>&quot;Enterprise Center&quot;</td><td>&quot;St. Louis&quot;</td><td>2024-11-06 01:00:00</td><td>&quot;-05:00&quot;</td><td>&quot;-06:00&quot;</td><td>&quot;OFF&quot;</td><td>&quot;OK&quot;</td><td>&quot;REG&quot;</td><td>null</td><td>null</td><td>null</td><td>null</td><td>null</td><td>&quot;2024020199&quot;</td><td>2025-03-24 13:01:11.713040</td></tr><tr><td>&quot;89&quot;</td><td>&quot;1&quot;</td><td>&quot;&quot;</td><td>&quot;PEND&quot;</td><td>&quot;Period End- Local time: 8:03 C…</td><td>&quot;Jordan Binnington&quot;</td><td>&quot;Andrei Vasilevskiy&quot;</td><td>8476412</td><td>8476883</td><td>85</td><td>&quot;period-end&quot;</td><td>null</td><td>null</td><td>null</td><td>null</td><td>null</td><td>null</td><td>null</td><td>null</td><td>null</td><td>null</td><td>null</td><td>null</td><td>null</td><td>null</td><td>null</td><td>null</td><td>null</td><td>null</td><td>9</td><td>3</td><td>null</td><td>null</td><td>null</td><td>null</td><td>0</td><td>0</td><td>&hellip;</td><td>&quot;Jordan Kyrou&quot;</td><td>&quot;Brandon Saad&quot;</td><td>&quot;Justin Faulk&quot;</td><td>&quot;P.O Joseph&quot;</td><td>null</td><td>&quot;Jake Guentzel&quot;</td><td>&quot;Mitchell Chaffee&quot;</td><td>&quot;Nick Paul&quot;</td><td>&quot;Ryan McDonagh&quot;</td><td>&quot;Erik Cernak&quot;</td><td>null</td><td>5</td><td>5</td><td>null</td><td>&quot;TBL&quot;</td><td>&quot;STL&quot;</td><td>&quot;14&quot;</td><td>&quot;19&quot;</td><td>20242025</td><td>2</td><td>false</td><td>2024-11-05 00:00:00</td><td>&quot;Enterprise Center&quot;</td><td>&quot;St. Louis&quot;</td><td>2024-11-06 01:00:00</td><td>&quot;-05:00&quot;</td><td>&quot;-06:00&quot;</td><td>&quot;OFF&quot;</td><td>&quot;OK&quot;</td><td>&quot;REG&quot;</td><td>null</td><td>null</td><td>null</td><td>null</td><td>null</td><td>&quot;2024020199&quot;</td><td>2025-03-24 13:01:11.713040</td></tr></tbody></table></div>"
      ],
      "text/plain": [
       "shape: (10, 94)\n",
       "┌─────┬─────┬─────┬───────┬───┬─────────────┬──────────┬────────────┬────────────────────────────┐\n",
       "│ #   ┆ Per ┆ Str ┆ Event ┆ … ┆ elapsedTime ┆ strength ┆ gameId     ┆ meta_datetime              │\n",
       "│ --- ┆ --- ┆ --- ┆ ---   ┆   ┆ ---         ┆ ---      ┆ ---        ┆ ---                        │\n",
       "│ str ┆ str ┆ str ┆ str   ┆   ┆ i64         ┆ str      ┆ str        ┆ datetime[μs]               │\n",
       "╞═════╪═════╪═════╪═══════╪═══╪═════════════╪══════════╪════════════╪════════════════════════════╡\n",
       "│ 80  ┆ 1   ┆ EV  ┆ BLOCK ┆ … ┆ 1105        ┆ 5v5      ┆ 2024020199 ┆ 2025-03-24 13:01:11.713040 │\n",
       "│ 81  ┆ 1   ┆ EV  ┆ MISS  ┆ … ┆ 1124        ┆ 5v5      ┆ 2024020199 ┆ 2025-03-24 13:01:11.713040 │\n",
       "│ 82  ┆ 1   ┆     ┆ STOP  ┆ … ┆ 1129        ┆ null     ┆ 2024020199 ┆ 2025-03-24 13:01:11.713040 │\n",
       "│ 83  ┆ 1   ┆     ┆ STOP  ┆ … ┆ 1129        ┆ null     ┆ 2024020199 ┆ 2025-03-24 13:01:11.713040 │\n",
       "│ 84  ┆ 1   ┆     ┆ EISTR ┆ … ┆ null        ┆ null     ┆ 2024020199 ┆ 2025-03-24 13:01:11.713040 │\n",
       "│ 85  ┆ 1   ┆     ┆ EIEND ┆ … ┆ null        ┆ null     ┆ 2024020199 ┆ 2025-03-24 13:01:11.713040 │\n",
       "│ 86  ┆ 1   ┆ EV  ┆ FAC   ┆ … ┆ 1182        ┆ 5v5      ┆ 2024020199 ┆ 2025-03-24 13:01:11.713040 │\n",
       "│ 87  ┆ 1   ┆     ┆ STOP  ┆ … ┆ null        ┆ null     ┆ 2024020199 ┆ 2025-03-24 13:01:11.713040 │\n",
       "│ 88  ┆ 1   ┆ EV  ┆ FAC   ┆ … ┆ null        ┆ null     ┆ 2024020199 ┆ 2025-03-24 13:01:11.713040 │\n",
       "│ 89  ┆ 1   ┆     ┆ PEND  ┆ … ┆ null        ┆ null     ┆ 2024020199 ┆ 2025-03-24 13:01:11.713040 │\n",
       "└─────┴─────┴─────┴───────┴───┴─────────────┴──────────┴────────────┴────────────────────────────┘"
      ]
     },
     "execution_count": 31,
     "metadata": {},
     "output_type": "execute_result"
    }
   ],
   "source": [
    "game = await scraper.scrape_pbp(game_ids=[2024020199])\n",
    "\n",
    "game.filter(pl.col(\"Per\") == \"1\").tail(10)"
   ]
  }
 ],
 "metadata": {
  "kernelspec": {
   "display_name": ".venv",
   "language": "python",
   "name": "python3"
  },
  "language_info": {
   "codemirror_mode": {
    "name": "ipython",
    "version": 3
   },
   "file_extension": ".py",
   "mimetype": "text/x-python",
   "name": "python",
   "nbconvert_exporter": "python",
   "pygments_lexer": "ipython3",
   "version": "3.13.1"
  }
 },
 "nbformat": 4,
 "nbformat_minor": 2
}
