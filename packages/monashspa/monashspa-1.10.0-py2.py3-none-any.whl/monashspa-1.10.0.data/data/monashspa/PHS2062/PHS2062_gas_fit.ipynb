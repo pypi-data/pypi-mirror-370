{
 "cells": [
  {
   "cell_type": "code",
   "execution_count": null,
   "metadata": {},
   "outputs": [],
   "source": [
    "#######################################################################\n",
    "# Fit the data to the ideal gas law\n",
    "# Assume n=0.040, p=1.013\n",
    "#\n",
    "# V = nR/p * T = 0.040 / 1.013 * R * T\n",
    "\n",
    "# Change the filename to read a different name\n",
    "datafile = 'PHS2062_gas_short_data.csv'\n",
    "\n",
    "# Change the model you fit here. \"x\" takes the role of temperature\n",
    "model = \"0.040/1.013*R*x\"\n",
    "\n",
    "# Name of the model that you fit\n",
    "name = \"Ideal gas law\"\n",
    "\n",
    "#######################################################################"
   ]
  },
  {
   "cell_type": "code",
   "execution_count": null,
   "metadata": {},
   "outputs": [],
   "source": [
    "!pip install monashspa"
   ]
  },
  {
   "cell_type": "code",
   "execution_count": null,
   "metadata": {},
   "outputs": [],
   "source": [
    "import os\n",
    "import sys\n",
    "\n",
    "import pandas\n",
    "\n",
    "import numpy as np\n",
    "import matplotlib.pyplot as plt\n",
    "\n",
    "from lmfit import fit_report\n",
    "from scipy import stats\n",
    "from monashspa.common.fitting import linear_fit, get_fit_parameters, make_lmfit_model, model_fit\n",
    "from monashspa.common.figures import savefig"
   ]
  },
  {
   "cell_type": "code",
   "execution_count": null,
   "metadata": {},
   "outputs": [],
   "source": [
    "# Read the data from file\n",
    "data = None\n",
    "try:\n",
    "    fname = os.path.join(datafile)\n",
    "    data = pandas.read_csv(fname, usecols=[0,1,2]).to_numpy()\n",
    "except FileNotFoundError:\n",
    "    print(\"ERROR: Failed to read CSV file {file} with data. It should be in the same folder as the Notebook.\".format(file=datafile))\n",
    "\n",
    "if type(data)==type(None):\n",
    "    sys.exit(1)\n",
    "\n",
    "volume = data[:,0]\n",
    "u_volume = data[:,1]\n",
    "temp = data[:,2]\n",
    "\n",
    "# Create the model and run fit\n",
    "gas_model = make_lmfit_model(model)\n",
    "gas_params = gas_model.make_params(R=0.01)\n",
    "gas_fit_results = model_fit(gas_model, gas_params, temp, volume, u_y=u_volume)\n",
    "\n",
    "\n",
    "# Extract result and print nicely\n",
    "gas_fit = gas_fit_results.best_fit\n",
    "u_gas_fit = gas_fit_results.eval_uncertainty(sigma=1)\n",
    "gas_fit_parameters = get_fit_parameters(gas_fit_results)\n",
    "pvalue = 1.0 - stats.chi2.cdf(gas_fit_results.chisqr,\n",
    "                              gas_fit_results.ndata-gas_fit_results.nvarys)\n",
    "\n",
    "print(\"\"\"\n",
    "[[{name}]]\n",
    "=================\n",
    "  p-value       = {pvalue:.2E}\n",
    "\"\"\".format(name=name, pvalue=pvalue))\n",
    "print(gas_fit_results.fit_report())\n",
    "\n",
    "\n",
    "# Create some plots\n",
    "fig, (ax1, ax2) = plt.subplots(2, sharex=True, gridspec_kw={'height_ratios': [3, 1]})\n",
    "ax1.errorbar(temp, volume, yerr=u_volume, marker=\"*\", linestyle=\"None\", color=\"black\",label=\"experimental data\")\n",
    "ax1.plot(temp, gas_fit, marker=\"None\", linestyle=\"-\", color=\"black\",label=\"linear fit\")\n",
    "ax1.fill_between(temp, gas_fit-u_gas_fit,gas_fit+u_gas_fit,\n",
    "                 color=\"lightgrey\",label=\"uncertainty in linear fit\")\n",
    "ax1.legend(bbox_to_anchor=(0.5,1))\n",
    "ax1.set(ylabel=\"Volume (L)\")\n",
    "pull = (volume-gas_fit)/u_volume\n",
    "ax2.plot(temp, pull, marker=\"*\", linestyle=\"None\", color=\"black\")\n",
    "ax2.plot([np.min(temp), np.max(temp)], [0,0], marker=\"None\", linestyle=\"-\", color=\"grey\")\n",
    "ax2.plot([np.min(temp), np.max(temp)], [1,1], marker=\"None\", linestyle=\"dashed\", color=\"grey\")\n",
    "ax2.plot([np.min(temp), np.max(temp)], [-1,-1], marker=\"None\", linestyle=\"dashed\", color=\"grey\")\n",
    "ax2.set(xlabel=\"Temperature (K)\", ylabel=\"Pull\")\n",
    "scale = 1.1*np.max(np.abs(pull))\n",
    "ax2.set_ylim(-scale, scale)\n",
    "fig.suptitle('Fit with {name}'.format(name=name))\n",
    "savefig('{name}.png'.format(name=name))\n",
    "\n",
    "plt.show()"
   ]
  },
  {
   "cell_type": "code",
   "execution_count": null,
   "metadata": {},
   "outputs": [],
   "source": []
  }
 ],
 "metadata": {
  "kernelspec": {
   "display_name": "Python 3",
   "language": "python",
   "name": "python3"
  },
  "language_info": {
   "codemirror_mode": {
    "name": "ipython",
    "version": 3
   },
   "file_extension": ".py",
   "mimetype": "text/x-python",
   "name": "python",
   "nbconvert_exporter": "python",
   "pygments_lexer": "ipython3",
   "version": "3.8.10"
  }
 },
 "nbformat": 4,
 "nbformat_minor": 4
}
