{
  "cells": [
    {
      "metadata": {
        "id": "LIIksEJ7fbxF"
      },
      "cell_type": "markdown",
      "source": [
        "# Essential commands\n",
        "The following describes essential commands for interacting with the AlphaGenome API. It is broken into two sections: data and methods.\n",
        "\n"
      ]
    },
    {
      "metadata": {
        "id": "gcms9aHWNnqs"
      },
      "cell_type": "markdown",
      "source": [
        "```{tip}\n",
        "Open this tutorial in Google colab for interactive viewing.\n",
        "```"
      ]
    },
    {
      "metadata": {
        "executionInfo": {
          "elapsed": 13,
          "status": "ok",
          "timestamp": 1749822645556,
          "user": {
            "displayName": "",
            "userId": ""
          },
          "user_tz": -60
        },
        "id": "iEs6z4rGe3lk"
      },
      "cell_type": "code",
      "source": [
        "# @title Install AlphaGenome\n",
        "\n",
        "# @markdown Run this cell to install AlphaGenome.\n",
        "from IPython.display import clear_output\n",
        "! pip install alphagenome\n",
        "clear_output()"
      ],
      "outputs": [],
      "execution_count": 1
    },
    {
      "metadata": {
        "id": "rKyGK083Wwh7"
      },
      "cell_type": "markdown",
      "source": [
        "# Imports"
      ]
    },
    {
      "metadata": {
        "executionInfo": {
          "elapsed": 1070,
          "status": "ok",
          "timestamp": 1749822646891,
          "user": {
            "displayName": "",
            "userId": ""
          },
          "user_tz": -60
        },
        "id": "V7MD3DBEfJwf"
      },
      "cell_type": "code",
      "source": [
        "from alphagenome.data import genome\n",
        "from alphagenome.models import dna_client\n",
        "import numpy as np\n",
        "import pandas as pd\n",
        "from google.colab import userdata"
      ],
      "outputs": [],
      "execution_count": 2
    },
    {
      "metadata": {
        "id": "dzkwq2tyfj0q"
      },
      "cell_type": "markdown",
      "source": [
        "##  Data: model inputs"
      ]
    },
    {
      "metadata": {
        "id": "3qR6e2XtW5IZ"
      },
      "cell_type": "markdown",
      "source": [
        "### Genomic interval\n",
        "\n",
        "A genomic interval is specified using `genome.Interval`:"
      ]
    },
    {
      "metadata": {
        "executionInfo": {
          "elapsed": 57,
          "status": "ok",
          "timestamp": 1749822647220,
          "user": {
            "displayName": "",
            "userId": ""
          },
          "user_tz": -60
        },
        "id": "XIZHnO32W4Hn"
      },
      "cell_type": "code",
      "source": [
        "interval = genome.Interval(chromosome='chr1', start=1_000, end=1_010)"
      ],
      "outputs": [],
      "execution_count": 3
    },
    {
      "metadata": {
        "id": "Qn9x1ArcXLVI"
      },
      "cell_type": "markdown",
      "source": [
        "By default, these are human hg38 intervals. See the\n",
        "[FAQ](https://www.alphagenomedocs.com/faqs.html#what-are-the-reference-genome-versions-used-by-the-model) for more\n",
        "details on organisms and genome versions.\n"
      ]
    },
    {
      "metadata": {
        "id": "PCGNRUfHXOL1"
      },
      "cell_type": "markdown",
      "source": [
        "#### Interval properties\n",
        "\n",
        "Access some handy properties of the interval:\n"
      ]
    },
    {
      "metadata": {
        "executionInfo": {
          "elapsed": 66,
          "status": "ok",
          "timestamp": 1749822647565,
          "user": {
            "displayName": "",
            "userId": ""
          },
          "user_tz": -60
        },
        "id": "8bn73Lm3XL1C",
        "outputId": "f872b5f0-51bd-4455-9ec6-96c3d19a5c1d"
      },
      "cell_type": "code",
      "source": [
        "interval.center()"
      ],
      "outputs": [
        {
          "data": {
            "text/plain": [
              "1005"
            ]
          },
          "execution_count": 4,
          "metadata": {},
          "output_type": "execute_result"
        }
      ],
      "execution_count": 4
    },
    {
      "metadata": {
        "executionInfo": {
          "elapsed": 56,
          "status": "ok",
          "timestamp": 1749822647918,
          "user": {
            "displayName": "",
            "userId": ""
          },
          "user_tz": -60
        },
        "id": "fJVk-ocQXWhm",
        "outputId": "d0203696-36b6-4ca5-a204-f417284f2ca7"
      },
      "cell_type": "code",
      "source": [
        "interval.width"
      ],
      "outputs": [
        {
          "data": {
            "text/plain": [
              "10"
            ]
          },
          "execution_count": 5,
          "metadata": {},
          "output_type": "execute_result"
        }
      ],
      "execution_count": 5
    },
    {
      "metadata": {
        "id": "BvlmfYgBXXig"
      },
      "cell_type": "markdown",
      "source": [
        "#### Resize\n",
        "\n",
        "Use `genome.Interval.resize` to resize the interval\n",
        "around its center point:"
      ]
    },
    {
      "metadata": {
        "executionInfo": {
          "elapsed": 64,
          "status": "ok",
          "timestamp": 1749822648252,
          "user": {
            "displayName": "",
            "userId": ""
          },
          "user_tz": -60
        },
        "id": "y72ZqANrXehY",
        "outputId": "5c001c60-01db-4807-8508-a795a88dc629"
      },
      "cell_type": "code",
      "source": [
        "interval.resize(100)"
      ],
      "outputs": [
        {
          "data": {
            "text/plain": [
              "Interval(chromosome='chr1', start=955, end=1055, strand='.', name='')"
            ]
          },
          "execution_count": 6,
          "metadata": {},
          "output_type": "execute_result"
        }
      ],
      "execution_count": 6
    },
    {
      "metadata": {
        "id": "ZrM4rMJDXkNF"
      },
      "cell_type": "markdown",
      "source": [
        "#### Compare intervals\n",
        "\n",
        "We can also check the interval's relationship to other intervals:"
      ]
    },
    {
      "metadata": {
        "executionInfo": {
          "elapsed": 68,
          "status": "ok",
          "timestamp": 1749822648622,
          "user": {
            "displayName": "",
            "userId": ""
          },
          "user_tz": -60
        },
        "id": "Ye04nJETXmBL"
      },
      "cell_type": "code",
      "source": [
        "second_interval = genome.Interval(chromosome='chr1', start=1_005, end=1_015)"
      ],
      "outputs": [],
      "execution_count": 7
    },
    {
      "metadata": {
        "executionInfo": {
          "elapsed": 62,
          "status": "ok",
          "timestamp": 1749822648949,
          "user": {
            "displayName": "",
            "userId": ""
          },
          "user_tz": -60
        },
        "id": "9yecEDzAXpIS",
        "outputId": "d5a0d62c-4d96-4945-c33b-9566f5c9d1b0"
      },
      "cell_type": "code",
      "source": [
        "interval.overlaps(second_interval)"
      ],
      "outputs": [
        {
          "data": {
            "text/plain": [
              "True"
            ]
          },
          "execution_count": 8,
          "metadata": {},
          "output_type": "execute_result"
        }
      ],
      "execution_count": 8
    },
    {
      "metadata": {
        "executionInfo": {
          "elapsed": 61,
          "status": "ok",
          "timestamp": 1749822649266,
          "user": {
            "displayName": "",
            "userId": ""
          },
          "user_tz": -60
        },
        "id": "tMN-FGXZXsqr",
        "outputId": "32d4de71-3d1c-4965-91c2-8f82b09d9aab"
      },
      "cell_type": "code",
      "source": [
        "interval.contains(second_interval)"
      ],
      "outputs": [
        {
          "data": {
            "text/plain": [
              "False"
            ]
          },
          "execution_count": 9,
          "metadata": {},
          "output_type": "execute_result"
        }
      ],
      "execution_count": 9
    },
    {
      "metadata": {
        "executionInfo": {
          "elapsed": 330,
          "status": "ok",
          "timestamp": 1749822649862,
          "user": {
            "displayName": "",
            "userId": ""
          },
          "user_tz": -60
        },
        "id": "sDjWXjJYXuPB",
        "outputId": "f43f4e1b-e319-44c7-d6d9-68b5384d579c"
      },
      "cell_type": "code",
      "source": [
        "interval.intersect(second_interval)"
      ],
      "outputs": [
        {
          "data": {
            "text/plain": [
              "Interval(chromosome='chr1', start=1005, end=1010, strand='.', name='')"
            ]
          },
          "execution_count": 10,
          "metadata": {},
          "output_type": "execute_result"
        }
      ],
      "execution_count": 10
    },
    {
      "metadata": {
        "id": "X0U15RKjXwZL"
      },
      "cell_type": "markdown",
      "source": [
        "As a subtle point, AlphaGenome classes use 0-based indexing, meaning that the\n",
        "interval includes the base pair at the `start` position up to the base pair at\n",
        "the `end-1` position. See the [FAQ](https://www.alphagenomedocs.com/faqs.html#how-do-i-specify-a-genomic-region)\n",
        "for more on this topic."
      ]
    },
    {
      "metadata": {
        "id": "dIDUCQKOX1Vj"
      },
      "cell_type": "markdown",
      "source": [
        "### Genomic variant\n",
        "\n",
        "A `genome.Variant` specifies a genetic variant:\n"
      ]
    },
    {
      "metadata": {
        "executionInfo": {
          "elapsed": 54,
          "status": "ok",
          "timestamp": 1749822650248,
          "user": {
            "displayName": "",
            "userId": ""
          },
          "user_tz": -60
        },
        "id": "R_D6AoKFXyBJ"
      },
      "cell_type": "code",
      "source": [
        "variant = genome.Variant(\n",
        "    chromosome='chr3', position=10_000, reference_bases='A', alternate_bases='C'\n",
        ")"
      ],
      "outputs": [],
      "execution_count": 11
    },
    {
      "metadata": {
        "id": "L9QcFhogX693"
      },
      "cell_type": "markdown",
      "source": [
        "This variant changes the base `A` to a `C` at position 10\\_000 on chromosome 3\\.\n",
        "Note that the `position` attribute is 1-based to maintain compatibility with\n",
        "common public variant formats (see [FAQ](https://www.alphagenomedocs.com/faqs.html#how-do-i-define-a-variant) for more\n",
        "info.)"
      ]
    },
    {
      "metadata": {
        "id": "l6SRhPTrYKY3"
      },
      "cell_type": "markdown",
      "source": [
        "#### Insertions or deletions (indels)\n",
        "\n",
        "Variants can also be larger than a single base, such as insertions or deletions:"
      ]
    },
    {
      "metadata": {
        "executionInfo": {
          "elapsed": 56,
          "status": "ok",
          "timestamp": 1749822650560,
          "user": {
            "displayName": "",
            "userId": ""
          },
          "user_tz": -60
        },
        "id": "PMmSYhSfX9K9"
      },
      "cell_type": "code",
      "source": [
        "# Insertion variant.\n",
        "variant = genome.Variant(\n",
        "    chromosome='chr3',\n",
        "    position=10_000,\n",
        "    reference_bases='T',\n",
        "    alternate_bases='CGTCAAT',\n",
        ")\n",
        "\n",
        "# Deletion variant.\n",
        "variant = genome.Variant(\n",
        "    chromosome='chr3',\n",
        "    position=10_000,\n",
        "    reference_bases='AGGGATC',\n",
        "    alternate_bases='C',\n",
        ")"
      ],
      "outputs": [],
      "execution_count": 12
    },
    {
      "metadata": {
        "id": "_v9VY9kqYRoP"
      },
      "cell_type": "markdown",
      "source": [
        "The sequence we pass for the `reference_bases` argument could differ from what\n",
        "is actually at that location in the hg38 reference genome. The model will insert\n",
        "whatever is passed as the reference and alternate bases into the sequence and\n",
        "make predictions on them."
      ]
    },
    {
      "metadata": {
        "id": "za3OTKasYYlb"
      },
      "cell_type": "markdown",
      "source": [
        "#### Reference interval\n",
        "\n",
        "We can get the `genome.Interval` corresponding to the\n",
        "reference bases of the variant using `genome.Variant.reference_interval`:"
      ]
    },
    {
      "metadata": {
        "executionInfo": {
          "elapsed": 62,
          "status": "ok",
          "timestamp": 1749822650873,
          "user": {
            "displayName": "",
            "userId": ""
          },
          "user_tz": -60
        },
        "id": "UUyBaqWtYfc0",
        "outputId": "cb3fc331-604d-4d58-9802-f4491dfe9bb2"
      },
      "cell_type": "code",
      "source": [
        "variant = genome.Variant(\n",
        "    chromosome='chr3', position=10_000, reference_bases='A', alternate_bases='T'\n",
        ")\n",
        "\n",
        "variant.reference_interval"
      ],
      "outputs": [
        {
          "data": {
            "text/plain": [
              "Interval(chromosome='chr3', start=9999, end=10000, strand='.', name='')"
            ]
          },
          "execution_count": 13,
          "metadata": {},
          "output_type": "execute_result"
        }
      ],
      "execution_count": 13
    },
    {
      "metadata": {
        "id": "DATTTBK6YiEZ"
      },
      "cell_type": "markdown",
      "source": [
        "A common use-case is to make predictions in a genome region around a variant,\n",
        "which involves resizing the\n",
        "`genome.Variant.reference_interval` to a sequence\n",
        "length compatible with AlphaGenome:"
      ]
    },
    {
      "metadata": {
        "executionInfo": {
          "elapsed": 81,
          "status": "ok",
          "timestamp": 1749822651223,
          "user": {
            "displayName": "",
            "userId": ""
          },
          "user_tz": -60
        },
        "id": "YijroJwOYnfU",
        "outputId": "f923811e-b6c8-4aca-bc5a-d821377557d3"
      },
      "cell_type": "code",
      "source": [
        "input_interval = variant.reference_interval.resize(\n",
        "    dna_client.SEQUENCE_LENGTH_1MB\n",
        ")\n",
        "input_interval.width"
      ],
      "outputs": [
        {
          "data": {
            "text/plain": [
              "1048576"
            ]
          },
          "execution_count": 14,
          "metadata": {},
          "output_type": "execute_result"
        }
      ],
      "execution_count": 14
    },
    {
      "metadata": {
        "id": "qGIpFPd_YmYc"
      },
      "cell_type": "markdown",
      "source": [
        "#### Overlap with interval\n",
        "\n",
        "We can also check if a variant’s reference or alternate alleles overlap an `genome.Interval`:"
      ]
    },
    {
      "metadata": {
        "executionInfo": {
          "elapsed": 128,
          "status": "ok",
          "timestamp": 1749822651618,
          "user": {
            "displayName": "",
            "userId": ""
          },
          "user_tz": -60
        },
        "id": "HmiX9TELYxTD",
        "outputId": "3e267c68-30dd-4aaf-e316-2a87df03d96e"
      },
      "cell_type": "code",
      "source": [
        "variant = genome.Variant(\n",
        "    chromosome='chr3',\n",
        "    position=10_000,\n",
        "    reference_bases='T',\n",
        "    alternate_bases='CGTCAAT',\n",
        ")\n",
        "\n",
        "interval = genome.Interval(chromosome='chr3', start=10_005, end=10_010)\n",
        "\n",
        "print('Reference overlaps:', variant.reference_overlaps(interval))\n",
        "print('Alternative overlaps:', variant.alternate_overlaps(interval))"
      ],
      "outputs": [
        {
          "name": "stdout",
          "output_type": "stream",
          "text": [
            "Reference overlaps: False\n",
            "Alternative overlaps: True\n"
          ]
        }
      ],
      "execution_count": 15
    },
    {
      "metadata": {
        "id": "Kr0329VfZAZo"
      },
      "cell_type": "markdown",
      "source": [
        "##  Data: model outputs\n",
        "\n",
        "### Track data\n",
        "\n",
        "\u003ca href=\"https://services.google.com/fh/files/misc/trackdata.png\"\u003e\u003cimg src=\"https://services.google.com/fh/files/misc/trackdata.png\" alt=\"anndata\" border=\"0\" height=500\u003e\u003c/a\u003e\n",
        "\n",
        "`track_data.TrackData` objects store model predictions.\n",
        "They have the following properties (using `tdata` as an example of a\n",
        "`track_data.TrackData` object):\n",
        "\n",
        "*   `tdata.values` store track predictions as a `numpy.ndarray` .\n",
        "*   `tdata.metadata` stores track metadata as a `pandas.DataFrame`. For\n",
        "    each track in the predicted values, there will be a corresponding row in the\n",
        "    track metadata describing its origin.\n",
        "*   `tdata.uns` contains additional unstructured metadata as a `dict`."
      ]
    },
    {
      "metadata": {
        "id": "I3HTL-NTZR6n"
      },
      "cell_type": "markdown",
      "source": [
        "#### From scratch\n",
        "\n",
        "You can create your own `track_data.TrackData` object\n",
        "from scratch by specifying the values and metadata manually. The metadata must\n",
        "contain at least the columns name (the names of the tracks) and strand (the\n",
        "strands of DNA that the tracks are on):\n"
      ]
    },
    {
      "metadata": {
        "executionInfo": {
          "elapsed": 58,
          "status": "ok",
          "timestamp": 1749822651961,
          "user": {
            "displayName": "",
            "userId": ""
          },
          "user_tz": -60
        },
        "id": "uwsbveEvZBbt"
      },
      "cell_type": "code",
      "source": [
        "from alphagenome.data import track_data\n",
        "\n",
        "# Array has shape (4,3) -\u003e sequence is length 4 and there are 3 tracks.\n",
        "values = np.array([[0, 1, 2], [3, 4, 5], [6, 7, 8], [9, 10, 11]]).astype(\n",
        "    np.float32\n",
        ")\n",
        "\n",
        "# We have both the positive and negative strand values for track1, while track2\n",
        "# contains unstranded data.\n",
        "metadata = pd.DataFrame({\n",
        "    'name': ['track1', 'track1', 'track2'],\n",
        "    'strand': ['+', '-', '.'],\n",
        "})\n",
        "\n",
        "tdata = track_data.TrackData(values=values, metadata=metadata)"
      ],
      "outputs": [],
      "execution_count": 16
    },
    {
      "metadata": {
        "id": "qEc4ioZVZgR0"
      },
      "cell_type": "markdown",
      "source": [
        "#### Resolution\n",
        "\n",
        "It’s also useful to specify the resolution of the tracks and the genomic\n",
        "interval that they come from, if you have this information available:\n"
      ]
    },
    {
      "metadata": {
        "executionInfo": {
          "elapsed": 55,
          "status": "ok",
          "timestamp": 1749822652304,
          "user": {
            "displayName": "",
            "userId": ""
          },
          "user_tz": -60
        },
        "id": "JGnuY6g_ZaBL"
      },
      "cell_type": "code",
      "source": [
        "interval = genome.Interval(chromosome='chr1', start=1_000, end=1_004)\n",
        "\n",
        "tdata = track_data.TrackData(\n",
        "    values=values, metadata=metadata, resolution=1, interval=interval\n",
        ")"
      ],
      "outputs": [],
      "execution_count": 17
    },
    {
      "metadata": {
        "id": "QeN8D_yGZlVB"
      },
      "cell_type": "markdown",
      "source": [
        "Note that the length of the values has to match up with the interval width and\n",
        "resolution. Here is an example specifying that the values actually represent\n",
        "128bp resolution tracks (i.e., each number is a summary over 128 base pairs of\n",
        "DNA):\n"
      ]
    },
    {
      "metadata": {
        "executionInfo": {
          "elapsed": 56,
          "status": "ok",
          "timestamp": 1749822652621,
          "user": {
            "displayName": "",
            "userId": ""
          },
          "user_tz": -60
        },
        "id": "I-iPD_ZGZjMI"
      },
      "cell_type": "code",
      "source": [
        "interval = genome.Interval(chromosome='chr1', start=1_000, end=1_512)\n",
        "\n",
        "tdata = track_data.TrackData(\n",
        "    values=values, metadata=metadata, resolution=128, interval=interval\n",
        ")"
      ],
      "outputs": [],
      "execution_count": 18
    },
    {
      "metadata": {
        "id": "HhVG6w41ZqEp"
      },
      "cell_type": "markdown",
      "source": [
        "####  Converting between resolutions\n",
        "\n",
        "We can also interconvert between resolutions. For example, given 1bp resolution\n",
        "predictions, we can downsample the resolution (by summing adjacent values) and\n",
        "return a sequence of length 2:"
      ]
    },
    {
      "metadata": {
        "executionInfo": {
          "elapsed": 64,
          "status": "ok",
          "timestamp": 1749822652955,
          "user": {
            "displayName": "",
            "userId": ""
          },
          "user_tz": -60
        },
        "id": "Ce41uPkcZoWd",
        "outputId": "38adb4cb-7a38-4cc3-8f12-af6ea95dfc0b"
      },
      "cell_type": "code",
      "source": [
        "interval = genome.Interval(chromosome='chr1', start=1_000, end=1_004)\n",
        "\n",
        "tdata = track_data.TrackData(\n",
        "    values=values, metadata=metadata, resolution=1, interval=interval\n",
        ")\n",
        "\n",
        "tdata = tdata.change_resolution(resolution=2)\n",
        "tdata.values"
      ],
      "outputs": [
        {
          "data": {
            "text/plain": [
              "array([[ 3.,  5.,  7.],\n",
              "       [15., 17., 19.]], dtype=float32)"
            ]
          },
          "execution_count": 19,
          "metadata": {},
          "output_type": "execute_result"
        }
      ],
      "execution_count": 19
    },
    {
      "metadata": {
        "id": "23Ehe3duZqC3"
      },
      "cell_type": "markdown",
      "source": [
        "We can also upsample track data to get back to 1bp resolution and a sequence of\n",
        "length 4 by repeating values while preserving the sum:"
      ]
    },
    {
      "metadata": {
        "executionInfo": {
          "elapsed": 65,
          "status": "ok",
          "timestamp": 1749822653280,
          "user": {
            "displayName": "",
            "userId": ""
          },
          "user_tz": -60
        },
        "id": "dDi9OWWWZzq_",
        "outputId": "51f3878b-d71e-48f7-f6c7-7a87830704ed"
      },
      "cell_type": "code",
      "source": [
        "tdata = tdata.change_resolution(resolution=1)\n",
        "tdata.values"
      ],
      "outputs": [
        {
          "data": {
            "text/plain": [
              "array([[1.5, 2.5, 3.5],\n",
              "       [1.5, 2.5, 3.5],\n",
              "       [7.5, 8.5, 9.5],\n",
              "       [7.5, 8.5, 9.5]], dtype=float32)"
            ]
          },
          "execution_count": 20,
          "metadata": {},
          "output_type": "execute_result"
        }
      ],
      "execution_count": 20
    },
    {
      "metadata": {
        "id": "Rkne2GEwZ82L"
      },
      "cell_type": "markdown",
      "source": [
        "####  Filtering\n",
        "\n",
        "`track_data.TrackData` objects can be filtered by the\n",
        "type of DNA strand the tracks are on:\n"
      ]
    },
    {
      "metadata": {
        "executionInfo": {
          "elapsed": 71,
          "status": "ok",
          "timestamp": 1749822653638,
          "user": {
            "displayName": "",
            "userId": ""
          },
          "user_tz": -60
        },
        "id": "RoIaGXLtaBbz",
        "outputId": "75db5fc1-a5a6-4798-e26f-9d62443abbeb"
      },
      "cell_type": "code",
      "source": [
        "print(\n",
        "    'Positive strand tracks:',\n",
        "    tdata.filter_to_positive_strand().metadata.name.values,\n",
        ")\n",
        "print(\n",
        "    'Negative strand tracks:',\n",
        "    tdata.filter_to_negative_strand().metadata.name.values,\n",
        ")\n",
        "print('Unstranded tracks:', tdata.filter_to_unstranded().metadata.name.values)"
      ],
      "outputs": [
        {
          "name": "stdout",
          "output_type": "stream",
          "text": [
            "Positive strand tracks: ['track1']\n",
            "Negative strand tracks: ['track1']\n",
            "Unstranded tracks: ['track2']\n"
          ]
        }
      ],
      "execution_count": 21
    },
    {
      "metadata": {
        "id": "xogO-bWVaatH"
      },
      "cell_type": "markdown",
      "source": [
        "#### Resizing\n",
        "\n",
        "We can resize the `track_data.TrackData` to be either\n",
        "smaller (by cropping):"
      ]
    },
    {
      "metadata": {
        "executionInfo": {
          "elapsed": 61,
          "status": "ok",
          "timestamp": 1749822654145,
          "user": {
            "displayName": "",
            "userId": ""
          },
          "user_tz": -60
        },
        "id": "clj536M9abBp",
        "outputId": "f7819f36-70c7-4b78-cb04-b0e2e030ff6e"
      },
      "cell_type": "code",
      "source": [
        "# Re-instantiating the original trackdata.\n",
        "tdata = track_data.TrackData(\n",
        "    values=values, metadata=metadata, resolution=1, interval=interval\n",
        ")\n",
        "\n",
        "# Resize from width (sequence length) of 4 down to 2.\n",
        "tdata.resize(width=2).values"
      ],
      "outputs": [
        {
          "data": {
            "text/plain": [
              "array([[3., 4., 5.],\n",
              "       [6., 7., 8.]], dtype=float32)"
            ]
          },
          "execution_count": 22,
          "metadata": {},
          "output_type": "execute_result"
        }
      ],
      "execution_count": 22
    },
    {
      "metadata": {
        "id": "wl3aNKu-akaO"
      },
      "cell_type": "markdown",
      "source": [
        "Or bigger (by padding with zeros):\n"
      ]
    },
    {
      "metadata": {
        "executionInfo": {
          "elapsed": 61,
          "status": "ok",
          "timestamp": 1749822654456,
          "user": {
            "displayName": "",
            "userId": ""
          },
          "user_tz": -60
        },
        "id": "pHWZRppBaeC1",
        "outputId": "087a212d-ca6f-4490-fe59-408e9a157ee2"
      },
      "cell_type": "code",
      "source": [
        "tdata.resize(width=8).values"
      ],
      "outputs": [
        {
          "data": {
            "text/plain": [
              "array([[ 0.,  0.,  0.],\n",
              "       [ 0.,  0.,  0.],\n",
              "       [ 0.,  1.,  2.],\n",
              "       [ 3.,  4.,  5.],\n",
              "       [ 6.,  7.,  8.],\n",
              "       [ 9., 10., 11.],\n",
              "       [ 0.,  0.,  0.],\n",
              "       [ 0.,  0.,  0.]], dtype=float32)"
            ]
          },
          "execution_count": 23,
          "metadata": {},
          "output_type": "execute_result"
        }
      ],
      "execution_count": 23
    },
    {
      "metadata": {
        "id": "SRkggBayar2r"
      },
      "cell_type": "markdown",
      "source": [
        "#### Slicing\n",
        "\n",
        "We can slice into specific positions of the\n",
        "`track_data.TrackData`:"
      ]
    },
    {
      "metadata": {
        "executionInfo": {
          "elapsed": 56,
          "status": "ok",
          "timestamp": 1749822654784,
          "user": {
            "displayName": "",
            "userId": ""
          },
          "user_tz": -60
        },
        "id": "yHcMdzN1amMz",
        "outputId": "73a293d2-279c-4709-b79c-cfd24235e19d"
      },
      "cell_type": "code",
      "source": [
        "# Get the final 2 positions only.\n",
        "print('slice by position: ', tdata.slice_by_positions(start=2, end=4).values)\n",
        "# Same, but using slice_interval:\n",
        "print(\n",
        "    'slice by interval: ',\n",
        "    tdata.slice_by_interval(\n",
        "        genome.Interval(chromosome='chr1', start=1_002, end=1_004)\n",
        "    ).values,\n",
        ")"
      ],
      "outputs": [
        {
          "name": "stdout",
          "output_type": "stream",
          "text": [
            "slice by position:  [[ 6.  7.  8.]\n",
            " [ 9. 10. 11.]]\n",
            "slice by interval:  [[ 6.  7.  8.]\n",
            " [ 9. 10. 11.]]\n"
          ]
        }
      ],
      "execution_count": 24
    },
    {
      "metadata": {
        "id": "p1OiFpXGa-Ja"
      },
      "cell_type": "markdown",
      "source": [
        "#### Subsetting tracks\n",
        "\n",
        "Subset (and reorder) to specific track names:"
      ]
    },
    {
      "metadata": {
        "executionInfo": {
          "elapsed": 63,
          "status": "ok",
          "timestamp": 1749822655084,
          "user": {
            "displayName": "",
            "userId": ""
          },
          "user_tz": -60
        },
        "id": "_l9bKsuvaxtu",
        "outputId": "abed781e-42d7-4c55-85fe-754ac8351905"
      },
      "cell_type": "code",
      "source": [
        "# Get only tracks with the name 'track1'.\n",
        "track1_tdata = tdata.select_tracks_by_name(names='track1')\n",
        "track1_tdata.values"
      ],
      "outputs": [
        {
          "data": {
            "text/plain": [
              "array([[ 0.,  1.],\n",
              "       [ 3.,  4.],\n",
              "       [ 6.,  7.],\n",
              "       [ 9., 10.]], dtype=float32)"
            ]
          },
          "execution_count": 25,
          "metadata": {},
          "output_type": "execute_result"
        }
      ],
      "execution_count": 25
    },
    {
      "metadata": {
        "id": "bdTrjm4pbLIC"
      },
      "cell_type": "markdown",
      "source": [
        "The metadata gets automatically filtered to `track1` too:\n"
      ]
    },
    {
      "metadata": {
        "executionInfo": {
          "elapsed": 58,
          "status": "ok",
          "timestamp": 1749822655417,
          "user": {
            "displayName": "",
            "userId": ""
          },
          "user_tz": -60
        },
        "id": "aErYz_nRbCID",
        "outputId": "59679dd0-7f08-44d9-dfb8-3f5a34e7380c"
      },
      "cell_type": "code",
      "source": [
        "track1_tdata.metadata.name.values"
      ],
      "outputs": [
        {
          "data": {
            "text/plain": [
              "array(['track1', 'track1'], dtype=object)"
            ]
          },
          "execution_count": 26,
          "metadata": {},
          "output_type": "execute_result"
        }
      ],
      "execution_count": 26
    },
    {
      "metadata": {
        "id": "lgprEnpIbPtR"
      },
      "cell_type": "markdown",
      "source": [
        "Finally, if we pass in a stranded `genome.Interval` or\n",
        "leave unspecified as `None` when constructing a\n",
        "`track_data.TrackData`, we can reverse complement\n",
        "transform our track values in a strand-aware manner:\n"
      ]
    },
    {
      "metadata": {
        "executionInfo": {
          "elapsed": 58,
          "status": "ok",
          "timestamp": 1749822655727,
          "user": {
            "displayName": "",
            "userId": ""
          },
          "user_tz": -60
        },
        "id": "HeZXB4K3bMyJ",
        "outputId": "1d6250e5-f1c3-471a-b347-c73664d056a5"
      },
      "cell_type": "code",
      "source": [
        "interval = genome.Interval(\n",
        "    chromosome='chr1', start=1_000, end=1_004, strand='+'\n",
        ")\n",
        "\n",
        "tdata = track_data.TrackData(\n",
        "    values=values, metadata=metadata, resolution=1, interval=interval\n",
        ")\n",
        "\n",
        "tdata.reverse_complement().values"
      ],
      "outputs": [
        {
          "data": {
            "text/plain": [
              "array([[10.,  9., 11.],\n",
              "       [ 7.,  6.,  8.],\n",
              "       [ 4.,  3.,  5.],\n",
              "       [ 1.,  0.,  2.]], dtype=float32)"
            ]
          },
          "execution_count": 27,
          "metadata": {},
          "output_type": "execute_result"
        }
      ],
      "execution_count": 27
    },
    {
      "metadata": {
        "id": "Hb8duvxibcXW"
      },
      "cell_type": "markdown",
      "source": [
        "### Variant scoring output\n",
        "\n",
        "# \u003ca href=\"https://services.google.com/fh/files/misc/anndata.png\"\u003e\u003cimg src=\"https://services.google.com/fh/files/misc/anndata.png\" alt=\"anndata\" border=\"0\" height=500\u003e\u003c/a\u003e\n",
        "\n",
        "The output of variant scoring is in `anndata.AnnData` format, which is a\n",
        "way of scoring data together with annotation metadata. Originally developed in\n",
        "the single-cell RNA-seq field, `anndata.AnnData` is useful when you have\n",
        "metadata associated with an array of data.\n",
        "\n",
        "`anndata.AnnData` objects have the following properties (using\n",
        "`variant_scores` as an example `anndata.AnnData` object):\n",
        "\n",
        "*   `variant_scores.X` contains a `numpy.ndarray` containing the variant\n",
        "    scores per each gene in the region. This matrix has shape (`num_genes`,\n",
        "    `num_tracks`), where `num_tracks` is the number of output tracks in your\n",
        "    requested OutputType (such as `RNA_SEQ`, `DNASE`, etc.). Note that if you\n",
        "    did not use a gene-centric scorer, then `variant_scores.X` will have shape\n",
        "    (1, `num_tracks`), reflecting the fact that the variant has a single global\n",
        "    score and not per-gene score.\n",
        "*   `variant_scores.var` contains the track metadata as a\n",
        "    `pandas.DataFrame`. For every track in the scores (`num_genes`,\n",
        "    `num_tracks`), there will be a row in the track metadata explaining the\n",
        "    track (its cell type, strand, etc.).\n",
        "*   `variant_scores.obs` contains the gene metadata as a\n",
        "    `pandas.DataFrame`. Note that the gene metadata is None in the case\n",
        "    of non gene-centric variant scorers.\n",
        "*   `variant_scores.uns` contains some additional unstructured metadata that\n",
        "    logs the origin of the variant scores, namely:\n",
        "    *   The `genome.Variant` that was scored\n",
        "        (variant\\_scores.uns\\[‘variant’\\])\n",
        "    *   The `genome.Interval` containing the interval\n",
        "        (variant\\_scores.uns\\[‘interval’\\])\n",
        "    *   The [`variant scorer`](https://www.alphagenomedocs.com/api/models.html#variant-scorers) that was used to\n",
        "        generate the scores (variant\\_scores.uns\\[‘scorer’\\])"
      ]
    },
    {
      "metadata": {
        "id": "wxew4DE0bmLO"
      },
      "cell_type": "markdown",
      "source": [
        "#### From scratch\n",
        "\n",
        "You are unlikely to need to create an `anndata.AnnData` object from\n",
        "scratch, but just for reference, here is how it would be done:"
      ]
    },
    {
      "metadata": {
        "id": "e3jeE3HVbpof"
      },
      "cell_type": "code",
      "source": [
        "import anndata\n",
        "import numpy as np\n",
        "import pandas as pd\n",
        "\n",
        "# Creating a small matrix of variant scores (3 genes x 2 tracks).\n",
        "scores = np.array([[0.1, 0.2], [0.3, 0.4], [0.5, 0.6]])\n",
        "\n",
        "gene_metadata = pd.DataFrame({'gene_id': ['ENSG0001', 'ENSG0002', 'ENSG0003']})\n",
        "\n",
        "track_metadata = pd.DataFrame(\n",
        "    {'name': ['track1', 'track2'], 'strand': ['+', '-']}\n",
        ")\n",
        "\n",
        "variant_scores = anndata.AnnData(\n",
        "    X=scores, obs=gene_metadata, var=track_metadata\n",
        ")"
      ],
      "outputs": [],
      "execution_count": null
    },
    {
      "metadata": {
        "id": "7IHNdc_BbttW"
      },
      "cell_type": "markdown",
      "source": [
        "## Methods: making predictions\n",
        "\n",
        "The main commands for making model predictions are:\n",
        "\n",
        "*   `dna_client.DnaClient.predict_sequence` to predict\n",
        "    from a raw DNA string\n",
        "*   `dna_client.DnaClient.predict_interval` to predict\n",
        "    from a genome interval (a `genome.Interval`)\n",
        "*   `dna_client.DnaClient.predict_variant` to make\n",
        "    predictions for ref and alt sequences of a variant (a\n",
        "    `genome.Variant` object)\n",
        "*   `dna_client.DnaClient.score_variant` to score the\n",
        "    effects of a variant by comparing ref and alt predictions.\n",
        "*   `dna_client.DnaClient.score_variants` the same as\n",
        "    the above, but for scoring a list of multiple variants.\n"
      ]
    },
    {
      "metadata": {
        "id": "lJ17YLKRQ6nq"
      },
      "cell_type": "code",
      "source": [],
      "outputs": [],
      "execution_count": null
    },
    {
      "metadata": {
        "id": "X10M3ojgbw4a"
      },
      "cell_type": "markdown",
      "source": [
        "## Methods: visualization\n",
        "\n",
        "The main command for visualizing model predictions is:\n",
        "\n",
        "*   `alphagenome.visualization.plot_components.plot`, to turn a list of\n",
        "    of [plot components](https://www.alphagenomedocs.com/api/visualization.html#plot-components) into a\n",
        "    `matplotlib.figure.Figure`.\n",
        "\n",
        "See the [visualization basics guide](https://www.alphagenomedocs.com/visualization_library_basics.html) and [visualizing predictions tutorial](https://www.alphagenomedocs.com/colabs/visualization_modality_tour.html) for more details."
      ]
    }
  ],
  "metadata": {
    "colab": {
      "last_runtime": {},
      "provenance": [
        {
          "file_id": "1hJ2uMZ3sA8pu_UvSNikENLECC-X5XrR8",
          "timestamp": 1749822158925
        }
      ]
    },
    "kernelspec": {
      "display_name": "Python 3",
      "name": "python3"
    },
    "language_info": {
      "name": "python"
    }
  },
  "nbformat": 4,
  "nbformat_minor": 0
}
