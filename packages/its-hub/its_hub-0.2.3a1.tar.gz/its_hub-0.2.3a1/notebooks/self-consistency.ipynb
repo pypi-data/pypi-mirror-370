{
 "cells": [
  {
   "cell_type": "markdown",
   "id": "f3173b95",
   "metadata": {},
   "source": [
    "# Self-Consistency Algorithm Demo\n",
    "This notebook demonstrates the Self-Consistency algorithm for mathematical reasoning."
   ]
  },
  {
   "cell_type": "code",
   "execution_count": null,
   "id": "e1bb7fd6",
   "metadata": {},
   "outputs": [],
   "source": [
    "%load_ext autoreload\n",
    "%autoreload 2"
   ]
  },
  {
   "cell_type": "code",
   "execution_count": null,
   "id": "baaccb40",
   "metadata": {},
   "outputs": [],
   "source": [
    "from its_hub.utils import SAL_STEP_BY_STEP_SYSTEM_PROMPT\n",
    "from its_hub.lms import OpenAICompatibleLanguageModel\n",
    "\n",
    "lm = OpenAICompatibleLanguageModel(\n",
    "    endpoint=\"http://localhost:1234/v1\", \n",
    "    api_key=\"NO_API_KEY\", \n",
    "    model_name=\"qwen2-math-1.5b-instruct:2\", \n",
    "    system_prompt=SAL_STEP_BY_STEP_SYSTEM_PROMPT, \n",
    ")\n",
    "# Mathematical problem to solve\n",
    "prompt = r\"Let $a$ be a positive real number such that all the roots of \\[x^3 + ax^2 + ax + 1 = 0\\]are real. Find the smallest possible value of $a.$\"\n",
    "\n",
    "response = lm.generate(prompt)\n",
    "\n",
    "print(response)"
   ]
  },
  {
   "cell_type": "code",
   "execution_count": null,
   "id": "14efd7c4",
   "metadata": {},
   "outputs": [],
   "source": [
    "def extract_boxed(s: str) -> str:\n",
    "    import re\n",
    "    # find all occurrences of \\boxed{...}\n",
    "    boxed_matches = re.findall(r'\\\\boxed\\{([^{}]+(?:\\{[^{}]*\\}[^{}]*)*)\\}', s)\n",
    "    # return the last match if any were found\n",
    "    return boxed_matches[-1] if boxed_matches else \"\"\n",
    "    \n",
    "extract_boxed(response)"
   ]
  },
  {
   "cell_type": "markdown",
   "id": "251b16a2",
   "metadata": {},
   "source": [
    "## Self-Consistency Algorithm\n",
    "Now we'll use the Self-Consistency algorithm to improve the answer quality."
   ]
  },
  {
   "cell_type": "code",
   "execution_count": null,
   "id": "bc349429",
   "metadata": {},
   "outputs": [],
   "source": [
    "from its_hub.algorithms import SelfConsistency\n",
    "\n",
    "# Set computational budget for scaling\n",
    "budget = 16\n",
    "\n",
    "scaling_alg = SelfConsistency(extract_boxed)\n",
    "\n",
    "scaling_result = scaling_alg.infer(\n",
    "    lm, prompt, budget, show_progress=True, return_response_only=False\n",
    ")\n",
    "\n",
    "print(scaling_result.the_one)"
   ]
  },
  {
   "cell_type": "code",
   "execution_count": null,
   "id": "e7a93917",
   "metadata": {},
   "outputs": [],
   "source": [
    "scaling_result.response_counts"
   ]
  },
  {
   "cell_type": "code",
   "execution_count": null,
   "id": "26104990",
   "metadata": {},
   "outputs": [],
   "source": []
  }
 ],
 "metadata": {
  "jupytext": {
   "cell_metadata_filter": "-all",
   "notebook_metadata_filter": "all"
  },
  "kernelspec": {
   "display_name": "inference_time_scaling-dev",
   "language": "python",
   "name": "python3"
  },
  "language_info": {
   "codemirror_mode": {
    "name": "ipython",
    "version": 3
   },
   "file_extension": ".py",
   "mimetype": "text/x-python",
   "name": "python",
   "nbconvert_exporter": "python",
   "pygments_lexer": "ipython3",
   "version": "3.11.11"
  }
 },
 "nbformat": 4,
 "nbformat_minor": 5
}
