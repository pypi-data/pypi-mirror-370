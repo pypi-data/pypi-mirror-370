{
  "cells": [
    {
      "cell_type": "markdown",
      "id": "8c3cbe47",
      "metadata": {},
      "source": [
        "<div style=\"background: linear-gradient(to right, #6a11cb, #2575fc); padding: 20px; border-radius: 10px; text-align: center; box-shadow: 0 4px 6px rgba(0,0,0,0.1);\">\n",
        "    <h1 style=\"color: white; margin: 0; font-size: 2.5em; font-weight: 700;\">GAICo: Evaluating Structured Outputs</h1>\n",
        "    <p style=\"color: #e0e0e0; margin-top: 10px; font-style: italic; font-size: 1.2em; text-align: center;\">Automated Plans Evaluation</p>\n",
        "</div>\n",
        "<br>\n",
        "\n",
        "This notebook demonstrates a bare-bones workflow for using the GAICo (GenAI Results Comparator) library for planning.\n",
        "\n",
        "Scenario:\n",
        "\n",
        "1. Inputs: Travel plans which are generated using different models alongside reference plans which are known to be correct.\n",
        "2. Workflow:\n",
        "   - Calculate metric scores for models' responses against the reference.\n",
        "   - Visualize the scores with a bar plot.\n",
        "\n",
        "All plans used in this notebook were picked from [FABLE: A Novel Data-Flow Analysis Benchmark on Procedural Text for Large Language Model Evaluation](https://arxiv.org/abs/2505.24258).\n",
        "\n",
        "The notebook doesn't use the usual pddl-like plans from automated planning, but instead uses travel plans, a downstream application of planning.\n",
        "\n",
        "Author: John Aydin\n"
      ]
    },
    {
      "cell_type": "markdown",
      "id": "8fa4c29a",
      "metadata": {
        "id": "8fa4c29a"
      },
      "source": [
        "## Environment Setup & Imports\n",
        "\n",
        "The cell below adjusts `sys.path` to find the gaico module if run from examples directory. This block is primarily for local execution from the `examples/` folder if gaico is not installed.\n"
      ]
    },
    {
      "cell_type": "code",
      "execution_count": 1,
      "id": "15c36f53",
      "metadata": {
        "id": "15c36f53"
      },
      "outputs": [],
      "source": [
        "import os\n",
        "import sys\n",
        "\n",
        "# Adjust sys.path to find the gaico module if run from examples directory\n",
        "notebook_dir = os.getcwd()  # Get the current working directory of the notebook\n",
        "# Construct the path to the project root (two levels up)\n",
        "project_root = os.path.abspath(os.path.join(notebook_dir, os.pardir, os.pardir))\n",
        "\n",
        "# Add project root to the system path if it's not already there\n",
        "if project_root not in sys.path:\n",
        "    sys.path.insert(0, project_root)\n",
        "    print(f\"Added project root to sys.path: {project_root}\")"
      ]
    },
    {
      "cell_type": "code",
      "execution_count": 2,
      "id": "346fe078",
      "metadata": {
        "colab": {
          "base_uri": "https://localhost:8080/",
          "height": 331
        },
        "id": "346fe078",
        "outputId": "657f94c4-0655-485d-b651-5457d2b50d73"
      },
      "outputs": [],
      "source": [
        "# Import metrics\n",
        "import pandas as pd\n",
        "from gaico.visualize import plot_metric_comparison\n",
        "\n",
        "# Imports for plotting results\n",
        "import numpy as np\n",
        "import matplotlib.pyplot as plt\n",
        "\n",
        "from gaico.metrics.structured import PlanningJaccard, PlanningLCS"
      ]
    },
    {
      "cell_type": "markdown",
      "id": "bc6dac90",
      "metadata": {
        "id": "bc6dac90"
      },
      "source": [
        "## Example 1: Comparing a Single Plan\n",
        "\n",
        "This example shows how to evaluate a single plan against a reference plan on multiple metrics.\n"
      ]
    },
    {
      "cell_type": "code",
      "execution_count": 3,
      "id": "8f1e26f2",
      "metadata": {},
      "outputs": [],
      "source": [
        "# Sample Plans\n",
        "\n",
        "reference_plan = \"'Drive east on Elm Street.', 'Turn right onto America's Cup Avenue/RI 138A.', 'Turn left onto West Marlborough Street.', 'Turn right onto Broadway.', 'Continue for 80 meters or 11-13 seconds.', 'Your destination is on the left.'\"\n",
        "\n",
        "generated_plan = \"'Drive east on Elm Street.', 'Turn right onto America's Cup Avenue/RI 138A.', 'Continue on RI 138A.', 'Turn left onto Rhode Island Avenue.', 'Turn left onto Broadway.', 'Continue for 730 meters or 58-71 seconds.', 'Your destination is on the left.'\""
      ]
    },
    {
      "cell_type": "code",
      "execution_count": 4,
      "id": "7729eec9",
      "metadata": {},
      "outputs": [],
      "source": [
        "# Define metrics\n",
        "\n",
        "jaccard_metric = PlanningJaccard()\n",
        "lcs_metric = PlanningLCS()"
      ]
    },
    {
      "cell_type": "code",
      "execution_count": 5,
      "id": "02b7a00e",
      "metadata": {
        "id": "02b7a00e"
      },
      "outputs": [
        {
          "name": "stdout",
          "output_type": "stream",
          "text": [
            "PlanningJaccard Score: 0.3\n",
            "PlanningLCS Score: 0.42857142857142855\n"
          ]
        }
      ],
      "source": [
        "jaccard_score = jaccard_metric.calculate(generated_plan, reference_plan)\n",
        "lcs_score = lcs_metric.calculate(generated_plan, reference_plan)\n",
        "\n",
        "print(f\"PlanningJaccard Score: {jaccard_score}\")\n",
        "print(f\"PlanningLCS Score: {lcs_score}\")"
      ]
    },
    {
      "cell_type": "markdown",
      "id": "1679d86c",
      "metadata": {
        "id": "1679d86c"
      },
      "source": [
        "### Example 2: Comparing Multiple Plans with Multiple Models\n",
        "\n",
        "This example shows how to evaluate multiple plans from multiple models, and aggregate the results.\n"
      ]
    },
    {
      "cell_type": "code",
      "execution_count": 6,
      "id": "889a619e",
      "metadata": {
        "id": "889a619e"
      },
      "outputs": [],
      "source": [
        "# Defining test cases\n",
        "test_cases = [\n",
        "    {\n",
        "        \"model_name\": \"Model 1\",\n",
        "        \"generated\": \"'Drive east on Elm Street.', 'Turn right onto Cross Street.', 'Bear right onto Thames Street.', 'Turn left onto Coddington Street.', 'Turn right onto Charles Street.', 'Turn left onto Marlborough Street.', 'Turn right onto Broadway.', 'Continue for 80 meters or 11-13 seconds.', 'Your destination is on the left.'\",\n",
        "        \"reference\": \"'Drive east on Elm Street.', 'Turn right onto America's Cup Avenue/RI 138A.', 'Turn left onto West Marlborough Street.', 'Turn right onto Broadway.', 'Continue for 80 meters or 11-13 seconds.', 'Your destination is on the left.'\",\n",
        "    },\n",
        "    {\n",
        "        \"model_name\": \"Model 2\",\n",
        "        \"generated\": \"'Drive east on Elm Street.', 'Turn right onto America's Cup Avenue/RI 138A.', 'Continue on RI 138A.', 'Turn left onto Rhode Island Avenue.', 'Turn left onto Broadway.', 'Continue for 730 meters or 58-71 seconds.', 'Your destination is on the left.'\",\n",
        "        \"reference\": \"'Drive east on Elm Street.', 'Turn right onto America's Cup Avenue/RI 138A.', 'Turn left onto West Marlborough Street.', 'Turn right onto Broadway.', 'Continue for 80 meters or 11-13 seconds.', 'Your destination is on the left.'\",\n",
        "    },\n",
        "    {\n",
        "        \"model_name\": \"Model 1\",\n",
        "        \"generated\": \"'Drive northeast on Clinton Avenue West.', 'Turn right after 195 meters or 20-24 seconds.', 'Turn left after 19 meters or 7-9 seconds.', 'Turn right onto Greene Street Southeast.', 'Turn right onto Randolph Avenue Southeast.', 'Continue for 168 meters or 27-32 seconds.', 'You have arrived at your destination.'\",\n",
        "        \"reference\": \"'Drive northeast on Clinton Avenue West.', 'Turn right onto Jefferson Street South.', 'Turn left onto South Side Square.', 'Turn left onto East Side Square.', 'Turn left onto North Side Square.', 'Continue for 56 meters or 11-14 seconds.', 'You have arrived at your destination.'\",\n",
        "    },\n",
        "    {\n",
        "        \"model_name\": \"Model 2\",\n",
        "        \"generated\": \"'Drive northeast on Clinton Avenue West.', 'Turn right onto Greene Street Southeast.', 'Turn right onto Randolph Avenue Southeast.', 'Continue for 168 meters or 27-32 seconds.', 'You have arrived at your destination.'\",\n",
        "        \"reference\": \"'Drive northeast on Clinton Avenue West.', 'Turn right onto Jefferson Street South.', 'Turn left onto South Side Square.', 'Turn left onto East Side Square.', 'Turn left onto North Side Square.', 'Continue for 56 meters or 11-14 seconds.', 'You have arrived at your destination.'\",\n",
        "    },\n",
        "    {\n",
        "        \"model_name\": \"Model 1\",\n",
        "        \"generated\": \"'Drive west on West 7th Avenue.', 'Turn right onto South Walnut Street.', 'Turn left onto West 4th Avenue/US 160.', 'Turn right onto West Ash Street.', 'Turn left after 179 meters or 21-26 seconds.', 'Continue for 89 meters or 13-16 seconds.', 'Your destination is on the left.'\",\n",
        "        \"reference\": \"'Drive east on West 7th Avenue.', 'Turn left onto South Oak Street.', 'Turn left onto West 4th Avenue/US 160.', 'Turn right onto West Ash Street.', 'Turn left after 179 meters or 21-26 seconds.', 'Continue for 89 meters or 13-16 seconds.', 'Your destination is on the left.'\",\n",
        "    },\n",
        "    {\n",
        "        \"model_name\": \"Model 2\",\n",
        "        \"generated\": \"'Drive east on West 7th Avenue.', 'Turn left onto South Oak Street.', 'Turn left onto West 4th Avenue/US 160.', 'Turn right after 47918 meters or 2072-2532 seconds.', 'Turn right after 199 meters or 20-25 seconds.', 'Continue for 395 meters or 58-70 seconds.', 'Your destination is on the right.'\",\n",
        "        \"reference\": \"'Drive east on West 7th Avenue.', 'Turn left onto South Oak Street.', 'Turn left onto West 4th Avenue/US 160.', 'Turn right onto West Ash Street.', 'Turn left after 179 meters or 21-26 seconds.', 'Continue for 89 meters or 13-16 seconds.', 'Your destination is on the left.'\",\n",
        "    },\n",
        "]"
      ]
    },
    {
      "cell_type": "code",
      "execution_count": 7,
      "id": "ddfebcb2",
      "metadata": {},
      "outputs": [],
      "source": [
        "# Define metrics to use\n",
        "jaccard_metric = PlanningJaccard()\n",
        "lcs_metric = PlanningLCS()"
      ]
    },
    {
      "cell_type": "code",
      "execution_count": 8,
      "id": "df103dda",
      "metadata": {
        "id": "df103dda"
      },
      "outputs": [],
      "source": [
        "results = []\n",
        "\n",
        "# Calculate each metric for each test case.\n",
        "for test_case in test_cases:\n",
        "    jaccard_score = jaccard_metric.calculate(test_case[\"generated\"], test_case[\"reference\"])\n",
        "    lcs_score = lcs_metric.calculate(test_case[\"generated\"], test_case[\"reference\"])\n",
        "\n",
        "    results.extend(\n",
        "        [\n",
        "            {\n",
        "                \"model_name\": test_case[\"model_name\"],\n",
        "                \"metric_name\": \"Jaccard\",\n",
        "                \"score\": jaccard_score,\n",
        "            },\n",
        "            {\n",
        "                \"model_name\": test_case[\"model_name\"],\n",
        "                \"metric_name\": \"LCS\",\n",
        "                \"score\": lcs_score,\n",
        "            },\n",
        "        ]\n",
        "    )"
      ]
    },
    {
      "cell_type": "code",
      "execution_count": 9,
      "id": "70a29b7f",
      "metadata": {
        "id": "70a29b7f"
      },
      "outputs": [
        {
          "data": {
            "application/vnd.microsoft.datawrangler.viewer.v0+json": {
              "columns": [
                {
                  "name": "index",
                  "rawType": "int64",
                  "type": "integer"
                },
                {
                  "name": "model_name",
                  "rawType": "object",
                  "type": "string"
                },
                {
                  "name": "metric_name",
                  "rawType": "object",
                  "type": "string"
                },
                {
                  "name": "score",
                  "rawType": "float64",
                  "type": "float"
                }
              ],
              "ref": "efbb6d29-4a95-4602-a027-83a60eeeabd1",
              "rows": [
                [
                  "0",
                  "Model 1",
                  "Jaccard",
                  "0.36363636363636365"
                ],
                [
                  "1",
                  "Model 1",
                  "LCS",
                  "0.4444444444444444"
                ],
                [
                  "2",
                  "Model 2",
                  "Jaccard",
                  "0.3"
                ],
                [
                  "3",
                  "Model 2",
                  "LCS",
                  "0.42857142857142855"
                ],
                [
                  "4",
                  "Model 1",
                  "Jaccard",
                  "0.16666666666666666"
                ]
              ],
              "shape": {
                "columns": 3,
                "rows": 5
              }
            },
            "text/html": [
              "<div>\n",
              "<style scoped>\n",
              "    .dataframe tbody tr th:only-of-type {\n",
              "        vertical-align: middle;\n",
              "    }\n",
              "\n",
              "    .dataframe tbody tr th {\n",
              "        vertical-align: top;\n",
              "    }\n",
              "\n",
              "    .dataframe thead th {\n",
              "        text-align: right;\n",
              "    }\n",
              "</style>\n",
              "<table border=\"1\" class=\"dataframe\">\n",
              "  <thead>\n",
              "    <tr style=\"text-align: right;\">\n",
              "      <th></th>\n",
              "      <th>model_name</th>\n",
              "      <th>metric_name</th>\n",
              "      <th>score</th>\n",
              "    </tr>\n",
              "  </thead>\n",
              "  <tbody>\n",
              "    <tr>\n",
              "      <th>0</th>\n",
              "      <td>Model 1</td>\n",
              "      <td>Jaccard</td>\n",
              "      <td>0.363636</td>\n",
              "    </tr>\n",
              "    <tr>\n",
              "      <th>1</th>\n",
              "      <td>Model 1</td>\n",
              "      <td>LCS</td>\n",
              "      <td>0.444444</td>\n",
              "    </tr>\n",
              "    <tr>\n",
              "      <th>2</th>\n",
              "      <td>Model 2</td>\n",
              "      <td>Jaccard</td>\n",
              "      <td>0.300000</td>\n",
              "    </tr>\n",
              "    <tr>\n",
              "      <th>3</th>\n",
              "      <td>Model 2</td>\n",
              "      <td>LCS</td>\n",
              "      <td>0.428571</td>\n",
              "    </tr>\n",
              "    <tr>\n",
              "      <th>4</th>\n",
              "      <td>Model 1</td>\n",
              "      <td>Jaccard</td>\n",
              "      <td>0.166667</td>\n",
              "    </tr>\n",
              "  </tbody>\n",
              "</table>\n",
              "</div>"
            ],
            "text/plain": [
              "  model_name metric_name     score\n",
              "0    Model 1     Jaccard  0.363636\n",
              "1    Model 1         LCS  0.444444\n",
              "2    Model 2     Jaccard  0.300000\n",
              "3    Model 2         LCS  0.428571\n",
              "4    Model 1     Jaccard  0.166667"
            ]
          },
          "execution_count": 9,
          "metadata": {},
          "output_type": "execute_result"
        }
      ],
      "source": [
        "df = pd.DataFrame(results)\n",
        "df.head()\n",
        "\n",
        "# Optionally, save results\n",
        "# df.to_csv('model_comparison.csv')"
      ]
    },
    {
      "cell_type": "code",
      "execution_count": 10,
      "id": "5d8cd621",
      "metadata": {
        "id": "5d8cd621"
      },
      "outputs": [
        {
          "data": {
            "image/png": "[encoded data removed]",
            "text/plain": [
              "<Figure size 600x500 with 1 Axes>"
            ]
          },
          "metadata": {},
          "output_type": "display_data"
        }
      ],
      "source": [
        "# Plotting aggregated Jaccard similarity results\n",
        "ax = plot_metric_comparison(\n",
        "    df,\n",
        "    aggregate_func=np.mean,\n",
        "    metric_name=\"Jaccard\",\n",
        "    title=\"Planning Metrics Comparison: Jaccard\",\n",
        "    figsize=(6, 5),\n",
        ")\n",
        "\n",
        "plt.show()"
      ]
    },
    {
      "cell_type": "code",
      "execution_count": 11,
      "id": "19d3b622",
      "metadata": {
        "id": "19d3b622"
      },
      "outputs": [
        {
          "data": {
            "image/png": "[encoded data removed]",
            "text/plain": [
              "<Figure size 600x500 with 1 Axes>"
            ]
          },
          "metadata": {},
          "output_type": "display_data"
        }
      ],
      "source": [
        "# Plotting aggregated LCS scores\n",
        "\n",
        "ax = plot_metric_comparison(\n",
        "    df,\n",
        "    aggregate_func=np.mean,\n",
        "    metric_name=\"LCS\",\n",
        "    title=\"Planning Metrics Comparison: LCS\",\n",
        "    figsize=(6, 5),\n",
        ")\n",
        "\n",
        "plt.show()"
      ]
    }
  ],
  "metadata": {
    "colab": {
      "provenance": []
    },
    "kernelspec": {
      "display_name": "gaico",
      "language": "python",
      "name": "python3"
    },
    "language_info": {
      "codemirror_mode": {
        "name": "ipython",
        "version": 3
      },
      "file_extension": ".py",
      "mimetype": "text/x-python",
      "name": "python",
      "nbconvert_exporter": "python",
      "pygments_lexer": "ipython3",
      "version": "3.12.10"
    }
  },
  "nbformat": 4,
  "nbformat_minor": 5
}
