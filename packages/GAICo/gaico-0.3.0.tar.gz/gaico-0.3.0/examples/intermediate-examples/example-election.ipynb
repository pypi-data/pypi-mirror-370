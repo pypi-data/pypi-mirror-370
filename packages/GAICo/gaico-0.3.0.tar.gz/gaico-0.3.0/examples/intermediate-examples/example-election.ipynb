{
  "cells": [
    {
      "cell_type": "markdown",
      "id": "67cb01bf",
      "metadata": {
        "id": "67cb01bf"
      },
      "source": [
        "<div style=\"background: linear-gradient(to right, #4b6cb7, #182848); padding: 20px; border-radius: 10px; text-align: center; box-shadow: 0 4px 6px rgba(0,0,0,0.1);\">\n",
        "    <h1 style=\"color: white; margin: 0; font-size: 2.5em; font-weight: 700;\">GAICo: GenAI Results Comparator</h1>\n",
        "    <p style=\"color: #e0e0e0; margin-top: 10px; font-style: italic; font-size: 1.2em; text-align: center;\">Example: Election</p>\n",
        "</div>\n",
        "<br>\n",
        "\n",
        "This notebook demonstrates an example of using the **GAICo (GenAI Results Comparator)** library on the election domain.\n",
        "\n",
        "Data is taken from [On safe and usable chatbots for promoting voter participation](https://onlinelibrary.wiley.com/doi/full/10.1002/aaai.12109).\n",
        "\n",
        "Author: Bharath Muppasani\n",
        "\n",
        "**Scenario:**\n",
        "\n",
        "1.  **Inputs:** Responses from different models, to various questions related to election.\n",
        "2.  **Metrics:** We'll use the Jaccard metric from the GAICo package.\n",
        "3.  **Workflow:**\n",
        "    - Calculate the metric score for the model's response against the reference.\n",
        "    - Generate a CSV report summarizing the results.\n",
        "    - Visualize the scores with a bar plot.\n"
      ]
    },
    {
      "cell_type": "markdown",
      "id": "b08e1db1",
      "metadata": {
        "id": "b08e1db1"
      },
      "source": [
        "## Environment Setup & Imports\n",
        "\n",
        "The cell below adjusts `sys.path` to find the gaico module if run from examples directory.\n",
        "This block is primarily for local execution from the `examples/` folder if gaico is not installed.\n",
        "\n",
        "In Colab however, after pip install, gaico should be importable directly."
      ]
    },
    {
      "cell_type": "code",
      "execution_count": 1,
      "id": "c2a9ad4a",
      "metadata": {
        "id": "c2a9ad4a"
      },
      "outputs": [],
      "source": [
        "# To import `gaico` from the project root, we need to ensure the path is set correctly.\n",
        "# If this script is run as a standalone file, it will add the project root to the system path.\n",
        "\n",
        "import sys\n",
        "import os\n",
        "\n",
        "notebook_dir = os.getcwd()  # Get the current working directory of the notebook\n",
        "# Construct the path to the project root (two levels up)\n",
        "project_root = os.path.abspath(os.path.join(notebook_dir, os.pardir, os.pardir))\n",
        "\n",
        "# Add project root to the system path if it's not already there\n",
        "if project_root not in sys.path:\n",
        "    sys.path.insert(0, project_root)\n",
        "    print(f\"Added project root to sys.path: {project_root}\")"
      ]
    },
    {
      "cell_type": "code",
      "execution_count": 2,
      "id": "1b487794",
      "metadata": {
        "colab": {
          "base_uri": "https://localhost:8080/"
        },
        "id": "1b487794",
        "outputId": "1d5c0060-2e7b-4c61-b87c-f3409f078a5c"
      },
      "outputs": [
        {
          "name": "stdout",
          "output_type": "stream",
          "text": [
            "GAICo and necessary libraries imported.\n"
          ]
        }
      ],
      "source": [
        "import matplotlib.pyplot as plt  # For plotting\n",
        "import pandas as pd\n",
        "\n",
        "# GAICo library imports\n",
        "from gaico.metrics import JaccardSimilarity  # The chosen metric\n",
        "from gaico import (\n",
        "    apply_thresholds,  # For applying pass/fail thresholds\n",
        "    plot_metric_comparison,  # For bar plot visualization\n",
        "    generate_deltas_frame,  # For creating a CSV report\n",
        ")\n",
        "\n",
        "\n",
        "print(\"GAICo and necessary libraries imported.\")"
      ]
    },
    {
      "cell_type": "markdown",
      "id": "46602673",
      "metadata": {
        "id": "46602673"
      },
      "source": [
        "## Define Inputs: LLM Responses and Reference\n",
        "\n",
        "The finance data is from [On safe and usable chatbots for promoting voter participation](https://onlinelibrary.wiley.com/doi/full/10.1002/aaai.12109).\n",
        "\n",
        "For this notebook's purpose, we read the data file from `GenAIResultsComparator/examples/data/election/SC-Election-Data-April2022-AI-Comparison.csv`."
      ]
    },
    {
      "cell_type": "code",
      "execution_count": 3,
      "id": "d6e025bd",
      "metadata": {
        "colab": {
          "base_uri": "https://localhost:8080/",
          "height": 293
        },
        "id": "d6e025bd",
        "outputId": "37d150de-6be1-4bb4-ea6f-16930ae04d4e"
      },
      "outputs": [
        {
          "data": {
            "application/vnd.microsoft.datawrangler.viewer.v0+json": {
              "columns": [
                {
                  "name": "index",
                  "rawType": "int64",
                  "type": "integer"
                },
                {
                  "name": "Question",
                  "rawType": "object",
                  "type": "string"
                },
                {
                  "name": "Answer",
                  "rawType": "object",
                  "type": "string"
                },
                {
                  "name": "ChatGPT-4o",
                  "rawType": "object",
                  "type": "unknown"
                },
                {
                  "name": "Gemini 2.5 Flash",
                  "rawType": "object",
                  "type": "string"
                }
              ],
              "ref": "b9ef6990-4c23-4a3d-b0ea-4d059944a46a",
              "rows": [
                [
                  "0",
                  "It is past the voter registration deadline and I havent updated my registration.  Can I still vote?",
                  "If you\n\n\n\nmoved to another residence within your precinct, you can update your address at your polling place and vote a regular ballot.\nmoved to a different precinct within your county, you are eligible vote Failsafe (see below).\nmoved to another residence in another county within 30 days of the election, you are eligible to vote Failsafe (see below).\nmoved to another residence in another county prior to the October 9 registration deadline, you are not eligible to vote. State law requires you to be registered prior to the deadline to be eligible to vote.\nmoved to South Carolina after the October 9 registration deadline, you are not eligible to vote. State law requires you to be registered prior to the deadline to be eligible to vote.\n\n\n\nTwo Options for Voting Failsafe:\n\nVote at the polling place in your previous precinct using a failsafe provisional ballot. A failsafe provisional ballot contains only federal, statewide, countywide, and municipality-wide offices.\nGo to the voter registration office in the county in which you currently reside, change your address, and vote a regular ballot there.",
                  "No, you typically cannot vote if you're not registered by the deadline.",
                  "Generally, no. Registration deadlines are strict."
                ],
                [
                  "1",
                  "What offices, candidates and questions are on my ballot?",
                  "The offices, candidates and questions on a particular ballot will vary depending on the county and districts in which you reside.\nTo see what will appear on your ballot, check your sample ballot at scVOTES.gov.\n(https://vrems.scvotes.sc.gov/Voter/Login?PageMode=Sampleballot)\n",
                  null,
                  "Check your state or local election office website or nonpartisan sites like Vote411.org or Ballotpedia."
                ],
                [
                  "2",
                  "How and where can I vote early in person?",
                  "Visit an early voting center in your county during the early voting period and vote in person like you would at your polling place on election day. Remember to bring your Photo ID when checking in to vote.\n(https://scvotes.gov/voters/early-voting/)\n\n(https://scvotes.gov/voters/photo-id-requirements/)\n",
                  "Usually at designated early voting sites listed by your local election office.",
                  "Check with your state or local election office; rules vary by state."
                ],
                [
                  "3",
                  "Who can vote absentee?",
                  "State law allows voters with qualifying reasons to vote absentee by mail:\n\nPersons with employment obligations which prevent them from voting during early voting hours for the duration of the early voting period, and during the hours the polls are open on election day.\nPersons attending a sick or physically disabled person which prevents them from voting during early voting hours for the duration of the early voting period, and during the hours the polls are open on election day.\nPersons confined to a jail or pretrial facility pending disposition of arrest or trial which prevents them from voting during early voting hours for the duration of the early voting period, and during the hours the polls are open on election day.\nPersons who will be absent from their county of residence during early voting hours for the duration of the early voting period, and during the hours the polls are open on election day.\nPersons with physical disabilities.\nPersons sixty-five years of age or older.\nMembers of the Armed Forces and Merchant Marines of the United States, their spouses, and dependents residing with them (Learn more about procedures related to Military and Overseas Citizens).\nPersons admitted to a hospital as an emergency patient on the day of the election or within a four-day period before the election (see additional details below).\n(https://scvotes.gov/voters/military-overseas-citizens/)\n",
                  "Request a ballot, fill it out, and return it by mail or drop-off by the deadline.",
                  "Eligibility varies by state; some require an excuse, others allow no-excuse absentee voting."
                ],
                [
                  "4",
                  "How can I vote absentee?",
                  "Step 1:  Get your application\n\nCall, visit or send your request for an absentee application by U.S. mail to your county voter registration office.\nYou must provide your name, date of birth and last four digits of your Social Security Number.\nYou will be sent an application.\nVisit the absentee voting page on scVOTES to see on how Immediate Family Members and Authorized Representatives can request a voters application.\n\nStep 2:  Complete, sign and return the application\n\nReturn the application by U.S. mail or personal delivery to your county voter registration office as soon as possible.\nThe deadline to return your application for the 2022 General Election is 5:00 p.m., October 28 (11 days prior to election day).\nVisit the absentee voting page on scVOTES to find more information on how Immediate Family Members and Authorized Representatives can return a voters application.\n\nStep 3:  Receive your absentee ballot in the mail\n\nVoters who have applied early will be mailed their absentee ballot approximately 30 days before the election.\n\nStep 4:  Vote and return the ballot\n\nReturn your ballot to your county voter registration office or an early voting center either by mail or personal delivery.\nMust present Photo ID when returning the ballot return envelope.\nAcceptable Photo IDs:\n\nDrivers license issued by a state within the United States.\nAnother form of identification containing a photograph issued by the Department of Motor Vehicles or its equivalent by a state within the United States.\nPassport.\nMilitary identification containing a photograph issued by the federal government.\nSouth Carolina voter registration card containing a photograph of the voter.\n\n\nPlace the ballot in the ballot here-in envelope and place the ballot here-in envelope in the return envelope.\nBe sure to sign the voters oath and have your signature witnessed.  Anyone age 18 or older can witness your signature.  A notary is not necessary.\nBallots must be received by the county voter registration office by 7:00 p.m. on election day.\nBallots returned by mail should be mailed no later than one week prior to election day to help ensure timely delivery.\nVisit the absentee voting page on scVOTES to find more information on how Immediate Family Members and Authorized Representatives can return a voters ballot.\n(https://scvotes.gov/contact/county-voter-registration-election-offices/)\n\n(https://scvotes.gov/voters/absentee-voting/)\n\n(https://scvotes.gov/contact/county-voter-registration-election-offices/)\n\n(https://scvotes.gov/voters/absentee-voting/)\n\n(https://scvotes.gov/contact/county-voter-registration-election-offices/)\n\n(https://scvotes.gov/voters/photo-id-requirements/)\n\n(https://scvotes.gov/contact/county-voter-registration-election-offices/)\n\n(https://scvotes.gov/voters/absentee-voting/)\n",
                  "Request a ballot, fill it out, and return it by mail or drop-off by the deadline.",
                  "Request an absentee ballot from your state or local election office and follow their instructions for completion and return."
                ]
              ],
              "shape": {
                "columns": 4,
                "rows": 5
              }
            },
            "text/html": [
              "<div>\n",
              "<style scoped>\n",
              "    .dataframe tbody tr th:only-of-type {\n",
              "        vertical-align: middle;\n",
              "    }\n",
              "\n",
              "    .dataframe tbody tr th {\n",
              "        vertical-align: top;\n",
              "    }\n",
              "\n",
              "    .dataframe thead th {\n",
              "        text-align: right;\n",
              "    }\n",
              "</style>\n",
              "<table border=\"1\" class=\"dataframe\">\n",
              "  <thead>\n",
              "    <tr style=\"text-align: right;\">\n",
              "      <th></th>\n",
              "      <th>Question</th>\n",
              "      <th>Answer</th>\n",
              "      <th>ChatGPT-4o</th>\n",
              "      <th>Gemini 2.5 Flash</th>\n",
              "    </tr>\n",
              "  </thead>\n",
              "  <tbody>\n",
              "    <tr>\n",
              "      <th>0</th>\n",
              "      <td>It is past the voter registration deadline and...</td>\n",
              "      <td>If you\\n\\n\\n\\nmoved to another residence withi...</td>\n",
              "      <td>No, you typically cannot vote if you're not re...</td>\n",
              "      <td>Generally, no. Registration deadlines are strict.</td>\n",
              "    </tr>\n",
              "    <tr>\n",
              "      <th>1</th>\n",
              "      <td>What offices, candidates and questions are on ...</td>\n",
              "      <td>The offices, candidates and questions on a par...</td>\n",
              "      <td>NaN</td>\n",
              "      <td>Check your state or local election office webs...</td>\n",
              "    </tr>\n",
              "    <tr>\n",
              "      <th>2</th>\n",
              "      <td>How and where can I vote early in person?</td>\n",
              "      <td>Visit an early voting center in your county du...</td>\n",
              "      <td>Usually at designated early voting sites liste...</td>\n",
              "      <td>Check with your state or local election office...</td>\n",
              "    </tr>\n",
              "    <tr>\n",
              "      <th>3</th>\n",
              "      <td>Who can vote absentee?</td>\n",
              "      <td>State law allows voters with qualifying reason...</td>\n",
              "      <td>Request a ballot, fill it out, and return it b...</td>\n",
              "      <td>Eligibility varies by state; some require an e...</td>\n",
              "    </tr>\n",
              "    <tr>\n",
              "      <th>4</th>\n",
              "      <td>How can I vote absentee?</td>\n",
              "      <td>Step 1:  Get your application\\n\\nCall, visit o...</td>\n",
              "      <td>Request a ballot, fill it out, and return it b...</td>\n",
              "      <td>Request an absentee ballot from your state or ...</td>\n",
              "    </tr>\n",
              "  </tbody>\n",
              "</table>\n",
              "</div>"
            ],
            "text/plain": [
              "                                            Question  \\\n",
              "0  It is past the voter registration deadline and...   \n",
              "1  What offices, candidates and questions are on ...   \n",
              "2          How and where can I vote early in person?   \n",
              "3                             Who can vote absentee?   \n",
              "4                           How can I vote absentee?   \n",
              "\n",
              "                                              Answer  \\\n",
              "0  If you\\n\\n\\n\\nmoved to another residence withi...   \n",
              "1  The offices, candidates and questions on a par...   \n",
              "2  Visit an early voting center in your county du...   \n",
              "3  State law allows voters with qualifying reason...   \n",
              "4  Step 1:  Get your application\\n\\nCall, visit o...   \n",
              "\n",
              "                                          ChatGPT-4o  \\\n",
              "0  No, you typically cannot vote if you're not re...   \n",
              "1                                                NaN   \n",
              "2  Usually at designated early voting sites liste...   \n",
              "3  Request a ballot, fill it out, and return it b...   \n",
              "4  Request a ballot, fill it out, and return it b...   \n",
              "\n",
              "                                    Gemini 2.5 Flash  \n",
              "0  Generally, no. Registration deadlines are strict.  \n",
              "1  Check your state or local election office webs...  \n",
              "2  Check with your state or local election office...  \n",
              "3  Eligibility varies by state; some require an e...  \n",
              "4  Request an absentee ballot from your state or ...  "
            ]
          },
          "execution_count": 3,
          "metadata": {},
          "output_type": "execute_result"
        }
      ],
      "source": [
        "# Load the Excel file\n",
        "file_path = os.path.join(\"..\", \"data\", \"election\", \"SC-Election-Data-April2022-AI-Comparison.csv\")\n",
        "df = pd.read_csv(file_path)\n",
        "\n",
        "# Display preview\n",
        "df[[\"Question\", \"Answer\", \"ChatGPT-4o\", \"Gemini 2.5 Flash\"]].head()"
      ]
    },
    {
      "cell_type": "markdown",
      "id": "5a26992b",
      "metadata": {
        "id": "5a26992b"
      },
      "source": [
        "## Initialize and Use the Metric\n",
        "\n",
        "We'll use `JaccardSimilarity` as our evaluation metric. We then calculate the similarity score for each LLM's response compared to our `reference_answer`. The `calculate` method conveniently handles broadcasting the single reference text against the list of generated texts."
      ]
    },
    {
      "cell_type": "code",
      "execution_count": 4,
      "id": "0c47c4a8",
      "metadata": {},
      "outputs": [],
      "source": [
        "# Prepare evaluation\n",
        "metric_instance = JaccardSimilarity()\n",
        "metric_key_name = \"Jaccard\"\n",
        "\n",
        "results = []"
      ]
    },
    {
      "cell_type": "code",
      "execution_count": 5,
      "id": "a3ca5407",
      "metadata": {
        "colab": {
          "base_uri": "https://localhost:8080/",
          "height": 206
        },
        "id": "a3ca5407",
        "outputId": "f61470de-3633-4b0e-ad3b-2564a1bf37bc"
      },
      "outputs": [],
      "source": [
        "for idx, row in df.iterrows():\n",
        "    reference = str(row[\"Answer\"])\n",
        "    model_outputs = {\n",
        "        \"ChatGPT-4o\": str(row.get(\"ChatGPT-4o\", \"\")),\n",
        "        \"Gemini 2.5 Flash\": str(row.get(\"Gemini 2.5 Flash\", \"\")),\n",
        "        \"SafeChat\": reference,  # treating \"Answer\" column as SafeChat baseline\n",
        "    }\n",
        "\n",
        "    for model, response in model_outputs.items():\n",
        "        score = metric_instance.calculate([response], reference)[0]\n",
        "        results.append({\"Question\": row[\"Question\"], \"Model\": model, \"Score\": score})"
      ]
    },
    {
      "cell_type": "code",
      "execution_count": 6,
      "id": "4cc55fbb",
      "metadata": {},
      "outputs": [
        {
          "data": {
            "application/vnd.microsoft.datawrangler.viewer.v0+json": {
              "columns": [
                {
                  "name": "index",
                  "rawType": "int64",
                  "type": "integer"
                },
                {
                  "name": "Question",
                  "rawType": "object",
                  "type": "string"
                },
                {
                  "name": "Model",
                  "rawType": "object",
                  "type": "string"
                },
                {
                  "name": "Score",
                  "rawType": "float64",
                  "type": "float"
                }
              ],
              "ref": "5452364e-06f6-4cd5-b922-d3209ea7dc7f",
              "rows": [
                [
                  "0",
                  "It is past the voter registration deadline and I havent updated my registration.  Can I still vote?",
                  "ChatGPT-4o",
                  "0.07317073170731707"
                ],
                [
                  "1",
                  "It is past the voter registration deadline and I havent updated my registration.  Can I still vote?",
                  "Gemini 2.5 Flash",
                  "0.025"
                ],
                [
                  "2",
                  "It is past the voter registration deadline and I havent updated my registration.  Can I still vote?",
                  "SafeChat",
                  "1.0"
                ],
                [
                  "3",
                  "What offices, candidates and questions are on my ballot?",
                  "ChatGPT-4o",
                  "0.0"
                ],
                [
                  "4",
                  "What offices, candidates and questions are on my ballot?",
                  "Gemini 2.5 Flash",
                  "0.05"
                ]
              ],
              "shape": {
                "columns": 3,
                "rows": 5
              }
            },
            "text/html": [
              "<div>\n",
              "<style scoped>\n",
              "    .dataframe tbody tr th:only-of-type {\n",
              "        vertical-align: middle;\n",
              "    }\n",
              "\n",
              "    .dataframe tbody tr th {\n",
              "        vertical-align: top;\n",
              "    }\n",
              "\n",
              "    .dataframe thead th {\n",
              "        text-align: right;\n",
              "    }\n",
              "</style>\n",
              "<table border=\"1\" class=\"dataframe\">\n",
              "  <thead>\n",
              "    <tr style=\"text-align: right;\">\n",
              "      <th></th>\n",
              "      <th>Question</th>\n",
              "      <th>Model</th>\n",
              "      <th>Score</th>\n",
              "    </tr>\n",
              "  </thead>\n",
              "  <tbody>\n",
              "    <tr>\n",
              "      <th>0</th>\n",
              "      <td>It is past the voter registration deadline and...</td>\n",
              "      <td>ChatGPT-4o</td>\n",
              "      <td>0.073171</td>\n",
              "    </tr>\n",
              "    <tr>\n",
              "      <th>1</th>\n",
              "      <td>It is past the voter registration deadline and...</td>\n",
              "      <td>Gemini 2.5 Flash</td>\n",
              "      <td>0.025000</td>\n",
              "    </tr>\n",
              "    <tr>\n",
              "      <th>2</th>\n",
              "      <td>It is past the voter registration deadline and...</td>\n",
              "      <td>SafeChat</td>\n",
              "      <td>1.000000</td>\n",
              "    </tr>\n",
              "    <tr>\n",
              "      <th>3</th>\n",
              "      <td>What offices, candidates and questions are on ...</td>\n",
              "      <td>ChatGPT-4o</td>\n",
              "      <td>0.000000</td>\n",
              "    </tr>\n",
              "    <tr>\n",
              "      <th>4</th>\n",
              "      <td>What offices, candidates and questions are on ...</td>\n",
              "      <td>Gemini 2.5 Flash</td>\n",
              "      <td>0.050000</td>\n",
              "    </tr>\n",
              "  </tbody>\n",
              "</table>\n",
              "</div>"
            ],
            "text/plain": [
              "                                            Question             Model  \\\n",
              "0  It is past the voter registration deadline and...        ChatGPT-4o   \n",
              "1  It is past the voter registration deadline and...  Gemini 2.5 Flash   \n",
              "2  It is past the voter registration deadline and...          SafeChat   \n",
              "3  What offices, candidates and questions are on ...        ChatGPT-4o   \n",
              "4  What offices, candidates and questions are on ...  Gemini 2.5 Flash   \n",
              "\n",
              "      Score  \n",
              "0  0.073171  \n",
              "1  0.025000  \n",
              "2  1.000000  \n",
              "3  0.000000  \n",
              "4  0.050000  "
            ]
          },
          "execution_count": 6,
          "metadata": {},
          "output_type": "execute_result"
        }
      ],
      "source": [
        "# Convert to DataFrame for analysis\n",
        "scores_df = pd.DataFrame(results)\n",
        "scores_df.head()"
      ]
    },
    {
      "cell_type": "code",
      "execution_count": 7,
      "id": "xkjO8Ye3RTUA",
      "metadata": {
        "colab": {
          "base_uri": "https://localhost:8080/",
          "height": 206
        },
        "id": "xkjO8Ye3RTUA",
        "outputId": "d033dd5f-4e49-4af3-b765-724100ccf8b3"
      },
      "outputs": [
        {
          "data": {
            "application/vnd.microsoft.datawrangler.viewer.v0+json": {
              "columns": [
                {
                  "name": "index",
                  "rawType": "int64",
                  "type": "integer"
                },
                {
                  "name": "Question",
                  "rawType": "object",
                  "type": "string"
                },
                {
                  "name": "ChatGPT-4o",
                  "rawType": "float64",
                  "type": "float"
                },
                {
                  "name": "Gemini 2.5 Flash",
                  "rawType": "float64",
                  "type": "float"
                },
                {
                  "name": "SafeChat",
                  "rawType": "float64",
                  "type": "float"
                }
              ],
              "ref": "287728ae-dc41-4eab-85d2-180a0e86d987",
              "rows": [
                [
                  "0",
                  "A candidate is definitely campaigning while in the polling place, or there is campaign material within 500 feet of the entrance.  What can I do?",
                  "0.10344827586206896",
                  "0.14634146341463414",
                  "1.0"
                ],
                [
                  "1",
                  "A candidate is listed more than once on my ballot.  Is this correct?",
                  "0.07692307692307693",
                  "0.07317073170731707",
                  "1.0"
                ],
                [
                  "2",
                  "Are ballot selfies legal?  Can I take a picture of my ballot and share it with others?",
                  "0.02857142857142857",
                  "0.05128205128205128",
                  "1.0"
                ],
                [
                  "3",
                  "Are there any laws about candidates posting their signs along the roadway?",
                  "0.0625",
                  "0.09615384615384616",
                  "1.0"
                ],
                [
                  "4",
                  "Can I take my child with me to vote?",
                  "0.09523809523809523",
                  "0.037037037037037035",
                  "1.0"
                ]
              ],
              "shape": {
                "columns": 4,
                "rows": 5
              }
            },
            "text/html": [
              "<div>\n",
              "<style scoped>\n",
              "    .dataframe tbody tr th:only-of-type {\n",
              "        vertical-align: middle;\n",
              "    }\n",
              "\n",
              "    .dataframe tbody tr th {\n",
              "        vertical-align: top;\n",
              "    }\n",
              "\n",
              "    .dataframe thead th {\n",
              "        text-align: right;\n",
              "    }\n",
              "</style>\n",
              "<table border=\"1\" class=\"dataframe\">\n",
              "  <thead>\n",
              "    <tr style=\"text-align: right;\">\n",
              "      <th>Model</th>\n",
              "      <th>Question</th>\n",
              "      <th>ChatGPT-4o</th>\n",
              "      <th>Gemini 2.5 Flash</th>\n",
              "      <th>SafeChat</th>\n",
              "    </tr>\n",
              "  </thead>\n",
              "  <tbody>\n",
              "    <tr>\n",
              "      <th>0</th>\n",
              "      <td>A candidate is definitely campaigning while in...</td>\n",
              "      <td>0.103448</td>\n",
              "      <td>0.146341</td>\n",
              "      <td>1.0</td>\n",
              "    </tr>\n",
              "    <tr>\n",
              "      <th>1</th>\n",
              "      <td>A candidate is listed more than once on my bal...</td>\n",
              "      <td>0.076923</td>\n",
              "      <td>0.073171</td>\n",
              "      <td>1.0</td>\n",
              "    </tr>\n",
              "    <tr>\n",
              "      <th>2</th>\n",
              "      <td>Are ballot selfies legal?  Can I take a pictur...</td>\n",
              "      <td>0.028571</td>\n",
              "      <td>0.051282</td>\n",
              "      <td>1.0</td>\n",
              "    </tr>\n",
              "    <tr>\n",
              "      <th>3</th>\n",
              "      <td>Are there any laws about candidates posting th...</td>\n",
              "      <td>0.062500</td>\n",
              "      <td>0.096154</td>\n",
              "      <td>1.0</td>\n",
              "    </tr>\n",
              "    <tr>\n",
              "      <th>4</th>\n",
              "      <td>Can I take my child with me to vote?</td>\n",
              "      <td>0.095238</td>\n",
              "      <td>0.037037</td>\n",
              "      <td>1.0</td>\n",
              "    </tr>\n",
              "  </tbody>\n",
              "</table>\n",
              "</div>"
            ],
            "text/plain": [
              "Model                                           Question  ChatGPT-4o  \\\n",
              "0      A candidate is definitely campaigning while in...    0.103448   \n",
              "1      A candidate is listed more than once on my bal...    0.076923   \n",
              "2      Are ballot selfies legal?  Can I take a pictur...    0.028571   \n",
              "3      Are there any laws about candidates posting th...    0.062500   \n",
              "4                   Can I take my child with me to vote?    0.095238   \n",
              "\n",
              "Model  Gemini 2.5 Flash  SafeChat  \n",
              "0              0.146341       1.0  \n",
              "1              0.073171       1.0  \n",
              "2              0.051282       1.0  \n",
              "3              0.096154       1.0  \n",
              "4              0.037037       1.0  "
            ]
          },
          "execution_count": 7,
          "metadata": {},
          "output_type": "execute_result"
        }
      ],
      "source": [
        "pivot_df = scores_df.pivot(index=\"Question\", columns=\"Model\", values=\"Score\")\n",
        "pivot_df.reset_index(inplace=True)\n",
        "pivot_df.head()"
      ]
    },
    {
      "cell_type": "markdown",
      "id": "8d70675e",
      "metadata": {
        "id": "8d70675e"
      },
      "source": [
        "## Apply Thresholds\n",
        "\n",
        "`GAICo` allows you to apply thresholds to scores to determine a pass/fail status. We'll use the default threshold defined in the library for \"Jaccard\". The `apply_thresholds` function takes a list of dictionaries, where each dictionary contains the metric name and its score."
      ]
    },
    {
      "cell_type": "code",
      "execution_count": 8,
      "id": "4270787e",
      "metadata": {},
      "outputs": [],
      "source": [
        "# Create full threshold input\n",
        "threshold_input_list = [{metric_key_name: row[\"Score\"]} for _, row in scores_df.iterrows()]"
      ]
    },
    {
      "cell_type": "code",
      "execution_count": 9,
      "id": "03cc0d7c",
      "metadata": {
        "colab": {
          "base_uri": "https://localhost:8080/",
          "height": 206
        },
        "id": "03cc0d7c",
        "outputId": "ffbc9bc1-9676-4de7-8bb4-f286b3658f54"
      },
      "outputs": [
        {
          "data": {
            "application/vnd.microsoft.datawrangler.viewer.v0+json": {
              "columns": [
                {
                  "name": "index",
                  "rawType": "int64",
                  "type": "integer"
                },
                {
                  "name": "Question",
                  "rawType": "object",
                  "type": "string"
                },
                {
                  "name": "Model",
                  "rawType": "object",
                  "type": "string"
                },
                {
                  "name": "Score",
                  "rawType": "float64",
                  "type": "float"
                },
                {
                  "name": "Passed_Threshold",
                  "rawType": "bool",
                  "type": "boolean"
                }
              ],
              "ref": "e7b32ac0-444c-446a-ab7b-ec6d37be8bd4",
              "rows": [
                [
                  "0",
                  "It is past the voter registration deadline and I havent updated my registration.  Can I still vote?",
                  "ChatGPT-4o",
                  "0.07317073170731707",
                  "False"
                ],
                [
                  "1",
                  "It is past the voter registration deadline and I havent updated my registration.  Can I still vote?",
                  "Gemini 2.5 Flash",
                  "0.025",
                  "False"
                ],
                [
                  "2",
                  "It is past the voter registration deadline and I havent updated my registration.  Can I still vote?",
                  "SafeChat",
                  "1.0",
                  "True"
                ],
                [
                  "3",
                  "What offices, candidates and questions are on my ballot?",
                  "ChatGPT-4o",
                  "0.0",
                  "False"
                ],
                [
                  "4",
                  "What offices, candidates and questions are on my ballot?",
                  "Gemini 2.5 Flash",
                  "0.05",
                  "False"
                ]
              ],
              "shape": {
                "columns": 4,
                "rows": 5
              }
            },
            "text/html": [
              "<div>\n",
              "<style scoped>\n",
              "    .dataframe tbody tr th:only-of-type {\n",
              "        vertical-align: middle;\n",
              "    }\n",
              "\n",
              "    .dataframe tbody tr th {\n",
              "        vertical-align: top;\n",
              "    }\n",
              "\n",
              "    .dataframe thead th {\n",
              "        text-align: right;\n",
              "    }\n",
              "</style>\n",
              "<table border=\"1\" class=\"dataframe\">\n",
              "  <thead>\n",
              "    <tr style=\"text-align: right;\">\n",
              "      <th></th>\n",
              "      <th>Question</th>\n",
              "      <th>Model</th>\n",
              "      <th>Score</th>\n",
              "      <th>Passed_Threshold</th>\n",
              "    </tr>\n",
              "  </thead>\n",
              "  <tbody>\n",
              "    <tr>\n",
              "      <th>0</th>\n",
              "      <td>It is past the voter registration deadline and...</td>\n",
              "      <td>ChatGPT-4o</td>\n",
              "      <td>0.073171</td>\n",
              "      <td>False</td>\n",
              "    </tr>\n",
              "    <tr>\n",
              "      <th>1</th>\n",
              "      <td>It is past the voter registration deadline and...</td>\n",
              "      <td>Gemini 2.5 Flash</td>\n",
              "      <td>0.025000</td>\n",
              "      <td>False</td>\n",
              "    </tr>\n",
              "    <tr>\n",
              "      <th>2</th>\n",
              "      <td>It is past the voter registration deadline and...</td>\n",
              "      <td>SafeChat</td>\n",
              "      <td>1.000000</td>\n",
              "      <td>True</td>\n",
              "    </tr>\n",
              "    <tr>\n",
              "      <th>3</th>\n",
              "      <td>What offices, candidates and questions are on ...</td>\n",
              "      <td>ChatGPT-4o</td>\n",
              "      <td>0.000000</td>\n",
              "      <td>False</td>\n",
              "    </tr>\n",
              "    <tr>\n",
              "      <th>4</th>\n",
              "      <td>What offices, candidates and questions are on ...</td>\n",
              "      <td>Gemini 2.5 Flash</td>\n",
              "      <td>0.050000</td>\n",
              "      <td>False</td>\n",
              "    </tr>\n",
              "  </tbody>\n",
              "</table>\n",
              "</div>"
            ],
            "text/plain": [
              "                                            Question             Model  \\\n",
              "0  It is past the voter registration deadline and...        ChatGPT-4o   \n",
              "1  It is past the voter registration deadline and...  Gemini 2.5 Flash   \n",
              "2  It is past the voter registration deadline and...          SafeChat   \n",
              "3  What offices, candidates and questions are on ...        ChatGPT-4o   \n",
              "4  What offices, candidates and questions are on ...  Gemini 2.5 Flash   \n",
              "\n",
              "      Score  Passed_Threshold  \n",
              "0  0.073171             False  \n",
              "1  0.025000             False  \n",
              "2  1.000000              True  \n",
              "3  0.000000             False  \n",
              "4  0.050000             False  "
            ]
          },
          "execution_count": 9,
          "metadata": {},
          "output_type": "execute_result"
        }
      ],
      "source": [
        "# Apply thresholds\n",
        "thresholded_results_list = apply_thresholds(threshold_input_list)\n",
        "\n",
        "# Add threshold results to the DataFrame\n",
        "threshold_passed = [\n",
        "    result[metric_key_name][\"passed_threshold\"] for result in thresholded_results_list\n",
        "]\n",
        "scores_df[\"Passed_Threshold\"] = threshold_passed\n",
        "\n",
        "# Preview\n",
        "scores_df.head()"
      ]
    },
    {
      "cell_type": "markdown",
      "id": "a90b6666",
      "metadata": {
        "id": "a90b6666"
      },
      "source": [
        "## Visualize Results\n",
        "\n",
        "To visually compare the performance of the LLMs, we can generate a bar plot."
      ]
    },
    {
      "cell_type": "code",
      "execution_count": 10,
      "id": "71e933d4",
      "metadata": {},
      "outputs": [],
      "source": [
        "# Aggregate average score per model\n",
        "results_for_df_plotting = scores_df.groupby(\"Model\")[\"Score\"].mean().to_dict()"
      ]
    },
    {
      "cell_type": "code",
      "execution_count": 11,
      "id": "923df8ed",
      "metadata": {
        "colab": {
          "base_uri": "https://localhost:8080/",
          "height": 143
        },
        "id": "923df8ed",
        "outputId": "3248ce34-2991-433a-cdce-828477664987"
      },
      "outputs": [
        {
          "data": {
            "application/vnd.microsoft.datawrangler.viewer.v0+json": {
              "columns": [
                {
                  "name": "index",
                  "rawType": "int64",
                  "type": "integer"
                },
                {
                  "name": "model",
                  "rawType": "object",
                  "type": "string"
                },
                {
                  "name": "Jaccard",
                  "rawType": "float64",
                  "type": "float"
                }
              ],
              "ref": "3d2f37d2-0a7c-4e15-86be-9584cff21cd7",
              "rows": [
                [
                  "0",
                  "ChatGPT-4o",
                  "0.04695189434364881"
                ],
                [
                  "1",
                  "Gemini 2.5 Flash",
                  "0.10099925481634608"
                ],
                [
                  "2",
                  "SafeChat",
                  "1.0"
                ]
              ],
              "shape": {
                "columns": 2,
                "rows": 3
              }
            },
            "text/html": [
              "<div>\n",
              "<style scoped>\n",
              "    .dataframe tbody tr th:only-of-type {\n",
              "        vertical-align: middle;\n",
              "    }\n",
              "\n",
              "    .dataframe tbody tr th {\n",
              "        vertical-align: top;\n",
              "    }\n",
              "\n",
              "    .dataframe thead th {\n",
              "        text-align: right;\n",
              "    }\n",
              "</style>\n",
              "<table border=\"1\" class=\"dataframe\">\n",
              "  <thead>\n",
              "    <tr style=\"text-align: right;\">\n",
              "      <th></th>\n",
              "      <th>model</th>\n",
              "      <th>Jaccard</th>\n",
              "    </tr>\n",
              "  </thead>\n",
              "  <tbody>\n",
              "    <tr>\n",
              "      <th>0</th>\n",
              "      <td>ChatGPT-4o</td>\n",
              "      <td>0.046952</td>\n",
              "    </tr>\n",
              "    <tr>\n",
              "      <th>1</th>\n",
              "      <td>Gemini 2.5 Flash</td>\n",
              "      <td>0.100999</td>\n",
              "    </tr>\n",
              "    <tr>\n",
              "      <th>2</th>\n",
              "      <td>SafeChat</td>\n",
              "      <td>1.000000</td>\n",
              "    </tr>\n",
              "  </tbody>\n",
              "</table>\n",
              "</div>"
            ],
            "text/plain": [
              "              model   Jaccard\n",
              "0        ChatGPT-4o  0.046952\n",
              "1  Gemini 2.5 Flash  0.100999\n",
              "2          SafeChat  1.000000"
            ]
          },
          "metadata": {},
          "output_type": "display_data"
        }
      ],
      "source": [
        "# Format for plotting\n",
        "df_results_for_plotting = (\n",
        "    pd.DataFrame.from_dict(\n",
        "        {model: {metric_key_name: score} for model, score in results_for_df_plotting.items()},\n",
        "        orient=\"index\",\n",
        "    )\n",
        "    .reset_index()\n",
        "    .rename(columns={\"index\": \"model\"})\n",
        ")\n",
        "\n",
        "display(df_results_for_plotting)"
      ]
    },
    {
      "cell_type": "code",
      "execution_count": 12,
      "id": "0d84fd77",
      "metadata": {},
      "outputs": [],
      "source": [
        "# Convert results_for_df_plotting into the correct format for GAICo plotting\n",
        "df_results_for_plotting = pd.DataFrame(\n",
        "    [\n",
        "        {\"model_name\": model, \"metric_name\": metric_key_name, \"score\": score}\n",
        "        for model, score in results_for_df_plotting.items()\n",
        "    ]\n",
        ")"
      ]
    },
    {
      "cell_type": "code",
      "execution_count": 13,
      "id": "da45d88d",
      "metadata": {},
      "outputs": [
        {
          "data": {
            "image/png": "[encoded data removed]",
            "text/plain": [
              "<Figure size 1000x600 with 1 Axes>"
            ]
          },
          "metadata": {},
          "output_type": "display_data"
        }
      ],
      "source": [
        "plot_metric_comparison(\n",
        "    df_results_for_plotting,\n",
        "    metric_name=metric_key_name,\n",
        "    title=f\"{metric_key_name} Comparison: All Election QA Responses\",\n",
        ")\n",
        "\n",
        "plt.tight_layout()\n",
        "plt.savefig(os.path.join(\"..\", \"data\", \"election\", \"election_radar_plot.png\"), dpi=300)"
      ]
    },
    {
      "cell_type": "markdown",
      "id": "e77db522",
      "metadata": {
        "id": "e77db522"
      },
      "source": [
        "## Generate CSV Report\n",
        "\n",
        "Finally, `GAICo` can generate a CSV report containing the generated texts, reference texts, scores, and pass/fail status. This is useful for documentation, sharing, or further analysis."
      ]
    },
    {
      "cell_type": "code",
      "execution_count": 14,
      "id": "9bcf43c6",
      "metadata": {},
      "outputs": [],
      "source": [
        "reference_texts_list = list(\n",
        "    scores_df[\"Question\"].map(lambda q: df[df[\"Question\"] == q][\"Answer\"].values[0])\n",
        ")\n",
        "\n",
        "generated_texts_list = list(scores_df[\"Score\"])"
      ]
    },
    {
      "cell_type": "code",
      "execution_count": 15,
      "id": "41451fb8",
      "metadata": {
        "colab": {
          "base_uri": "https://localhost:8080/",
          "height": 459
        },
        "id": "41451fb8",
        "outputId": "dd2517a5-318f-408e-a54d-61e538c7808e"
      },
      "outputs": [
        {
          "name": "stdout",
          "output_type": "stream",
          "text": [
            "CSV report generated at: ../data/election/election_evaluation_table.csv\n"
          ]
        }
      ],
      "source": [
        "# Save CSV of results\n",
        "csv_output_path = os.path.join(\"..\", \"data\", \"election\", \"election_evaluation_table.csv\")\n",
        "\n",
        "table = generate_deltas_frame(\n",
        "    threshold_results=thresholded_results_list,\n",
        "    generated_texts=scores_df[\"Score\"].tolist(),\n",
        "    reference_texts=reference_texts_list,\n",
        "    output_csv_path=csv_output_path,\n",
        ")"
      ]
    },
    {
      "cell_type": "code",
      "execution_count": 16,
      "id": "9b7da384",
      "metadata": {},
      "outputs": [
        {
          "data": {
            "application/vnd.microsoft.datawrangler.viewer.v0+json": {
              "columns": [
                {
                  "name": "index",
                  "rawType": "int64",
                  "type": "integer"
                },
                {
                  "name": "generated_text",
                  "rawType": "object",
                  "type": "string"
                },
                {
                  "name": "reference_text",
                  "rawType": "object",
                  "type": "string"
                },
                {
                  "name": "Jaccard_score",
                  "rawType": "float64",
                  "type": "float"
                },
                {
                  "name": "Jaccard_passed",
                  "rawType": "bool",
                  "type": "boolean"
                }
              ],
              "ref": "0c188b75-3e51-49ab-a136-694209eb44f5",
              "rows": [
                [
                  "0",
                  "0.07317073170731707",
                  "If you\n\n\n\nmoved to another residence within your precinct, you can update your address at your polling place and vote a regular ballot.\nmoved to a different precinct within your county, you are eligible vote Failsafe (see below).\nmoved to another residence in another county within 30 days of the election, you are eligible to vote Failsafe (see below).\nmoved to another residence in another county prior to the October 9 registration deadline, you are not eligible to vote. State law requires you to be registered prior to the deadline to be eligible to vote.\nmoved to South Carolina after the October 9 registration deadline, you are not eligible to vote. State law requires you to be registered prior to the deadline to be eligible to vote.\n\n\n\nTwo Options for Voting Failsafe:\n\nVote at the polling place in your previous precinct using a failsafe provisional ballot. A failsafe provisional ballot contains only federal, statewide, countywide, and municipality-wide offices.\nGo to the voter registration office in the county in which you currently reside, change your address, and vote a regular ballot there.",
                  "0.07317073170731707",
                  "False"
                ],
                [
                  "1",
                  "0.025",
                  "If you\n\n\n\nmoved to another residence within your precinct, you can update your address at your polling place and vote a regular ballot.\nmoved to a different precinct within your county, you are eligible vote Failsafe (see below).\nmoved to another residence in another county within 30 days of the election, you are eligible to vote Failsafe (see below).\nmoved to another residence in another county prior to the October 9 registration deadline, you are not eligible to vote. State law requires you to be registered prior to the deadline to be eligible to vote.\nmoved to South Carolina after the October 9 registration deadline, you are not eligible to vote. State law requires you to be registered prior to the deadline to be eligible to vote.\n\n\n\nTwo Options for Voting Failsafe:\n\nVote at the polling place in your previous precinct using a failsafe provisional ballot. A failsafe provisional ballot contains only federal, statewide, countywide, and municipality-wide offices.\nGo to the voter registration office in the county in which you currently reside, change your address, and vote a regular ballot there.",
                  "0.025",
                  "False"
                ],
                [
                  "2",
                  "1.0",
                  "If you\n\n\n\nmoved to another residence within your precinct, you can update your address at your polling place and vote a regular ballot.\nmoved to a different precinct within your county, you are eligible vote Failsafe (see below).\nmoved to another residence in another county within 30 days of the election, you are eligible to vote Failsafe (see below).\nmoved to another residence in another county prior to the October 9 registration deadline, you are not eligible to vote. State law requires you to be registered prior to the deadline to be eligible to vote.\nmoved to South Carolina after the October 9 registration deadline, you are not eligible to vote. State law requires you to be registered prior to the deadline to be eligible to vote.\n\n\n\nTwo Options for Voting Failsafe:\n\nVote at the polling place in your previous precinct using a failsafe provisional ballot. A failsafe provisional ballot contains only federal, statewide, countywide, and municipality-wide offices.\nGo to the voter registration office in the county in which you currently reside, change your address, and vote a regular ballot there.",
                  "1.0",
                  "True"
                ],
                [
                  "3",
                  "0.0",
                  "The offices, candidates and questions on a particular ballot will vary depending on the county and districts in which you reside.\nTo see what will appear on your ballot, check your sample ballot at scVOTES.gov.\n(https://vrems.scvotes.sc.gov/Voter/Login?PageMode=Sampleballot)\n",
                  "0.0",
                  "False"
                ],
                [
                  "4",
                  "0.05",
                  "The offices, candidates and questions on a particular ballot will vary depending on the county and districts in which you reside.\nTo see what will appear on your ballot, check your sample ballot at scVOTES.gov.\n(https://vrems.scvotes.sc.gov/Voter/Login?PageMode=Sampleballot)\n",
                  "0.05",
                  "False"
                ],
                [
                  "5",
                  "1.0",
                  "The offices, candidates and questions on a particular ballot will vary depending on the county and districts in which you reside.\nTo see what will appear on your ballot, check your sample ballot at scVOTES.gov.\n(https://vrems.scvotes.sc.gov/Voter/Login?PageMode=Sampleballot)\n",
                  "1.0",
                  "True"
                ],
                [
                  "6",
                  "0.125",
                  "Visit an early voting center in your county during the early voting period and vote in person like you would at your polling place on election day. Remember to bring your Photo ID when checking in to vote.\n(https://scvotes.gov/voters/early-voting/)\n\n(https://scvotes.gov/voters/photo-id-requirements/)\n",
                  "0.125",
                  "False"
                ],
                [
                  "7",
                  "0.046511627906976744",
                  "Visit an early voting center in your county during the early voting period and vote in person like you would at your polling place on election day. Remember to bring your Photo ID when checking in to vote.\n(https://scvotes.gov/voters/early-voting/)\n\n(https://scvotes.gov/voters/photo-id-requirements/)\n",
                  "0.046511627906976744",
                  "False"
                ],
                [
                  "8",
                  "1.0",
                  "Visit an early voting center in your county during the early voting period and vote in person like you would at your polling place on election day. Remember to bring your Photo ID when checking in to vote.\n(https://scvotes.gov/voters/early-voting/)\n\n(https://scvotes.gov/voters/photo-id-requirements/)\n",
                  "1.0",
                  "True"
                ],
                [
                  "9",
                  "0.04672897196261682",
                  "State law allows voters with qualifying reasons to vote absentee by mail:\n\nPersons with employment obligations which prevent them from voting during early voting hours for the duration of the early voting period, and during the hours the polls are open on election day.\nPersons attending a sick or physically disabled person which prevents them from voting during early voting hours for the duration of the early voting period, and during the hours the polls are open on election day.\nPersons confined to a jail or pretrial facility pending disposition of arrest or trial which prevents them from voting during early voting hours for the duration of the early voting period, and during the hours the polls are open on election day.\nPersons who will be absent from their county of residence during early voting hours for the duration of the early voting period, and during the hours the polls are open on election day.\nPersons with physical disabilities.\nPersons sixty-five years of age or older.\nMembers of the Armed Forces and Merchant Marines of the United States, their spouses, and dependents residing with them (Learn more about procedures related to Military and Overseas Citizens).\nPersons admitted to a hospital as an emergency patient on the day of the election or within a four-day period before the election (see additional details below).\n(https://scvotes.gov/voters/military-overseas-citizens/)\n",
                  "0.04672897196261682",
                  "False"
                ],
                [
                  "10",
                  "0.027777777777777776",
                  "State law allows voters with qualifying reasons to vote absentee by mail:\n\nPersons with employment obligations which prevent them from voting during early voting hours for the duration of the early voting period, and during the hours the polls are open on election day.\nPersons attending a sick or physically disabled person which prevents them from voting during early voting hours for the duration of the early voting period, and during the hours the polls are open on election day.\nPersons confined to a jail or pretrial facility pending disposition of arrest or trial which prevents them from voting during early voting hours for the duration of the early voting period, and during the hours the polls are open on election day.\nPersons who will be absent from their county of residence during early voting hours for the duration of the early voting period, and during the hours the polls are open on election day.\nPersons with physical disabilities.\nPersons sixty-five years of age or older.\nMembers of the Armed Forces and Merchant Marines of the United States, their spouses, and dependents residing with them (Learn more about procedures related to Military and Overseas Citizens).\nPersons admitted to a hospital as an emergency patient on the day of the election or within a four-day period before the election (see additional details below).\n(https://scvotes.gov/voters/military-overseas-citizens/)\n",
                  "0.027777777777777776",
                  "False"
                ],
                [
                  "11",
                  "1.0",
                  "State law allows voters with qualifying reasons to vote absentee by mail:\n\nPersons with employment obligations which prevent them from voting during early voting hours for the duration of the early voting period, and during the hours the polls are open on election day.\nPersons attending a sick or physically disabled person which prevents them from voting during early voting hours for the duration of the early voting period, and during the hours the polls are open on election day.\nPersons confined to a jail or pretrial facility pending disposition of arrest or trial which prevents them from voting during early voting hours for the duration of the early voting period, and during the hours the polls are open on election day.\nPersons who will be absent from their county of residence during early voting hours for the duration of the early voting period, and during the hours the polls are open on election day.\nPersons with physical disabilities.\nPersons sixty-five years of age or older.\nMembers of the Armed Forces and Merchant Marines of the United States, their spouses, and dependents residing with them (Learn more about procedures related to Military and Overseas Citizens).\nPersons admitted to a hospital as an emergency patient on the day of the election or within a four-day period before the election (see additional details below).\n(https://scvotes.gov/voters/military-overseas-citizens/)\n",
                  "1.0",
                  "True"
                ],
                [
                  "12",
                  "0.04597701149425287",
                  "Step 1:  Get your application\n\nCall, visit or send your request for an absentee application by U.S. mail to your county voter registration office.\nYou must provide your name, date of birth and last four digits of your Social Security Number.\nYou will be sent an application.\nVisit the absentee voting page on scVOTES to see on how Immediate Family Members and Authorized Representatives can request a voters application.\n\nStep 2:  Complete, sign and return the application\n\nReturn the application by U.S. mail or personal delivery to your county voter registration office as soon as possible.\nThe deadline to return your application for the 2022 General Election is 5:00 p.m., October 28 (11 days prior to election day).\nVisit the absentee voting page on scVOTES to find more information on how Immediate Family Members and Authorized Representatives can return a voters application.\n\nStep 3:  Receive your absentee ballot in the mail\n\nVoters who have applied early will be mailed their absentee ballot approximately 30 days before the election.\n\nStep 4:  Vote and return the ballot\n\nReturn your ballot to your county voter registration office or an early voting center either by mail or personal delivery.\nMust present Photo ID when returning the ballot return envelope.\nAcceptable Photo IDs:\n\nDrivers license issued by a state within the United States.\nAnother form of identification containing a photograph issued by the Department of Motor Vehicles or its equivalent by a state within the United States.\nPassport.\nMilitary identification containing a photograph issued by the federal government.\nSouth Carolina voter registration card containing a photograph of the voter.\n\n\nPlace the ballot in the ballot here-in envelope and place the ballot here-in envelope in the return envelope.\nBe sure to sign the voters oath and have your signature witnessed.  Anyone age 18 or older can witness your signature.  A notary is not necessary.\nBallots must be received by the county voter registration office by 7:00 p.m. on election day.\nBallots returned by mail should be mailed no later than one week prior to election day to help ensure timely delivery.\nVisit the absentee voting page on scVOTES to find more information on how Immediate Family Members and Authorized Representatives can return a voters ballot.\n(https://scvotes.gov/contact/county-voter-registration-election-offices/)\n\n(https://scvotes.gov/voters/absentee-voting/)\n\n(https://scvotes.gov/contact/county-voter-registration-election-offices/)\n\n(https://scvotes.gov/voters/absentee-voting/)\n\n(https://scvotes.gov/contact/county-voter-registration-election-offices/)\n\n(https://scvotes.gov/voters/photo-id-requirements/)\n\n(https://scvotes.gov/contact/county-voter-registration-election-offices/)\n\n(https://scvotes.gov/voters/absentee-voting/)\n",
                  "0.04597701149425287",
                  "False"
                ],
                [
                  "13",
                  "0.06896551724137931",
                  "Step 1:  Get your application\n\nCall, visit or send your request for an absentee application by U.S. mail to your county voter registration office.\nYou must provide your name, date of birth and last four digits of your Social Security Number.\nYou will be sent an application.\nVisit the absentee voting page on scVOTES to see on how Immediate Family Members and Authorized Representatives can request a voters application.\n\nStep 2:  Complete, sign and return the application\n\nReturn the application by U.S. mail or personal delivery to your county voter registration office as soon as possible.\nThe deadline to return your application for the 2022 General Election is 5:00 p.m., October 28 (11 days prior to election day).\nVisit the absentee voting page on scVOTES to find more information on how Immediate Family Members and Authorized Representatives can return a voters application.\n\nStep 3:  Receive your absentee ballot in the mail\n\nVoters who have applied early will be mailed their absentee ballot approximately 30 days before the election.\n\nStep 4:  Vote and return the ballot\n\nReturn your ballot to your county voter registration office or an early voting center either by mail or personal delivery.\nMust present Photo ID when returning the ballot return envelope.\nAcceptable Photo IDs:\n\nDrivers license issued by a state within the United States.\nAnother form of identification containing a photograph issued by the Department of Motor Vehicles or its equivalent by a state within the United States.\nPassport.\nMilitary identification containing a photograph issued by the federal government.\nSouth Carolina voter registration card containing a photograph of the voter.\n\n\nPlace the ballot in the ballot here-in envelope and place the ballot here-in envelope in the return envelope.\nBe sure to sign the voters oath and have your signature witnessed.  Anyone age 18 or older can witness your signature.  A notary is not necessary.\nBallots must be received by the county voter registration office by 7:00 p.m. on election day.\nBallots returned by mail should be mailed no later than one week prior to election day to help ensure timely delivery.\nVisit the absentee voting page on scVOTES to find more information on how Immediate Family Members and Authorized Representatives can return a voters ballot.\n(https://scvotes.gov/contact/county-voter-registration-election-offices/)\n\n(https://scvotes.gov/voters/absentee-voting/)\n\n(https://scvotes.gov/contact/county-voter-registration-election-offices/)\n\n(https://scvotes.gov/voters/absentee-voting/)\n\n(https://scvotes.gov/contact/county-voter-registration-election-offices/)\n\n(https://scvotes.gov/voters/photo-id-requirements/)\n\n(https://scvotes.gov/contact/county-voter-registration-election-offices/)\n\n(https://scvotes.gov/voters/absentee-voting/)\n",
                  "0.06896551724137931",
                  "False"
                ],
                [
                  "14",
                  "1.0",
                  "Step 1:  Get your application\n\nCall, visit or send your request for an absentee application by U.S. mail to your county voter registration office.\nYou must provide your name, date of birth and last four digits of your Social Security Number.\nYou will be sent an application.\nVisit the absentee voting page on scVOTES to see on how Immediate Family Members and Authorized Representatives can request a voters application.\n\nStep 2:  Complete, sign and return the application\n\nReturn the application by U.S. mail or personal delivery to your county voter registration office as soon as possible.\nThe deadline to return your application for the 2022 General Election is 5:00 p.m., October 28 (11 days prior to election day).\nVisit the absentee voting page on scVOTES to find more information on how Immediate Family Members and Authorized Representatives can return a voters application.\n\nStep 3:  Receive your absentee ballot in the mail\n\nVoters who have applied early will be mailed their absentee ballot approximately 30 days before the election.\n\nStep 4:  Vote and return the ballot\n\nReturn your ballot to your county voter registration office or an early voting center either by mail or personal delivery.\nMust present Photo ID when returning the ballot return envelope.\nAcceptable Photo IDs:\n\nDrivers license issued by a state within the United States.\nAnother form of identification containing a photograph issued by the Department of Motor Vehicles or its equivalent by a state within the United States.\nPassport.\nMilitary identification containing a photograph issued by the federal government.\nSouth Carolina voter registration card containing a photograph of the voter.\n\n\nPlace the ballot in the ballot here-in envelope and place the ballot here-in envelope in the return envelope.\nBe sure to sign the voters oath and have your signature witnessed.  Anyone age 18 or older can witness your signature.  A notary is not necessary.\nBallots must be received by the county voter registration office by 7:00 p.m. on election day.\nBallots returned by mail should be mailed no later than one week prior to election day to help ensure timely delivery.\nVisit the absentee voting page on scVOTES to find more information on how Immediate Family Members and Authorized Representatives can return a voters ballot.\n(https://scvotes.gov/contact/county-voter-registration-election-offices/)\n\n(https://scvotes.gov/voters/absentee-voting/)\n\n(https://scvotes.gov/contact/county-voter-registration-election-offices/)\n\n(https://scvotes.gov/voters/absentee-voting/)\n\n(https://scvotes.gov/contact/county-voter-registration-election-offices/)\n\n(https://scvotes.gov/voters/photo-id-requirements/)\n\n(https://scvotes.gov/contact/county-voter-registration-election-offices/)\n\n(https://scvotes.gov/voters/absentee-voting/)\n",
                  "1.0",
                  "True"
                ],
                [
                  "15",
                  "0.044444444444444446",
                  "You can vote your absentee ballot and return it to your county elections office by mail or personal delivery by 7:00 p.m. on election day (or an early voting center during the early voting period).\n\nBallots returned by mail should be mailed no later than one week prior to election day to help ensure timely delivery.\nVisit the absentee voting page on scVOTES to see Photo ID requirements for returning a ballot in person and to learn how Immediate Family Members and Authorized Representatives can return a voters ballot.\n\n\nYou may also vote a provisional ballot that will count as long as your absentee ballot is not returned before the polls close on election day.\n(https://scvotes.gov/voters/absentee-voting/)\n",
                  "0.044444444444444446",
                  "False"
                ],
                [
                  "16",
                  "0.13978494623655913",
                  "You can vote your absentee ballot and return it to your county elections office by mail or personal delivery by 7:00 p.m. on election day (or an early voting center during the early voting period).\n\nBallots returned by mail should be mailed no later than one week prior to election day to help ensure timely delivery.\nVisit the absentee voting page on scVOTES to see Photo ID requirements for returning a ballot in person and to learn how Immediate Family Members and Authorized Representatives can return a voters ballot.\n\n\nYou may also vote a provisional ballot that will count as long as your absentee ballot is not returned before the polls close on election day.\n(https://scvotes.gov/voters/absentee-voting/)\n",
                  "0.13978494623655913",
                  "False"
                ],
                [
                  "17",
                  "1.0",
                  "You can vote your absentee ballot and return it to your county elections office by mail or personal delivery by 7:00 p.m. on election day (or an early voting center during the early voting period).\n\nBallots returned by mail should be mailed no later than one week prior to election day to help ensure timely delivery.\nVisit the absentee voting page on scVOTES to see Photo ID requirements for returning a ballot in person and to learn how Immediate Family Members and Authorized Representatives can return a voters ballot.\n\n\nYou may also vote a provisional ballot that will count as long as your absentee ballot is not returned before the polls close on election day.\n(https://scvotes.gov/voters/absentee-voting/)\n",
                  "1.0",
                  "True"
                ],
                [
                  "18",
                  "0.0",
                  "At the polling place in your precinct.\nVisit scVOTES.gov and select Find My Polling Place under MySCVotes or check with your county voter registration office.\nYour precinct and polling place are also listed on your voter registration card, however, it is possible your polling place may have changed since the card was issued. Always check your polling place at scVOTES.gov before leaving to vote.\n(https://scvotes.gov/)\n\n(https://vrems.scvotes.sc.gov/Voter/Login?PageMode=PollingPlace)\n\n(https://vrems.scvotes.sc.gov/Voter/Login)\n\n(https://scvotes.gov/)\n",
                  "0.0",
                  "False"
                ],
                [
                  "19",
                  "0.14035087719298245",
                  "At the polling place in your precinct.\nVisit scVOTES.gov and select Find My Polling Place under MySCVotes or check with your county voter registration office.\nYour precinct and polling place are also listed on your voter registration card, however, it is possible your polling place may have changed since the card was issued. Always check your polling place at scVOTES.gov before leaving to vote.\n(https://scvotes.gov/)\n\n(https://vrems.scvotes.sc.gov/Voter/Login?PageMode=PollingPlace)\n\n(https://vrems.scvotes.sc.gov/Voter/Login)\n\n(https://scvotes.gov/)\n",
                  "0.14035087719298245",
                  "False"
                ],
                [
                  "20",
                  "1.0",
                  "At the polling place in your precinct.\nVisit scVOTES.gov and select Find My Polling Place under MySCVotes or check with your county voter registration office.\nYour precinct and polling place are also listed on your voter registration card, however, it is possible your polling place may have changed since the card was issued. Always check your polling place at scVOTES.gov before leaving to vote.\n(https://scvotes.gov/)\n\n(https://vrems.scvotes.sc.gov/Voter/Login?PageMode=PollingPlace)\n\n(https://vrems.scvotes.sc.gov/Voter/Login)\n\n(https://scvotes.gov/)\n",
                  "1.0",
                  "True"
                ],
                [
                  "21",
                  "0.10344827586206896",
                  "Polling places will be open 7:00 a.m. to 7:00 p.m.  As long as you are in line by 7:00 p.m., you will be allowed to vote.",
                  "0.10344827586206896",
                  "False"
                ],
                [
                  "22",
                  "0.4230769230769231",
                  "Polling places will be open 7:00 a.m. to 7:00 p.m.  As long as you are in line by 7:00 p.m., you will be allowed to vote.",
                  "0.4230769230769231",
                  "False"
                ],
                [
                  "23",
                  "1.0",
                  "Polling places will be open 7:00 a.m. to 7:00 p.m.  As long as you are in line by 7:00 p.m., you will be allowed to vote.",
                  "1.0",
                  "True"
                ],
                [
                  "24",
                  "0.0196078431372549",
                  "Your Photo ID.\nWhen voting in person, you will be asked to show one of the following Photo IDs:\n\nSC Drivers License\nSC Department of Motor Vehicles ID Card\n\nincludes SC Concealed Weapons Permit\n\n\nSC Voter Registration Card with Photo\nUS Passport\nFederal Military ID\n\nincludes all Department of Defense Photo IDs and the Department of Veterans Affairs Benefits Card",
                  "0.0196078431372549",
                  "False"
                ],
                [
                  "25",
                  "0.06896551724137931",
                  "Your Photo ID.\nWhen voting in person, you will be asked to show one of the following Photo IDs:\n\nSC Drivers License\nSC Department of Motor Vehicles ID Card\n\nincludes SC Concealed Weapons Permit\n\n\nSC Voter Registration Card with Photo\nUS Passport\nFederal Military ID\n\nincludes all Department of Defense Photo IDs and the Department of Veterans Affairs Benefits Card",
                  "0.06896551724137931",
                  "False"
                ],
                [
                  "26",
                  "1.0",
                  "Your Photo ID.\nWhen voting in person, you will be asked to show one of the following Photo IDs:\n\nSC Drivers License\nSC Department of Motor Vehicles ID Card\n\nincludes SC Concealed Weapons Permit\n\n\nSC Voter Registration Card with Photo\nUS Passport\nFederal Military ID\n\nincludes all Department of Defense Photo IDs and the Department of Veterans Affairs Benefits Card",
                  "1.0",
                  "True"
                ],
                [
                  "27",
                  "0.0",
                  "Make your voting experience as fast and easy as possible by getting a free Photo ID before voting.\nIf you are already registered to vote, you can go to your county elections office to get a SC Voter Registration Card with Photo.  You will need to provide your date of birth and the last four digits of your Social Security Number.  You can do this even on Election Day.  Free DMV ID Cards are also available from the Department of Motor Vehicles.\nIf you cannot get a Photo ID, bring your non-photo voter registration card with you when leaving to vote.\nYou may vote a provisional ballot after signing an affidavit stating you have a reasonable impediment to obtaining a Photo ID.  A reasonable impediment is any valid reason, beyond your control, which created an obstacle to obtaining a Photo ID.  Some examples include:  a disability or illness, a conflict with your work schedule, a lack of transportation, a lack of a birth certificate, family responsibilities, a religious objection to being photographed, and any other obstacle you find reasonable.\nThis ballot will count unless someone proves to the county board of voter registration and elections that you are lying about your identity or having the listed impediment.",
                  "0.0",
                  "False"
                ],
                [
                  "28",
                  "0.05263157894736842",
                  "Make your voting experience as fast and easy as possible by getting a free Photo ID before voting.\nIf you are already registered to vote, you can go to your county elections office to get a SC Voter Registration Card with Photo.  You will need to provide your date of birth and the last four digits of your Social Security Number.  You can do this even on Election Day.  Free DMV ID Cards are also available from the Department of Motor Vehicles.\nIf you cannot get a Photo ID, bring your non-photo voter registration card with you when leaving to vote.\nYou may vote a provisional ballot after signing an affidavit stating you have a reasonable impediment to obtaining a Photo ID.  A reasonable impediment is any valid reason, beyond your control, which created an obstacle to obtaining a Photo ID.  Some examples include:  a disability or illness, a conflict with your work schedule, a lack of transportation, a lack of a birth certificate, family responsibilities, a religious objection to being photographed, and any other obstacle you find reasonable.\nThis ballot will count unless someone proves to the county board of voter registration and elections that you are lying about your identity or having the listed impediment.",
                  "0.05263157894736842",
                  "False"
                ],
                [
                  "29",
                  "1.0",
                  "Make your voting experience as fast and easy as possible by getting a free Photo ID before voting.\nIf you are already registered to vote, you can go to your county elections office to get a SC Voter Registration Card with Photo.  You will need to provide your date of birth and the last four digits of your Social Security Number.  You can do this even on Election Day.  Free DMV ID Cards are also available from the Department of Motor Vehicles.\nIf you cannot get a Photo ID, bring your non-photo voter registration card with you when leaving to vote.\nYou may vote a provisional ballot after signing an affidavit stating you have a reasonable impediment to obtaining a Photo ID.  A reasonable impediment is any valid reason, beyond your control, which created an obstacle to obtaining a Photo ID.  Some examples include:  a disability or illness, a conflict with your work schedule, a lack of transportation, a lack of a birth certificate, family responsibilities, a religious objection to being photographed, and any other obstacle you find reasonable.\nThis ballot will count unless someone proves to the county board of voter registration and elections that you are lying about your identity or having the listed impediment.",
                  "1.0",
                  "True"
                ],
                [
                  "30",
                  "0.0",
                  "If you dont have your Photo ID with you when voting in person, you may vote a provisional ballot that will count only if you show your Photo ID to your county voter registration office prior to certification of the election (usually Thursday or Friday).",
                  "0.0",
                  "False"
                ],
                [
                  "31",
                  "0.1702127659574468",
                  "If you dont have your Photo ID with you when voting in person, you may vote a provisional ballot that will count only if you show your Photo ID to your county voter registration office prior to certification of the election (usually Thursday or Friday).",
                  "0.1702127659574468",
                  "False"
                ],
                [
                  "32",
                  "1.0",
                  "If you dont have your Photo ID with you when voting in person, you may vote a provisional ballot that will count only if you show your Photo ID to your county voter registration office prior to certification of the election (usually Thursday or Friday).",
                  "1.0",
                  "True"
                ],
                [
                  "33",
                  "0.05660377358490566",
                  "Yes.  Your voter registration card is your notification that you have registered to vote and shows your precinct and polling place.  Your non-photo voter registration card is not necessary to vote unless you are voting under the reasonable impediment exception.  See answer to previous Question What if I dont have one of these Photo IDs? for details.",
                  "0.05660377358490566",
                  "False"
                ],
                [
                  "34",
                  "0.14",
                  "Yes.  Your voter registration card is your notification that you have registered to vote and shows your precinct and polling place.  Your non-photo voter registration card is not necessary to vote unless you are voting under the reasonable impediment exception.  See answer to previous Question What if I dont have one of these Photo IDs? for details.",
                  "0.14",
                  "False"
                ],
                [
                  "35",
                  "1.0",
                  "Yes.  Your voter registration card is your notification that you have registered to vote and shows your precinct and polling place.  Your non-photo voter registration card is not necessary to vote unless you are voting under the reasonable impediment exception.  See answer to previous Question What if I dont have one of these Photo IDs? for details.",
                  "1.0",
                  "True"
                ],
                [
                  "36",
                  "0.05319148936170213",
                  "Whether to vote Straight Party is the first choice a voter must make on a General Election ballot.  Voting straight party is optional.  Each political party that has nominated a candidate appearing on the voters ballot is represented in the straight party selection area.  If a party is selected under straight party, every candidate of that party is automatically selected.\nVoters have the option of overriding the straight party vote for any one office by voting for a candidate other than the partys nominee (also known as crossover voting).  While the crossover vote will override the straight party selection for that particular office, the straight party selection will continue to apply to all other offices for which no selection was made.\nVoters should be aware that a straight party selection does not apply to nonpartisan offices and questions.  These contests must be voted individually.\nAs always, voters should carefully review their choices on the review screen before casting their ballot.",
                  "0.05319148936170213",
                  "False"
                ],
                [
                  "37",
                  "0.06796116504854369",
                  "Whether to vote Straight Party is the first choice a voter must make on a General Election ballot.  Voting straight party is optional.  Each political party that has nominated a candidate appearing on the voters ballot is represented in the straight party selection area.  If a party is selected under straight party, every candidate of that party is automatically selected.\nVoters have the option of overriding the straight party vote for any one office by voting for a candidate other than the partys nominee (also known as crossover voting).  While the crossover vote will override the straight party selection for that particular office, the straight party selection will continue to apply to all other offices for which no selection was made.\nVoters should be aware that a straight party selection does not apply to nonpartisan offices and questions.  These contests must be voted individually.\nAs always, voters should carefully review their choices on the review screen before casting their ballot.",
                  "0.06796116504854369",
                  "False"
                ],
                [
                  "38",
                  "1.0",
                  "Whether to vote Straight Party is the first choice a voter must make on a General Election ballot.  Voting straight party is optional.  Each political party that has nominated a candidate appearing on the voters ballot is represented in the straight party selection area.  If a party is selected under straight party, every candidate of that party is automatically selected.\nVoters have the option of overriding the straight party vote for any one office by voting for a candidate other than the partys nominee (also known as crossover voting).  While the crossover vote will override the straight party selection for that particular office, the straight party selection will continue to apply to all other offices for which no selection was made.\nVoters should be aware that a straight party selection does not apply to nonpartisan offices and questions.  These contests must be voted individually.\nAs always, voters should carefully review their choices on the review screen before casting their ballot.",
                  "1.0",
                  "True"
                ],
                [
                  "39",
                  "0.02040816326530612",
                  "Candidates for partisan offices appear on the ballot in party order.  Party order rotates every two years at the time of the general election.\n\nVisit our candidates page to see the party order for the 2022 General Election.\nCandidates for nonpartisan offices are ordered alphabetically by last name.\nThe write-in space always appears last.\n(https://scvotes.gov/candidates/#party-order-on-ballots.)\n",
                  "0.02040816326530612",
                  "False"
                ],
                [
                  "40",
                  "0.03773584905660377",
                  "Candidates for partisan offices appear on the ballot in party order.  Party order rotates every two years at the time of the general election.\n\nVisit our candidates page to see the party order for the 2022 General Election.\nCandidates for nonpartisan offices are ordered alphabetically by last name.\nThe write-in space always appears last.\n(https://scvotes.gov/candidates/#party-order-on-ballots.)\n",
                  "0.03773584905660377",
                  "False"
                ],
                [
                  "41",
                  "1.0",
                  "Candidates for partisan offices appear on the ballot in party order.  Party order rotates every two years at the time of the general election.\n\nVisit our candidates page to see the party order for the 2022 General Election.\nCandidates for nonpartisan offices are ordered alphabetically by last name.\nThe write-in space always appears last.\n(https://scvotes.gov/candidates/#party-order-on-ballots.)\n",
                  "1.0",
                  "True"
                ],
                [
                  "42",
                  "0.07692307692307693",
                  "A candidate may be nominated by more than one political party.  If so, the candidate is listed once for each party by which they are nominated.\nThis process is sometimes referred to as fusion voting, and candidates are sometimes referred to as fusion candidates.  All votes for fusion candidates go to the candidate.\nFor example, if candidate A receives 100 votes as the nominee for Party 1 and 100 votes as the nominee for Party 2, the candidate receives a total of 200 votes.  While the candidate receives all votes cast for the candidate, regardless of party, this total is not displayed in election results.  Results are reported separately for each nomination.\nAct 150 of 2022 prohibits fusion voting beginning January of 2023.\n(https://www.scstatehouse.gov/sess124_2021-2022/bills/108.htm)\n",
                  "0.07692307692307693",
                  "False"
                ],
                [
                  "43",
                  "0.07317073170731707",
                  "A candidate may be nominated by more than one political party.  If so, the candidate is listed once for each party by which they are nominated.\nThis process is sometimes referred to as fusion voting, and candidates are sometimes referred to as fusion candidates.  All votes for fusion candidates go to the candidate.\nFor example, if candidate A receives 100 votes as the nominee for Party 1 and 100 votes as the nominee for Party 2, the candidate receives a total of 200 votes.  While the candidate receives all votes cast for the candidate, regardless of party, this total is not displayed in election results.  Results are reported separately for each nomination.\nAct 150 of 2022 prohibits fusion voting beginning January of 2023.\n(https://www.scstatehouse.gov/sess124_2021-2022/bills/108.htm)\n",
                  "0.07317073170731707",
                  "False"
                ],
                [
                  "44",
                  "1.0",
                  "A candidate may be nominated by more than one political party.  If so, the candidate is listed once for each party by which they are nominated.\nThis process is sometimes referred to as fusion voting, and candidates are sometimes referred to as fusion candidates.  All votes for fusion candidates go to the candidate.\nFor example, if candidate A receives 100 votes as the nominee for Party 1 and 100 votes as the nominee for Party 2, the candidate receives a total of 200 votes.  While the candidate receives all votes cast for the candidate, regardless of party, this total is not displayed in election results.  Results are reported separately for each nomination.\nAct 150 of 2022 prohibits fusion voting beginning January of 2023.\n(https://www.scstatehouse.gov/sess124_2021-2022/bills/108.htm)\n",
                  "1.0",
                  "True"
                ],
                [
                  "45",
                  "0.06060606060606061",
                  "Yes, but there are restrictions:\nInside the polling place:  No campaigning is allowed.  Candidates may be inside the polling place and talk to voters as long as they are not campaigning, intimidating voters, or interfering with the election process.\nWithin 500 feet of an entrance to a polling place:  Candidates and campaign staff may campaign as long as they are not intimidating voters or interfering with the election process.  However, no campaign literature, signs, or posters are allowed.  Candidates are allowed to wear a badge no larger than 4.25 x 4.25 featuring only the candidates name and office sought.  Candidates must remove their badge upon entering a polling place.",
                  "0.06060606060606061",
                  "False"
                ],
                [
                  "46",
                  "0.09859154929577464",
                  "Yes, but there are restrictions:\nInside the polling place:  No campaigning is allowed.  Candidates may be inside the polling place and talk to voters as long as they are not campaigning, intimidating voters, or interfering with the election process.\nWithin 500 feet of an entrance to a polling place:  Candidates and campaign staff may campaign as long as they are not intimidating voters or interfering with the election process.  However, no campaign literature, signs, or posters are allowed.  Candidates are allowed to wear a badge no larger than 4.25 x 4.25 featuring only the candidates name and office sought.  Candidates must remove their badge upon entering a polling place.",
                  "0.09859154929577464",
                  "False"
                ],
                [
                  "47",
                  "1.0",
                  "Yes, but there are restrictions:\nInside the polling place:  No campaigning is allowed.  Candidates may be inside the polling place and talk to voters as long as they are not campaigning, intimidating voters, or interfering with the election process.\nWithin 500 feet of an entrance to a polling place:  Candidates and campaign staff may campaign as long as they are not intimidating voters or interfering with the election process.  However, no campaign literature, signs, or posters are allowed.  Candidates are allowed to wear a badge no larger than 4.25 x 4.25 featuring only the candidates name and office sought.  Candidates must remove their badge upon entering a polling place.",
                  "1.0",
                  "True"
                ],
                [
                  "48",
                  "0.0625",
                  "Yes, there are several state laws addressing political signs on roadways, as well as county and municipal ordinances.  See SC Code of Laws Sections 57-25-10, 57-25-140, and 7-25-210.\nUltimately, it is the responsibility of the entity that maintains the road (state, county, and municipality) to enforce applicable sign laws.\n(https://www.scstatehouse.gov/code/statmast.php)\n",
                  "0.0625",
                  "False"
                ],
                [
                  "49",
                  "0.09615384615384616",
                  "Yes, there are several state laws addressing political signs on roadways, as well as county and municipal ordinances.  See SC Code of Laws Sections 57-25-10, 57-25-140, and 7-25-210.\nUltimately, it is the responsibility of the entity that maintains the road (state, county, and municipality) to enforce applicable sign laws.\n(https://www.scstatehouse.gov/code/statmast.php)\n",
                  "0.09615384615384616",
                  "False"
                ]
              ],
              "shape": {
                "columns": 4,
                "rows": 90
              }
            },
            "text/html": [
              "<div>\n",
              "<style scoped>\n",
              "    .dataframe tbody tr th:only-of-type {\n",
              "        vertical-align: middle;\n",
              "    }\n",
              "\n",
              "    .dataframe tbody tr th {\n",
              "        vertical-align: top;\n",
              "    }\n",
              "\n",
              "    .dataframe thead th {\n",
              "        text-align: right;\n",
              "    }\n",
              "</style>\n",
              "<table border=\"1\" class=\"dataframe\">\n",
              "  <thead>\n",
              "    <tr style=\"text-align: right;\">\n",
              "      <th></th>\n",
              "      <th>generated_text</th>\n",
              "      <th>reference_text</th>\n",
              "      <th>Jaccard_score</th>\n",
              "      <th>Jaccard_passed</th>\n",
              "    </tr>\n",
              "  </thead>\n",
              "  <tbody>\n",
              "    <tr>\n",
              "      <th>0</th>\n",
              "      <td>0.07317073170731707</td>\n",
              "      <td>If you\\n\\n\\n\\nmoved to another residence withi...</td>\n",
              "      <td>0.073171</td>\n",
              "      <td>False</td>\n",
              "    </tr>\n",
              "    <tr>\n",
              "      <th>1</th>\n",
              "      <td>0.025</td>\n",
              "      <td>If you\\n\\n\\n\\nmoved to another residence withi...</td>\n",
              "      <td>0.025000</td>\n",
              "      <td>False</td>\n",
              "    </tr>\n",
              "    <tr>\n",
              "      <th>2</th>\n",
              "      <td>1.0</td>\n",
              "      <td>If you\\n\\n\\n\\nmoved to another residence withi...</td>\n",
              "      <td>1.000000</td>\n",
              "      <td>True</td>\n",
              "    </tr>\n",
              "    <tr>\n",
              "      <th>3</th>\n",
              "      <td>0.0</td>\n",
              "      <td>The offices, candidates and questions on a par...</td>\n",
              "      <td>0.000000</td>\n",
              "      <td>False</td>\n",
              "    </tr>\n",
              "    <tr>\n",
              "      <th>4</th>\n",
              "      <td>0.05</td>\n",
              "      <td>The offices, candidates and questions on a par...</td>\n",
              "      <td>0.050000</td>\n",
              "      <td>False</td>\n",
              "    </tr>\n",
              "    <tr>\n",
              "      <th>...</th>\n",
              "      <td>...</td>\n",
              "      <td>...</td>\n",
              "      <td>...</td>\n",
              "      <td>...</td>\n",
              "    </tr>\n",
              "    <tr>\n",
              "      <th>85</th>\n",
              "      <td>0.07272727272727272</td>\n",
              "      <td>Apply to be a poll manager today. State and co...</td>\n",
              "      <td>0.072727</td>\n",
              "      <td>False</td>\n",
              "    </tr>\n",
              "    <tr>\n",
              "      <th>86</th>\n",
              "      <td>1.0</td>\n",
              "      <td>Apply to be a poll manager today. State and co...</td>\n",
              "      <td>1.000000</td>\n",
              "      <td>True</td>\n",
              "    </tr>\n",
              "    <tr>\n",
              "      <th>87</th>\n",
              "      <td>0.058823529411764705</td>\n",
              "      <td>Contact your county voter registration and ele...</td>\n",
              "      <td>0.058824</td>\n",
              "      <td>False</td>\n",
              "    </tr>\n",
              "    <tr>\n",
              "      <th>88</th>\n",
              "      <td>0.037037037037037035</td>\n",
              "      <td>Contact your county voter registration and ele...</td>\n",
              "      <td>0.037037</td>\n",
              "      <td>False</td>\n",
              "    </tr>\n",
              "    <tr>\n",
              "      <th>89</th>\n",
              "      <td>1.0</td>\n",
              "      <td>Contact your county voter registration and ele...</td>\n",
              "      <td>1.000000</td>\n",
              "      <td>True</td>\n",
              "    </tr>\n",
              "  </tbody>\n",
              "</table>\n",
              "<p>90 rows × 4 columns</p>\n",
              "</div>"
            ],
            "text/plain": [
              "          generated_text                                     reference_text  \\\n",
              "0    0.07317073170731707  If you\\n\\n\\n\\nmoved to another residence withi...   \n",
              "1                  0.025  If you\\n\\n\\n\\nmoved to another residence withi...   \n",
              "2                    1.0  If you\\n\\n\\n\\nmoved to another residence withi...   \n",
              "3                    0.0  The offices, candidates and questions on a par...   \n",
              "4                   0.05  The offices, candidates and questions on a par...   \n",
              "..                   ...                                                ...   \n",
              "85   0.07272727272727272  Apply to be a poll manager today. State and co...   \n",
              "86                   1.0  Apply to be a poll manager today. State and co...   \n",
              "87  0.058823529411764705  Contact your county voter registration and ele...   \n",
              "88  0.037037037037037035  Contact your county voter registration and ele...   \n",
              "89                   1.0  Contact your county voter registration and ele...   \n",
              "\n",
              "    Jaccard_score  Jaccard_passed  \n",
              "0        0.073171           False  \n",
              "1        0.025000           False  \n",
              "2        1.000000            True  \n",
              "3        0.000000           False  \n",
              "4        0.050000           False  \n",
              "..            ...             ...  \n",
              "85       0.072727           False  \n",
              "86       1.000000            True  \n",
              "87       0.058824           False  \n",
              "88       0.037037           False  \n",
              "89       1.000000            True  \n",
              "\n",
              "[90 rows x 4 columns]"
            ]
          },
          "metadata": {},
          "output_type": "display_data"
        }
      ],
      "source": [
        "display(table)"
      ]
    }
  ],
  "metadata": {
    "colab": {
      "provenance": []
    },
    "kernelspec": {
      "display_name": "gaico",
      "language": "python",
      "name": "python3"
    },
    "language_info": {
      "codemirror_mode": {
        "name": "ipython",
        "version": 3
      },
      "file_extension": ".py",
      "mimetype": "text/x-python",
      "name": "python",
      "nbconvert_exporter": "python",
      "pygments_lexer": "ipython3",
      "version": "3.12.10"
    }
  },
  "nbformat": 4,
  "nbformat_minor": 5
}
