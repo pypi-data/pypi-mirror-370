{
 "cells": [
  {
   "cell_type": "code",
   "execution_count": 1,
   "id": "d9e70ce5",
   "metadata": {},
   "outputs": [],
   "source": [
    "import gudhi as gd\n",
    "import petls as PETLS\n",
    "from scipy.linalg import eigh\n",
    "\n"
   ]
  },
  {
   "cell_type": "code",
   "execution_count": 3,
   "id": "e5a2d20b",
   "metadata": {},
   "outputs": [
    {
     "name": "stdout",
     "output_type": "stream",
     "text": [
      "L_0: [[ 3. -1. -1. -1.]\n",
      " [-1.  2.  0. -1.]\n",
      " [-1.  0.  2. -1.]\n",
      " [-1. -1. -1.  3.]]\n",
      "Eigs L_0: [1.4305115e-06 2.0000005e+00 4.0000000e+00 4.0000000e+00]\n",
      "L_1_up: [[ 0.  0.  0.  0.  0.]\n",
      " [ 0.  1. -1.  0.  1.]\n",
      " [ 0. -1.  1.  0. -1.]\n",
      " [ 0.  0.  0.  0.  0.]\n",
      " [ 0.  1. -1.  0.  1.]]\n",
      "L_1_down: [[ 2.  1.  1. -1.  0.]\n",
      " [ 1.  2.  1.  0. -1.]\n",
      " [ 1.  1.  2.  1.  1.]\n",
      " [-1.  0.  1.  2.  1.]\n",
      " [ 0. -1.  1.  1.  2.]]\n",
      "L_1: [[ 2.  1.  1. -1.  0.]\n",
      " [ 1.  3.  0.  0.  0.]\n",
      " [ 1.  0.  3.  1.  0.]\n",
      " [-1.  0.  1.  2.  1.]\n",
      " [ 0.  0.  0.  1.  3.]]\n",
      "Eigs L_1: [0.        2.0000002 3.000001  4.        4.000001 ]\n",
      "Eigs L_1_up: [-1.1920929e-07  0.0000000e+00  0.0000000e+00  4.7683716e-07\n",
      "  3.0000000e+00]\n",
      "Eigs L_1_down: [0.0000000e+00 4.7683716e-07 2.0000012e+00 4.0000000e+00 4.0000005e+00]\n"
     ]
    }
   ],
   "source": [
    "# Example 1 and Example 2\n",
    "# (1)----(3)\n",
    "#  |  \\ U |\n",
    "#  |   \\  |\n",
    "#  |    \\ |\n",
    "# (2)----(4)\n",
    "st = gd.SimplexTree()\n",
    "st.insert([1,2],filtration=0.0)\n",
    "st.insert([1,3],filtration=0.0)\n",
    "st.insert([1,4],filtration=0.0)\n",
    "st.insert([2,4],filtration=0.0)\n",
    "st.insert([3,4],filtration=0.0)\n",
    "st.insert([1,3,4],filtration=0.0)\n",
    "pl = PETLS.Complex(simplex_tree=st)\n",
    "\n",
    "# L0\n",
    "L0 = pl.get_L(0,0,0)\n",
    "print(\"L_0:\", L0)\n",
    "print(\"Eigs L_0:\", eigh(L0)[0])\n",
    "\n",
    "# L1\n",
    "L1_up = pl.get_up(1,0,0)\n",
    "print(\"L_1_up:\", L1_up)\n",
    "L1_down = pl.get_down(1,0)\n",
    "print(\"L_1_down:\", L1_down)\n",
    "L1 = pl.get_L(1,0,0)\n",
    "print(\"L_1:\", L1)\n",
    "print(\"Eigs L_1:\", eigh(L1)[0])\n",
    "print(\"Eigs L_1_up:\", eigh(L1_up)[0])\n",
    "print(\"Eigs L_1_down:\", eigh(L1_down)[0])"
   ]
  }
 ],
 "metadata": {
  "kernelspec": {
   "display_name": ".venv",
   "language": "python",
   "name": "python3"
  },
  "language_info": {
   "codemirror_mode": {
    "name": "ipython",
    "version": 3
   },
   "file_extension": ".py",
   "mimetype": "text/x-python",
   "name": "python",
   "nbconvert_exporter": "python",
   "pygments_lexer": "ipython3",
   "version": "3.12.3"
  }
 },
 "nbformat": 4,
 "nbformat_minor": 5
}
