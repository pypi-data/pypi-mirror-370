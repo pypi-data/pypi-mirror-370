{
 "cells": [
  {
   "cell_type": "code",
   "execution_count": 1,
   "id": "d3e2d06e",
   "metadata": {},
   "outputs": [],
   "source": [
    "import petls\n",
    "import numpy as np\n",
    "def get_pl():\n",
    "    d1 = np.array([[-1,0,-1],\n",
    "                [1,-1,0],\n",
    "                [0,1,1]])\n",
    "    d2 = np.array([[1],[1],[-1]]) \n",
    "    boundaries = [d1,d2]\n",
    "    filtrations = [[0,1,2],[3,4,5],[5]]\n",
    "    pl = petls.Complex(boundaries, filtrations)\n",
    "    return pl"
   ]
  },
  {
   "cell_type": "code",
   "execution_count": 2,
   "id": "01a400aa",
   "metadata": {},
   "outputs": [
    {
     "name": "stdout",
     "output_type": "stream",
     "text": [
      "eigs: [0. 3. 3.], type(eigs): <class 'numpy.ndarray'>\n",
      "[0. 3. 3.]\n"
     ]
    }
   ],
   "source": [
    "pl = get_pl()\n",
    "e = pl.spectra(0, 4, 5)\n",
    "print(e)"
   ]
  },
  {
   "cell_type": "code",
   "execution_count": 3,
   "id": "b2115ef7",
   "metadata": {},
   "outputs": [
    {
     "name": "stdout",
     "output_type": "stream",
     "text": [
      "   dim  filtration_a  filtration_b  duration_all  duration_eigs  duration_L  \\\n",
      "0    0             4             5      0.000467        0.00044    0.000022   \n",
      "\n",
      "   L_rows  betti  lambda  \n",
      "0       3      1     3.0  \n"
     ]
    }
   ],
   "source": [
    "pl.profile.to_csv(\"mycsv.csv\")"
   ]
  },
  {
   "cell_type": "code",
   "execution_count": 4,
   "id": "16cd6b2a",
   "metadata": {},
   "outputs": [],
   "source": [
    "pl.set_eigs_Algorithm(\"sparse\")"
   ]
  },
  {
   "cell_type": "code",
   "execution_count": 5,
   "id": "ad752da5",
   "metadata": {},
   "outputs": [
    {
     "name": "stdout",
     "output_type": "stream",
     "text": [
      "eigs: [3.4412754e-08 3.0000000e+00], type(eigs): <class 'numpy.ndarray'>\n"
     ]
    }
   ],
   "source": [
    "e2 = pl.spectra(0, 4, 5)"
   ]
  },
  {
   "cell_type": "code",
   "execution_count": null,
   "id": "8b1cafde",
   "metadata": {},
   "outputs": [],
   "source": []
  }
 ],
 "metadata": {
  "kernelspec": {
   "display_name": "venv_petls",
   "language": "python",
   "name": "python3"
  },
  "language_info": {
   "codemirror_mode": {
    "name": "ipython",
    "version": 3
   },
   "file_extension": ".py",
   "mimetype": "text/x-python",
   "name": "python",
   "nbconvert_exporter": "python",
   "pygments_lexer": "ipython3",
   "version": "3.11.3"
  }
 },
 "nbformat": 4,
 "nbformat_minor": 5
}
