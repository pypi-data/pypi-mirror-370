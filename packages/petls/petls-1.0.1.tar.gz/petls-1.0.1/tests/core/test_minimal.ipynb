{
 "cells": [
  {
   "cell_type": "code",
   "execution_count": 2,
   "metadata": {},
   "outputs": [
    {
     "name": "stdout",
     "output_type": "stream",
     "text": [
      "[1. 3.]\n"
     ]
    }
   ],
   "source": [
    "from petls import Complex\n",
    "import numpy as np\n",
    "\n",
    "d1 = np.array([[-1,  0, -1],\n",
    "                [1, -1,  0],\n",
    "                [0,  1,  1]])\n",
    "\n",
    "d2 = np.array([[1], [1], [-1]]) \n",
    "boundaries = [d1,d2]\n",
    "filtrations = [[0,1,2], # c0\n",
    "               [3,4,5], # c1\n",
    "               [5]]     # c2\n",
    "\n",
    "pl = Complex(boundaries, filtrations)\n",
    "eigenvalues = pl.spectra(dim=1, a=4, b=5)\n",
    "print(eigenvalues)"
   ]
  }
 ],
 "metadata": {
  "kernelspec": {
   "display_name": ".venv",
   "language": "python",
   "name": "python3"
  },
  "language_info": {
   "codemirror_mode": {
    "name": "ipython",
    "version": 3
   },
   "file_extension": ".py",
   "mimetype": "text/x-python",
   "name": "python",
   "nbconvert_exporter": "python",
   "pygments_lexer": "ipython3",
   "version": "3.10.12"
  }
 },
 "nbformat": 4,
 "nbformat_minor": 2
}
