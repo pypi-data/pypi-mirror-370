{
 "cells": [
  {
   "cell_type": "code",
   "execution_count": 1,
   "id": "2d659688",
   "metadata": {},
   "outputs": [],
   "source": [
    "import numpy as np\n",
    "import pandas as pd\n",
    "from read_data_output_graph import read_data_output_graph"
   ]
  },
  {
   "cell_type": "code",
   "execution_count": 2,
   "id": "3df88278",
   "metadata": {},
   "outputs": [
    {
     "name": "stdout",
     "output_type": "stream",
     "text": [
      "reading data for  1a99\n"
     ]
    }
   ],
   "source": [
    "directory = \"./data\"\n",
    "pro_elements = [\"C\"] \n",
    "pro_ele_rad = [1.70]\n",
    "\n",
    "lig_elements = [\"C\", \"N\", \"O\", \"S\"]\n",
    "lig_ele_rad = [1.70, 1.55, 1.52, 1.80]\n",
    "pdbid = \"1a99\"\n",
    "cutoff = 10\n",
    "no_cutoff = False\n",
    "\n",
    "fname = read_data_output_graph(\"1a99\",pro_elements, pro_ele_rad, directory, lig_elements, lig_ele_rad,cutoff=cutoff,no_cutoff=no_cutoff)"
   ]
  },
  {
   "cell_type": "code",
   "execution_count": 3,
   "id": "0f090f7a",
   "metadata": {},
   "outputs": [],
   "source": [
    "from petls import dFlag"
   ]
  },
  {
   "cell_type": "code",
   "execution_count": null,
   "id": "f3aa2986",
   "metadata": {},
   "outputs": [
    {
     "name": "stdout",
     "output_type": "stream",
     "text": [
      "nontrivial filtration algorithm\n",
      "end nontrivial filtration alg\n",
      "end prepare graph filtration\n",
      "cell count in dimension 1 is 1466\n",
      "cell count in dimension 2 is 2361\n",
      "cell count in dimension 3 is 0\n",
      "nontrivial filtration algorithm\n",
      "end nontrivial filtration alg\n",
      "end prepare graph filtration\n",
      "cell count in dimension 1 is 1466\n",
      "cell count in dimension 2 is 2361\n",
      "cell count in dimension 3 is 0\n"
     ]
    }
   ],
   "source": [
    "max_r = cutoff\n",
    "stepsize = 0.1\n",
    "num_steps = max_r/stepsize\n",
    "unflipped = dFlag(filename=fname, max_dim=2)\n",
    "flipped = dFlag(filename = fname, max_dim=2)\n",
    "flipped.flipped = True\n",
    "for i in range(round(num_steps)):\n",
    "    for dim in range(3):\n",
    "        unflipped.spectra(dim,i*stepsize,(i+1)*stepsize)\n",
    "        flipped.spectra(dim,i*stepsize,(i+1)*stepsize)\n",
    "unflipped.time_to_csv(\"unflipped_profile.csv\")\n",
    "flipped.time_to_csv(\"flipped_profile.csv\")\n",
    "print(\"finished\")"
   ]
  }
 ],
 "metadata": {
  "kernelspec": {
   "display_name": "venv_petls",
   "language": "python",
   "name": "python3"
  },
  "language_info": {
   "codemirror_mode": {
    "name": "ipython",
    "version": 3
   },
   "file_extension": ".py",
   "mimetype": "text/x-python",
   "name": "python",
   "nbconvert_exporter": "python",
   "pygments_lexer": "ipython3",
   "version": "3.11.3"
  },
  "latex_envs": {
   "LaTeX_envs_menu_present": true,
   "autoclose": false,
   "autocomplete": true,
   "bibliofile": "biblio.bib",
   "cite_by": "apalike",
   "current_citInitial": 1,
   "eqLabelWithNumbers": true,
   "eqNumInitial": 1,
   "hotkeys": {
    "equation": "Ctrl-E",
    "itemize": "Ctrl-I"
   },
   "labels_anchors": false,
   "latex_user_defs": false,
   "report_style_numbering": false,
   "user_envs_cfg": false
  }
 },
 "nbformat": 4,
 "nbformat_minor": 5
}
