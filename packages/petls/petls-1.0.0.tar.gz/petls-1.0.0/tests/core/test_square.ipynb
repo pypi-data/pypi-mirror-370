{
 "cells": [
  {
   "cell_type": "code",
   "execution_count": 6,
   "id": "b9325720",
   "metadata": {},
   "outputs": [],
   "source": [
    "import gudhi as gd\n",
    "import petls as PETLS\n",
    "from scipy.linalg import eigh\n"
   ]
  },
  {
   "cell_type": "code",
   "execution_count": null,
   "id": "c094ed12",
   "metadata": {},
   "outputs": [
    {
     "name": "stdout",
     "output_type": "stream",
     "text": [
      "[[ 2  1  1  0]\n",
      " [ 1  2  1 -1]\n",
      " [ 1  1  2  1]\n",
      " [ 0 -1  1  2]]\n",
      "[[ 0. -0.  0. -0.]\n",
      " [-0.  1. -1.  1.]\n",
      " [ 0. -1.  1. -1.]\n",
      " [-0.  1. -1.  1.]]\n",
      "L_manual: [[ 2.  1.  1. -0.]\n",
      " [ 1.  3.  0.  0.]\n",
      " [ 1.  0.  3.  0.]\n",
      " [-0.  0.  0.  3.]]\n",
      "L: [[2. 1. 1. 0.]\n",
      " [1. 3. 0. 0.]\n",
      " [1. 0. 3. 0.]\n",
      " [0. 0. 0. 3.]]\n",
      "[0.9999999403953552, 3.0, 3.0, 4.0]\n",
      "[[ 1.  0. -1.  0.  1.]\n",
      " [ 0.  1. -1.  1.  0.]\n",
      " [-1. -1.  2. -1. -1.]\n",
      " [ 0.  1. -1.  1.  0.]\n",
      " [ 1.  0. -1.  0.  1.]]\n",
      "eigs down up\n",
      "[2.22044605e-15 1.00000000e+00 3.00000000e+00 4.00000000e+00]\n",
      "[-1.1920929e-07  0.0000000e+00  4.7683716e-07  3.0000000e+00]\n"
     ]
    },
    {
     "ename": "",
     "evalue": "",
     "output_type": "error",
     "traceback": [
      "\u001b[1;31mnotebook controller is DISPOSED. \n",
      "\u001b[1;31mView Jupyter <a href='command:jupyter.viewOutput'>log</a> for further details."
     ]
    }
   ],
   "source": [
    "st = gd.SimplexTree()\n",
    "st.insert([1,3,4],filtration=0.0)\n",
    "st.insert([1,2],filtration=0.0)\n",
    "st.insert([1,2,4], filtration=1.0)\n",
    "pl = PETLS.Complex(simplex_tree=st)\n",
    "L_down = pl.get_down(dim=1,a=0.0)\n",
    "L_up = pl.get_up(dim=1,a=0.0,b=1.0)\n",
    "print(L_down.todense())\n",
    "print(L_up)\n",
    "L = pl.get_L(1,0,0)\n",
    "print(\"L_manual:\", L_manual)\n",
    "print(\"L:\",L)\n",
    "# pl.print_boundaries()\n",
    "print(pl.spectra(1,0,0))\n",
    "print(pl.get_up(dim=1,a=1.1,b=1.1))\n",
    "print(\"eigs down up\")\n",
    "print(eigh(L_down.todense())[0])\n",
    "print(eigh(L_up)[0])"
   ]
  },
  {
   "cell_type": "code",
   "execution_count": 3,
   "id": "77676a0a",
   "metadata": {},
   "outputs": [
    {
     "name": "stdout",
     "output_type": "stream",
     "text": [
      "[1.999999761581421, 1.999999761581421, 3.999999761581421, 3.999999761581421, 4.0]\n"
     ]
    }
   ],
   "source": [
    "import gudhi as gd\n",
    "import petls as PETLS\n",
    "\n",
    "st = gd.SimplexTree()\n",
    "st.insert([1,3,4], filtration=0.0)\n",
    "st.insert([1,2],   filtration=0.0)\n",
    "st.insert([2,4],   filtration=0.0)\n",
    "st.insert([1,2,4], filtration=1.0)\n",
    "\n",
    "pl = PETLS.Complex(simplex_tree=st)\n",
    "print(pl.spectra(dim=1, a=0, b=1))\n"
   ]
  },
  {
   "cell_type": "code",
   "execution_count": 2,
   "id": "993b7437",
   "metadata": {},
   "outputs": [
    {
     "name": "stdout",
     "output_type": "stream",
     "text": [
      "[[ 2  1  1 -1  0]\n",
      " [ 1  2  1  0 -1]\n",
      " [ 1  1  2  1  1]\n",
      " [-1  0  1  2  1]\n",
      " [ 0 -1  1  1  2]]\n",
      "[[ 1.  0. -1.  1.  0.]\n",
      " [ 0.  1. -1.  0.  1.]\n",
      " [-1. -1.  2. -1. -1.]\n",
      " [ 1.  0. -1.  1.  0.]\n",
      " [ 0.  1. -1.  0.  1.]]\n",
      "L_manual: [[3. 1. 0. 0. 0.]\n",
      " [1. 3. 0. 0. 0.]\n",
      " [0. 0. 4. 0. 0.]\n",
      " [0. 0. 0. 3. 1.]\n",
      " [0. 0. 0. 1. 3.]]\n",
      "L: [[3. 1. 0. 0. 0.]\n",
      " [1. 3. 0. 0. 0.]\n",
      " [0. 0. 4. 0. 0.]\n",
      " [0. 0. 0. 3. 1.]\n",
      " [0. 0. 0. 1. 3.]]\n",
      "[1.999999761581421, 1.999999761581421, 3.999999761581421, 3.999999761581421, 4.0]\n"
     ]
    }
   ],
   "source": [
    "L_down = pl.get_down(dim=1, a=0.0)\n",
    "L_up = pl.get_up(dim=1, a=0.0, b=1.0)\n",
    "\n",
    "print(L_down.todense())\n",
    "print(L_up)\n",
    "L_manual = L_down + L_up\n",
    "L = pl.get_L(1,0,1)\n",
    "print(\"L_manual:\", L_manual)\n",
    "print(\"L:\",L)\n",
    "# pl.print_boundaries()\n",
    "print(pl.spectra(dim=1, a=0, b=1))\n"
   ]
  },
  {
   "cell_type": "code",
   "execution_count": null,
   "id": "e28f7b16",
   "metadata": {},
   "outputs": [
    {
     "name": "stdout",
     "output_type": "stream",
     "text": [
      "[[ 1.  0. -1.  1.  0.]\n",
      " [ 0.  1. -1.  0.  1.]\n",
      " [-1. -1.  2. -1. -1.]\n",
      " [ 1.  0. -1.  1.  0.]\n",
      " [ 0.  1. -1.  0.  1.]]\n"
     ]
    },
    {
     "ename": "",
     "evalue": "",
     "output_type": "error",
     "traceback": [
      "\u001b[1;31mnotebook controller is DISPOSED. \n",
      "\u001b[1;31mView Jupyter <a href='command:jupyter.viewOutput'>log</a> for further details."
     ]
    }
   ],
   "source": [
    "L_up = pl.get_up(dim=1,a=1.1,b=1.1)\n",
    "print(L_up)"
   ]
  }
 ],
 "metadata": {
  "kernelspec": {
   "display_name": "pl",
   "language": "python",
   "name": "python3"
  },
  "language_info": {
   "codemirror_mode": {
    "name": "ipython",
    "version": 3
   },
   "file_extension": ".py",
   "mimetype": "text/x-python",
   "name": "python",
   "nbconvert_exporter": "python",
   "pygments_lexer": "ipython3",
   "version": "3.10.12"
  }
 },
 "nbformat": 4,
 "nbformat_minor": 5
}
