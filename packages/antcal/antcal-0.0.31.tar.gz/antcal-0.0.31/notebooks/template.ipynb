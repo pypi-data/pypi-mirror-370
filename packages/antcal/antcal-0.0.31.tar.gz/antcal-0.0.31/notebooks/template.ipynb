{
 "cells": [
  {
   "cell_type": "code",
   "execution_count": 1,
   "metadata": {},
   "outputs": [],
   "source": [
    "# Imports\n",
    "import importlib\n",
    "from pathlib import Path\n",
    "\n",
    "import pyaedt\n",
    "from pyaedt import Desktop, Hfss\n",
    "from pyaedt.application.Variables import VariableManager\n",
    "from pyaedt.generic.constants import PLANE, SOLUTIONS\n",
    "from pyaedt.generic.general_methods import remove_project_lock"
   ]
  },
  {
   "cell_type": "code",
   "execution_count": 2,
   "metadata": {},
   "outputs": [
    {
     "name": "stdout",
     "output_type": "stream",
     "text": [
      "Initializing new desktop!\n",
      "PyAEDT INFO: StdOut is enabled\n",
      "PyAEDT INFO: Log on file is enabled\n",
      "PyAEDT INFO: Log on Desktop Message Manager is enabled\n",
      "PyAEDT INFO: Debug logger is disabled. PyAEDT methods will not be logged.\n",
      "PyAEDT INFO: Launching PyAEDT outside AEDT with gRPC plugin.\n",
      "PyAEDT INFO: Launching AEDT using the gRPC plugin.\n",
      "PyAEDT INFO: No AEDT gRPC found. Found active COM Sessions.\n",
      "PyAEDT INFO: AEDT installation Path C:\\Program Files\\AnsysEM\\v232\\Win64.\n",
      "PyAEDT INFO: Launching AEDT with COM plugin using PythonNET.\n",
      "PyAEDT INFO: AEDT 2023.2 Started with process ID 9248.\n",
      "PyAEDT INFO: pyaedt v0.7.4\n",
      "PyAEDT INFO: Python version 3.11.6 | packaged by conda-forge | (main, Oct  3 2023, 10:29:11) [MSC v.1935 64 bit (AMD64)]\n",
      "PyAEDT INFO: AEDT 2023.2.0 Build Date 2023-05-16 22:25:19\n"
     ]
    }
   ],
   "source": [
    "# Launch AEDT\n",
    "\n",
    "d = Desktop(\n",
    "    non_graphical=False,\n",
    "    new_desktop_session=False,\n",
    ")\n",
    "d.enable_autosave()\n"
   ]
  },
  {
   "cell_type": "code",
   "execution_count": 4,
   "metadata": {},
   "outputs": [
    {
     "name": "stdout",
     "output_type": "stream",
     "text": [
      "Returning found desktop with PID 19712!\n",
      "PyAEDT INFO: Project example-project set to active.\n",
      "PyAEDT INFO: Aedt Objects correctly read\n",
      "PyAEDT INFO: AEDT file load (threaded) time: 0.11510801315307617\n"
     ]
    },
    {
     "data": {
      "text/plain": [
       "True"
      ]
     },
     "execution_count": 4,
     "metadata": {},
     "output_type": "execute_result"
    }
   ],
   "source": [
    "# Create project\n",
    "\n",
    "project_name = \"example-project\"\n",
    "project_dir = Path(\"./projects\")\n",
    "project_dir.mkdir(exist_ok=True)\n",
    "project_path = project_dir / f\"{project_name}.aedt\"\n",
    "remove_project_lock(str(project_path))\n",
    "design_name = \"base-design\"\n",
    "\n",
    "hfss = Hfss(\n",
    "    projectname=str(project_path.absolute()),\n",
    "    designname=design_name,\n",
    "    solution_type=SOLUTIONS.Hfss.DrivenModal,\n",
    ")\n",
    "hfss.set_auto_open()\n",
    "setup_name = \"Auto1\"\n"
   ]
  },
  {
   "cell_type": "code",
   "execution_count": 3,
   "metadata": {},
   "outputs": [],
   "source": [
    "# Parameters\n",
    "\n",
    "parameters = dict(\n",
    "    xl_gnd_off=\"13 mm\",\n",
    "    yl_gnd_off=\"x_gnd_off\",\n",
    "    xl_dr1=\"4.0 mm\",\n",
    "    yl_dr1=\"xl_dr1\",\n",
    "    w_feed=\"0.5 mm\",\n",
    "    l_stub=\"0.8 mm\",\n",
    "    zl_sub1=\"0.203 mm\",\n",
    "    zl_sub2=\"1.27 mm\",\n",
    "    w_slot=\"0.3 mm\",\n",
    "    l_slot=\"3.0 mm\",\n",
    "    xl_gnd=\"2 * xl_gnd_off + xl_dr1\",\n",
    "    yl_gnd=\"2 * yl_gnd_off + yl_dr1\",\n",
    ")\n"
   ]
  },
  {
   "cell_type": "code",
   "execution_count": 17,
   "metadata": {},
   "outputs": [
    {
     "data": {
      "text/plain": [
       "True"
      ]
     },
     "execution_count": 17,
     "metadata": {},
     "output_type": "execute_result"
    }
   ],
   "source": [
    "# Release desktop\n",
    "\n",
    "d.release_desktop(close_on_exit=False)\n"
   ]
  }
 ],
 "metadata": {
  "kernelspec": {
   "display_name": "Python 3",
   "language": "python",
   "name": "python3"
  },
  "language_info": {
   "codemirror_mode": {
    "name": "ipython",
    "version": 3
   },
   "file_extension": ".py",
   "mimetype": "text/x-python",
   "name": "python",
   "nbconvert_exporter": "python",
   "pygments_lexer": "ipython3",
   "version": "3.11.7"
  },
  "orig_nbformat": 4
 },
 "nbformat": 4,
 "nbformat_minor": 2
}
