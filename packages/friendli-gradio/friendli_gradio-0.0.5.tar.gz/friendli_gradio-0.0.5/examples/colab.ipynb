{
 "cells": [
  {
   "cell_type": "code",
   "execution_count": null,
   "id": "ae024c47",
   "metadata": {
    "vscode": {
     "languageId": "plaintext"
    }
   },
   "outputs": [],
   "source": [
    "%%capture\n",
    "!pip install -U friendli-gradio"
   ]
  },
  {
   "cell_type": "code",
   "execution_count": null,
   "id": "0305f3f2",
   "metadata": {
    "vscode": {
     "languageId": "plaintext"
    }
   },
   "outputs": [],
   "source": [
    "import gradio as gr\n",
    "import friendli_gradio\n",
    "\n",
    "gr.load(\n",
    "    name='Qwen/Qwen3-235B-A22B-Instruct-2507',\n",
    "    src=friendli_gradio.registry\n",
    ").launch(share=True)"
   ]
  }
 ],
 "metadata": {
  "language_info": {
   "name": "python"
  }
 },
 "nbformat": 4,
 "nbformat_minor": 5
}
