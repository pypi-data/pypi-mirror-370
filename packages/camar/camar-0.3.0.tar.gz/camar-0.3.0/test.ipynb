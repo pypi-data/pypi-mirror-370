{
 "cells": [
  {
   "cell_type": "code",
   "execution_count": 1,
   "id": "b15f4697",
   "metadata": {},
   "outputs": [],
   "source": [
    "import jax\n",
    "from camar import camar_v0\n",
    "from camar.integrations import CamarWrapper\n",
    "from camar.render import SVG_Visualizer"
   ]
  },
  {
   "cell_type": "code",
   "execution_count": 2,
   "id": "d00ac91c",
   "metadata": {},
   "outputs": [],
   "source": [
    "key = jax.random.key(0)\n",
    "env = camar_v0(\"labmaze_grid\", num_maps=1)\n",
    "obs, state = env.reset(key)"
   ]
  },
  {
   "cell_type": "code",
   "execution_count": 3,
   "id": "87d52257",
   "metadata": {},
   "outputs": [],
   "source": [
    "SVG_Visualizer(env, state, agent_transparancy=0.8).save_svg(\"test.svg\")"
   ]
  },
  {
   "cell_type": "code",
   "execution_count": 3,
   "id": "88e71e38",
   "metadata": {},
   "outputs": [],
   "source": [
    "env = CamarWrapper(env=camar_v0(), seed=0, batch_size=3, device=\"cuda\")"
   ]
  },
  {
   "cell_type": "code",
   "execution_count": 4,
   "id": "5b546876",
   "metadata": {},
   "outputs": [],
   "source": [
    "out = env.rollout(5)"
   ]
  },
  {
   "cell_type": "code",
   "execution_count": 1,
   "id": "6d3a37b7",
   "metadata": {},
   "outputs": [],
   "source": [
    "import colorsys\n",
    "\n",
    "def hex_to_hsl(hex_color):\n",
    "    # Remove '#' if present\n",
    "    hex_color = hex_color.lstrip('#')\n",
    "\n",
    "    # Convert hex to RGB (0-255)\n",
    "    r = int(hex_color[0:2], 16)\n",
    "    g = int(hex_color[2:4], 16)\n",
    "    b = int(hex_color[4:6], 16)\n",
    "\n",
    "    # Normalize RGB values to 0-1\n",
    "    r /= 255.0\n",
    "    g /= 255.0\n",
    "    b /= 255.0\n",
    "\n",
    "    # Convert RGB to HLS (note: colorsys uses HLS not HSL)\n",
    "    h, l, s = colorsys.rgb_to_hls(r, g, b)\n",
    "\n",
    "    # Convert to degrees and percentages\n",
    "    h = round(h * 360)\n",
    "    s = round(s * 100)\n",
    "    l = round(l * 100)\n",
    "\n",
    "    return h, s, l"
   ]
  },
  {
   "cell_type": "code",
   "execution_count": 2,
   "id": "d3b30158",
   "metadata": {},
   "outputs": [
    {
     "data": {
      "text/plain": [
       "(3, 53, 50)"
      ]
     },
     "execution_count": 2,
     "metadata": {},
     "output_type": "execute_result"
    }
   ],
   "source": [
    "hex_to_hsl(\"c1433c\")"
   ]
  },
  {
   "cell_type": "code",
   "execution_count": null,
   "id": "67901f80",
   "metadata": {},
   "outputs": [],
   "source": [
    "\"hsl(3, 53%, 50%)\""
   ]
  },
  {
   "cell_type": "code",
   "execution_count": null,
   "id": "228b67b3",
   "metadata": {},
   "outputs": [],
   "source": []
  }
 ],
 "metadata": {
  "kernelspec": {
   "display_name": ".venv",
   "language": "python",
   "name": "python3"
  },
  "language_info": {
   "codemirror_mode": {
    "name": "ipython",
    "version": 3
   },
   "file_extension": ".py",
   "mimetype": "text/x-python",
   "name": "python",
   "nbconvert_exporter": "python",
   "pygments_lexer": "ipython3",
   "version": "3.10.17"
  }
 },
 "nbformat": 4,
 "nbformat_minor": 5
}
