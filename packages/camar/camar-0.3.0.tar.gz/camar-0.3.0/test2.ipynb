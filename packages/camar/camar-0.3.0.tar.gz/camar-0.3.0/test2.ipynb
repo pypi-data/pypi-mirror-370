{
 "cells": [
  {
   "cell_type": "code",
   "execution_count": 1,
   "id": "9d506206",
   "metadata": {},
   "outputs": [],
   "source": [
    "import os\n",
    "\n",
    "os.environ[\"CUDA_VISIBLE_DEVICES\"] = \"0\"\n",
    "os.environ[\"XLA_PYTHON_CLIENT_PREALLOCATE\"] = \"false\"\n",
    "os.environ[\"PYTORCH_CUDA_ALLOC_CONF\"] = \"expandable_segments:True\""
   ]
  },
  {
   "cell_type": "code",
   "execution_count": 14,
   "id": "60cebc6a",
   "metadata": {},
   "outputs": [],
   "source": [
    "from camar import camar_v0\n",
    "from camar.render import SVG_Visualizer\n",
    "import jax\n",
    "import jax.numpy as jnp"
   ]
  },
  {
   "cell_type": "code",
   "execution_count": 18,
   "id": "8e24f1d3",
   "metadata": {},
   "outputs": [],
   "source": [
    "env = camar_v0(grain_factor=8)"
   ]
  },
  {
   "cell_type": "code",
   "execution_count": 19,
   "id": "ef4ec54d",
   "metadata": {},
   "outputs": [],
   "source": [
    "obs, state = env.reset(jax.random.key(0))"
   ]
  },
  {
   "cell_type": "code",
   "execution_count": null,
   "id": "0d127290",
   "metadata": {},
   "outputs": [],
   "source": [
    "SVG_Visualizer(env, state).save_svg(\"test2.svg\")"
   ]
  },
  {
   "cell_type": "code",
   "execution_count": 21,
   "id": "82689dbd",
   "metadata": {},
   "outputs": [
    {
     "data": {
      "text/plain": [
       "(49, 0.08571428571428572, 0.028571428571428574)"
      ]
     },
     "execution_count": 21,
     "metadata": {},
     "output_type": "execute_result"
    }
   ],
   "source": [
    "env.max_obs, env.agent_rad, env.landmark_rad"
   ]
  },
  {
   "cell_type": "code",
   "execution_count": 33,
   "id": "1442ebee",
   "metadata": {},
   "outputs": [],
   "source": [
    "for seed in range(100):\n",
    "    obs, state = jax.block_until_ready(env.reset(jax.random.key(seed)))\n",
    "\n",
    "    agent_pos = state.agent_pos\n",
    "    goal_pos = state.goal_pos\n",
    "    landmark_pos = state.landmark_pos\n",
    "\n",
    "    objects = jnp.vstack((agent_pos, landmark_pos)) # (num_objects, 2)\n",
    "\n",
    "    # (1, num_objects, 2) - (num_agents, 1, 2) -> (num_agents, num_objecst, 2)\n",
    "    ego_objects = objects[None, :, :] - agent_pos[:, None, :]\n",
    "\n",
    "    # (num_agents, num_objecst, 2) -> (num_agents, num_objecst)\n",
    "    dists = jnp.linalg.norm(ego_objects, axis=-1)\n",
    "    nearest_dists, nearest_ids = jax.lax.top_k(- dists, env.max_obs + 1) # (num_agents, self.max_obs + 1)\n",
    "\n",
    "    if not jnp.allclose(nearest_dists[:, 0], 0):\n",
    "        print(seed)"
   ]
  },
  {
   "cell_type": "code",
   "execution_count": 48,
   "id": "6b8cf01a",
   "metadata": {},
   "outputs": [
    {
     "data": {
      "text/plain": [
       "Array(True, dtype=bool)"
      ]
     },
     "execution_count": 48,
     "metadata": {},
     "output_type": "execute_result"
    }
   ],
   "source": [
    "jnp.all(jnp.sort(nearest_dists, axis=1, descending=True) == nearest_dists)"
   ]
  }
 ],
 "metadata": {
  "kernelspec": {
   "display_name": ".venv",
   "language": "python",
   "name": "python3"
  },
  "language_info": {
   "codemirror_mode": {
    "name": "ipython",
    "version": 3
   },
   "file_extension": ".py",
   "mimetype": "text/x-python",
   "name": "python",
   "nbconvert_exporter": "python",
   "pygments_lexer": "ipython3",
   "version": "3.10.17"
  }
 },
 "nbformat": 4,
 "nbformat_minor": 5
}
