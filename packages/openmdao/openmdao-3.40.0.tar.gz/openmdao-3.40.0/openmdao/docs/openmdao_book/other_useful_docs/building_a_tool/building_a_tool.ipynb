{
 "cells": [
  {
   "cell_type": "markdown",
   "id": "6900e30d-8361-430b-b20a-b7f0e78bc4ba",
   "metadata": {},
   "source": [
    "# Building a Tool on Top of OpenMDAO\n",
    "\n",
    "There are several things to take into account when setting up a repository that depends on\n",
    "OpenMDAO. Repository structure, writing project documentation with Sphinx, getting project\n",
    "documentation transferred to github-pages, setting up continuous integration on Travis CI, and\n",
    "releasing software are the topics covered.\n",
    "\n",
    "- [Repository Structure](repository_structure.ipynb)\n",
    "- [Release Your Project on pypi](release_process.ipynb)"
   ]
  }
 ],
 "metadata": {
  "kernelspec": {
   "display_name": "Python 3 (ipykernel)",
   "language": "python",
   "name": "python3"
  },
  "language_info": {
   "codemirror_mode": {
    "name": "ipython",
    "version": 3
   },
   "file_extension": ".py",
   "mimetype": "text/x-python",
   "name": "python",
   "nbconvert_exporter": "python",
   "pygments_lexer": "ipython3",
   "version": "3.12.1"
  }
 },
 "nbformat": 4,
 "nbformat_minor": 5
}
