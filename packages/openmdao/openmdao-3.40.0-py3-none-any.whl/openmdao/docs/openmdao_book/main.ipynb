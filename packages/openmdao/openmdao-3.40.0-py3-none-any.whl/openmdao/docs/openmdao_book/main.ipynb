{
 "cells": [
  {
   "cell_type": "markdown",
   "id": "bd581f79-0054-4ae7-910f-90bb924b80e5",
   "metadata": {},
   "source": [
    "# Welcome to OpenMDAO\n",
    "\n",
    "OpenMDAO is an open-source high-performance computing platform for\n",
    "systems analysis and multidisciplinary optimization, written in Python.\n",
    "It enables you to decompose your models, making them easier to build and\n",
    "maintain, while still solving them in a tightly coupled manner with\n",
    "efficient parallel numerical methods.\n",
    "\n",
    "The OpenMDAO project is primarily focused on supporting gradient-based\n",
    "optimization with analytic derivatives to allow you to explore large\n",
    "design spaces with hundreds or thousands of design variables, but the\n",
    "framework also has a number of parallel computing features that can\n",
    "work with gradient-free optimization, mixed-integer nonlinear\n",
    "programming, and traditional design space exploration.\n",
    "\n",
    "If you are using OpenMDAO, please [cite](other/citing.ipynb) us!\n",
    "\n",
    "## User Guide\n",
    "\n",
    "These are a collection of tutorial problems that teach you important concepts and techniques for using OpenMDAO.\n",
    "For new users, you should work through all material in **Getting Started** and **Basic User Guide**.\n",
    "That represents the minimum set of information you need to understand to be able to work with OpenMDAO models.\n",
    "\n",
    "You will also find tutorials in the **Advanced User Guide** to be very helpful as you grow more familiar with OpenMDAO,\n",
    "but you don't need to read these right away.\n",
    "They explain important secondary concepts that you will run into when working with more complex OpenMDAO models.\n",
    "\n",
    "- [Getting Started](getting_started/getting_started.ipynb)\n",
    "- [Basic User Guide](basic_user_guide/basic_user_guide.ipynb)\n",
    "- [Advanced User Guide](advanced_user_guide/advanced_user_guide.ipynb)\n",
    "\n",
    "\n",
    "## Reference Guide\n",
    "\n",
    "These docs are intended to be used by as a reference by users looking for explanation of a particular feature in detail or\n",
    "documentation of the arguments/options/settings for a specific method, Component, Driver, or Solver.\n",
    "\n",
    "- [Features](features/features.ipynb)\n",
    "- [Examples](examples/examples.ipynb)\n",
    "- [Theory Manual](theory_manual/theory_manual.ipynb)\n",
    "\n",
    "\n",
    "## Other Useful Docs\n",
    "\n",
    "- [Command Line Tools](other_useful_docs/om_command.ipynb)\n",
    "- [How to Cite OpenMDAO](other/citing.ipynb)\n",
    "- [Building a Tool on Top of OpenMDAO](other_useful_docs/building_a_tool/building_a_tool.ipynb)\n",
    "- [Conversion Guide for the Auto-IVC (IndepVarComp) Feature](other_useful_docs/auto_ivc_api_translation.ipynb)\n",
    "- [Upgrading from OpenMDAO 2.10 to OpenMDAO 3](other_useful_docs/api_translation.ipynb)\n",
    "- [File Wrapping](other_useful_docs/file_wrap.ipynb)\n",
    "- [Source Docs](_srcdocs/index.ipynb)\n",
    "- [Developer Docs (if you’re going to contribute code)](other_useful_docs/developer_docs/developer_docs.ipynb)\n"
   ]
  }
 ],
 "metadata": {
  "kernelspec": {
   "display_name": "Python 3 (ipykernel)",
   "language": "python",
   "name": "python3"
  },
  "language_info": {
   "codemirror_mode": {
    "name": "ipython",
    "version": 3
   },
   "file_extension": ".py",
   "mimetype": "text/x-python",
   "name": "python",
   "nbconvert_exporter": "python",
   "pygments_lexer": "ipython3",
   "version": "3.12.1"
  }
 },
 "nbformat": 4,
 "nbformat_minor": 5
}
