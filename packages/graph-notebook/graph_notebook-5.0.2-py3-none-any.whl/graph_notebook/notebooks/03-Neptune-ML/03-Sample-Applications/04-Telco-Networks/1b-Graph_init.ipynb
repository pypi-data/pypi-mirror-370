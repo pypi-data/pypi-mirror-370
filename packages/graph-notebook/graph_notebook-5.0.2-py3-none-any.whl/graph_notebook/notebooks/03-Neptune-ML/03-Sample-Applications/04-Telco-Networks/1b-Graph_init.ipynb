{
 "cells": [
  {
   "cell_type": "markdown",
   "id": "21451344-eff7-4c5b-b75d-046fbde1c9a2",
   "metadata": {},
   "source": [
    "# Loading the Graph data\n",
    "\n",
    "The data that we use is adapted from the [Stanford Network Analysis Project (SNAP) public Telecom dataset](https://snap.stanford.edu/data/#tcn)\n",
    "\n",
    "The relationships between users and cells in dataset were extracted and was augmented to add gnodeb nodes and edges between cells and gnodebs to make it similar to a 5G cell network.\n",
    "\n",
    "The data transformation implementation with AWS Glue can be found in the script `Transform2Neptune.py`\n",
    "\n",
    "The final dataset used in this application contains Users, Cells, gnodeb, etc. and the known links in between\n",
    "\n",
    "- s3://neptuneml-data/telcograph/data/node_users.csv\n",
    "\n",
    "- s3://neptuneml-data/telcograph/node_cell.csv\n",
    "\n",
    "- s3://neptuneml-data/telcograph/gnodeb_node.csv\n",
    "\n",
    "- s3://neptuneml-data/telcograph/edge_all.csv\n",
    "\n",
    "- s3://neptuneml-data/telcograph/edge_gnodeb.csv\n"
   ]
  },
  {
   "cell_type": "code",
   "execution_count": 1,
   "id": "960dfe5d-67ce-43fd-85a4-6b1593790581",
   "metadata": {
    "tags": []
   },
   "outputs": [],
   "source": [
    "# #load command for loading the graph from S3 to Neptunedb\n",
    "%load -s s3://neptuneml-data/telco-graph/data -f csv -p OVERSUBSCRIBE"
   ]
  }
 ],
 "metadata": {
  "kernelspec": {
   "display_name": "Python 3",
   "language": "python",
   "name": "python3"
  },
  "language_info": {
   "codemirror_mode": {
    "name": "ipython",
    "version": 3
   },
   "file_extension": ".py",
   "mimetype": "text/x-python",
   "name": "python",
   "nbconvert_exporter": "python",
   "pygments_lexer": "ipython3",
   "version": "3.9.6"
  }
 },
 "nbformat": 4,
 "nbformat_minor": 5
}
