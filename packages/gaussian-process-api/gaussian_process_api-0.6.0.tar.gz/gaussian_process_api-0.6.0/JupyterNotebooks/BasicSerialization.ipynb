{
 "cells": [
  {
   "cell_type": "markdown",
   "id": "faabe3b6",
   "metadata": {},
   "source": [
    "# Gaussian Process API Tutorial 2\n",
    "\n",
    "Thank you for checking out our package!\n",
    "\n",
    "By the end of this tutorial, you should be able to\n",
    "- Save and load interpolated fits\n",
    "- Check if two fits are equal"
   ]
  },
  {
   "cell_type": "markdown",
   "id": "8f737ca0",
   "metadata": {},
   "source": [
    "Let's import what we need for this tutorial!"
   ]
  },
  {
   "cell_type": "code",
   "execution_count": null,
   "id": "4363713b",
   "metadata": {},
   "outputs": [],
   "source": [
    "import numpy as np\n",
    "rs = np.random.RandomState(1)\n",
    "from matplotlib import pyplot as plt\n",
    "\n",
    "from gp_api.gaussian_process import GaussianProcess\n",
    "from gp_api.kernels import CompactKernel, WhiteNoiseKernel"
   ]
  },
  {
   "cell_type": "markdown",
   "id": "40d7f73a",
   "metadata": {},
   "source": [
    "We want to generate plots!"
   ]
  },
  {
   "cell_type": "code",
   "execution_count": null,
   "id": "42a1cd1e",
   "metadata": {},
   "outputs": [],
   "source": [
    "%matplotlib inline"
   ]
  },
  {
   "cell_type": "code",
   "execution_count": null,
   "id": "255a5fb8",
   "metadata": {},
   "outputs": [],
   "source": [
    "# Create a function to plot the output of a gp\n",
    "def plot_linear(x_train, y_train, x_test, gp_fit,nerr=100):\n",
    "    # Compute the mean and variance of the function returned\n",
    "    y_mean_test = gp_fit.mean(x_test)\n",
    "\n",
    "    # Compute 90% credible intervals from random samples\n",
    "    y_samples_test = gp_fit.rvs(n_err, x_test, random_state=rs)\n",
    "    y_90_lo_test, y_90_hi_test = np.percentile(y_samples_test, [5,95], axis=1)\n",
    "\n",
    "    # Initialize axis\n",
    "    fig, ax = plt.subplots()\n",
    "\n",
    "    # Plot training data on top\n",
    "    ax.scatter(x_train[:,0], y_train, color='C3',zorder=2)\n",
    "\n",
    "    # Plot fit mean\n",
    "    ax.plot(x_test[:,0], y_mean_test, color='C0', zorder=1)\n",
    "\n",
    "    # Plot the 90 percent credible region\n",
    "    ax.fill_between(x_test[:,0],y_90_lo_test,y_90_hi_test, color=\"C0\",alpha=0.4,zorder=0)\n"
   ]
  },
  {
   "cell_type": "markdown",
   "id": "a989b0ca",
   "metadata": {},
   "source": [
    "## Saving and loading fits\n",
    "We will take our example from the basic linear fit, and save it.\n",
    "\n",
    "We will then load the fit, and check if it is the same fit.\n",
    "\n",
    "First, let's demonstrate our final example from the previous notebook"
   ]
  },
  {
   "cell_type": "code",
   "execution_count": null,
   "id": "2e883bb2",
   "metadata": {},
   "outputs": [],
   "source": [
    "# Define a function to train some data\n",
    "def fit_compact_nd(x_train, y_train, whitenoise=0.0, sparse=True, use_cython=False,xpy=np):\n",
    "    # Extract dimensions from data\n",
    "    ntrain, dim = x_train.shape\n",
    "    # Create the compact kernel\n",
    "    k1 = CompactKernel.fit(x_train,method=\"scott\",sparse=sparse,use_cython=use_cython)\n",
    "    # Check if we are including a whitenoise kernel\n",
    "    if whitenoise==0.0:\n",
    "        # If not, the compact kernel is the only kernel we need\n",
    "        kernel = k1\n",
    "    else:\n",
    "        # If we are, we need to define the whitenosie kernel\n",
    "        k2 = WhiteNoiseKernel.fit(x_train,method=\"simple\",sparse=sparse,scale=whitenoise,use_cython=use_cython)\n",
    "        # We can add kernels together!\n",
    "        kernel = k1 + k2\n",
    "    # Fit the training data using a gaussian process\n",
    "    gp_fit = GaussianProcess.fit(x_train, y_train, kernel=kernel)\n",
    "    return gp_fit"
   ]
  },
  {
   "cell_type": "code",
   "execution_count": null,
   "id": "b74234bc",
   "metadata": {},
   "outputs": [],
   "source": [
    "# Define number of training points for linear model\n",
    "n_train = 20\n",
    "# Define number of test evaluations\n",
    "n_test = 1000\n",
    "# Define number of samples for error estimate\n",
    "n_err = 100\n",
    "# Define our domain\n",
    "xmin, xmax = 0.0, 5.0\n",
    "# Define our linear model\n",
    "m, b = 4, -3\n",
    "# Define our noise\n",
    "x_noise = 0.1\n",
    "y_noise = 0.1\n",
    "# Generate a sample space to evaluate the model\n",
    "x_test = np.linspace(xmin, xmax, n_test)[:,None]\n",
    "\n",
    "#Create training data\n",
    "x_train = rs.uniform(xmin, xmax, (n_train,1))\n",
    "y_train = m*x_train[:,0] + b\n",
    "\n",
    "# Add noise\n",
    "x_train[:,0] += x_noise*rs.randn(n_train)\n",
    "y_train += y_noise*rs.randn(n_train)\n",
    "\n",
    "# Define a small whitenoise value\n",
    "eps = 0.01\n",
    "\n",
    "# Fit the training data using our gaussian process\n",
    "gp_fit = fit_compact_nd(x_train,y_train,whitenoise=eps)\n",
    "\n",
    "# Plot the results using the function we defined earlier\n",
    "plot_linear(x_train, y_train, x_test, gp_fit)"
   ]
  },
  {
   "cell_type": "code",
   "execution_count": null,
   "id": "bf89fe30",
   "metadata": {},
   "outputs": [],
   "source": [
    "# What file would we like to use?\n",
    "gp_filename = \"test_serialization_fit.hdf5\"\n",
    "\n",
    "# Let's try to remove an existing file\n",
    "try:\n",
    "    # Import os things to check for\n",
    "    import os\n",
    "    os.remove(gp_filename)\n",
    "except:\n",
    "    pass\n",
    "\n",
    "# Save the fit!\n",
    "gp_fit.save(gp_filename, label=\"mylabel\")\n",
    "\n",
    "# Load the fit!\n",
    "loaded_fit = GaussianProcess.load(gp_filename,label=\"mylabel\")\n",
    "\n",
    "# Assert original and loaded fits are identical\n",
    "assert gp_fit.equiv(loaded_fit)\n",
    "\n",
    "# Assert that evaluations are identical\n",
    "assert all(gp_fit.mean(x_test) == loaded_fit.mean(x_test))\n",
    "\n",
    "# Plot the loaded fit\n",
    "plot_linear(x_train, y_train, x_test, loaded_fit)\n",
    "\n",
    "# Clean up\n",
    "try:\n",
    "    os.remove(gp_filename)\n",
    "except:\n",
    "    pass"
   ]
  },
  {
   "cell_type": "code",
   "execution_count": null,
   "id": "9d4bf734",
   "metadata": {},
   "outputs": [],
   "source": []
  }
 ],
 "metadata": {
  "kernelspec": {
   "display_name": "gp-api",
   "language": "python",
   "name": "gp-api"
  },
  "language_info": {
   "codemirror_mode": {
    "name": "ipython",
    "version": 3
   },
   "file_extension": ".py",
   "mimetype": "text/x-python",
   "name": "python",
   "nbconvert_exporter": "python",
   "pygments_lexer": "ipython3",
   "version": "3.9.7"
  }
 },
 "nbformat": 4,
 "nbformat_minor": 5
}
