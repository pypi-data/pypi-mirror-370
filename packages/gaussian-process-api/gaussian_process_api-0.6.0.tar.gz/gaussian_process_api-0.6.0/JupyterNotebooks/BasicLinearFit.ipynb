{
 "cells": [
  {
   "cell_type": "markdown",
   "id": "faabe3b6",
   "metadata": {},
   "source": [
    "# Gaussian Process API Tutorial 1\n",
    "\n",
    "Thank you for checking out our package!\n",
    "\n",
    "I'd like to go through some examples of how to use the Gaussian Process API package\n",
    "\n",
    "By the end of this tutorial, you should be able to\n",
    "- Import the compact kernel\n",
    "- Fit a 1 dimensional model\n",
    "- Consider noise\n",
    "- Add a whitenoise kernel to the compact kernel"
   ]
  },
  {
   "cell_type": "markdown",
   "id": "8f737ca0",
   "metadata": {},
   "source": [
    "Let's import what we need for this tutorial!"
   ]
  },
  {
   "cell_type": "code",
   "execution_count": null,
   "id": "4363713b",
   "metadata": {},
   "outputs": [],
   "source": [
    "import numpy as np\n",
    "rs = np.random.RandomState(20220210)\n",
    "from matplotlib import pyplot as plt\n",
    "\n",
    "from gp_api.gaussian_process import GaussianProcess\n",
    "from gp_api.kernels.kernels import CompactKernel, WhiteNoiseKernel"
   ]
  },
  {
   "cell_type": "markdown",
   "id": "40d7f73a",
   "metadata": {},
   "source": [
    "We want to generate plots!"
   ]
  },
  {
   "cell_type": "code",
   "execution_count": null,
   "id": "42a1cd1e",
   "metadata": {},
   "outputs": [],
   "source": [
    "%matplotlib inline"
   ]
  },
  {
   "cell_type": "markdown",
   "id": "197186c2",
   "metadata": {},
   "source": [
    "Let's define a function which trains data using a Compact kernel. The syntax should be familiar to you if you have worked with scikit-learn"
   ]
  },
  {
   "cell_type": "code",
   "execution_count": null,
   "id": "e1daf51a",
   "metadata": {},
   "outputs": [],
   "source": [
    "# Define a function to train some data\n",
    "def fit_compact_nd(x_train, y_train, whitenoise=0.0, sparse=True, use_cython=False,xpy=np):\n",
    "    # Extract dimensions from data\n",
    "    ntrain, dim = x_train.shape\n",
    "    # Create the compact kernel\n",
    "    k1 = CompactKernel.fit(x_train,method=\"scott\",sparse=sparse,use_cython=use_cython)\n",
    "    # Check if we are including a whitenoise kernel\n",
    "    if whitenoise==0.0:\n",
    "        # If not, the compact kernel is the only kernel we need\n",
    "        kernel = k1\n",
    "    else:\n",
    "        # If we are, we need to define the whitenosie kernel\n",
    "        k2 = WhiteNoiseKernel.fit(x_train,method=\"simple\",sparse=sparse,scale=whitenoise,use_cython=use_cython)\n",
    "        # We can add kernels together!\n",
    "        kernel = k1 + k2\n",
    "    # Fit the training data using a gaussian process\n",
    "    gp_fit = GaussianProcess.fit(x_train, y_train, kernel=kernel)\n",
    "    return gp_fit"
   ]
  },
  {
   "cell_type": "markdown",
   "id": "2ca58254",
   "metadata": {},
   "source": [
    "Let's create a function which makes a plot to show off our gaussian process interpolator!"
   ]
  },
  {
   "cell_type": "code",
   "execution_count": null,
   "id": "255a5fb8",
   "metadata": {},
   "outputs": [],
   "source": [
    "# Create a function to plot the output of a gp\n",
    "def plot_linear(x_train, y_train, x_test, gp_fit,nerr=100):\n",
    "    # Compute the mean and variance of the function returned\n",
    "    y_mean_test = gp_fit.mean(x_test)\n",
    "\n",
    "    # Compute 90% credible intervals from random samples\n",
    "    y_samples_test = gp_fit.rvs(n_err, x_test, random_state=rs)\n",
    "    y_90_lo_test, y_90_hi_test = np.percentile(y_samples_test, [5,95], axis=1)\n",
    "\n",
    "    # Initialize axis\n",
    "    fig, ax = plt.subplots()\n",
    "\n",
    "    # Plot training data on top\n",
    "    ax.scatter(x_train[:,0], y_train, color='C3',zorder=2)\n",
    "\n",
    "    # Plot fit mean\n",
    "    ax.plot(x_test[:,0], y_mean_test, color='C0', zorder=1)\n",
    "\n",
    "    # Plot the 90 percent credible region\n",
    "    ax.fill_between(x_test[:,0],y_90_lo_test,y_90_hi_test, color=\"C0\",alpha=0.4,zorder=0)\n"
   ]
  },
  {
   "cell_type": "markdown",
   "id": "a989b0ca",
   "metadata": {},
   "source": [
    "## Linear example using compact kernel\n",
    "First, let's work through a simple example of fitting a line.\n",
    "\n",
    "We'll define some regularly spaced training data, and fit the mean predicted values for the gaussian process model.\n"
   ]
  },
  {
   "cell_type": "code",
   "execution_count": null,
   "id": "ed462f13",
   "metadata": {},
   "outputs": [],
   "source": [
    "# Define number of training points for linear model\n",
    "n_train = 12\n",
    "# Define number of test evaluations\n",
    "n_test = 1000\n",
    "# Define number of samples for error estimate\n",
    "n_err = 100\n",
    "# Define our domain\n",
    "xmin, xmax = 0.0, 5.0\n",
    "# Define our linear model\n",
    "m, b = 4, -3\n",
    "\n",
    "# Create training data\n",
    "x_train = np.linspace(xmin, xmax, n_train)[:,None]\n",
    "y_train = m*x_train[:,0] + b\n",
    "\n",
    "# Fit the training data using a gaussian process\n",
    "gp_fit = fit_compact_nd(x_train,y_train)\n",
    "\n",
    "# Generate a sample space to evaluate the model\n",
    "x_test = np.linspace(xmin, xmax, n_test)[:,None]\n",
    "\n",
    "# Plot the results using the function we defined earlier\n",
    "plot_linear(x_train, y_train, x_test, gp_fit)"
   ]
  },
  {
   "cell_type": "markdown",
   "id": "25058b5c",
   "metadata": {},
   "source": [
    "Great! This looks like a line!\n",
    "\n",
    "Let's add some noise!"
   ]
  },
  {
   "cell_type": "code",
   "execution_count": null,
   "id": "f2e66a4b",
   "metadata": {},
   "outputs": [],
   "source": [
    "x_noise = 0.1\n",
    "y_noise = 0.1\n",
    "\n",
    "# Create training data\n",
    "x_train = np.linspace(xmin, xmax, n_train)[:,None]\n",
    "y_train = m*x_train[:,0] + b\n",
    "\n",
    "# Add noise\n",
    "x_train[:,0] += x_noise*rs.randn(n_train)\n",
    "y_train += y_noise*rs.randn(n_train)\n",
    "\n",
    "# Fit the training data using our gaussian process\n",
    "gp_fit = fit_compact_nd(x_train,y_train)\n",
    "\n",
    "# Plot the results using the function we defined earlier\n",
    "plot_linear(x_train, y_train, x_test, gp_fit)"
   ]
  },
  {
   "cell_type": "markdown",
   "id": "3d79af47",
   "metadata": {},
   "source": [
    "This still looks reasonable. Noisy data will create a noisy model.\n",
    "\n",
    "Let's break it!\n",
    "\n",
    "We'll use uniformly generated training data."
   ]
  },
  {
   "cell_type": "code",
   "execution_count": null,
   "id": "a84d0c69",
   "metadata": {},
   "outputs": [],
   "source": [
    "# Create training data\n",
    "x_train = rs.uniform(xmin, xmax, (n_train,1))\n",
    "y_train = m*x_train[:,0] + b\n",
    "\n",
    "# Add noise\n",
    "x_train[:,0] += x_noise*rs.randn(n_train)\n",
    "y_train += y_noise*rs.randn(n_train)\n",
    "\n",
    "# Fit the training data using our gaussian process\n",
    "gp_fit = fit_compact_nd(x_train,y_train)\n",
    "\n",
    "# Plot the results using the function we defined earlier\n",
    "plot_linear(x_train, y_train, x_test, gp_fit)"
   ]
  },
  {
   "cell_type": "markdown",
   "id": "fc8ac685",
   "metadata": {},
   "source": [
    "With the randomly sampled training points, we find a lot larger error both near and away from the noisy training poins, and we find that the model is a poor predictor away from where we have training data.\n",
    "\n",
    "The compact kernel interpolates well on regularly spaced intervals, and does not extrapolate well outside of our training range.\n",
    "\n",
    "It does not handle noise very well on its own.\n",
    "\n",
    "To solve that issue, we can use a whitenoise kernel. We can even use the same training data!"
   ]
  },
  {
   "cell_type": "code",
   "execution_count": null,
   "id": "25f31e2d",
   "metadata": {},
   "outputs": [],
   "source": [
    "# Define a small whitenoise value\n",
    "eps = 0.01\n",
    "\n",
    "# Fit the training data using our gaussian process\n",
    "gp_fit = fit_compact_nd(x_train,y_train,whitenoise=eps)\n",
    "\n",
    "# Plot the results using the function we defined earlier\n",
    "plot_linear(x_train, y_train, x_test, gp_fit)"
   ]
  },
  {
   "cell_type": "markdown",
   "id": "4fb55221",
   "metadata": {},
   "source": [
    "The whitenoise kernel helps to significantly improve error estimation, and is absolutely necessary for noisy data."
   ]
  },
  {
   "cell_type": "markdown",
   "id": "17589d32",
   "metadata": {},
   "source": [
    "This concludes the first gaussian process api tutorial!"
   ]
  },
  {
   "cell_type": "code",
   "execution_count": null,
   "id": "c3dfc244",
   "metadata": {},
   "outputs": [],
   "source": []
  }
 ],
 "metadata": {
  "kernelspec": {
   "display_name": "gp-api",
   "language": "python",
   "name": "gp-api"
  },
  "language_info": {
   "codemirror_mode": {
    "name": "ipython",
    "version": 3
   },
   "file_extension": ".py",
   "mimetype": "text/x-python",
   "name": "python",
   "nbconvert_exporter": "python",
   "pygments_lexer": "ipython3",
   "version": "3.9.7"
  }
 },
 "nbformat": 4,
 "nbformat_minor": 5
}
