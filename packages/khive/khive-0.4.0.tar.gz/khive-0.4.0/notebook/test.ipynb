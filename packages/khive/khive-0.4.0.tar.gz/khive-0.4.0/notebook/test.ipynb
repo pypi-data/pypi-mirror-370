{
  "cells": [
    {
      "cell_type": "code",
      "execution_count": 1,
      "id": "7a753882",
      "metadata": {},
      "outputs": [
        {
          "name": "stdout",
          "output_type": "stream",
          "text": [
            "{'requestId': '3225af1aee2900e0d218801c1927264a', 'resolvedSearchType': 'keyword', 'results': [{'id': 'https://en.wikipedia.org/wiki/Paris', 'title': 'Paris', 'url': 'https://en.wikipedia.org/wiki/Paris', 'publishedDate': '2025-05-07T11:12:47.000Z', 'author': 'Contributors to Wikimedia projects', 'image': 'https://upload.wikimedia.org/wikipedia/commons/thumb/4/4b/La_Tour_Eiffel_vue_de_la_Tour_Saint-Jacques%2C_Paris_ao%C3%BBt_2014_%282%29.jpg/960px-La_Tour_Eiffel_vue_de_la_Tour_Saint-Jacques%2C_Paris_ao%C3%BBt_2014_%282%29.jpg', 'favicon': 'https://en.wikipedia.org/static/apple-touch/wikipedia.png'}, {'id': 'https://www.britannica.com/place/Paris', 'title': 'Paris | Definition, Map, Population, Facts, & History', 'url': 'https://www.britannica.com/place/Paris', 'publishedDate': '2025-05-07T00:00:00.000Z', 'author': 'John Anthony Charles Ardagh, Kimberly Daul', 'image': 'https://cdn.britannica.com/36/135436-050-ED1D0FCE/skyline-Eiffel-Tower-France-Paris.jpg', 'favicon': 'https://www.britannica.com/favicon.png'}, {'id': 'https://en.wikipedia.org/wiki/List_of_capitals_of_France', 'title': 'List of capitals of France', 'url': 'https://en.wikipedia.org/wiki/List_of_capitals_of_France', 'publishedDate': '2023-12-02T17:44:00.000Z', 'author': 'Contributors to Wikimedia projects', 'favicon': 'https://en.wikipedia.org/static/apple-touch/wikipedia.png'}, {'id': 'https://www.coe.int/en/web/interculturalcities/paris', 'title': 'Paris, France - Intercultural City', 'url': 'https://www.coe.int/en/web/interculturalcities/paris', 'publishedDate': '2025-01-01T00:00:00.000Z', 'author': '', 'favicon': 'https://www.coe.int/o/coe-2014-theme/images/favicon/favicon-32x32.png'}, {'id': 'https://home.adelphi.edu/~ca19535/page%204.html', 'title': 'Paris facts: the capital of France in history', 'url': 'https://home.adelphi.edu/~ca19535/page%204.html', 'publishedDate': '2011-01-01T00:00:00.000Z', 'author': ''}, {'id': 'https://www.quora.com/What-are-the-three-official-capitals-of-France-and-which-one-is-the-most-commonly-visited', 'title': 'What are the three official capitals of France and which one ...', 'url': 'https://www.quora.com/What-are-the-three-official-capitals-of-France-and-which-one-is-the-most-commonly-visited', 'publishedDate': '2024-05-08T15:59:55.045Z', 'author': None}, {'id': 'https://www.reddit.com/r/RiddlesForRedditors/comments/1ibp2t6/what_is_the_capital_of_france/', 'title': 'What is the Capital of France? : r/RiddlesForRedditors', 'url': 'https://www.reddit.com/r/RiddlesForRedditors/comments/1ibp2t6/what_is_the_capital_of_france/', 'publishedDate': '2025-02-08T15:59:55.045Z', 'author': None}, {'id': 'https://www.britannica.com/place/France', 'title': 'France | History, Maps, Flag, Population, Cities, Capital, & ...', 'url': 'https://www.britannica.com/place/France', 'publishedDate': '2025-05-07T00:00:00.000Z', 'author': 'Patrice Louis-René Higonnet, Gabriel Fournier', 'image': 'https://cdn.britannica.com/82/682-050-8AA3D6A6/Flag-France.jpg', 'favicon': 'https://www.britannica.com/favicon.png'}, {'id': 'https://www.brainzilla.com/brain-teasers/riddles/Zoymb2O5/besides-paris-what-is-the-capital-of-france/', 'title': 'Besides Paris, what is the capital of France? Riddle', 'url': 'https://www.brainzilla.com/brain-teasers/riddles/Zoymb2O5/besides-paris-what-is-the-capital-of-france/', 'publishedDate': '2025-01-01T00:00:00.000Z', 'author': '', 'image': 'https://www.brainzilla.com/media/riddles/riddles/auto/1608-besides-paris-what-is-the-capital-of-france-portrait.png', 'favicon': 'https://www.brainzilla.com/static/main/favicon/favicon-32x32.png'}, {'id': 'https://www.countryreports.org/country/france/capital-city.htm', 'title': 'Capital City of France] - CountryReports', 'url': 'https://www.countryreports.org/country/france/capital-city.htm', 'publishedDate': '1997-01-01T00:00:00.000Z', 'author': '', 'favicon': 'https://www.countryreports.org/uApp/uGraphics/favicon.ico'}], 'costDollars': {'total': 0.005, 'search': {'neural': 0.005}}}\n"
          ]
        }
      ],
      "source": [
        "from khive.providers.exa_ import ExaSearchEndpoint\n",
        "\n",
        "request = {\n",
        "    \"query\": \"what's the capital of France?\",\n",
        "}\n",
        "\n",
        "exa = ExaSearchEndpoint()\n",
        "result = await exa.call(request)\n",
        "print(result)"
      ]
    },
    {
      "cell_type": "code",
      "execution_count": 2,
      "id": "a30578c6",
      "metadata": {},
      "outputs": [
        {
          "name": "stderr",
          "output_type": "stream",
          "text": [
            "/Users/lion/untitled folder/khived/.venv/lib/python3.12/site-packages/pydantic/_internal/_fields.py:293: UserWarning: `alias` specification on field \"root\" must be set on outermost annotation to take effect.\n",
            "  warnings.warn(\n",
            "/Users/lion/untitled folder/khived/.venv/lib/python3.12/site-packages/pydantic/_internal/_fields.py:293: UserWarning: `alias` specification on field \"mask\" must be set on outermost annotation to take effect.\n",
            "  warnings.warn(\n"
          ]
        },
        {
          "data": {
            "text/plain": [
              "{'id': 'gen-1746719996-5fgTDRu8UV7jIwpVJKSH',\n",
              " 'choices': [{'finish_reason': 'stop',\n",
              "   'index': 0,\n",
              "   'logprobs': None,\n",
              "   'message': {'content': 'The capital of France is Paris.',\n",
              "    'refusal': None,\n",
              "    'role': 'assistant',\n",
              "    'annotations': None,\n",
              "    'audio': None,\n",
              "    'function_call': None,\n",
              "    'tool_calls': None,\n",
              "    'reasoning': None},\n",
              "   'native_finish_reason': 'stop'}],\n",
              " 'created': 1746719996,\n",
              " 'model': 'openai/gpt-4o',\n",
              " 'object': 'chat.completion',\n",
              " 'service_tier': None,\n",
              " 'system_fingerprint': 'fp_d8864f8b6b',\n",
              " 'usage': {'completion_tokens': 8,\n",
              "  'prompt_tokens': 14,\n",
              "  'total_tokens': 22,\n",
              "  'completion_tokens_details': {'accepted_prediction_tokens': None,\n",
              "   'audio_tokens': None,\n",
              "   'reasoning_tokens': 0,\n",
              "   'rejected_prediction_tokens': None},\n",
              "  'prompt_tokens_details': {'audio_tokens': None, 'cached_tokens': 0}},\n",
              " 'provider': 'OpenAI'}"
            ]
          },
          "execution_count": 2,
          "metadata": {},
          "output_type": "execute_result"
        }
      ],
      "source": [
        "from khive.providers.oai_compatible import OpenrouterChatEndpoint\n",
        "\n",
        "request = {\n",
        "    \"messages\": [\n",
        "        {\n",
        "            \"role\": \"user\",\n",
        "            \"content\": \"what's the capital of France?\",\n",
        "        }\n",
        "    ],\n",
        "    \"model\": \"openai/gpt-4o-mini\",\n",
        "}\n",
        "\n",
        "orouter = OpenrouterChatEndpoint()\n",
        "result = await orouter.call(request)\n",
        "result.model_dump()"
      ]
    },
    {
      "cell_type": "code",
      "execution_count": 3,
      "id": "43fb75f0",
      "metadata": {},
      "outputs": [],
      "source": [
        "from khive.providers.perplexity_chat import PerplexityChatEndpoint\n",
        "\n",
        "request = {\n",
        "    \"messages\": [\n",
        "        {\n",
        "            \"role\": \"user\",\n",
        "            \"content\": \"what's the capital of France?\",\n",
        "        }\n",
        "    ],\n",
        "}\n",
        "\n",
        "pplx = PerplexityChatEndpoint()\n",
        "result = await pplx.call(request)"
      ]
    },
    {
      "cell_type": "code",
      "execution_count": 4,
      "id": "1c8a4510",
      "metadata": {},
      "outputs": [
        {
          "name": "stdout",
          "output_type": "stream",
          "text": [
            "{'id': '689f9223-af2a-43c0-b9ff-7acd6125281c', 'model': 'sonar', 'created': 1746720001, 'usage': {'prompt_tokens': 7, 'completion_tokens': 197, 'total_tokens': 204, 'search_context_size': 'low'}, 'citations': ['https://en.wikipedia.org/wiki/Paris', 'https://home.adelphi.edu/~ca19535/page%204.html', 'https://www.britannica.com/place/Paris', 'https://www.coe.int/en/web/interculturalcities/paris', 'https://en.wikipedia.org/wiki/List_of_capitals_of_France'], 'object': 'chat.completion', 'choices': [{'index': 0, 'finish_reason': 'stop', 'message': {'role': 'assistant', 'content': \"The capital of France is Paris. It is the largest city in the country, located along the Seine River in the north-central part of France, and serves as the political, cultural, and economic center of the nation[1][3][4].\\n\\nParis has been recognized as the capital since 508 under King Clovis. Although there was a brief interruption during World War II when Vichy served as the capital from 1940 to 1944 under German occupation, Paris has remained France's capital ever since its liberation in 1944[2][5].\\n\\nWith an area of approximately 105 square kilometers and a population exceeding two million residents in early 2025, Paris is also at the core of the Île-de-France region[1][4]. It is renowned worldwide for its rich history, architecture (such as Notre-Dame Cathedral and Louvre Museum), fashion industry, gastronomy, and its role as a major tourist destination[2][3].\"}, 'delta': {'role': 'assistant', 'content': ''}}]}\n"
          ]
        }
      ],
      "source": [
        "print(result);"
      ]
    }
  ],
  "metadata": {
    "kernelspec": {
      "display_name": "khived",
      "language": "python",
      "name": "python3"
    },
    "language_info": {
      "codemirror_mode": {
        "name": "ipython",
        "version": 3
      },
      "file_extension": ".py",
      "mimetype": "text/x-python",
      "name": "python",
      "nbconvert_exporter": "python",
      "pygments_lexer": "ipython3",
      "version": "3.12.10"
    }
  },
  "nbformat": 4,
  "nbformat_minor": 5
}
