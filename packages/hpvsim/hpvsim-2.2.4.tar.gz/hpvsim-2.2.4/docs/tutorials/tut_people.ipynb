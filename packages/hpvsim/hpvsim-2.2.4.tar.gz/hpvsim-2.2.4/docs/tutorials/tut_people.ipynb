{
 "cells": [
  {
   "cell_type": "markdown",
   "metadata": {},
   "source": [
    "# T4 - People, populations, and networks\n",
    "\n",
    "This tutorial gives a brief introduction to people, populations, and contact layers."
   ]
  },
  {
   "cell_type": "markdown",
   "metadata": {},
   "source": [
    "<div class=\"alert alert-info\">\n",
    "    \n",
    "Click [here](https://mybinder.org/v2/gh/institutefordiseasemodeling/hpvsim/HEAD?urlpath=lab%2Ftree%2Fdocs%2Ftutorials%2Ftut_people.ipynb) to open an interactive version of this notebook.\n",
    "    \n",
    "</div>"
   ]
  },
  {
   "cell_type": "markdown",
   "metadata": {
    "pycharm": {
     "name": "#%% md\n"
    }
   },
   "source": [
    "## Demographic data\n",
    "\n",
    "HPVsim includes pre-downloaded demographic data for almost all countries, including:\n",
    "\n",
    " * Population sizes from 1950-2100 from the UN's World Population Projections;\n",
    " * Birth rates from 1950-2100 from the World Bank;\n",
    " * Age- and sex-specific mortality rates from 1950-2100 from the UN's World Population Projections.\n",
    "\n",
    " As we saw in Tutorial 1, you can load these data simply by using the `location` parameter. You can show a list of all available locations with `hpv.data.show_locations()`.\n",
    "\n",
    "## People and contact network layers\n",
    "\n",
    "Agents in HPVsim are contained in an object called `People`, which contains all of the agents' properties, as well as methods for changing them from one state to another (e.g., from susceptible to infected).\n",
    "\n",
    "HPV transmits via sexual contact, and in HPVsim this is represented by sexual networks that allow agents to interact with one another. For the moment, HPVsim only models heterosexual partnerships. The sexual contact networks in HPVsim can have multiple *contact layers*, with each layer having different properties that characterize sexual contact, including the duration of the contact, age mixing preferences of partners, etc. HPVsim comes with two options for the sexual network:\n",
    "\n",
    "* The *random* option has a single contact layer. The number of partners that each agent has is Poisson distributed with a mean of 1.\n",
    "* The *default* option has 3 contact layers, representing marital, casual, and one-off partnership types.\n",
    "\n",
    "## Assortative mixing\n",
    "\n",
    "By default, new partnerships are formed based on age mixing patterns. There is an optional additional dimension of assortative mixing that could be used to represent geographical location or other demographic groups.\n",
    "\n",
    "To enable the additional mixing, user needs to specify additional parameters that define 1) the number of clusters to use `n_clusters`; 2) a mixing matrix `add_mixing` that specifies pair-wise relative mixing weights between clusters.\n"
   ]
  },
  {
   "cell_type": "code",
   "execution_count": null,
   "outputs": [],
   "source": [
    "import sciris as sc\n",
    "import numpy as np\n",
    "import hpvsim as hpv\n",
    "import scipy.linalg\n",
    "\n",
    "hpv.options(jupyter=True, verbose=False)\n",
    "\n",
    "base_pars = {\n",
    "    'n_agents': 2e4,\n",
    "    'start': 1970,\n",
    "    'end': 2020,\n",
    "    'location': 'nigeria',\n",
    "    'rand_seed': 1,\n",
    "}\n",
    "\n",
    "# Default: well-mixed (1 cluster)\n",
    "sim0 = hpv.Sim(pars=base_pars)\n",
    "assert sim0['n_clusters'] == 1\n",
    "\n",
    "# Multiple clusters but well-mixed\n",
    "pars1 = sc.dcp(base_pars)\n",
    "pars1['n_clusters'] = 10 # create 10 clusters\n",
    "pars1['add_mixing'] = np.ones((10, 10)) # set all between-cluster mixing to the same as within-cluster mixing\n",
    "sim1 = hpv.Sim(pars=pars1)\n",
    "print(sim1['add_mixing']) # print actual mixing matrix\n",
    "\n",
    "# Modifying mixing matrix\n",
    "pars2 = sc.dcp(base_pars)\n",
    "pars2['n_clusters'] = 3 # create 3 clusters\n",
    "pars2['add_mixing'] = np.array([[1, 0, 0],\n",
    "                               [0, 1, 0],\n",
    "                               [0, 0, 1]]) # No between-cluster mixing\n",
    "sim2 = hpv.Sim(pars=pars2)\n",
    "\n",
    "# Mixing by distance\n",
    "pars3 = sc.dcp(base_pars)\n",
    "pars3['n_clusters'] = 5\n",
    "pars3['add_mixing'] = scipy.linalg.circulant([1,0.5,0.1,0.1,0.5])\n",
    "sim3 = hpv.Sim(pars=pars3)\n",
    "\n",
    "msim = hpv.parallel(sim0, sim1, sim2, sim3)\n",
    "msim.plot()"
   ],
   "metadata": {
    "collapsed": false
   }
  }
 ],
 "metadata": {
  "kernelspec": {
   "display_name": "Python 3 (ipykernel)",
   "language": "python",
   "name": "python3"
  },
  "language_info": {
   "codemirror_mode": {
    "name": "ipython",
    "version": 3
   },
   "file_extension": ".py",
   "mimetype": "text/x-python",
   "name": "python",
   "nbconvert_exporter": "python",
   "pygments_lexer": "ipython3",
   "version": "3.9.13"
  },
  "toc": {
   "base_numbering": 1,
   "nav_menu": {},
   "number_sections": true,
   "sideBar": true,
   "skip_h1_title": false,
   "title_cell": "Table of Contents",
   "title_sidebar": "Contents",
   "toc_cell": false,
   "toc_position": {},
   "toc_section_display": true,
   "toc_window_display": false
  }
 },
 "nbformat": 4,
 "nbformat_minor": 4
}
