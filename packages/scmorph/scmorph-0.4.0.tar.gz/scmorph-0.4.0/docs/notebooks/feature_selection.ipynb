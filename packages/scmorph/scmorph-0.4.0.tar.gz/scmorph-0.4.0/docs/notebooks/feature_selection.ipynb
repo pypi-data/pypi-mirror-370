{
 "cells": [
  {
   "cell_type": "markdown",
   "metadata": {},
   "source": [
    "# Feature selection\n",
    "Morphological profile features often exhibit strong correlation structures.\n",
    "This can obfuscate downstream analysis - such as asking \"what features most\n",
    "often changed between treatment and control? Similarly, features that are\n",
    "associated with plate map or batch effects can hinder meaningful analysis.\n",
    "For this reason, `scmorph` integrates ways to remove features that are redundant or associated\n",
    "with known confounders. "
   ]
  },
  {
   "cell_type": "markdown",
   "metadata": {},
   "source": [
    "## Removing correlations"
   ]
  },
  {
   "cell_type": "code",
   "execution_count": 1,
   "metadata": {},
   "outputs": [],
   "source": [
    "# Ignore warnings\n",
    "import warnings\n",
    "\n",
    "warnings.filterwarnings(\"ignore\", category=RuntimeWarning)"
   ]
  },
  {
   "cell_type": "code",
   "execution_count": 2,
   "metadata": {},
   "outputs": [
    {
     "data": {
      "text/plain": [
       "(12352, 1687)"
      ]
     },
     "execution_count": 2,
     "metadata": {},
     "output_type": "execute_result"
    }
   ],
   "source": [
    "import scmorph as sm\n",
    "import matplotlib.pyplot as plt\n",
    "\n",
    "adata = sm.datasets.rohban2017_minimal()\n",
    "adata.shape"
   ]
  },
  {
   "cell_type": "markdown",
   "metadata": {},
   "source": [
    "This example dataset has 1687 features, many of which will be at least partly\n",
    "redundant. `scmorph` makes removing redunant features easy:"
   ]
  },
  {
   "cell_type": "code",
   "execution_count": 3,
   "metadata": {},
   "outputs": [
    {
     "data": {
      "text/plain": [
       "(12352, 1455)"
      ]
     },
     "execution_count": 3,
     "metadata": {},
     "output_type": "execute_result"
    }
   ],
   "source": [
    "adata_filtered_pearson = sm.pp.select_features(adata, method=\"pearson\", copy=True)\n",
    "adata_filtered_pearson.shape"
   ]
  },
  {
   "cell_type": "markdown",
   "metadata": {},
   "source": [
    "Behind the scenes, this is what happens:\n",
    "1. Correlate all features with each other\n",
    "2. For any feature pair with correlation coefficient > threshold (0.9 by\n",
    "   default), remove one of the features. To decide which one, check which of the\n",
    "   two features has the higher correlation with all other features.\n",
    "   \n",
    "By varying the treshold, we can be more or less stringent in our filtering."
   ]
  },
  {
   "cell_type": "code",
   "execution_count": 4,
   "metadata": {},
   "outputs": [
    {
     "data": {
      "text/plain": [
       "(12352, 1306)"
      ]
     },
     "execution_count": 4,
     "metadata": {},
     "output_type": "execute_result"
    }
   ],
   "source": [
    "adata_filtered_pearson = sm.pp.select_features(adata, method=\"pearson\", cor_cutoff=0.8, copy=True)\n",
    "adata_filtered_pearson.shape"
   ]
  },
  {
   "cell_type": "markdown",
   "metadata": {},
   "source": [
    "Likewise, we can use other correlation coefficients that may be more suitable\n",
    "for morphological features, which do not always follow normal distributions."
   ]
  },
  {
   "cell_type": "code",
   "execution_count": 5,
   "metadata": {},
   "outputs": [
    {
     "data": {
      "text/plain": [
       "(12352, 1295)"
      ]
     },
     "execution_count": 5,
     "metadata": {},
     "output_type": "execute_result"
    }
   ],
   "source": [
    "adata_filtered_spearman = sm.pp.select_features(adata, method=\"spearman\", cor_cutoff=0.8, copy=True)\n",
    "adata_filtered_spearman.shape"
   ]
  },
  {
   "cell_type": "markdown",
   "metadata": {},
   "source": [
    "We can also subset the data before performing this correlation filtering, which\n",
    "can help speed up processing speeds for large datasets. For example, if we only\n",
    "want to use 3000 cells while estimating correlations, we can use `n_obs` as\n",
    "below. Note that, because we are not using the full data while computing correlation\n",
    "coefficients, this can influence the number of features retained."
   ]
  },
  {
   "cell_type": "code",
   "execution_count": 6,
   "metadata": {},
   "outputs": [
    {
     "data": {
      "text/plain": [
       "(12352, 1293)"
      ]
     },
     "execution_count": 6,
     "metadata": {},
     "output_type": "execute_result"
    }
   ],
   "source": [
    "adata_filtered_spearman = sm.pp.select_features(\n",
    "    adata, method=\"spearman\", cor_cutoff=0.8, copy=True, n_obs=3000\n",
    ")\n",
    "adata_filtered_spearman.shape"
   ]
  },
  {
   "cell_type": "markdown",
   "metadata": {},
   "source": [
    "`scmorph` also integrates an adapted version of the Chatterjee correlation\n",
    "coefficient, based on [work by Lin and Han (2021)](https://doi.org/10/grdrs2).\n",
    "While it is slower to compute than the other correlation coefficients, it makes\n",
    "fewer assumptions and can find correlations that may be missed by\n",
    "other coefficients of correlation."
   ]
  },
  {
   "cell_type": "code",
   "execution_count": 7,
   "metadata": {},
   "outputs": [
    {
     "data": {
      "text/plain": [
       "(12352, 1477)"
      ]
     },
     "execution_count": 7,
     "metadata": {},
     "output_type": "execute_result"
    }
   ],
   "source": [
    "adata_filtered_spearman = sm.pp.select_features(\n",
    "    adata, method=\"chatterjee\", cor_cutoff=0.7, copy=True, n_obs=1000\n",
    ")\n",
    "adata_filtered_spearman.shape"
   ]
  },
  {
   "cell_type": "markdown",
   "metadata": {},
   "source": [
    "Note that `select_features` also does some additional filtering behind the scenes.\n",
    "Specifically, it removes features with very low variance. Features affected by\n",
    "this filter are usually not informative and can be safely removed. You can see\n",
    "which features are affected by this filter after running the `select_features`\n",
    "function by looking at the corresponding data in `var`:"
   ]
  },
  {
   "cell_type": "code",
   "execution_count": 8,
   "metadata": {},
   "outputs": [
    {
     "data": {
      "text/plain": [
       "True     1585\n",
       "False     102\n",
       "Name: qc_pass_var, dtype: int64"
      ]
     },
     "execution_count": 8,
     "metadata": {},
     "output_type": "execute_result"
    }
   ],
   "source": [
    "adata.var[\"qc_pass_var\"].value_counts()"
   ]
  },
  {
   "cell_type": "markdown",
   "metadata": {},
   "source": [
    "To see some example features that do not pass this variance threshold, you could\n",
    "use the following:"
   ]
  },
  {
   "cell_type": "code",
   "execution_count": 9,
   "metadata": {},
   "outputs": [
    {
     "data": {
      "text/html": [
       "<div>\n",
       "<style scoped>\n",
       "    .dataframe tbody tr th:only-of-type {\n",
       "        vertical-align: middle;\n",
       "    }\n",
       "\n",
       "    .dataframe tbody tr th {\n",
       "        vertical-align: top;\n",
       "    }\n",
       "\n",
       "    .dataframe thead th {\n",
       "        text-align: right;\n",
       "    }\n",
       "</style>\n",
       "<table border=\"1\" class=\"dataframe\">\n",
       "  <thead>\n",
       "    <tr style=\"text-align: right;\">\n",
       "      <th></th>\n",
       "      <th>Object</th>\n",
       "      <th>Module</th>\n",
       "      <th>feature_1</th>\n",
       "      <th>feature_2</th>\n",
       "      <th>feature_3</th>\n",
       "      <th>feature_4</th>\n",
       "      <th>qc_pass_var</th>\n",
       "    </tr>\n",
       "  </thead>\n",
       "  <tbody>\n",
       "    <tr>\n",
       "      <th>Cells_Correlation_Costes_RNA_Mito</th>\n",
       "      <td>Cells</td>\n",
       "      <td>Correlation</td>\n",
       "      <td>Costes</td>\n",
       "      <td>RNA</td>\n",
       "      <td>Mito</td>\n",
       "      <td>NaN</td>\n",
       "      <td>False</td>\n",
       "    </tr>\n",
       "    <tr>\n",
       "      <th>Cells_Correlation_Costes_ER_RNA</th>\n",
       "      <td>Cells</td>\n",
       "      <td>Correlation</td>\n",
       "      <td>Costes</td>\n",
       "      <td>ER</td>\n",
       "      <td>RNA</td>\n",
       "      <td>NaN</td>\n",
       "      <td>False</td>\n",
       "    </tr>\n",
       "    <tr>\n",
       "      <th>Cytoplasm_Intensity_MeanIntensityEdge_DNA</th>\n",
       "      <td>Cytoplasm</td>\n",
       "      <td>Intensity</td>\n",
       "      <td>MeanIntensityEdge</td>\n",
       "      <td>DNA</td>\n",
       "      <td>NaN</td>\n",
       "      <td>NaN</td>\n",
       "      <td>False</td>\n",
       "    </tr>\n",
       "    <tr>\n",
       "      <th>Nuclei_AreaShape_Zernike_9_7</th>\n",
       "      <td>Nuclei</td>\n",
       "      <td>AreaShape</td>\n",
       "      <td>Zernike</td>\n",
       "      <td>9</td>\n",
       "      <td>7</td>\n",
       "      <td>NaN</td>\n",
       "      <td>False</td>\n",
       "    </tr>\n",
       "    <tr>\n",
       "      <th>Cells_Intensity_MADIntensity_DNA</th>\n",
       "      <td>Cells</td>\n",
       "      <td>Intensity</td>\n",
       "      <td>MADIntensity</td>\n",
       "      <td>DNA</td>\n",
       "      <td>NaN</td>\n",
       "      <td>NaN</td>\n",
       "      <td>False</td>\n",
       "    </tr>\n",
       "  </tbody>\n",
       "</table>\n",
       "</div>"
      ],
      "text/plain": [
       "                                              Object       Module  \\\n",
       "Cells_Correlation_Costes_RNA_Mito              Cells  Correlation   \n",
       "Cells_Correlation_Costes_ER_RNA                Cells  Correlation   \n",
       "Cytoplasm_Intensity_MeanIntensityEdge_DNA  Cytoplasm    Intensity   \n",
       "Nuclei_AreaShape_Zernike_9_7                  Nuclei    AreaShape   \n",
       "Cells_Intensity_MADIntensity_DNA               Cells    Intensity   \n",
       "\n",
       "                                                   feature_1 feature_2  \\\n",
       "Cells_Correlation_Costes_RNA_Mito                     Costes       RNA   \n",
       "Cells_Correlation_Costes_ER_RNA                       Costes        ER   \n",
       "Cytoplasm_Intensity_MeanIntensityEdge_DNA  MeanIntensityEdge       DNA   \n",
       "Nuclei_AreaShape_Zernike_9_7                         Zernike         9   \n",
       "Cells_Intensity_MADIntensity_DNA                MADIntensity       DNA   \n",
       "\n",
       "                                          feature_3 feature_4  qc_pass_var  \n",
       "Cells_Correlation_Costes_RNA_Mito              Mito       NaN        False  \n",
       "Cells_Correlation_Costes_ER_RNA                 RNA       NaN        False  \n",
       "Cytoplasm_Intensity_MeanIntensityEdge_DNA       NaN       NaN        False  \n",
       "Nuclei_AreaShape_Zernike_9_7                      7       NaN        False  \n",
       "Cells_Intensity_MADIntensity_DNA                NaN       NaN        False  "
      ]
     },
     "execution_count": 9,
     "metadata": {},
     "output_type": "execute_result"
    }
   ],
   "source": [
    "adata.var.query(\"qc_pass_var == False\").sample(5)"
   ]
  },
  {
   "cell_type": "markdown",
   "metadata": {},
   "source": [
    "## Removing confounded features\n",
    "In this second part, let's try to remove features that are associated with the\n",
    "plate ID. Note there is also a dedicated tutorial on [batch\n",
    "correction](https://scmorph.readthedocs.io/en/latest/tutorials/basics/batch_effects.html),\n",
    "which covers this topic in more detail. However, the methods discussed here can\n",
    "also be applied to removing row- or column-effects.\n",
    "\n",
    "Once again, we will start with the same minimal dataset used above. But now we\n",
    "will use the Kruskal Wallis statistic to detect features that are associated\n",
    "with the plate ID."
   ]
  },
  {
   "cell_type": "markdown",
   "metadata": {},
   "source": [
    "To find features that may be affected by batch effects, we can run the\n",
    "`kruskal_test` function."
   ]
  },
  {
   "cell_type": "code",
   "execution_count": 10,
   "metadata": {},
   "outputs": [
    {
     "data": {
      "application/vnd.jupyter.widget-view+json": {
       "model_id": "f717d8d50de04c0ca79601de2bd13b8f",
       "version_major": 2,
       "version_minor": 0
      },
      "text/plain": [
       "  0%|          | 0/1687 [00:00<?, ?it/s]"
      ]
     },
     "metadata": {},
     "output_type": "display_data"
    },
    {
     "data": {
      "text/plain": [
       "AnnData object with n_obs × n_vars = 12352 × 1687\n",
       "    obs: 'TableNumber', 'ImageNumber', 'ObjectNumber', 'Image_Metadata_Plate', 'Image_Metadata_Site', 'Image_Metadata_Well', 'PUBLICID', 'TA_GeneID', 'Duplicate.ORFs', 'TARGETTRANS', 'Activator.Inhibitor', 'CONSTRUCTNAME', 'ISMUTANT', 'TARGETGENE', 'TA_REF.vs..DLBCL', 'ReferencePathway.Process'\n",
       "    var: 'Object', 'Module', 'feature_1', 'feature_2', 'feature_3', 'feature_4', 'qc_pass_var'\n",
       "    uns: 'kruskal_test'\n",
       "    obsm: 'inter_cell_features', 'intra_cell_features'\n",
       "    varm: 'pearson', 'spearman', 'chatterjee'"
      ]
     },
     "execution_count": 10,
     "metadata": {},
     "output_type": "execute_result"
    }
   ],
   "source": [
    "sm.pp.kruskal_test(adata, test_column=\"Image_Metadata_Plate\")"
   ]
  },
  {
   "cell_type": "markdown",
   "metadata": {},
   "source": [
    "This function stores information about features' association in the `uns` slot:"
   ]
  },
  {
   "cell_type": "code",
   "execution_count": 11,
   "metadata": {},
   "outputs": [
    {
     "data": {
      "text/html": [
       "<div>\n",
       "<style scoped>\n",
       "    .dataframe tbody tr th:only-of-type {\n",
       "        vertical-align: middle;\n",
       "    }\n",
       "\n",
       "    .dataframe tbody tr th {\n",
       "        vertical-align: top;\n",
       "    }\n",
       "\n",
       "    .dataframe thead th {\n",
       "        text-align: right;\n",
       "    }\n",
       "</style>\n",
       "<table border=\"1\" class=\"dataframe\">\n",
       "  <thead>\n",
       "    <tr style=\"text-align: right;\">\n",
       "      <th></th>\n",
       "      <th>feature</th>\n",
       "      <th>statistic</th>\n",
       "      <th>pvalue</th>\n",
       "    </tr>\n",
       "  </thead>\n",
       "  <tbody>\n",
       "    <tr>\n",
       "      <th>834</th>\n",
       "      <td>Cytoplasm_Intensity_MinIntensityEdge_Mito</td>\n",
       "      <td>5839.897372</td>\n",
       "      <td>0.0</td>\n",
       "    </tr>\n",
       "    <tr>\n",
       "      <th>1387</th>\n",
       "      <td>Cells_Intensity_MinIntensityEdge_Mito</td>\n",
       "      <td>5839.507005</td>\n",
       "      <td>0.0</td>\n",
       "    </tr>\n",
       "    <tr>\n",
       "      <th>839</th>\n",
       "      <td>Cytoplasm_Intensity_MinIntensity_Mito</td>\n",
       "      <td>5750.462632</td>\n",
       "      <td>0.0</td>\n",
       "    </tr>\n",
       "    <tr>\n",
       "      <th>1392</th>\n",
       "      <td>Cells_Intensity_MinIntensity_Mito</td>\n",
       "      <td>5750.453496</td>\n",
       "      <td>0.0</td>\n",
       "    </tr>\n",
       "    <tr>\n",
       "      <th>93</th>\n",
       "      <td>Nuclei_Correlation_K_RNA_Mito</td>\n",
       "      <td>4280.823174</td>\n",
       "      <td>0.0</td>\n",
       "    </tr>\n",
       "  </tbody>\n",
       "</table>\n",
       "</div>"
      ],
      "text/plain": [
       "                                        feature    statistic  pvalue\n",
       "834   Cytoplasm_Intensity_MinIntensityEdge_Mito  5839.897372     0.0\n",
       "1387      Cells_Intensity_MinIntensityEdge_Mito  5839.507005     0.0\n",
       "839       Cytoplasm_Intensity_MinIntensity_Mito  5750.462632     0.0\n",
       "1392          Cells_Intensity_MinIntensity_Mito  5750.453496     0.0\n",
       "93                Nuclei_Correlation_K_RNA_Mito  4280.823174     0.0"
      ]
     },
     "execution_count": 11,
     "metadata": {},
     "output_type": "execute_result"
    }
   ],
   "source": [
    "adata.uns[\"kruskal_test\"][\"Image_Metadata_Plate\"].sort_values(\"statistic\", ascending=False).head()"
   ]
  },
  {
   "cell_type": "markdown",
   "metadata": {},
   "source": [
    "Oftentimes the p-value obtained from the KW test is overly harsh - most features\n",
    "are marked as significantly associated with plate IDs, while the KW statistics\n",
    "are mostly not as extreme as the p-value would suggest."
   ]
  },
  {
   "cell_type": "code",
   "execution_count": 12,
   "metadata": {},
   "outputs": [
    {
     "data": {
      "image/png": "[encoded data removed]",
      "text/plain": [
       "<Figure size 640x480 with 1 Axes>"
      ]
     },
     "metadata": {},
     "output_type": "display_data"
    },
    {
     "data": {
      "image/png": "[encoded data removed]",
      "text/plain": [
       "<Figure size 640x480 with 1 Axes>"
      ]
     },
     "metadata": {},
     "output_type": "display_data"
    }
   ],
   "source": [
    "adata.uns[\"kruskal_test\"][\"Image_Metadata_Plate\"][\"pvalue\"].hist(bins=50)\n",
    "plt.xlabel(\"p-value\")\n",
    "plt.ylabel(\"Number of features\")\n",
    "plt.show()\n",
    "\n",
    "adata.uns[\"kruskal_test\"][\"Image_Metadata_Plate\"][\"statistic\"].hist(bins=50)\n",
    "plt.xlabel(\"KW statistic\")\n",
    "plt.ylabel(\"Number of features\")\n",
    "plt.show()"
   ]
  },
  {
   "cell_type": "markdown",
   "metadata": {},
   "source": [
    "So we can instead choose to filter features based on how extreme their KW\n",
    "statistic is. To do so, we can use the `kruskal_filter` function which marks a\n",
    "feature as associated with batches if its KW statistic is more than one median\n",
    "absolute deviation away from the median of all other features' KW statistics.\n",
    "Applying this here, this removes about half of the features as associated with\n",
    "plate IDs."
   ]
  },
  {
   "cell_type": "code",
   "execution_count": 13,
   "metadata": {},
   "outputs": [
    {
     "data": {
      "text/plain": [
       "(12352, 1687)"
      ]
     },
     "execution_count": 13,
     "metadata": {},
     "output_type": "execute_result"
    }
   ],
   "source": [
    "adata.shape"
   ]
  },
  {
   "cell_type": "code",
   "execution_count": 14,
   "metadata": {},
   "outputs": [
    {
     "data": {
      "text/plain": [
       "(12352, 796)"
      ]
     },
     "execution_count": 14,
     "metadata": {},
     "output_type": "execute_result"
    }
   ],
   "source": [
    "adata_filtered = sm.pp.kruskal_filter(adata, \"Image_Metadata_Plate\", copy=True)\n",
    "adata_filtered.shape"
   ]
  },
  {
   "cell_type": "markdown",
   "metadata": {},
   "source": [
    "You could think of applying the same principle to row or column IDs to remove\n",
    "features associated with plate map effects.\n",
    "\n",
    "Taken together, with `scmorph` you can mitigate some of the problems that\n",
    "morphological profiling experiments hold - such as batch effects and heavy\n",
    "correlation structures."
   ]
  }
 ],
 "metadata": {
  "kernelspec": {
   "display_name": "Python 3",
   "language": "python",
   "name": "python3"
  },
  "language_info": {
   "codemirror_mode": {
    "name": "ipython",
    "version": 3
   },
   "file_extension": ".py",
   "mimetype": "text/x-python",
   "name": "python",
   "nbconvert_exporter": "python",
   "pygments_lexer": "ipython3",
   "version": "3.10.10"
  }
 },
 "nbformat": 4,
 "nbformat_minor": 2
}
