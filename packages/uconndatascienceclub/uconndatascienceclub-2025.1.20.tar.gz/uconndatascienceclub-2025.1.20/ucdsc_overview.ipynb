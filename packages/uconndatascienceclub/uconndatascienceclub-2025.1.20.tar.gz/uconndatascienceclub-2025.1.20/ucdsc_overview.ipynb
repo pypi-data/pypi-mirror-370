{
 "cells": [
  {
   "cell_type": "markdown",
   "metadata": {},
   "source": [
    "<h2><b>UCDSC Package Overview</b></h2>"
   ]
  },
  {
   "cell_type": "markdown",
   "metadata": {},
   "source": [
    "This is a notebook covering the functionality of UConn Data Science Club's Python library. This library was originally built in January 2025 for the purpose of having the club's technical workshops be more accessible to its audience. Below are the functions and capabilities the package contains."
   ]
  },
  {
   "cell_type": "markdown",
   "metadata": {},
   "source": [
    "<h4><b>Installation & Updating</b></h4>\n"
   ]
  },
  {
   "cell_type": "markdown",
   "metadata": {},
   "source": [
    "To install the package, the user can either run ```pip install uconndatascienceclub``` in their terminal, or they can run the code cell below in a Jupyter Notebook file. "
   ]
  },
  {
   "cell_type": "code",
   "execution_count": 1,
   "metadata": {},
   "outputs": [
    {
     "name": "stdout",
     "output_type": "stream",
     "text": [
      "Requirement already satisfied: uconndatascienceclub in c:\\users\\jaden\\appdata\\local\\programs\\python\\python311\\lib\\site-packages (2025.1.12)\n"
     ]
    }
   ],
   "source": [
    "!pip install uconndatascienceclub"
   ]
  },
  {
   "cell_type": "markdown",
   "metadata": {},
   "source": [
    "It is worth noting that for every technical workshop, the package may be updated to accomodate for new content. If the user already has the package installed, then they need to update it at the start of the workshop. The latest version of the package will be given at that time, but they can run the command ```pip install uconndatascienceclub=={version}```. For example: ```pip install uconndatascienceclub==2025.1.12```."
   ]
  },
  {
   "cell_type": "markdown",
   "metadata": {},
   "source": [
    "The user can import the package into their environment with the following line:"
   ]
  },
  {
   "cell_type": "code",
   "execution_count": 1,
   "metadata": {},
   "outputs": [],
   "source": [
    "import uconndatascienceclub as ucdsc"
   ]
  },
  {
   "cell_type": "markdown",
   "metadata": {},
   "source": [
    "<h4><b>Basic Commands</b></h4>"
   ]
  },
  {
   "cell_type": "markdown",
   "metadata": {},
   "source": [
    "```ucdsc.socials```: returns a dictionary containing links to our club's various social media links & forms of contact.  \n",
    "```ucdsc.instagram```: returns a link to our club's instagram page.  \n",
    "```ucdsc.discord```: returns an invitation link to our club's discord server.  \n",
    "```ucdsc.uconntact```: returns a link to our club's UConntact page.  \n",
    "```ucdsc.email```: returns the email address of our club.  "
   ]
  },
  {
   "cell_type": "markdown",
   "metadata": {},
   "source": [
    "<h4><b>Data() class</b></h4>"
   ]
  },
  {
   "cell_type": "markdown",
   "metadata": {},
   "source": [
    "The UCDSC package comes with a Data() class, mainly used for club members to easily access data being used live in a technical workshop."
   ]
  },
  {
   "cell_type": "markdown",
   "metadata": {},
   "source": [
    "<b>Initialization</b>  \n",
    "\n",
    "The code below initializes a ```Data()``` object:"
   ]
  },
  {
   "cell_type": "code",
   "execution_count": null,
   "metadata": {},
   "outputs": [],
   "source": [
    "x = ucdsc.Data()"
   ]
  },
  {
   "cell_type": "markdown",
   "metadata": {},
   "source": [
    "<b>Class Arguments: </b>  \n",
    "\n",
    "- ```dataset```: *str* (default: ```None```)\n",
    "    - Sets the instance's dataset. String must be a reference to an existing dataset in the package (see ```list_datasets()```).\n",
    "\n",
    "<b>Methods: </b>  \n",
    "\n",
    "- ```dataframe()```\n",
    "    - Extracts the Pandas DataFrame object of the current dataset. Requires a dataset to be set (see ```set_data()```).\n",
    "    - *Returns*: ```pandas.DataFrame()```\n",
    "\n",
    "\n",
    "- ```list_datasets()```\n",
    "    - Lists the available datasets (strings) that can be passed into the instance.\n",
    "    - *Returns*: ```list```\n",
    "\n",
    "- ```set_data(data)```\n",
    "    - Sets the instance's dataset for use. The dataset can also be passed in as a parameter when initializing the instance.\n",
    "    - *Arguments*:\n",
    "        - ```data (str)```: String of dataset to establish. String must be a reference to an existing dataset in the package (see ```list_datasets()```).\n",
    "    - *Returns*: ```None```\n",
    "\n",
    "- ```save()```\n",
    "    - Saves the csv file of the currently set dataset. Requires a dataset to be set (see ```set_data()```).\n",
    "    - *Returns*: ```None```\n",
    "\n",
    "- ```standard(dim=1, size=100, state=None)```\n",
    "    - Creates a Pandas DataFrame containing columns following the standard normal distribution.\n",
    "    - *Arguments*: \n",
    "        - ```dim (int)```: Sets number of columns in the dataframe. *Default=1*.\n",
    "        - ```size (int)```: Sets number of observations (sample size) in the dataframe. *Default=100*.\n",
    "        - ```state (int)```: Sets the random state when generating data. *Default=None*.\n",
    "    - *Returns*: ```pandas.DataFrame()```\n",
    "\n",
    "- ```uniform(dim=1, size=100, state=None)```\n",
    "    - Creates a Pandas DataFrame containing columns following the uniform distribution.\n",
    "    - *Arguments*: \n",
    "        - ```dim (int)```: Sets number of columns in the dataframe. *Default=1*.\n",
    "        - ```size (int)```: Sets number of observations (sample size) in the dataframe. *Default=100*.\n",
    "        - ```state (int)```: Sets the random state when generating data. *Default=None*.\n",
    "    - *Returns*: ```pandas.DataFrame()```\n"
   ]
  },
  {
   "cell_type": "markdown",
   "metadata": {},
   "source": [
    "<b>Sample Implementation</b>  "
   ]
  },
  {
   "cell_type": "code",
   "execution_count": 3,
   "metadata": {},
   "outputs": [
    {
     "data": {
      "text/html": [
       "<div>\n",
       "<style scoped>\n",
       "    .dataframe tbody tr th:only-of-type {\n",
       "        vertical-align: middle;\n",
       "    }\n",
       "\n",
       "    .dataframe tbody tr th {\n",
       "        vertical-align: top;\n",
       "    }\n",
       "\n",
       "    .dataframe thead th {\n",
       "        text-align: right;\n",
       "    }\n",
       "</style>\n",
       "<table border=\"1\" class=\"dataframe\">\n",
       "  <thead>\n",
       "    <tr style=\"text-align: right;\">\n",
       "      <th></th>\n",
       "      <th>CustomerID</th>\n",
       "      <th>Genre</th>\n",
       "      <th>Age</th>\n",
       "      <th>Annual Income (k$)</th>\n",
       "      <th>Spending Score (1-100)</th>\n",
       "    </tr>\n",
       "  </thead>\n",
       "  <tbody>\n",
       "    <tr>\n",
       "      <th>0</th>\n",
       "      <td>1</td>\n",
       "      <td>Male</td>\n",
       "      <td>19</td>\n",
       "      <td>15</td>\n",
       "      <td>39</td>\n",
       "    </tr>\n",
       "    <tr>\n",
       "      <th>1</th>\n",
       "      <td>2</td>\n",
       "      <td>Male</td>\n",
       "      <td>21</td>\n",
       "      <td>15</td>\n",
       "      <td>81</td>\n",
       "    </tr>\n",
       "    <tr>\n",
       "      <th>2</th>\n",
       "      <td>3</td>\n",
       "      <td>Female</td>\n",
       "      <td>20</td>\n",
       "      <td>16</td>\n",
       "      <td>6</td>\n",
       "    </tr>\n",
       "    <tr>\n",
       "      <th>3</th>\n",
       "      <td>4</td>\n",
       "      <td>Female</td>\n",
       "      <td>23</td>\n",
       "      <td>16</td>\n",
       "      <td>77</td>\n",
       "    </tr>\n",
       "    <tr>\n",
       "      <th>4</th>\n",
       "      <td>5</td>\n",
       "      <td>Female</td>\n",
       "      <td>31</td>\n",
       "      <td>17</td>\n",
       "      <td>40</td>\n",
       "    </tr>\n",
       "  </tbody>\n",
       "</table>\n",
       "</div>"
      ],
      "text/plain": [
       "   CustomerID   Genre  Age  Annual Income (k$)  Spending Score (1-100)\n",
       "0           1    Male   19                  15                      39\n",
       "1           2    Male   21                  15                      81\n",
       "2           3  Female   20                  16                       6\n",
       "3           4  Female   23                  16                      77\n",
       "4           5  Female   31                  17                      40"
      ]
     },
     "execution_count": 3,
     "metadata": {},
     "output_type": "execute_result"
    }
   ],
   "source": [
    "x = ucdsc.Data('mall')\n",
    "df = x.dataframe()\n",
    "df.head()"
   ]
  },
  {
   "cell_type": "markdown",
   "metadata": {},
   "source": [
    "<h4><b>script_writer</b></h4>"
   ]
  },
  {
   "cell_type": "markdown",
   "metadata": {},
   "source": [
    "The user can import the ```script_writer``` script with the following code:"
   ]
  },
  {
   "cell_type": "code",
   "execution_count": 1,
   "metadata": {},
   "outputs": [],
   "source": [
    "from uconndatascienceclub import script_writer"
   ]
  },
  {
   "cell_type": "markdown",
   "metadata": {},
   "source": [
    "The ```script_writer``` script allows the user to have an entire technical workshop script (whether it be .ipynb or .py) written into their current working directory. Below are the functions used within ```script_writer```."
   ]
  },
  {
   "cell_type": "markdown",
   "metadata": {},
   "source": [
    "- ```available_dates()```\n",
    "    - Lists dates of previous technical workshops that scripts can be written from.\n",
    "    - *Returns*: ```list```\n",
    "\n",
    "- ```write(date)```\n",
    "    - Writes the script(s) of the technical workshop from the given input date into the user's current working directory.\n",
    "    - *Arguments*:\n",
    "        - ```date (str)```: The date from which the script was demonstrated. Date must be from an available technical workshop (see ```available_dates()```).\n",
    "    - *Returns*: ```None```"
   ]
  },
  {
   "cell_type": "markdown",
   "metadata": {},
   "source": [
    "<b>Sample Implementation</b>  "
   ]
  },
  {
   "cell_type": "code",
   "execution_count": null,
   "metadata": {},
   "outputs": [],
   "source": [
    "from uconndatascienceclub import script_writer\n",
    "\n",
    "script_writer.write('1/30/2025') # advanced data visualization workshop"
   ]
  }
 ],
 "metadata": {
  "kernelspec": {
   "display_name": "Python 3",
   "language": "python",
   "name": "python3"
  },
  "language_info": {
   "codemirror_mode": {
    "name": "ipython",
    "version": 3
   },
   "file_extension": ".py",
   "mimetype": "text/x-python",
   "name": "python",
   "nbconvert_exporter": "python",
   "pygments_lexer": "ipython3",
   "version": "3.11.1"
  }
 },
 "nbformat": 4,
 "nbformat_minor": 2
}
